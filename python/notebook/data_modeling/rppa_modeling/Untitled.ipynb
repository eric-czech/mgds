{
 "cells": [
  {
   "cell_type": "code",
   "execution_count": 1,
   "metadata": {
    "collapsed": true
   },
   "outputs": [],
   "source": [
    "%run -m ipy_startup\n",
    "%run -m ipy_logging false\n",
    "%matplotlib inline\n",
    "from mgds.data_aggregation import database as db\n",
    "from mgds.data_aggregation import source as src\n",
    "from mgds.data_aggregation import data_type as dtyp"
   ]
  },
  {
   "cell_type": "code",
   "execution_count": 2,
   "metadata": {
    "collapsed": false
   },
   "outputs": [
    {
     "data": {
      "text/plain": [
       "dict_keys(['gene-methylation', 'gene-copy-number', 'gene-expression', 'gene-exome-seq', 'gene-rna-seq', 'gene-rppa'])"
      ]
     },
     "execution_count": 2,
     "metadata": {},
     "output_type": "execute_result"
    }
   ],
   "source": [
    "# Load data from data_modeling/prep/tcga-prep.ipynb\n",
    "d = db.load_obj(src.TCGA_v1, db.PREP, 'raw-data-matrices')\n",
    "d.keys()"
   ]
  },
  {
   "cell_type": "code",
   "execution_count": 8,
   "metadata": {
    "collapsed": true
   },
   "outputs": [],
   "source": [
    "cohort = 'brca'"
   ]
  },
  {
   "cell_type": "code",
   "execution_count": 33,
   "metadata": {
    "collapsed": false
   },
   "outputs": [],
   "source": [
    "Y = d[dtyp.GENE_RPPA].loc[cohort]\n",
    "X = d[dtyp.GENE_EXPRESSION].loc[cohort]\n",
    "idx = X.index.intersection(Y.index)\n",
    "X = X.loc[idx].sort_index()\n",
    "Y = Y.loc[idx].sort_index()\n",
    "assert np.all(X.index.values == Y.index.values)"
   ]
  },
  {
   "cell_type": "code",
   "execution_count": 34,
   "metadata": {
    "collapsed": false
   },
   "outputs": [
    {
     "data": {
      "text/html": [
       "<div>\n",
       "<table border=\"1\" class=\"dataframe\">\n",
       "  <thead>\n",
       "    <tr style=\"text-align: right;\">\n",
       "      <th>GENE_ID:HGNC</th>\n",
       "      <th>A1BG</th>\n",
       "      <th>A2M</th>\n",
       "      <th>A2ML1</th>\n",
       "      <th>A3GALT2</th>\n",
       "      <th>A4GALT</th>\n",
       "      <th>A4GNT</th>\n",
       "      <th>AAAS</th>\n",
       "      <th>AACS</th>\n",
       "      <th>AADAC</th>\n",
       "      <th>AADACL2</th>\n",
       "      <th>...</th>\n",
       "      <th>ZUFSP</th>\n",
       "      <th>ZW10</th>\n",
       "      <th>ZWINT</th>\n",
       "      <th>ZXDB</th>\n",
       "      <th>ZXDC</th>\n",
       "      <th>ZYG11A</th>\n",
       "      <th>ZYG11B</th>\n",
       "      <th>ZYX</th>\n",
       "      <th>ZZEF1</th>\n",
       "      <th>ZZZ3</th>\n",
       "    </tr>\n",
       "    <tr>\n",
       "      <th>CELL_LINE_ID</th>\n",
       "      <th></th>\n",
       "      <th></th>\n",
       "      <th></th>\n",
       "      <th></th>\n",
       "      <th></th>\n",
       "      <th></th>\n",
       "      <th></th>\n",
       "      <th></th>\n",
       "      <th></th>\n",
       "      <th></th>\n",
       "      <th></th>\n",
       "      <th></th>\n",
       "      <th></th>\n",
       "      <th></th>\n",
       "      <th></th>\n",
       "      <th></th>\n",
       "      <th></th>\n",
       "      <th></th>\n",
       "      <th></th>\n",
       "      <th></th>\n",
       "      <th></th>\n",
       "    </tr>\n",
       "  </thead>\n",
       "  <tbody>\n",
       "    <tr>\n",
       "      <th>TCGA-A1-A0SH-01</th>\n",
       "      <td>0.9940</td>\n",
       "      <td>0.5123</td>\n",
       "      <td>-0.2112</td>\n",
       "      <td>0.9649</td>\n",
       "      <td>0.2755</td>\n",
       "      <td>0.9241</td>\n",
       "      <td>-0.5275</td>\n",
       "      <td>-0.4739</td>\n",
       "      <td>-0.3418</td>\n",
       "      <td>0.4097</td>\n",
       "      <td>...</td>\n",
       "      <td>-1.1492</td>\n",
       "      <td>-1.8700</td>\n",
       "      <td>-1.0253</td>\n",
       "      <td>0.8076</td>\n",
       "      <td>-1.0386</td>\n",
       "      <td>-0.8912</td>\n",
       "      <td>0.5515</td>\n",
       "      <td>1.2009</td>\n",
       "      <td>-0.5478</td>\n",
       "      <td>-0.2355</td>\n",
       "    </tr>\n",
       "    <tr>\n",
       "      <th>TCGA-A1-A0SJ-01</th>\n",
       "      <td>0.9962</td>\n",
       "      <td>1.0838</td>\n",
       "      <td>0.0373</td>\n",
       "      <td>0.0486</td>\n",
       "      <td>1.2355</td>\n",
       "      <td>0.8174</td>\n",
       "      <td>-1.3146</td>\n",
       "      <td>-0.6204</td>\n",
       "      <td>0.4358</td>\n",
       "      <td>0.1973</td>\n",
       "      <td>...</td>\n",
       "      <td>2.1721</td>\n",
       "      <td>-1.7104</td>\n",
       "      <td>-0.4303</td>\n",
       "      <td>3.0623</td>\n",
       "      <td>-1.0638</td>\n",
       "      <td>-0.6187</td>\n",
       "      <td>0.4065</td>\n",
       "      <td>-0.7444</td>\n",
       "      <td>-1.3830</td>\n",
       "      <td>-0.9887</td>\n",
       "    </tr>\n",
       "    <tr>\n",
       "      <th>TCGA-A1-A0SK-01</th>\n",
       "      <td>-1.1269</td>\n",
       "      <td>-1.7200</td>\n",
       "      <td>-0.2906</td>\n",
       "      <td>1.2407</td>\n",
       "      <td>-1.9239</td>\n",
       "      <td>-0.6677</td>\n",
       "      <td>0.5156</td>\n",
       "      <td>2.3698</td>\n",
       "      <td>-1.3184</td>\n",
       "      <td>4.6618</td>\n",
       "      <td>...</td>\n",
       "      <td>1.5867</td>\n",
       "      <td>3.9775</td>\n",
       "      <td>1.3451</td>\n",
       "      <td>0.1166</td>\n",
       "      <td>0.8926</td>\n",
       "      <td>0.5167</td>\n",
       "      <td>1.2356</td>\n",
       "      <td>-3.0867</td>\n",
       "      <td>-0.9821</td>\n",
       "      <td>0.3458</td>\n",
       "    </tr>\n",
       "    <tr>\n",
       "      <th>TCGA-A1-A0SO-01</th>\n",
       "      <td>2.2930</td>\n",
       "      <td>-1.6865</td>\n",
       "      <td>-0.0321</td>\n",
       "      <td>-1.2594</td>\n",
       "      <td>-2.0328</td>\n",
       "      <td>-0.4425</td>\n",
       "      <td>-0.4925</td>\n",
       "      <td>-1.4713</td>\n",
       "      <td>-0.0874</td>\n",
       "      <td>-0.2195</td>\n",
       "      <td>...</td>\n",
       "      <td>1.3545</td>\n",
       "      <td>0.2617</td>\n",
       "      <td>0.7238</td>\n",
       "      <td>0.9629</td>\n",
       "      <td>-3.2781</td>\n",
       "      <td>0.3424</td>\n",
       "      <td>1.8102</td>\n",
       "      <td>-1.3017</td>\n",
       "      <td>-2.3755</td>\n",
       "      <td>-0.6290</td>\n",
       "    </tr>\n",
       "    <tr>\n",
       "      <th>TCGA-A2-A04N-01</th>\n",
       "      <td>-0.0911</td>\n",
       "      <td>-0.4117</td>\n",
       "      <td>0.0852</td>\n",
       "      <td>0.6102</td>\n",
       "      <td>-1.1284</td>\n",
       "      <td>-0.3005</td>\n",
       "      <td>-0.4070</td>\n",
       "      <td>-1.2695</td>\n",
       "      <td>-0.3801</td>\n",
       "      <td>-0.1100</td>\n",
       "      <td>...</td>\n",
       "      <td>0.6828</td>\n",
       "      <td>-0.3278</td>\n",
       "      <td>-0.3443</td>\n",
       "      <td>1.1820</td>\n",
       "      <td>-1.2210</td>\n",
       "      <td>-0.0157</td>\n",
       "      <td>-0.1639</td>\n",
       "      <td>-2.5433</td>\n",
       "      <td>-0.3013</td>\n",
       "      <td>1.3483</td>\n",
       "    </tr>\n",
       "  </tbody>\n",
       "</table>\n",
       "<p>5 rows × 16810 columns</p>\n",
       "</div>"
      ],
      "text/plain": [
       "GENE_ID:HGNC       A1BG     A2M   A2ML1  A3GALT2  A4GALT   A4GNT    AAAS  \\\n",
       "CELL_LINE_ID                                                               \n",
       "TCGA-A1-A0SH-01  0.9940  0.5123 -0.2112   0.9649  0.2755  0.9241 -0.5275   \n",
       "TCGA-A1-A0SJ-01  0.9962  1.0838  0.0373   0.0486  1.2355  0.8174 -1.3146   \n",
       "TCGA-A1-A0SK-01 -1.1269 -1.7200 -0.2906   1.2407 -1.9239 -0.6677  0.5156   \n",
       "TCGA-A1-A0SO-01  2.2930 -1.6865 -0.0321  -1.2594 -2.0328 -0.4425 -0.4925   \n",
       "TCGA-A2-A04N-01 -0.0911 -0.4117  0.0852   0.6102 -1.1284 -0.3005 -0.4070   \n",
       "\n",
       "GENE_ID:HGNC       AACS   AADAC  AADACL2   ...     ZUFSP    ZW10   ZWINT  \\\n",
       "CELL_LINE_ID                               ...                             \n",
       "TCGA-A1-A0SH-01 -0.4739 -0.3418   0.4097   ...   -1.1492 -1.8700 -1.0253   \n",
       "TCGA-A1-A0SJ-01 -0.6204  0.4358   0.1973   ...    2.1721 -1.7104 -0.4303   \n",
       "TCGA-A1-A0SK-01  2.3698 -1.3184   4.6618   ...    1.5867  3.9775  1.3451   \n",
       "TCGA-A1-A0SO-01 -1.4713 -0.0874  -0.2195   ...    1.3545  0.2617  0.7238   \n",
       "TCGA-A2-A04N-01 -1.2695 -0.3801  -0.1100   ...    0.6828 -0.3278 -0.3443   \n",
       "\n",
       "GENE_ID:HGNC       ZXDB    ZXDC  ZYG11A  ZYG11B     ZYX   ZZEF1    ZZZ3  \n",
       "CELL_LINE_ID                                                             \n",
       "TCGA-A1-A0SH-01  0.8076 -1.0386 -0.8912  0.5515  1.2009 -0.5478 -0.2355  \n",
       "TCGA-A1-A0SJ-01  3.0623 -1.0638 -0.6187  0.4065 -0.7444 -1.3830 -0.9887  \n",
       "TCGA-A1-A0SK-01  0.1166  0.8926  0.5167  1.2356 -3.0867 -0.9821  0.3458  \n",
       "TCGA-A1-A0SO-01  0.9629 -3.2781  0.3424  1.8102 -1.3017 -2.3755 -0.6290  \n",
       "TCGA-A2-A04N-01  1.1820 -1.2210 -0.0157 -0.1639 -2.5433 -0.3013  1.3483  \n",
       "\n",
       "[5 rows x 16810 columns]"
      ]
     },
     "execution_count": 34,
     "metadata": {},
     "output_type": "execute_result"
    }
   ],
   "source": [
    "X.head()"
   ]
  },
  {
   "cell_type": "code",
   "execution_count": 37,
   "metadata": {
    "collapsed": false
   },
   "outputs": [
    {
     "data": {
      "text/plain": [
       "(403, 16810)"
      ]
     },
     "execution_count": 37,
     "metadata": {},
     "output_type": "execute_result"
    }
   ],
   "source": [
    "X.shape"
   ]
  },
  {
   "cell_type": "code",
   "execution_count": 38,
   "metadata": {
    "collapsed": false
   },
   "outputs": [
    {
     "data": {
      "text/plain": [
       "(403, 172)"
      ]
     },
     "execution_count": 38,
     "metadata": {},
     "output_type": "execute_result"
    }
   ],
   "source": [
    "Y.shape"
   ]
  },
  {
   "cell_type": "code",
   "execution_count": 39,
   "metadata": {
    "collapsed": false
   },
   "outputs": [
    {
     "data": {
      "text/plain": [
       "(844, 172)"
      ]
     },
     "execution_count": 39,
     "metadata": {},
     "output_type": "execute_result"
    }
   ],
   "source": [
    "d[dtyp.GENE_RPPA].loc[cohort].shape"
   ]
  },
  {
   "cell_type": "code",
   "execution_count": null,
   "metadata": {
    "collapsed": true
   },
   "outputs": [],
   "source": []
  }
 ],
 "metadata": {
  "anaconda-cloud": {},
  "kernelspec": {
   "display_name": "Python [default]",
   "language": "python",
   "name": "python3"
  },
  "language_info": {
   "codemirror_mode": {
    "name": "ipython",
    "version": 3
   },
   "file_extension": ".py",
   "mimetype": "text/x-python",
   "name": "python",
   "nbconvert_exporter": "python",
   "pygments_lexer": "ipython3",
   "version": "3.5.2"
  }
 },
 "nbformat": 4,
 "nbformat_minor": 2
}
