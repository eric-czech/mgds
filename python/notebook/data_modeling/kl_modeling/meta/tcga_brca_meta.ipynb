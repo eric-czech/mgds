{
 "cells": [
  {
   "cell_type": "markdown",
   "metadata": {},
   "source": [
    "# TCGA Meta Prep\n",
    "\n",
    "The purpose of this notebook is to analyze and prepare BRCA TCGA metadata"
   ]
  },
  {
   "cell_type": "code",
   "execution_count": 58,
   "metadata": {
    "collapsed": false
   },
   "outputs": [],
   "source": [
    "%run -m ipy_startup\n",
    "from mgds.data_aggregation.import_lib import cgds\n",
    "from mgds.data_aggregation.import_lib import tcga\n",
    "from mgds.data_aggregation import database as db\n",
    "from mgds.data_aggregation import source as src\n",
    "from mgds.data_aggregation import data_type as dtyp"
   ]
  },
  {
   "cell_type": "code",
   "execution_count": 30,
   "metadata": {
    "collapsed": false
   },
   "outputs": [
    {
     "name": "stdout",
     "output_type": "stream",
     "text": [
      "<class 'pandas.core.frame.DataFrame'>\n",
      "Index: 1105 entries, TCGA-A7-A3J0-01 to TCGA-AN-A0FD-01\n",
      "Columns: 108 entries, AGE to COHORT\n",
      "dtypes: bool(1), float64(19), int64(1), object(87)\n",
      "memory usage: 933.4+ KB\n"
     ]
    }
   ],
   "source": [
    "d_tcga_meta = tcga.load_clinical_data(cohorts=['brca']).set_index('CASE_ID')\n",
    "#d_tcga_meta = cgds.prep_clinical_data(d_tcga_meta, keep_cols=['COHORT'])\n",
    "d_tcga_meta.info()"
   ]
  },
  {
   "cell_type": "code",
   "execution_count": 31,
   "metadata": {
    "collapsed": false
   },
   "outputs": [
    {
     "data": {
      "text/html": [
       "<div>\n",
       "<table border=\"1\" class=\"dataframe\">\n",
       "  <thead>\n",
       "    <tr style=\"text-align: right;\">\n",
       "      <th></th>\n",
       "      <th>AGE</th>\n",
       "      <th>AJCC_METASTASIS_PATHOLOGIC_PM</th>\n",
       "      <th>AJCC_NODES_PATHOLOGIC_PN</th>\n",
       "      <th>AJCC_PATHOLOGIC_TUMOR_STAGE</th>\n",
       "      <th>AJCC_STAGING_EDITION</th>\n",
       "      <th>AJCC_TUMOR_PATHOLOGIC_PT</th>\n",
       "      <th>BRACHYTHERAPY_TOTAL_DOSE_POINT_A</th>\n",
       "      <th>CANCER_TYPE</th>\n",
       "      <th>CANCER_TYPE_DETAILED</th>\n",
       "      <th>CENT17_COPY_NUMBER</th>\n",
       "      <th>...</th>\n",
       "      <th>STAGING_SYSTEM_OTHER</th>\n",
       "      <th>SURGERY_FOR_POSITIVE_MARGINS</th>\n",
       "      <th>SURGERY_FOR_POSITIVE_MARGINS_OTHER</th>\n",
       "      <th>SURGICAL_PROCEDURE_FIRST</th>\n",
       "      <th>TISSUE_SOURCE_SITE</th>\n",
       "      <th>TUMOR_STATUS</th>\n",
       "      <th>TUMOR_TISSUE_SITE</th>\n",
       "      <th>VIAL_NUMBER</th>\n",
       "      <th>VITAL_STATUS</th>\n",
       "      <th>COHORT</th>\n",
       "    </tr>\n",
       "    <tr>\n",
       "      <th>CASE_ID</th>\n",
       "      <th></th>\n",
       "      <th></th>\n",
       "      <th></th>\n",
       "      <th></th>\n",
       "      <th></th>\n",
       "      <th></th>\n",
       "      <th></th>\n",
       "      <th></th>\n",
       "      <th></th>\n",
       "      <th></th>\n",
       "      <th></th>\n",
       "      <th></th>\n",
       "      <th></th>\n",
       "      <th></th>\n",
       "      <th></th>\n",
       "      <th></th>\n",
       "      <th></th>\n",
       "      <th></th>\n",
       "      <th></th>\n",
       "      <th></th>\n",
       "      <th></th>\n",
       "    </tr>\n",
       "  </thead>\n",
       "  <tbody>\n",
       "    <tr>\n",
       "      <th>TCGA-A7-A3J0-01</th>\n",
       "      <td>62.0</td>\n",
       "      <td>M0</td>\n",
       "      <td>N0</td>\n",
       "      <td>Stage IIA</td>\n",
       "      <td>7th</td>\n",
       "      <td>T2</td>\n",
       "      <td>NaN</td>\n",
       "      <td>Breast Cancer</td>\n",
       "      <td>Breast Invasive Mixed Mucinous Carcinoma</td>\n",
       "      <td>NaN</td>\n",
       "      <td>...</td>\n",
       "      <td>NaN</td>\n",
       "      <td>NaN</td>\n",
       "      <td>NaN</td>\n",
       "      <td>Lumpectomy</td>\n",
       "      <td>A7</td>\n",
       "      <td>TUMOR FREE</td>\n",
       "      <td>Breast</td>\n",
       "      <td>A</td>\n",
       "      <td>Alive</td>\n",
       "      <td>brca</td>\n",
       "    </tr>\n",
       "    <tr>\n",
       "      <th>TCGA-OL-A66N-01</th>\n",
       "      <td>59.0</td>\n",
       "      <td>MX</td>\n",
       "      <td>N3</td>\n",
       "      <td>Stage IIIC</td>\n",
       "      <td>7th</td>\n",
       "      <td>T3</td>\n",
       "      <td>NaN</td>\n",
       "      <td>Breast Cancer</td>\n",
       "      <td>Breast Invasive Lobular Carcinoma</td>\n",
       "      <td>NaN</td>\n",
       "      <td>...</td>\n",
       "      <td>NaN</td>\n",
       "      <td>NaN</td>\n",
       "      <td>NaN</td>\n",
       "      <td>Modified Radical Mastectomy</td>\n",
       "      <td>OL</td>\n",
       "      <td>TUMOR FREE</td>\n",
       "      <td>Breast</td>\n",
       "      <td>A</td>\n",
       "      <td>Alive</td>\n",
       "      <td>brca</td>\n",
       "    </tr>\n",
       "    <tr>\n",
       "      <th>TCGA-AQ-A0Y5-01</th>\n",
       "      <td>70.0</td>\n",
       "      <td>MX</td>\n",
       "      <td>N2a</td>\n",
       "      <td>Stage IIIA</td>\n",
       "      <td>7th</td>\n",
       "      <td>T2</td>\n",
       "      <td>NaN</td>\n",
       "      <td>Breast Cancer</td>\n",
       "      <td>Breast Invasive Ductal Carcinoma</td>\n",
       "      <td>NaN</td>\n",
       "      <td>...</td>\n",
       "      <td>NaN</td>\n",
       "      <td>NaN</td>\n",
       "      <td>NaN</td>\n",
       "      <td>Modified Radical Mastectomy</td>\n",
       "      <td>AQ</td>\n",
       "      <td>TUMOR FREE</td>\n",
       "      <td>Breast</td>\n",
       "      <td>A</td>\n",
       "      <td>Dead</td>\n",
       "      <td>brca</td>\n",
       "    </tr>\n",
       "    <tr>\n",
       "      <th>TCGA-E9-A22H-01</th>\n",
       "      <td>42.0</td>\n",
       "      <td>M0</td>\n",
       "      <td>N1</td>\n",
       "      <td>Stage IIB</td>\n",
       "      <td>7th</td>\n",
       "      <td>T2</td>\n",
       "      <td>NaN</td>\n",
       "      <td>Breast Cancer</td>\n",
       "      <td>Breast Invasive Ductal Carcinoma</td>\n",
       "      <td>NaN</td>\n",
       "      <td>...</td>\n",
       "      <td>NaN</td>\n",
       "      <td>NaN</td>\n",
       "      <td>NaN</td>\n",
       "      <td>Modified Radical Mastectomy</td>\n",
       "      <td>E9</td>\n",
       "      <td>TUMOR FREE</td>\n",
       "      <td>Breast</td>\n",
       "      <td>A</td>\n",
       "      <td>Alive</td>\n",
       "      <td>brca</td>\n",
       "    </tr>\n",
       "    <tr>\n",
       "      <th>TCGA-BH-A0EB-01</th>\n",
       "      <td>69.0</td>\n",
       "      <td>M0</td>\n",
       "      <td>N0 (i-)</td>\n",
       "      <td>Stage IA</td>\n",
       "      <td>NaN</td>\n",
       "      <td>T1c</td>\n",
       "      <td>H-SCORE 300</td>\n",
       "      <td>Breast Cancer</td>\n",
       "      <td>Breast Invasive Ductal Carcinoma</td>\n",
       "      <td>2.13</td>\n",
       "      <td>...</td>\n",
       "      <td>NaN</td>\n",
       "      <td>NaN</td>\n",
       "      <td>NaN</td>\n",
       "      <td>Other</td>\n",
       "      <td>BH</td>\n",
       "      <td>TUMOR FREE</td>\n",
       "      <td>Breast</td>\n",
       "      <td>A</td>\n",
       "      <td>Alive</td>\n",
       "      <td>brca</td>\n",
       "    </tr>\n",
       "  </tbody>\n",
       "</table>\n",
       "<p>5 rows × 108 columns</p>\n",
       "</div>"
      ],
      "text/plain": [
       "                  AGE AJCC_METASTASIS_PATHOLOGIC_PM AJCC_NODES_PATHOLOGIC_PN  \\\n",
       "CASE_ID                                                                        \n",
       "TCGA-A7-A3J0-01  62.0                            M0                       N0   \n",
       "TCGA-OL-A66N-01  59.0                            MX                       N3   \n",
       "TCGA-AQ-A0Y5-01  70.0                            MX                      N2a   \n",
       "TCGA-E9-A22H-01  42.0                            M0                       N1   \n",
       "TCGA-BH-A0EB-01  69.0                            M0                  N0 (i-)   \n",
       "\n",
       "                AJCC_PATHOLOGIC_TUMOR_STAGE AJCC_STAGING_EDITION  \\\n",
       "CASE_ID                                                            \n",
       "TCGA-A7-A3J0-01                   Stage IIA                  7th   \n",
       "TCGA-OL-A66N-01                  Stage IIIC                  7th   \n",
       "TCGA-AQ-A0Y5-01                  Stage IIIA                  7th   \n",
       "TCGA-E9-A22H-01                   Stage IIB                  7th   \n",
       "TCGA-BH-A0EB-01                    Stage IA                  NaN   \n",
       "\n",
       "                AJCC_TUMOR_PATHOLOGIC_PT BRACHYTHERAPY_TOTAL_DOSE_POINT_A  \\\n",
       "CASE_ID                                                                     \n",
       "TCGA-A7-A3J0-01                       T2                              NaN   \n",
       "TCGA-OL-A66N-01                       T3                              NaN   \n",
       "TCGA-AQ-A0Y5-01                       T2                              NaN   \n",
       "TCGA-E9-A22H-01                       T2                              NaN   \n",
       "TCGA-BH-A0EB-01                      T1c                      H-SCORE 300   \n",
       "\n",
       "                   CANCER_TYPE                      CANCER_TYPE_DETAILED  \\\n",
       "CASE_ID                                                                    \n",
       "TCGA-A7-A3J0-01  Breast Cancer  Breast Invasive Mixed Mucinous Carcinoma   \n",
       "TCGA-OL-A66N-01  Breast Cancer         Breast Invasive Lobular Carcinoma   \n",
       "TCGA-AQ-A0Y5-01  Breast Cancer          Breast Invasive Ductal Carcinoma   \n",
       "TCGA-E9-A22H-01  Breast Cancer          Breast Invasive Ductal Carcinoma   \n",
       "TCGA-BH-A0EB-01  Breast Cancer          Breast Invasive Ductal Carcinoma   \n",
       "\n",
       "                CENT17_COPY_NUMBER  ...    STAGING_SYSTEM_OTHER  \\\n",
       "CASE_ID                             ...                           \n",
       "TCGA-A7-A3J0-01                NaN  ...                     NaN   \n",
       "TCGA-OL-A66N-01                NaN  ...                     NaN   \n",
       "TCGA-AQ-A0Y5-01                NaN  ...                     NaN   \n",
       "TCGA-E9-A22H-01                NaN  ...                     NaN   \n",
       "TCGA-BH-A0EB-01               2.13  ...                     NaN   \n",
       "\n",
       "                 SURGERY_FOR_POSITIVE_MARGINS  \\\n",
       "CASE_ID                                         \n",
       "TCGA-A7-A3J0-01                           NaN   \n",
       "TCGA-OL-A66N-01                           NaN   \n",
       "TCGA-AQ-A0Y5-01                           NaN   \n",
       "TCGA-E9-A22H-01                           NaN   \n",
       "TCGA-BH-A0EB-01                           NaN   \n",
       "\n",
       "                 SURGERY_FOR_POSITIVE_MARGINS_OTHER  \\\n",
       "CASE_ID                                               \n",
       "TCGA-A7-A3J0-01                                 NaN   \n",
       "TCGA-OL-A66N-01                                 NaN   \n",
       "TCGA-AQ-A0Y5-01                                 NaN   \n",
       "TCGA-E9-A22H-01                                 NaN   \n",
       "TCGA-BH-A0EB-01                                 NaN   \n",
       "\n",
       "                    SURGICAL_PROCEDURE_FIRST  TISSUE_SOURCE_SITE  \\\n",
       "CASE_ID                                                            \n",
       "TCGA-A7-A3J0-01                   Lumpectomy                  A7   \n",
       "TCGA-OL-A66N-01  Modified Radical Mastectomy                  OL   \n",
       "TCGA-AQ-A0Y5-01  Modified Radical Mastectomy                  AQ   \n",
       "TCGA-E9-A22H-01  Modified Radical Mastectomy                  E9   \n",
       "TCGA-BH-A0EB-01                        Other                  BH   \n",
       "\n",
       "                 TUMOR_STATUS TUMOR_TISSUE_SITE VIAL_NUMBER VITAL_STATUS  \\\n",
       "CASE_ID                                                                    \n",
       "TCGA-A7-A3J0-01    TUMOR FREE            Breast           A        Alive   \n",
       "TCGA-OL-A66N-01    TUMOR FREE            Breast           A        Alive   \n",
       "TCGA-AQ-A0Y5-01    TUMOR FREE            Breast           A         Dead   \n",
       "TCGA-E9-A22H-01    TUMOR FREE            Breast           A        Alive   \n",
       "TCGA-BH-A0EB-01    TUMOR FREE            Breast           A        Alive   \n",
       "\n",
       "                COHORT  \n",
       "CASE_ID                 \n",
       "TCGA-A7-A3J0-01   brca  \n",
       "TCGA-OL-A66N-01   brca  \n",
       "TCGA-AQ-A0Y5-01   brca  \n",
       "TCGA-E9-A22H-01   brca  \n",
       "TCGA-BH-A0EB-01   brca  \n",
       "\n",
       "[5 rows x 108 columns]"
      ]
     },
     "execution_count": 31,
     "metadata": {},
     "output_type": "execute_result"
    }
   ],
   "source": [
    "d_tcga_meta.head()"
   ]
  },
  {
   "cell_type": "code",
   "execution_count": 32,
   "metadata": {
    "collapsed": true
   },
   "outputs": [],
   "source": [
    "status_cols = [\n",
    "    'NTE_ER_STATUS',\n",
    "    'ER_STATUS_BY_IHC',\n",
    "    \n",
    "    'IHC_HER2',\n",
    "    'HER2_FISH_STATUS',\n",
    "    \n",
    "    'PR_STATUS_BY_IHC',\n",
    "    'NTE_PR_STATUS_BY_IHC'\n",
    "]\n",
    "\n",
    "meta_cols = [    \n",
    "    'DFS_STATUS',   # Recurrent vs DiseaseFree\n",
    "    'VITAL_STATUS'  # Alive/Dead\n",
    "]"
   ]
  },
  {
   "cell_type": "code",
   "execution_count": 33,
   "metadata": {
    "collapsed": false
   },
   "outputs": [
    {
     "name": "stdout",
     "output_type": "stream",
     "text": [
      "<class 'pandas.core.frame.DataFrame'>\n",
      "Index: 1105 entries, TCGA-A7-A3J0-01 to TCGA-AN-A0FD-01\n",
      "Data columns (total 6 columns):\n",
      "NTE_ER_STATUS           13 non-null object\n",
      "ER_STATUS_BY_IHC        1054 non-null object\n",
      "IHC_HER2                922 non-null object\n",
      "HER2_FISH_STATUS        422 non-null object\n",
      "PR_STATUS_BY_IHC        1053 non-null object\n",
      "NTE_PR_STATUS_BY_IHC    12 non-null object\n",
      "dtypes: object(6)\n",
      "memory usage: 60.4+ KB\n"
     ]
    }
   ],
   "source": [
    "d_tcga_meta[status_cols].info()"
   ]
  },
  {
   "cell_type": "code",
   "execution_count": 34,
   "metadata": {
    "collapsed": false
   },
   "outputs": [
    {
     "data": {
      "text/plain": [
       "x           1092\n",
       "Positive       9\n",
       "Negative       4\n",
       "Name: NTE_ER_STATUS, dtype: int64"
      ]
     },
     "execution_count": 34,
     "metadata": {},
     "output_type": "execute_result"
    }
   ],
   "source": [
    "d_tcga_meta['NTE_ER_STATUS'].fillna('x').value_counts()"
   ]
  },
  {
   "cell_type": "code",
   "execution_count": 35,
   "metadata": {
    "collapsed": false
   },
   "outputs": [
    {
     "data": {
      "text/plain": [
       "Positive         813\n",
       "Negative         239\n",
       "x                 51\n",
       "Indeterminate      2\n",
       "Name: ER_STATUS_BY_IHC, dtype: int64"
      ]
     },
     "execution_count": 35,
     "metadata": {},
     "output_type": "execute_result"
    }
   ],
   "source": [
    "d_tcga_meta['ER_STATUS_BY_IHC'].fillna('x').value_counts()"
   ]
  },
  {
   "cell_type": "code",
   "execution_count": 50,
   "metadata": {
    "collapsed": true
   },
   "outputs": [],
   "source": [
    "def get_cancer_status(r):\n",
    "    \"\"\" Resolve various status values to ER +/-, PR +/-, HER2 +/-\"\"\"\n",
    "    r = r.fillna('Unknown')\n",
    "    r = r.apply(lambda v: 'Unknown' if v == 'Indeterminate' or v == 'Equivocal' or pd.isnull(v) else v)\n",
    "    \n",
    "    if not np.all(r.isin(['Positive', 'Negative', 'Unknown'])):\n",
    "        print('Encountered unexpected value: {}'.format(r.unique()))\n",
    "    assert np.all(r.isin(['Positive', 'Negative', 'Unknown']))\n",
    "    \n",
    "    # ER status\n",
    "    er_nte = r['NTE_ER_STATUS']    # Very sparse\n",
    "    er_ihc = r['ER_STATUS_BY_IHC'] # Few null\n",
    "    er_conflict = False\n",
    "    if er_nte != 'Unknown' and er_ihc != 'Unknown':\n",
    "        if er_nte != er_ihc:\n",
    "            er_conflict = True\n",
    "    if er_ihc != 'Unknown':\n",
    "        er = er_ihc\n",
    "    else:\n",
    "        er = er_nte\n",
    "    \n",
    "    # PR status\n",
    "    pr_nte = r['NTE_PR_STATUS_BY_IHC'] # Very sparse\n",
    "    pr_ihc = r['PR_STATUS_BY_IHC']     # Few null\n",
    "    pr_conflict = False\n",
    "    if pr_nte != 'Unknown' and pr_ihc != 'Unknown':\n",
    "        if pr_nte != pr_ihc:\n",
    "            pr_conflict = True\n",
    "    if pr_ihc != 'Unknown':\n",
    "        pr = pr_ihc\n",
    "    else:\n",
    "        pr = pr_nte\n",
    "        \n",
    "    # HER2 status\n",
    "    her2_fis = r['HER2_FISH_STATUS'] # About half as present as below\n",
    "    her2_ihc = r['IHC_HER2']         # Few null\n",
    "    her2_conflict = False\n",
    "    if her2_ihc != 'Unknown' and her2_fis != 'Unknown':\n",
    "        if her2_ihc != her2_fis:\n",
    "            her2_conflict = True\n",
    "    if her2_ihc != 'Unknown':\n",
    "        her2 = her2_ihc\n",
    "    else:\n",
    "        her2 = her2_fis\n",
    "        \n",
    "    triple_negative = (er == pr == her2 == 'Negative')\n",
    "    triple_negative = 'Positive' if triple_negative else 'Negative'\n",
    "    return pd.Series({\n",
    "        'HER2_STATUS': her2, 'ER_STATUS': er, 'PR_STATUS': pr, 'TN_STATUS': triple_negative,\n",
    "        'HER2_CONFLICT': her2_conflict, 'ER_CONFLICT': er_conflict, 'PR_CONFLICT': pr_conflict\n",
    "    })"
   ]
  },
  {
   "cell_type": "code",
   "execution_count": 51,
   "metadata": {
    "collapsed": false
   },
   "outputs": [
    {
     "data": {
      "text/html": [
       "<div>\n",
       "<table border=\"1\" class=\"dataframe\">\n",
       "  <thead>\n",
       "    <tr style=\"text-align: right;\">\n",
       "      <th></th>\n",
       "      <th>DFS_STATUS</th>\n",
       "      <th>VITAL_STATUS</th>\n",
       "      <th>ER_CONFLICT</th>\n",
       "      <th>ER_STATUS</th>\n",
       "      <th>HER2_CONFLICT</th>\n",
       "      <th>HER2_STATUS</th>\n",
       "      <th>PR_CONFLICT</th>\n",
       "      <th>PR_STATUS</th>\n",
       "      <th>TN_STATUS</th>\n",
       "    </tr>\n",
       "    <tr>\n",
       "      <th>Sample</th>\n",
       "      <th></th>\n",
       "      <th></th>\n",
       "      <th></th>\n",
       "      <th></th>\n",
       "      <th></th>\n",
       "      <th></th>\n",
       "      <th></th>\n",
       "      <th></th>\n",
       "      <th></th>\n",
       "    </tr>\n",
       "  </thead>\n",
       "  <tbody>\n",
       "    <tr>\n",
       "      <th>TCGA-A7-A3J0-01</th>\n",
       "      <td>DiseaseFree</td>\n",
       "      <td>Alive</td>\n",
       "      <td>False</td>\n",
       "      <td>Positive</td>\n",
       "      <td>False</td>\n",
       "      <td>Negative</td>\n",
       "      <td>False</td>\n",
       "      <td>Positive</td>\n",
       "      <td>Negative</td>\n",
       "    </tr>\n",
       "    <tr>\n",
       "      <th>TCGA-OL-A66N-01</th>\n",
       "      <td>DiseaseFree</td>\n",
       "      <td>Alive</td>\n",
       "      <td>False</td>\n",
       "      <td>Positive</td>\n",
       "      <td>False</td>\n",
       "      <td>Negative</td>\n",
       "      <td>False</td>\n",
       "      <td>Negative</td>\n",
       "      <td>Negative</td>\n",
       "    </tr>\n",
       "    <tr>\n",
       "      <th>TCGA-AQ-A0Y5-01</th>\n",
       "      <td>Unknown</td>\n",
       "      <td>Dead</td>\n",
       "      <td>False</td>\n",
       "      <td>Positive</td>\n",
       "      <td>False</td>\n",
       "      <td>Positive</td>\n",
       "      <td>False</td>\n",
       "      <td>Positive</td>\n",
       "      <td>Negative</td>\n",
       "    </tr>\n",
       "    <tr>\n",
       "      <th>TCGA-E9-A22H-01</th>\n",
       "      <td>DiseaseFree</td>\n",
       "      <td>Alive</td>\n",
       "      <td>False</td>\n",
       "      <td>Positive</td>\n",
       "      <td>False</td>\n",
       "      <td>Positive</td>\n",
       "      <td>False</td>\n",
       "      <td>Positive</td>\n",
       "      <td>Negative</td>\n",
       "    </tr>\n",
       "    <tr>\n",
       "      <th>TCGA-BH-A0EB-01</th>\n",
       "      <td>DiseaseFree</td>\n",
       "      <td>Alive</td>\n",
       "      <td>False</td>\n",
       "      <td>Positive</td>\n",
       "      <td>False</td>\n",
       "      <td>Negative</td>\n",
       "      <td>False</td>\n",
       "      <td>Positive</td>\n",
       "      <td>Negative</td>\n",
       "    </tr>\n",
       "  </tbody>\n",
       "</table>\n",
       "</div>"
      ],
      "text/plain": [
       "                  DFS_STATUS VITAL_STATUS ER_CONFLICT ER_STATUS HER2_CONFLICT  \\\n",
       "Sample                                                                          \n",
       "TCGA-A7-A3J0-01  DiseaseFree        Alive       False  Positive         False   \n",
       "TCGA-OL-A66N-01  DiseaseFree        Alive       False  Positive         False   \n",
       "TCGA-AQ-A0Y5-01      Unknown         Dead       False  Positive         False   \n",
       "TCGA-E9-A22H-01  DiseaseFree        Alive       False  Positive         False   \n",
       "TCGA-BH-A0EB-01  DiseaseFree        Alive       False  Positive         False   \n",
       "\n",
       "                HER2_STATUS PR_CONFLICT PR_STATUS TN_STATUS  \n",
       "Sample                                                       \n",
       "TCGA-A7-A3J0-01    Negative       False  Positive  Negative  \n",
       "TCGA-OL-A66N-01    Negative       False  Negative  Negative  \n",
       "TCGA-AQ-A0Y5-01    Positive       False  Positive  Negative  \n",
       "TCGA-E9-A22H-01    Positive       False  Positive  Negative  \n",
       "TCGA-BH-A0EB-01    Negative       False  Positive  Negative  "
      ]
     },
     "execution_count": 51,
     "metadata": {},
     "output_type": "execute_result"
    }
   ],
   "source": [
    "d_meta = pd.concat([\n",
    "    d_tcga_meta[meta_cols].fillna('Unknown'),\n",
    "    d_tcga_meta[status_cols].apply(get_cancer_status, axis=1)\n",
    "], axis=1)\n",
    "d_meta.index.name = 'Sample'\n",
    "d_meta.head()"
   ]
  },
  {
   "cell_type": "code",
   "execution_count": 52,
   "metadata": {
    "collapsed": false
   },
   "outputs": [
    {
     "data": {
      "text/html": [
       "<div>\n",
       "<table border=\"1\" class=\"dataframe\">\n",
       "  <thead>\n",
       "    <tr style=\"text-align: right;\">\n",
       "      <th></th>\n",
       "      <th>ER_CONFLICT</th>\n",
       "      <th>HER2_CONFLICT</th>\n",
       "      <th>PR_CONFLICT</th>\n",
       "    </tr>\n",
       "  </thead>\n",
       "  <tbody>\n",
       "    <tr>\n",
       "      <th>False</th>\n",
       "      <td>1105.0</td>\n",
       "      <td>1090</td>\n",
       "      <td>1104</td>\n",
       "    </tr>\n",
       "    <tr>\n",
       "      <th>True</th>\n",
       "      <td>NaN</td>\n",
       "      <td>15</td>\n",
       "      <td>1</td>\n",
       "    </tr>\n",
       "  </tbody>\n",
       "</table>\n",
       "</div>"
      ],
      "text/plain": [
       "       ER_CONFLICT  HER2_CONFLICT  PR_CONFLICT\n",
       "False       1105.0           1090         1104\n",
       "True           NaN             15            1"
      ]
     },
     "execution_count": 52,
     "metadata": {},
     "output_type": "execute_result"
    }
   ],
   "source": [
    "d_meta.filter(regex='CONFLICT').apply(pd.Series.value_counts)"
   ]
  },
  {
   "cell_type": "code",
   "execution_count": 53,
   "metadata": {
    "collapsed": false
   },
   "outputs": [
    {
     "name": "stdout",
     "output_type": "stream",
     "text": [
      "<class 'pandas.core.frame.DataFrame'>\n",
      "Index: 1105 entries, TCGA-A7-A3J0-01 to TCGA-AN-A0FD-01\n",
      "Data columns (total 6 columns):\n",
      "DFS_STATUS      1105 non-null object\n",
      "VITAL_STATUS    1105 non-null object\n",
      "ER_STATUS       1105 non-null object\n",
      "HER2_STATUS     1105 non-null object\n",
      "PR_STATUS       1105 non-null object\n",
      "TN_STATUS       1105 non-null object\n",
      "dtypes: object(6)\n",
      "memory usage: 60.4+ KB\n"
     ]
    }
   ],
   "source": [
    "d_meta = d_meta.drop(d_meta.filter(regex='CONFLICT').columns.tolist(), axis=1)\n",
    "d_meta.info()"
   ]
  },
  {
   "cell_type": "code",
   "execution_count": 54,
   "metadata": {
    "collapsed": false
   },
   "outputs": [
    {
     "data": {
      "text/html": [
       "<div>\n",
       "<table border=\"1\" class=\"dataframe\">\n",
       "  <thead>\n",
       "    <tr style=\"text-align: right;\">\n",
       "      <th></th>\n",
       "      <th>DFS_STATUS</th>\n",
       "      <th>VITAL_STATUS</th>\n",
       "      <th>ER_STATUS</th>\n",
       "      <th>HER2_STATUS</th>\n",
       "      <th>PR_STATUS</th>\n",
       "      <th>TN_STATUS</th>\n",
       "    </tr>\n",
       "  </thead>\n",
       "  <tbody>\n",
       "    <tr>\n",
       "      <th>Alive</th>\n",
       "      <td>NaN</td>\n",
       "      <td>948.0</td>\n",
       "      <td>NaN</td>\n",
       "      <td>NaN</td>\n",
       "      <td>NaN</td>\n",
       "      <td>NaN</td>\n",
       "    </tr>\n",
       "    <tr>\n",
       "      <th>Dead</th>\n",
       "      <td>NaN</td>\n",
       "      <td>155.0</td>\n",
       "      <td>NaN</td>\n",
       "      <td>NaN</td>\n",
       "      <td>NaN</td>\n",
       "      <td>NaN</td>\n",
       "    </tr>\n",
       "    <tr>\n",
       "      <th>DiseaseFree</th>\n",
       "      <td>896.0</td>\n",
       "      <td>NaN</td>\n",
       "      <td>NaN</td>\n",
       "      <td>NaN</td>\n",
       "      <td>NaN</td>\n",
       "      <td>NaN</td>\n",
       "    </tr>\n",
       "    <tr>\n",
       "      <th>Negative</th>\n",
       "      <td>NaN</td>\n",
       "      <td>NaN</td>\n",
       "      <td>239.0</td>\n",
       "      <td>766.0</td>\n",
       "      <td>345.0</td>\n",
       "      <td>944.0</td>\n",
       "    </tr>\n",
       "    <tr>\n",
       "      <th>Positive</th>\n",
       "      <td>NaN</td>\n",
       "      <td>NaN</td>\n",
       "      <td>813.0</td>\n",
       "      <td>195.0</td>\n",
       "      <td>704.0</td>\n",
       "      <td>161.0</td>\n",
       "    </tr>\n",
       "    <tr>\n",
       "      <th>Recurred/Progressed</th>\n",
       "      <td>112.0</td>\n",
       "      <td>NaN</td>\n",
       "      <td>NaN</td>\n",
       "      <td>NaN</td>\n",
       "      <td>NaN</td>\n",
       "      <td>NaN</td>\n",
       "    </tr>\n",
       "    <tr>\n",
       "      <th>Unknown</th>\n",
       "      <td>97.0</td>\n",
       "      <td>2.0</td>\n",
       "      <td>53.0</td>\n",
       "      <td>144.0</td>\n",
       "      <td>56.0</td>\n",
       "      <td>NaN</td>\n",
       "    </tr>\n",
       "  </tbody>\n",
       "</table>\n",
       "</div>"
      ],
      "text/plain": [
       "                     DFS_STATUS  VITAL_STATUS  ER_STATUS  HER2_STATUS  \\\n",
       "Alive                       NaN         948.0        NaN          NaN   \n",
       "Dead                        NaN         155.0        NaN          NaN   \n",
       "DiseaseFree               896.0           NaN        NaN          NaN   \n",
       "Negative                    NaN           NaN      239.0        766.0   \n",
       "Positive                    NaN           NaN      813.0        195.0   \n",
       "Recurred/Progressed       112.0           NaN        NaN          NaN   \n",
       "Unknown                    97.0           2.0       53.0        144.0   \n",
       "\n",
       "                     PR_STATUS  TN_STATUS  \n",
       "Alive                      NaN        NaN  \n",
       "Dead                       NaN        NaN  \n",
       "DiseaseFree                NaN        NaN  \n",
       "Negative                 345.0      944.0  \n",
       "Positive                 704.0      161.0  \n",
       "Recurred/Progressed        NaN        NaN  \n",
       "Unknown                   56.0        NaN  "
      ]
     },
     "execution_count": 54,
     "metadata": {},
     "output_type": "execute_result"
    }
   ],
   "source": [
    "d_meta.apply(pd.Series.value_counts)"
   ]
  },
  {
   "cell_type": "code",
   "execution_count": 60,
   "metadata": {
    "collapsed": false
   },
   "outputs": [
    {
     "data": {
      "text/plain": [
       "'/Users/eczech/data/research/mgds/prep/tcga_v1_brca-cellline-meta.pkl'"
      ]
     },
     "execution_count": 60,
     "metadata": {},
     "output_type": "execute_result"
    }
   ],
   "source": [
    "assert np.all(pd.notnull(d_meta))\n",
    "# Note that is kind of metadata is very specific to breast cancer so there's\n",
    "# no need to make this kind of preparation more generic\n",
    "db.save(d_meta, src.TCGA_v1, db.PREP, 'brca-cellline-meta')"
   ]
  },
  {
   "cell_type": "code",
   "execution_count": null,
   "metadata": {
    "collapsed": true
   },
   "outputs": [],
   "source": []
  }
 ],
 "metadata": {
  "anaconda-cloud": {},
  "kernelspec": {
   "display_name": "Python 3",
   "language": "python",
   "name": "python3"
  },
  "language_info": {
   "codemirror_mode": {
    "name": "ipython",
    "version": 3
   },
   "file_extension": ".py",
   "mimetype": "text/x-python",
   "name": "python",
   "nbconvert_exporter": "python",
   "pygments_lexer": "ipython3",
   "version": "3.5.2"
  }
 },
 "nbformat": 4,
 "nbformat_minor": 2
}
