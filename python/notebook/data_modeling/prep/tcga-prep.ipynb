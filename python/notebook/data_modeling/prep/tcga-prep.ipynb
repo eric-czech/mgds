{
 "cells": [
  {
   "cell_type": "code",
   "execution_count": 1,
   "metadata": {
    "collapsed": true
   },
   "outputs": [],
   "source": [
    "%run -m ipy_startup\n",
    "%run -m ipy_logging false\n",
    "%matplotlib inline\n",
    "from mgds.data_aggregation import database as db\n",
    "from mgds.data_aggregation import source as src\n",
    "from mgds.data_aggregation import data_type as dtyp\n",
    "from mgds.data_aggregation import api\n",
    "from mgds.data_aggregation.import_lib import cgds\n",
    "from mgds.data_aggregation.import_lib import tcga"
   ]
  },
  {
   "cell_type": "code",
   "execution_count": 3,
   "metadata": {
    "collapsed": false
   },
   "outputs": [
    {
     "name": "stderr",
     "output_type": "stream",
     "text": [
      "2016-12-20 13:13:54,999:DEBUG:mgds.data_aggregation.import_lib.tcga: Dropped 12696 completely duplicated records from table \"brca-gene-expression-normalized\"\n",
      "2016-12-20 13:14:10,570:DEBUG:mgds.data_aggregation.import_lib.tcga: Dropped 38880 completely duplicated records from table \"brca-gene-copy-number-putative\"\n",
      "2016-12-20 13:14:29,893:DEBUG:mgds.data_aggregation.import_lib.tcga: Dropped 16546 completely duplicated records from table \"brca-gene-methylation\"\n",
      "2016-12-20 13:14:46,263:DEBUG:mgds.data_aggregation.import_lib.tcga: Dropped 27500 completely duplicated records from table \"brca-gene-rna-seq-normalized\"\n",
      "2016-12-20 13:15:09,663:DEBUG:mgds.data_aggregation.import_lib.tcga: Dropped 105 completely duplicated records from table \"brca-gene-exome-seq\"\n"
     ]
    }
   ],
   "source": [
    "cohorts = ['brca']\n",
    "\n",
    "def add_tcga_raw_data(d, data_type, modifier_fn, cohorts):\n",
    "    d[data_type] = tcga.load_genetic_profile_data(modifier_fn(data_type), cohorts=cohorts)\n",
    "    \n",
    "def get_all_tcga_raw_data(cohorts):\n",
    "    d = {}\n",
    "    add_tcga_raw_data(d, dtyp.GENE_EXPRESSION, dtyp.add_normalized_modifier, cohorts)\n",
    "    add_tcga_raw_data(d, dtyp.GENE_COPY_NUMBER, dtyp.add_putative_modifier, cohorts)\n",
    "    add_tcga_raw_data(d, dtyp.GENE_METHYLATION, lambda x: x, cohorts)\n",
    "    add_tcga_raw_data(d, dtyp.GENE_RNA_SEQ, dtyp.add_normalized_modifier, cohorts)\n",
    "    add_tcga_raw_data(d, dtyp.GENE_RPPA, dtyp.add_normalized_modifier, cohorts)\n",
    "    add_tcga_raw_data(d, dtyp.GENE_EXOME_SEQ, lambda x: x, cohorts)\n",
    "    return d\n",
    "\n",
    "d = get_all_tcga_raw_data(cohorts)"
   ]
  },
  {
   "cell_type": "code",
   "execution_count": 4,
   "metadata": {
    "collapsed": true
   },
   "outputs": [],
   "source": [
    "# Convert exome sequencing data to float value indicating presence of a mutation of some kind\n",
    "df = d[dtyp.GENE_EXOME_SEQ]\n",
    "df['VALUE'] = df['VALUE'].notnull().astype(np.float64)\n",
    "d[dtyp.GENE_EXOME_SEQ] = df\n",
    "del df"
   ]
  },
  {
   "cell_type": "code",
   "execution_count": 5,
   "metadata": {
    "collapsed": true
   },
   "outputs": [],
   "source": [
    "def prep_pivot_tcga_data(d):\n",
    "    dp = {}\n",
    "    for dt in d.keys():\n",
    "        df = d[dt]\n",
    "        \n",
    "        # Before pivoting, ensure that there will be only one record per cell\n",
    "        c_idx = ['COHORT', 'CELL_LINE_ID']\n",
    "        c_col = ['GENE_ID:HGNC'] \n",
    "        mask = df[c_idx + c_col].duplicated()\n",
    "        assert not np.any(mask), 'Found duplicated records for data type \"{}\"'.format(dt)\n",
    "        dp[dt] = df.pivot_table(index=c_idx, columns=c_col, values='VALUE', aggfunc='first'`)\n",
    "        \n",
    "    return dp\n",
    "\n",
    "dp = prep_pivot_tcga_data(d)"
   ]
  },
  {
   "cell_type": "code",
   "execution_count": 6,
   "metadata": {
    "collapsed": false
   },
   "outputs": [
    {
     "name": "stdout",
     "output_type": "stream",
     "text": [
      "<class 'pandas.core.frame.DataFrame'>\n",
      "MultiIndex: 529 entries, (brca, TCGA-A1-A0SD-01) to (brca, TCGA-E2-A1BD-01)\n",
      "Columns: 16810 entries, A1BG to ZZZ3\n",
      "dtypes: float64(16810)\n",
      "memory usage: 67.9+ MB\n"
     ]
    }
   ],
   "source": [
    "df = dp[dtyp.GENE_EXPRESSION]\n",
    "df.info()"
   ]
  },
  {
   "cell_type": "code",
   "execution_count": 10,
   "metadata": {
    "collapsed": false
   },
   "outputs": [
    {
     "data": {
      "text/html": [
       "<div>\n",
       "<table border=\"1\" class=\"dataframe\">\n",
       "  <thead>\n",
       "    <tr style=\"text-align: right;\">\n",
       "      <th>dt2</th>\n",
       "      <th>gene-copy-number</th>\n",
       "      <th>gene-exome-seq</th>\n",
       "      <th>gene-expression</th>\n",
       "      <th>gene-methylation</th>\n",
       "      <th>gene-rna-seq</th>\n",
       "      <th>gene-rppa</th>\n",
       "    </tr>\n",
       "    <tr>\n",
       "      <th>dt1</th>\n",
       "      <th></th>\n",
       "      <th></th>\n",
       "      <th></th>\n",
       "      <th></th>\n",
       "      <th></th>\n",
       "      <th></th>\n",
       "    </tr>\n",
       "  </thead>\n",
       "  <tbody>\n",
       "    <tr>\n",
       "      <th>gene-copy-number</th>\n",
       "      <td>1.000000</td>\n",
       "      <td>0.654626</td>\n",
       "      <td>0.722017</td>\n",
       "      <td>0.674985</td>\n",
       "      <td>0.814320</td>\n",
       "      <td>0.007302</td>\n",
       "    </tr>\n",
       "    <tr>\n",
       "      <th>gene-exome-seq</th>\n",
       "      <td>0.986345</td>\n",
       "      <td>1.000000</td>\n",
       "      <td>0.891211</td>\n",
       "      <td>0.821188</td>\n",
       "      <td>0.969130</td>\n",
       "      <td>0.009902</td>\n",
       "    </tr>\n",
       "    <tr>\n",
       "      <th>gene-expression</th>\n",
       "      <td>1.000000</td>\n",
       "      <td>0.819215</td>\n",
       "      <td>1.000000</td>\n",
       "      <td>0.853778</td>\n",
       "      <td>0.995122</td>\n",
       "      <td>0.009994</td>\n",
       "    </tr>\n",
       "    <tr>\n",
       "      <th>gene-methylation</th>\n",
       "      <td>0.984526</td>\n",
       "      <td>0.794951</td>\n",
       "      <td>0.899135</td>\n",
       "      <td>1.000000</td>\n",
       "      <td>0.980767</td>\n",
       "      <td>0.010400</td>\n",
       "    </tr>\n",
       "    <tr>\n",
       "      <th>gene-rna-seq</th>\n",
       "      <td>1.000000</td>\n",
       "      <td>0.789862</td>\n",
       "      <td>0.882325</td>\n",
       "      <td>0.825729</td>\n",
       "      <td>1.000000</td>\n",
       "      <td>0.008967</td>\n",
       "    </tr>\n",
       "    <tr>\n",
       "      <th>gene-rppa</th>\n",
       "      <td>0.988372</td>\n",
       "      <td>0.889535</td>\n",
       "      <td>0.976744</td>\n",
       "      <td>0.965116</td>\n",
       "      <td>0.988372</td>\n",
       "      <td>1.000000</td>\n",
       "    </tr>\n",
       "  </tbody>\n",
       "</table>\n",
       "</div>"
      ],
      "text/plain": [
       "dt2               gene-copy-number  gene-exome-seq  gene-expression  \\\n",
       "dt1                                                                   \n",
       "gene-copy-number          1.000000        0.654626         0.722017   \n",
       "gene-exome-seq            0.986345        1.000000         0.891211   \n",
       "gene-expression           1.000000        0.819215         1.000000   \n",
       "gene-methylation          0.984526        0.794951         0.899135   \n",
       "gene-rna-seq              1.000000        0.789862         0.882325   \n",
       "gene-rppa                 0.988372        0.889535         0.976744   \n",
       "\n",
       "dt2               gene-methylation  gene-rna-seq  gene-rppa  \n",
       "dt1                                                          \n",
       "gene-copy-number          0.674985      0.814320   0.007302  \n",
       "gene-exome-seq            0.821188      0.969130   0.009902  \n",
       "gene-expression           0.853778      0.995122   0.009994  \n",
       "gene-methylation          1.000000      0.980767   0.010400  \n",
       "gene-rna-seq              0.825729      1.000000   0.008967  \n",
       "gene-rppa                 0.965116      0.988372   1.000000  "
      ]
     },
     "execution_count": 10,
     "metadata": {},
     "output_type": "execute_result"
    }
   ],
   "source": [
    "p = []\n",
    "for dt1 in dp.keys():\n",
    "    for dt2 in dp.keys():\n",
    "        ni = len(dp[dt1].columns.intersection(dp[dt2].columns))\n",
    "        n = len(dp[dt1].columns)\n",
    "        p.append((dt1, dt2, ni / n))\n",
    "p = pd.DataFrame(p, columns=['dt1', 'dt2', 'pct'])\n",
    "p = p.set_index(['dt1', 'dt2'])['pct'].unstack()\n",
    "p"
   ]
  },
  {
   "cell_type": "code",
   "execution_count": 25,
   "metadata": {
    "collapsed": false
   },
   "outputs": [
    {
     "data": {
      "text/plain": [
       "0    277\n",
       "1    181\n",
       "2    101\n",
       "4     31\n",
       "3     30\n",
       "dtype: int64"
      ]
     },
     "execution_count": 25,
     "metadata": {},
     "output_type": "execute_result"
    }
   ],
   "source": [
    "dp[dtyp.GENE_METHYLATION].isnull().sum(axis=1).value_counts().head()"
   ]
  },
  {
   "cell_type": "code",
   "execution_count": 26,
   "metadata": {
    "collapsed": false
   },
   "outputs": [],
   "source": [
    "# dp[dtyp.GENE_RPPA].isnull().mean(axis=0).sort_values()"
   ]
  },
  {
   "cell_type": "code",
   "execution_count": 27,
   "metadata": {
    "collapsed": false
   },
   "outputs": [
    {
     "name": "stdout",
     "output_type": "stream",
     "text": [
      "<class 'pandas.core.frame.DataFrame'>\n",
      "MultiIndex: 1080 entries, (brca, TCGA-3C-AAAU-01) to (brca, TCGA-Z7-A8R6-01)\n",
      "Columns: 23282 entries, A1BG to ZZZ3\n",
      "dtypes: float64(23282)\n",
      "memory usage: 191.8+ MB\n"
     ]
    }
   ],
   "source": [
    "dp[dtyp.GENE_COPY_NUMBER].info()"
   ]
  },
  {
   "cell_type": "code",
   "execution_count": 35,
   "metadata": {
    "collapsed": false
   },
   "outputs": [
    {
     "data": {
      "text/plain": [
       "'/Users/eczech/data/research/mgds/prep/tcga_v1_raw-data-matrices.pkl'"
      ]
     },
     "execution_count": 35,
     "metadata": {},
     "output_type": "execute_result"
    }
   ],
   "source": [
    "db.save_obj(dp, src.TCGA_v1, db.PREP, 'raw-data-matrices')"
   ]
  }
 ],
 "metadata": {
  "anaconda-cloud": {},
  "kernelspec": {
   "display_name": "Python 3",
   "language": "python",
   "name": "python3"
  },
  "language_info": {
   "codemirror_mode": {
    "name": "ipython",
    "version": 3
   },
   "file_extension": ".py",
   "mimetype": "text/x-python",
   "name": "python",
   "nbconvert_exporter": "python",
   "pygments_lexer": "ipython3",
   "version": "3.5.2"
  }
 },
 "nbformat": 4,
 "nbformat_minor": 2
}
