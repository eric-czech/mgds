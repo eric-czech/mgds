{
 "cells": [
  {
   "cell_type": "markdown",
   "metadata": {},
   "source": [
    "# Drug Groupings"
   ]
  },
  {
   "cell_type": "code",
   "execution_count": 1,
   "metadata": {
    "collapsed": true
   },
   "outputs": [],
   "source": [
    "%run -m ipy_startup\n",
    "%run -m ipy_logging\n",
    "%run -m ipy_seaborn\n",
    "%matplotlib inline\n",
    "from mgds.data_aggregation import api\n",
    "from mgds.data_aggregation import database as db\n",
    "from mgds.data_aggregation import source as src\n",
    "from mgds.data_aggregation import data_type as dtyp\n",
    "from mgds.data_aggregation import entity\n",
    "from mgds.data_modeling import data_broker as dbm\n",
    "from mgds.data_modeling import training01 as rx_train\n",
    "from mgds.data_modeling import data as feature_data"
   ]
  },
  {
   "cell_type": "code",
   "execution_count": 2,
   "metadata": {
    "collapsed": true
   },
   "outputs": [],
   "source": [
    "df = api.get_raw_genomic_data(src.GDSC_v2, dtyp.DRUG_SENSITIVITY)\n",
    "df['INDICATOR'] = 1"
   ]
  },
  {
   "cell_type": "code",
   "execution_count": 3,
   "metadata": {
    "collapsed": false
   },
   "outputs": [
    {
     "data": {
      "text/html": [
       "<div>\n",
       "<table border=\"1\" class=\"dataframe\">\n",
       "  <thead>\n",
       "    <tr style=\"text-align: right;\">\n",
       "      <th></th>\n",
       "      <th>IC50_RESULTS_ID</th>\n",
       "      <th>CELL_LINE_ID:COSMIC</th>\n",
       "      <th>DRUG_ID:COSMIC</th>\n",
       "      <th>MAX_CONC_MICROMOLAR</th>\n",
       "      <th>LN_IC50</th>\n",
       "      <th>AUC</th>\n",
       "      <th>RMSE</th>\n",
       "      <th>DRUG_NAME</th>\n",
       "      <th>SYNONYMS</th>\n",
       "      <th>TARGET</th>\n",
       "      <th>TARGET_PATHWAY</th>\n",
       "      <th>CELL_LINE_ID</th>\n",
       "      <th>CELL_LINE_ID:MGDS</th>\n",
       "      <th>PRIMARY_SITE:MGDS</th>\n",
       "      <th>PRIMARY_SITE:SOURCE</th>\n",
       "      <th>DRUG_NAME:MGDS</th>\n",
       "      <th>DRUG_NAME:SOURCE</th>\n",
       "      <th>INDICATOR</th>\n",
       "    </tr>\n",
       "  </thead>\n",
       "  <tbody>\n",
       "    <tr>\n",
       "      <th>0</th>\n",
       "      <td>335</td>\n",
       "      <td>924100</td>\n",
       "      <td>1026</td>\n",
       "      <td>1.0</td>\n",
       "      <td>0.717722</td>\n",
       "      <td>0.899410</td>\n",
       "      <td>0.105665</td>\n",
       "      <td>17-AAG</td>\n",
       "      <td>tanespimycin</td>\n",
       "      <td>HSP90</td>\n",
       "      <td>other</td>\n",
       "      <td>22RV1</td>\n",
       "      <td>22RV1</td>\n",
       "      <td>PROSTATE</td>\n",
       "      <td>PROSTATE</td>\n",
       "      <td>17AAG</td>\n",
       "      <td>17-AAG</td>\n",
       "      <td>1</td>\n",
       "    </tr>\n",
       "    <tr>\n",
       "      <th>1</th>\n",
       "      <td>336</td>\n",
       "      <td>924100</td>\n",
       "      <td>1028</td>\n",
       "      <td>2.0</td>\n",
       "      <td>2.664100</td>\n",
       "      <td>0.957206</td>\n",
       "      <td>0.178243</td>\n",
       "      <td>VX-702</td>\n",
       "      <td>NaN</td>\n",
       "      <td>p38</td>\n",
       "      <td>JNK and p38 signaling</td>\n",
       "      <td>22RV1</td>\n",
       "      <td>22RV1</td>\n",
       "      <td>PROSTATE</td>\n",
       "      <td>PROSTATE</td>\n",
       "      <td>VX702</td>\n",
       "      <td>VX-702</td>\n",
       "      <td>1</td>\n",
       "    </tr>\n",
       "    <tr>\n",
       "      <th>2</th>\n",
       "      <td>337</td>\n",
       "      <td>924100</td>\n",
       "      <td>1029</td>\n",
       "      <td>2.0</td>\n",
       "      <td>3.336828</td>\n",
       "      <td>0.973893</td>\n",
       "      <td>0.079845</td>\n",
       "      <td>AMG-706</td>\n",
       "      <td>AMG-706</td>\n",
       "      <td>VEGFR, RET, c-KIT, PDGFR</td>\n",
       "      <td>RTK signaling</td>\n",
       "      <td>22RV1</td>\n",
       "      <td>22RV1</td>\n",
       "      <td>PROSTATE</td>\n",
       "      <td>PROSTATE</td>\n",
       "      <td>AMG706</td>\n",
       "      <td>AMG-706</td>\n",
       "      <td>1</td>\n",
       "    </tr>\n",
       "    <tr>\n",
       "      <th>3</th>\n",
       "      <td>338</td>\n",
       "      <td>924100</td>\n",
       "      <td>1030</td>\n",
       "      <td>10.0</td>\n",
       "      <td>5.164909</td>\n",
       "      <td>0.977844</td>\n",
       "      <td>0.094228</td>\n",
       "      <td>KU-55933</td>\n",
       "      <td>NaN</td>\n",
       "      <td>ATM</td>\n",
       "      <td>Genome integrity</td>\n",
       "      <td>22RV1</td>\n",
       "      <td>22RV1</td>\n",
       "      <td>PROSTATE</td>\n",
       "      <td>PROSTATE</td>\n",
       "      <td>KU55933</td>\n",
       "      <td>KU-55933</td>\n",
       "      <td>1</td>\n",
       "    </tr>\n",
       "    <tr>\n",
       "      <th>4</th>\n",
       "      <td>339</td>\n",
       "      <td>924100</td>\n",
       "      <td>1031</td>\n",
       "      <td>0.2</td>\n",
       "      <td>-4.325309</td>\n",
       "      <td>0.508180</td>\n",
       "      <td>0.090478</td>\n",
       "      <td>Elesclomol</td>\n",
       "      <td>NaN</td>\n",
       "      <td>HSP70</td>\n",
       "      <td>other</td>\n",
       "      <td>22RV1</td>\n",
       "      <td>22RV1</td>\n",
       "      <td>PROSTATE</td>\n",
       "      <td>PROSTATE</td>\n",
       "      <td>ELESCLOMOL</td>\n",
       "      <td>Elesclomol</td>\n",
       "      <td>1</td>\n",
       "    </tr>\n",
       "  </tbody>\n",
       "</table>\n",
       "</div>"
      ],
      "text/plain": [
       "  IC50_RESULTS_ID CELL_LINE_ID:COSMIC  DRUG_ID:COSMIC  MAX_CONC_MICROMOLAR  \\\n",
       "0             335              924100            1026                  1.0   \n",
       "1             336              924100            1028                  2.0   \n",
       "2             337              924100            1029                  2.0   \n",
       "3             338              924100            1030                 10.0   \n",
       "4             339              924100            1031                  0.2   \n",
       "\n",
       "    LN_IC50       AUC      RMSE   DRUG_NAME      SYNONYMS  \\\n",
       "0  0.717722  0.899410  0.105665      17-AAG  tanespimycin   \n",
       "1  2.664100  0.957206  0.178243      VX-702           NaN   \n",
       "2  3.336828  0.973893  0.079845     AMG-706       AMG-706   \n",
       "3  5.164909  0.977844  0.094228    KU-55933           NaN   \n",
       "4 -4.325309  0.508180  0.090478  Elesclomol           NaN   \n",
       "\n",
       "                     TARGET         TARGET_PATHWAY CELL_LINE_ID  \\\n",
       "0                     HSP90                  other        22RV1   \n",
       "1                       p38  JNK and p38 signaling        22RV1   \n",
       "2  VEGFR, RET, c-KIT, PDGFR          RTK signaling        22RV1   \n",
       "3                       ATM       Genome integrity        22RV1   \n",
       "4                     HSP70                  other        22RV1   \n",
       "\n",
       "  CELL_LINE_ID:MGDS PRIMARY_SITE:MGDS PRIMARY_SITE:SOURCE DRUG_NAME:MGDS  \\\n",
       "0             22RV1          PROSTATE            PROSTATE          17AAG   \n",
       "1             22RV1          PROSTATE            PROSTATE          VX702   \n",
       "2             22RV1          PROSTATE            PROSTATE         AMG706   \n",
       "3             22RV1          PROSTATE            PROSTATE        KU55933   \n",
       "4             22RV1          PROSTATE            PROSTATE     ELESCLOMOL   \n",
       "\n",
       "  DRUG_NAME:SOURCE  INDICATOR  \n",
       "0           17-AAG          1  \n",
       "1           VX-702          1  \n",
       "2          AMG-706          1  \n",
       "3         KU-55933          1  \n",
       "4       Elesclomol          1  "
      ]
     },
     "execution_count": 3,
     "metadata": {},
     "output_type": "execute_result"
    }
   ],
   "source": [
    "df.head()"
   ]
  },
  {
   "cell_type": "code",
   "execution_count": 5,
   "metadata": {
    "collapsed": true
   },
   "outputs": [],
   "source": [
    "d_path = df[['DRUG_NAME:MGDS', 'TARGET_PATHWAY']].drop_duplicates()"
   ]
  },
  {
   "cell_type": "code",
   "execution_count": 6,
   "metadata": {
    "collapsed": false
   },
   "outputs": [
    {
     "data": {
      "text/html": [
       "<div>\n",
       "<table border=\"1\" class=\"dataframe\">\n",
       "  <thead>\n",
       "    <tr style=\"text-align: right;\">\n",
       "      <th></th>\n",
       "      <th>DRUG_NAME:MGDS</th>\n",
       "      <th>TARGET_PATHWAY</th>\n",
       "    </tr>\n",
       "  </thead>\n",
       "  <tbody>\n",
       "    <tr>\n",
       "      <th>197</th>\n",
       "      <td>NAVITOCLAX</td>\n",
       "      <td>apoptosis regulation</td>\n",
       "    </tr>\n",
       "  </tbody>\n",
       "</table>\n",
       "</div>"
      ],
      "text/plain": [
       "    DRUG_NAME:MGDS        TARGET_PATHWAY\n",
       "197     NAVITOCLAX  apoptosis regulation"
      ]
     },
     "execution_count": 6,
     "metadata": {},
     "output_type": "execute_result"
    }
   ],
   "source": [
    "d_path[d_path['DRUG_NAME:MGDS'] == 'NAVITOCLAX']"
   ]
  },
  {
   "cell_type": "code",
   "execution_count": 7,
   "metadata": {
    "collapsed": false
   },
   "outputs": [
    {
     "data": {
      "text/plain": [
       "other                             72\n",
       "RTK signaling                     26\n",
       "PI3K signaling                    18\n",
       "ERK MAPK signaling                16\n",
       "DNA replication                   14\n",
       "cytoskeleton                      11\n",
       "cell cycle                        11\n",
       "mitosis                           10\n",
       "chromain  histone acetylation     10\n",
       "ABL signaling                      9\n",
       "EGFR signaling                     8\n",
       "Genome integrity                   8\n",
       "apoptosis regulation               7\n",
       "TOR signaling                      7\n",
       "JNK and p38 signaling              6\n",
       "IGFR signaling                     4\n",
       "metabolism                         3\n",
       "chromatin  other                   3\n",
       "WNT signaling                      3\n",
       "p53 pathway                        3\n",
       "chromatin  histone methylation     2\n",
       "Name: TARGET_PATHWAY, dtype: int64"
      ]
     },
     "execution_count": 7,
     "metadata": {},
     "output_type": "execute_result"
    }
   ],
   "source": [
    "d_path['TARGET_PATHWAY'].value_counts()"
   ]
  },
  {
   "cell_type": "code",
   "execution_count": 8,
   "metadata": {
    "collapsed": false
   },
   "outputs": [
    {
     "data": {
      "text/html": [
       "<div>\n",
       "<table border=\"1\" class=\"dataframe\">\n",
       "  <thead>\n",
       "    <tr style=\"text-align: right;\">\n",
       "      <th></th>\n",
       "      <th>DRUG_NAME:MGDS</th>\n",
       "      <th>TARGET_PATHWAY</th>\n",
       "    </tr>\n",
       "  </thead>\n",
       "  <tbody>\n",
       "    <tr>\n",
       "      <th>32</th>\n",
       "      <td>TW37</td>\n",
       "      <td>apoptosis regulation</td>\n",
       "    </tr>\n",
       "    <tr>\n",
       "      <th>53</th>\n",
       "      <td>RTRAIL</td>\n",
       "      <td>apoptosis regulation</td>\n",
       "    </tr>\n",
       "    <tr>\n",
       "      <th>89</th>\n",
       "      <td>EMBELIN</td>\n",
       "      <td>apoptosis regulation</td>\n",
       "    </tr>\n",
       "    <tr>\n",
       "      <th>91</th>\n",
       "      <td>PAC1</td>\n",
       "      <td>apoptosis regulation</td>\n",
       "    </tr>\n",
       "    <tr>\n",
       "      <th>97</th>\n",
       "      <td>OBATOCLAX</td>\n",
       "      <td>apoptosis regulation</td>\n",
       "    </tr>\n",
       "    <tr>\n",
       "      <th>144</th>\n",
       "      <td>YM155</td>\n",
       "      <td>apoptosis regulation</td>\n",
       "    </tr>\n",
       "    <tr>\n",
       "      <th>197</th>\n",
       "      <td>NAVITOCLAX</td>\n",
       "      <td>apoptosis regulation</td>\n",
       "    </tr>\n",
       "  </tbody>\n",
       "</table>\n",
       "</div>"
      ],
      "text/plain": [
       "    DRUG_NAME:MGDS        TARGET_PATHWAY\n",
       "32            TW37  apoptosis regulation\n",
       "53          RTRAIL  apoptosis regulation\n",
       "89         EMBELIN  apoptosis regulation\n",
       "91            PAC1  apoptosis regulation\n",
       "97       OBATOCLAX  apoptosis regulation\n",
       "144          YM155  apoptosis regulation\n",
       "197     NAVITOCLAX  apoptosis regulation"
      ]
     },
     "execution_count": 8,
     "metadata": {},
     "output_type": "execute_result"
    }
   ],
   "source": [
    "d_path[d_path['TARGET_PATHWAY'] == 'apoptosis regulation']"
   ]
  },
  {
   "cell_type": "code",
   "execution_count": 9,
   "metadata": {
    "collapsed": false
   },
   "outputs": [
    {
     "data": {
      "text/plain": [
       "\"TW37','RTRAIL','EMBELIN','PAC1','OBATOCLAX','YM155','NAVITOCLAX\""
      ]
     },
     "execution_count": 9,
     "metadata": {},
     "output_type": "execute_result"
    }
   ],
   "source": [
    "\"','\".join(d_path[d_path['TARGET_PATHWAY'] == 'apoptosis regulation']['DRUG_NAME:MGDS'].values)"
   ]
  },
  {
   "cell_type": "code",
   "execution_count": null,
   "metadata": {
    "collapsed": true
   },
   "outputs": [],
   "source": []
  }
 ],
 "metadata": {
  "anaconda-cloud": {},
  "kernelspec": {
   "display_name": "Python 3",
   "language": "python",
   "name": "python3"
  },
  "language_info": {
   "codemirror_mode": {
    "name": "ipython",
    "version": 3
   },
   "file_extension": ".py",
   "mimetype": "text/x-python",
   "name": "python",
   "nbconvert_exporter": "python",
   "pygments_lexer": "ipython3",
   "version": "3.5.2"
  }
 },
 "nbformat": 4,
 "nbformat_minor": 2
}
