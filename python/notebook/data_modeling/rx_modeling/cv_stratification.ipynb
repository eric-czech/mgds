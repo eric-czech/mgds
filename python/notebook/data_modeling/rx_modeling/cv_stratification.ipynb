{
 "cells": [
  {
   "cell_type": "code",
   "execution_count": 1,
   "metadata": {
    "collapsed": true
   },
   "outputs": [],
   "source": [
    "%run -m ipy_startup\n",
    "%run -m ipy_logging false\n",
    "%run -m ipy_seaborn\n",
    "%matplotlib inline"
   ]
  },
  {
   "cell_type": "code",
   "execution_count": 2,
   "metadata": {
    "collapsed": true
   },
   "outputs": [],
   "source": [
    "import random\n",
    "from deap import algorithms, base, creator, tools"
   ]
  },
  {
   "cell_type": "code",
   "execution_count": 40,
   "metadata": {
    "collapsed": true
   },
   "outputs": [],
   "source": [
    "from sklearn import model_selection"
   ]
  },
  {
   "cell_type": "code",
   "execution_count": 55,
   "metadata": {
    "collapsed": false
   },
   "outputs": [
    {
     "data": {
      "text/plain": [
       "array([[ 0.,  0.,  0.,  0.,  0.,  1.],\n",
       "       [ 0.,  0.,  0.,  0.,  0.,  1.],\n",
       "       [ 0.,  0.,  0.,  0.,  0.,  1.],\n",
       "       [ 0.,  0.,  0.,  0.,  0.,  1.],\n",
       "       [ 0.,  0.,  0.,  0.,  0.,  1.]])"
      ]
     },
     "execution_count": 55,
     "metadata": {},
     "output_type": "execute_result"
    }
   ],
   "source": [
    "x = np.zeros((5, 5))\n",
    "y = np.ones((5, 1))\n",
    "if len(y.shape) == 1:\n",
    "    y = np.reshape(np.ones((5)), (-1,1))\n",
    "np.concatenate((x, y), axis=1)"
   ]
  },
  {
   "cell_type": "code",
   "execution_count": 42,
   "metadata": {
    "collapsed": false
   },
   "outputs": [
    {
     "ename": "IndentationError",
     "evalue": "unindent does not match any outer indentation level (<ipython-input-42-4d1062a36c5d>, line 55)",
     "output_type": "error",
     "traceback": [
      "\u001b[0;36m  File \u001b[0;32m\"<ipython-input-42-4d1062a36c5d>\"\u001b[0;36m, line \u001b[0;32m55\u001b[0m\n\u001b[0;31m    def _iter_test_masks(self, X, y=None, groups=None):\u001b[0m\n\u001b[0m                                                       ^\u001b[0m\n\u001b[0;31mIndentationError\u001b[0m\u001b[0;31m:\u001b[0m unindent does not match any outer indentation level\n"
     ]
    }
   ],
   "source": [
    "from sklearn.model_selection import _BaseKFold\n",
    "\n",
    "class StratifiedMultiKFold(_BaseKFold):\n",
    "\n",
    "    def __init__(self, n_splits=3, shuffle=False, random_state=None):\n",
    "        super(StratifiedMultiKFold, self).__init__(n_splits, shuffle, random_state)\n",
    "        \n",
    "#     def _iter_test_indices(self, X, y=None, groups=None):\n",
    "#         n_samples = _num_samples(X)\n",
    "#         indices = np.arange(n_samples)\n",
    "#         if self.shuffle:\n",
    "#             check_random_state(self.random_state).shuffle(indices)\n",
    "\n",
    "#         n_splits = self.n_splits\n",
    "#         fold_sizes = (n_samples // n_splits) * np.ones(n_splits, dtype=np.int)\n",
    "#         fold_sizes[:n_samples % n_splits] += 1\n",
    "#         current = 0\n",
    "#         for fold_size in fold_sizes:\n",
    "#             start, stop = current, current + fold_size\n",
    "#             yield indices[start:stop]\n",
    "#             current = stop\n",
    "\n",
    "    def _iter_test_indices(self, X, y=None, groups=None):\n",
    "        if len(y.shape) == 1:\n",
    "            y = np.reshape(y, (-1,1))\n",
    "        if len(X.shape) == 1:\n",
    "            X = np.reshape(X, (-1,1))\n",
    "            \n",
    "        D = X\n",
    "        if y is not None:\n",
    "            D = np.concatenate((X, y), axis=1)\n",
    "            \n",
    "        values = []\n",
    "        for i in range(D.shape[1]):\n",
    "            values.append(np.unique())\n",
    "        \n",
    "        n_samples = _num_samples(X)\n",
    "        indices = np.arange(n_samples)\n",
    "        if self.shuffle:\n",
    "            check_random_state(self.random_state).shuffle(indices)\n",
    "\n",
    "        n_splits = self.n_splits\n",
    "        fold_sizes = (n_samples // n_splits) * np.ones(n_splits, dtype=np.int)\n",
    "        fold_sizes[:n_samples % n_splits] += 1\n",
    "        current = 0\n",
    "        for fold_size in fold_sizes:\n",
    "            start, stop = current, current + fold_size\n",
    "            yield indices[start:stop]\n",
    "            current = stop\n",
    "\n",
    "    def split(self, X, y, groups=None):\n",
    "        y = check_array(y, ensure_2d=False, dtype=None)\n",
    "        return super(StratifiedMultiKFold, self).split(X, y, groups)"
   ]
  },
  {
   "cell_type": "code",
   "execution_count": null,
   "metadata": {
    "collapsed": true
   },
   "outputs": [],
   "source": [
    "def get_cv_index(d):\n",
    "    "
   ]
  },
  {
   "cell_type": "code",
   "execution_count": 3,
   "metadata": {
    "collapsed": false
   },
   "outputs": [],
   "source": [
    "# x = [1,1,2,2,3,4]\n",
    "# lvls = [1,2,3,4,5]\n",
    "\n",
    "def get_proportion_present(x, lvls):\n",
    "    lvl, lvl_ct = np.unique(x, return_counts=True)\n",
    "    lvl_unexpected = np.setdiff1d(lvl, lvls)\n",
    "    if len(lvl_unexpected) > 0:\n",
    "        raise ValueError(\n",
    "            'The following elements within an individual had values that were not expected.  '\\\n",
    "            'Expected values = {}, Unique Values Found = {}, Unexpected Values = {}'\n",
    "            .format(lvls, lvl, lvl_unexpected)\n",
    "        )\n",
    "    lvl_missing = np.setdiff1d(lvls, lvl)\n",
    "    lvl_p = np.concatenate((lvl_ct / len(x), np.repeat(0., len(lvl_missing))))\n",
    "    return lvl_p"
   ]
  },
  {
   "cell_type": "code",
   "execution_count": 13,
   "metadata": {
    "collapsed": false
   },
   "outputs": [],
   "source": [
    "k = 3\n",
    "\n",
    "creator.create(\"FitnessMax\", base.Fitness, weights=(1.0,))\n",
    "creator.create(\"Individual\", list, fitness=creator.FitnessMax)\n",
    "\n",
    "toolbox = base.Toolbox()\n",
    "#toolbox.register(\"attr_bool\", random.randint, 0, 1)\n",
    "toolbox.register(\"attr_int\", np.random.randint, 0, k)\n",
    "toolbox.register(\"individual\", tools.initRepeat, creator.Individual, toolbox.attr_int, n=50)\n",
    "toolbox.register(\"population\", tools.initRepeat, list, toolbox.individual)\n",
    "\n",
    "def evaluateIndividual(individual):\n",
    "    p = get_proportion_present(individual, np.arange(k))\n",
    "    v1 = np.product(p)\n",
    "    #print(v1)\n",
    "    return (v1,)\n",
    "\n",
    "toolbox.register(\"evaluate\", evaluateIndividual)\n",
    "#toolbox.register(\"mutate\", tools.mutFlipBit, indpb=0.05)\n",
    "toolbox.register(\"mutate\", tools.mutUniformInt, low=0, up=k-1, indpb=0.05)\n",
    "toolbox.register(\"mate\", tools.cxTwoPoint)\n",
    "toolbox.register(\"select\", tools.selTournament, tournsize=3)\n"
   ]
  },
  {
   "cell_type": "code",
   "execution_count": 14,
   "metadata": {
    "collapsed": true
   },
   "outputs": [],
   "source": [
    "pop = toolbox.population(n=300)"
   ]
  },
  {
   "cell_type": "code",
   "execution_count": 20,
   "metadata": {
    "collapsed": false
   },
   "outputs": [
    {
     "name": "stdout",
     "output_type": "stream",
     "text": [
      "gen\tnevals\tavg      \tstd        \tmin    \tmax     \n",
      "0  \t0     \t0.0366255\t0.000645738\t0.03128\t0.036992\n",
      "1  \t191   \t0.0366339\t0.000568539\t0.033264\t0.036992\n",
      "2  \t178   \t0.036623 \t0.000625642\t0.032912\t0.036992\n",
      "3  \t193   \t0.0365961\t0.000594833\t0.033792\t0.036992\n",
      "4  \t173   \t0.0366911\t0.000503019\t0.034272\t0.036992\n",
      "5  \t174   \t0.0367316\t0.000499719\t0.03344 \t0.036992\n",
      "6  \t162   \t0.0367737\t0.000419774\t0.034496\t0.036992\n",
      "7  \t173   \t0.0367429\t0.000443068\t0.034496\t0.036992\n",
      "8  \t159   \t0.0367588\t0.000494471\t0.03312 \t0.036992\n",
      "9  \t174   \t0.0368144\t0.000361632\t0.034496\t0.036992\n",
      "10 \t183   \t0.0368001\t0.000386871\t0.034272\t0.036992\n"
     ]
    }
   ],
   "source": [
    "#result = algorithms.eaSimple(pop, toolbox, cxpb=0.5, mutpb=0.2, ngen=100, verbose=False)\n",
    "\n",
    "stats = tools.Statistics(key=lambda ind: ind.fitness.values)\n",
    "stats.register(\"avg\", np.mean)\n",
    "stats.register(\"std\", np.std)\n",
    "stats.register(\"min\", np.min)\n",
    "stats.register(\"max\", np.max)\n",
    "\n",
    "hof = tools.HallOfFame(10)\n",
    "pop, logbook = algorithms.eaSimple(pop, toolbox, cxpb=0.5, mutpb=0.2, ngen=10, stats=stats, verbose=True, halloffame=hof)\n",
    "# print('Current best fitness:', evalOneMax(tools.selBest(pop, k=1)[0]))"
   ]
  },
  {
   "cell_type": "code",
   "execution_count": 21,
   "metadata": {
    "collapsed": false
   },
   "outputs": [
    {
     "data": {
      "text/plain": [
       "([0.036625493333333342,\n",
       "  0.036633866666666674,\n",
       "  0.036623040000000009,\n",
       "  0.036596053333333337,\n",
       "  0.036691146666666681,\n",
       "  0.036731626666666677,\n",
       "  0.036773653333333343,\n",
       "  0.036742933333333345,\n",
       "  0.036758773333333342,\n",
       "  0.036814400000000018,\n",
       "  0.036800106666666679],\n",
       " [0, 1, 2, 3, 4, 5, 6, 7, 8, 9, 10])"
      ]
     },
     "execution_count": 21,
     "metadata": {},
     "output_type": "execute_result"
    }
   ],
   "source": [
    "logbook.select('avg', 'gen')"
   ]
  },
  {
   "cell_type": "code",
   "execution_count": 34,
   "metadata": {
    "collapsed": false
   },
   "outputs": [
    {
     "data": {
      "text/plain": [
       "(0.036992000000000011,)"
      ]
     },
     "execution_count": 34,
     "metadata": {},
     "output_type": "execute_result"
    }
   ],
   "source": [
    "x = hof[0]\n",
    "x.fitness.values"
   ]
  },
  {
   "cell_type": "code",
   "execution_count": 29,
   "metadata": {
    "collapsed": false
   },
   "outputs": [
    {
     "ename": "ValueError",
     "evalue": "too many values to unpack (expected 2)",
     "output_type": "error",
     "traceback": [
      "\u001b[0;31m---------------------------------------------------------------------------\u001b[0m",
      "\u001b[0;31mValueError\u001b[0m                                Traceback (most recent call last)",
      "\u001b[0;32m<ipython-input-29-f8e492f7c570>\u001b[0m in \u001b[0;36m<module>\u001b[0;34m()\u001b[0m\n\u001b[0;32m----> 1\u001b[0;31m \u001b[0;32mfor\u001b[0m \u001b[0mk\u001b[0m\u001b[0;34m,\u001b[0m \u001b[0mv\u001b[0m \u001b[0;32min\u001b[0m \u001b[0mhof\u001b[0m\u001b[0;34m.\u001b[0m\u001b[0mitems\u001b[0m\u001b[0;34m:\u001b[0m\u001b[0;34m\u001b[0m\u001b[0m\n\u001b[0m\u001b[1;32m      2\u001b[0m     \u001b[0mprint\u001b[0m\u001b[0;34m(\u001b[0m\u001b[0mk\u001b[0m \u001b[0;34m,\u001b[0m \u001b[0mv\u001b[0m\u001b[0;34m)\u001b[0m\u001b[0;34m\u001b[0m\u001b[0m\n",
      "\u001b[0;31mValueError\u001b[0m: too many values to unpack (expected 2)"
     ]
    }
   ],
   "source": [
    "for k, v in hof.:\n",
    "    print(k , v)"
   ]
  },
  {
   "cell_type": "code",
   "execution_count": null,
   "metadata": {
    "collapsed": true
   },
   "outputs": [],
   "source": [
    "pop."
   ]
  }
 ],
 "metadata": {
  "anaconda-cloud": {},
  "kernelspec": {
   "display_name": "Python 3",
   "language": "python",
   "name": "python3"
  },
  "language_info": {
   "codemirror_mode": {
    "name": "ipython",
    "version": 3
   },
   "file_extension": ".py",
   "mimetype": "text/x-python",
   "name": "python",
   "nbconvert_exporter": "python",
   "pygments_lexer": "ipython3",
   "version": "3.5.2"
  }
 },
 "nbformat": 4,
 "nbformat_minor": 2
}
