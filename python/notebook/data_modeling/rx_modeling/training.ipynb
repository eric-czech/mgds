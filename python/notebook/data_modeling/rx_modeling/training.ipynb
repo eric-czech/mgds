{
 "cells": [
  {
   "cell_type": "code",
   "execution_count": 1,
   "metadata": {
    "collapsed": true
   },
   "outputs": [],
   "source": [
    "%run -m ipy_startup\n",
    "%run -m ipy_logging\n",
    "%run -m ipy_seaborn\n",
    "%matplotlib inline\n",
    "from mgds.data_aggregation import api\n",
    "from mgds.data_aggregation import database as db\n",
    "from mgds.data_aggregation import source as src\n",
    "from mgds.data_aggregation import data_type as dtyp\n",
    "from mgds.data_aggregation import entity\n",
    "from mgds.data_modeling import data_broker as dbm"
   ]
  },
  {
   "cell_type": "code",
   "execution_count": 2,
   "metadata": {
    "collapsed": false
   },
   "outputs": [],
   "source": [
    "entity_mappings={\n",
    "    entity.CELL_LINE: api.get_entity_mapping(entity.CELL_LINE),\n",
    "    entity.PRIMARY_SITE: api.get_entity_mapping(entity.PRIMARY_SITE)\n",
    "}"
   ]
  },
  {
   "cell_type": "code",
   "execution_count": 24,
   "metadata": {
    "collapsed": false
   },
   "outputs": [],
   "source": [
    "df = api.get_raw_genomic_data(src.NCIDREAM_v1, dtyp.DRUG_SENSITIVITY, mappings=entity_mappings)\n",
    "df['INDICATOR'] = 1"
   ]
  },
  {
   "cell_type": "code",
   "execution_count": 25,
   "metadata": {
    "collapsed": false
   },
   "outputs": [
    {
     "data": {
      "text/html": [
       "<div>\n",
       "<table border=\"1\" class=\"dataframe\">\n",
       "  <thead>\n",
       "    <tr style=\"text-align: right;\">\n",
       "      <th></th>\n",
       "      <th>CELL_LINE_ID</th>\n",
       "      <th>DRUG_NAME</th>\n",
       "      <th>LN_GI50</th>\n",
       "      <th>LN_GI50_STD</th>\n",
       "      <th>REPLICATE_COUNT</th>\n",
       "      <th>TARGET_PATHWAY</th>\n",
       "      <th>CELL_LINE_ID:MGDS</th>\n",
       "      <th>PRIMARY_SITE:MGDS</th>\n",
       "      <th>PRIMARY_SITE:SOURCE</th>\n",
       "      <th>DRUG_NAME:MGDS</th>\n",
       "      <th>DRUG_NAME:SOURCE</th>\n",
       "      <th>INDICATOR</th>\n",
       "    </tr>\n",
       "  </thead>\n",
       "  <tbody>\n",
       "    <tr>\n",
       "      <th>0</th>\n",
       "      <td>184A1</td>\n",
       "      <td>B581</td>\n",
       "      <td>1.429324</td>\n",
       "      <td>0.000000</td>\n",
       "      <td>1.0</td>\n",
       "      <td>FTPase</td>\n",
       "      <td>184A1</td>\n",
       "      <td>BREAST</td>\n",
       "      <td>BREAST</td>\n",
       "      <td>B581</td>\n",
       "      <td>B581</td>\n",
       "      <td>1</td>\n",
       "    </tr>\n",
       "    <tr>\n",
       "      <th>1</th>\n",
       "      <td>184A1</td>\n",
       "      <td>Baicalein</td>\n",
       "      <td>1.329005</td>\n",
       "      <td>0.000000</td>\n",
       "      <td>1.0</td>\n",
       "      <td>CYP2C9</td>\n",
       "      <td>184A1</td>\n",
       "      <td>BREAST</td>\n",
       "      <td>BREAST</td>\n",
       "      <td>BAICALEIN</td>\n",
       "      <td>Baicalein</td>\n",
       "      <td>1</td>\n",
       "    </tr>\n",
       "    <tr>\n",
       "      <th>2</th>\n",
       "      <td>184A1</td>\n",
       "      <td>Cetuximab</td>\n",
       "      <td>1.976354</td>\n",
       "      <td>1.487831</td>\n",
       "      <td>2.0</td>\n",
       "      <td>EGFR</td>\n",
       "      <td>184A1</td>\n",
       "      <td>BREAST</td>\n",
       "      <td>BREAST</td>\n",
       "      <td>CETUXIMAB</td>\n",
       "      <td>Cetuximab</td>\n",
       "      <td>1</td>\n",
       "    </tr>\n",
       "    <tr>\n",
       "      <th>3</th>\n",
       "      <td>184A1</td>\n",
       "      <td>Disulfiram</td>\n",
       "      <td>1.589160</td>\n",
       "      <td>0.000000</td>\n",
       "      <td>1.0</td>\n",
       "      <td>ALDH2</td>\n",
       "      <td>184A1</td>\n",
       "      <td>BREAST</td>\n",
       "      <td>BREAST</td>\n",
       "      <td>DISULFIRAM</td>\n",
       "      <td>Disulfiram</td>\n",
       "      <td>1</td>\n",
       "    </tr>\n",
       "    <tr>\n",
       "      <th>4</th>\n",
       "      <td>184A1</td>\n",
       "      <td>Everolimus</td>\n",
       "      <td>1.818879</td>\n",
       "      <td>0.000000</td>\n",
       "      <td>1.0</td>\n",
       "      <td>mTOR</td>\n",
       "      <td>184A1</td>\n",
       "      <td>BREAST</td>\n",
       "      <td>BREAST</td>\n",
       "      <td>EVEROLIMUS</td>\n",
       "      <td>Everolimus</td>\n",
       "      <td>1</td>\n",
       "    </tr>\n",
       "  </tbody>\n",
       "</table>\n",
       "</div>"
      ],
      "text/plain": [
       "  CELL_LINE_ID   DRUG_NAME   LN_GI50  LN_GI50_STD  REPLICATE_COUNT  \\\n",
       "0        184A1        B581  1.429324     0.000000              1.0   \n",
       "1        184A1   Baicalein  1.329005     0.000000              1.0   \n",
       "2        184A1   Cetuximab  1.976354     1.487831              2.0   \n",
       "3        184A1  Disulfiram  1.589160     0.000000              1.0   \n",
       "4        184A1  Everolimus  1.818879     0.000000              1.0   \n",
       "\n",
       "  TARGET_PATHWAY CELL_LINE_ID:MGDS PRIMARY_SITE:MGDS PRIMARY_SITE:SOURCE  \\\n",
       "0         FTPase             184A1            BREAST              BREAST   \n",
       "1         CYP2C9             184A1            BREAST              BREAST   \n",
       "2           EGFR             184A1            BREAST              BREAST   \n",
       "3          ALDH2             184A1            BREAST              BREAST   \n",
       "4           mTOR             184A1            BREAST              BREAST   \n",
       "\n",
       "  DRUG_NAME:MGDS DRUG_NAME:SOURCE  INDICATOR  \n",
       "0           B581             B581          1  \n",
       "1      BAICALEIN        Baicalein          1  \n",
       "2      CETUXIMAB        Cetuximab          1  \n",
       "3     DISULFIRAM       Disulfiram          1  \n",
       "4     EVEROLIMUS       Everolimus          1  "
      ]
     },
     "execution_count": 25,
     "metadata": {},
     "output_type": "execute_result"
    }
   ],
   "source": [
    "df.head()"
   ]
  },
  {
   "cell_type": "code",
   "execution_count": 28,
   "metadata": {
    "collapsed": false
   },
   "outputs": [
    {
     "data": {
      "text/plain": [
       "1    17000944\n",
       "dtype: int64"
      ]
     },
     "execution_count": 28,
     "metadata": {},
     "output_type": "execute_result"
    }
   ],
   "source": [
    "df.groupby(['CELL_LINE_ID:MGDS', 'GENE_ID:HGNC', 'VALUE']).size().value_counts()\n",
    "#df.groupby(['CELL_LINE_ID:MGDS', 'GENE_ID:HGNC', 'INDICATOR']).size().value_counts()"
   ]
  },
  {
   "cell_type": "code",
   "execution_count": 29,
   "metadata": {
    "collapsed": false
   },
   "outputs": [
    {
     "data": {
      "text/plain": [
       "1    17000944\n",
       "dtype: int64"
      ]
     },
     "execution_count": 29,
     "metadata": {},
     "output_type": "execute_result"
    }
   ],
   "source": [
    "df.groupby(['CELL_LINE_ID:MGDS', 'GENE_ID:HGNC']).size().value_counts()"
   ]
  },
  {
   "cell_type": "code",
   "execution_count": 21,
   "metadata": {
    "collapsed": false
   },
   "outputs": [
    {
     "data": {
      "text/plain": [
       "<module 'mgds.data_aggregation.api' from '/Users/eczech/repos/mgds/python/src/mgds/data_aggregation/api.py'>"
      ]
     },
     "execution_count": 21,
     "metadata": {},
     "output_type": "execute_result"
    }
   ],
   "source": [
    "import imp\n",
    "imp.reload(api)"
   ]
  },
  {
   "cell_type": "code",
   "execution_count": 22,
   "metadata": {
    "collapsed": false
   },
   "outputs": [
    {
     "data": {
      "text/plain": [
       "[('gdsc_v2', 'drug-sensitivity'),\n",
       " ('ccle_v1', 'drug-sensitivity'),\n",
       " ('nci60_v2', 'drug-sensitivity'),\n",
       " ('ncidream_v1', 'drug-sensitivity')]"
      ]
     },
     "execution_count": 22,
     "metadata": {},
     "output_type": "execute_result"
    }
   ],
   "source": [
    "datasets = api.get_genomic_data_availability()\n",
    "datasets = [v for v in datasets if v[1] == dtyp.DRUG_SENSITIVITY]\n",
    "datasets"
   ]
  },
  {
   "cell_type": "code",
   "execution_count": 23,
   "metadata": {
    "collapsed": false
   },
   "outputs": [
    {
     "name": "stderr",
     "output_type": "stream",
     "text": [
      "2017-01-20 15:08:27,491:INFO:root: Unpacking source \"gdsc_v2\", data set \"drug-sensitivity\"\n"
     ]
    },
    {
     "ename": "KeyError",
     "evalue": "'GENE_ID:HGNC'",
     "output_type": "error",
     "traceback": [
      "\u001b[0;31m---------------------------------------------------------------------------\u001b[0m",
      "\u001b[0;31mKeyError\u001b[0m                                  Traceback (most recent call last)",
      "\u001b[0;32m/Users/eczech/anaconda/envs/mgds/lib/python3.5/site-packages/pandas/indexes/base.py\u001b[0m in \u001b[0;36mget_loc\u001b[0;34m(self, key, method, tolerance)\u001b[0m\n\u001b[1;32m   2133\u001b[0m             \u001b[0;32mtry\u001b[0m\u001b[0;34m:\u001b[0m\u001b[0;34m\u001b[0m\u001b[0m\n\u001b[0;32m-> 2134\u001b[0;31m                 \u001b[0;32mreturn\u001b[0m \u001b[0mself\u001b[0m\u001b[0;34m.\u001b[0m\u001b[0m_engine\u001b[0m\u001b[0;34m.\u001b[0m\u001b[0mget_loc\u001b[0m\u001b[0;34m(\u001b[0m\u001b[0mkey\u001b[0m\u001b[0;34m)\u001b[0m\u001b[0;34m\u001b[0m\u001b[0m\n\u001b[0m\u001b[1;32m   2135\u001b[0m             \u001b[0;32mexcept\u001b[0m \u001b[0mKeyError\u001b[0m\u001b[0;34m:\u001b[0m\u001b[0;34m\u001b[0m\u001b[0m\n",
      "\u001b[0;32mpandas/index.pyx\u001b[0m in \u001b[0;36mpandas.index.IndexEngine.get_loc (pandas/index.c:4443)\u001b[0;34m()\u001b[0m\n",
      "\u001b[0;32mpandas/index.pyx\u001b[0m in \u001b[0;36mpandas.index.IndexEngine.get_loc (pandas/index.c:4289)\u001b[0;34m()\u001b[0m\n",
      "\u001b[0;32mpandas/src/hashtable_class_helper.pxi\u001b[0m in \u001b[0;36mpandas.hashtable.PyObjectHashTable.get_item (pandas/hashtable.c:13733)\u001b[0;34m()\u001b[0m\n",
      "\u001b[0;32mpandas/src/hashtable_class_helper.pxi\u001b[0m in \u001b[0;36mpandas.hashtable.PyObjectHashTable.get_item (pandas/hashtable.c:13687)\u001b[0;34m()\u001b[0m\n",
      "\u001b[0;31mKeyError\u001b[0m: 'GENE_ID:HGNC'",
      "\nDuring handling of the above exception, another exception occurred:\n",
      "\u001b[0;31mKeyError\u001b[0m                                  Traceback (most recent call last)",
      "\u001b[0;32m<ipython-input-23-2a6fb5f17f74>\u001b[0m in \u001b[0;36m<module>\u001b[0;34m()\u001b[0m\n\u001b[1;32m     43\u001b[0m \u001b[0mdatasets\u001b[0m \u001b[0;34m=\u001b[0m \u001b[0;34m[\u001b[0m\u001b[0mv\u001b[0m \u001b[0;32mfor\u001b[0m \u001b[0mv\u001b[0m \u001b[0;32min\u001b[0m \u001b[0mdatasets\u001b[0m \u001b[0;32mif\u001b[0m \u001b[0mv\u001b[0m\u001b[0;34m[\u001b[0m\u001b[0;36m1\u001b[0m\u001b[0;34m]\u001b[0m \u001b[0;34m==\u001b[0m \u001b[0mdtyp\u001b[0m\u001b[0;34m.\u001b[0m\u001b[0mDRUG_SENSITIVITY\u001b[0m\u001b[0;34m]\u001b[0m\u001b[0;34m\u001b[0m\u001b[0m\n\u001b[1;32m     44\u001b[0m \u001b[0;34m\u001b[0m\u001b[0m\n\u001b[0;32m---> 45\u001b[0;31m \u001b[0md\u001b[0m \u001b[0;34m=\u001b[0m \u001b[0mget_feature_datasets\u001b[0m\u001b[0;34m(\u001b[0m\u001b[0mdatasets\u001b[0m\u001b[0;34m)\u001b[0m\u001b[0;34m\u001b[0m\u001b[0m\n\u001b[0m\u001b[1;32m     46\u001b[0m \u001b[0;31m#d = db.cache_prep_operation(lambda: get_feature_datasets(datasets), 'raw-features', overwrite=False)\u001b[0m\u001b[0;34m\u001b[0m\u001b[0;34m\u001b[0m\u001b[0m\n",
      "\u001b[0;32m<ipython-input-23-2a6fb5f17f74>\u001b[0m in \u001b[0;36mget_feature_datasets\u001b[0;34m(dataset_info)\u001b[0m\n\u001b[1;32m     34\u001b[0m             \u001b[0mcolumns\u001b[0m\u001b[0;34m=\u001b[0m\u001b[0;34m'GENE_ID:HGNC'\u001b[0m\u001b[0;34m,\u001b[0m\u001b[0;34m\u001b[0m\u001b[0m\n\u001b[1;32m     35\u001b[0m             \u001b[0mvalues\u001b[0m\u001b[0;34m=\u001b[0m\u001b[0mc_val\u001b[0m\u001b[0;34m,\u001b[0m\u001b[0;34m\u001b[0m\u001b[0m\n\u001b[0;32m---> 36\u001b[0;31m             \u001b[0maggfunc\u001b[0m\u001b[0;34m=\u001b[0m\u001b[0magg_func\u001b[0m\u001b[0;34m\u001b[0m\u001b[0m\n\u001b[0m\u001b[1;32m     37\u001b[0m         )\n\u001b[1;32m     38\u001b[0m         \u001b[0mdf\u001b[0m\u001b[0;34m.\u001b[0m\u001b[0mcolumns\u001b[0m \u001b[0;34m=\u001b[0m \u001b[0mpd\u001b[0m\u001b[0;34m.\u001b[0m\u001b[0mMultiIndex\u001b[0m\u001b[0;34m.\u001b[0m\u001b[0mfrom_tuples\u001b[0m\u001b[0;34m(\u001b[0m\u001b[0;34m[\u001b[0m\u001b[0;34m(\u001b[0m\u001b[0msource\u001b[0m\u001b[0;34m,\u001b[0m \u001b[0mdata_type\u001b[0m\u001b[0;34m,\u001b[0m \u001b[0mc\u001b[0m\u001b[0;34m)\u001b[0m \u001b[0;32mfor\u001b[0m \u001b[0mc\u001b[0m \u001b[0;32min\u001b[0m \u001b[0mdf\u001b[0m\u001b[0;34m]\u001b[0m\u001b[0;34m)\u001b[0m\u001b[0;34m\u001b[0m\u001b[0m\n",
      "\u001b[0;32m/Users/eczech/anaconda/envs/mgds/lib/python3.5/site-packages/pandas/tools/pivot.py\u001b[0m in \u001b[0;36mpivot_table\u001b[0;34m(data, values, index, columns, aggfunc, fill_value, margins, dropna, margins_name)\u001b[0m\n\u001b[1;32m    124\u001b[0m         \u001b[0mvalues\u001b[0m \u001b[0;34m=\u001b[0m \u001b[0mlist\u001b[0m\u001b[0;34m(\u001b[0m\u001b[0mvalues\u001b[0m\u001b[0;34m)\u001b[0m\u001b[0;34m\u001b[0m\u001b[0m\n\u001b[1;32m    125\u001b[0m \u001b[0;34m\u001b[0m\u001b[0m\n\u001b[0;32m--> 126\u001b[0;31m     \u001b[0mgrouped\u001b[0m \u001b[0;34m=\u001b[0m \u001b[0mdata\u001b[0m\u001b[0;34m.\u001b[0m\u001b[0mgroupby\u001b[0m\u001b[0;34m(\u001b[0m\u001b[0mkeys\u001b[0m\u001b[0;34m)\u001b[0m\u001b[0;34m\u001b[0m\u001b[0m\n\u001b[0m\u001b[1;32m    127\u001b[0m     \u001b[0magged\u001b[0m \u001b[0;34m=\u001b[0m \u001b[0mgrouped\u001b[0m\u001b[0;34m.\u001b[0m\u001b[0magg\u001b[0m\u001b[0;34m(\u001b[0m\u001b[0maggfunc\u001b[0m\u001b[0;34m)\u001b[0m\u001b[0;34m\u001b[0m\u001b[0m\n\u001b[1;32m    128\u001b[0m \u001b[0;34m\u001b[0m\u001b[0m\n",
      "\u001b[0;32m/Users/eczech/anaconda/envs/mgds/lib/python3.5/site-packages/pandas/core/generic.py\u001b[0m in \u001b[0;36mgroupby\u001b[0;34m(self, by, axis, level, as_index, sort, group_keys, squeeze, **kwargs)\u001b[0m\n\u001b[1;32m   3982\u001b[0m         return groupby(self, by=by, axis=axis, level=level, as_index=as_index,\n\u001b[1;32m   3983\u001b[0m                        \u001b[0msort\u001b[0m\u001b[0;34m=\u001b[0m\u001b[0msort\u001b[0m\u001b[0;34m,\u001b[0m \u001b[0mgroup_keys\u001b[0m\u001b[0;34m=\u001b[0m\u001b[0mgroup_keys\u001b[0m\u001b[0;34m,\u001b[0m \u001b[0msqueeze\u001b[0m\u001b[0;34m=\u001b[0m\u001b[0msqueeze\u001b[0m\u001b[0;34m,\u001b[0m\u001b[0;34m\u001b[0m\u001b[0m\n\u001b[0;32m-> 3984\u001b[0;31m                        **kwargs)\n\u001b[0m\u001b[1;32m   3985\u001b[0m \u001b[0;34m\u001b[0m\u001b[0m\n\u001b[1;32m   3986\u001b[0m     \u001b[0;32mdef\u001b[0m \u001b[0masfreq\u001b[0m\u001b[0;34m(\u001b[0m\u001b[0mself\u001b[0m\u001b[0;34m,\u001b[0m \u001b[0mfreq\u001b[0m\u001b[0;34m,\u001b[0m \u001b[0mmethod\u001b[0m\u001b[0;34m=\u001b[0m\u001b[0;32mNone\u001b[0m\u001b[0;34m,\u001b[0m \u001b[0mhow\u001b[0m\u001b[0;34m=\u001b[0m\u001b[0;32mNone\u001b[0m\u001b[0;34m,\u001b[0m \u001b[0mnormalize\u001b[0m\u001b[0;34m=\u001b[0m\u001b[0;32mFalse\u001b[0m\u001b[0;34m)\u001b[0m\u001b[0;34m:\u001b[0m\u001b[0;34m\u001b[0m\u001b[0m\n",
      "\u001b[0;32m/Users/eczech/anaconda/envs/mgds/lib/python3.5/site-packages/pandas/core/groupby.py\u001b[0m in \u001b[0;36mgroupby\u001b[0;34m(obj, by, **kwds)\u001b[0m\n\u001b[1;32m   1499\u001b[0m         \u001b[0;32mraise\u001b[0m \u001b[0mTypeError\u001b[0m\u001b[0;34m(\u001b[0m\u001b[0;34m'invalid type: %s'\u001b[0m \u001b[0;34m%\u001b[0m \u001b[0mtype\u001b[0m\u001b[0;34m(\u001b[0m\u001b[0mobj\u001b[0m\u001b[0;34m)\u001b[0m\u001b[0;34m)\u001b[0m\u001b[0;34m\u001b[0m\u001b[0m\n\u001b[1;32m   1500\u001b[0m \u001b[0;34m\u001b[0m\u001b[0m\n\u001b[0;32m-> 1501\u001b[0;31m     \u001b[0;32mreturn\u001b[0m \u001b[0mklass\u001b[0m\u001b[0;34m(\u001b[0m\u001b[0mobj\u001b[0m\u001b[0;34m,\u001b[0m \u001b[0mby\u001b[0m\u001b[0;34m,\u001b[0m \u001b[0;34m**\u001b[0m\u001b[0mkwds\u001b[0m\u001b[0;34m)\u001b[0m\u001b[0;34m\u001b[0m\u001b[0m\n\u001b[0m\u001b[1;32m   1502\u001b[0m \u001b[0;34m\u001b[0m\u001b[0m\n\u001b[1;32m   1503\u001b[0m \u001b[0;34m\u001b[0m\u001b[0m\n",
      "\u001b[0;32m/Users/eczech/anaconda/envs/mgds/lib/python3.5/site-packages/pandas/core/groupby.py\u001b[0m in \u001b[0;36m__init__\u001b[0;34m(self, obj, keys, axis, level, grouper, exclusions, selection, as_index, sort, group_keys, squeeze, **kwargs)\u001b[0m\n\u001b[1;32m    368\u001b[0m                                                     \u001b[0mlevel\u001b[0m\u001b[0;34m=\u001b[0m\u001b[0mlevel\u001b[0m\u001b[0;34m,\u001b[0m\u001b[0;34m\u001b[0m\u001b[0m\n\u001b[1;32m    369\u001b[0m                                                     \u001b[0msort\u001b[0m\u001b[0;34m=\u001b[0m\u001b[0msort\u001b[0m\u001b[0;34m,\u001b[0m\u001b[0;34m\u001b[0m\u001b[0m\n\u001b[0;32m--> 370\u001b[0;31m                                                     mutated=self.mutated)\n\u001b[0m\u001b[1;32m    371\u001b[0m \u001b[0;34m\u001b[0m\u001b[0m\n\u001b[1;32m    372\u001b[0m         \u001b[0mself\u001b[0m\u001b[0;34m.\u001b[0m\u001b[0mobj\u001b[0m \u001b[0;34m=\u001b[0m \u001b[0mobj\u001b[0m\u001b[0;34m\u001b[0m\u001b[0m\n",
      "\u001b[0;32m/Users/eczech/anaconda/envs/mgds/lib/python3.5/site-packages/pandas/core/groupby.py\u001b[0m in \u001b[0;36m_get_grouper\u001b[0;34m(obj, key, axis, level, sort, mutated)\u001b[0m\n\u001b[1;32m   2450\u001b[0m \u001b[0;34m\u001b[0m\u001b[0m\n\u001b[1;32m   2451\u001b[0m         \u001b[0;32melif\u001b[0m \u001b[0mis_in_axis\u001b[0m\u001b[0;34m(\u001b[0m\u001b[0mgpr\u001b[0m\u001b[0;34m)\u001b[0m\u001b[0;34m:\u001b[0m  \u001b[0;31m# df.groupby('name')\u001b[0m\u001b[0;34m\u001b[0m\u001b[0m\n\u001b[0;32m-> 2452\u001b[0;31m             \u001b[0min_axis\u001b[0m\u001b[0;34m,\u001b[0m \u001b[0mname\u001b[0m\u001b[0;34m,\u001b[0m \u001b[0mgpr\u001b[0m \u001b[0;34m=\u001b[0m \u001b[0;32mTrue\u001b[0m\u001b[0;34m,\u001b[0m \u001b[0mgpr\u001b[0m\u001b[0;34m,\u001b[0m \u001b[0mobj\u001b[0m\u001b[0;34m[\u001b[0m\u001b[0mgpr\u001b[0m\u001b[0;34m]\u001b[0m\u001b[0;34m\u001b[0m\u001b[0m\n\u001b[0m\u001b[1;32m   2453\u001b[0m             \u001b[0mexclusions\u001b[0m\u001b[0;34m.\u001b[0m\u001b[0mappend\u001b[0m\u001b[0;34m(\u001b[0m\u001b[0mname\u001b[0m\u001b[0;34m)\u001b[0m\u001b[0;34m\u001b[0m\u001b[0m\n\u001b[1;32m   2454\u001b[0m         \u001b[0;32melif\u001b[0m \u001b[0misinstance\u001b[0m\u001b[0;34m(\u001b[0m\u001b[0mgpr\u001b[0m\u001b[0;34m,\u001b[0m \u001b[0mGrouper\u001b[0m\u001b[0;34m)\u001b[0m \u001b[0;32mand\u001b[0m \u001b[0mgpr\u001b[0m\u001b[0;34m.\u001b[0m\u001b[0mkey\u001b[0m \u001b[0;32mis\u001b[0m \u001b[0;32mnot\u001b[0m \u001b[0;32mNone\u001b[0m\u001b[0;34m:\u001b[0m\u001b[0;34m\u001b[0m\u001b[0m\n",
      "\u001b[0;32m/Users/eczech/anaconda/envs/mgds/lib/python3.5/site-packages/pandas/core/frame.py\u001b[0m in \u001b[0;36m__getitem__\u001b[0;34m(self, key)\u001b[0m\n\u001b[1;32m   2057\u001b[0m             \u001b[0;32mreturn\u001b[0m \u001b[0mself\u001b[0m\u001b[0;34m.\u001b[0m\u001b[0m_getitem_multilevel\u001b[0m\u001b[0;34m(\u001b[0m\u001b[0mkey\u001b[0m\u001b[0;34m)\u001b[0m\u001b[0;34m\u001b[0m\u001b[0m\n\u001b[1;32m   2058\u001b[0m         \u001b[0;32melse\u001b[0m\u001b[0;34m:\u001b[0m\u001b[0;34m\u001b[0m\u001b[0m\n\u001b[0;32m-> 2059\u001b[0;31m             \u001b[0;32mreturn\u001b[0m \u001b[0mself\u001b[0m\u001b[0;34m.\u001b[0m\u001b[0m_getitem_column\u001b[0m\u001b[0;34m(\u001b[0m\u001b[0mkey\u001b[0m\u001b[0;34m)\u001b[0m\u001b[0;34m\u001b[0m\u001b[0m\n\u001b[0m\u001b[1;32m   2060\u001b[0m \u001b[0;34m\u001b[0m\u001b[0m\n\u001b[1;32m   2061\u001b[0m     \u001b[0;32mdef\u001b[0m \u001b[0m_getitem_column\u001b[0m\u001b[0;34m(\u001b[0m\u001b[0mself\u001b[0m\u001b[0;34m,\u001b[0m \u001b[0mkey\u001b[0m\u001b[0;34m)\u001b[0m\u001b[0;34m:\u001b[0m\u001b[0;34m\u001b[0m\u001b[0m\n",
      "\u001b[0;32m/Users/eczech/anaconda/envs/mgds/lib/python3.5/site-packages/pandas/core/frame.py\u001b[0m in \u001b[0;36m_getitem_column\u001b[0;34m(self, key)\u001b[0m\n\u001b[1;32m   2064\u001b[0m         \u001b[0;31m# get column\u001b[0m\u001b[0;34m\u001b[0m\u001b[0;34m\u001b[0m\u001b[0m\n\u001b[1;32m   2065\u001b[0m         \u001b[0;32mif\u001b[0m \u001b[0mself\u001b[0m\u001b[0;34m.\u001b[0m\u001b[0mcolumns\u001b[0m\u001b[0;34m.\u001b[0m\u001b[0mis_unique\u001b[0m\u001b[0;34m:\u001b[0m\u001b[0;34m\u001b[0m\u001b[0m\n\u001b[0;32m-> 2066\u001b[0;31m             \u001b[0;32mreturn\u001b[0m \u001b[0mself\u001b[0m\u001b[0;34m.\u001b[0m\u001b[0m_get_item_cache\u001b[0m\u001b[0;34m(\u001b[0m\u001b[0mkey\u001b[0m\u001b[0;34m)\u001b[0m\u001b[0;34m\u001b[0m\u001b[0m\n\u001b[0m\u001b[1;32m   2067\u001b[0m \u001b[0;34m\u001b[0m\u001b[0m\n\u001b[1;32m   2068\u001b[0m         \u001b[0;31m# duplicate columns & possible reduce dimensionality\u001b[0m\u001b[0;34m\u001b[0m\u001b[0;34m\u001b[0m\u001b[0m\n",
      "\u001b[0;32m/Users/eczech/anaconda/envs/mgds/lib/python3.5/site-packages/pandas/core/generic.py\u001b[0m in \u001b[0;36m_get_item_cache\u001b[0;34m(self, item)\u001b[0m\n\u001b[1;32m   1384\u001b[0m         \u001b[0mres\u001b[0m \u001b[0;34m=\u001b[0m \u001b[0mcache\u001b[0m\u001b[0;34m.\u001b[0m\u001b[0mget\u001b[0m\u001b[0;34m(\u001b[0m\u001b[0mitem\u001b[0m\u001b[0;34m)\u001b[0m\u001b[0;34m\u001b[0m\u001b[0m\n\u001b[1;32m   1385\u001b[0m         \u001b[0;32mif\u001b[0m \u001b[0mres\u001b[0m \u001b[0;32mis\u001b[0m \u001b[0;32mNone\u001b[0m\u001b[0;34m:\u001b[0m\u001b[0;34m\u001b[0m\u001b[0m\n\u001b[0;32m-> 1386\u001b[0;31m             \u001b[0mvalues\u001b[0m \u001b[0;34m=\u001b[0m \u001b[0mself\u001b[0m\u001b[0;34m.\u001b[0m\u001b[0m_data\u001b[0m\u001b[0;34m.\u001b[0m\u001b[0mget\u001b[0m\u001b[0;34m(\u001b[0m\u001b[0mitem\u001b[0m\u001b[0;34m)\u001b[0m\u001b[0;34m\u001b[0m\u001b[0m\n\u001b[0m\u001b[1;32m   1387\u001b[0m             \u001b[0mres\u001b[0m \u001b[0;34m=\u001b[0m \u001b[0mself\u001b[0m\u001b[0;34m.\u001b[0m\u001b[0m_box_item_values\u001b[0m\u001b[0;34m(\u001b[0m\u001b[0mitem\u001b[0m\u001b[0;34m,\u001b[0m \u001b[0mvalues\u001b[0m\u001b[0;34m)\u001b[0m\u001b[0;34m\u001b[0m\u001b[0m\n\u001b[1;32m   1388\u001b[0m             \u001b[0mcache\u001b[0m\u001b[0;34m[\u001b[0m\u001b[0mitem\u001b[0m\u001b[0;34m]\u001b[0m \u001b[0;34m=\u001b[0m \u001b[0mres\u001b[0m\u001b[0;34m\u001b[0m\u001b[0m\n",
      "\u001b[0;32m/Users/eczech/anaconda/envs/mgds/lib/python3.5/site-packages/pandas/core/internals.py\u001b[0m in \u001b[0;36mget\u001b[0;34m(self, item, fastpath)\u001b[0m\n\u001b[1;32m   3539\u001b[0m \u001b[0;34m\u001b[0m\u001b[0m\n\u001b[1;32m   3540\u001b[0m             \u001b[0;32mif\u001b[0m \u001b[0;32mnot\u001b[0m \u001b[0misnull\u001b[0m\u001b[0;34m(\u001b[0m\u001b[0mitem\u001b[0m\u001b[0;34m)\u001b[0m\u001b[0;34m:\u001b[0m\u001b[0;34m\u001b[0m\u001b[0m\n\u001b[0;32m-> 3541\u001b[0;31m                 \u001b[0mloc\u001b[0m \u001b[0;34m=\u001b[0m \u001b[0mself\u001b[0m\u001b[0;34m.\u001b[0m\u001b[0mitems\u001b[0m\u001b[0;34m.\u001b[0m\u001b[0mget_loc\u001b[0m\u001b[0;34m(\u001b[0m\u001b[0mitem\u001b[0m\u001b[0;34m)\u001b[0m\u001b[0;34m\u001b[0m\u001b[0m\n\u001b[0m\u001b[1;32m   3542\u001b[0m             \u001b[0;32melse\u001b[0m\u001b[0;34m:\u001b[0m\u001b[0;34m\u001b[0m\u001b[0m\n\u001b[1;32m   3543\u001b[0m                 \u001b[0mindexer\u001b[0m \u001b[0;34m=\u001b[0m \u001b[0mnp\u001b[0m\u001b[0;34m.\u001b[0m\u001b[0marange\u001b[0m\u001b[0;34m(\u001b[0m\u001b[0mlen\u001b[0m\u001b[0;34m(\u001b[0m\u001b[0mself\u001b[0m\u001b[0;34m.\u001b[0m\u001b[0mitems\u001b[0m\u001b[0;34m)\u001b[0m\u001b[0;34m)\u001b[0m\u001b[0;34m[\u001b[0m\u001b[0misnull\u001b[0m\u001b[0;34m(\u001b[0m\u001b[0mself\u001b[0m\u001b[0;34m.\u001b[0m\u001b[0mitems\u001b[0m\u001b[0;34m)\u001b[0m\u001b[0;34m]\u001b[0m\u001b[0;34m\u001b[0m\u001b[0m\n",
      "\u001b[0;32m/Users/eczech/anaconda/envs/mgds/lib/python3.5/site-packages/pandas/indexes/base.py\u001b[0m in \u001b[0;36mget_loc\u001b[0;34m(self, key, method, tolerance)\u001b[0m\n\u001b[1;32m   2134\u001b[0m                 \u001b[0;32mreturn\u001b[0m \u001b[0mself\u001b[0m\u001b[0;34m.\u001b[0m\u001b[0m_engine\u001b[0m\u001b[0;34m.\u001b[0m\u001b[0mget_loc\u001b[0m\u001b[0;34m(\u001b[0m\u001b[0mkey\u001b[0m\u001b[0;34m)\u001b[0m\u001b[0;34m\u001b[0m\u001b[0m\n\u001b[1;32m   2135\u001b[0m             \u001b[0;32mexcept\u001b[0m \u001b[0mKeyError\u001b[0m\u001b[0;34m:\u001b[0m\u001b[0;34m\u001b[0m\u001b[0m\n\u001b[0;32m-> 2136\u001b[0;31m                 \u001b[0;32mreturn\u001b[0m \u001b[0mself\u001b[0m\u001b[0;34m.\u001b[0m\u001b[0m_engine\u001b[0m\u001b[0;34m.\u001b[0m\u001b[0mget_loc\u001b[0m\u001b[0;34m(\u001b[0m\u001b[0mself\u001b[0m\u001b[0;34m.\u001b[0m\u001b[0m_maybe_cast_indexer\u001b[0m\u001b[0;34m(\u001b[0m\u001b[0mkey\u001b[0m\u001b[0;34m)\u001b[0m\u001b[0;34m)\u001b[0m\u001b[0;34m\u001b[0m\u001b[0m\n\u001b[0m\u001b[1;32m   2137\u001b[0m \u001b[0;34m\u001b[0m\u001b[0m\n\u001b[1;32m   2138\u001b[0m         \u001b[0mindexer\u001b[0m \u001b[0;34m=\u001b[0m \u001b[0mself\u001b[0m\u001b[0;34m.\u001b[0m\u001b[0mget_indexer\u001b[0m\u001b[0;34m(\u001b[0m\u001b[0;34m[\u001b[0m\u001b[0mkey\u001b[0m\u001b[0;34m]\u001b[0m\u001b[0;34m,\u001b[0m \u001b[0mmethod\u001b[0m\u001b[0;34m=\u001b[0m\u001b[0mmethod\u001b[0m\u001b[0;34m,\u001b[0m \u001b[0mtolerance\u001b[0m\u001b[0;34m=\u001b[0m\u001b[0mtolerance\u001b[0m\u001b[0;34m)\u001b[0m\u001b[0;34m\u001b[0m\u001b[0m\n",
      "\u001b[0;32mpandas/index.pyx\u001b[0m in \u001b[0;36mpandas.index.IndexEngine.get_loc (pandas/index.c:4443)\u001b[0;34m()\u001b[0m\n",
      "\u001b[0;32mpandas/index.pyx\u001b[0m in \u001b[0;36mpandas.index.IndexEngine.get_loc (pandas/index.c:4289)\u001b[0;34m()\u001b[0m\n",
      "\u001b[0;32mpandas/src/hashtable_class_helper.pxi\u001b[0m in \u001b[0;36mpandas.hashtable.PyObjectHashTable.get_item (pandas/hashtable.c:13733)\u001b[0;34m()\u001b[0m\n",
      "\u001b[0;32mpandas/src/hashtable_class_helper.pxi\u001b[0m in \u001b[0;36mpandas.hashtable.PyObjectHashTable.get_item (pandas/hashtable.c:13687)\u001b[0;34m()\u001b[0m\n",
      "\u001b[0;31mKeyError\u001b[0m: 'GENE_ID:HGNC'"
     ]
    }
   ],
   "source": [
    "from py_utils.pandas_utils import one_value\n",
    "\n",
    "def get_feature_datasets(dataset_info):\n",
    "    d = []\n",
    "    for (source, data_type) in dataset_info:\n",
    "        logger.info('Unpacking source \"{}\", data set \"{}\"'.format(source, data_type))\n",
    "\n",
    "        c_val = 'INDICATOR' if data_type in [dtyp.GENE_EXOME_SEQ] else 'VALUE'\n",
    "        agg_func = 'mean' if data_type in [dtyp.GENE_EXOME_SEQ] else one_value\n",
    "\n",
    "        # Leaving this out due to lack of clarity on encoding (what is \"-1,-1,-,-\"?)\n",
    "        if source == src.GDSC_v2 and data_type in [dtyp.GENE_COPY_NUMBER]:\n",
    "            continue\n",
    "\n",
    "        # These were both verified to show that the values associated with all duplicate MGDS cell lines\n",
    "        # and genes are identical (so the mean will be used, but there is no variance)\n",
    "        if source == src.CCLE_v1 and data_type in [dtyp.GENE_COPY_NUMBER, dtyp.GENE_EXPRESSION]:\n",
    "            agg_func = 'mean'\n",
    "\n",
    "    #     if source == src.GDSC_v2 or source == src.NCI60_v2 or source == src.CCLE_v1:\n",
    "    #         continue\n",
    "\n",
    "\n",
    "        df = api.get_raw_genomic_data(source, data_type, mappings=entity_mappings)\n",
    "\n",
    "        if c_val == 'VALUE' and 'VALUE' not in df:\n",
    "            c_val = 'VALUE_MEAN'\n",
    "\n",
    "        df['INDICATOR'] = 1\n",
    "\n",
    "\n",
    "        df = df.pivot_table(\n",
    "            index=['CELL_LINE_ID:MGDS', 'PRIMARY_SITE:MGDS'],\n",
    "            columns='GENE_ID:HGNC',\n",
    "            values=c_val,\n",
    "            aggfunc=agg_func\n",
    "        )\n",
    "        df.columns = pd.MultiIndex.from_tuples([(source, data_type, c) for c in df])\n",
    "        d.append(df)\n",
    "    return pd.concat(d, axis=1)\n",
    "\n",
    "datasets = api.get_genomic_data_availability()\n",
    "datasets = [v for v in datasets if v[1] == dtyp.DRUG_SENSITIVITY]\n",
    "\n",
    "d = get_feature_datasets(datasets)\n",
    "#d = db.cache_prep_operation(lambda: get_feature_datasets(datasets), 'raw-features', overwrite=False)"
   ]
  },
  {
   "cell_type": "code",
   "execution_count": 4,
   "metadata": {
    "collapsed": false
   },
   "outputs": [
    {
     "data": {
      "text/html": [
       "<div>\n",
       "<table border=\"1\" class=\"dataframe\">\n",
       "  <thead>\n",
       "    <tr>\n",
       "      <th></th>\n",
       "      <th></th>\n",
       "      <th colspan=\"10\" halign=\"left\">ccle_v1</th>\n",
       "      <th>...</th>\n",
       "      <th colspan=\"10\" halign=\"left\">ncidream_v1</th>\n",
       "    </tr>\n",
       "    <tr>\n",
       "      <th></th>\n",
       "      <th></th>\n",
       "      <th colspan=\"10\" halign=\"left\">gene-copy-number</th>\n",
       "      <th>...</th>\n",
       "      <th colspan=\"10\" halign=\"left\">gene-rna-seq</th>\n",
       "    </tr>\n",
       "    <tr>\n",
       "      <th></th>\n",
       "      <th></th>\n",
       "      <th>A1BG</th>\n",
       "      <th>A1BG-AS1</th>\n",
       "      <th>A1CF</th>\n",
       "      <th>A2M</th>\n",
       "      <th>A2ML1</th>\n",
       "      <th>A4GALT</th>\n",
       "      <th>A4GNT</th>\n",
       "      <th>AAAS</th>\n",
       "      <th>AACS</th>\n",
       "      <th>AACSP1</th>\n",
       "      <th>...</th>\n",
       "      <th>snoR38</th>\n",
       "      <th>snoU2-30</th>\n",
       "      <th>snoU2_19</th>\n",
       "      <th>snoU6-53</th>\n",
       "      <th>snoU83B</th>\n",
       "      <th>snoZ30</th>\n",
       "      <th>snoZ39</th>\n",
       "      <th>snoZ40</th>\n",
       "      <th>snosnR60_Z15</th>\n",
       "      <th>snosnR66</th>\n",
       "    </tr>\n",
       "    <tr>\n",
       "      <th>CELL_LINE_ID:MGDS</th>\n",
       "      <th>PRIMARY_SITE:MGDS</th>\n",
       "      <th></th>\n",
       "      <th></th>\n",
       "      <th></th>\n",
       "      <th></th>\n",
       "      <th></th>\n",
       "      <th></th>\n",
       "      <th></th>\n",
       "      <th></th>\n",
       "      <th></th>\n",
       "      <th></th>\n",
       "      <th></th>\n",
       "      <th></th>\n",
       "      <th></th>\n",
       "      <th></th>\n",
       "      <th></th>\n",
       "      <th></th>\n",
       "      <th></th>\n",
       "      <th></th>\n",
       "      <th></th>\n",
       "      <th></th>\n",
       "      <th></th>\n",
       "    </tr>\n",
       "  </thead>\n",
       "  <tbody>\n",
       "    <tr>\n",
       "      <th>1321N1</th>\n",
       "      <th>CENTRAL_NERVOUS_SYSTEM</th>\n",
       "      <td>-0.1544</td>\n",
       "      <td>-0.1544</td>\n",
       "      <td>-0.0985</td>\n",
       "      <td>-0.1819</td>\n",
       "      <td>-0.1819</td>\n",
       "      <td>-0.1732</td>\n",
       "      <td>0.2575</td>\n",
       "      <td>-0.0404</td>\n",
       "      <td>-0.1284</td>\n",
       "      <td>0.1682</td>\n",
       "      <td>...</td>\n",
       "      <td>NaN</td>\n",
       "      <td>NaN</td>\n",
       "      <td>NaN</td>\n",
       "      <td>NaN</td>\n",
       "      <td>NaN</td>\n",
       "      <td>NaN</td>\n",
       "      <td>NaN</td>\n",
       "      <td>NaN</td>\n",
       "      <td>NaN</td>\n",
       "      <td>NaN</td>\n",
       "    </tr>\n",
       "    <tr>\n",
       "      <th>143B</th>\n",
       "      <th>BONE</th>\n",
       "      <td>-0.2120</td>\n",
       "      <td>-0.2120</td>\n",
       "      <td>0.1580</td>\n",
       "      <td>-0.1753</td>\n",
       "      <td>-0.1753</td>\n",
       "      <td>-0.2536</td>\n",
       "      <td>0.2060</td>\n",
       "      <td>-0.1445</td>\n",
       "      <td>-0.2757</td>\n",
       "      <td>0.2150</td>\n",
       "      <td>...</td>\n",
       "      <td>NaN</td>\n",
       "      <td>NaN</td>\n",
       "      <td>NaN</td>\n",
       "      <td>NaN</td>\n",
       "      <td>NaN</td>\n",
       "      <td>NaN</td>\n",
       "      <td>NaN</td>\n",
       "      <td>NaN</td>\n",
       "      <td>NaN</td>\n",
       "      <td>NaN</td>\n",
       "    </tr>\n",
       "    <tr>\n",
       "      <th>184A1</th>\n",
       "      <th>BREAST</th>\n",
       "      <td>NaN</td>\n",
       "      <td>NaN</td>\n",
       "      <td>NaN</td>\n",
       "      <td>NaN</td>\n",
       "      <td>NaN</td>\n",
       "      <td>NaN</td>\n",
       "      <td>NaN</td>\n",
       "      <td>NaN</td>\n",
       "      <td>NaN</td>\n",
       "      <td>NaN</td>\n",
       "      <td>...</td>\n",
       "      <td>0.0</td>\n",
       "      <td>0.0</td>\n",
       "      <td>0.0</td>\n",
       "      <td>0.000000</td>\n",
       "      <td>12.001058</td>\n",
       "      <td>0.0</td>\n",
       "      <td>0.0</td>\n",
       "      <td>0.0</td>\n",
       "      <td>48.899581</td>\n",
       "      <td>0.0</td>\n",
       "    </tr>\n",
       "    <tr>\n",
       "      <th>184B5</th>\n",
       "      <th>BREAST</th>\n",
       "      <td>NaN</td>\n",
       "      <td>NaN</td>\n",
       "      <td>NaN</td>\n",
       "      <td>NaN</td>\n",
       "      <td>NaN</td>\n",
       "      <td>NaN</td>\n",
       "      <td>NaN</td>\n",
       "      <td>NaN</td>\n",
       "      <td>NaN</td>\n",
       "      <td>NaN</td>\n",
       "      <td>...</td>\n",
       "      <td>0.0</td>\n",
       "      <td>0.0</td>\n",
       "      <td>0.0</td>\n",
       "      <td>5.493734</td>\n",
       "      <td>16.925710</td>\n",
       "      <td>0.0</td>\n",
       "      <td>0.0</td>\n",
       "      <td>0.0</td>\n",
       "      <td>53.819947</td>\n",
       "      <td>0.0</td>\n",
       "    </tr>\n",
       "    <tr>\n",
       "      <th>201T</th>\n",
       "      <th>LUNG</th>\n",
       "      <td>NaN</td>\n",
       "      <td>NaN</td>\n",
       "      <td>NaN</td>\n",
       "      <td>NaN</td>\n",
       "      <td>NaN</td>\n",
       "      <td>NaN</td>\n",
       "      <td>NaN</td>\n",
       "      <td>NaN</td>\n",
       "      <td>NaN</td>\n",
       "      <td>NaN</td>\n",
       "      <td>...</td>\n",
       "      <td>NaN</td>\n",
       "      <td>NaN</td>\n",
       "      <td>NaN</td>\n",
       "      <td>NaN</td>\n",
       "      <td>NaN</td>\n",
       "      <td>NaN</td>\n",
       "      <td>NaN</td>\n",
       "      <td>NaN</td>\n",
       "      <td>NaN</td>\n",
       "      <td>NaN</td>\n",
       "    </tr>\n",
       "  </tbody>\n",
       "</table>\n",
       "<p>5 rows × 234533 columns</p>\n",
       "</div>"
      ],
      "text/plain": [
       "                                                  ccle_v1                   \\\n",
       "                                         gene-copy-number                    \n",
       "                                                     A1BG A1BG-AS1    A1CF   \n",
       "CELL_LINE_ID:MGDS PRIMARY_SITE:MGDS                                          \n",
       "1321N1            CENTRAL_NERVOUS_SYSTEM          -0.1544  -0.1544 -0.0985   \n",
       "143B              BONE                            -0.2120  -0.2120  0.1580   \n",
       "184A1             BREAST                              NaN      NaN     NaN   \n",
       "184B5             BREAST                              NaN      NaN     NaN   \n",
       "201T              LUNG                                NaN      NaN     NaN   \n",
       "\n",
       "                                                                          \\\n",
       "                                                                           \n",
       "                                             A2M   A2ML1  A4GALT   A4GNT   \n",
       "CELL_LINE_ID:MGDS PRIMARY_SITE:MGDS                                        \n",
       "1321N1            CENTRAL_NERVOUS_SYSTEM -0.1819 -0.1819 -0.1732  0.2575   \n",
       "143B              BONE                   -0.1753 -0.1753 -0.2536  0.2060   \n",
       "184A1             BREAST                     NaN     NaN     NaN     NaN   \n",
       "184B5             BREAST                     NaN     NaN     NaN     NaN   \n",
       "201T              LUNG                       NaN     NaN     NaN     NaN   \n",
       "\n",
       "                                                                   ...     \\\n",
       "                                                                   ...      \n",
       "                                            AAAS    AACS  AACSP1   ...      \n",
       "CELL_LINE_ID:MGDS PRIMARY_SITE:MGDS                                ...      \n",
       "1321N1            CENTRAL_NERVOUS_SYSTEM -0.0404 -0.1284  0.1682   ...      \n",
       "143B              BONE                   -0.1445 -0.2757  0.2150   ...      \n",
       "184A1             BREAST                     NaN     NaN     NaN   ...      \n",
       "184B5             BREAST                     NaN     NaN     NaN   ...      \n",
       "201T              LUNG                       NaN     NaN     NaN   ...      \n",
       "\n",
       "                                          ncidream_v1                    \\\n",
       "                                         gene-rna-seq                     \n",
       "                                               snoR38 snoU2-30 snoU2_19   \n",
       "CELL_LINE_ID:MGDS PRIMARY_SITE:MGDS                                       \n",
       "1321N1            CENTRAL_NERVOUS_SYSTEM          NaN      NaN      NaN   \n",
       "143B              BONE                            NaN      NaN      NaN   \n",
       "184A1             BREAST                          0.0      0.0      0.0   \n",
       "184B5             BREAST                          0.0      0.0      0.0   \n",
       "201T              LUNG                            NaN      NaN      NaN   \n",
       "\n",
       "                                                                             \\\n",
       "                                                                              \n",
       "                                          snoU6-53    snoU83B snoZ30 snoZ39   \n",
       "CELL_LINE_ID:MGDS PRIMARY_SITE:MGDS                                           \n",
       "1321N1            CENTRAL_NERVOUS_SYSTEM       NaN        NaN    NaN    NaN   \n",
       "143B              BONE                         NaN        NaN    NaN    NaN   \n",
       "184A1             BREAST                  0.000000  12.001058    0.0    0.0   \n",
       "184B5             BREAST                  5.493734  16.925710    0.0    0.0   \n",
       "201T              LUNG                         NaN        NaN    NaN    NaN   \n",
       "\n",
       "                                                                       \n",
       "                                                                       \n",
       "                                         snoZ40 snosnR60_Z15 snosnR66  \n",
       "CELL_LINE_ID:MGDS PRIMARY_SITE:MGDS                                    \n",
       "1321N1            CENTRAL_NERVOUS_SYSTEM    NaN          NaN      NaN  \n",
       "143B              BONE                      NaN          NaN      NaN  \n",
       "184A1             BREAST                    0.0    48.899581      0.0  \n",
       "184B5             BREAST                    0.0    53.819947      0.0  \n",
       "201T              LUNG                      NaN          NaN      NaN  \n",
       "\n",
       "[5 rows x 234533 columns]"
      ]
     },
     "execution_count": 4,
     "metadata": {},
     "output_type": "execute_result"
    }
   ],
   "source": [
    "d.head()"
   ]
  },
  {
   "cell_type": "code",
   "execution_count": 5,
   "metadata": {
    "collapsed": false
   },
   "outputs": [
    {
     "data": {
      "text/plain": [
       "HAEMATOPOIETIC_AND_LYMPHOID_TISSUE    243\n",
       "LUNG                                  229\n",
       "BREAST                                 86\n",
       "SKIN                                   86\n",
       "CENTRAL_NERVOUS_SYSTEM                 77\n",
       "LARGE_INTESTINE                        68\n",
       "OVARY                                  66\n",
       "BONE                                   60\n",
       "UPPER_AERODIGESTIVE_TRACT              59\n",
       "KIDNEY                                 53\n",
       "PANCREAS                               49\n",
       "STOMACH                                48\n",
       "AUTONOMIC_GANGLIA                      39\n",
       "OESOPHAGUS                             37\n",
       "URINARY_TRACT                          30\n",
       "ENDOMETRIUM                            29\n",
       "LIVER                                  28\n",
       "SOFT_TISSUE                            28\n",
       "PLEURA                                 26\n",
       "THYROID                                18\n",
       "CERVIX                                 14\n",
       "BILIARY_TRACT                          12\n",
       "PROSTATE                               10\n",
       "UNKNOWN                                 3\n",
       "SALIVARY_GLAND                          3\n",
       "VULVA                                   3\n",
       "PLACENTA                                2\n",
       "TESTIS                                  2\n",
       "NS                                      1\n",
       "SMALL_INTESTINE                         1\n",
       "ADRENAL_GLAND                           1\n",
       "Name: PRIMARY_SITE:MGDS, dtype: int64"
      ]
     },
     "execution_count": 5,
     "metadata": {},
     "output_type": "execute_result"
    }
   ],
   "source": [
    "sites = d.index.get_level_values('PRIMARY_SITE:MGDS')\n",
    "sites.value_counts()"
   ]
  },
  {
   "cell_type": "code",
   "execution_count": 6,
   "metadata": {
    "collapsed": false
   },
   "outputs": [],
   "source": [
    "# from sklearn.model_selection import LeaveOneGroupOut, StratifiedKFold, KFold\n",
    "# #cv = LeaveOneGroupOut(['a', 'a', 'a', 'b', 'b', 'b', 'c', 'c'])\n",
    "# cv = KFold()\n",
    "# cv.split()"
   ]
  },
  {
   "cell_type": "code",
   "execution_count": 7,
   "metadata": {
    "collapsed": true
   },
   "outputs": [],
   "source": [
    "from sklearn.model_selection import KFold\n",
    "from py_utils import collection_utils\n",
    "import collections\n",
    "\n",
    "def _validate_fold(folds, i, j, k):\n",
    "    #     print(len(folds[i]['test']))\n",
    "    #     print(len(folds[i]['inner'][j]['train']))\n",
    "    #     print(len(folds[i]['inner'][j]['test']))\n",
    "    assert len(folds[i]['test']) == \\\n",
    "        len(folds[i]['inner'][j]['train']) + len(folds[i]['inner'][j]['test'])\n",
    "    assert len(folds[i]['inner'][j]['train']) == \\\n",
    "        len(folds[i]['inner'][j]['inner'][k]['train']) + len(folds[i]['inner'][j]['inner'][k]['test'])\n",
    "\n",
    "    \n",
    "def get_cv_folds(d, sites=None, n_split1=10, n_split2=3, random_state=None):\n",
    "    idx = pd.Series(np.arange(len(d)))\n",
    "    all_sites = d.index.get_level_values('PRIMARY_SITE:MGDS')\n",
    "    \n",
    "    if sites is None:\n",
    "        sites = sorted(np.unique(all_sites))\n",
    "\n",
    "    folds = collections.OrderedDict()\n",
    "    for i, site in enumerate(sites):\n",
    "        train_0 = idx.loc[all_sites != site].values\n",
    "        test_0 = np.setdiff1d(idx, train_0)\n",
    "\n",
    "        folds[i] = {\n",
    "            'train': idx.iloc[train_0], \n",
    "            'test': idx.iloc[test_0], \n",
    "            'site': site, \n",
    "            'inner': collections.OrderedDict()\n",
    "        }\n",
    "        cv_1 = KFold(n_splits=n_split1, random_state=random_state, shuffle=True)\n",
    "        idx_1 = folds[i]['test']\n",
    "        \n",
    "        for j, (train_1, test_1) in enumerate(cv_1.split(idx_1)):\n",
    "            folds[i]['inner'][j] = {\n",
    "                'train': idx_1.iloc[train_1], \n",
    "                'test': idx_1.iloc[test_1], \n",
    "                'inner': collections.OrderedDict()\n",
    "            }\n",
    "            cv_2 = KFold(n_splits=n_split2, random_state=random_state, shuffle=True)\n",
    "            idx_2 = folds[i]['inner'][j]['train']\n",
    "            \n",
    "            for k, (train_2, test_2) in enumerate(cv_2.split(idx_2)):\n",
    "                folds[i]['inner'][j]['inner'][k] = {\n",
    "                    'train': idx_2.iloc[train_2], \n",
    "                    'test': idx_2.iloc[test_2]\n",
    "                }\n",
    "                _validate_fold(folds, i, j, k)\n",
    "    return folds"
   ]
  },
  {
   "cell_type": "code",
   "execution_count": 8,
   "metadata": {
    "collapsed": false
   },
   "outputs": [],
   "source": [
    "cv_sites = ['BREAST', 'LUNG', 'SKIN']\n",
    "cv = get_cv_folds(d, sites=cv_sites)"
   ]
  },
  {
   "cell_type": "markdown",
   "metadata": {},
   "source": [
    "TODO:\n",
    "\n",
    "- Train on Pan-Site to determine best estimators\n",
    "- Train TCGA RPP"
   ]
  },
  {
   "cell_type": "code",
   "execution_count": 9,
   "metadata": {
    "collapsed": true
   },
   "outputs": [],
   "source": [
    "x = {}\n",
    "def test():\n",
    "    return (1, 2)\n",
    "_, x['x'] = test()\n"
   ]
  },
  {
   "cell_type": "code",
   "execution_count": 10,
   "metadata": {
    "collapsed": false
   },
   "outputs": [
    {
     "data": {
      "text/plain": [
       "{'x': 2}"
      ]
     },
     "execution_count": 10,
     "metadata": {},
     "output_type": "execute_result"
    }
   ],
   "source": [
    "x"
   ]
  },
  {
   "cell_type": "code",
   "execution_count": null,
   "metadata": {
    "collapsed": true
   },
   "outputs": [],
   "source": []
  },
  {
   "cell_type": "code",
   "execution_count": 14,
   "metadata": {
    "collapsed": false
   },
   "outputs": [
    {
     "data": {
      "text/plain": [
       "3"
      ]
     },
     "execution_count": 14,
     "metadata": {},
     "output_type": "execute_result"
    }
   ],
   "source": [
    "d.columns.nlevels"
   ]
  },
  {
   "cell_type": "code",
   "execution_count": 15,
   "metadata": {
    "collapsed": false
   },
   "outputs": [
    {
     "data": {
      "text/plain": [
       "('fold', 'fold', 'fold')"
      ]
     },
     "execution_count": 15,
     "metadata": {},
     "output_type": "execute_result"
    }
   ],
   "source": [
    "tuple(np.repeat('fold', 3))"
   ]
  },
  {
   "cell_type": "code",
   "execution_count": 66,
   "metadata": {
    "collapsed": false
   },
   "outputs": [
    {
     "data": {
      "text/plain": [
       "90"
      ]
     },
     "execution_count": 66,
     "metadata": {},
     "output_type": "execute_result"
    }
   ],
   "source": [
    "from sklearn import base\n",
    "\n",
    "def xy(d, cx, cy):\n",
    "        assert len(np.intersect1d(cx, cy)) == 0\n",
    "        assert len(cx) > 0\n",
    "        assert len(cy) > 0\n",
    "        return d[cx], d[cy] \n",
    "        \n",
    "def train_models(models, d_train, d_test=None, prefit_models=None, include_predictions=False):\n",
    "    estimators = {}\n",
    "    predictions = []\n",
    "\n",
    "    responses = models['response_selector'](d_train)\n",
    "    Y_test = None\n",
    "\n",
    "    # Train each model individually\n",
    "    for est_name in models['estimators']:\n",
    "        est_def = models[est_name]\n",
    "\n",
    "        # Determine features and responses for this model\n",
    "        features = est_def['feature_selector'](d_train)\n",
    "\n",
    "        X_train, Y_train = xy(d_train, features, responses)\n",
    "\n",
    "        X_test, Y_test = None, None\n",
    "        if d_test is not None:\n",
    "            X_test, Y_test = xy(d_test, features, responses)\n",
    "\n",
    "        prefit_est = None\n",
    "        if prefit_models is not None and est_name in prefit_models:\n",
    "            prefit_est = base.clone(prefit_models[est_name])\n",
    "\n",
    "        est, Y_pred = est_def['train'](X_train, Y_train, X_test, prefit_est)\n",
    "        Y_pred.columns = pd.MultiIndex.from_tuples([(*c, est_name) for c in Y_pred])\n",
    "\n",
    "        if Y_pred is not None and est is not None:\n",
    "            predictions.append(Y_pred)\n",
    "            estimators[est_name] = est\n",
    "\n",
    "    # Concatenate predictions side by side noting that the predictions from the individual models\n",
    "    # do not necessarily need to be for the same things\n",
    "    Y_pred = pd.concat(predictions, axis=1) if len(predictions) > 0 else None\n",
    "\n",
    "    if include_predictions:\n",
    "        if Y_test is not None:\n",
    "            Y_test.columns = pd.MultiIndex.from_tuples([(*c, 'Actual') for c in Y_test])\n",
    "        estimators, Y_pred, Y_test\n",
    "    else:\n",
    "        estimators\n",
    "        \n",
    "\n",
    "    \n",
    "def add_fold_id(d, fold_id):\n",
    "    fold_col = tuple(np.repeat('Fold'), d.columns.nlevels)\n",
    "    return d.assign(fold_col=fold)\n",
    "\n",
    "def partition(d, i_train, i_test, fold):\n",
    "    d_train = d.iloc[i_train].copy()\n",
    "    d_test = d.iloc[i_test].copy()\n",
    "    return d_train, d_test\n",
    "\n",
    "\n",
    "def predict(d_train, d_test, per_site_estimators, pan_site_estimators, prefit_models):\n",
    "    # Create inner predictions from per-site models, which generally means\n",
    "    # they will only be trained using the training data available in \"d_train\"\n",
    "    per_site_models, Y_pred_1, Y_true_1  = train_models(\n",
    "        per_site_estimators, d_train, d_test,\n",
    "        include_predictions=True\n",
    "    )\n",
    "\n",
    "    # Create predictions from pan-site models, with training data generally from:\n",
    "    # 1. Data not for this particular primary site\n",
    "    # 2. The current inner fold (ie \"d_train\")\n",
    "    # 3. Any combination of the above\n",
    "    # 4. None of the above -- these models could have been trained on something external\n",
    "    #    and only the predictions produced here are used as part of the meta model input\n",
    "    pan_site_models, Y_pred_2, Y_true_2 = train_models(\n",
    "        pan_site_estimators, d_train, d_test,\n",
    "        prefit_models=prefit_models,\n",
    "        include_predictions=True\n",
    "    )\n",
    "    assert Y_true_1.equals(Y_true_2)\n",
    "    Y_true = Y_true_1\n",
    "\n",
    "    Y_pred = pd.concat([Y_pred_1, Y_pred_2], axis=1)\n",
    "\n",
    "    #return per_site_models, pan_site_models, Y_pred, Y_true\n",
    "    return Y_pred, Y_true\n",
    "\n",
    "def run_site_cv(d, site, cv, perse, panse, me, pansepre):\n",
    "    # Run outer CV loop (this loop will be used to determine predictions\n",
    "    # from the second-level \"meta\" model)\n",
    "\n",
    "    prediction_data = []\n",
    "    fold_results = collections.OrderedDict()\n",
    "    for i_outer in cv:\n",
    "        d_train = d.iloc[cv[i_outer]['train']]\n",
    "        d_test = d.iloc[cv[i_outer]['test']]\n",
    "\n",
    "        Y_pred_outer, Y_true_outer = predict(d_train, d_test, perse, panse, pansepre)\n",
    "        Y_feat_outer = pd.concat([Y_pred_outer, Y_true_outer], axis=1)\n",
    "\n",
    "        cv_inner = cv[i_outer]['inner']\n",
    "        Y_feat_inner = []\n",
    "        for i_inner in cv_inner:\n",
    "            d_train = d.iloc[cv_inner[i_inner]['train']]\n",
    "            d_test = d.iloc[cv_inner[i_inner]['test']]\n",
    "            Y_pred, Y_true = predict(d_train, d_test, perse, panse, pansepre)\n",
    "            Y_feat_inner.append(pd.concat([Y_pred, Y_true], axis=1))\n",
    "            del Y_pred, Y_true\n",
    "\n",
    "        # Concatenate predictions from submodels into training set for meta model\n",
    "        Y_feat_inner = pd.concat(Y_feat_inner)\n",
    "        assert Y_feat_inner.columns == Y_feat_outer.columns\n",
    "\n",
    "        meta_models, Y_pred_meta, Y_true_meta = train_models(\n",
    "            meta_estimators, \n",
    "            Y_feat_inner, \n",
    "            Y_feat_outer, \n",
    "            include_predictions=True\n",
    "        )\n",
    "\n",
    "        assert Y_true_meta.equals(Y_true_outer)\n",
    "        Y_pred = pd.concat([\n",
    "            Y_pred_outer,\n",
    "            Y_pred_meta,\n",
    "            Y_true_meta\n",
    "        ], axis=1)\n",
    "\n",
    "        prediction_data.append(add_fold_id(Y_pred, i_outer))\n",
    "        \n",
    "    return {\n",
    "        'prediction_data': pd.concat(prediction_data),\n",
    "        'fold_results': fold_results\n",
    "    }\n",
    "\n",
    "\n",
    "def run_training(d, cv, pan_site_estimators, per_site_estimators, meta_estimators):\n",
    "        \n",
    "    panse = pan_site_estimators\n",
    "    perse = per_site_estimators\n",
    "    \n",
    "    results = {}\n",
    "    \n",
    "    # Fit pan-site models across entire dataset (all sites)\n",
    "    pan_site_refit_models = train_models(pan_site_estimators, d)\n",
    "    \n",
    "    for i_site in cv:\n",
    "        d_train = d.iloc[cv[i_site]['train']]\n",
    "        d_test = d.iloc[cv[i_site]['test']]\n",
    "        \n",
    "        # Train pan-site models on data excluding this primary site\n",
    "        pan_site_prefit_models = train_models(pan_site_estimators, d_train)\n",
    "        \n",
    "        # Run \"refit\", pre-site models on all data available for this site (ie the \n",
    "        # \"test\" set for the site-based CV indexing)\n",
    "        per_site_refit_models = train_models(per_site_estimators, d_test)\n",
    "        \n",
    "        cv_site = cv[i_site]['inner']\n",
    "        site = cv[i_site]['site']\n",
    "        site_results = run_site_cv(\n",
    "            d, site, cv_site, per_site_estimators, pan_site_estimators, \n",
    "            meta_estimators, pan_site_prefit_models\n",
    "        )\n",
    "        \n",
    "        meta_refit_models = train_models(meta_estimators, site_results['prediction_data'])\n",
    "        site_results['models'] = {\n",
    "            'pan_site': pan_site_refit_models,\n",
    "            'per_site': per_site_refit_models,\n",
    "            'meta': meta_refit_models\n",
    "        }\n",
    "        \n",
    "        # Store results for this primary site\n",
    "        results[site] = site_results\n",
    "        \n",
    "    return results\n",
    "        "
   ]
  },
  {
   "cell_type": "code",
   "execution_count": 20,
   "metadata": {
    "collapsed": false
   },
   "outputs": [
    {
     "name": "stderr",
     "output_type": "stream",
     "text": [
      "/Users/eczech/anaconda/envs/mgds/lib/python3.5/site-packages/ipykernel/kernelbase.py:390: PerformanceWarning: indexing past lexsort depth may impact performance.\n",
      "  user_expressions, allow_stdin)\n"
     ]
    },
    {
     "ename": "KeyError",
     "evalue": "'drug-sensitivity'",
     "output_type": "error",
     "traceback": [
      "\u001b[0;31m---------------------------------------------------------------------------\u001b[0m",
      "\u001b[0;31mKeyError\u001b[0m                                  Traceback (most recent call last)",
      "\u001b[0;32m/Users/eczech/anaconda/envs/mgds/lib/python3.5/site-packages/pandas/indexes/base.py\u001b[0m in \u001b[0;36mget_loc\u001b[0;34m(self, key, method, tolerance)\u001b[0m\n\u001b[1;32m   2133\u001b[0m             \u001b[0;32mtry\u001b[0m\u001b[0;34m:\u001b[0m\u001b[0;34m\u001b[0m\u001b[0m\n\u001b[0;32m-> 2134\u001b[0;31m                 \u001b[0;32mreturn\u001b[0m \u001b[0mself\u001b[0m\u001b[0;34m.\u001b[0m\u001b[0m_engine\u001b[0m\u001b[0;34m.\u001b[0m\u001b[0mget_loc\u001b[0m\u001b[0;34m(\u001b[0m\u001b[0mkey\u001b[0m\u001b[0;34m)\u001b[0m\u001b[0;34m\u001b[0m\u001b[0m\n\u001b[0m\u001b[1;32m   2135\u001b[0m             \u001b[0;32mexcept\u001b[0m \u001b[0mKeyError\u001b[0m\u001b[0;34m:\u001b[0m\u001b[0;34m\u001b[0m\u001b[0m\n",
      "\u001b[0;32mpandas/index.pyx\u001b[0m in \u001b[0;36mpandas.index.IndexEngine.get_loc (pandas/index.c:4443)\u001b[0;34m()\u001b[0m\n",
      "\u001b[0;32mpandas/index.pyx\u001b[0m in \u001b[0;36mpandas.index.IndexEngine.get_loc (pandas/index.c:4289)\u001b[0;34m()\u001b[0m\n",
      "\u001b[0;32mpandas/src/hashtable_class_helper.pxi\u001b[0m in \u001b[0;36mpandas.hashtable.PyObjectHashTable.get_item (pandas/hashtable.c:13733)\u001b[0;34m()\u001b[0m\n",
      "\u001b[0;32mpandas/src/hashtable_class_helper.pxi\u001b[0m in \u001b[0;36mpandas.hashtable.PyObjectHashTable.get_item (pandas/hashtable.c:13687)\u001b[0;34m()\u001b[0m\n",
      "\u001b[0;31mKeyError\u001b[0m: 'drug-sensitivity'",
      "\nDuring handling of the above exception, another exception occurred:\n",
      "\u001b[0;31mKeyError\u001b[0m                                  Traceback (most recent call last)",
      "\u001b[0;32m<ipython-input-20-cedaa94f1023>\u001b[0m in \u001b[0;36m<module>\u001b[0;34m()\u001b[0m\n\u001b[0;32m----> 1\u001b[0;31m \u001b[0md\u001b[0m\u001b[0;34m[\u001b[0m\u001b[0;34m(\u001b[0m\u001b[0msrc\u001b[0m\u001b[0;34m.\u001b[0m\u001b[0mGDSC_v2\u001b[0m\u001b[0;34m,\u001b[0m \u001b[0mdtyp\u001b[0m\u001b[0;34m.\u001b[0m\u001b[0mDRUG_SENSITIVITY\u001b[0m\u001b[0;34m)\u001b[0m\u001b[0;34m]\u001b[0m\u001b[0;34m.\u001b[0m\u001b[0mhead\u001b[0m\u001b[0;34m(\u001b[0m\u001b[0;34m)\u001b[0m\u001b[0;34m\u001b[0m\u001b[0m\n\u001b[0m",
      "\u001b[0;32m/Users/eczech/anaconda/envs/mgds/lib/python3.5/site-packages/pandas/core/frame.py\u001b[0m in \u001b[0;36m__getitem__\u001b[0;34m(self, key)\u001b[0m\n\u001b[1;32m   2055\u001b[0m             \u001b[0;32mreturn\u001b[0m \u001b[0mself\u001b[0m\u001b[0;34m.\u001b[0m\u001b[0m_getitem_frame\u001b[0m\u001b[0;34m(\u001b[0m\u001b[0mkey\u001b[0m\u001b[0;34m)\u001b[0m\u001b[0;34m\u001b[0m\u001b[0m\n\u001b[1;32m   2056\u001b[0m         \u001b[0;32melif\u001b[0m \u001b[0mis_mi_columns\u001b[0m\u001b[0;34m:\u001b[0m\u001b[0;34m\u001b[0m\u001b[0m\n\u001b[0;32m-> 2057\u001b[0;31m             \u001b[0;32mreturn\u001b[0m \u001b[0mself\u001b[0m\u001b[0;34m.\u001b[0m\u001b[0m_getitem_multilevel\u001b[0m\u001b[0;34m(\u001b[0m\u001b[0mkey\u001b[0m\u001b[0;34m)\u001b[0m\u001b[0;34m\u001b[0m\u001b[0m\n\u001b[0m\u001b[1;32m   2058\u001b[0m         \u001b[0;32melse\u001b[0m\u001b[0;34m:\u001b[0m\u001b[0;34m\u001b[0m\u001b[0m\n\u001b[1;32m   2059\u001b[0m             \u001b[0;32mreturn\u001b[0m \u001b[0mself\u001b[0m\u001b[0;34m.\u001b[0m\u001b[0m_getitem_column\u001b[0m\u001b[0;34m(\u001b[0m\u001b[0mkey\u001b[0m\u001b[0;34m)\u001b[0m\u001b[0;34m\u001b[0m\u001b[0m\n",
      "\u001b[0;32m/Users/eczech/anaconda/envs/mgds/lib/python3.5/site-packages/pandas/core/frame.py\u001b[0m in \u001b[0;36m_getitem_multilevel\u001b[0;34m(self, key)\u001b[0m\n\u001b[1;32m   2099\u001b[0m \u001b[0;34m\u001b[0m\u001b[0m\n\u001b[1;32m   2100\u001b[0m     \u001b[0;32mdef\u001b[0m \u001b[0m_getitem_multilevel\u001b[0m\u001b[0;34m(\u001b[0m\u001b[0mself\u001b[0m\u001b[0;34m,\u001b[0m \u001b[0mkey\u001b[0m\u001b[0;34m)\u001b[0m\u001b[0;34m:\u001b[0m\u001b[0;34m\u001b[0m\u001b[0m\n\u001b[0;32m-> 2101\u001b[0;31m         \u001b[0mloc\u001b[0m \u001b[0;34m=\u001b[0m \u001b[0mself\u001b[0m\u001b[0;34m.\u001b[0m\u001b[0mcolumns\u001b[0m\u001b[0;34m.\u001b[0m\u001b[0mget_loc\u001b[0m\u001b[0;34m(\u001b[0m\u001b[0mkey\u001b[0m\u001b[0;34m)\u001b[0m\u001b[0;34m\u001b[0m\u001b[0m\n\u001b[0m\u001b[1;32m   2102\u001b[0m         \u001b[0;32mif\u001b[0m \u001b[0misinstance\u001b[0m\u001b[0;34m(\u001b[0m\u001b[0mloc\u001b[0m\u001b[0;34m,\u001b[0m \u001b[0;34m(\u001b[0m\u001b[0mslice\u001b[0m\u001b[0;34m,\u001b[0m \u001b[0mSeries\u001b[0m\u001b[0;34m,\u001b[0m \u001b[0mnp\u001b[0m\u001b[0;34m.\u001b[0m\u001b[0mndarray\u001b[0m\u001b[0;34m,\u001b[0m \u001b[0mIndex\u001b[0m\u001b[0;34m)\u001b[0m\u001b[0;34m)\u001b[0m\u001b[0;34m:\u001b[0m\u001b[0;34m\u001b[0m\u001b[0m\n\u001b[1;32m   2103\u001b[0m             \u001b[0mnew_columns\u001b[0m \u001b[0;34m=\u001b[0m \u001b[0mself\u001b[0m\u001b[0;34m.\u001b[0m\u001b[0mcolumns\u001b[0m\u001b[0;34m[\u001b[0m\u001b[0mloc\u001b[0m\u001b[0;34m]\u001b[0m\u001b[0;34m\u001b[0m\u001b[0m\n",
      "\u001b[0;32m/Users/eczech/anaconda/envs/mgds/lib/python3.5/site-packages/pandas/indexes/multi.py\u001b[0m in \u001b[0;36mget_loc\u001b[0;34m(self, key, method)\u001b[0m\n\u001b[1;32m   1684\u001b[0m \u001b[0;34m\u001b[0m\u001b[0m\n\u001b[1;32m   1685\u001b[0m         \u001b[0;32mfor\u001b[0m \u001b[0mi\u001b[0m\u001b[0;34m,\u001b[0m \u001b[0mk\u001b[0m \u001b[0;32min\u001b[0m \u001b[0menumerate\u001b[0m\u001b[0;34m(\u001b[0m\u001b[0mfollow_key\u001b[0m\u001b[0;34m,\u001b[0m \u001b[0mlen\u001b[0m\u001b[0;34m(\u001b[0m\u001b[0mlead_key\u001b[0m\u001b[0;34m)\u001b[0m\u001b[0;34m)\u001b[0m\u001b[0;34m:\u001b[0m\u001b[0;34m\u001b[0m\u001b[0m\n\u001b[0;32m-> 1686\u001b[0;31m             \u001b[0mmask\u001b[0m \u001b[0;34m=\u001b[0m \u001b[0mself\u001b[0m\u001b[0;34m.\u001b[0m\u001b[0mlabels\u001b[0m\u001b[0;34m[\u001b[0m\u001b[0mi\u001b[0m\u001b[0;34m]\u001b[0m\u001b[0;34m[\u001b[0m\u001b[0mloc\u001b[0m\u001b[0;34m]\u001b[0m \u001b[0;34m==\u001b[0m \u001b[0mself\u001b[0m\u001b[0;34m.\u001b[0m\u001b[0mlevels\u001b[0m\u001b[0;34m[\u001b[0m\u001b[0mi\u001b[0m\u001b[0;34m]\u001b[0m\u001b[0;34m.\u001b[0m\u001b[0mget_loc\u001b[0m\u001b[0;34m(\u001b[0m\u001b[0mk\u001b[0m\u001b[0;34m)\u001b[0m\u001b[0;34m\u001b[0m\u001b[0m\n\u001b[0m\u001b[1;32m   1687\u001b[0m             \u001b[0;32mif\u001b[0m \u001b[0;32mnot\u001b[0m \u001b[0mmask\u001b[0m\u001b[0;34m.\u001b[0m\u001b[0mall\u001b[0m\u001b[0;34m(\u001b[0m\u001b[0;34m)\u001b[0m\u001b[0;34m:\u001b[0m\u001b[0;34m\u001b[0m\u001b[0m\n\u001b[1;32m   1688\u001b[0m                 \u001b[0mloc\u001b[0m \u001b[0;34m=\u001b[0m \u001b[0mloc\u001b[0m\u001b[0;34m[\u001b[0m\u001b[0mmask\u001b[0m\u001b[0;34m]\u001b[0m\u001b[0;34m\u001b[0m\u001b[0m\n",
      "\u001b[0;32m/Users/eczech/anaconda/envs/mgds/lib/python3.5/site-packages/pandas/indexes/base.py\u001b[0m in \u001b[0;36mget_loc\u001b[0;34m(self, key, method, tolerance)\u001b[0m\n\u001b[1;32m   2134\u001b[0m                 \u001b[0;32mreturn\u001b[0m \u001b[0mself\u001b[0m\u001b[0;34m.\u001b[0m\u001b[0m_engine\u001b[0m\u001b[0;34m.\u001b[0m\u001b[0mget_loc\u001b[0m\u001b[0;34m(\u001b[0m\u001b[0mkey\u001b[0m\u001b[0;34m)\u001b[0m\u001b[0;34m\u001b[0m\u001b[0m\n\u001b[1;32m   2135\u001b[0m             \u001b[0;32mexcept\u001b[0m \u001b[0mKeyError\u001b[0m\u001b[0;34m:\u001b[0m\u001b[0;34m\u001b[0m\u001b[0m\n\u001b[0;32m-> 2136\u001b[0;31m                 \u001b[0;32mreturn\u001b[0m \u001b[0mself\u001b[0m\u001b[0;34m.\u001b[0m\u001b[0m_engine\u001b[0m\u001b[0;34m.\u001b[0m\u001b[0mget_loc\u001b[0m\u001b[0;34m(\u001b[0m\u001b[0mself\u001b[0m\u001b[0;34m.\u001b[0m\u001b[0m_maybe_cast_indexer\u001b[0m\u001b[0;34m(\u001b[0m\u001b[0mkey\u001b[0m\u001b[0;34m)\u001b[0m\u001b[0;34m)\u001b[0m\u001b[0;34m\u001b[0m\u001b[0m\n\u001b[0m\u001b[1;32m   2137\u001b[0m \u001b[0;34m\u001b[0m\u001b[0m\n\u001b[1;32m   2138\u001b[0m         \u001b[0mindexer\u001b[0m \u001b[0;34m=\u001b[0m \u001b[0mself\u001b[0m\u001b[0;34m.\u001b[0m\u001b[0mget_indexer\u001b[0m\u001b[0;34m(\u001b[0m\u001b[0;34m[\u001b[0m\u001b[0mkey\u001b[0m\u001b[0;34m]\u001b[0m\u001b[0;34m,\u001b[0m \u001b[0mmethod\u001b[0m\u001b[0;34m=\u001b[0m\u001b[0mmethod\u001b[0m\u001b[0;34m,\u001b[0m \u001b[0mtolerance\u001b[0m\u001b[0;34m=\u001b[0m\u001b[0mtolerance\u001b[0m\u001b[0;34m)\u001b[0m\u001b[0;34m\u001b[0m\u001b[0m\n",
      "\u001b[0;32mpandas/index.pyx\u001b[0m in \u001b[0;36mpandas.index.IndexEngine.get_loc (pandas/index.c:4443)\u001b[0;34m()\u001b[0m\n",
      "\u001b[0;32mpandas/index.pyx\u001b[0m in \u001b[0;36mpandas.index.IndexEngine.get_loc (pandas/index.c:4289)\u001b[0;34m()\u001b[0m\n",
      "\u001b[0;32mpandas/src/hashtable_class_helper.pxi\u001b[0m in \u001b[0;36mpandas.hashtable.PyObjectHashTable.get_item (pandas/hashtable.c:13733)\u001b[0;34m()\u001b[0m\n",
      "\u001b[0;32mpandas/src/hashtable_class_helper.pxi\u001b[0m in \u001b[0;36mpandas.hashtable.PyObjectHashTable.get_item (pandas/hashtable.c:13687)\u001b[0;34m()\u001b[0m\n",
      "\u001b[0;31mKeyError\u001b[0m: 'drug-sensitivity'"
     ]
    }
   ],
   "source": [
    "d[(src.GDSC_v2, dtyp.DRUG_SENSITIVITY)].head()"
   ]
  },
  {
   "cell_type": "code",
   "execution_count": null,
   "metadata": {
    "collapsed": true
   },
   "outputs": [],
   "source": [
    "#response_fields = [c for c in d if c[1] == dtyp.DRUG_SENSITIVITY]\n",
    "\n",
    "\n",
    "# \"train\" function\n",
    "#             if 'est_predict' in clf_def:\n",
    "#                 assert 'est_factory' not in clf_def, \\\n",
    "#                     'Estimator definition cannot contain custom training function AND estimator factory '\\\n",
    "#                     'function (implies default training procedure)'\n",
    "#                 est, Yh = clf_def['est_predict'](X_train, Y_train, X_test, Y_test)\n",
    "#             else:  \n",
    "#                 est = clf_def['est_factory']().fit(X_train, Y_train)\n",
    "#                 Yh = pd.DataFrame(est.predict(X_test), index=X_test.index, columns=X_test.columns)\n",
    "#                 Yh.columns = pd.MultiIndex.from_tuples([(*c, clf_name) for c in X_test])\n",
    "\n",
    "\n",
    "def pan_site_response_selector(d):\n",
    "    pass\n",
    "\n",
    "def pan_site_feature_selector(d):\n",
    "    pass\n",
    "\n",
    "def default_trainer(X_train, Y_train, X_test, prefit_est):\n",
    "    pass\n",
    "\n",
    "pan_site_estimators = {\n",
    "    'response_selector': pan_site_response_selector,\n",
    "    'estimators': {\n",
    "        'rf_ccle_ge': {\n",
    "            'feature_selector': [],\n",
    "            'train': default_trainer\n",
    "        }   \n",
    "    }\n",
    "}\n",
    "\n",
    "# These can be essentially the same as the pansite_estimators\n",
    "inner_estimators = {\n",
    "    'rf_ccle_ge': {\n",
    "        'feat_select': [],\n",
    "        'est_factory': lambda: \n",
    "    }\n",
    "}\n",
    "\n",
    "outer_estimators = {\n",
    "    \n",
    "}\n"
   ]
  }
 ],
 "metadata": {
  "anaconda-cloud": {},
  "kernelspec": {
   "display_name": "Python 3",
   "language": "python",
   "name": "python3"
  },
  "language_info": {
   "codemirror_mode": {
    "name": "ipython",
    "version": 3
   },
   "file_extension": ".py",
   "mimetype": "text/x-python",
   "name": "python",
   "nbconvert_exporter": "python",
   "pygments_lexer": "ipython3",
   "version": "3.5.2"
  }
 },
 "nbformat": 4,
 "nbformat_minor": 2
}
