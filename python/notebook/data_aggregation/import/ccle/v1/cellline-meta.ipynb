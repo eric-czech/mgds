{
 "cells": [
  {
   "cell_type": "markdown",
   "metadata": {},
   "source": [
    "# CCLE Raw Clinical Data Importation\n",
    "**Local Version**: 1\n",
    "**Source Version**: NA\n",
    "\n",
    "This notebook will import raw CCLE clinical data through the [CGDS](http://www.cbioportal.org/cgds_r.jsp) (aka \"Cancer Genomic Data Server\" portal)."
   ]
  },
  {
   "cell_type": "code",
   "execution_count": 2,
   "metadata": {
    "collapsed": true
   },
   "outputs": [],
   "source": [
    "%run -m ipy_startup\n",
    "%run -m ipy_logging\n",
    "%matplotlib inline\n",
    "from mgds.data_aggregation import database as db\n",
    "from mgds.data_aggregation import source as src\n",
    "from mgds.data_aggregation.import_lib import cgds\n",
    "from mgds.data_aggregation.import_lib import ccle"
   ]
  },
  {
   "cell_type": "code",
   "execution_count": 3,
   "metadata": {
    "collapsed": false
   },
   "outputs": [
    {
     "name": "stderr",
     "output_type": "stream",
     "text": [
      "2016-11-21 09:29:01,807:DEBUG:mgds.data_aggregation.io_utils: Restoring serialized object from \"/Users/eczech/data/research/mgds/raw/ccle_v1_cellline-meta.pkl\"\n"
     ]
    },
    {
     "name": "stdout",
     "output_type": "stream",
     "text": [
      "<class 'pandas.core.frame.DataFrame'>\n",
      "RangeIndex: 1019 entries, 0 to 1018\n",
      "Data columns (total 9 columns):\n",
      "CANCER_TYPE             1019 non-null object\n",
      "CANCER_TYPE_DETAILED    1019 non-null object\n",
      "CELL_LINE_ID            1019 non-null object\n",
      "DATA_SOURCE             946 non-null object\n",
      "GENDER                  834 non-null object\n",
      "HISTOLOGICAL_SUBTYPE    703 non-null object\n",
      "HISTOLOGY               946 non-null object\n",
      "PRIMARY_SITE            946 non-null object\n",
      "TUMOR_TYPE              946 non-null object\n",
      "dtypes: object(9)\n",
      "memory usage: 71.7+ KB\n"
     ]
    }
   ],
   "source": [
    "case_list_id = ccle.CASE_LIST_ID\n",
    "op = lambda: cgds.get_clinical_data(case_list_id)\n",
    "d = db.cache_raw_operation(op, src.CCLE_v1, 'cellline-meta')\n",
    "d = cgds.prep_clinical_data(d)\n",
    "d.info()"
   ]
  },
  {
   "cell_type": "code",
   "execution_count": 4,
   "metadata": {
    "collapsed": false
   },
   "outputs": [
    {
     "data": {
      "text/plain": [
       "'/Users/eczech/data/research/mgds/import/ccle_v1_cellline-meta.pkl'"
      ]
     },
     "execution_count": 4,
     "metadata": {},
     "output_type": "execute_result"
    }
   ],
   "source": [
    "assert np.all(pd.notnull(d[['CELL_LINE_ID']]))\n",
    "db.save(d, src.CCLE_v1, db.IMPORT, 'cellline-meta')"
   ]
  }
 ],
 "metadata": {
  "kernelspec": {
   "display_name": "Python 3",
   "language": "python",
   "name": "python3"
  },
  "language_info": {
   "codemirror_mode": {
    "name": "ipython",
    "version": 3
   },
   "file_extension": ".py",
   "mimetype": "text/x-python",
   "name": "python",
   "nbconvert_exporter": "python",
   "pygments_lexer": "ipython3",
   "version": "3.5.2"
  }
 },
 "nbformat": 4,
 "nbformat_minor": 0
}
