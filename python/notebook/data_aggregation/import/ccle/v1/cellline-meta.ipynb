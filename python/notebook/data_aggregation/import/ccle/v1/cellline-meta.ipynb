{
 "cells": [
  {
   "cell_type": "markdown",
   "metadata": {},
   "source": [
    "# CCLE Raw Clinical Data Importation\n",
    "**Local Version**: 1\n",
    "**Source Version**: NA\n",
    "\n",
    "This notebook will import raw CCLE clinical data through the [CGDS](http://www.cbioportal.org/cgds_r.jsp) (aka \"Cancer Genomic Data Server\" portal)."
   ]
  },
  {
   "cell_type": "code",
   "execution_count": 9,
   "metadata": {
    "collapsed": true
   },
   "outputs": [],
   "source": [
    "%run -m ipy_startup\n",
    "%run -m ipy_logging\n",
    "%matplotlib inline\n",
    "from mgds.data_aggregation import database as db\n",
    "from mgds.data_aggregation import source as src\n",
    "from mgds.data_aggregation.import_lib import cgds\n",
    "from mgds.data_aggregation.import_lib import ccle\n",
    "from mgds.data_aggregation import entity\n",
    "from py_utils import assertion_utils"
   ]
  },
  {
   "cell_type": "code",
   "execution_count": 2,
   "metadata": {
    "collapsed": false
   },
   "outputs": [
    {
     "name": "stderr",
     "output_type": "stream",
     "text": [
      "2016-12-01 14:59:41,640:DEBUG:mgds.data_aggregation.io_utils: Restoring serialized object from \"/Users/eczech/data/research/mgds/raw/ccle_v1_cellline-meta.pkl\"\n"
     ]
    },
    {
     "name": "stdout",
     "output_type": "stream",
     "text": [
      "<class 'pandas.core.frame.DataFrame'>\n",
      "RangeIndex: 1019 entries, 0 to 1018\n",
      "Data columns (total 9 columns):\n",
      "CANCER_TYPE             1019 non-null object\n",
      "CANCER_TYPE_DETAILED    1019 non-null object\n",
      "CELL_LINE_ID            1019 non-null object\n",
      "DATA_SOURCE             946 non-null object\n",
      "GENDER                  834 non-null object\n",
      "HISTOLOGICAL_SUBTYPE    703 non-null object\n",
      "HISTOLOGY               946 non-null object\n",
      "PRIMARY_SITE            946 non-null object\n",
      "TUMOR_TYPE              946 non-null object\n",
      "dtypes: object(9)\n",
      "memory usage: 71.7+ KB\n"
     ]
    }
   ],
   "source": [
    "case_list_id = ccle.CASE_LIST_ID\n",
    "op = lambda: cgds.get_clinical_data(case_list_id)\n",
    "d = db.cache_raw_operation(op, src.CCLE_v1, 'cellline-meta')\n",
    "d = cgds.prep_clinical_data(d)\n",
    "d.info()"
   ]
  },
  {
   "cell_type": "code",
   "execution_count": 3,
   "metadata": {
    "collapsed": false
   },
   "outputs": [
    {
     "data": {
      "text/plain": [
       "Male      469\n",
       "Female    365\n",
       "Name: GENDER, dtype: int64"
      ]
     },
     "execution_count": 3,
     "metadata": {},
     "output_type": "execute_result"
    }
   ],
   "source": [
    "d['GENDER'].value_counts()"
   ]
  },
  {
   "cell_type": "code",
   "execution_count": 17,
   "metadata": {
    "collapsed": false
   },
   "outputs": [
    {
     "data": {
      "text/html": [
       "<div>\n",
       "<table border=\"1\" class=\"dataframe\">\n",
       "  <thead>\n",
       "    <tr style=\"text-align: right;\">\n",
       "      <th></th>\n",
       "      <th>CANCER_TYPE</th>\n",
       "      <th>CANCER_TYPE_DETAILED</th>\n",
       "      <th>CELL_LINE_ID</th>\n",
       "      <th>DATA_SOURCE</th>\n",
       "      <th>GENDER</th>\n",
       "      <th>HISTOLOGICAL_SUBTYPE</th>\n",
       "      <th>HISTOLOGY</th>\n",
       "      <th>PRIMARY_SITE</th>\n",
       "      <th>TUMOR_TYPE</th>\n",
       "      <th>PROPERTIES</th>\n",
       "    </tr>\n",
       "  </thead>\n",
       "  <tbody>\n",
       "    <tr>\n",
       "      <th>0</th>\n",
       "      <td>Cancer of Unknown Primary</td>\n",
       "      <td>Mixed Cancer Types</td>\n",
       "      <td>HCC78_LUNG</td>\n",
       "      <td>DSMZ</td>\n",
       "      <td>M</td>\n",
       "      <td>adenocarcinoma</td>\n",
       "      <td>carcinoma</td>\n",
       "      <td>LUNG</td>\n",
       "      <td>lung_NSC</td>\n",
       "      <td>{'CANCER_TYPE': 'Cancer of Unknown Primary', '...</td>\n",
       "    </tr>\n",
       "    <tr>\n",
       "      <th>1</th>\n",
       "      <td>Cancer of Unknown Primary</td>\n",
       "      <td>Mixed Cancer Types</td>\n",
       "      <td>COLO800_SKIN</td>\n",
       "      <td>DSMZ</td>\n",
       "      <td>NaN</td>\n",
       "      <td>NaN</td>\n",
       "      <td>malignant_melanoma</td>\n",
       "      <td>SKIN</td>\n",
       "      <td>melanoma</td>\n",
       "      <td>{'CANCER_TYPE': 'Cancer of Unknown Primary', '...</td>\n",
       "    </tr>\n",
       "    <tr>\n",
       "      <th>2</th>\n",
       "      <td>Cancer of Unknown Primary</td>\n",
       "      <td>Mixed Cancer Types</td>\n",
       "      <td>SKMEL1_SKIN</td>\n",
       "      <td>ATCC</td>\n",
       "      <td>M</td>\n",
       "      <td>NaN</td>\n",
       "      <td>malignant_melanoma</td>\n",
       "      <td>SKIN</td>\n",
       "      <td>melanoma</td>\n",
       "      <td>{'CANCER_TYPE': 'Cancer of Unknown Primary', '...</td>\n",
       "    </tr>\n",
       "    <tr>\n",
       "      <th>3</th>\n",
       "      <td>Cancer of Unknown Primary</td>\n",
       "      <td>Mixed Cancer Types</td>\n",
       "      <td>HT115_LARGE_INTESTINE</td>\n",
       "      <td>ECACC</td>\n",
       "      <td>NaN</td>\n",
       "      <td>NaN</td>\n",
       "      <td>carcinoma</td>\n",
       "      <td>LARGE_INTESTINE</td>\n",
       "      <td>colorectal</td>\n",
       "      <td>{'CANCER_TYPE': 'Cancer of Unknown Primary', '...</td>\n",
       "    </tr>\n",
       "    <tr>\n",
       "      <th>4</th>\n",
       "      <td>Cancer of Unknown Primary</td>\n",
       "      <td>Mixed Cancer Types</td>\n",
       "      <td>ECC12_STOMACH</td>\n",
       "      <td>RIKEN</td>\n",
       "      <td>NaN</td>\n",
       "      <td>small_cell_adenocarcinoma</td>\n",
       "      <td>carcinoma</td>\n",
       "      <td>STOMACH</td>\n",
       "      <td>stomach</td>\n",
       "      <td>{'CANCER_TYPE': 'Cancer of Unknown Primary', '...</td>\n",
       "    </tr>\n",
       "  </tbody>\n",
       "</table>\n",
       "</div>"
      ],
      "text/plain": [
       "                 CANCER_TYPE CANCER_TYPE_DETAILED           CELL_LINE_ID  \\\n",
       "0  Cancer of Unknown Primary   Mixed Cancer Types             HCC78_LUNG   \n",
       "1  Cancer of Unknown Primary   Mixed Cancer Types           COLO800_SKIN   \n",
       "2  Cancer of Unknown Primary   Mixed Cancer Types            SKMEL1_SKIN   \n",
       "3  Cancer of Unknown Primary   Mixed Cancer Types  HT115_LARGE_INTESTINE   \n",
       "4  Cancer of Unknown Primary   Mixed Cancer Types          ECC12_STOMACH   \n",
       "\n",
       "  DATA_SOURCE GENDER       HISTOLOGICAL_SUBTYPE           HISTOLOGY  \\\n",
       "0        DSMZ      M             adenocarcinoma           carcinoma   \n",
       "1        DSMZ    NaN                        NaN  malignant_melanoma   \n",
       "2        ATCC      M                        NaN  malignant_melanoma   \n",
       "3       ECACC    NaN                        NaN           carcinoma   \n",
       "4       RIKEN    NaN  small_cell_adenocarcinoma           carcinoma   \n",
       "\n",
       "      PRIMARY_SITE  TUMOR_TYPE  \\\n",
       "0             LUNG    lung_NSC   \n",
       "1             SKIN    melanoma   \n",
       "2             SKIN    melanoma   \n",
       "3  LARGE_INTESTINE  colorectal   \n",
       "4          STOMACH     stomach   \n",
       "\n",
       "                                          PROPERTIES  \n",
       "0  {'CANCER_TYPE': 'Cancer of Unknown Primary', '...  \n",
       "1  {'CANCER_TYPE': 'Cancer of Unknown Primary', '...  \n",
       "2  {'CANCER_TYPE': 'Cancer of Unknown Primary', '...  \n",
       "3  {'CANCER_TYPE': 'Cancer of Unknown Primary', '...  \n",
       "4  {'CANCER_TYPE': 'Cancer of Unknown Primary', '...  "
      ]
     },
     "execution_count": 17,
     "metadata": {},
     "output_type": "execute_result"
    }
   ],
   "source": [
    "d_cl = d.copy()\n",
    "\n",
    "# Make sure that suffix on cell line id is equal to primary site and that when they're\n",
    "# not equal, it's because there is no primary site recorded\n",
    "d_cl_site = d_cl['CELL_LINE_ID'].str.split('_').str[1:].str.join('_')\n",
    "mask = (d_cl_site == d_cl['PRIMARY_SITE'].str.upper())\n",
    "assert np.all(d_cl[~mask]['PRIMARY_SITE'].isnull())\n",
    "\n",
    "# Default to primary site in cell line id suffix when primary site field is null\n",
    "d_cl['PRIMARY_SITE'] = np.where(d_cl['PRIMARY_SITE'].isnull(), d_cl_site, d_cl['PRIMARY_SITE'])\n",
    "d_cl['PRIMARY_SITE'] = d_cl['PRIMARY_SITE'].str.upper()\n",
    "\n",
    "# Convert gender to M/F\n",
    "assert np.all(d_cl['GENDER'].dropna().isin(['Male', 'Female']))\n",
    "d_cl['GENDER'] = d_cl['GENDER'].map({'Male': 'M', 'Female': 'F'})\n",
    "\n",
    "# Make sure primary site is no longer ever null\n",
    "assert np.all(d_cl['PRIMARY_SITE'].notnull())\n",
    "\n",
    "# Add generic properties map with more source-specific metadata\n",
    "c_detail = ['CANCER_TYPE', 'CANCER_TYPE_DETAILED', 'DATA_SOURCE', 'HISTOLOGY', 'HISTOLOGICAL_SUBTYPE', 'TUMOR_TYPE']\n",
    "d_cl['PROPERTIES'] = d_cl[c_detail].apply(lambda r: r.to_dict(), axis=1)\n",
    "\n",
    "d_cl.head()"
   ]
  },
  {
   "cell_type": "code",
   "execution_count": 5,
   "metadata": {
    "collapsed": false
   },
   "outputs": [
    {
     "name": "stdout",
     "output_type": "stream",
     "text": [
      "<class 'pandas.core.frame.DataFrame'>\n",
      "RangeIndex: 1019 entries, 0 to 1018\n",
      "Data columns (total 10 columns):\n",
      "CANCER_TYPE             1019 non-null object\n",
      "CANCER_TYPE_DETAILED    1019 non-null object\n",
      "CELL_LINE_ID            1019 non-null object\n",
      "DATA_SOURCE             946 non-null object\n",
      "GENDER                  1019 non-null object\n",
      "HISTOLOGICAL_SUBTYPE    703 non-null object\n",
      "HISTOLOGY               946 non-null object\n",
      "PRIMARY_SITE            1019 non-null object\n",
      "TUMOR_TYPE              946 non-null object\n",
      "PROPERTIES              1019 non-null object\n",
      "dtypes: object(10)\n",
      "memory usage: 79.7+ KB\n"
     ]
    }
   ],
   "source": [
    "d_cl.info()"
   ]
  },
  {
   "cell_type": "code",
   "execution_count": 6,
   "metadata": {
    "collapsed": false
   },
   "outputs": [
    {
     "data": {
      "text/plain": [
       "LUNG                                  184\n",
       "HAEMATOPOIETIC_AND_LYMPHOID_TISSUE    180\n",
       "SKIN                                   62\n",
       "LARGE_INTESTINE                        60\n",
       "BREAST                                 59\n",
       "CENTRAL_NERVOUS_SYSTEM                 55\n",
       "OVARY                                  51\n",
       "PANCREAS                               46\n",
       "STOMACH                                38\n",
       "UPPER_AERODIGESTIVE_TRACT              33\n",
       "KIDNEY                                 33\n",
       "BONE                                   29\n",
       "ENDOMETRIUM                            28\n",
       "URINARY_TRACT                          28\n",
       "LIVER                                  28\n",
       "OESOPHAGUS                             26\n",
       "SOFT_TISSUE                            20\n",
       "AUTONOMIC_GANGLIA                      17\n",
       "THYROID                                12\n",
       "PLEURA                                 11\n",
       "PROSTATE                                8\n",
       "BILIARY_TRACT                           8\n",
       "SALIVARY_GLAND                          2\n",
       "SMALL_INTESTINE                         1\n",
       "Name: PRIMARY_SITE, dtype: int64"
      ]
     },
     "execution_count": 6,
     "metadata": {},
     "output_type": "execute_result"
    }
   ],
   "source": [
    "d_cl['PRIMARY_SITE'].value_counts()"
   ]
  },
  {
   "cell_type": "code",
   "execution_count": 7,
   "metadata": {
    "collapsed": false
   },
   "outputs": [
    {
     "data": {
      "text/plain": [
       "ATCC            428\n",
       "DSMZ            212\n",
       "HSRRB           116\n",
       "RIKEN            62\n",
       "ECACC            54\n",
       "KCLB             51\n",
       "Academic Lab     10\n",
       "NCI/DCTD          7\n",
       "ICLC              6\n",
       "Name: DATA_SOURCE, dtype: int64"
      ]
     },
     "execution_count": 7,
     "metadata": {},
     "output_type": "execute_result"
    }
   ],
   "source": [
    "d_cl['DATA_SOURCE'].value_counts()"
   ]
  },
  {
   "cell_type": "markdown",
   "metadata": {},
   "source": [
    "## Export"
   ]
  },
  {
   "cell_type": "code",
   "execution_count": 19,
   "metadata": {
    "collapsed": false
   },
   "outputs": [
    {
     "name": "stdout",
     "output_type": "stream",
     "text": [
      "<class 'pandas.core.frame.DataFrame'>\n",
      "RangeIndex: 1019 entries, 0 to 1018\n",
      "Data columns (total 4 columns):\n",
      "CELL_LINE_ID    1019 non-null object\n",
      "PRIMARY_SITE    1019 non-null object\n",
      "GENDER          1019 non-null object\n",
      "PROPERTIES      1019 non-null object\n",
      "dtypes: object(4)\n",
      "memory usage: 31.9+ KB\n"
     ]
    }
   ],
   "source": [
    "d_exp = d_cl[['CELL_LINE_ID', 'PRIMARY_SITE', 'GENDER', 'PROPERTIES']]\n",
    "d_exp = entity.prepare_cellline_meta(d_exp)\n",
    "d_exp.info()"
   ]
  },
  {
   "cell_type": "code",
   "execution_count": 20,
   "metadata": {
    "collapsed": false
   },
   "outputs": [
    {
     "data": {
      "text/plain": [
       "'/Users/eczech/data/research/mgds/import/ccle_v1_cellline-meta.pkl'"
      ]
     },
     "execution_count": 20,
     "metadata": {},
     "output_type": "execute_result"
    }
   ],
   "source": [
    "db.save(d_exp, src.CCLE_v1, db.IMPORT, 'cellline-meta')"
   ]
  }
 ],
 "metadata": {
  "kernelspec": {
   "display_name": "Python 3",
   "language": "python",
   "name": "python3"
  },
  "language_info": {
   "codemirror_mode": {
    "name": "ipython",
    "version": 3
   },
   "file_extension": ".py",
   "mimetype": "text/x-python",
   "name": "python",
   "nbconvert_exporter": "python",
   "pygments_lexer": "ipython3",
   "version": "3.5.2"
  }
 },
 "nbformat": 4,
 "nbformat_minor": 0
}
