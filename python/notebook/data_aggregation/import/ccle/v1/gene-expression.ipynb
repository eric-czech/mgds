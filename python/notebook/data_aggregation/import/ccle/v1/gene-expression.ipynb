{
 "cells": [
  {
   "cell_type": "markdown",
   "metadata": {},
   "source": [
    "# CCLE Raw Gene Expression Data Importation\n",
    "**Local Version**: 1\n",
    "**Source Version**: NA\n",
    "\n",
    "This notebook will import raw CCLE gene expression data through the [CGDS](http://www.cbioportal.org/cgds_r.jsp) (aka \"Cancer Genomic Data Server\" portal.  This should not be confused with the [GDSC](http://www.cancerrxgene.org/) portal which is a separate data source entirely."
   ]
  },
  {
   "cell_type": "code",
   "execution_count": 2,
   "metadata": {
    "collapsed": true
   },
   "outputs": [],
   "source": [
    "%run -m ipy_startup\n",
    "%run -m ipy_logging\n",
    "from mgds.data_aggregation import database as db\n",
    "from mgds.data_aggregation import source as src\n",
    "from mgds.data_aggregation import api\n",
    "from mgds.data_aggregation.import_lib import ccle\n",
    "from mgds.data_aggregation.import_lib import cgds\n",
    "pd.set_option('display.max_info_rows', 25000000)"
   ]
  },
  {
   "cell_type": "code",
   "execution_count": 3,
   "metadata": {
    "collapsed": false
   },
   "outputs": [
    {
     "name": "stderr",
     "output_type": "stream",
     "text": [
      "2016-11-18 12:04:21,265:DEBUG:mgds.data_aggregation.io_utils: Restoring serialized object from \"/Users/eczech/data/research/mgds/raw/ccle_v1_gene-expression.pkl\"\n"
     ]
    }
   ],
   "source": [
    "case_list_id = ccle.CASE_LIST_ID\n",
    "genetic_profile_id = ccle.PROF_GENE_EXPRESSION\n",
    "batch_size = 50\n",
    "\n",
    "op = lambda: cgds.get_genetic_profile_data(\n",
    "    case_list_id, genetic_profile_id,\n",
    "    api.get_hugo_gene_ids(), gene_id_batch_size=batch_size\n",
    ")\n",
    "d = db.cache_raw_operation(op, src.CCLE_v1, 'gene-expression')"
   ]
  },
  {
   "cell_type": "code",
   "execution_count": 4,
   "metadata": {
    "collapsed": false
   },
   "outputs": [
    {
     "name": "stdout",
     "output_type": "stream",
     "text": [
      "<class 'pandas.core.frame.DataFrame'>\n",
      "Int64Index: 39032 entries, 0 to 7\n",
      "Columns: 1021 entries, GENE_ID to UOK101_KIDNEY\n",
      "dtypes: float64(1019), int64(1), object(1)\n",
      "memory usage: 304.3+ MB\n"
     ]
    }
   ],
   "source": [
    "d.info()"
   ]
  },
  {
   "cell_type": "code",
   "execution_count": 5,
   "metadata": {
    "collapsed": false
   },
   "outputs": [
    {
     "name": "stdout",
     "output_type": "stream",
     "text": [
      "[Remove null values for column \"VALUE\"] Records before = 39773608, Records after = 15531954, Records removed = 24241654 (%60.95)\n",
      "<class 'pandas.core.frame.DataFrame'>\n",
      "Int64Index: 15531954 entries, 0 to 39149095\n",
      "Data columns (total 4 columns):\n",
      "GENE_ID:CGDS    15531954 non-null int64\n",
      "GENE_ID:HGNC    15531954 non-null object\n",
      "CELL_LINE_ID    15531954 non-null object\n",
      "VALUE           15531954 non-null float64\n",
      "dtypes: float64(1), int64(1), object(2)\n",
      "memory usage: 592.5+ MB\n"
     ]
    }
   ],
   "source": [
    "d = cgds.melt_raw_data(d)\n",
    "d.info()"
   ]
  },
  {
   "cell_type": "code",
   "execution_count": 6,
   "metadata": {
    "collapsed": false
   },
   "outputs": [
    {
     "data": {
      "text/html": [
       "<div>\n",
       "<table border=\"1\" class=\"dataframe\">\n",
       "  <thead>\n",
       "    <tr style=\"text-align: right;\">\n",
       "      <th></th>\n",
       "      <th>CELL_LINE_ID</th>\n",
       "      <th>GENE_ID:HGNC</th>\n",
       "      <th>GENE_ID:CGDS</th>\n",
       "      <th>VALUE_MEAN</th>\n",
       "      <th>VALUE_STD</th>\n",
       "    </tr>\n",
       "  </thead>\n",
       "  <tbody>\n",
       "    <tr>\n",
       "      <th>0</th>\n",
       "      <td>1321N1_CENTRAL_NERVOUS_SYSTEM</td>\n",
       "      <td>A1BG</td>\n",
       "      <td>1</td>\n",
       "      <td>-0.1004</td>\n",
       "      <td>0.0</td>\n",
       "    </tr>\n",
       "    <tr>\n",
       "      <th>1</th>\n",
       "      <td>1321N1_CENTRAL_NERVOUS_SYSTEM</td>\n",
       "      <td>A1CF</td>\n",
       "      <td>29974</td>\n",
       "      <td>-0.4882</td>\n",
       "      <td>0.0</td>\n",
       "    </tr>\n",
       "    <tr>\n",
       "      <th>2</th>\n",
       "      <td>1321N1_CENTRAL_NERVOUS_SYSTEM</td>\n",
       "      <td>A2M</td>\n",
       "      <td>2</td>\n",
       "      <td>-0.2826</td>\n",
       "      <td>0.0</td>\n",
       "    </tr>\n",
       "    <tr>\n",
       "      <th>3</th>\n",
       "      <td>1321N1_CENTRAL_NERVOUS_SYSTEM</td>\n",
       "      <td>A2M-AS1</td>\n",
       "      <td>144571</td>\n",
       "      <td>-0.7492</td>\n",
       "      <td>0.0</td>\n",
       "    </tr>\n",
       "    <tr>\n",
       "      <th>4</th>\n",
       "      <td>1321N1_CENTRAL_NERVOUS_SYSTEM</td>\n",
       "      <td>A2ML1</td>\n",
       "      <td>144568</td>\n",
       "      <td>0.0017</td>\n",
       "      <td>0.0</td>\n",
       "    </tr>\n",
       "  </tbody>\n",
       "</table>\n",
       "</div>"
      ],
      "text/plain": [
       "                    CELL_LINE_ID GENE_ID:HGNC  GENE_ID:CGDS  VALUE_MEAN  \\\n",
       "0  1321N1_CENTRAL_NERVOUS_SYSTEM         A1BG             1     -0.1004   \n",
       "1  1321N1_CENTRAL_NERVOUS_SYSTEM         A1CF         29974     -0.4882   \n",
       "2  1321N1_CENTRAL_NERVOUS_SYSTEM          A2M             2     -0.2826   \n",
       "3  1321N1_CENTRAL_NERVOUS_SYSTEM      A2M-AS1        144571     -0.7492   \n",
       "4  1321N1_CENTRAL_NERVOUS_SYSTEM        A2ML1        144568      0.0017   \n",
       "\n",
       "   VALUE_STD  \n",
       "0        0.0  \n",
       "1        0.0  \n",
       "2        0.0  \n",
       "3        0.0  \n",
       "4        0.0  "
      ]
     },
     "execution_count": 6,
     "metadata": {},
     "output_type": "execute_result"
    }
   ],
   "source": [
    "d_agg, d_dist = cgds.aggregate(d)\n",
    "d_agg.head()"
   ]
  },
  {
   "cell_type": "code",
   "execution_count": 7,
   "metadata": {
    "collapsed": false
   },
   "outputs": [
    {
     "name": "stdout",
     "output_type": "stream",
     "text": [
      "<class 'pandas.core.frame.DataFrame'>\n",
      "RangeIndex: 15512614 entries, 0 to 15512613\n",
      "Data columns (total 5 columns):\n",
      "CELL_LINE_ID    15512614 non-null object\n",
      "GENE_ID:HGNC    15512614 non-null object\n",
      "GENE_ID:CGDS    15512614 non-null int64\n",
      "VALUE_MEAN      15512614 non-null float64\n",
      "VALUE_STD       15512614 non-null float64\n",
      "dtypes: float64(2), int64(1), object(2)\n",
      "memory usage: 591.8+ MB\n"
     ]
    }
   ],
   "source": [
    "d_agg.info()"
   ]
  },
  {
   "cell_type": "code",
   "execution_count": 8,
   "metadata": {
    "collapsed": false
   },
   "outputs": [
    {
     "data": {
      "text/plain": [
       "1    15493274\n",
       "2       19340\n",
       "Name: Number of Replicates, dtype: int64"
      ]
     },
     "execution_count": 8,
     "metadata": {},
     "output_type": "execute_result"
    }
   ],
   "source": [
    "d_dist"
   ]
  },
  {
   "cell_type": "code",
   "execution_count": 11,
   "metadata": {
    "collapsed": false
   },
   "outputs": [
    {
     "data": {
      "text/plain": [
       "'/Users/eczech/data/research/mgds/import/ccle_v1_gene-expression.pkl'"
      ]
     },
     "execution_count": 11,
     "metadata": {},
     "output_type": "execute_result"
    }
   ],
   "source": [
    "assert np.all(pd.notnull(d_agg))\n",
    "db.save(d, src.CCLE_v1, db.IMPORT, 'gene-expression')"
   ]
  }
 ],
 "metadata": {
  "kernelspec": {
   "display_name": "Python 3",
   "language": "python",
   "name": "python3"
  },
  "language_info": {
   "codemirror_mode": {
    "name": "ipython",
    "version": 3
   },
   "file_extension": ".py",
   "mimetype": "text/x-python",
   "name": "python",
   "nbconvert_exporter": "python",
   "pygments_lexer": "ipython3",
   "version": "3.5.2"
  }
 },
 "nbformat": 4,
 "nbformat_minor": 0
}
