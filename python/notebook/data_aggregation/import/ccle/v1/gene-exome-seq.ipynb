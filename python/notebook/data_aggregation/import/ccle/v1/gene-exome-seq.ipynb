{
 "cells": [
  {
   "cell_type": "markdown",
   "metadata": {},
   "source": [
    "# CCLE Exome Sequencing Data Importation\n",
    "**Local Version**: 1\n",
    "**Source Version**: NA\n",
    "\n",
    "This notebook will import raw CCLE exome sequencing data through the [CGDS](http://www.cbioportal.org/cgds_r.jsp) (aka \"Cancer Genomic Data Server\" portal.  This should not be confused with the [GDSC](http://www.cancerrxgene.org/) portal which is a separate data source entirely."
   ]
  },
  {
   "cell_type": "code",
   "execution_count": 1,
   "metadata": {
    "collapsed": false
   },
   "outputs": [],
   "source": [
    "%run -m ipy_startup\n",
    "%run -m ipy_logging\n",
    "%matplotlib inline\n",
    "from mgds.data_aggregation import database as db\n",
    "from mgds.data_aggregation import source as src\n",
    "from mgds.data_aggregation import api\n",
    "from mgds.data_aggregation.import_lib import ccle\n",
    "from mgds.data_aggregation.import_lib import cgds\n",
    "from py_utils.collection_utils import subset"
   ]
  },
  {
   "cell_type": "code",
   "execution_count": 2,
   "metadata": {
    "collapsed": false
   },
   "outputs": [
    {
     "name": "stderr",
     "output_type": "stream",
     "text": [
      "2016-11-19 20:45:30,647:DEBUG:mgds.data_aggregation.io_utils: Restoring serialized object from \"/Users/eczech/data/research/mgds/raw/ccle_v1_gene-exome-seq.pkl\"\n"
     ]
    }
   ],
   "source": [
    "case_list_id = ccle.CASE_LIST_ID\n",
    "genetic_profile_id = ccle.PROF_MUTATION\n",
    "batch_size = 50\n",
    "\n",
    "op = lambda: cgds.get_mutation_data(\n",
    "    case_list_id, genetic_profile_id,\n",
    "    api.get_hugo_gene_ids(), gene_id_batch_size=batch_size\n",
    ")\n",
    "d = db.cache_raw_operation(op, src.CCLE_v1, 'gene-exome-seq')"
   ]
  },
  {
   "cell_type": "code",
   "execution_count": 10,
   "metadata": {
    "collapsed": false
   },
   "outputs": [],
   "source": [
    "# It was confirmed previously that the CGDS endpoint for pivoted genetic data (ie values are CSV lists of \n",
    "# amino acid changes) contains the exact same number of gene + cell line combinations as the similar and\n",
    "# more detailed endpoint for mutations in long format (so it will be used instead)\n",
    "# d_pivot = pd.read_pickle('/Users/eczech/data/research/musc_genomics/materialized/cgds_genetic_mu.pkl')\n",
    "# dt = pd.melt(d_pivot, id_vars=['GENE_ID', 'COMMON'], var_name='SAMPLE', value_name='VALUE')\n",
    "# len(dt[dt['VALUE'].notnull()].groupby(['SAMPLE', 'GENE_ID']).size())\n",
    "# > 53541\n",
    "\n",
    "# d_meta = pd.read_pickle('/Users/eczech/data/research/musc_genomics/materialized/cgds_meta_mu.pkl')\n",
    "# len(d_meta.groupby(['case_id', 'gene_symbol']).size())\n",
    "# > 53541"
   ]
  },
  {
   "cell_type": "code",
   "execution_count": 3,
   "metadata": {
    "collapsed": false
   },
   "outputs": [
    {
     "data": {
      "text/html": [
       "<div>\n",
       "<table border=\"1\" class=\"dataframe\">\n",
       "  <thead>\n",
       "    <tr style=\"text-align: right;\">\n",
       "      <th></th>\n",
       "      <th>entrez_gene_id</th>\n",
       "      <th>gene_symbol</th>\n",
       "      <th>case_id</th>\n",
       "      <th>sequencing_center</th>\n",
       "      <th>mutation_status</th>\n",
       "      <th>mutation_type</th>\n",
       "      <th>validation_status</th>\n",
       "      <th>amino_acid_change</th>\n",
       "      <th>functional_impact_score</th>\n",
       "      <th>xvar_link</th>\n",
       "      <th>...</th>\n",
       "      <th>chr</th>\n",
       "      <th>start_position</th>\n",
       "      <th>end_position</th>\n",
       "      <th>reference_allele</th>\n",
       "      <th>variant_allele</th>\n",
       "      <th>reference_read_count_tumor</th>\n",
       "      <th>variant_read_count_tumor</th>\n",
       "      <th>reference_read_count_normal</th>\n",
       "      <th>variant_read_count_normal</th>\n",
       "      <th>genetic_profile_id</th>\n",
       "    </tr>\n",
       "  </thead>\n",
       "  <tbody>\n",
       "    <tr>\n",
       "      <th>0</th>\n",
       "      <td>22848.0</td>\n",
       "      <td>AAK1</td>\n",
       "      <td>KIJK_HAEMATOPOIETIC_AND_LYMPHOID_TISSUE</td>\n",
       "      <td>broad.mit.edu</td>\n",
       "      <td>NaN</td>\n",
       "      <td>Nonsense_Mutation</td>\n",
       "      <td>NaN</td>\n",
       "      <td>Q743*</td>\n",
       "      <td>NaN</td>\n",
       "      <td>getma.org/?cm=var&amp;var=hg19,2,69732743,G,A&amp;fts=all</td>\n",
       "      <td>...</td>\n",
       "      <td>2.0</td>\n",
       "      <td>69732743.0</td>\n",
       "      <td>69732743.0</td>\n",
       "      <td>G</td>\n",
       "      <td>A</td>\n",
       "      <td>170.0</td>\n",
       "      <td>40.0</td>\n",
       "      <td>NaN</td>\n",
       "      <td>NaN</td>\n",
       "      <td>cellline_ccle_broad_mutations</td>\n",
       "    </tr>\n",
       "    <tr>\n",
       "      <th>1</th>\n",
       "      <td>22848.0</td>\n",
       "      <td>AAK1</td>\n",
       "      <td>REH_HAEMATOPOIETIC_AND_LYMPHOID_TISSUE</td>\n",
       "      <td>broad.mit.edu</td>\n",
       "      <td>NaN</td>\n",
       "      <td>Missense_Mutation</td>\n",
       "      <td>NaN</td>\n",
       "      <td>G15D</td>\n",
       "      <td>L</td>\n",
       "      <td>getma.org/?cm=var&amp;var=hg19,2,69870129,C,T&amp;fts=all</td>\n",
       "      <td>...</td>\n",
       "      <td>2.0</td>\n",
       "      <td>69870129.0</td>\n",
       "      <td>69870129.0</td>\n",
       "      <td>C</td>\n",
       "      <td>T</td>\n",
       "      <td>10.0</td>\n",
       "      <td>12.0</td>\n",
       "      <td>NaN</td>\n",
       "      <td>NaN</td>\n",
       "      <td>cellline_ccle_broad_mutations</td>\n",
       "    </tr>\n",
       "    <tr>\n",
       "      <th>2</th>\n",
       "      <td>22848.0</td>\n",
       "      <td>AAK1</td>\n",
       "      <td>HEC108_ENDOMETRIUM</td>\n",
       "      <td>broad.mit.edu</td>\n",
       "      <td>NaN</td>\n",
       "      <td>Missense_Mutation</td>\n",
       "      <td>NaN</td>\n",
       "      <td>Q533H</td>\n",
       "      <td>N</td>\n",
       "      <td>getma.org/?cm=var&amp;var=hg19,2,69741780,C,G&amp;fts=all</td>\n",
       "      <td>...</td>\n",
       "      <td>2.0</td>\n",
       "      <td>69741780.0</td>\n",
       "      <td>69741780.0</td>\n",
       "      <td>C</td>\n",
       "      <td>G</td>\n",
       "      <td>446.0</td>\n",
       "      <td>129.0</td>\n",
       "      <td>NaN</td>\n",
       "      <td>NaN</td>\n",
       "      <td>cellline_ccle_broad_mutations</td>\n",
       "    </tr>\n",
       "    <tr>\n",
       "      <th>3</th>\n",
       "      <td>22848.0</td>\n",
       "      <td>AAK1</td>\n",
       "      <td>RERFLCAD2_LUNG</td>\n",
       "      <td>broad.mit.edu</td>\n",
       "      <td>NaN</td>\n",
       "      <td>Missense_Mutation</td>\n",
       "      <td>NaN</td>\n",
       "      <td>P771R</td>\n",
       "      <td>N</td>\n",
       "      <td>getma.org/?cm=var&amp;var=hg19,2,69723170,G,C&amp;fts=all</td>\n",
       "      <td>...</td>\n",
       "      <td>2.0</td>\n",
       "      <td>69723170.0</td>\n",
       "      <td>69723170.0</td>\n",
       "      <td>G</td>\n",
       "      <td>C</td>\n",
       "      <td>2.0</td>\n",
       "      <td>21.0</td>\n",
       "      <td>NaN</td>\n",
       "      <td>NaN</td>\n",
       "      <td>cellline_ccle_broad_mutations</td>\n",
       "    </tr>\n",
       "    <tr>\n",
       "      <th>4</th>\n",
       "      <td>22848.0</td>\n",
       "      <td>AAK1</td>\n",
       "      <td>NCIH650_LUNG</td>\n",
       "      <td>broad.mit.edu</td>\n",
       "      <td>NaN</td>\n",
       "      <td>Missense_Mutation</td>\n",
       "      <td>NaN</td>\n",
       "      <td>P336T</td>\n",
       "      <td>M</td>\n",
       "      <td>getma.org/?cm=var&amp;var=hg19,2,69752214,G,T&amp;fts=all</td>\n",
       "      <td>...</td>\n",
       "      <td>2.0</td>\n",
       "      <td>69752214.0</td>\n",
       "      <td>69752214.0</td>\n",
       "      <td>G</td>\n",
       "      <td>T</td>\n",
       "      <td>151.0</td>\n",
       "      <td>99.0</td>\n",
       "      <td>NaN</td>\n",
       "      <td>NaN</td>\n",
       "      <td>cellline_ccle_broad_mutations</td>\n",
       "    </tr>\n",
       "  </tbody>\n",
       "</table>\n",
       "<p>5 rows × 22 columns</p>\n",
       "</div>"
      ],
      "text/plain": [
       "   entrez_gene_id gene_symbol                                  case_id  \\\n",
       "0         22848.0        AAK1  KIJK_HAEMATOPOIETIC_AND_LYMPHOID_TISSUE   \n",
       "1         22848.0        AAK1   REH_HAEMATOPOIETIC_AND_LYMPHOID_TISSUE   \n",
       "2         22848.0        AAK1                       HEC108_ENDOMETRIUM   \n",
       "3         22848.0        AAK1                           RERFLCAD2_LUNG   \n",
       "4         22848.0        AAK1                             NCIH650_LUNG   \n",
       "\n",
       "  sequencing_center mutation_status      mutation_type validation_status  \\\n",
       "0     broad.mit.edu             NaN  Nonsense_Mutation               NaN   \n",
       "1     broad.mit.edu             NaN  Missense_Mutation               NaN   \n",
       "2     broad.mit.edu             NaN  Missense_Mutation               NaN   \n",
       "3     broad.mit.edu             NaN  Missense_Mutation               NaN   \n",
       "4     broad.mit.edu             NaN  Missense_Mutation               NaN   \n",
       "\n",
       "  amino_acid_change functional_impact_score  \\\n",
       "0             Q743*                     NaN   \n",
       "1              G15D                       L   \n",
       "2             Q533H                       N   \n",
       "3             P771R                       N   \n",
       "4             P336T                       M   \n",
       "\n",
       "                                           xvar_link  \\\n",
       "0  getma.org/?cm=var&var=hg19,2,69732743,G,A&fts=all   \n",
       "1  getma.org/?cm=var&var=hg19,2,69870129,C,T&fts=all   \n",
       "2  getma.org/?cm=var&var=hg19,2,69741780,C,G&fts=all   \n",
       "3  getma.org/?cm=var&var=hg19,2,69723170,G,C&fts=all   \n",
       "4  getma.org/?cm=var&var=hg19,2,69752214,G,T&fts=all   \n",
       "\n",
       "               ...                chr start_position  end_position  \\\n",
       "0              ...                2.0     69732743.0    69732743.0   \n",
       "1              ...                2.0     69870129.0    69870129.0   \n",
       "2              ...                2.0     69741780.0    69741780.0   \n",
       "3              ...                2.0     69723170.0    69723170.0   \n",
       "4              ...                2.0     69752214.0    69752214.0   \n",
       "\n",
       "   reference_allele  variant_allele reference_read_count_tumor  \\\n",
       "0                 G               A                      170.0   \n",
       "1                 C               T                       10.0   \n",
       "2                 C               G                      446.0   \n",
       "3                 G               C                        2.0   \n",
       "4                 G               T                      151.0   \n",
       "\n",
       "  variant_read_count_tumor  reference_read_count_normal  \\\n",
       "0                     40.0                          NaN   \n",
       "1                     12.0                          NaN   \n",
       "2                    129.0                          NaN   \n",
       "3                     21.0                          NaN   \n",
       "4                     99.0                          NaN   \n",
       "\n",
       "   variant_read_count_normal             genetic_profile_id  \n",
       "0                        NaN  cellline_ccle_broad_mutations  \n",
       "1                        NaN  cellline_ccle_broad_mutations  \n",
       "2                        NaN  cellline_ccle_broad_mutations  \n",
       "3                        NaN  cellline_ccle_broad_mutations  \n",
       "4                        NaN  cellline_ccle_broad_mutations  \n",
       "\n",
       "[5 rows x 22 columns]"
      ]
     },
     "execution_count": 3,
     "metadata": {},
     "output_type": "execute_result"
    }
   ],
   "source": [
    "d.head()"
   ]
  },
  {
   "cell_type": "code",
   "execution_count": 4,
   "metadata": {
    "collapsed": false
   },
   "outputs": [
    {
     "name": "stdout",
     "output_type": "stream",
     "text": [
      "<class 'pandas.core.frame.DataFrame'>\n",
      "Int64Index: 61846 entries, 0 to 229\n",
      "Data columns (total 22 columns):\n",
      "entrez_gene_id                 61846 non-null float64\n",
      "gene_symbol                    61846 non-null object\n",
      "case_id                        61846 non-null object\n",
      "sequencing_center              61846 non-null object\n",
      "mutation_status                0 non-null object\n",
      "mutation_type                  61846 non-null object\n",
      "validation_status              0 non-null object\n",
      "amino_acid_change              61846 non-null object\n",
      "functional_impact_score        46392 non-null object\n",
      "xvar_link                      49796 non-null object\n",
      "xvar_link_pdb                  22168 non-null object\n",
      "xvar_link_msa                  46434 non-null object\n",
      "chr                            61846 non-null float64\n",
      "start_position                 61846 non-null float64\n",
      "end_position                   61846 non-null float64\n",
      "reference_allele               61846 non-null object\n",
      "variant_allele                 61846 non-null object\n",
      "reference_read_count_tumor     61844 non-null float64\n",
      "variant_read_count_tumor       61846 non-null float64\n",
      "reference_read_count_normal    0 non-null object\n",
      "variant_read_count_normal      0 non-null object\n",
      "genetic_profile_id             61846 non-null object\n",
      "dtypes: float64(6), object(16)\n",
      "memory usage: 10.9+ MB\n"
     ]
    }
   ],
   "source": [
    "d.info()"
   ]
  },
  {
   "cell_type": "code",
   "execution_count": 5,
   "metadata": {
    "collapsed": false
   },
   "outputs": [
    {
     "name": "stdout",
     "output_type": "stream",
     "text": [
      "[Remove duplicate records] Records before = 61846, Records after = 61664, Records removed = 182 (%0.29)\n",
      "<class 'pandas.core.frame.DataFrame'>\n",
      "Int64Index: 61664 entries, 0 to 229\n",
      "Data columns (total 15 columns):\n",
      "GENE_ID:ENTREZ                61664 non-null int64\n",
      "GENE_ID:HGNC                  61664 non-null object\n",
      "CELL_LINE_ID                  61664 non-null object\n",
      "SEQUENCING_CENTER             61664 non-null object\n",
      "MUTATION_TYPE                 61664 non-null object\n",
      "AMINO_ACID_CHANGE             61664 non-null object\n",
      "FUNCTIONAL_IMPACT_SCORE       61664 non-null object\n",
      "CHR                           61664 non-null float64\n",
      "START_POSITION                61664 non-null float64\n",
      "END_POSITION                  61664 non-null float64\n",
      "REFERENCE_ALLELE              61664 non-null object\n",
      "VARIANT_ALLELE                61664 non-null object\n",
      "REFERENCE_READ_COUNT_TUMOR    61662 non-null float64\n",
      "VARIANT_READ_COUNT_TUMOR      61664 non-null float64\n",
      "GENETIC_PROFILE_ID            61664 non-null object\n",
      "dtypes: float64(5), int64(1), object(9)\n",
      "memory usage: 7.5+ MB\n"
     ]
    }
   ],
   "source": [
    "c_rm = cgds.DEFAULT_IGNORABLE_MUTATION_COLS + ['reference_read_count_normal', 'variant_read_count_normal']\n",
    "d_exp = cgds.prep_mutation_data(d, c_rm=c_rm)\n",
    "d_exp['FUNCTIONAL_IMPACT_SCORE'] = d_exp['FUNCTIONAL_IMPACT_SCORE'].fillna('Unknown')\n",
    "d_exp.info()"
   ]
  },
  {
   "cell_type": "code",
   "execution_count": 6,
   "metadata": {
    "collapsed": true
   },
   "outputs": [],
   "source": [
    "# At TOW, this field had null values for a miniscule percentage of records\n",
    "# so they will be mean imputed here\n",
    "if np.any(d_exp['REFERENCE_READ_COUNT_TUMOR'].isnull()):\n",
    "    mean_val = d_exp['REFERENCE_READ_COUNT_TUMOR'].mean()\n",
    "    d_exp['REFERENCE_READ_COUNT_TUMOR'] = d_exp['REFERENCE_READ_COUNT_TUMOR'].fillna(mean_val)"
   ]
  },
  {
   "cell_type": "code",
   "execution_count": 7,
   "metadata": {
    "collapsed": false
   },
   "outputs": [
    {
     "name": "stdout",
     "output_type": "stream",
     "text": [
      "<class 'pandas.core.frame.DataFrame'>\n",
      "Int64Index: 61664 entries, 0 to 229\n",
      "Data columns (total 15 columns):\n",
      "GENE_ID:ENTREZ                61664 non-null int64\n",
      "GENE_ID:HGNC                  61664 non-null object\n",
      "CELL_LINE_ID                  61664 non-null object\n",
      "SEQUENCING_CENTER             61664 non-null object\n",
      "MUTATION_TYPE                 61664 non-null object\n",
      "AMINO_ACID_CHANGE             61664 non-null object\n",
      "FUNCTIONAL_IMPACT_SCORE       61664 non-null object\n",
      "CHR                           61664 non-null float64\n",
      "START_POSITION                61664 non-null float64\n",
      "END_POSITION                  61664 non-null float64\n",
      "REFERENCE_ALLELE              61664 non-null object\n",
      "VARIANT_ALLELE                61664 non-null object\n",
      "REFERENCE_READ_COUNT_TUMOR    61664 non-null float64\n",
      "VARIANT_READ_COUNT_TUMOR      61664 non-null float64\n",
      "GENETIC_PROFILE_ID            61664 non-null object\n",
      "dtypes: float64(5), int64(1), object(9)\n",
      "memory usage: 7.5+ MB\n"
     ]
    }
   ],
   "source": [
    "d_exp.info()"
   ]
  },
  {
   "cell_type": "code",
   "execution_count": 8,
   "metadata": {
    "collapsed": false
   },
   "outputs": [
    {
     "data": {
      "text/plain": [
       "1    61662\n",
       "2        1\n",
       "dtype: int64"
      ]
     },
     "execution_count": 8,
     "metadata": {},
     "output_type": "execute_result"
    }
   ],
   "source": [
    "# Note that records may not necessarily be unique to cell line, gene, and amino acid change\n",
    "c_unique = ['CELL_LINE_ID', 'GENE_ID:HGNC', 'AMINO_ACID_CHANGE']\n",
    "cts = d_exp.groupby(c_unique).size()\n",
    "cts.value_counts()"
   ]
  },
  {
   "cell_type": "code",
   "execution_count": 9,
   "metadata": {
    "collapsed": false
   },
   "outputs": [
    {
     "data": {
      "text/plain": [
       "'/Users/eczech/data/research/mgds/import/ccle_v1_gene-exome-seq.pkl'"
      ]
     },
     "execution_count": 9,
     "metadata": {},
     "output_type": "execute_result"
    }
   ],
   "source": [
    "assert np.all(pd.notnull(d_exp))\n",
    "db.save(d_exp, src.CCLE_v1, db.IMPORT, 'gene-exome-seq')"
   ]
  }
 ],
 "metadata": {
  "kernelspec": {
   "display_name": "Python 3",
   "language": "python",
   "name": "python3"
  },
  "language_info": {
   "codemirror_mode": {
    "name": "ipython",
    "version": 3
   },
   "file_extension": ".py",
   "mimetype": "text/x-python",
   "name": "python",
   "nbconvert_exporter": "python",
   "pygments_lexer": "ipython3",
   "version": "3.5.2"
  }
 },
 "nbformat": 4,
 "nbformat_minor": 0
}
