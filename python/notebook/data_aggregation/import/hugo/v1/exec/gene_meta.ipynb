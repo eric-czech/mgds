{
 "cells": [
  {
   "cell_type": "markdown",
   "metadata": {},
   "source": [
    "# HUGO Gene Meta Data Importation\n",
    "**Local Version**: 1\n",
    "**Source Version**: NA\n",
    "\n",
    "This notebook will import raw HUGO gene names, ids, and other metadata"
   ]
  },
  {
   "cell_type": "code",
   "execution_count": 1,
   "metadata": {
    "collapsed": true
   },
   "outputs": [],
   "source": [
    "%run -m ipy_startup\n",
    "from mgds.data_aggregation import database as db\n",
    "from mgds.data_aggregation import source as src"
   ]
  },
  {
   "cell_type": "code",
   "execution_count": 2,
   "metadata": {
    "collapsed": true
   },
   "outputs": [
    {
     "data": {
      "text/html": [
       "<div>\n",
       "<table border=\"1\" class=\"dataframe\">\n",
       "  <thead>\n",
       "    <tr style=\"text-align: right;\">\n",
       "      <th></th>\n",
       "      <th>HGNC ID</th>\n",
       "      <th>Approved Symbol</th>\n",
       "      <th>Approved Name</th>\n",
       "      <th>Status</th>\n",
       "      <th>Previous Symbols</th>\n",
       "      <th>Synonyms</th>\n",
       "      <th>Chromosome</th>\n",
       "      <th>Accession Numbers</th>\n",
       "      <th>RefSeq IDs</th>\n",
       "    </tr>\n",
       "  </thead>\n",
       "  <tbody>\n",
       "    <tr>\n",
       "      <th>0</th>\n",
       "      <td>HGNC:5</td>\n",
       "      <td>A1BG</td>\n",
       "      <td>alpha-1-B glycoprotein</td>\n",
       "      <td>Approved</td>\n",
       "      <td>NaN</td>\n",
       "      <td>NaN</td>\n",
       "      <td>19q13.43</td>\n",
       "      <td>NaN</td>\n",
       "      <td>NM_130786</td>\n",
       "    </tr>\n",
       "    <tr>\n",
       "      <th>1</th>\n",
       "      <td>HGNC:37133</td>\n",
       "      <td>A1BG-AS1</td>\n",
       "      <td>A1BG antisense RNA 1</td>\n",
       "      <td>Approved</td>\n",
       "      <td>NCRNA00181, A1BGAS, A1BG-AS</td>\n",
       "      <td>FLJ23569</td>\n",
       "      <td>19q13.43</td>\n",
       "      <td>BC040926</td>\n",
       "      <td>NR_015380</td>\n",
       "    </tr>\n",
       "    <tr>\n",
       "      <th>2</th>\n",
       "      <td>HGNC:24086</td>\n",
       "      <td>A1CF</td>\n",
       "      <td>APOBEC1 complementation factor</td>\n",
       "      <td>Approved</td>\n",
       "      <td>NaN</td>\n",
       "      <td>ACF, ASP, ACF64, ACF65, APOBEC1CF</td>\n",
       "      <td>10q21.1</td>\n",
       "      <td>AF271790</td>\n",
       "      <td>NM_014576</td>\n",
       "    </tr>\n",
       "    <tr>\n",
       "      <th>3</th>\n",
       "      <td>HGNC:6</td>\n",
       "      <td>A1S9T~withdrawn</td>\n",
       "      <td>symbol withdrawn, see UBA1</td>\n",
       "      <td>Symbol Withdrawn</td>\n",
       "      <td>NaN</td>\n",
       "      <td>NaN</td>\n",
       "      <td>NaN</td>\n",
       "      <td>NaN</td>\n",
       "      <td>NaN</td>\n",
       "    </tr>\n",
       "    <tr>\n",
       "      <th>4</th>\n",
       "      <td>HGNC:7</td>\n",
       "      <td>A2M</td>\n",
       "      <td>alpha-2-macroglobulin</td>\n",
       "      <td>Approved</td>\n",
       "      <td>NaN</td>\n",
       "      <td>FWP007, S863-7, CPAMD5</td>\n",
       "      <td>12p13.31</td>\n",
       "      <td>BX647329, X68728, M11313</td>\n",
       "      <td>NM_000014</td>\n",
       "    </tr>\n",
       "  </tbody>\n",
       "</table>\n",
       "</div>"
      ],
      "text/plain": [
       "      HGNC ID  Approved Symbol                   Approved Name  \\\n",
       "0      HGNC:5             A1BG          alpha-1-B glycoprotein   \n",
       "1  HGNC:37133         A1BG-AS1            A1BG antisense RNA 1   \n",
       "2  HGNC:24086             A1CF  APOBEC1 complementation factor   \n",
       "3      HGNC:6  A1S9T~withdrawn      symbol withdrawn, see UBA1   \n",
       "4      HGNC:7              A2M           alpha-2-macroglobulin   \n",
       "\n",
       "             Status             Previous Symbols  \\\n",
       "0          Approved                          NaN   \n",
       "1          Approved  NCRNA00181, A1BGAS, A1BG-AS   \n",
       "2          Approved                          NaN   \n",
       "3  Symbol Withdrawn                          NaN   \n",
       "4          Approved                          NaN   \n",
       "\n",
       "                            Synonyms Chromosome         Accession Numbers  \\\n",
       "0                                NaN   19q13.43                       NaN   \n",
       "1                           FLJ23569   19q13.43                  BC040926   \n",
       "2  ACF, ASP, ACF64, ACF65, APOBEC1CF    10q21.1                  AF271790   \n",
       "3                                NaN        NaN                       NaN   \n",
       "4             FWP007, S863-7, CPAMD5   12p13.31  BX647329, X68728, M11313   \n",
       "\n",
       "  RefSeq IDs  \n",
       "0  NM_130786  \n",
       "1  NR_015380  \n",
       "2  NM_014576  \n",
       "3        NaN  \n",
       "4  NM_000014  "
      ]
     },
     "execution_count": 2,
     "metadata": {},
     "output_type": "execute_result"
    }
   ],
   "source": [
    "HUGO_URL = 'http://s3-us-west-2.amazonaws.com/eric.a.czech/Public/musc_genomics/hugo_genes.csv'\n",
    "d_gene = pd.read_csv(HUGO_URL)\n",
    "d_gene.head()"
   ]
  },
  {
   "cell_type": "code",
   "execution_count": 3,
   "metadata": {
    "collapsed": false
   },
   "outputs": [
    {
     "name": "stdout",
     "output_type": "stream",
     "text": [
      "<class 'pandas.core.frame.DataFrame'>\n",
      "RangeIndex: 43695 entries, 0 to 43694\n",
      "Data columns (total 9 columns):\n",
      "HGNC ID              43695 non-null object\n",
      "Approved Symbol      43695 non-null object\n",
      "Approved Name        43695 non-null object\n",
      "Status               43695 non-null object\n",
      "Previous Symbols     10879 non-null object\n",
      "Synonyms             20492 non-null object\n",
      "Chromosome           39410 non-null object\n",
      "Accession Numbers    20398 non-null object\n",
      "RefSeq IDs           25019 non-null object\n",
      "dtypes: object(9)\n",
      "memory usage: 3.0+ MB\n"
     ]
    }
   ],
   "source": [
    "d_gene.info()"
   ]
  },
  {
   "cell_type": "code",
   "execution_count": 4,
   "metadata": {
    "collapsed": false
   },
   "outputs": [
    {
     "data": {
      "text/plain": [
       "'/Users/eczech/data/research/mgds/raw/hugo_v1_gene-meta.pkl'"
      ]
     },
     "execution_count": 4,
     "metadata": {},
     "output_type": "execute_result"
    }
   ],
   "source": [
    "db.save(d_gene, src.HUGO_v1, db.RAW, 'gene-meta')"
   ]
  }
 ],
 "metadata": {
  "kernelspec": {
   "display_name": "Python 3",
   "language": "python",
   "name": "python3"
  },
  "language_info": {
   "codemirror_mode": {
    "name": "ipython",
    "version": 3
   },
   "file_extension": ".py",
   "mimetype": "text/x-python",
   "name": "python",
   "nbconvert_exporter": "python",
   "pygments_lexer": "ipython3",
   "version": "3.5.2"
  }
 },
 "nbformat": 4,
 "nbformat_minor": 0
}
