{
 "cells": [
  {
   "cell_type": "markdown",
   "metadata": {},
   "source": [
    "# CTD2 (aka CTRP) Drug Sensitivity Data Import\n",
    "**Local Version**: 2\n",
    "**Source Version**: 2\n",
    "\n",
    "This notebook will import raw CTD (release 2) drug sensitivity data."
   ]
  },
  {
   "cell_type": "code",
   "execution_count": 4,
   "metadata": {
    "collapsed": true
   },
   "outputs": [],
   "source": [
    "%run -m ipy_startup\n",
    "%run -m ipy_logging\n",
    "%matplotlib inline\n",
    "from mgds.data_aggregation import database as db\n",
    "from mgds.data_aggregation import source as src\n",
    "from mgds.data_aggregation import io_utils as io\n",
    "\n",
    "source_file = 'ftp://caftpd.nci.nih.gov/pub/dcc_ctd2/Broad/CTRPv2.0_2015_ctd2_ExpandedDataset/CTRPv2.0_2015_ctd2_ExpandedDataset.zip'\n",
    "dest_file = db.raw_file(src.CTD_v2, 'drug-sensitivity.zip')"
   ]
  },
  {
   "cell_type": "code",
   "execution_count": 5,
   "metadata": {
    "collapsed": true
   },
   "outputs": [],
   "source": [
    "def get_data(filename):\n",
    "    return io.extract_ftp_zip_to_data_frame(source_file, dest_file, filename, sep='\\t')"
   ]
  },
  {
   "cell_type": "code",
   "execution_count": 6,
   "metadata": {
    "collapsed": false
   },
   "outputs": [
    {
     "name": "stdout",
     "output_type": "stream",
     "text": [
      "<class 'pandas.core.frame.DataFrame'>\n",
      "RangeIndex: 395263 entries, 0 to 395262\n",
      "Data columns (total 17 columns):\n",
      "experiment_id         395263 non-null int64\n",
      "conc_pts_fit          395263 non-null int64\n",
      "fit_num_param         395263 non-null int64\n",
      "p1_conf_int_high      395263 non-null float64\n",
      "p1_conf_int_low       395263 non-null float64\n",
      "p2_conf_int_high      395263 non-null float64\n",
      "p2_conf_int_low       395263 non-null float64\n",
      "p4_conf_int_high      306346 non-null float64\n",
      "p4_conf_int_low       306346 non-null float64\n",
      "p1_center             395263 non-null float64\n",
      "p2_slope              395263 non-null float64\n",
      "p3_total_decline      395263 non-null float64\n",
      "p4_baseline           395263 non-null float64\n",
      "apparent_ec50_umol    395263 non-null float64\n",
      "pred_pv_high_conc     395263 non-null float64\n",
      "area_under_curve      395263 non-null float64\n",
      "master_cpd_id         395263 non-null int64\n",
      "dtypes: float64(13), int64(4)\n",
      "memory usage: 51.3 MB\n"
     ]
    }
   ],
   "source": [
    "d_auc = get_data('v20.data.curves_post_qc.txt')\n",
    "d_auc.info()"
   ]
  },
  {
   "cell_type": "code",
   "execution_count": 7,
   "metadata": {
    "collapsed": false
   },
   "outputs": [
    {
     "name": "stdout",
     "output_type": "stream",
     "text": [
      "<class 'pandas.core.frame.DataFrame'>\n",
      "RangeIndex: 545 entries, 0 to 544\n",
      "Data columns (total 11 columns):\n",
      "master_cpd_id                     545 non-null int64\n",
      "cpd_name                          545 non-null object\n",
      "broad_cpd_id                      545 non-null object\n",
      "top_test_conc_umol                545 non-null float64\n",
      "cpd_status                        545 non-null object\n",
      "inclusion_rationale               545 non-null object\n",
      "gene_symbol_of_protein_target     415 non-null object\n",
      "target_or_activity_of_compound    545 non-null object\n",
      "source_name                       495 non-null object\n",
      "source_catalog_id                 359 non-null object\n",
      "cpd_smiles                        545 non-null object\n",
      "dtypes: float64(1), int64(1), object(9)\n",
      "memory usage: 46.9+ KB\n"
     ]
    }
   ],
   "source": [
    "d_cmpd = get_data('v20.meta.per_compound.txt')\n",
    "d_cmpd.info()"
   ]
  },
  {
   "cell_type": "code",
   "execution_count": 8,
   "metadata": {
    "collapsed": false
   },
   "outputs": [
    {
     "name": "stdout",
     "output_type": "stream",
     "text": [
      "<class 'pandas.core.frame.DataFrame'>\n",
      "RangeIndex: 1061 entries, 0 to 1060\n",
      "Data columns (total 9 columns):\n",
      "experiment_id      1061 non-null int64\n",
      "run_id             1061 non-null object\n",
      "experiment_date    1061 non-null int64\n",
      "culture_media      1061 non-null object\n",
      "baseline_signal    1061 non-null float64\n",
      "cells_per_well     1061 non-null int64\n",
      "growth_mode        1061 non-null object\n",
      "snp_fp_status      1061 non-null object\n",
      "master_ccl_id      1061 non-null int64\n",
      "dtypes: float64(1), int64(4), object(4)\n",
      "memory usage: 74.7+ KB\n"
     ]
    }
   ],
   "source": [
    "d_exp = get_data('v20.meta.per_experiment.txt')\n",
    "d_exp.info()"
   ]
  },
  {
   "cell_type": "code",
   "execution_count": 9,
   "metadata": {
    "collapsed": false
   },
   "outputs": [
    {
     "name": "stdout",
     "output_type": "stream",
     "text": [
      "<class 'pandas.core.frame.DataFrame'>\n",
      "RangeIndex: 1107 entries, 0 to 1106\n",
      "Data columns (total 6 columns):\n",
      "master_ccl_id          1107 non-null int64\n",
      "ccl_name               1107 non-null object\n",
      "ccl_availability       1107 non-null object\n",
      "ccle_primary_site      1045 non-null object\n",
      "ccle_primary_hist      1032 non-null object\n",
      "ccle_hist_subtype_1    779 non-null object\n",
      "dtypes: int64(1), object(5)\n",
      "memory usage: 52.0+ KB\n"
     ]
    }
   ],
   "source": [
    "d_cl = get_data('v20.meta.per_cell_line.txt')\n",
    "d_cl.info()"
   ]
  },
  {
   "cell_type": "markdown",
   "metadata": {},
   "source": [
    "## Merge Datasets"
   ]
  },
  {
   "cell_type": "code",
   "execution_count": 10,
   "metadata": {
    "collapsed": false
   },
   "outputs": [
    {
     "name": "stdout",
     "output_type": "stream",
     "text": [
      "<class 'pandas.core.frame.DataFrame'>\n",
      "Int64Index: 462784 entries, 0 to 462783\n",
      "Data columns (total 4 columns):\n",
      "ccl_name            462784 non-null object\n",
      "cpd_name            462784 non-null object\n",
      "area_under_curve    462784 non-null float64\n",
      "experiment_id       462784 non-null int64\n",
      "dtypes: float64(1), int64(1), object(2)\n",
      "memory usage: 17.7+ MB\n"
     ]
    }
   ],
   "source": [
    "d = pd.merge(d_auc, d_cmpd, on='master_cpd_id')\n",
    "d = pd.merge(d, d_exp, on='experiment_id')\n",
    "d = pd.merge(d, d_cl, on='master_ccl_id')\n",
    "d = d[['ccl_name', 'cpd_name', 'area_under_curve', 'experiment_id']]\n",
    "d.info()"
   ]
  },
  {
   "cell_type": "code",
   "execution_count": 11,
   "metadata": {
    "collapsed": false
   },
   "outputs": [],
   "source": [
    "# At TOW, there were no unique cell line + drug + experiment id combinations that resulted in different \n",
    "# response AUC values, so make sure that this is always true (so that uniqueness can be assumed along these\n",
    "# dimensions otherwise)\n",
    "is_valid = np.all(d.groupby(['ccl_name', 'cpd_name', 'experiment_id'])['area_under_curve'].nunique() == 1)\n",
    "assert is_valid, 'Found at least one cell line, compound, and experiment with conflicting AUC values'"
   ]
  },
  {
   "cell_type": "code",
   "execution_count": 12,
   "metadata": {
    "collapsed": false
   },
   "outputs": [
    {
     "data": {
      "text/plain": [
       "1    315186\n",
       "2     68990\n",
       "3      2198\n",
       "4       756\n",
       "dtype: int64"
      ]
     },
     "execution_count": 12,
     "metadata": {},
     "output_type": "execute_result"
    }
   ],
   "source": [
    "# Distribution of number of experimental repetitions per cell line + drug combination\n",
    "d.groupby(['ccl_name', 'cpd_name']).size().value_counts()"
   ]
  },
  {
   "cell_type": "code",
   "execution_count": 13,
   "metadata": {
    "collapsed": false
   },
   "outputs": [
    {
     "data": {
      "text/html": [
       "<div>\n",
       "<table border=\"1\" class=\"dataframe\">\n",
       "  <thead>\n",
       "    <tr style=\"text-align: right;\">\n",
       "      <th></th>\n",
       "      <th>TUMOR_ID</th>\n",
       "      <th>DRUG_ID</th>\n",
       "      <th>VALUE_STD</th>\n",
       "      <th>VALUE_MEAN</th>\n",
       "      <th>VALUE_CT</th>\n",
       "    </tr>\n",
       "  </thead>\n",
       "  <tbody>\n",
       "    <tr>\n",
       "      <th>0</th>\n",
       "      <td>2004</td>\n",
       "      <td>16-beta-bromoandrosterone</td>\n",
       "      <td>0.0</td>\n",
       "      <td>13.7120</td>\n",
       "      <td>1</td>\n",
       "    </tr>\n",
       "    <tr>\n",
       "      <th>1</th>\n",
       "      <td>2004</td>\n",
       "      <td>1S,3R-RSL-3</td>\n",
       "      <td>0.0</td>\n",
       "      <td>6.5377</td>\n",
       "      <td>1</td>\n",
       "    </tr>\n",
       "    <tr>\n",
       "      <th>2</th>\n",
       "      <td>2004</td>\n",
       "      <td>A-804598</td>\n",
       "      <td>0.0</td>\n",
       "      <td>15.8390</td>\n",
       "      <td>1</td>\n",
       "    </tr>\n",
       "    <tr>\n",
       "      <th>3</th>\n",
       "      <td>2004</td>\n",
       "      <td>AA-COCF3</td>\n",
       "      <td>0.0</td>\n",
       "      <td>12.0080</td>\n",
       "      <td>1</td>\n",
       "    </tr>\n",
       "    <tr>\n",
       "      <th>4</th>\n",
       "      <td>2004</td>\n",
       "      <td>ABT-199</td>\n",
       "      <td>0.0</td>\n",
       "      <td>14.4760</td>\n",
       "      <td>1</td>\n",
       "    </tr>\n",
       "  </tbody>\n",
       "</table>\n",
       "</div>"
      ],
      "text/plain": [
       "  TUMOR_ID                    DRUG_ID  VALUE_STD  VALUE_MEAN  VALUE_CT\n",
       "0     2004  16-beta-bromoandrosterone        0.0     13.7120         1\n",
       "1     2004                1S,3R-RSL-3        0.0      6.5377         1\n",
       "2     2004                   A-804598        0.0     15.8390         1\n",
       "3     2004                   AA-COCF3        0.0     12.0080         1\n",
       "4     2004                    ABT-199        0.0     14.4760         1"
      ]
     },
     "execution_count": 13,
     "metadata": {},
     "output_type": "execute_result"
    }
   ],
   "source": [
    "# Determine the mean AUC value across possibly duplicated experiments for the same cell line + compound combinations\n",
    "d_exp = d.groupby(['ccl_name', 'cpd_name'])['area_under_curve']\\\n",
    "    .agg({'VALUE_MEAN': np.mean, 'VALUE_STD': np.std, 'VALUE_CT': 'count'}).reset_index().fillna(0)\n",
    "d_exp = d_exp.rename(columns={'ccl_name': 'TUMOR_ID', 'cpd_name': 'DRUG_ID'})\n",
    "d_exp.head()"
   ]
  },
  {
   "cell_type": "code",
   "execution_count": 14,
   "metadata": {
    "collapsed": false
   },
   "outputs": [],
   "source": [
    "assert d_exp.groupby(['TUMOR_ID', 'DRUG_ID']).size().max() <= 1, \\\n",
    "    'Found at least one cell line + drug combination with more than one record (should not be possible)'"
   ]
  },
  {
   "cell_type": "markdown",
   "metadata": {},
   "source": [
    "## Export"
   ]
  },
  {
   "cell_type": "code",
   "execution_count": 15,
   "metadata": {
    "collapsed": false
   },
   "outputs": [
    {
     "data": {
      "text/plain": [
       "'/Users/eczech/data/research/mgds/import/ctd_v2_drug-sensitivity.pkl'"
      ]
     },
     "execution_count": 15,
     "metadata": {},
     "output_type": "execute_result"
    }
   ],
   "source": [
    "assert np.all(pd.notnull(d_exp))\n",
    "db.save(d_exp, src.CTD_v2, db.IMPORT, 'drug-sensitivity')"
   ]
  }
 ],
 "metadata": {
  "kernelspec": {
   "display_name": "Python 3",
   "language": "python",
   "name": "python3"
  },
  "language_info": {
   "codemirror_mode": {
    "name": "ipython",
    "version": 3
   },
   "file_extension": ".py",
   "mimetype": "text/x-python",
   "name": "python",
   "nbconvert_exporter": "python",
   "pygments_lexer": "ipython3",
   "version": "3.5.2"
  }
 },
 "nbformat": 4,
 "nbformat_minor": 0
}
