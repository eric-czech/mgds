{
 "cells": [
  {
   "cell_type": "markdown",
   "metadata": {},
   "source": [
    "# CTD1 (aka CTRP) Drug Sensitivity Data Import\n",
    "**Local Version**: 1\n",
    "**Source Version**: 1\n",
    "\n",
    "This notebook will import raw CTD (release 1) drug sensitivity data."
   ]
  },
  {
   "cell_type": "code",
   "execution_count": 1,
   "metadata": {
    "collapsed": true
   },
   "outputs": [],
   "source": [
    "%run -m ipy_startup\n",
    "%run -m ipy_logging\n",
    "\n",
    "from mgds.data_aggregation import database as db\n",
    "from mgds.data_aggregation import source as src\n",
    "from mgds.data_aggregation import io_utils as io\n",
    "\n",
    "source_file = 'ftp://caftpd.nci.nih.gov/pub/dcc_ctd2/Broad/CTRPv1.0_2013_pub_Cell_154_1151/CTRPv1.0_2013_pub_Cell_154_1151.zip'\n",
    "dest_file = 'downloads/data.zip'"
   ]
  },
  {
   "cell_type": "code",
   "execution_count": 2,
   "metadata": {
    "collapsed": false
   },
   "outputs": [],
   "source": [
    "# Extract AUC data file from FTP zip archive\n",
    "d = io.extract_ftp_zip_to_data_frame(source_file, dest_file, 'v10.D3.area_under_conc_curve.txt', sep='\\t')"
   ]
  },
  {
   "cell_type": "code",
   "execution_count": 3,
   "metadata": {
    "collapsed": false
   },
   "outputs": [
    {
     "name": "stdout",
     "output_type": "stream",
     "text": [
      "<class 'pandas.core.frame.DataFrame'>\n",
      "RangeIndex: 50531 entries, 0 to 50530\n",
      "Data columns (total 3 columns):\n",
      "ccl_name            50531 non-null object\n",
      "cpd_name            50531 non-null object\n",
      "area_under_curve    50531 non-null float64\n",
      "dtypes: float64(1), object(2)\n",
      "memory usage: 1.2+ MB\n"
     ]
    }
   ],
   "source": [
    "d.info()"
   ]
  },
  {
   "cell_type": "code",
   "execution_count": 4,
   "metadata": {
    "collapsed": false
   },
   "outputs": [
    {
     "data": {
      "text/html": [
       "<div>\n",
       "<table border=\"1\" class=\"dataframe\">\n",
       "  <thead>\n",
       "    <tr style=\"text-align: right;\">\n",
       "      <th></th>\n",
       "      <th>TUMOR_ID</th>\n",
       "      <th>DRUG_ID</th>\n",
       "      <th>VALUE_MEAN</th>\n",
       "      <th>VALUE_STD</th>\n",
       "    </tr>\n",
       "  </thead>\n",
       "  <tbody>\n",
       "    <tr>\n",
       "      <th>0</th>\n",
       "      <td>5637</td>\n",
       "      <td>16,16-dimethylprostaglandin-E2</td>\n",
       "      <td>6.7149</td>\n",
       "      <td>0.0</td>\n",
       "    </tr>\n",
       "    <tr>\n",
       "      <th>1</th>\n",
       "      <td>5637</td>\n",
       "      <td>16-beta-bromoandrosterone</td>\n",
       "      <td>5.8866</td>\n",
       "      <td>0.0</td>\n",
       "    </tr>\n",
       "    <tr>\n",
       "      <th>2</th>\n",
       "      <td>5637</td>\n",
       "      <td>2-deoxyglucose</td>\n",
       "      <td>6.2317</td>\n",
       "      <td>0.0</td>\n",
       "    </tr>\n",
       "    <tr>\n",
       "      <th>3</th>\n",
       "      <td>5637</td>\n",
       "      <td>5-benzyl-9-tert-butyl-paullone</td>\n",
       "      <td>6.3970</td>\n",
       "      <td>0.0</td>\n",
       "    </tr>\n",
       "    <tr>\n",
       "      <th>4</th>\n",
       "      <td>5637</td>\n",
       "      <td>6-NBDG</td>\n",
       "      <td>6.9988</td>\n",
       "      <td>0.0</td>\n",
       "    </tr>\n",
       "  </tbody>\n",
       "</table>\n",
       "</div>"
      ],
      "text/plain": [
       "  TUMOR_ID                         DRUG_ID  VALUE_MEAN  VALUE_STD\n",
       "0     5637  16,16-dimethylprostaglandin-E2      6.7149        0.0\n",
       "1     5637       16-beta-bromoandrosterone      5.8866        0.0\n",
       "2     5637                  2-deoxyglucose      6.2317        0.0\n",
       "3     5637  5-benzyl-9-tert-butyl-paullone      6.3970        0.0\n",
       "4     5637                          6-NBDG      6.9988        0.0"
      ]
     },
     "execution_count": 4,
     "metadata": {},
     "output_type": "execute_result"
    }
   ],
   "source": [
    "# Determine the mean AUC value across possibly duplicated experiments for the same cell line + compound combinations\n",
    "d_exp = d.groupby(['ccl_name', 'cpd_name'])['area_under_curve']\\\n",
    "    .agg({'VALUE_MEAN': np.mean, 'VALUE_STD': np.std}).reset_index().fillna(0)\n",
    "d_exp = d_exp.rename(columns={'ccl_name': 'TUMOR_ID', 'cpd_name': 'DRUG_ID'})\n",
    "d_exp.head()"
   ]
  },
  {
   "cell_type": "code",
   "execution_count": 5,
   "metadata": {
    "collapsed": false
   },
   "outputs": [],
   "source": [
    "assert d_exp.groupby(['TUMOR_ID', 'DRUG_ID']).size().max() <= 1, \\\n",
    "    'Found at least one cell line + drug combination with more than one record (should not be possible)'"
   ]
  },
  {
   "cell_type": "code",
   "execution_count": 6,
   "metadata": {
    "collapsed": false
   },
   "outputs": [
    {
     "data": {
      "text/plain": [
       "'/Users/eczech/data/research/musc_genomics_db/raw/ctd_v1_sensitivity.pkl'"
      ]
     },
     "execution_count": 6,
     "metadata": {},
     "output_type": "execute_result"
    }
   ],
   "source": [
    "assert np.all(pd.notnull(d_exp))\n",
    "db.save(d_exp, src.CTD_v1, db.RAW, 'sensitivity')"
   ]
  }
 ],
 "metadata": {
  "kernelspec": {
   "display_name": "Python 3",
   "language": "python",
   "name": "python3"
  },
  "language_info": {
   "codemirror_mode": {
    "name": "ipython",
    "version": 3
   },
   "file_extension": ".py",
   "mimetype": "text/x-python",
   "name": "python",
   "nbconvert_exporter": "python",
   "pygments_lexer": "ipython3",
   "version": "3.5.2"
  }
 },
 "nbformat": 4,
 "nbformat_minor": 0
}
