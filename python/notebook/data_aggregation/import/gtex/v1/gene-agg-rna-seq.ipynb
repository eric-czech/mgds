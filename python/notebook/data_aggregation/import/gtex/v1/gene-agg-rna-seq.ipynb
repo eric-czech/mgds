{
 "cells": [
  {
   "cell_type": "markdown",
   "metadata": {},
   "source": [
    "# GTEx Tissue-Level RNA-seq Data Importation\n",
    "**Local Version**: 1\n",
    "**Source Version**: 6p\n",
    "\n",
    "This notebook will import raw GTEx rna-seq data through the [GTEx Data Portal](http://www.gtexportal.org/home/datasets).\n",
    "\n",
    "Note that this information is not specific to samples or cell lines, instead it is an aggregate, tissue-specific determination of expression levels across genes."
   ]
  },
  {
   "cell_type": "code",
   "execution_count": 12,
   "metadata": {
    "collapsed": true
   },
   "outputs": [],
   "source": [
    "%run -m ipy_startup\n",
    "%run -m ipy_logging\n",
    "%matplotlib inline\n",
    "from mgds.data_aggregation import database as db\n",
    "from mgds.data_aggregation import source as src\n",
    "from mgds.data_aggregation import api\n",
    "from mgds.data_aggregation.import_lib import gtex\n",
    "from mgds.data_aggregation import io_utils\n",
    "from py_utils.collection_utils import subset"
   ]
  },
  {
   "cell_type": "code",
   "execution_count": 15,
   "metadata": {
    "collapsed": false
   },
   "outputs": [
    {
     "name": "stderr",
     "output_type": "stream",
     "text": [
      "2016-11-28 07:46:47,302:DEBUG:mgds.data_aggregation.io_utils: Returning previously downloaded path for \"/Users/eczech/data/research/mgds/raw/gtex_v1_agg-rna-seq.gz\"\n"
     ]
    },
    {
     "data": {
      "text/plain": [
       "'/Users/eczech/data/research/mgds/raw/gtex_v1_agg-rna-seq.gz'"
      ]
     },
     "execution_count": 15,
     "metadata": {},
     "output_type": "execute_result"
    }
   ],
   "source": [
    "filepath = db.raw_file(src.GTEX_v1, 'gene-agg-rna-seq.gz')\n",
    "url = 'http://www.gtexportal.org/static/datasets/gtex_analysis_v6p/rna_seq_data/GTEx_Analysis_v6p_RNA-seq_RNA-SeQCv1.1.8_gene_median_rpkm.gct.gz'\n",
    "filepath = io_utils.download(url, filepath)\n",
    "filepath"
   ]
  },
  {
   "cell_type": "code",
   "execution_count": 16,
   "metadata": {
    "collapsed": false
   },
   "outputs": [
    {
     "data": {
      "text/html": [
       "<div>\n",
       "<table border=\"1\" class=\"dataframe\">\n",
       "  <thead>\n",
       "    <tr style=\"text-align: right;\">\n",
       "      <th></th>\n",
       "      <th>GENE_ID:ENSEMBL</th>\n",
       "      <th>GENE_ID:HGNC</th>\n",
       "      <th>Adipose - Subcutaneous</th>\n",
       "      <th>Adipose - Visceral (Omentum)</th>\n",
       "      <th>Adrenal Gland</th>\n",
       "      <th>Artery - Aorta</th>\n",
       "      <th>Artery - Coronary</th>\n",
       "      <th>Artery - Tibial</th>\n",
       "      <th>Bladder</th>\n",
       "      <th>Brain - Amygdala</th>\n",
       "      <th>...</th>\n",
       "      <th>Skin - Not Sun Exposed (Suprapubic)</th>\n",
       "      <th>Skin - Sun Exposed (Lower leg)</th>\n",
       "      <th>Small Intestine - Terminal Ileum</th>\n",
       "      <th>Spleen</th>\n",
       "      <th>Stomach</th>\n",
       "      <th>Testis</th>\n",
       "      <th>Thyroid</th>\n",
       "      <th>Uterus</th>\n",
       "      <th>Vagina</th>\n",
       "      <th>Whole Blood</th>\n",
       "    </tr>\n",
       "  </thead>\n",
       "  <tbody>\n",
       "    <tr>\n",
       "      <th>0</th>\n",
       "      <td>ENSG00000223972.4</td>\n",
       "      <td>DDX11L1</td>\n",
       "      <td>0.000</td>\n",
       "      <td>0.000</td>\n",
       "      <td>0.000</td>\n",
       "      <td>0.000</td>\n",
       "      <td>0.00</td>\n",
       "      <td>0.000</td>\n",
       "      <td>0.00</td>\n",
       "      <td>0.000</td>\n",
       "      <td>...</td>\n",
       "      <td>0.0</td>\n",
       "      <td>0.00</td>\n",
       "      <td>0.0</td>\n",
       "      <td>0.01884</td>\n",
       "      <td>0.000</td>\n",
       "      <td>0.8229</td>\n",
       "      <td>0.00</td>\n",
       "      <td>0.00</td>\n",
       "      <td>0.00</td>\n",
       "      <td>0.0615</td>\n",
       "    </tr>\n",
       "    <tr>\n",
       "      <th>1</th>\n",
       "      <td>ENSG00000227232.4</td>\n",
       "      <td>WASH7P</td>\n",
       "      <td>8.294</td>\n",
       "      <td>7.283</td>\n",
       "      <td>6.109</td>\n",
       "      <td>7.445</td>\n",
       "      <td>7.85</td>\n",
       "      <td>7.266</td>\n",
       "      <td>10.48</td>\n",
       "      <td>4.962</td>\n",
       "      <td>...</td>\n",
       "      <td>13.6</td>\n",
       "      <td>13.66</td>\n",
       "      <td>10.6</td>\n",
       "      <td>13.47000</td>\n",
       "      <td>8.051</td>\n",
       "      <td>12.5400</td>\n",
       "      <td>12.55</td>\n",
       "      <td>13.01</td>\n",
       "      <td>11.36</td>\n",
       "      <td>7.5720</td>\n",
       "    </tr>\n",
       "    <tr>\n",
       "      <th>2</th>\n",
       "      <td>ENSG00000243485.2</td>\n",
       "      <td>MIR1302-11</td>\n",
       "      <td>0.000</td>\n",
       "      <td>0.000</td>\n",
       "      <td>0.000</td>\n",
       "      <td>0.000</td>\n",
       "      <td>0.00</td>\n",
       "      <td>0.000</td>\n",
       "      <td>0.00</td>\n",
       "      <td>0.000</td>\n",
       "      <td>...</td>\n",
       "      <td>0.0</td>\n",
       "      <td>0.00</td>\n",
       "      <td>0.0</td>\n",
       "      <td>0.00000</td>\n",
       "      <td>0.000</td>\n",
       "      <td>0.1141</td>\n",
       "      <td>0.00</td>\n",
       "      <td>0.00</td>\n",
       "      <td>0.00</td>\n",
       "      <td>0.0000</td>\n",
       "    </tr>\n",
       "    <tr>\n",
       "      <th>3</th>\n",
       "      <td>ENSG00000237613.2</td>\n",
       "      <td>FAM138A</td>\n",
       "      <td>0.000</td>\n",
       "      <td>0.000</td>\n",
       "      <td>0.000</td>\n",
       "      <td>0.000</td>\n",
       "      <td>0.00</td>\n",
       "      <td>0.000</td>\n",
       "      <td>0.00</td>\n",
       "      <td>0.000</td>\n",
       "      <td>...</td>\n",
       "      <td>0.0</td>\n",
       "      <td>0.00</td>\n",
       "      <td>0.0</td>\n",
       "      <td>0.00000</td>\n",
       "      <td>0.000</td>\n",
       "      <td>0.0000</td>\n",
       "      <td>0.00</td>\n",
       "      <td>0.00</td>\n",
       "      <td>0.00</td>\n",
       "      <td>0.0000</td>\n",
       "    </tr>\n",
       "    <tr>\n",
       "      <th>4</th>\n",
       "      <td>ENSG00000268020.2</td>\n",
       "      <td>OR4G4P</td>\n",
       "      <td>0.000</td>\n",
       "      <td>0.000</td>\n",
       "      <td>0.000</td>\n",
       "      <td>0.000</td>\n",
       "      <td>0.00</td>\n",
       "      <td>0.000</td>\n",
       "      <td>0.00</td>\n",
       "      <td>0.000</td>\n",
       "      <td>...</td>\n",
       "      <td>0.0</td>\n",
       "      <td>0.00</td>\n",
       "      <td>0.0</td>\n",
       "      <td>0.00000</td>\n",
       "      <td>0.000</td>\n",
       "      <td>0.0000</td>\n",
       "      <td>0.00</td>\n",
       "      <td>0.00</td>\n",
       "      <td>0.00</td>\n",
       "      <td>0.0000</td>\n",
       "    </tr>\n",
       "  </tbody>\n",
       "</table>\n",
       "<p>5 rows × 55 columns</p>\n",
       "</div>"
      ],
      "text/plain": [
       "     GENE_ID:ENSEMBL GENE_ID:HGNC  Adipose - Subcutaneous  \\\n",
       "0  ENSG00000223972.4      DDX11L1                   0.000   \n",
       "1  ENSG00000227232.4       WASH7P                   8.294   \n",
       "2  ENSG00000243485.2   MIR1302-11                   0.000   \n",
       "3  ENSG00000237613.2      FAM138A                   0.000   \n",
       "4  ENSG00000268020.2       OR4G4P                   0.000   \n",
       "\n",
       "   Adipose - Visceral (Omentum)  Adrenal Gland  Artery - Aorta  \\\n",
       "0                         0.000          0.000           0.000   \n",
       "1                         7.283          6.109           7.445   \n",
       "2                         0.000          0.000           0.000   \n",
       "3                         0.000          0.000           0.000   \n",
       "4                         0.000          0.000           0.000   \n",
       "\n",
       "   Artery - Coronary  Artery - Tibial  Bladder  Brain - Amygdala     ...       \\\n",
       "0               0.00            0.000     0.00             0.000     ...        \n",
       "1               7.85            7.266    10.48             4.962     ...        \n",
       "2               0.00            0.000     0.00             0.000     ...        \n",
       "3               0.00            0.000     0.00             0.000     ...        \n",
       "4               0.00            0.000     0.00             0.000     ...        \n",
       "\n",
       "   Skin - Not Sun Exposed (Suprapubic)  Skin - Sun Exposed (Lower leg)  \\\n",
       "0                                  0.0                            0.00   \n",
       "1                                 13.6                           13.66   \n",
       "2                                  0.0                            0.00   \n",
       "3                                  0.0                            0.00   \n",
       "4                                  0.0                            0.00   \n",
       "\n",
       "   Small Intestine - Terminal Ileum    Spleen  Stomach   Testis  Thyroid  \\\n",
       "0                               0.0   0.01884    0.000   0.8229     0.00   \n",
       "1                              10.6  13.47000    8.051  12.5400    12.55   \n",
       "2                               0.0   0.00000    0.000   0.1141     0.00   \n",
       "3                               0.0   0.00000    0.000   0.0000     0.00   \n",
       "4                               0.0   0.00000    0.000   0.0000     0.00   \n",
       "\n",
       "   Uterus  Vagina  Whole Blood  \n",
       "0    0.00    0.00       0.0615  \n",
       "1   13.01   11.36       7.5720  \n",
       "2    0.00    0.00       0.0000  \n",
       "3    0.00    0.00       0.0000  \n",
       "4    0.00    0.00       0.0000  \n",
       "\n",
       "[5 rows x 55 columns]"
      ]
     },
     "execution_count": 16,
     "metadata": {},
     "output_type": "execute_result"
    }
   ],
   "source": [
    "d = pd.read_csv(filepath, sep='\\t', skiprows=[0,1])\n",
    "d = d.rename(columns={'Name': 'GENE_ID:ENSEMBL', 'Description': 'GENE_ID:HGNC'})\n",
    "d.head()"
   ]
  },
  {
   "cell_type": "code",
   "execution_count": 25,
   "metadata": {
    "collapsed": false
   },
   "outputs": [
    {
     "name": "stdout",
     "output_type": "stream",
     "text": [
      "<class 'pandas.core.frame.DataFrame'>\n",
      "RangeIndex: 56238 entries, 0 to 56237\n",
      "Data columns (total 55 columns):\n",
      "GENE_ID:ENSEMBL                              56238 non-null object\n",
      "GENE_ID:HGNC                                 56238 non-null object\n",
      "Adipose - Subcutaneous                       56238 non-null float64\n",
      "Adipose - Visceral (Omentum)                 56238 non-null float64\n",
      "Adrenal Gland                                56238 non-null float64\n",
      "Artery - Aorta                               56238 non-null float64\n",
      "Artery - Coronary                            56238 non-null float64\n",
      "Artery - Tibial                              56238 non-null float64\n",
      "Bladder                                      56238 non-null float64\n",
      "Brain - Amygdala                             56238 non-null float64\n",
      "Brain - Anterior cingulate cortex (BA24)     56238 non-null float64\n",
      "Brain - Caudate (basal ganglia)              56238 non-null float64\n",
      "Brain - Cerebellar Hemisphere                56238 non-null float64\n",
      "Brain - Cerebellum                           56238 non-null float64\n",
      "Brain - Cortex                               56238 non-null float64\n",
      "Brain - Frontal Cortex (BA9)                 56238 non-null float64\n",
      "Brain - Hippocampus                          56238 non-null float64\n",
      "Brain - Hypothalamus                         56238 non-null float64\n",
      "Brain - Nucleus accumbens (basal ganglia)    56238 non-null float64\n",
      "Brain - Putamen (basal ganglia)              56238 non-null float64\n",
      "Brain - Spinal cord (cervical c-1)           56238 non-null float64\n",
      "Brain - Substantia nigra                     56238 non-null float64\n",
      "Breast - Mammary Tissue                      56238 non-null float64\n",
      "Cells - EBV-transformed lymphocytes          56238 non-null float64\n",
      "Cells - Transformed fibroblasts              56238 non-null float64\n",
      "Cervix - Ectocervix                          56238 non-null float64\n",
      "Cervix - Endocervix                          56238 non-null float64\n",
      "Colon - Sigmoid                              56238 non-null float64\n",
      "Colon - Transverse                           56238 non-null float64\n",
      "Esophagus - Gastroesophageal Junction        56238 non-null float64\n",
      "Esophagus - Mucosa                           56238 non-null float64\n",
      "Esophagus - Muscularis                       56238 non-null float64\n",
      "Fallopian Tube                               56238 non-null float64\n",
      "Heart - Atrial Appendage                     56238 non-null float64\n",
      "Heart - Left Ventricle                       56238 non-null float64\n",
      "Kidney - Cortex                              56238 non-null float64\n",
      "Liver                                        56238 non-null float64\n",
      "Lung                                         56238 non-null float64\n",
      "Minor Salivary Gland                         56238 non-null float64\n",
      "Muscle - Skeletal                            56238 non-null float64\n",
      "Nerve - Tibial                               56238 non-null float64\n",
      "Ovary                                        56238 non-null float64\n",
      "Pancreas                                     56238 non-null float64\n",
      "Pituitary                                    56238 non-null float64\n",
      "Prostate                                     56238 non-null float64\n",
      "Skin - Not Sun Exposed (Suprapubic)          56238 non-null float64\n",
      "Skin - Sun Exposed (Lower leg)               56238 non-null float64\n",
      "Small Intestine - Terminal Ileum             56238 non-null float64\n",
      "Spleen                                       56238 non-null float64\n",
      "Stomach                                      56238 non-null float64\n",
      "Testis                                       56238 non-null float64\n",
      "Thyroid                                      56238 non-null float64\n",
      "Uterus                                       56238 non-null float64\n",
      "Vagina                                       56238 non-null float64\n",
      "Whole Blood                                  56238 non-null float64\n",
      "dtypes: float64(53), object(2)\n",
      "memory usage: 23.6+ MB\n"
     ]
    }
   ],
   "source": [
    "d.info()"
   ]
  },
  {
   "cell_type": "code",
   "execution_count": 23,
   "metadata": {
    "collapsed": false
   },
   "outputs": [],
   "source": [
    "# At TOW records were duplicated for HGNC ids but not for Ensembl ids -- ensure that is still true\n",
    "assert not np.any(d['GENE_ID:ENSEMBL'].duplicated())\n",
    "assert np.any(d['GENE_ID:HGNC'].duplicated())"
   ]
  },
  {
   "cell_type": "code",
   "execution_count": 24,
   "metadata": {
    "collapsed": false
   },
   "outputs": [
    {
     "data": {
      "text/html": [
       "<div>\n",
       "<table border=\"1\" class=\"dataframe\">\n",
       "  <thead>\n",
       "    <tr style=\"text-align: right;\">\n",
       "      <th></th>\n",
       "      <th>GENE_ID:ENSEMBL</th>\n",
       "      <th>GENE_ID:HGNC</th>\n",
       "      <th>TISSUE_TYPE</th>\n",
       "      <th>VALUE</th>\n",
       "    </tr>\n",
       "  </thead>\n",
       "  <tbody>\n",
       "    <tr>\n",
       "      <th>0</th>\n",
       "      <td>ENSG00000223972.4</td>\n",
       "      <td>DDX11L1</td>\n",
       "      <td>Adipose - Subcutaneous</td>\n",
       "      <td>0.000</td>\n",
       "    </tr>\n",
       "    <tr>\n",
       "      <th>1</th>\n",
       "      <td>ENSG00000227232.4</td>\n",
       "      <td>WASH7P</td>\n",
       "      <td>Adipose - Subcutaneous</td>\n",
       "      <td>8.294</td>\n",
       "    </tr>\n",
       "    <tr>\n",
       "      <th>2</th>\n",
       "      <td>ENSG00000243485.2</td>\n",
       "      <td>MIR1302-11</td>\n",
       "      <td>Adipose - Subcutaneous</td>\n",
       "      <td>0.000</td>\n",
       "    </tr>\n",
       "    <tr>\n",
       "      <th>3</th>\n",
       "      <td>ENSG00000237613.2</td>\n",
       "      <td>FAM138A</td>\n",
       "      <td>Adipose - Subcutaneous</td>\n",
       "      <td>0.000</td>\n",
       "    </tr>\n",
       "    <tr>\n",
       "      <th>4</th>\n",
       "      <td>ENSG00000268020.2</td>\n",
       "      <td>OR4G4P</td>\n",
       "      <td>Adipose - Subcutaneous</td>\n",
       "      <td>0.000</td>\n",
       "    </tr>\n",
       "  </tbody>\n",
       "</table>\n",
       "</div>"
      ],
      "text/plain": [
       "     GENE_ID:ENSEMBL GENE_ID:HGNC             TISSUE_TYPE  VALUE\n",
       "0  ENSG00000223972.4      DDX11L1  Adipose - Subcutaneous  0.000\n",
       "1  ENSG00000227232.4       WASH7P  Adipose - Subcutaneous  8.294\n",
       "2  ENSG00000243485.2   MIR1302-11  Adipose - Subcutaneous  0.000\n",
       "3  ENSG00000237613.2      FAM138A  Adipose - Subcutaneous  0.000\n",
       "4  ENSG00000268020.2       OR4G4P  Adipose - Subcutaneous  0.000"
      ]
     },
     "execution_count": 24,
     "metadata": {},
     "output_type": "execute_result"
    }
   ],
   "source": [
    "d_tr = pd.melt(d, id_vars=['GENE_ID:ENSEMBL', 'GENE_ID:HGNC'], var_name='TISSUE_TYPE', value_name='VALUE')\n",
    "d_tr.head()"
   ]
  },
  {
   "cell_type": "code",
   "execution_count": 27,
   "metadata": {
    "collapsed": false
   },
   "outputs": [
    {
     "data": {
      "text/plain": [
       "Adipose - Subcutaneous                       56238\n",
       "Adipose - Visceral (Omentum)                 56238\n",
       "Adrenal Gland                                56238\n",
       "Artery - Aorta                               56238\n",
       "Artery - Coronary                            56238\n",
       "Artery - Tibial                              56238\n",
       "Bladder                                      56238\n",
       "Brain - Amygdala                             56238\n",
       "Brain - Anterior cingulate cortex (BA24)     56238\n",
       "Brain - Caudate (basal ganglia)              56238\n",
       "Brain - Cerebellar Hemisphere                56238\n",
       "Brain - Cerebellum                           56238\n",
       "Brain - Cortex                               56238\n",
       "Brain - Frontal Cortex (BA9)                 56238\n",
       "Brain - Hippocampus                          56238\n",
       "Brain - Hypothalamus                         56238\n",
       "Brain - Nucleus accumbens (basal ganglia)    56238\n",
       "Brain - Putamen (basal ganglia)              56238\n",
       "Brain - Spinal cord (cervical c-1)           56238\n",
       "Brain - Substantia nigra                     56238\n",
       "Breast - Mammary Tissue                      56238\n",
       "Cells - EBV-transformed lymphocytes          56238\n",
       "Cells - Transformed fibroblasts              56238\n",
       "Cervix - Ectocervix                          56238\n",
       "Cervix - Endocervix                          56238\n",
       "Colon - Sigmoid                              56238\n",
       "Colon - Transverse                           56238\n",
       "Esophagus - Gastroesophageal Junction        56238\n",
       "Esophagus - Mucosa                           56238\n",
       "Esophagus - Muscularis                       56238\n",
       "Fallopian Tube                               56238\n",
       "Heart - Atrial Appendage                     56238\n",
       "Heart - Left Ventricle                       56238\n",
       "Kidney - Cortex                              56238\n",
       "Liver                                        56238\n",
       "Lung                                         56238\n",
       "Minor Salivary Gland                         56238\n",
       "Muscle - Skeletal                            56238\n",
       "Nerve - Tibial                               56238\n",
       "Ovary                                        56238\n",
       "Pancreas                                     56238\n",
       "Pituitary                                    56238\n",
       "Prostate                                     56238\n",
       "Skin - Not Sun Exposed (Suprapubic)          56238\n",
       "Skin - Sun Exposed (Lower leg)               56238\n",
       "Small Intestine - Terminal Ileum             56238\n",
       "Spleen                                       56238\n",
       "Stomach                                      56238\n",
       "Testis                                       56238\n",
       "Thyroid                                      56238\n",
       "Uterus                                       56238\n",
       "Vagina                                       56238\n",
       "Whole Blood                                  56238\n",
       "Name: TISSUE_TYPE, dtype: int64"
      ]
     },
     "execution_count": 27,
     "metadata": {},
     "output_type": "execute_result"
    }
   ],
   "source": [
    "d_tr['TISSUE_TYPE'].value_counts().sort_index()"
   ]
  },
  {
   "cell_type": "markdown",
   "metadata": {},
   "source": [
    "## Export"
   ]
  },
  {
   "cell_type": "code",
   "execution_count": 28,
   "metadata": {
    "collapsed": false
   },
   "outputs": [
    {
     "data": {
      "text/plain": [
       "'/Users/eczech/data/research/mgds/import/gtex_v1_gene-agg-rna-seq.pkl'"
      ]
     },
     "execution_count": 28,
     "metadata": {},
     "output_type": "execute_result"
    }
   ],
   "source": [
    "assert np.all(pd.notnull(d_tr))\n",
    "db.save(d_tr, src.GTEX_v1, db.IMPORT, 'gene-agg-rna-seq')"
   ]
  }
 ],
 "metadata": {
  "kernelspec": {
   "display_name": "Python 3",
   "language": "python",
   "name": "python3"
  },
  "language_info": {
   "codemirror_mode": {
    "name": "ipython",
    "version": 3
   },
   "file_extension": ".py",
   "mimetype": "text/x-python",
   "name": "python",
   "nbconvert_exporter": "python",
   "pygments_lexer": "ipython3",
   "version": "3.5.2"
  }
 },
 "nbformat": 4,
 "nbformat_minor": 0
}
