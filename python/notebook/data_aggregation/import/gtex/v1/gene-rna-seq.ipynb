{
 "cells": [
  {
   "cell_type": "markdown",
   "metadata": {},
   "source": [
    "# GTEx RNA-seq Data Importation\n",
    "**Local Version**: 1\n",
    "**Source Version**: 6p\n",
    "\n",
    "This notebook will import per-sample, raw GTEx rna-seq data through the [GTEx Data Portal](http://www.gtexportal.org/home/datasets).\n",
    "\n",
    "Note that the units for these values are \"RPKM\".  There are different conventions for quantifying expression via RNA-seq and RPKM is one as is FPKM, the values used in the NCI-DREAM data.\n",
    "\n",
    "See [here](http://www.rna-seqblog.com/rpkm-fpkm-and-tpm-clearly-explained/) for a discussion on some of the differences."
   ]
  },
  {
   "cell_type": "code",
   "execution_count": 1,
   "metadata": {
    "collapsed": false
   },
   "outputs": [],
   "source": [
    "%run -m ipy_startup\n",
    "%run -m ipy_logging\n",
    "%matplotlib inline\n",
    "%load_ext Cython\n",
    "from mgds.data_aggregation import database as db\n",
    "from mgds.data_aggregation import source as src\n",
    "from mgds.data_aggregation import api\n",
    "from mgds.data_aggregation.import_lib import gtex\n",
    "from mgds.data_aggregation import io_utils\n",
    "from py_utils.collection_utils import subset"
   ]
  },
  {
   "cell_type": "code",
   "execution_count": 3,
   "metadata": {
    "collapsed": false
   },
   "outputs": [
    {
     "name": "stderr",
     "output_type": "stream",
     "text": [
      "2016-11-28 11:01:53,897:DEBUG:mgds.data_aggregation.io_utils: Returning previously downloaded path for \"/Users/eczech/data/research/mgds/raw/gtex_v1_rna-seq.gz\"\n"
     ]
    },
    {
     "data": {
      "text/plain": [
       "'/Users/eczech/data/research/mgds/raw/gtex_v1_rna-seq.gz'"
      ]
     },
     "execution_count": 3,
     "metadata": {},
     "output_type": "execute_result"
    }
   ],
   "source": [
    "filepath = db.raw_file(src.GTEX_v1, 'gene-rna-seq.gz')\n",
    "url = 'http://www.gtexportal.org/static/datasets/gtex_analysis_v6p/rna_seq_data/GTEx_Analysis_v6p_RNA-seq_RNA-SeQCv1.1.8_gene_rpkm.gct.gz'\n",
    "filepath = io_utils.download(url, filepath)\n",
    "filepath"
   ]
  },
  {
   "cell_type": "code",
   "execution_count": 4,
   "metadata": {
    "collapsed": false
   },
   "outputs": [
    {
     "name": "stdout",
     "output_type": "stream",
     "text": [
      "Processing chunk 1 of 25\n",
      "Processing chunk 2 of 25\n",
      "Processing chunk 3 of 25\n",
      "Processing chunk 4 of 25\n",
      "Processing chunk 5 of 25\n",
      "Processing chunk 6 of 25\n",
      "Processing chunk 7 of 25\n",
      "Processing chunk 8 of 25\n",
      "Processing chunk 9 of 25\n",
      "Processing chunk 10 of 25\n",
      "Processing chunk 11 of 25\n",
      "Processing chunk 12 of 25\n",
      "Processing chunk 13 of 25\n",
      "Processing chunk 14 of 25\n",
      "Processing chunk 15 of 25\n",
      "Processing chunk 16 of 25\n",
      "Processing chunk 17 of 25\n",
      "Processing chunk 18 of 25\n",
      "Processing chunk 19 of 25\n",
      "Processing chunk 20 of 25\n",
      "Processing chunk 21 of 25\n",
      "Processing chunk 22 of 25\n",
      "Processing chunk 23 of 25\n",
      "Processing chunk 24 of 25\n",
      "Processing chunk 25 of 25\n",
      "Processing chunk 26 of 25\n",
      "Done\n"
     ]
    }
   ],
   "source": [
    "def melt_df(d):\n",
    "    d = d.rename(columns={'Name': 'GENE_ID:ENSEMBL', 'Description': 'GENE_ID:HGNC'})\n",
    "    d = pd.melt(d, id_vars=['GENE_ID:ENSEMBL', 'GENE_ID:HGNC'], var_name='CELL_LINE_ID:GTEX', value_name='VALUE')\n",
    "    return d[d['VALUE'].notnull()]\n",
    "\n",
    "d_part = []\n",
    "n_lines = 56241 # gzip -dc /Users/eczech/data/research/mgds/raw/gtex_v1_rna-seq.gz | wc -l\n",
    "n_chunk = 25\n",
    "chunk_size = int(n_lines / float(n_chunk))\n",
    "for i, df in enumerate(pd.read_csv(filepath, sep='\\t', skiprows=[0,1], na_values=['0'], chunksize=chunk_size)):\n",
    "    print('Processing chunk {} of {}'.format(i + 1, n_chunk + 1))\n",
    "    d_part.append(melt_df(df))\n",
    "print('Done')"
   ]
  },
  {
   "cell_type": "code",
   "execution_count": 6,
   "metadata": {
    "collapsed": false
   },
   "outputs": [
    {
     "name": "stdout",
     "output_type": "stream",
     "text": [
      "<class 'pandas.core.frame.DataFrame'>\n",
      "Int64Index: 233807970 entries, 1 to 111212\n",
      "Data columns (total 4 columns):\n",
      "GENE_ID:ENSEMBL      object\n",
      "GENE_ID:HGNC         object\n",
      "CELL_LINE_ID:GTEX    object\n",
      "VALUE                float64\n",
      "dtypes: float64(1), object(3)\n",
      "memory usage: 8.7+ GB\n"
     ]
    }
   ],
   "source": [
    "d = pd.concat(d_part)\n",
    "d.info()"
   ]
  },
  {
   "cell_type": "code",
   "execution_count": 8,
   "metadata": {
    "collapsed": false
   },
   "outputs": [
    {
     "data": {
      "text/plain": [
       "False    233807970\n",
       "Name: VALUE, dtype: int64"
      ]
     },
     "execution_count": 8,
     "metadata": {},
     "output_type": "execute_result"
    }
   ],
   "source": [
    "(d['VALUE'] == 0.).value_counts()"
   ]
  },
  {
   "cell_type": "code",
   "execution_count": 9,
   "metadata": {
    "collapsed": true
   },
   "outputs": [],
   "source": [
    "assert np.all(d.notnull())"
   ]
  },
  {
   "cell_type": "code",
   "execution_count": 11,
   "metadata": {
    "collapsed": false
   },
   "outputs": [
    {
     "data": {
      "text/plain": [
       "False    233807970\n",
       "dtype: int64"
      ]
     },
     "execution_count": 11,
     "metadata": {},
     "output_type": "execute_result"
    }
   ],
   "source": [
    "d[['GENE_ID:ENSEMBL', 'GENE_ID:HGNC', 'CELL_LINE_ID:GTEX']].duplicated().value_counts()"
   ]
  },
  {
   "cell_type": "markdown",
   "metadata": {},
   "source": [
    "## Export"
   ]
  },
  {
   "cell_type": "code",
   "execution_count": null,
   "metadata": {
    "collapsed": true
   },
   "outputs": [],
   "source": [
    "# :TODO:\n",
    "# Not sure what to do with this yet .. it's too big to use directly\n",
    "# It may make sense to create per-gene, per-tissue type distributions and use those instead of raw data (as priors)\n",
    "\n",
    "# assert np.all(pd.notnull(d))\n",
    "# db.save(d, src.GTEX_v1, db.IMPORT, 'gene-rna-seq')"
   ]
  }
 ],
 "metadata": {
  "kernelspec": {
   "display_name": "Python 3",
   "language": "python",
   "name": "python3"
  },
  "language_info": {
   "codemirror_mode": {
    "name": "ipython",
    "version": 3
   },
   "file_extension": ".py",
   "mimetype": "text/x-python",
   "name": "python",
   "nbconvert_exporter": "python",
   "pygments_lexer": "ipython3",
   "version": "3.5.2"
  }
 },
 "nbformat": 4,
 "nbformat_minor": 0
}
