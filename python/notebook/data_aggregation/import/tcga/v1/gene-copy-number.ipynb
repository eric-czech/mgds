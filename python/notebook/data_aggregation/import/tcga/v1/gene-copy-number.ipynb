{
 "cells": [
  {
   "cell_type": "markdown",
   "metadata": {},
   "source": [
    "# TCGA Breast Copy Number Data Importation\n",
    "**Local Version**: 1\n",
    "**Source Version**: NA\n",
    "\n",
    "This notebook will import raw TCGA copy number data through the [CGDS](http://www.cbioportal.org/cgds_r.jsp) portal for the study named \"Breast Invasive Carcinoma (TCGA, Cell 2015)\".\n",
    "\n",
    "This study is preferred over \"Breast Invasive Carcinoma (TCGA, Nature 2012)\" despite the fact that it has a little fewer samples because it appears newer and includes more data types."
   ]
  },
  {
   "cell_type": "code",
   "execution_count": 1,
   "metadata": {
    "collapsed": true
   },
   "outputs": [],
   "source": [
    "%run -m ipy_startup\n",
    "%run -m ipy_logging\n",
    "%matplotlib inline\n",
    "from mgds.data_aggregation import database as db\n",
    "from mgds.data_aggregation import source as src\n",
    "from mgds.data_aggregation import api\n",
    "from mgds.data_aggregation.import_lib import cgds\n",
    "from mgds.data_aggregation.import_lib import tcga_breast\n",
    "from py_utils.collection_utils import subset\n",
    "pd.set_option('display.max_info_rows', 25000000)"
   ]
  },
  {
   "cell_type": "code",
   "execution_count": 3,
   "metadata": {
    "collapsed": false
   },
   "outputs": [
    {
     "name": "stderr",
     "output_type": "stream",
     "text": [
      "2016-11-24 08:24:35,036:DEBUG:mgds.data_aggregation.io_utils: Restoring serialized object from \"/Users/eczech/data/research/mgds/raw/tcga-breast_v1_gene-copy-number.pkl\"\n"
     ]
    }
   ],
   "source": [
    "case_list_id = tcga_breast.CASE_LIST_ID\n",
    "genetic_profile_id = tcga_breast.PROF_COPY_NUMBER\n",
    "batch_size = 50\n",
    "\n",
    "op = lambda: cgds.get_genetic_profile_data(\n",
    "    case_list_id, genetic_profile_id,\n",
    "    api.get_hugo_gene_ids(), gene_id_batch_size=batch_size\n",
    ")\n",
    "d = db.cache_raw_operation(op, src.TCGA_BREAST_v1, 'gene-copy-number')"
   ]
  },
  {
   "cell_type": "code",
   "execution_count": 4,
   "metadata": {
    "collapsed": false
   },
   "outputs": [
    {
     "name": "stdout",
     "output_type": "stream",
     "text": [
      "<class 'pandas.core.frame.DataFrame'>\n",
      "Int64Index: 39032 entries, 0 to 7\n",
      "Columns: 819 entries, GENE_ID to TCGA-BH-A1ES-06\n",
      "dtypes: float64(817), int64(1), object(1)\n",
      "memory usage: 244.2+ MB\n"
     ]
    }
   ],
   "source": [
    "d.info()"
   ]
  },
  {
   "cell_type": "code",
   "execution_count": 5,
   "metadata": {
    "collapsed": false
   },
   "outputs": [
    {
     "name": "stdout",
     "output_type": "stream",
     "text": [
      "[Remove null values for column \"VALUE\"] Records before = 31889144, Records after = 18063792, Records removed = 13825352 (%43.35)\n",
      "<class 'pandas.core.frame.DataFrame'>\n",
      "Int64Index: 18063792 entries, 0 to 31850111\n",
      "Data columns (total 4 columns):\n",
      "GENE_ID:CGDS    18063792 non-null int64\n",
      "GENE_ID:HGNC    18063792 non-null object\n",
      "CELL_LINE_ID    18063792 non-null object\n",
      "VALUE           18063792 non-null float64\n",
      "dtypes: float64(1), int64(1), object(2)\n",
      "memory usage: 689.1+ MB\n"
     ]
    }
   ],
   "source": [
    "d = cgds.melt_raw_data(d)\n",
    "d.info()"
   ]
  },
  {
   "cell_type": "code",
   "execution_count": 6,
   "metadata": {
    "collapsed": false
   },
   "outputs": [
    {
     "data": {
      "text/html": [
       "<div>\n",
       "<table border=\"1\" class=\"dataframe\">\n",
       "  <thead>\n",
       "    <tr style=\"text-align: right;\">\n",
       "      <th></th>\n",
       "      <th>CELL_LINE_ID</th>\n",
       "      <th>GENE_ID:HGNC</th>\n",
       "      <th>GENE_ID:CGDS</th>\n",
       "      <th>VALUE_CT</th>\n",
       "      <th>VALUE_MEAN</th>\n",
       "      <th>VALUE_STD</th>\n",
       "    </tr>\n",
       "  </thead>\n",
       "  <tbody>\n",
       "    <tr>\n",
       "      <th>0</th>\n",
       "      <td>TCGA-A1-A0SB-01</td>\n",
       "      <td>A1BG</td>\n",
       "      <td>1</td>\n",
       "      <td>1</td>\n",
       "      <td>0.005</td>\n",
       "      <td>0.0</td>\n",
       "    </tr>\n",
       "    <tr>\n",
       "      <th>1</th>\n",
       "      <td>TCGA-A1-A0SB-01</td>\n",
       "      <td>A1CF</td>\n",
       "      <td>29974</td>\n",
       "      <td>1</td>\n",
       "      <td>-0.001</td>\n",
       "      <td>0.0</td>\n",
       "    </tr>\n",
       "    <tr>\n",
       "      <th>2</th>\n",
       "      <td>TCGA-A1-A0SB-01</td>\n",
       "      <td>A2M</td>\n",
       "      <td>2</td>\n",
       "      <td>1</td>\n",
       "      <td>-0.002</td>\n",
       "      <td>0.0</td>\n",
       "    </tr>\n",
       "    <tr>\n",
       "      <th>3</th>\n",
       "      <td>TCGA-A1-A0SB-01</td>\n",
       "      <td>A2ML1</td>\n",
       "      <td>144568</td>\n",
       "      <td>1</td>\n",
       "      <td>-0.002</td>\n",
       "      <td>0.0</td>\n",
       "    </tr>\n",
       "    <tr>\n",
       "      <th>4</th>\n",
       "      <td>TCGA-A1-A0SB-01</td>\n",
       "      <td>A2MP1</td>\n",
       "      <td>3</td>\n",
       "      <td>1</td>\n",
       "      <td>-0.002</td>\n",
       "      <td>0.0</td>\n",
       "    </tr>\n",
       "  </tbody>\n",
       "</table>\n",
       "</div>"
      ],
      "text/plain": [
       "      CELL_LINE_ID GENE_ID:HGNC  GENE_ID:CGDS  VALUE_CT  VALUE_MEAN  VALUE_STD\n",
       "0  TCGA-A1-A0SB-01         A1BG             1         1       0.005        0.0\n",
       "1  TCGA-A1-A0SB-01         A1CF         29974         1      -0.001        0.0\n",
       "2  TCGA-A1-A0SB-01          A2M             2         1      -0.002        0.0\n",
       "3  TCGA-A1-A0SB-01        A2ML1        144568         1      -0.002        0.0\n",
       "4  TCGA-A1-A0SB-01        A2MP1             3         1      -0.002        0.0"
      ]
     },
     "execution_count": 6,
     "metadata": {},
     "output_type": "execute_result"
    }
   ],
   "source": [
    "d_agg, d_dist = cgds.aggregate(d)\n",
    "d_agg.head()"
   ]
  },
  {
   "cell_type": "code",
   "execution_count": 7,
   "metadata": {
    "collapsed": false
   },
   "outputs": [
    {
     "data": {
      "text/plain": [
       "1    18007488\n",
       "2       24480\n",
       "3        2448\n",
       "Name: Number of Replicates, dtype: int64"
      ]
     },
     "execution_count": 7,
     "metadata": {},
     "output_type": "execute_result"
    }
   ],
   "source": [
    "d_dist"
   ]
  },
  {
   "cell_type": "code",
   "execution_count": 8,
   "metadata": {
    "collapsed": false
   },
   "outputs": [
    {
     "data": {
      "text/html": [
       "<div>\n",
       "<table border=\"1\" class=\"dataframe\">\n",
       "  <thead>\n",
       "    <tr style=\"text-align: right;\">\n",
       "      <th></th>\n",
       "      <th>GENE_ID:CGDS</th>\n",
       "      <th>VALUE_CT</th>\n",
       "      <th>VALUE_MEAN</th>\n",
       "      <th>VALUE_STD</th>\n",
       "    </tr>\n",
       "  </thead>\n",
       "  <tbody>\n",
       "    <tr>\n",
       "      <th>count</th>\n",
       "      <td>1.803442e+07</td>\n",
       "      <td>1.803442e+07</td>\n",
       "      <td>1.803442e+07</td>\n",
       "      <td>18034416.0</td>\n",
       "    </tr>\n",
       "    <tr>\n",
       "      <th>mean</th>\n",
       "      <td>8.703688e+06</td>\n",
       "      <td>1.001629e+00</td>\n",
       "      <td>3.469139e-02</td>\n",
       "      <td>0.0</td>\n",
       "    </tr>\n",
       "    <tr>\n",
       "      <th>std</th>\n",
       "      <td>2.810330e+07</td>\n",
       "      <td>4.356275e-02</td>\n",
       "      <td>4.305323e-01</td>\n",
       "      <td>0.0</td>\n",
       "    </tr>\n",
       "    <tr>\n",
       "      <th>min</th>\n",
       "      <td>1.000000e+00</td>\n",
       "      <td>1.000000e+00</td>\n",
       "      <td>-1.293000e+00</td>\n",
       "      <td>0.0</td>\n",
       "    </tr>\n",
       "    <tr>\n",
       "      <th>25%</th>\n",
       "      <td>8.427000e+03</td>\n",
       "      <td>1.000000e+00</td>\n",
       "      <td>-6.800000e-02</td>\n",
       "      <td>0.0</td>\n",
       "    </tr>\n",
       "    <tr>\n",
       "      <th>50%</th>\n",
       "      <td>5.569900e+04</td>\n",
       "      <td>1.000000e+00</td>\n",
       "      <td>0.000000e+00</td>\n",
       "      <td>0.0</td>\n",
       "    </tr>\n",
       "    <tr>\n",
       "      <th>75%</th>\n",
       "      <td>1.972590e+05</td>\n",
       "      <td>1.000000e+00</td>\n",
       "      <td>6.200000e-02</td>\n",
       "      <td>0.0</td>\n",
       "    </tr>\n",
       "    <tr>\n",
       "      <th>max</th>\n",
       "      <td>1.053716e+08</td>\n",
       "      <td>3.000000e+00</td>\n",
       "      <td>3.657000e+00</td>\n",
       "      <td>0.0</td>\n",
       "    </tr>\n",
       "  </tbody>\n",
       "</table>\n",
       "</div>"
      ],
      "text/plain": [
       "       GENE_ID:CGDS      VALUE_CT    VALUE_MEAN   VALUE_STD\n",
       "count  1.803442e+07  1.803442e+07  1.803442e+07  18034416.0\n",
       "mean   8.703688e+06  1.001629e+00  3.469139e-02         0.0\n",
       "std    2.810330e+07  4.356275e-02  4.305323e-01         0.0\n",
       "min    1.000000e+00  1.000000e+00 -1.293000e+00         0.0\n",
       "25%    8.427000e+03  1.000000e+00 -6.800000e-02         0.0\n",
       "50%    5.569900e+04  1.000000e+00  0.000000e+00         0.0\n",
       "75%    1.972590e+05  1.000000e+00  6.200000e-02         0.0\n",
       "max    1.053716e+08  3.000000e+00  3.657000e+00         0.0"
      ]
     },
     "execution_count": 8,
     "metadata": {},
     "output_type": "execute_result"
    }
   ],
   "source": [
    "d_agg.describe()"
   ]
  },
  {
   "cell_type": "code",
   "execution_count": 10,
   "metadata": {
    "collapsed": false
   },
   "outputs": [
    {
     "data": {
      "text/plain": [
       "'/Users/eczech/data/research/mgds/import/tcga-breast_v1_gene-copy-number.pkl'"
      ]
     },
     "execution_count": 10,
     "metadata": {},
     "output_type": "execute_result"
    }
   ],
   "source": [
    "assert np.all(pd.notnull(d_agg))\n",
    "db.save(d_agg, src.TCGA_BREAST_v1, db.IMPORT, 'gene-copy-number')"
   ]
  }
 ],
 "metadata": {
  "kernelspec": {
   "display_name": "Python 3",
   "language": "python",
   "name": "python3"
  },
  "language_info": {
   "codemirror_mode": {
    "name": "ipython",
    "version": 3
   },
   "file_extension": ".py",
   "mimetype": "text/x-python",
   "name": "python",
   "nbconvert_exporter": "python",
   "pygments_lexer": "ipython3",
   "version": "3.5.2"
  }
 },
 "nbformat": 4,
 "nbformat_minor": 0
}
