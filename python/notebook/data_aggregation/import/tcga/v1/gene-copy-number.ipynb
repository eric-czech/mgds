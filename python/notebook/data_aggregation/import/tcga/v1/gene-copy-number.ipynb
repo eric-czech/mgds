{
 "cells": [
  {
   "cell_type": "markdown",
   "metadata": {},
   "source": [
    "# TCGA Breast Copy Number Data Importation\n",
    "**Local Version**: 1\n",
    "**Source Version**: NA\n",
    "\n",
    "This notebook will import raw TCGA copy number data through the [CGDS](http://www.cbioportal.org/cgds_r.jsp) portal for the study named \"Breast Invasive Carcinoma (TCGA, Cell 2015)\".\n",
    "\n",
    "This study is preferred over \"Breast Invasive Carcinoma (TCGA, Nature 2012)\" despite the fact that it has a little fewer samples because it appears newer and includes more data types."
   ]
  },
  {
   "cell_type": "code",
   "execution_count": 2,
   "metadata": {
    "collapsed": true
   },
   "outputs": [],
   "source": [
    "%run -m ipy_startup\n",
    "%run -m ipy_logging\n",
    "%matplotlib inline\n",
    "from mgds.data_aggregation import database as db\n",
    "from mgds.data_aggregation import source as src\n",
    "from mgds.data_aggregation import api\n",
    "from mgds.data_aggregation.import_lib import cgds\n",
    "from mgds.data_aggregation.import_lib import tcga_breast\n",
    "from py_utils.collection_utils import subset\n",
    "pd.set_option('display.max_info_rows', 25000000)"
   ]
  },
  {
   "cell_type": "code",
   "execution_count": 3,
   "metadata": {
    "collapsed": false
   },
   "outputs": [
    {
     "name": "stderr",
     "output_type": "stream",
     "text": [
      "2016-11-19 23:38:02,303:INFO:mgds.data_aggregation.import_lib.cgds: Processing batch 1 of 789\n",
      "2016-11-19 23:40:55,132:INFO:mgds.data_aggregation.import_lib.cgds: Processing batch 79 of 789\n",
      "2016-11-19 23:44:18,164:WARNING:mgds.data_aggregation.import_lib.cgds: An http error occurred.  Will try again in 30 seconds ...\n",
      "2016-11-19 23:45:24,141:INFO:mgds.data_aggregation.import_lib.cgds: Processing batch 157 of 789\n",
      "2016-11-19 23:48:25,862:INFO:mgds.data_aggregation.import_lib.cgds: Processing batch 235 of 789\n",
      "2016-11-19 23:51:30,414:INFO:mgds.data_aggregation.import_lib.cgds: Processing batch 313 of 789\n",
      "2016-11-19 23:54:52,075:WARNING:mgds.data_aggregation.import_lib.cgds: An http error occurred.  Will try again in 30 seconds ...\n",
      "2016-11-19 23:56:20,710:INFO:mgds.data_aggregation.import_lib.cgds: Processing batch 391 of 789\n",
      "2016-11-19 23:58:49,424:INFO:mgds.data_aggregation.import_lib.cgds: Processing batch 469 of 789\n",
      "2016-11-20 00:01:43,506:INFO:mgds.data_aggregation.import_lib.cgds: Processing batch 547 of 789\n",
      "2016-11-20 00:04:42,509:INFO:mgds.data_aggregation.import_lib.cgds: Processing batch 625 of 789\n",
      "2016-11-20 00:07:54,391:INFO:mgds.data_aggregation.import_lib.cgds: Processing batch 703 of 789\n",
      "2016-11-20 00:11:10,535:INFO:mgds.data_aggregation.import_lib.cgds: Processing batch 781 of 789\n",
      "2016-11-20 00:11:30,428:DEBUG:mgds.data_aggregation.io_utils: Writing serialized object to \"/Users/eczech/data/research/mgds/raw/tcga_breast_v1_gene-copy-number.pkl\"\n",
      "2016-11-20 00:11:31,060:DEBUG:mgds.data_aggregation.io_utils: Restoring serialized object from \"/Users/eczech/data/research/mgds/raw/tcga_breast_v1_gene-copy-number.pkl\"\n"
     ]
    }
   ],
   "source": [
    "case_list_id = tcga_breast.CASE_LIST_ID\n",
    "genetic_profile_id = tcga_breast.PROF_COPY_NUMBER\n",
    "batch_size = 50\n",
    "\n",
    "op = lambda: cgds.get_genetic_profile_data(\n",
    "    case_list_id, genetic_profile_id,\n",
    "    api.get_hugo_gene_ids(), gene_id_batch_size=batch_size\n",
    ")\n",
    "d = db.cache_raw_operation(op, src.TCGA_BREAST_v1, 'gene-copy-number')"
   ]
  },
  {
   "cell_type": "code",
   "execution_count": 14,
   "metadata": {
    "collapsed": false
   },
   "outputs": [
    {
     "name": "stdout",
     "output_type": "stream",
     "text": [
      "<class 'pandas.core.frame.DataFrame'>\n",
      "Int64Index: 18063792 entries, 0 to 31850111\n",
      "Data columns (total 4 columns):\n",
      "GENE_ID:CGDS    18063792 non-null int64\n",
      "GENE_ID:HGNC    18063792 non-null object\n",
      "CELL_LINE_ID    18063792 non-null object\n",
      "VALUE           18063792 non-null float64\n",
      "dtypes: float64(1), int64(1), object(2)\n",
      "memory usage: 689.1+ MB\n"
     ]
    }
   ],
   "source": [
    "d.info()"
   ]
  },
  {
   "cell_type": "code",
   "execution_count": 7,
   "metadata": {
    "collapsed": false
   },
   "outputs": [
    {
     "name": "stdout",
     "output_type": "stream",
     "text": [
      "[Remove null values for column \"VALUE\"] Records before = 31889144, Records after = 18063792, Records removed = 13825352 (%43.35)\n",
      "<class 'pandas.core.frame.DataFrame'>\n",
      "Int64Index: 18063792 entries, 0 to 31850111\n",
      "Data columns (total 4 columns):\n",
      "GENE_ID:CGDS    int64\n",
      "GENE_ID:HGNC    object\n",
      "CELL_LINE_ID    object\n",
      "VALUE           float64\n",
      "dtypes: float64(1), int64(1), object(2)\n",
      "memory usage: 689.1+ MB\n"
     ]
    }
   ],
   "source": [
    "d = cgds.melt_raw_data(d)\n",
    "d.info()"
   ]
  },
  {
   "cell_type": "code",
   "execution_count": 10,
   "metadata": {
    "collapsed": false
   },
   "outputs": [
    {
     "data": {
      "text/html": [
       "<div>\n",
       "<table border=\"1\" class=\"dataframe\">\n",
       "  <thead>\n",
       "    <tr style=\"text-align: right;\">\n",
       "      <th></th>\n",
       "      <th>CELL_LINE_ID</th>\n",
       "      <th>GENE_ID:HGNC</th>\n",
       "      <th>GENE_ID:CGDS</th>\n",
       "      <th>VALUE_STD</th>\n",
       "      <th>VALUE_MEAN</th>\n",
       "    </tr>\n",
       "  </thead>\n",
       "  <tbody>\n",
       "    <tr>\n",
       "      <th>0</th>\n",
       "      <td>TCGA-A1-A0SB-01</td>\n",
       "      <td>A1BG</td>\n",
       "      <td>1</td>\n",
       "      <td>0.0</td>\n",
       "      <td>0.005</td>\n",
       "    </tr>\n",
       "    <tr>\n",
       "      <th>1</th>\n",
       "      <td>TCGA-A1-A0SB-01</td>\n",
       "      <td>A1CF</td>\n",
       "      <td>29974</td>\n",
       "      <td>0.0</td>\n",
       "      <td>-0.001</td>\n",
       "    </tr>\n",
       "    <tr>\n",
       "      <th>2</th>\n",
       "      <td>TCGA-A1-A0SB-01</td>\n",
       "      <td>A2M</td>\n",
       "      <td>2</td>\n",
       "      <td>0.0</td>\n",
       "      <td>-0.002</td>\n",
       "    </tr>\n",
       "    <tr>\n",
       "      <th>3</th>\n",
       "      <td>TCGA-A1-A0SB-01</td>\n",
       "      <td>A2ML1</td>\n",
       "      <td>144568</td>\n",
       "      <td>0.0</td>\n",
       "      <td>-0.002</td>\n",
       "    </tr>\n",
       "    <tr>\n",
       "      <th>4</th>\n",
       "      <td>TCGA-A1-A0SB-01</td>\n",
       "      <td>A2MP1</td>\n",
       "      <td>3</td>\n",
       "      <td>0.0</td>\n",
       "      <td>-0.002</td>\n",
       "    </tr>\n",
       "  </tbody>\n",
       "</table>\n",
       "</div>"
      ],
      "text/plain": [
       "      CELL_LINE_ID GENE_ID:HGNC  GENE_ID:CGDS  VALUE_STD  VALUE_MEAN\n",
       "0  TCGA-A1-A0SB-01         A1BG             1        0.0       0.005\n",
       "1  TCGA-A1-A0SB-01         A1CF         29974        0.0      -0.001\n",
       "2  TCGA-A1-A0SB-01          A2M             2        0.0      -0.002\n",
       "3  TCGA-A1-A0SB-01        A2ML1        144568        0.0      -0.002\n",
       "4  TCGA-A1-A0SB-01        A2MP1             3        0.0      -0.002"
      ]
     },
     "execution_count": 10,
     "metadata": {},
     "output_type": "execute_result"
    }
   ],
   "source": [
    "d_agg, d_dist = cgds.aggregate(d)\n",
    "d_agg.head()"
   ]
  },
  {
   "cell_type": "code",
   "execution_count": 12,
   "metadata": {
    "collapsed": false
   },
   "outputs": [
    {
     "data": {
      "text/plain": [
       "1    18007488\n",
       "2       24480\n",
       "3        2448\n",
       "Name: Number of Replicates, dtype: int64"
      ]
     },
     "execution_count": 12,
     "metadata": {},
     "output_type": "execute_result"
    }
   ],
   "source": [
    "d_dist"
   ]
  },
  {
   "cell_type": "code",
   "execution_count": 11,
   "metadata": {
    "collapsed": false
   },
   "outputs": [
    {
     "data": {
      "text/html": [
       "<div>\n",
       "<table border=\"1\" class=\"dataframe\">\n",
       "  <thead>\n",
       "    <tr style=\"text-align: right;\">\n",
       "      <th></th>\n",
       "      <th>GENE_ID:CGDS</th>\n",
       "      <th>VALUE_STD</th>\n",
       "      <th>VALUE_MEAN</th>\n",
       "    </tr>\n",
       "  </thead>\n",
       "  <tbody>\n",
       "    <tr>\n",
       "      <th>count</th>\n",
       "      <td>1.803442e+07</td>\n",
       "      <td>18034416.0</td>\n",
       "      <td>1.803442e+07</td>\n",
       "    </tr>\n",
       "    <tr>\n",
       "      <th>mean</th>\n",
       "      <td>8.703688e+06</td>\n",
       "      <td>0.0</td>\n",
       "      <td>3.469139e-02</td>\n",
       "    </tr>\n",
       "    <tr>\n",
       "      <th>std</th>\n",
       "      <td>2.810330e+07</td>\n",
       "      <td>0.0</td>\n",
       "      <td>4.305323e-01</td>\n",
       "    </tr>\n",
       "    <tr>\n",
       "      <th>min</th>\n",
       "      <td>1.000000e+00</td>\n",
       "      <td>0.0</td>\n",
       "      <td>-1.293000e+00</td>\n",
       "    </tr>\n",
       "    <tr>\n",
       "      <th>25%</th>\n",
       "      <td>8.427000e+03</td>\n",
       "      <td>0.0</td>\n",
       "      <td>-6.800000e-02</td>\n",
       "    </tr>\n",
       "    <tr>\n",
       "      <th>50%</th>\n",
       "      <td>5.569900e+04</td>\n",
       "      <td>0.0</td>\n",
       "      <td>0.000000e+00</td>\n",
       "    </tr>\n",
       "    <tr>\n",
       "      <th>75%</th>\n",
       "      <td>1.972590e+05</td>\n",
       "      <td>0.0</td>\n",
       "      <td>6.200000e-02</td>\n",
       "    </tr>\n",
       "    <tr>\n",
       "      <th>max</th>\n",
       "      <td>1.053716e+08</td>\n",
       "      <td>0.0</td>\n",
       "      <td>3.657000e+00</td>\n",
       "    </tr>\n",
       "  </tbody>\n",
       "</table>\n",
       "</div>"
      ],
      "text/plain": [
       "       GENE_ID:CGDS   VALUE_STD    VALUE_MEAN\n",
       "count  1.803442e+07  18034416.0  1.803442e+07\n",
       "mean   8.703688e+06         0.0  3.469139e-02\n",
       "std    2.810330e+07         0.0  4.305323e-01\n",
       "min    1.000000e+00         0.0 -1.293000e+00\n",
       "25%    8.427000e+03         0.0 -6.800000e-02\n",
       "50%    5.569900e+04         0.0  0.000000e+00\n",
       "75%    1.972590e+05         0.0  6.200000e-02\n",
       "max    1.053716e+08         0.0  3.657000e+00"
      ]
     },
     "execution_count": 11,
     "metadata": {},
     "output_type": "execute_result"
    }
   ],
   "source": [
    "d_agg.describe()"
   ]
  },
  {
   "cell_type": "code",
   "execution_count": 16,
   "metadata": {
    "collapsed": false
   },
   "outputs": [
    {
     "data": {
      "text/plain": [
       "'tcga-breast_v1'"
      ]
     },
     "execution_count": 16,
     "metadata": {},
     "output_type": "execute_result"
    }
   ],
   "source": [
    "import imp\n",
    "imp.reload(src)\n",
    "src.TCGA_BREAST_v1"
   ]
  },
  {
   "cell_type": "code",
   "execution_count": 17,
   "metadata": {
    "collapsed": false
   },
   "outputs": [
    {
     "data": {
      "text/plain": [
       "'/Users/eczech/data/research/mgds/import/tcga-breast_v1_gene-copy-number.pkl'"
      ]
     },
     "execution_count": 17,
     "metadata": {},
     "output_type": "execute_result"
    }
   ],
   "source": [
    "assert np.all(pd.notnull(d_agg))\n",
    "db.save(d, src.TCGA_BREAST_v1, db.IMPORT, 'gene-copy-number')"
   ]
  }
 ],
 "metadata": {
  "kernelspec": {
   "display_name": "Python 3",
   "language": "python",
   "name": "python3"
  },
  "language_info": {
   "codemirror_mode": {
    "name": "ipython",
    "version": 3
   },
   "file_extension": ".py",
   "mimetype": "text/x-python",
   "name": "python",
   "nbconvert_exporter": "python",
   "pygments_lexer": "ipython3",
   "version": "3.5.2"
  }
 },
 "nbformat": 4,
 "nbformat_minor": 0
}
