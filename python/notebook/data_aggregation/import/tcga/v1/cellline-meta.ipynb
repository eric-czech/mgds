{
 "cells": [
  {
   "cell_type": "markdown",
   "metadata": {},
   "source": [
    "# TCGA Breast Clinical Data Importation\n",
    "**Local Version**: 1\n",
    "**Source Version**: NA\n",
    "\n",
    "This notebook will import raw TCGA clinical data through the [CGDS](http://www.cbioportal.org/cgds_r.jsp) portal for the study named \"Breast Invasive Carcinoma (TCGA, Cell 2015)\".\n",
    "\n",
    "This study is preferred over \"Breast Invasive Carcinoma (TCGA, Nature 2012)\" despite the fact that it has a little fewer samples because it appears newer and includes more data types."
   ]
  },
  {
   "cell_type": "code",
   "execution_count": 1,
   "metadata": {
    "collapsed": true
   },
   "outputs": [],
   "source": [
    "%run -m ipy_startup\n",
    "%run -m ipy_logging\n",
    "%matplotlib inline\n",
    "from mgds.data_aggregation import database as db\n",
    "from mgds.data_aggregation import source as src\n",
    "from mgds.data_aggregation.import_lib import cgds\n",
    "from mgds.data_aggregation.import_lib import tcga_breast"
   ]
  },
  {
   "cell_type": "code",
   "execution_count": 2,
   "metadata": {
    "collapsed": false
   },
   "outputs": [
    {
     "name": "stderr",
     "output_type": "stream",
     "text": [
      "2016-11-21 09:29:19,804:DEBUG:mgds.data_aggregation.io_utils: Restoring serialized object from \"/Users/eczech/data/research/mgds/raw/tcga-breast_v1_cellline-meta.pkl\"\n"
     ]
    },
    {
     "name": "stdout",
     "output_type": "stream",
     "text": [
      "<class 'pandas.core.frame.DataFrame'>\n",
      "RangeIndex: 817 entries, 0 to 816\n",
      "Data columns (total 19 columns):\n",
      "AGE                                     816 non-null float64\n",
      "CELL_LINE_ID                            817 non-null object\n",
      "DAYS_TO_BIRTH                           803 non-null float64\n",
      "DAYS_TO_COLLECTION                      815 non-null float64\n",
      "DAYS_TO_DEATH                           84 non-null float64\n",
      "ETHNICITY                               681 non-null object\n",
      "GENDER                                  817 non-null object\n",
      "HISTOLOGICAL_DIAGNOSIS                  816 non-null object\n",
      "HISTOLOGICAL_SUBTYPE                    23 non-null object\n",
      "INITIAL_PATHOLOGIC_DX_YEAR              815 non-null float64\n",
      "METHOD_OF_INITIAL_SAMPLE_PROCUREMENT    740 non-null object\n",
      "OTHER_PATIENT_ID                        817 non-null object\n",
      "OTHER_SAMPLE_ID                         816 non-null object\n",
      "PRIMARY_SITE                            816 non-null object\n",
      "RACE                                    740 non-null object\n",
      "SAMPLE_TYPE                             816 non-null object\n",
      "TISSUE_SOURCE_SITE                      816 non-null object\n",
      "TUMOR_TISSUE_SITE                       816 non-null object\n",
      "VITAL_STATUS                            817 non-null object\n",
      "dtypes: float64(5), object(14)\n",
      "memory usage: 121.4+ KB\n"
     ]
    }
   ],
   "source": [
    "case_list_id = tcga_breast.CASE_LIST_ID\n",
    "op = lambda: cgds.get_clinical_data(case_list_id)\n",
    "d = db.cache_raw_operation(op, src.TCGA_BREAST_v1, 'cellline-meta')\n",
    "d = cgds.prep_clinical_data(d)\n",
    "d.info()"
   ]
  },
  {
   "cell_type": "code",
   "execution_count": 3,
   "metadata": {
    "collapsed": false
   },
   "outputs": [
    {
     "data": {
      "text/plain": [
       "'/Users/eczech/data/research/mgds/import/tcga-breast_v1_cellline-meta.pkl'"
      ]
     },
     "execution_count": 3,
     "metadata": {},
     "output_type": "execute_result"
    }
   ],
   "source": [
    "assert np.all(pd.notnull(d[['CELL_LINE_ID']]))\n",
    "db.save(d, src.TCGA_BREAST_v1, db.IMPORT, 'cellline-meta')"
   ]
  }
 ],
 "metadata": {
  "kernelspec": {
   "display_name": "Python 3",
   "language": "python",
   "name": "python3"
  },
  "language_info": {
   "codemirror_mode": {
    "name": "ipython",
    "version": 3
   },
   "file_extension": ".py",
   "mimetype": "text/x-python",
   "name": "python",
   "nbconvert_exporter": "python",
   "pygments_lexer": "ipython3",
   "version": "3.5.2"
  }
 },
 "nbformat": 4,
 "nbformat_minor": 0
}
