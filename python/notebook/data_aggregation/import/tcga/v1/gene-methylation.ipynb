{
 "cells": [
  {
   "cell_type": "markdown",
   "metadata": {},
   "source": [
    "# TCGA Breast Methylation Data Importation\n",
    "**Local Version**: 1\n",
    "**Source Version**: NA\n",
    "\n",
    "This notebook will import raw TCGA methylation data through the [CGDS](http://www.cbioportal.org/cgds_r.jsp) portal for the study named \"Breast Invasive Carcinoma (TCGA, Cell 2015)\".\n",
    "\n",
    "This study is preferred over \"Breast Invasive Carcinoma (TCGA, Nature 2012)\" despite the fact that it has a little fewer samples because it appears newer and includes more data types."
   ]
  },
  {
   "cell_type": "code",
   "execution_count": 3,
   "metadata": {
    "collapsed": true
   },
   "outputs": [],
   "source": [
    "%run -m ipy_startup\n",
    "%run -m ipy_logging\n",
    "%matplotlib inline\n",
    "from mgds.data_aggregation import database as db\n",
    "from mgds.data_aggregation import source as src\n",
    "from mgds.data_aggregation import api\n",
    "from mgds.data_aggregation.import_lib import cgds\n",
    "from mgds.data_aggregation.import_lib import tcga_breast\n",
    "from py_utils.collection_utils import subset"
   ]
  },
  {
   "cell_type": "code",
   "execution_count": 4,
   "metadata": {
    "collapsed": false
   },
   "outputs": [
    {
     "name": "stderr",
     "output_type": "stream",
     "text": [
      "2016-11-21 06:51:17,499:INFO:mgds.data_aggregation.import_lib.cgds: Processing batch 1 of 789\n",
      "2016-11-21 06:53:58,602:INFO:mgds.data_aggregation.import_lib.cgds: Processing batch 79 of 789\n",
      "2016-11-21 06:56:49,714:INFO:mgds.data_aggregation.import_lib.cgds: Processing batch 157 of 789\n",
      "2016-11-21 06:59:31,424:INFO:mgds.data_aggregation.import_lib.cgds: Processing batch 235 of 789\n",
      "2016-11-21 07:02:06,104:INFO:mgds.data_aggregation.import_lib.cgds: Processing batch 313 of 789\n",
      "2016-11-21 07:04:45,815:INFO:mgds.data_aggregation.import_lib.cgds: Processing batch 391 of 789\n",
      "2016-11-21 07:07:41,939:INFO:mgds.data_aggregation.import_lib.cgds: Processing batch 469 of 789\n",
      "2016-11-21 07:09:57,417:WARNING:mgds.data_aggregation.import_lib.cgds: An http error occurred.  Will try again in 30 seconds ...\n",
      "2016-11-21 07:12:09,718:INFO:mgds.data_aggregation.import_lib.cgds: Processing batch 547 of 789\n",
      "2016-11-21 07:14:30,526:INFO:mgds.data_aggregation.import_lib.cgds: Processing batch 625 of 789\n",
      "2016-11-21 07:17:24,699:INFO:mgds.data_aggregation.import_lib.cgds: Processing batch 703 of 789\n",
      "2016-11-21 07:20:42,283:INFO:mgds.data_aggregation.import_lib.cgds: Processing batch 781 of 789\n",
      "2016-11-21 07:20:59,674:DEBUG:mgds.data_aggregation.io_utils: Writing serialized object to \"/Users/eczech/data/research/mgds/raw/tcga_breast_v1_gene-methylation.pkl\"\n",
      "2016-11-21 07:21:00,288:DEBUG:mgds.data_aggregation.io_utils: Restoring serialized object from \"/Users/eczech/data/research/mgds/raw/tcga_breast_v1_gene-methylation.pkl\"\n"
     ]
    }
   ],
   "source": [
    "case_list_id = tcga_breast.CASE_LIST_ID\n",
    "genetic_profile_id = tcga_breast.PROF_METHYLATION\n",
    "batch_size = 50\n",
    "\n",
    "op = lambda: cgds.get_genetic_profile_data(\n",
    "    case_list_id, genetic_profile_id,\n",
    "    api.get_hugo_gene_ids(), gene_id_batch_size=batch_size\n",
    ")\n",
    "d = db.cache_raw_operation(op, src.TCGA_BREAST_v1, 'gene-methylation')"
   ]
  },
  {
   "cell_type": "code",
   "execution_count": 5,
   "metadata": {
    "collapsed": false
   },
   "outputs": [
    {
     "name": "stdout",
     "output_type": "stream",
     "text": [
      "<class 'pandas.core.frame.DataFrame'>\n",
      "Int64Index: 39032 entries, 0 to 7\n",
      "Columns: 819 entries, GENE_ID to TCGA-BH-A1ES-06\n",
      "dtypes: float64(817), int64(1), object(1)\n",
      "memory usage: 244.2+ MB\n"
     ]
    }
   ],
   "source": [
    "d.info()"
   ]
  },
  {
   "cell_type": "code",
   "execution_count": 7,
   "metadata": {
    "collapsed": false
   },
   "outputs": [
    {
     "name": "stdout",
     "output_type": "stream",
     "text": [
      "[Remove null values for column \"VALUE\"] Records before = 31889144, Records after = 8808287, Records removed = 23080857 (%72.38)\n",
      "<class 'pandas.core.frame.DataFrame'>\n",
      "Int64Index: 8808287 entries, 0 to 31889143\n",
      "Data columns (total 4 columns):\n",
      "GENE_ID:CGDS    int64\n",
      "GENE_ID:HGNC    object\n",
      "CELL_LINE_ID    object\n",
      "VALUE           float64\n",
      "dtypes: float64(1), int64(1), object(2)\n",
      "memory usage: 336.0+ MB\n"
     ]
    }
   ],
   "source": [
    "d = cgds.melt_raw_data(d)\n",
    "d.info()"
   ]
  },
  {
   "cell_type": "code",
   "execution_count": 8,
   "metadata": {
    "collapsed": false
   },
   "outputs": [
    {
     "data": {
      "text/html": [
       "<div>\n",
       "<table border=\"1\" class=\"dataframe\">\n",
       "  <thead>\n",
       "    <tr style=\"text-align: right;\">\n",
       "      <th></th>\n",
       "      <th>CELL_LINE_ID</th>\n",
       "      <th>GENE_ID:HGNC</th>\n",
       "      <th>GENE_ID:CGDS</th>\n",
       "      <th>VALUE_STD</th>\n",
       "      <th>VALUE_MEAN</th>\n",
       "    </tr>\n",
       "  </thead>\n",
       "  <tbody>\n",
       "    <tr>\n",
       "      <th>0</th>\n",
       "      <td>TCGA-A1-A0SB-01</td>\n",
       "      <td>A1BG</td>\n",
       "      <td>1</td>\n",
       "      <td>0.0</td>\n",
       "      <td>0.073395</td>\n",
       "    </tr>\n",
       "    <tr>\n",
       "      <th>1</th>\n",
       "      <td>TCGA-A1-A0SB-01</td>\n",
       "      <td>A1BG-AS1</td>\n",
       "      <td>503538</td>\n",
       "      <td>0.0</td>\n",
       "      <td>0.724501</td>\n",
       "    </tr>\n",
       "    <tr>\n",
       "      <th>2</th>\n",
       "      <td>TCGA-A1-A0SB-01</td>\n",
       "      <td>A2M</td>\n",
       "      <td>2</td>\n",
       "      <td>0.0</td>\n",
       "      <td>0.891226</td>\n",
       "    </tr>\n",
       "    <tr>\n",
       "      <th>3</th>\n",
       "      <td>TCGA-A1-A0SB-01</td>\n",
       "      <td>A2ML1</td>\n",
       "      <td>144568</td>\n",
       "      <td>0.0</td>\n",
       "      <td>0.478400</td>\n",
       "    </tr>\n",
       "    <tr>\n",
       "      <th>4</th>\n",
       "      <td>TCGA-A1-A0SB-01</td>\n",
       "      <td>A4GALT</td>\n",
       "      <td>53947</td>\n",
       "      <td>0.0</td>\n",
       "      <td>0.513391</td>\n",
       "    </tr>\n",
       "  </tbody>\n",
       "</table>\n",
       "</div>"
      ],
      "text/plain": [
       "      CELL_LINE_ID GENE_ID:HGNC  GENE_ID:CGDS  VALUE_STD  VALUE_MEAN\n",
       "0  TCGA-A1-A0SB-01         A1BG             1        0.0    0.073395\n",
       "1  TCGA-A1-A0SB-01     A1BG-AS1        503538        0.0    0.724501\n",
       "2  TCGA-A1-A0SB-01          A2M             2        0.0    0.891226\n",
       "3  TCGA-A1-A0SB-01        A2ML1        144568        0.0    0.478400\n",
       "4  TCGA-A1-A0SB-01       A4GALT         53947        0.0    0.513391"
      ]
     },
     "execution_count": 8,
     "metadata": {},
     "output_type": "execute_result"
    }
   ],
   "source": [
    "d_agg, d_dist = cgds.aggregate(d)\n",
    "d_agg.head()"
   ]
  },
  {
   "cell_type": "code",
   "execution_count": 9,
   "metadata": {
    "collapsed": false
   },
   "outputs": [
    {
     "data": {
      "text/plain": [
       "1    8785063\n",
       "2      11612\n",
       "Name: Number of Replicates, dtype: int64"
      ]
     },
     "execution_count": 9,
     "metadata": {},
     "output_type": "execute_result"
    }
   ],
   "source": [
    "d_dist"
   ]
  },
  {
   "cell_type": "code",
   "execution_count": 10,
   "metadata": {
    "collapsed": false
   },
   "outputs": [
    {
     "data": {
      "text/html": [
       "<div>\n",
       "<table border=\"1\" class=\"dataframe\">\n",
       "  <thead>\n",
       "    <tr style=\"text-align: right;\">\n",
       "      <th></th>\n",
       "      <th>GENE_ID:CGDS</th>\n",
       "      <th>VALUE_STD</th>\n",
       "      <th>VALUE_MEAN</th>\n",
       "    </tr>\n",
       "  </thead>\n",
       "  <tbody>\n",
       "    <tr>\n",
       "      <th>count</th>\n",
       "      <td>8.796675e+06</td>\n",
       "      <td>8796675.0</td>\n",
       "      <td>8.796675e+06</td>\n",
       "    </tr>\n",
       "    <tr>\n",
       "      <th>mean</th>\n",
       "      <td>5.930480e+05</td>\n",
       "      <td>0.0</td>\n",
       "      <td>4.078580e-01</td>\n",
       "    </tr>\n",
       "    <tr>\n",
       "      <th>std</th>\n",
       "      <td>7.169097e+06</td>\n",
       "      <td>0.0</td>\n",
       "      <td>3.489149e-01</td>\n",
       "    </tr>\n",
       "    <tr>\n",
       "      <th>min</th>\n",
       "      <td>1.000000e+00</td>\n",
       "      <td>0.0</td>\n",
       "      <td>3.360104e-03</td>\n",
       "    </tr>\n",
       "    <tr>\n",
       "      <th>25%</th>\n",
       "      <td>6.774000e+03</td>\n",
       "      <td>0.0</td>\n",
       "      <td>4.721479e-02</td>\n",
       "    </tr>\n",
       "    <tr>\n",
       "      <th>50%</th>\n",
       "      <td>2.734700e+04</td>\n",
       "      <td>0.0</td>\n",
       "      <td>3.495343e-01</td>\n",
       "    </tr>\n",
       "    <tr>\n",
       "      <th>75%</th>\n",
       "      <td>8.466200e+04</td>\n",
       "      <td>0.0</td>\n",
       "      <td>7.720465e-01</td>\n",
       "    </tr>\n",
       "    <tr>\n",
       "      <th>max</th>\n",
       "      <td>1.005291e+08</td>\n",
       "      <td>0.0</td>\n",
       "      <td>9.962133e-01</td>\n",
       "    </tr>\n",
       "  </tbody>\n",
       "</table>\n",
       "</div>"
      ],
      "text/plain": [
       "       GENE_ID:CGDS  VALUE_STD    VALUE_MEAN\n",
       "count  8.796675e+06  8796675.0  8.796675e+06\n",
       "mean   5.930480e+05        0.0  4.078580e-01\n",
       "std    7.169097e+06        0.0  3.489149e-01\n",
       "min    1.000000e+00        0.0  3.360104e-03\n",
       "25%    6.774000e+03        0.0  4.721479e-02\n",
       "50%    2.734700e+04        0.0  3.495343e-01\n",
       "75%    8.466200e+04        0.0  7.720465e-01\n",
       "max    1.005291e+08        0.0  9.962133e-01"
      ]
     },
     "execution_count": 10,
     "metadata": {},
     "output_type": "execute_result"
    }
   ],
   "source": [
    "d_agg.describe()"
   ]
  },
  {
   "cell_type": "code",
   "execution_count": 11,
   "metadata": {
    "collapsed": false
   },
   "outputs": [
    {
     "data": {
      "text/plain": [
       "'/Users/eczech/data/research/mgds/import/tcga_breast_v1_gene-methylation.pkl'"
      ]
     },
     "execution_count": 11,
     "metadata": {},
     "output_type": "execute_result"
    }
   ],
   "source": [
    "assert np.all(pd.notnull(d_agg))\n",
    "db.save(d, src.TCGA_BREAST_v1, db.IMPORT, 'gene-methylation')"
   ]
  }
 ],
 "metadata": {
  "kernelspec": {
   "display_name": "Python 3",
   "language": "python",
   "name": "python3"
  },
  "language_info": {
   "codemirror_mode": {
    "name": "ipython",
    "version": 3
   },
   "file_extension": ".py",
   "mimetype": "text/x-python",
   "name": "python",
   "nbconvert_exporter": "python",
   "pygments_lexer": "ipython3",
   "version": "3.5.2"
  }
 },
 "nbformat": 4,
 "nbformat_minor": 0
}
