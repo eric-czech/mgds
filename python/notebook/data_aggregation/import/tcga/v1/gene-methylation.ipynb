{
 "cells": [
  {
   "cell_type": "markdown",
   "metadata": {},
   "source": [
    "# TCGA Methylation Data Importation\n",
    "**Local Version**: 1\n",
    "**Source Version**: NA\n",
    "\n",
    "This notebook will import raw TCGA methylation data through the [CGDS](http://www.cbioportal.org/cgds_r.jsp) portal.\n",
    "\n",
    "Note that there are two types of methylation data available for nearly all TCGA studies -- data from the HM27 platform and data from the HM450 (more precisely, \"Illimunia Infinium HumanMethylation450 BeadChip Kit\").  The latter is newer and larger so data for it will be imported instead."
   ]
  },
  {
   "cell_type": "code",
   "execution_count": 3,
   "metadata": {
    "collapsed": true
   },
   "outputs": [],
   "source": [
    "%run -m ipy_startup\n",
    "%run -m ipy_logging false\n",
    "%matplotlib inline\n",
    "from mgds.data_aggregation import database as db\n",
    "from mgds.data_aggregation import source as src\n",
    "from mgds.data_aggregation import data_type as dtyp\n",
    "from mgds.data_aggregation import api\n",
    "from mgds.data_aggregation.import_lib import cgds\n",
    "from mgds.data_aggregation.import_lib import tcga\n",
    "from py_utils.collection_utils import subset"
   ]
  },
  {
   "cell_type": "code",
   "execution_count": 5,
   "metadata": {
    "collapsed": false
   },
   "outputs": [
    {
     "name": "stderr",
     "output_type": "stream",
     "text": [
      "INFO:mgds.data_aggregation.import_lib.tcga:Importing data for study \"brca_tcga\" (3 of 32), cohort \"brca\", case list \"brca_tcga_all\", profile \"brca_tcga_methylation_hm450\", table \"brca-gene-methylation\"\n",
      "2016-12-19 08:37:44,307:INFO:mgds.data_aggregation.import_lib.tcga: Importing data for study \"brca_tcga\" (3 of 32), cohort \"brca\", case list \"brca_tcga_all\", profile \"brca_tcga_methylation_hm450\", table \"brca-gene-methylation\"\n",
      "INFO:mgds.data_aggregation.import_lib.cgds:Processing batch 1 of 789\n",
      "2016-12-19 08:37:44,308:INFO:mgds.data_aggregation.import_lib.cgds: Processing batch 1 of 789\n",
      "INFO:mgds.data_aggregation.import_lib.cgds:Processing batch 79 of 789\n",
      "2016-12-19 08:39:31,002:INFO:mgds.data_aggregation.import_lib.cgds: Processing batch 79 of 789\n",
      "INFO:mgds.data_aggregation.import_lib.cgds:Processing batch 157 of 789\n",
      "2016-12-19 08:41:17,428:INFO:mgds.data_aggregation.import_lib.cgds: Processing batch 157 of 789\n",
      "INFO:mgds.data_aggregation.import_lib.cgds:Processing batch 235 of 789\n",
      "2016-12-19 08:42:54,399:INFO:mgds.data_aggregation.import_lib.cgds: Processing batch 235 of 789\n",
      "INFO:mgds.data_aggregation.import_lib.cgds:Processing batch 313 of 789\n",
      "2016-12-19 08:44:22,998:INFO:mgds.data_aggregation.import_lib.cgds: Processing batch 313 of 789\n",
      "INFO:mgds.data_aggregation.import_lib.cgds:Processing batch 391 of 789\n",
      "2016-12-19 08:45:48,414:INFO:mgds.data_aggregation.import_lib.cgds: Processing batch 391 of 789\n",
      "INFO:mgds.data_aggregation.import_lib.cgds:Processing batch 469 of 789\n",
      "2016-12-19 08:47:55,220:INFO:mgds.data_aggregation.import_lib.cgds: Processing batch 469 of 789\n",
      "INFO:mgds.data_aggregation.import_lib.cgds:Processing batch 547 of 789\n",
      "2016-12-19 08:49:29,132:INFO:mgds.data_aggregation.import_lib.cgds: Processing batch 547 of 789\n",
      "INFO:mgds.data_aggregation.import_lib.cgds:Processing batch 625 of 789\n",
      "2016-12-19 08:50:57,548:INFO:mgds.data_aggregation.import_lib.cgds: Processing batch 625 of 789\n",
      "INFO:mgds.data_aggregation.import_lib.cgds:Processing batch 703 of 789\n",
      "2016-12-19 08:53:03,083:INFO:mgds.data_aggregation.import_lib.cgds: Processing batch 703 of 789\n",
      "INFO:mgds.data_aggregation.import_lib.cgds:Processing batch 781 of 789\n",
      "2016-12-19 08:54:36,858:INFO:mgds.data_aggregation.import_lib.cgds: Processing batch 781 of 789\n",
      "DEBUG:mgds.data_aggregation.io_utils:Writing serialized object to \"/Users/eczech/data/research/mgds/raw/tcga_v1_brca-gene-methylation.pkl\"\n",
      "2016-12-19 08:54:46,797:DEBUG:mgds.data_aggregation.io_utils: Writing serialized object to \"/Users/eczech/data/research/mgds/raw/tcga_v1_brca-gene-methylation.pkl\"\n",
      "DEBUG:mgds.data_aggregation.io_utils:Restoring serialized object from \"/Users/eczech/data/research/mgds/raw/tcga_v1_brca-gene-methylation.pkl\"\n",
      "2016-12-19 08:54:47,830:DEBUG:mgds.data_aggregation.io_utils: Restoring serialized object from \"/Users/eczech/data/research/mgds/raw/tcga_v1_brca-gene-methylation.pkl\"\n"
     ]
    }
   ],
   "source": [
    "tables = tcga.import_genetic_profile_data(\n",
    "    profile_fmt=tcga.PROF_FMT_METHYLATION,\n",
    "    data_type=dtyp.GENE_METHYLATION,\n",
    "    gene_ids=api.get_hugo_gene_ids(),\n",
    "    cohorts=['brca']\n",
    ")"
   ]
  },
  {
   "cell_type": "code",
   "execution_count": 7,
   "metadata": {
    "collapsed": false
   },
   "outputs": [
    {
     "ename": "NameError",
     "evalue": "name 'd' is not defined",
     "output_type": "error",
     "traceback": [
      "\u001b[0;31m---------------------------------------------------------------------------\u001b[0m",
      "\u001b[0;31mNameError\u001b[0m                                 Traceback (most recent call last)",
      "\u001b[0;32m<ipython-input-7-39c59d98ba53>\u001b[0m in \u001b[0;36m<module>\u001b[0;34m()\u001b[0m\n\u001b[0;32m----> 1\u001b[0;31m \u001b[0md\u001b[0m \u001b[0;34m=\u001b[0m \u001b[0mcgds\u001b[0m\u001b[0;34m.\u001b[0m\u001b[0mmelt_raw_data\u001b[0m\u001b[0;34m(\u001b[0m\u001b[0md\u001b[0m\u001b[0;34m)\u001b[0m\u001b[0;34m\u001b[0m\u001b[0m\n\u001b[0m\u001b[1;32m      2\u001b[0m \u001b[0md\u001b[0m\u001b[0;34m.\u001b[0m\u001b[0minfo\u001b[0m\u001b[0;34m(\u001b[0m\u001b[0;34m)\u001b[0m\u001b[0;34m\u001b[0m\u001b[0m\n",
      "\u001b[0;31mNameError\u001b[0m: name 'd' is not defined"
     ]
    }
   ],
   "source": [
    "d = cgds.melt_raw_data(d)\n",
    "d.info()"
   ]
  },
  {
   "cell_type": "code",
   "execution_count": 5,
   "metadata": {
    "collapsed": false
   },
   "outputs": [
    {
     "data": {
      "text/html": [
       "<div>\n",
       "<table border=\"1\" class=\"dataframe\">\n",
       "  <thead>\n",
       "    <tr style=\"text-align: right;\">\n",
       "      <th></th>\n",
       "      <th>CELL_LINE_ID</th>\n",
       "      <th>GENE_ID:HGNC</th>\n",
       "      <th>GENE_ID:CGDS</th>\n",
       "      <th>VALUE_MEAN</th>\n",
       "      <th>VALUE_STD</th>\n",
       "      <th>VALUE_CT</th>\n",
       "    </tr>\n",
       "  </thead>\n",
       "  <tbody>\n",
       "    <tr>\n",
       "      <th>0</th>\n",
       "      <td>TCGA-A1-A0SB-01</td>\n",
       "      <td>A1BG</td>\n",
       "      <td>1</td>\n",
       "      <td>0.073395</td>\n",
       "      <td>0.0</td>\n",
       "      <td>1</td>\n",
       "    </tr>\n",
       "    <tr>\n",
       "      <th>1</th>\n",
       "      <td>TCGA-A1-A0SB-01</td>\n",
       "      <td>A1BG-AS1</td>\n",
       "      <td>503538</td>\n",
       "      <td>0.724501</td>\n",
       "      <td>0.0</td>\n",
       "      <td>1</td>\n",
       "    </tr>\n",
       "    <tr>\n",
       "      <th>2</th>\n",
       "      <td>TCGA-A1-A0SB-01</td>\n",
       "      <td>A2M</td>\n",
       "      <td>2</td>\n",
       "      <td>0.891226</td>\n",
       "      <td>0.0</td>\n",
       "      <td>1</td>\n",
       "    </tr>\n",
       "    <tr>\n",
       "      <th>3</th>\n",
       "      <td>TCGA-A1-A0SB-01</td>\n",
       "      <td>A2ML1</td>\n",
       "      <td>144568</td>\n",
       "      <td>0.478400</td>\n",
       "      <td>0.0</td>\n",
       "      <td>1</td>\n",
       "    </tr>\n",
       "    <tr>\n",
       "      <th>4</th>\n",
       "      <td>TCGA-A1-A0SB-01</td>\n",
       "      <td>A4GALT</td>\n",
       "      <td>53947</td>\n",
       "      <td>0.513391</td>\n",
       "      <td>0.0</td>\n",
       "      <td>1</td>\n",
       "    </tr>\n",
       "  </tbody>\n",
       "</table>\n",
       "</div>"
      ],
      "text/plain": [
       "      CELL_LINE_ID GENE_ID:HGNC  GENE_ID:CGDS  VALUE_MEAN  VALUE_STD  VALUE_CT\n",
       "0  TCGA-A1-A0SB-01         A1BG             1    0.073395        0.0         1\n",
       "1  TCGA-A1-A0SB-01     A1BG-AS1        503538    0.724501        0.0         1\n",
       "2  TCGA-A1-A0SB-01          A2M             2    0.891226        0.0         1\n",
       "3  TCGA-A1-A0SB-01        A2ML1        144568    0.478400        0.0         1\n",
       "4  TCGA-A1-A0SB-01       A4GALT         53947    0.513391        0.0         1"
      ]
     },
     "execution_count": 5,
     "metadata": {},
     "output_type": "execute_result"
    }
   ],
   "source": [
    "d_agg, d_dist = cgds.aggregate(d)\n",
    "d_agg.head()"
   ]
  },
  {
   "cell_type": "code",
   "execution_count": 6,
   "metadata": {
    "collapsed": false
   },
   "outputs": [
    {
     "data": {
      "text/plain": [
       "1    8785063\n",
       "2      11612\n",
       "Name: Number of Replicates, dtype: int64"
      ]
     },
     "execution_count": 6,
     "metadata": {},
     "output_type": "execute_result"
    }
   ],
   "source": [
    "d_dist"
   ]
  },
  {
   "cell_type": "code",
   "execution_count": 7,
   "metadata": {
    "collapsed": false
   },
   "outputs": [
    {
     "data": {
      "text/html": [
       "<div>\n",
       "<table border=\"1\" class=\"dataframe\">\n",
       "  <thead>\n",
       "    <tr style=\"text-align: right;\">\n",
       "      <th></th>\n",
       "      <th>GENE_ID:CGDS</th>\n",
       "      <th>VALUE_MEAN</th>\n",
       "      <th>VALUE_STD</th>\n",
       "      <th>VALUE_CT</th>\n",
       "    </tr>\n",
       "  </thead>\n",
       "  <tbody>\n",
       "    <tr>\n",
       "      <th>count</th>\n",
       "      <td>8.796675e+06</td>\n",
       "      <td>8.796675e+06</td>\n",
       "      <td>8796675.0</td>\n",
       "      <td>8.796675e+06</td>\n",
       "    </tr>\n",
       "    <tr>\n",
       "      <th>mean</th>\n",
       "      <td>5.930480e+05</td>\n",
       "      <td>4.078580e-01</td>\n",
       "      <td>0.0</td>\n",
       "      <td>1.001320e+00</td>\n",
       "    </tr>\n",
       "    <tr>\n",
       "      <th>std</th>\n",
       "      <td>7.169097e+06</td>\n",
       "      <td>3.489149e-01</td>\n",
       "      <td>0.0</td>\n",
       "      <td>3.630843e-02</td>\n",
       "    </tr>\n",
       "    <tr>\n",
       "      <th>min</th>\n",
       "      <td>1.000000e+00</td>\n",
       "      <td>3.360104e-03</td>\n",
       "      <td>0.0</td>\n",
       "      <td>1.000000e+00</td>\n",
       "    </tr>\n",
       "    <tr>\n",
       "      <th>25%</th>\n",
       "      <td>6.774000e+03</td>\n",
       "      <td>4.721479e-02</td>\n",
       "      <td>0.0</td>\n",
       "      <td>1.000000e+00</td>\n",
       "    </tr>\n",
       "    <tr>\n",
       "      <th>50%</th>\n",
       "      <td>2.734700e+04</td>\n",
       "      <td>3.495343e-01</td>\n",
       "      <td>0.0</td>\n",
       "      <td>1.000000e+00</td>\n",
       "    </tr>\n",
       "    <tr>\n",
       "      <th>75%</th>\n",
       "      <td>8.466200e+04</td>\n",
       "      <td>7.720465e-01</td>\n",
       "      <td>0.0</td>\n",
       "      <td>1.000000e+00</td>\n",
       "    </tr>\n",
       "    <tr>\n",
       "      <th>max</th>\n",
       "      <td>1.005291e+08</td>\n",
       "      <td>9.962133e-01</td>\n",
       "      <td>0.0</td>\n",
       "      <td>2.000000e+00</td>\n",
       "    </tr>\n",
       "  </tbody>\n",
       "</table>\n",
       "</div>"
      ],
      "text/plain": [
       "       GENE_ID:CGDS    VALUE_MEAN  VALUE_STD      VALUE_CT\n",
       "count  8.796675e+06  8.796675e+06  8796675.0  8.796675e+06\n",
       "mean   5.930480e+05  4.078580e-01        0.0  1.001320e+00\n",
       "std    7.169097e+06  3.489149e-01        0.0  3.630843e-02\n",
       "min    1.000000e+00  3.360104e-03        0.0  1.000000e+00\n",
       "25%    6.774000e+03  4.721479e-02        0.0  1.000000e+00\n",
       "50%    2.734700e+04  3.495343e-01        0.0  1.000000e+00\n",
       "75%    8.466200e+04  7.720465e-01        0.0  1.000000e+00\n",
       "max    1.005291e+08  9.962133e-01        0.0  2.000000e+00"
      ]
     },
     "execution_count": 7,
     "metadata": {},
     "output_type": "execute_result"
    }
   ],
   "source": [
    "d_agg.describe()"
   ]
  },
  {
   "cell_type": "code",
   "execution_count": 8,
   "metadata": {
    "collapsed": false
   },
   "outputs": [
    {
     "data": {
      "text/plain": [
       "'/Users/eczech/data/research/mgds/import/tcga-breast_v1_gene-methylation.pkl'"
      ]
     },
     "execution_count": 8,
     "metadata": {},
     "output_type": "execute_result"
    }
   ],
   "source": [
    "assert np.all(pd.notnull(d_agg))\n",
    "db.save(d_agg, src.TCGA_BREAST_v1, db.IMPORT, 'gene-methylation')"
   ]
  }
 ],
 "metadata": {
  "anaconda-cloud": {},
  "kernelspec": {
   "display_name": "Python [default]",
   "language": "python",
   "name": "python3"
  },
  "language_info": {
   "codemirror_mode": {
    "name": "ipython",
    "version": 3
   },
   "file_extension": ".py",
   "mimetype": "text/x-python",
   "name": "python",
   "nbconvert_exporter": "python",
   "pygments_lexer": "ipython3",
   "version": "3.5.2"
  }
 },
 "nbformat": 4,
 "nbformat_minor": 0
}
