{
 "cells": [
  {
   "cell_type": "markdown",
   "metadata": {},
   "source": [
    "# TCGA Exome Sequencing Data Importation\n",
    "**Local Version**: 1\n",
    "**Source Version**: NA\n",
    "\n",
    "This notebook will import raw TCGA mutation data through the [CGDS](http://www.cbioportal.org/cgds_r.jsp) portal."
   ]
  },
  {
   "cell_type": "code",
   "execution_count": 1,
   "metadata": {
    "collapsed": true
   },
   "outputs": [],
   "source": [
    "%run -m ipy_startup\n",
    "%run -m ipy_logging false\n",
    "%matplotlib inline\n",
    "from mgds.data_aggregation import database as db\n",
    "from mgds.data_aggregation import source as src\n",
    "from mgds.data_aggregation import data_type as dtyp\n",
    "from mgds.data_aggregation import api\n",
    "from mgds.data_aggregation.import_lib import cgds\n",
    "from mgds.data_aggregation.import_lib import tcga\n",
    "from py_utils import assertion_utils\n",
    "from py_utils.collection_utils import subset"
   ]
  },
  {
   "cell_type": "code",
   "execution_count": 2,
   "metadata": {
    "collapsed": false
   },
   "outputs": [
    {
     "name": "stderr",
     "output_type": "stream",
     "text": [
      "2016-12-19 09:07:41,465:INFO:mgds.data_aggregation.import_lib.tcga: Importing data for study \"brca_tcga\" (3 of 32), cohort \"brca\", case list \"brca_tcga_all\", profile \"brca_tcga_mutations\", table \"brca-gene-exome-seq\"\n",
      "2016-12-19 09:07:41,467:INFO:mgds.data_aggregation.import_lib.cgds: Processing batch 1 of 789\n",
      "2016-12-19 09:10:59,866:INFO:mgds.data_aggregation.import_lib.cgds: Processing batch 79 of 789\n",
      "2016-12-19 09:14:39,630:INFO:mgds.data_aggregation.import_lib.cgds: Processing batch 157 of 789\n",
      "2016-12-19 09:18:53,020:INFO:mgds.data_aggregation.import_lib.cgds: Processing batch 235 of 789\n",
      "2016-12-19 09:23:34,056:INFO:mgds.data_aggregation.import_lib.cgds: Processing batch 313 of 789\n",
      "2016-12-19 09:28:28,297:INFO:mgds.data_aggregation.import_lib.cgds: Processing batch 391 of 789\n",
      "2016-12-19 09:28:36,450:WARNING:mgds.data_aggregation.import_lib.cgds: An http error occurred.  Will try again in 30 seconds ...\n",
      "2016-12-19 09:35:33,444:INFO:mgds.data_aggregation.import_lib.cgds: Processing batch 469 of 789\n",
      "2016-12-19 09:40:50,109:INFO:mgds.data_aggregation.import_lib.cgds: Processing batch 547 of 789\n",
      "2016-12-19 09:45:52,219:INFO:mgds.data_aggregation.import_lib.cgds: Processing batch 625 of 789\n",
      "2016-12-19 09:54:08,276:INFO:mgds.data_aggregation.import_lib.cgds: Processing batch 703 of 789\n",
      "2016-12-19 10:03:32,079:INFO:mgds.data_aggregation.import_lib.cgds: Processing batch 781 of 789\n",
      "2016-12-19 10:04:45,002:DEBUG:mgds.data_aggregation.io_utils: Writing serialized object to \"/Users/eczech/data/research/mgds/raw/tcga_v1_brca-gene-exome-seq.pkl\"\n",
      "2016-12-19 10:04:47,726:DEBUG:mgds.data_aggregation.io_utils: Restoring serialized object from \"/Users/eczech/data/research/mgds/raw/tcga_v1_brca-gene-exome-seq.pkl\"\n"
     ]
    }
   ],
   "source": [
    "tables = tcga.import_genetic_profile_data(\n",
    "    profile_fmt=tcga.PROF_FMT_MUTATIONS,\n",
    "    data_type=dtyp.GENE_EXOME_SEQ,\n",
    "    gene_ids=api.get_hugo_gene_ids(),\n",
    "    cohorts=['brca']\n",
    ")"
   ]
  },
  {
   "cell_type": "code",
   "execution_count": 16,
   "metadata": {
    "collapsed": false
   },
   "outputs": [
    {
     "data": {
      "text/plain": [
       "<module 'mgds.data_aggregation.import_lib.tcga' from '/Users/eczech/repos/mgds/python/src/mgds/data_aggregation/import_lib/tcga.py'>"
      ]
     },
     "execution_count": 16,
     "metadata": {},
     "output_type": "execute_result"
    }
   ],
   "source": [
    "import imp\n",
    "imp.reload(tcga)"
   ]
  },
  {
   "cell_type": "code",
   "execution_count": 17,
   "metadata": {
    "collapsed": false
   },
   "outputs": [
    {
     "name": "stderr",
     "output_type": "stream",
     "text": [
      "2016-12-20 12:09:49,832:WARNING:mgds.data_aggregation.database: Ignoring invalid table name format for file \"/Users/eczech/data/research/mgds/raw/bioc_v1_gene-meta.tar.gz\" (names should only have one period)\n"
     ]
    }
   ],
   "source": [
    "d = tcga.load_genetic_profile_data(dtyp.GENE_EXOME_SEQ, cohorts=['brca'])"
   ]
  },
  {
   "cell_type": "code",
   "execution_count": 18,
   "metadata": {
    "collapsed": false
   },
   "outputs": [
    {
     "name": "stdout",
     "output_type": "stream",
     "text": [
      "<class 'pandas.core.frame.DataFrame'>\n",
      "Int64Index: 58818 entries, 899 to 43129779\n",
      "Data columns (total 5 columns):\n",
      "GENE_ID         58818 non-null int64\n",
      "COMMON          58818 non-null object\n",
      "CELL_LINE_ID    58818 non-null object\n",
      "VALUE           58818 non-null object\n",
      "COHORT          58818 non-null object\n",
      "dtypes: int64(1), object(4)\n",
      "memory usage: 2.7+ MB\n"
     ]
    }
   ],
   "source": [
    "d.info()"
   ]
  },
  {
   "cell_type": "code",
   "execution_count": 19,
   "metadata": {
    "collapsed": false
   },
   "outputs": [
    {
     "data": {
      "text/plain": [
       "False    58818\n",
       "Name: VALUE, dtype: int64"
      ]
     },
     "execution_count": 19,
     "metadata": {},
     "output_type": "execute_result"
    }
   ],
   "source": [
    "d['VALUE'].isnull().value_counts()"
   ]
  },
  {
   "cell_type": "code",
   "execution_count": 20,
   "metadata": {
    "collapsed": false
   },
   "outputs": [
    {
     "data": {
      "text/plain": [
       "981"
      ]
     },
     "execution_count": 20,
     "metadata": {},
     "output_type": "execute_result"
    }
   ],
   "source": [
    "len(d['CELL_LINE_ID'].unique())"
   ]
  },
  {
   "cell_type": "code",
   "execution_count": 15,
   "metadata": {
    "collapsed": false
   },
   "outputs": [
    {
     "data": {
      "text/plain": [
       "981"
      ]
     },
     "execution_count": 15,
     "metadata": {},
     "output_type": "execute_result"
    }
   ],
   "source": [
    "len(ids)"
   ]
  },
  {
   "cell_type": "code",
   "execution_count": 10,
   "metadata": {
    "collapsed": false
   },
   "outputs": [
    {
     "data": {
      "text/plain": [
       "899           T212K\n",
       "2052         Q2118*\n",
       "2413          R556K\n",
       "2544    S1417Kfs*40\n",
       "2587          R332K\n",
       "Name: VALUE, dtype: object"
      ]
     },
     "execution_count": 10,
     "metadata": {},
     "output_type": "execute_result"
    }
   ],
   "source": [
    "d['VALUE'][d['VALUE'].notnull()].head()"
   ]
  },
  {
   "cell_type": "code",
   "execution_count": 5,
   "metadata": {
    "collapsed": false
   },
   "outputs": [
    {
     "name": "stdout",
     "output_type": "stream",
     "text": [
      "[Remove duplicate records] Records before = 53862, Records after = 53749, Records removed = 113 (%0.21)\n",
      "<class 'pandas.core.frame.DataFrame'>\n",
      "Int64Index: 53749 entries, 0 to 20\n",
      "Data columns (total 15 columns):\n",
      "GENE_ID:ENTREZ                53749 non-null int64\n",
      "GENE_ID:HGNC                  53749 non-null object\n",
      "CELL_LINE_ID                  53749 non-null object\n",
      "SEQUENCING_CENTER             53749 non-null object\n",
      "MUTATION_TYPE                 53749 non-null object\n",
      "AMINO_ACID_CHANGE             53749 non-null object\n",
      "FUNCTIONAL_IMPACT_SCORE       53749 non-null object\n",
      "CHR                           53749 non-null float64\n",
      "START_POSITION                53749 non-null float64\n",
      "END_POSITION                  53749 non-null float64\n",
      "REFERENCE_ALLELE              53749 non-null object\n",
      "VARIANT_ALLELE                53749 non-null object\n",
      "REFERENCE_READ_COUNT_TUMOR    53749 non-null float64\n",
      "VARIANT_READ_COUNT_TUMOR      53749 non-null float64\n",
      "GENETIC_PROFILE_ID            53749 non-null object\n",
      "dtypes: float64(5), int64(1), object(9)\n",
      "memory usage: 6.6+ MB\n"
     ]
    }
   ],
   "source": [
    "c_rm = cgds.DEFAULT_IGNORABLE_MUTATION_COLS\n",
    "d_exp = cgds.prep_mutation_data(d, c_rm=c_rm)\n",
    "\n",
    "# Fill in commonly missing fields\n",
    "d_exp['FUNCTIONAL_IMPACT_SCORE'] = d_exp['FUNCTIONAL_IMPACT_SCORE'].fillna('Unknown')\n",
    "d_exp['SEQUENCING_CENTER'] = d_exp['SEQUENCING_CENTER'].fillna('Unknown')\n",
    "\n",
    "# This field is null less than 1% of the time though it appears that \"-\" is \n",
    "# a decent placemark for missing values (based on frequencies of reference and variant allele values)\n",
    "d_exp['REFERENCE_ALLELE'] = d_exp['REFERENCE_ALLELE'].fillna('-')\n",
    "\n",
    "d_exp.info()"
   ]
  },
  {
   "cell_type": "code",
   "execution_count": 6,
   "metadata": {
    "collapsed": false
   },
   "outputs": [
    {
     "data": {
      "text/html": [
       "<div>\n",
       "<table border=\"1\" class=\"dataframe\">\n",
       "  <thead>\n",
       "    <tr style=\"text-align: right;\">\n",
       "      <th></th>\n",
       "      <th>GENE_ID:ENTREZ</th>\n",
       "      <th>GENE_ID:HGNC</th>\n",
       "      <th>CELL_LINE_ID</th>\n",
       "      <th>SEQUENCING_CENTER</th>\n",
       "      <th>MUTATION_TYPE</th>\n",
       "      <th>AMINO_ACID_CHANGE</th>\n",
       "      <th>FUNCTIONAL_IMPACT_SCORE</th>\n",
       "      <th>CHR</th>\n",
       "      <th>START_POSITION</th>\n",
       "      <th>END_POSITION</th>\n",
       "      <th>REFERENCE_ALLELE</th>\n",
       "      <th>VARIANT_ALLELE</th>\n",
       "      <th>REFERENCE_READ_COUNT_TUMOR</th>\n",
       "      <th>VARIANT_READ_COUNT_TUMOR</th>\n",
       "      <th>GENETIC_PROFILE_ID</th>\n",
       "    </tr>\n",
       "  </thead>\n",
       "  <tbody>\n",
       "    <tr>\n",
       "      <th>0</th>\n",
       "      <td>29974</td>\n",
       "      <td>A1CF</td>\n",
       "      <td>TCGA-D8-A1J8-01</td>\n",
       "      <td>genome.wustl.edu;unc.edu</td>\n",
       "      <td>Missense_Mutation</td>\n",
       "      <td>R244I</td>\n",
       "      <td>M</td>\n",
       "      <td>10.0</td>\n",
       "      <td>52587953.0</td>\n",
       "      <td>52587953.0</td>\n",
       "      <td>C</td>\n",
       "      <td>A</td>\n",
       "      <td>58.0</td>\n",
       "      <td>76.0</td>\n",
       "      <td>brca_tcga_pub2015_mutations</td>\n",
       "    </tr>\n",
       "    <tr>\n",
       "      <th>1</th>\n",
       "      <td>29974</td>\n",
       "      <td>A1CF</td>\n",
       "      <td>TCGA-BH-A0HP-01</td>\n",
       "      <td>genome.wustl.edu;unc.edu</td>\n",
       "      <td>Missense_Mutation</td>\n",
       "      <td>A203V</td>\n",
       "      <td>M</td>\n",
       "      <td>10.0</td>\n",
       "      <td>52595854.0</td>\n",
       "      <td>52595854.0</td>\n",
       "      <td>G</td>\n",
       "      <td>A</td>\n",
       "      <td>43.0</td>\n",
       "      <td>22.0</td>\n",
       "      <td>brca_tcga_pub2015_mutations</td>\n",
       "    </tr>\n",
       "    <tr>\n",
       "      <th>2</th>\n",
       "      <td>29974</td>\n",
       "      <td>A1CF</td>\n",
       "      <td>TCGA-A8-A09Z-01</td>\n",
       "      <td>genome.wustl.edu;unc.edu</td>\n",
       "      <td>Missense_Mutation</td>\n",
       "      <td>Y127N</td>\n",
       "      <td>L</td>\n",
       "      <td>10.0</td>\n",
       "      <td>52601632.0</td>\n",
       "      <td>52601632.0</td>\n",
       "      <td>A</td>\n",
       "      <td>T</td>\n",
       "      <td>88.0</td>\n",
       "      <td>45.0</td>\n",
       "      <td>brca_tcga_pub2015_mutations</td>\n",
       "    </tr>\n",
       "    <tr>\n",
       "      <th>3</th>\n",
       "      <td>29974</td>\n",
       "      <td>A1CF</td>\n",
       "      <td>TCGA-AC-A2FB-01</td>\n",
       "      <td>genome.wustl.edu</td>\n",
       "      <td>Missense_Mutation</td>\n",
       "      <td>G136E</td>\n",
       "      <td>N</td>\n",
       "      <td>10.0</td>\n",
       "      <td>52596055.0</td>\n",
       "      <td>52596055.0</td>\n",
       "      <td>C</td>\n",
       "      <td>T</td>\n",
       "      <td>31.0</td>\n",
       "      <td>5.0</td>\n",
       "      <td>brca_tcga_pub2015_mutations</td>\n",
       "    </tr>\n",
       "    <tr>\n",
       "      <th>4</th>\n",
       "      <td>2</td>\n",
       "      <td>A2M</td>\n",
       "      <td>TCGA-D8-A1JK-01</td>\n",
       "      <td>genome.wustl.edu</td>\n",
       "      <td>Nonsense_Mutation</td>\n",
       "      <td>Q1425*</td>\n",
       "      <td>Unknown</td>\n",
       "      <td>12.0</td>\n",
       "      <td>9221429.0</td>\n",
       "      <td>9221429.0</td>\n",
       "      <td>G</td>\n",
       "      <td>A</td>\n",
       "      <td>100.0</td>\n",
       "      <td>13.0</td>\n",
       "      <td>brca_tcga_pub2015_mutations</td>\n",
       "    </tr>\n",
       "  </tbody>\n",
       "</table>\n",
       "</div>"
      ],
      "text/plain": [
       "   GENE_ID:ENTREZ GENE_ID:HGNC     CELL_LINE_ID         SEQUENCING_CENTER  \\\n",
       "0           29974         A1CF  TCGA-D8-A1J8-01  genome.wustl.edu;unc.edu   \n",
       "1           29974         A1CF  TCGA-BH-A0HP-01  genome.wustl.edu;unc.edu   \n",
       "2           29974         A1CF  TCGA-A8-A09Z-01  genome.wustl.edu;unc.edu   \n",
       "3           29974         A1CF  TCGA-AC-A2FB-01          genome.wustl.edu   \n",
       "4               2          A2M  TCGA-D8-A1JK-01          genome.wustl.edu   \n",
       "\n",
       "       MUTATION_TYPE AMINO_ACID_CHANGE FUNCTIONAL_IMPACT_SCORE   CHR  \\\n",
       "0  Missense_Mutation             R244I                       M  10.0   \n",
       "1  Missense_Mutation             A203V                       M  10.0   \n",
       "2  Missense_Mutation             Y127N                       L  10.0   \n",
       "3  Missense_Mutation             G136E                       N  10.0   \n",
       "4  Nonsense_Mutation            Q1425*                 Unknown  12.0   \n",
       "\n",
       "   START_POSITION  END_POSITION REFERENCE_ALLELE VARIANT_ALLELE  \\\n",
       "0      52587953.0    52587953.0                C              A   \n",
       "1      52595854.0    52595854.0                G              A   \n",
       "2      52601632.0    52601632.0                A              T   \n",
       "3      52596055.0    52596055.0                C              T   \n",
       "4       9221429.0     9221429.0                G              A   \n",
       "\n",
       "   REFERENCE_READ_COUNT_TUMOR  VARIANT_READ_COUNT_TUMOR  \\\n",
       "0                        58.0                      76.0   \n",
       "1                        43.0                      22.0   \n",
       "2                        88.0                      45.0   \n",
       "3                        31.0                       5.0   \n",
       "4                       100.0                      13.0   \n",
       "\n",
       "            GENETIC_PROFILE_ID  \n",
       "0  brca_tcga_pub2015_mutations  \n",
       "1  brca_tcga_pub2015_mutations  \n",
       "2  brca_tcga_pub2015_mutations  \n",
       "3  brca_tcga_pub2015_mutations  \n",
       "4  brca_tcga_pub2015_mutations  "
      ]
     },
     "execution_count": 6,
     "metadata": {},
     "output_type": "execute_result"
    }
   ],
   "source": [
    "d_exp.head()"
   ]
  },
  {
   "cell_type": "code",
   "execution_count": 7,
   "metadata": {
    "collapsed": false
   },
   "outputs": [
    {
     "data": {
      "text/plain": [
       "1    53741\n",
       "2        4\n",
       "dtype: int64"
      ]
     },
     "execution_count": 7,
     "metadata": {},
     "output_type": "execute_result"
    }
   ],
   "source": [
    "# Note that records may not necessarily be unique to cell line, gene, and amino acid change\n",
    "c_unique = ['CELL_LINE_ID', 'GENE_ID:HGNC', 'AMINO_ACID_CHANGE']\n",
    "cts = d_exp.groupby(c_unique).size()\n",
    "cts.value_counts()"
   ]
  },
  {
   "cell_type": "code",
   "execution_count": 10,
   "metadata": {
    "collapsed": false
   },
   "outputs": [
    {
     "data": {
      "text/plain": [
       "'/Users/eczech/data/research/mgds/import/tcga-breast_v1_gene-exome-seq.pkl'"
      ]
     },
     "execution_count": 10,
     "metadata": {},
     "output_type": "execute_result"
    }
   ],
   "source": [
    "assertion_utils.assert_object_types(d_exp)\n",
    "assert np.all(pd.notnull(d_exp))\n",
    "db.save(d_exp, src.TCGA_BREAST_v1, db.IMPORT, 'gene-exome-seq')"
   ]
  }
 ],
 "metadata": {
  "kernelspec": {
   "display_name": "Python [default]",
   "language": "python",
   "name": "python3"
  },
  "language_info": {
   "codemirror_mode": {
    "name": "ipython",
    "version": 3
   },
   "file_extension": ".py",
   "mimetype": "text/x-python",
   "name": "python",
   "nbconvert_exporter": "python",
   "pygments_lexer": "ipython3",
   "version": "3.5.2"
  }
 },
 "nbformat": 4,
 "nbformat_minor": 0
}
