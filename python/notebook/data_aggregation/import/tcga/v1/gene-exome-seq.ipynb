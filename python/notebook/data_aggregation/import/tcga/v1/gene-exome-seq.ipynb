{
 "cells": [
  {
   "cell_type": "markdown",
   "metadata": {},
   "source": [
    "# TCGA Breast Exome Sequencing Data Importation\n",
    "**Local Version**: 1\n",
    "**Source Version**: NA\n",
    "\n",
    "This notebook will import raw TCGA exome sequencing data through the [CGDS](http://www.cbioportal.org/cgds_r.jsp) portal for the study named \"Breast Invasive Carcinoma (TCGA, Cell 2015)\".\n",
    "\n",
    "This study is preferred over \"Breast Invasive Carcinoma (TCGA, Nature 2012)\" despite the fact that it has a little fewer samples because it appears newer and includes more data types."
   ]
  },
  {
   "cell_type": "code",
   "execution_count": 8,
   "metadata": {
    "collapsed": true
   },
   "outputs": [],
   "source": [
    "%run -m ipy_startup\n",
    "%run -m ipy_logging\n",
    "%matplotlib inline\n",
    "from mgds.data_aggregation import database as db\n",
    "from mgds.data_aggregation import source as src\n",
    "from mgds.data_aggregation import api\n",
    "from mgds.data_aggregation.import_lib import cgds\n",
    "from mgds.data_aggregation.import_lib import tcga_breast\n",
    "from py_utils import assertion_utils\n",
    "from py_utils.collection_utils import subset"
   ]
  },
  {
   "cell_type": "code",
   "execution_count": 2,
   "metadata": {
    "collapsed": false
   },
   "outputs": [],
   "source": [
    "# pd.set_option('display.max_colwidth', 500)\n",
    "# dt = cgds.get_genetic_profiles('brca_tcga_pub2015')\n",
    "# dt.head()"
   ]
  },
  {
   "cell_type": "code",
   "execution_count": 3,
   "metadata": {
    "collapsed": false
   },
   "outputs": [
    {
     "name": "stderr",
     "output_type": "stream",
     "text": [
      "2016-11-24 08:26:20,589:DEBUG:mgds.data_aggregation.io_utils: Restoring serialized object from \"/Users/eczech/data/research/mgds/raw/tcga-breast_v1_gene-exome-seq.pkl\"\n"
     ]
    }
   ],
   "source": [
    "case_list_id = tcga_breast.CASE_LIST_ID\n",
    "genetic_profile_id = tcga_breast.PROF_MUTATION\n",
    "batch_size = 50\n",
    "\n",
    "op = lambda: cgds.get_mutation_data(\n",
    "    case_list_id, genetic_profile_id,\n",
    "    api.get_hugo_gene_ids(), gene_id_batch_size=batch_size\n",
    ")\n",
    "d = db.cache_raw_operation(op, src.TCGA_BREAST_v1, 'gene-exome-seq')"
   ]
  },
  {
   "cell_type": "code",
   "execution_count": 4,
   "metadata": {
    "collapsed": false
   },
   "outputs": [
    {
     "name": "stdout",
     "output_type": "stream",
     "text": [
      "<class 'pandas.core.frame.DataFrame'>\n",
      "Int64Index: 53862 entries, 0 to 20\n",
      "Data columns (total 22 columns):\n",
      "entrez_gene_id                 53862 non-null float64\n",
      "gene_symbol                    53862 non-null object\n",
      "case_id                        53862 non-null object\n",
      "sequencing_center              53848 non-null object\n",
      "mutation_status                0 non-null object\n",
      "mutation_type                  53862 non-null object\n",
      "validation_status              0 non-null object\n",
      "amino_acid_change              53862 non-null object\n",
      "functional_impact_score        42349 non-null object\n",
      "xvar_link                      45568 non-null object\n",
      "xvar_link_pdb                  16427 non-null object\n",
      "xvar_link_msa                  42404 non-null object\n",
      "chr                            53862 non-null float64\n",
      "start_position                 53862 non-null float64\n",
      "end_position                   53862 non-null float64\n",
      "reference_allele               53656 non-null object\n",
      "variant_allele                 53862 non-null object\n",
      "reference_read_count_tumor     53862 non-null float64\n",
      "variant_read_count_tumor       53862 non-null float64\n",
      "reference_read_count_normal    53862 non-null float64\n",
      "variant_read_count_normal      53862 non-null float64\n",
      "genetic_profile_id             53862 non-null object\n",
      "dtypes: float64(8), object(14)\n",
      "memory usage: 9.5+ MB\n"
     ]
    }
   ],
   "source": [
    "d.info()"
   ]
  },
  {
   "cell_type": "code",
   "execution_count": 5,
   "metadata": {
    "collapsed": false
   },
   "outputs": [
    {
     "name": "stdout",
     "output_type": "stream",
     "text": [
      "[Remove duplicate records] Records before = 53862, Records after = 53749, Records removed = 113 (%0.21)\n",
      "<class 'pandas.core.frame.DataFrame'>\n",
      "Int64Index: 53749 entries, 0 to 20\n",
      "Data columns (total 15 columns):\n",
      "GENE_ID:ENTREZ                53749 non-null int64\n",
      "GENE_ID:HGNC                  53749 non-null object\n",
      "CELL_LINE_ID                  53749 non-null object\n",
      "SEQUENCING_CENTER             53749 non-null object\n",
      "MUTATION_TYPE                 53749 non-null object\n",
      "AMINO_ACID_CHANGE             53749 non-null object\n",
      "FUNCTIONAL_IMPACT_SCORE       53749 non-null object\n",
      "CHR                           53749 non-null float64\n",
      "START_POSITION                53749 non-null float64\n",
      "END_POSITION                  53749 non-null float64\n",
      "REFERENCE_ALLELE              53749 non-null object\n",
      "VARIANT_ALLELE                53749 non-null object\n",
      "REFERENCE_READ_COUNT_TUMOR    53749 non-null float64\n",
      "VARIANT_READ_COUNT_TUMOR      53749 non-null float64\n",
      "GENETIC_PROFILE_ID            53749 non-null object\n",
      "dtypes: float64(5), int64(1), object(9)\n",
      "memory usage: 6.6+ MB\n"
     ]
    }
   ],
   "source": [
    "c_rm = cgds.DEFAULT_IGNORABLE_MUTATION_COLS\n",
    "d_exp = cgds.prep_mutation_data(d, c_rm=c_rm)\n",
    "\n",
    "# Fill in commonly missing fields\n",
    "d_exp['FUNCTIONAL_IMPACT_SCORE'] = d_exp['FUNCTIONAL_IMPACT_SCORE'].fillna('Unknown')\n",
    "d_exp['SEQUENCING_CENTER'] = d_exp['SEQUENCING_CENTER'].fillna('Unknown')\n",
    "\n",
    "# This field is null less than 1% of the time though it appears that \"-\" is \n",
    "# a decent placemark for missing values (based on frequencies of reference and variant allele values)\n",
    "d_exp['REFERENCE_ALLELE'] = d_exp['REFERENCE_ALLELE'].fillna('-')\n",
    "\n",
    "d_exp.info()"
   ]
  },
  {
   "cell_type": "code",
   "execution_count": 6,
   "metadata": {
    "collapsed": false
   },
   "outputs": [
    {
     "data": {
      "text/html": [
       "<div>\n",
       "<table border=\"1\" class=\"dataframe\">\n",
       "  <thead>\n",
       "    <tr style=\"text-align: right;\">\n",
       "      <th></th>\n",
       "      <th>GENE_ID:ENTREZ</th>\n",
       "      <th>GENE_ID:HGNC</th>\n",
       "      <th>CELL_LINE_ID</th>\n",
       "      <th>SEQUENCING_CENTER</th>\n",
       "      <th>MUTATION_TYPE</th>\n",
       "      <th>AMINO_ACID_CHANGE</th>\n",
       "      <th>FUNCTIONAL_IMPACT_SCORE</th>\n",
       "      <th>CHR</th>\n",
       "      <th>START_POSITION</th>\n",
       "      <th>END_POSITION</th>\n",
       "      <th>REFERENCE_ALLELE</th>\n",
       "      <th>VARIANT_ALLELE</th>\n",
       "      <th>REFERENCE_READ_COUNT_TUMOR</th>\n",
       "      <th>VARIANT_READ_COUNT_TUMOR</th>\n",
       "      <th>GENETIC_PROFILE_ID</th>\n",
       "    </tr>\n",
       "  </thead>\n",
       "  <tbody>\n",
       "    <tr>\n",
       "      <th>0</th>\n",
       "      <td>29974</td>\n",
       "      <td>A1CF</td>\n",
       "      <td>TCGA-D8-A1J8-01</td>\n",
       "      <td>genome.wustl.edu;unc.edu</td>\n",
       "      <td>Missense_Mutation</td>\n",
       "      <td>R244I</td>\n",
       "      <td>M</td>\n",
       "      <td>10.0</td>\n",
       "      <td>52587953.0</td>\n",
       "      <td>52587953.0</td>\n",
       "      <td>C</td>\n",
       "      <td>A</td>\n",
       "      <td>58.0</td>\n",
       "      <td>76.0</td>\n",
       "      <td>brca_tcga_pub2015_mutations</td>\n",
       "    </tr>\n",
       "    <tr>\n",
       "      <th>1</th>\n",
       "      <td>29974</td>\n",
       "      <td>A1CF</td>\n",
       "      <td>TCGA-BH-A0HP-01</td>\n",
       "      <td>genome.wustl.edu;unc.edu</td>\n",
       "      <td>Missense_Mutation</td>\n",
       "      <td>A203V</td>\n",
       "      <td>M</td>\n",
       "      <td>10.0</td>\n",
       "      <td>52595854.0</td>\n",
       "      <td>52595854.0</td>\n",
       "      <td>G</td>\n",
       "      <td>A</td>\n",
       "      <td>43.0</td>\n",
       "      <td>22.0</td>\n",
       "      <td>brca_tcga_pub2015_mutations</td>\n",
       "    </tr>\n",
       "    <tr>\n",
       "      <th>2</th>\n",
       "      <td>29974</td>\n",
       "      <td>A1CF</td>\n",
       "      <td>TCGA-A8-A09Z-01</td>\n",
       "      <td>genome.wustl.edu;unc.edu</td>\n",
       "      <td>Missense_Mutation</td>\n",
       "      <td>Y127N</td>\n",
       "      <td>L</td>\n",
       "      <td>10.0</td>\n",
       "      <td>52601632.0</td>\n",
       "      <td>52601632.0</td>\n",
       "      <td>A</td>\n",
       "      <td>T</td>\n",
       "      <td>88.0</td>\n",
       "      <td>45.0</td>\n",
       "      <td>brca_tcga_pub2015_mutations</td>\n",
       "    </tr>\n",
       "    <tr>\n",
       "      <th>3</th>\n",
       "      <td>29974</td>\n",
       "      <td>A1CF</td>\n",
       "      <td>TCGA-AC-A2FB-01</td>\n",
       "      <td>genome.wustl.edu</td>\n",
       "      <td>Missense_Mutation</td>\n",
       "      <td>G136E</td>\n",
       "      <td>N</td>\n",
       "      <td>10.0</td>\n",
       "      <td>52596055.0</td>\n",
       "      <td>52596055.0</td>\n",
       "      <td>C</td>\n",
       "      <td>T</td>\n",
       "      <td>31.0</td>\n",
       "      <td>5.0</td>\n",
       "      <td>brca_tcga_pub2015_mutations</td>\n",
       "    </tr>\n",
       "    <tr>\n",
       "      <th>4</th>\n",
       "      <td>2</td>\n",
       "      <td>A2M</td>\n",
       "      <td>TCGA-D8-A1JK-01</td>\n",
       "      <td>genome.wustl.edu</td>\n",
       "      <td>Nonsense_Mutation</td>\n",
       "      <td>Q1425*</td>\n",
       "      <td>Unknown</td>\n",
       "      <td>12.0</td>\n",
       "      <td>9221429.0</td>\n",
       "      <td>9221429.0</td>\n",
       "      <td>G</td>\n",
       "      <td>A</td>\n",
       "      <td>100.0</td>\n",
       "      <td>13.0</td>\n",
       "      <td>brca_tcga_pub2015_mutations</td>\n",
       "    </tr>\n",
       "  </tbody>\n",
       "</table>\n",
       "</div>"
      ],
      "text/plain": [
       "   GENE_ID:ENTREZ GENE_ID:HGNC     CELL_LINE_ID         SEQUENCING_CENTER  \\\n",
       "0           29974         A1CF  TCGA-D8-A1J8-01  genome.wustl.edu;unc.edu   \n",
       "1           29974         A1CF  TCGA-BH-A0HP-01  genome.wustl.edu;unc.edu   \n",
       "2           29974         A1CF  TCGA-A8-A09Z-01  genome.wustl.edu;unc.edu   \n",
       "3           29974         A1CF  TCGA-AC-A2FB-01          genome.wustl.edu   \n",
       "4               2          A2M  TCGA-D8-A1JK-01          genome.wustl.edu   \n",
       "\n",
       "       MUTATION_TYPE AMINO_ACID_CHANGE FUNCTIONAL_IMPACT_SCORE   CHR  \\\n",
       "0  Missense_Mutation             R244I                       M  10.0   \n",
       "1  Missense_Mutation             A203V                       M  10.0   \n",
       "2  Missense_Mutation             Y127N                       L  10.0   \n",
       "3  Missense_Mutation             G136E                       N  10.0   \n",
       "4  Nonsense_Mutation            Q1425*                 Unknown  12.0   \n",
       "\n",
       "   START_POSITION  END_POSITION REFERENCE_ALLELE VARIANT_ALLELE  \\\n",
       "0      52587953.0    52587953.0                C              A   \n",
       "1      52595854.0    52595854.0                G              A   \n",
       "2      52601632.0    52601632.0                A              T   \n",
       "3      52596055.0    52596055.0                C              T   \n",
       "4       9221429.0     9221429.0                G              A   \n",
       "\n",
       "   REFERENCE_READ_COUNT_TUMOR  VARIANT_READ_COUNT_TUMOR  \\\n",
       "0                        58.0                      76.0   \n",
       "1                        43.0                      22.0   \n",
       "2                        88.0                      45.0   \n",
       "3                        31.0                       5.0   \n",
       "4                       100.0                      13.0   \n",
       "\n",
       "            GENETIC_PROFILE_ID  \n",
       "0  brca_tcga_pub2015_mutations  \n",
       "1  brca_tcga_pub2015_mutations  \n",
       "2  brca_tcga_pub2015_mutations  \n",
       "3  brca_tcga_pub2015_mutations  \n",
       "4  brca_tcga_pub2015_mutations  "
      ]
     },
     "execution_count": 6,
     "metadata": {},
     "output_type": "execute_result"
    }
   ],
   "source": [
    "d_exp.head()"
   ]
  },
  {
   "cell_type": "code",
   "execution_count": 7,
   "metadata": {
    "collapsed": false
   },
   "outputs": [
    {
     "data": {
      "text/plain": [
       "1    53741\n",
       "2        4\n",
       "dtype: int64"
      ]
     },
     "execution_count": 7,
     "metadata": {},
     "output_type": "execute_result"
    }
   ],
   "source": [
    "# Note that records may not necessarily be unique to cell line, gene, and amino acid change\n",
    "c_unique = ['CELL_LINE_ID', 'GENE_ID:HGNC', 'AMINO_ACID_CHANGE']\n",
    "cts = d_exp.groupby(c_unique).size()\n",
    "cts.value_counts()"
   ]
  },
  {
   "cell_type": "code",
   "execution_count": 10,
   "metadata": {
    "collapsed": false
   },
   "outputs": [
    {
     "data": {
      "text/plain": [
       "'/Users/eczech/data/research/mgds/import/tcga-breast_v1_gene-exome-seq.pkl'"
      ]
     },
     "execution_count": 10,
     "metadata": {},
     "output_type": "execute_result"
    }
   ],
   "source": [
    "assertion_utils.assert_object_types(d_exp)\n",
    "assert np.all(pd.notnull(d_exp))\n",
    "db.save(d_exp, src.TCGA_BREAST_v1, db.IMPORT, 'gene-exome-seq')"
   ]
  }
 ],
 "metadata": {
  "kernelspec": {
   "display_name": "Python 3",
   "language": "python",
   "name": "python3"
  },
  "language_info": {
   "codemirror_mode": {
    "name": "ipython",
    "version": 3
   },
   "file_extension": ".py",
   "mimetype": "text/x-python",
   "name": "python",
   "nbconvert_exporter": "python",
   "pygments_lexer": "ipython3",
   "version": "3.5.2"
  }
 },
 "nbformat": 4,
 "nbformat_minor": 0
}
