{
 "cells": [
  {
   "cell_type": "markdown",
   "metadata": {},
   "source": [
    "# GDSC Drug Sensitivity Data Importation\n",
    "**Local Version**: 2\n",
    "**Source Version**: 6.0\n",
    "\n",
    "This notebook will import prepared drug sensitivity data through the [GDSC](http://www.cancerrxgene.org/downloads) portal which hosts these files on the [Sanger FTP Server](ftp://ftp.sanger.ac.uk/pub/project/cancerrxgene/releases/) (release-6.0 in this case)\n",
    "\n",
    "Note that the GDSC exposes 3 drug datasets, labeled as the following:\n",
    "\n",
    "1. Raw - \"compound sensitivity data for Cell lines\"\n",
    "2. Preprocessed - \"log(IC50) and AUC values\"\n",
    "3. Preprocessed - \"ANOVA results\"\n",
    "\n",
    "In this case option 2 will be used, but the others are worth future consideration."
   ]
  },
  {
   "cell_type": "code",
   "execution_count": 46,
   "metadata": {
    "collapsed": true
   },
   "outputs": [],
   "source": [
    "%run -m ipy_startup\n",
    "%run -m ipy_logging\n",
    "from mgds.data_aggregation import database as db\n",
    "from mgds.data_aggregation import source as src\n",
    "from mgds.data_aggregation import io_utils as io\n",
    "from py_utils import assertion_utils\n",
    "pd.set_option('display.max_info_rows', 50000000)"
   ]
  },
  {
   "cell_type": "markdown",
   "metadata": {},
   "source": [
    "## Load Raw Sensitivity Data"
   ]
  },
  {
   "cell_type": "code",
   "execution_count": 26,
   "metadata": {
    "collapsed": false
   },
   "outputs": [
    {
     "name": "stderr",
     "output_type": "stream",
     "text": [
      "2016-11-28 12:10:51,823:DEBUG:mgds.data_aggregation.io_utils: Returning previously downloaded path for \"/Users/eczech/data/research/mgds/raw/gdsc_v2_drug-sensitivity.xlsx\"\n"
     ]
    },
    {
     "data": {
      "text/plain": [
       "'/Users/eczech/data/research/mgds/raw/gdsc_v2_drug-sensitivity.xlsx'"
      ]
     },
     "execution_count": 26,
     "metadata": {},
     "output_type": "execute_result"
    }
   ],
   "source": [
    "url = 'ftp://ftp.sanger.ac.uk/pub/project/cancerrxgene/releases/release-6.0/v17_fitted_dose_response.xlsx'\n",
    "filepath = db.raw_file(src.GDSC_v2, 'drug-sensitivity.xlsx')\n",
    "filepath = io.download(url, filepath, check_exists=True)\n",
    "filepath"
   ]
  },
  {
   "cell_type": "code",
   "execution_count": 27,
   "metadata": {
    "collapsed": false
   },
   "outputs": [
    {
     "name": "stdout",
     "output_type": "stream",
     "text": [
      "<class 'pandas.core.frame.DataFrame'>\n",
      "RangeIndex: 224510 entries, 0 to 224509\n",
      "Data columns (total 7 columns):\n",
      "IC50_RESULTS_ID        224510 non-null object\n",
      "CELL_LINE_ID:COSMIC    224510 non-null object\n",
      "DRUG_ID:COSMIC         224510 non-null object\n",
      "MAX_CONC_MICROMOLAR    224510 non-null float64\n",
      "LN_IC50                224510 non-null float64\n",
      "AUC                    224510 non-null float64\n",
      "RMSE                   224510 non-null float64\n",
      "dtypes: float64(4), object(3)\n",
      "memory usage: 12.0+ MB\n"
     ]
    }
   ],
   "source": [
    "c_str = ['DATASET_VERSION', 'IC50_RESULTS_ID', 'COSMIC_ID', 'DRUG_ID']\n",
    "d = pd.read_excel(filepath, sheetname='Export Worksheet', converters={c:str for c in c_str})\n",
    "d = d.rename(columns={'COSMIC_ID': 'CELL_LINE_ID:COSMIC', 'DRUG_ID': 'DRUG_ID:COSMIC'})\n",
    "\n",
    "# Ensure that the data all has the same associated version (\"17\"), and then lose this field\n",
    "assert np.all(d['DATASET_VERSION'] == '17')\n",
    "d = d.drop('DATASET_VERSION', axis=1)\n",
    "\n",
    "d.info()"
   ]
  },
  {
   "cell_type": "code",
   "execution_count": 28,
   "metadata": {
    "collapsed": false
   },
   "outputs": [
    {
     "data": {
      "text/html": [
       "<div>\n",
       "<table border=\"1\" class=\"dataframe\">\n",
       "  <thead>\n",
       "    <tr style=\"text-align: right;\">\n",
       "      <th></th>\n",
       "      <th>IC50_RESULTS_ID</th>\n",
       "      <th>CELL_LINE_ID:COSMIC</th>\n",
       "      <th>DRUG_ID:COSMIC</th>\n",
       "      <th>MAX_CONC_MICROMOLAR</th>\n",
       "      <th>LN_IC50</th>\n",
       "      <th>AUC</th>\n",
       "      <th>RMSE</th>\n",
       "    </tr>\n",
       "  </thead>\n",
       "  <tbody>\n",
       "    <tr>\n",
       "      <th>0</th>\n",
       "      <td>335</td>\n",
       "      <td>924100</td>\n",
       "      <td>1026</td>\n",
       "      <td>1.0</td>\n",
       "      <td>0.717722</td>\n",
       "      <td>0.899410</td>\n",
       "      <td>0.105665</td>\n",
       "    </tr>\n",
       "    <tr>\n",
       "      <th>1</th>\n",
       "      <td>336</td>\n",
       "      <td>924100</td>\n",
       "      <td>1028</td>\n",
       "      <td>2.0</td>\n",
       "      <td>2.664100</td>\n",
       "      <td>0.957206</td>\n",
       "      <td>0.178243</td>\n",
       "    </tr>\n",
       "    <tr>\n",
       "      <th>2</th>\n",
       "      <td>337</td>\n",
       "      <td>924100</td>\n",
       "      <td>1029</td>\n",
       "      <td>2.0</td>\n",
       "      <td>3.336828</td>\n",
       "      <td>0.973893</td>\n",
       "      <td>0.079845</td>\n",
       "    </tr>\n",
       "    <tr>\n",
       "      <th>3</th>\n",
       "      <td>338</td>\n",
       "      <td>924100</td>\n",
       "      <td>1030</td>\n",
       "      <td>10.0</td>\n",
       "      <td>5.164909</td>\n",
       "      <td>0.977844</td>\n",
       "      <td>0.094228</td>\n",
       "    </tr>\n",
       "    <tr>\n",
       "      <th>4</th>\n",
       "      <td>339</td>\n",
       "      <td>924100</td>\n",
       "      <td>1031</td>\n",
       "      <td>0.2</td>\n",
       "      <td>-4.325309</td>\n",
       "      <td>0.508180</td>\n",
       "      <td>0.090478</td>\n",
       "    </tr>\n",
       "  </tbody>\n",
       "</table>\n",
       "</div>"
      ],
      "text/plain": [
       "  IC50_RESULTS_ID CELL_LINE_ID:COSMIC DRUG_ID:COSMIC  MAX_CONC_MICROMOLAR  \\\n",
       "0             335              924100           1026                  1.0   \n",
       "1             336              924100           1028                  2.0   \n",
       "2             337              924100           1029                  2.0   \n",
       "3             338              924100           1030                 10.0   \n",
       "4             339              924100           1031                  0.2   \n",
       "\n",
       "    LN_IC50       AUC      RMSE  \n",
       "0  0.717722  0.899410  0.105665  \n",
       "1  2.664100  0.957206  0.178243  \n",
       "2  3.336828  0.973893  0.079845  \n",
       "3  5.164909  0.977844  0.094228  \n",
       "4 -4.325309  0.508180  0.090478  "
      ]
     },
     "execution_count": 28,
     "metadata": {},
     "output_type": "execute_result"
    }
   ],
   "source": [
    "d.head()"
   ]
  },
  {
   "cell_type": "markdown",
   "metadata": {},
   "source": [
    "## Load GDSC Drug Meta Data"
   ]
  },
  {
   "cell_type": "code",
   "execution_count": 29,
   "metadata": {
    "collapsed": false
   },
   "outputs": [
    {
     "name": "stderr",
     "output_type": "stream",
     "text": [
      "2016-11-28 12:11:37,142:DEBUG:mgds.data_aggregation.io_utils: Returning previously downloaded path for \"/Users/eczech/data/research/mgds/raw/gdsc_v2_drug-meta.xlsx\"\n"
     ]
    },
    {
     "data": {
      "text/plain": [
       "'/Users/eczech/data/research/mgds/raw/gdsc_v2_drug-meta.xlsx'"
      ]
     },
     "execution_count": 29,
     "metadata": {},
     "output_type": "execute_result"
    }
   ],
   "source": [
    "url = 'ftp://ftp.sanger.ac.uk/pub/project/cancerrxgene/releases/release-6.0/Screened_Compounds.xlsx'\n",
    "filepath = db.raw_file(src.GDSC_v2, 'drug-meta.xlsx')\n",
    "filepath = io.download(url, filepath, check_exists=True)\n",
    "filepath"
   ]
  },
  {
   "cell_type": "code",
   "execution_count": 32,
   "metadata": {
    "collapsed": false
   },
   "outputs": [
    {
     "name": "stdout",
     "output_type": "stream",
     "text": [
      "<class 'pandas.core.frame.DataFrame'>\n",
      "RangeIndex: 265 entries, 0 to 264\n",
      "Data columns (total 5 columns):\n",
      "DRUG_ID:COSMIC    265 non-null object\n",
      "DRUG_NAME         265 non-null object\n",
      "SYNONYMS          149 non-null object\n",
      "TARGET            264 non-null object\n",
      "TARGET_PATHWAY    265 non-null object\n",
      "dtypes: object(5)\n",
      "memory usage: 10.4+ KB\n"
     ]
    }
   ],
   "source": [
    "c_str = ['DRUG ID', 'DRUG NAME', 'TARGET', 'TARGET PATHWAY']\n",
    "d_meta = pd.read_excel(filepath, sheetname='Export Worksheet', converters={c:str for c in c_str})\n",
    "d_meta = d_meta.rename(columns={'DRUG ID': 'DRUG_ID:COSMIC', 'DRUG NAME': 'DRUG_NAME', 'TARGET PATHWAY': 'TARGET_PATHWAY'})\n",
    "d_meta.info()"
   ]
  },
  {
   "cell_type": "code",
   "execution_count": 33,
   "metadata": {
    "collapsed": false
   },
   "outputs": [
    {
     "data": {
      "text/html": [
       "<div>\n",
       "<table border=\"1\" class=\"dataframe\">\n",
       "  <thead>\n",
       "    <tr style=\"text-align: right;\">\n",
       "      <th></th>\n",
       "      <th>DRUG_ID:COSMIC</th>\n",
       "      <th>DRUG_NAME</th>\n",
       "      <th>SYNONYMS</th>\n",
       "      <th>TARGET</th>\n",
       "      <th>TARGET_PATHWAY</th>\n",
       "    </tr>\n",
       "  </thead>\n",
       "  <tbody>\n",
       "    <tr>\n",
       "      <th>0</th>\n",
       "      <td>1</td>\n",
       "      <td>Erlotinib</td>\n",
       "      <td>NaN</td>\n",
       "      <td>EGFR</td>\n",
       "      <td>EGFR signaling</td>\n",
       "    </tr>\n",
       "    <tr>\n",
       "      <th>1</th>\n",
       "      <td>3</td>\n",
       "      <td>Rapamycin</td>\n",
       "      <td>AY-22989,Sirolimus,WY-090217</td>\n",
       "      <td>mTOR</td>\n",
       "      <td>TOR signaling</td>\n",
       "    </tr>\n",
       "    <tr>\n",
       "      <th>2</th>\n",
       "      <td>5</td>\n",
       "      <td>Sunitinib</td>\n",
       "      <td>Sutent</td>\n",
       "      <td>PDGFRA, PDGFRB, KDR, KIT, FLT3</td>\n",
       "      <td>RTK signaling</td>\n",
       "    </tr>\n",
       "    <tr>\n",
       "      <th>3</th>\n",
       "      <td>6</td>\n",
       "      <td>PHA-665752</td>\n",
       "      <td>NaN</td>\n",
       "      <td>MET</td>\n",
       "      <td>RTK signaling</td>\n",
       "    </tr>\n",
       "    <tr>\n",
       "      <th>4</th>\n",
       "      <td>9</td>\n",
       "      <td>MG-132</td>\n",
       "      <td>zLLL</td>\n",
       "      <td>Proteasome</td>\n",
       "      <td>other</td>\n",
       "    </tr>\n",
       "  </tbody>\n",
       "</table>\n",
       "</div>"
      ],
      "text/plain": [
       "  DRUG_ID:COSMIC   DRUG_NAME                      SYNONYMS  \\\n",
       "0              1   Erlotinib                           NaN   \n",
       "1              3   Rapamycin  AY-22989,Sirolimus,WY-090217   \n",
       "2              5   Sunitinib                        Sutent   \n",
       "3              6  PHA-665752                           NaN   \n",
       "4              9      MG-132                          zLLL   \n",
       "\n",
       "                           TARGET  TARGET_PATHWAY  \n",
       "0                            EGFR  EGFR signaling  \n",
       "1                            mTOR   TOR signaling  \n",
       "2  PDGFRA, PDGFRB, KDR, KIT, FLT3   RTK signaling  \n",
       "3                             MET   RTK signaling  \n",
       "4                      Proteasome           other  "
      ]
     },
     "execution_count": 33,
     "metadata": {},
     "output_type": "execute_result"
    }
   ],
   "source": [
    "d_meta.head()"
   ]
  },
  {
   "cell_type": "markdown",
   "metadata": {},
   "source": [
    "## Load Cell Line Meta Data"
   ]
  },
  {
   "cell_type": "code",
   "execution_count": 36,
   "metadata": {
    "collapsed": false
   },
   "outputs": [
    {
     "name": "stdout",
     "output_type": "stream",
     "text": [
      "<class 'pandas.core.frame.DataFrame'>\n",
      "Int64Index: 1029 entries, 0 to 1033\n",
      "Data columns (total 2 columns):\n",
      "CELL_LINE_ID           1029 non-null object\n",
      "CELL_LINE_ID:COSMIC    1029 non-null object\n",
      "dtypes: object(2)\n",
      "memory usage: 24.1+ KB\n"
     ]
    }
   ],
   "source": [
    "d_cl = db.load(src.GDSC_v2, db.IMPORT, 'cellline-meta')[['CELL_LINE_ID', 'CELL_LINE_ID:COSMIC']]\n",
    "d_cl.info()"
   ]
  },
  {
   "cell_type": "markdown",
   "metadata": {},
   "source": [
    "## Merge Drug Data"
   ]
  },
  {
   "cell_type": "code",
   "execution_count": 44,
   "metadata": {
    "collapsed": false
   },
   "outputs": [
    {
     "name": "stdout",
     "output_type": "stream",
     "text": [
      "<class 'pandas.core.frame.DataFrame'>\n",
      "Int64Index: 224510 entries, 0 to 224509\n",
      "Data columns (total 12 columns):\n",
      "IC50_RESULTS_ID        224510 non-null object\n",
      "CELL_LINE_ID:COSMIC    224510 non-null object\n",
      "DRUG_ID:COSMIC         224510 non-null object\n",
      "MAX_CONC_MICROMOLAR    224510 non-null float64\n",
      "LN_IC50                224510 non-null float64\n",
      "AUC                    224510 non-null float64\n",
      "RMSE                   224510 non-null float64\n",
      "DRUG_NAME              224510 non-null object\n",
      "SYNONYMS               121336 non-null object\n",
      "TARGET                 223541 non-null object\n",
      "TARGET_PATHWAY         224510 non-null object\n",
      "CELL_LINE_ID           216576 non-null object\n",
      "dtypes: float64(4), object(8)\n",
      "memory usage: 22.3+ MB\n"
     ]
    }
   ],
   "source": [
    "# Merge sensitivity data to drug and cell line metadata\n",
    "d_rx = pd.merge(d, d_meta, on=['DRUG_ID:COSMIC'], how='left')\n",
    "d_rx = pd.merge(d_rx, d_cl, on=['CELL_LINE_ID:COSMIC'], how='left')\n",
    "\n",
    "# Make sure that all drugs were joined (this will be null otherwise)\n",
    "assert np.all(d_rx['DRUG_NAME'].notnull())\n",
    "\n",
    "# Ensure some other key fields are never null\n",
    "assert np.all(d_rx[['DRUG_ID:COSMIC', 'CELL_LINE_ID:COSMIC', 'AUC', 'RMSE', 'LN_IC50']].notnull())\n",
    "\n",
    "# Make sure cell line + drug combinations are unique for both types of cell line identifiers\n",
    "assert not np.any(d_rx[['CELL_LINE_ID:COSMIC', 'DRUG_ID:COSMIC']].duplicated())\n",
    "assert not np.any(d_rx[['CELL_LINE_ID', 'DRUG_ID:COSMIC']].dropna().duplicated())\n",
    "\n",
    "# Make sure cell line ids have no conflicts\n",
    "assert d_rx.groupby('CELL_LINE_ID')['CELL_LINE_ID:COSMIC'].nunique().max() == 1\n",
    "assert d_rx.groupby('CELL_LINE_ID:COSMIC')['CELL_LINE_ID'].nunique().max() == 1\n",
    "\n",
    "d_rx.info()"
   ]
  },
  {
   "cell_type": "markdown",
   "metadata": {},
   "source": [
    "## Export"
   ]
  },
  {
   "cell_type": "code",
   "execution_count": 47,
   "metadata": {
    "collapsed": false
   },
   "outputs": [
    {
     "data": {
      "text/plain": [
       "'/Users/eczech/data/research/mgds/import/gdsc_v2_drug-sensitivity.pkl'"
      ]
     },
     "execution_count": 47,
     "metadata": {},
     "output_type": "execute_result"
    }
   ],
   "source": [
    "assertion_utils.assert_object_types(d_rx)\n",
    "db.save(d_rx, src.GDSC_v2, db.IMPORT, 'drug-sensitivity')"
   ]
  }
 ],
 "metadata": {
  "kernelspec": {
   "display_name": "Python 3",
   "language": "python",
   "name": "python3"
  },
  "language_info": {
   "codemirror_mode": {
    "name": "ipython",
    "version": 3
   },
   "file_extension": ".py",
   "mimetype": "text/x-python",
   "name": "python",
   "nbconvert_exporter": "python",
   "pygments_lexer": "ipython3",
   "version": "3.5.2"
  }
 },
 "nbformat": 4,
 "nbformat_minor": 0
}
