{
 "cells": [
  {
   "cell_type": "markdown",
   "metadata": {},
   "source": [
    "# GDSC Meta Data Importation\n",
    "**Local Version**: 2\n",
    "**Source Version**: 6.0\n",
    "\n",
    "This notebook will import Cell Line and Cancer Type metadata data through the [GDSC](http://www.cancerrxgene.org/downloads) portal.  Files for this are hosted on the [Sanger FTP Server](ftp://ftp.sanger.ac.uk/pub/project/cancerrxgene/releases/) (release-6.0 in this case), and the only file of interest here is [Cell_Lines_Details.xlsx](ftp://ftp.sanger.ac.uk/pub/project/cancerrxgene/releases/release-6.0/Cell_Lines_Details.xlsx).  This file contains a mapping of COSMIC cell line ids to common cell line ids as well as notes which data is available for each.  It also contains the cancer site and histology of each cell line."
   ]
  },
  {
   "cell_type": "code",
   "execution_count": 23,
   "metadata": {
    "collapsed": true
   },
   "outputs": [],
   "source": [
    "%run -m ipy_startup\n",
    "%run -m ipy_logging\n",
    "from mgds.data_aggregation import database as db\n",
    "from mgds.data_aggregation import source as src\n",
    "from mgds.data_aggregation import io_utils as io\n",
    "from mgds.data_aggregation import entity\n",
    "from py_utils.collection_utils import subset\n",
    "from py_utils import assertion_utils\n",
    "import re\n",
    "pd.set_option('display.max_info_rows', 50000000)"
   ]
  },
  {
   "cell_type": "code",
   "execution_count": 2,
   "metadata": {
    "collapsed": false
   },
   "outputs": [
    {
     "name": "stderr",
     "output_type": "stream",
     "text": [
      "2016-12-01 15:05:40,848:DEBUG:mgds.data_aggregation.io_utils: Returning previously downloaded path for \"/Users/eczech/data/research/mgds/raw/gdsc_v2_cellline-meta.xlsx\"\n"
     ]
    },
    {
     "data": {
      "text/plain": [
       "'/Users/eczech/data/research/mgds/raw/gdsc_v2_cellline-meta.xlsx'"
      ]
     },
     "execution_count": 2,
     "metadata": {},
     "output_type": "execute_result"
    }
   ],
   "source": [
    "# Download Cell Line Details spreadsheet\n",
    "url = 'ftp://ftp.sanger.ac.uk/pub/project/cancerrxgene/releases/release-6.0/Cell_Lines_Details.xlsx'\n",
    "filepath = db.raw_file(src.GDSC_v2, 'cellline-meta.xlsx')\n",
    "filepath = io.download(url, filepath, check_exists=True)\n",
    "filepath"
   ]
  },
  {
   "cell_type": "code",
   "execution_count": 3,
   "metadata": {
    "collapsed": false
   },
   "outputs": [
    {
     "data": {
      "text/plain": [
       "dict_keys(['Cell line details', 'Decode', 'COSMIC tissue classification'])"
      ]
     },
     "execution_count": 3,
     "metadata": {},
     "output_type": "execute_result"
    }
   ],
   "source": [
    "d = pd.read_excel(filepath, sheetname=None)\n",
    "d.keys()"
   ]
  },
  {
   "cell_type": "markdown",
   "metadata": {},
   "source": [
    "## Prepare Cell Line Details"
   ]
  },
  {
   "cell_type": "code",
   "execution_count": 4,
   "metadata": {
    "collapsed": false
   },
   "outputs": [
    {
     "name": "stdout",
     "output_type": "stream",
     "text": [
      "<class 'pandas.core.frame.DataFrame'>\n",
      "RangeIndex: 1002 entries, 0 to 1001\n",
      "Data columns (total 13 columns):\n",
      "Sample Name                                1002 non-null object\n",
      "COSMIC identifier                          1001 non-null float64\n",
      "Whole Exome Sequencing (WES)               1002 non-null object\n",
      "Copy Number Alterations (CNA)              1002 non-null object\n",
      "Gene Expression                            1002 non-null object\n",
      "Methylation                                1002 non-null object\n",
      "DrugResponse                               1002 non-null object\n",
      "GDSCTissue descriptor 1                    1001 non-null object\n",
      "GDSCTissuedescriptor 2                     1001 non-null object\n",
      "Cancer Type(matching TCGA label)           826 non-null object\n",
      "Microsatellite instability Status (MSI)    986 non-null object\n",
      "Screen Medium                              1001 non-null object\n",
      "Growth Properties                          999 non-null object\n",
      "dtypes: float64(1), object(12)\n",
      "memory usage: 101.8+ KB\n"
     ]
    }
   ],
   "source": [
    "d_cl_det = d['Cell line details']\n",
    "d_cl_det = d_cl_det.rename(columns=lambda c: c.replace('\\n', ''))\n",
    "d_cl_det.info()"
   ]
  },
  {
   "cell_type": "code",
   "execution_count": 5,
   "metadata": {
    "collapsed": true
   },
   "outputs": [],
   "source": [
    "def convert_ids_to_string(d):\n",
    "    # Convert COSMIC and common cell line ID to string (carefully)\n",
    "    \n",
    "    # For COSMIC IDs, make sure we have no floats not equal to integer representation (ie only \".0\")\n",
    "    assert np.all(d['CELL_LINE_ID:COSMIC'] == d['CELL_LINE_ID:COSMIC'].astype(np.int64))\n",
    "    d['CELL_LINE_ID:COSMIC'] = d['CELL_LINE_ID:COSMIC'].astype(np.int64).astype(str)\n",
    "\n",
    "    # For common cell line IDs, make sure there are no floats and then convert each to string\n",
    "    assert np.all(d['CELL_LINE_ID'].apply(type).isin([str, int])), \\\n",
    "        'Found cell line ID not given as string or int'\n",
    "    d['CELL_LINE_ID'] = d['CELL_LINE_ID'].astype(str)\n",
    "    return d"
   ]
  },
  {
   "cell_type": "code",
   "execution_count": 6,
   "metadata": {
    "collapsed": false
   },
   "outputs": [
    {
     "name": "stdout",
     "output_type": "stream",
     "text": [
      "[Remove records with null COSMIC cell line ID] Records before = 1002, Records after = 1001, Records removed = 1 (%0.10)\n",
      "[Remove records with null common cell line ID] Records before = 1001, Records after = 1001, Records removed = 0 (%0.00)\n",
      "<class 'pandas.core.frame.DataFrame'>\n",
      "Int64Index: 1001 entries, 0 to 1000\n",
      "Data columns (total 13 columns):\n",
      "CELL_LINE_ID                         1001 non-null object\n",
      "CELL_LINE_ID:COSMIC                  1001 non-null object\n",
      "WHOLE_EXOME_SEQUENCING               1001 non-null object\n",
      "COPY_NUMBER_ALTERATIONS              1001 non-null object\n",
      "GENE_EXPRESSION                      1001 non-null object\n",
      "METHYLATION                          1001 non-null object\n",
      "DRUGRESPONSE                         1001 non-null object\n",
      "GDSC_TISSUE_DESCRIPTOR_1             1001 non-null object\n",
      "GDSC_TISSUE_DESCRIPTOR_2             1001 non-null object\n",
      "CANCER_TYPE                          826 non-null object\n",
      "MICROSATELLITE_INSTABILITY_STATUS    986 non-null object\n",
      "SCREEN_MEDIUM                        1001 non-null object\n",
      "GROWTH_PROPERTIES                    999 non-null object\n",
      "dtypes: object(13)\n",
      "memory usage: 109.5+ KB\n"
     ]
    }
   ],
   "source": [
    "# Rename and cleanup field names, and ensure cell line ids are strings\n",
    "def clean(x):\n",
    "    x = re.compile('\\(.*\\)').sub('', x).strip()\n",
    "    x = re.compile('\\s+').sub('_', x)\n",
    "    return x.upper()\n",
    "\n",
    "d_cl_det = d_cl_det.rename(columns=clean)\n",
    "\n",
    "d_cl_det = d_cl_det.rename(columns={\n",
    "    'SAMPLE_NAME': 'CELL_LINE_ID',\n",
    "    'COSMIC_IDENTIFIER': 'CELL_LINE_ID:COSMIC',\n",
    "    'GDSCTISSUE_DESCRIPTOR_1': 'GDSC_TISSUE_DESCRIPTOR_1',\n",
    "    'GDSCTISSUEDESCRIPTOR_2': 'GDSC_TISSUE_DESCRIPTOR_2'\n",
    "})\n",
    "\n",
    "# Ignore records with a null cell line ID of any kind, since these will not be useful when joined on other data\n",
    "d_cl_det = subset(\n",
    "    d_cl_det, lambda df: df[df['CELL_LINE_ID:COSMIC'].notnull()], \n",
    "    subset_op='Remove records with null COSMIC cell line ID'\n",
    ")\n",
    "d_cl_det = subset(\n",
    "    d_cl_det, lambda df: df[df['CELL_LINE_ID'].notnull()], \n",
    "    subset_op='Remove records with null common cell line ID'\n",
    ")\n",
    "\n",
    "d_cl_det = convert_ids_to_string(d_cl_det)\n",
    "\n",
    "# Ensure that identifiers never conflict\n",
    "assert d_cl_det.groupby('CELL_LINE_ID')['CELL_LINE_ID:COSMIC'].nunique().max() == 1\n",
    "assert d_cl_det.groupby('CELL_LINE_ID:COSMIC')['CELL_LINE_ID'].nunique().max() == 1\n",
    "\n",
    "# Ensure no cell lines are repeated\n",
    "assert d_cl_det['CELL_LINE_ID'].value_counts().max() == 1\n",
    "\n",
    "d_cl_det.info()"
   ]
  },
  {
   "cell_type": "code",
   "execution_count": 7,
   "metadata": {
    "collapsed": false
   },
   "outputs": [
    {
     "data": {
      "text/html": [
       "<div>\n",
       "<table border=\"1\" class=\"dataframe\">\n",
       "  <thead>\n",
       "    <tr style=\"text-align: right;\">\n",
       "      <th></th>\n",
       "      <th>CELL_LINE_ID</th>\n",
       "      <th>CELL_LINE_ID:COSMIC</th>\n",
       "      <th>WHOLE_EXOME_SEQUENCING</th>\n",
       "      <th>COPY_NUMBER_ALTERATIONS</th>\n",
       "      <th>GENE_EXPRESSION</th>\n",
       "      <th>METHYLATION</th>\n",
       "      <th>DRUGRESPONSE</th>\n",
       "      <th>GDSC_TISSUE_DESCRIPTOR_1</th>\n",
       "      <th>GDSC_TISSUE_DESCRIPTOR_2</th>\n",
       "      <th>CANCER_TYPE</th>\n",
       "      <th>MICROSATELLITE_INSTABILITY_STATUS</th>\n",
       "      <th>SCREEN_MEDIUM</th>\n",
       "      <th>GROWTH_PROPERTIES</th>\n",
       "    </tr>\n",
       "  </thead>\n",
       "  <tbody>\n",
       "    <tr>\n",
       "      <th>0</th>\n",
       "      <td>A253</td>\n",
       "      <td>906794</td>\n",
       "      <td>Y</td>\n",
       "      <td>Y</td>\n",
       "      <td>Y</td>\n",
       "      <td>Y</td>\n",
       "      <td>Y</td>\n",
       "      <td>aero_dig_tract</td>\n",
       "      <td>head and neck</td>\n",
       "      <td>NaN</td>\n",
       "      <td>MSS/MSI-L</td>\n",
       "      <td>D/F12</td>\n",
       "      <td>Adherent</td>\n",
       "    </tr>\n",
       "    <tr>\n",
       "      <th>1</th>\n",
       "      <td>BB30-HNC</td>\n",
       "      <td>753531</td>\n",
       "      <td>Y</td>\n",
       "      <td>Y</td>\n",
       "      <td>Y</td>\n",
       "      <td>Y</td>\n",
       "      <td>Y</td>\n",
       "      <td>aero_dig_tract</td>\n",
       "      <td>head and neck</td>\n",
       "      <td>HNSC</td>\n",
       "      <td>MSS/MSI-L</td>\n",
       "      <td>D/F12</td>\n",
       "      <td>Adherent</td>\n",
       "    </tr>\n",
       "    <tr>\n",
       "      <th>2</th>\n",
       "      <td>BB49-HNC</td>\n",
       "      <td>753532</td>\n",
       "      <td>Y</td>\n",
       "      <td>Y</td>\n",
       "      <td>Y</td>\n",
       "      <td>Y</td>\n",
       "      <td>Y</td>\n",
       "      <td>aero_dig_tract</td>\n",
       "      <td>head and neck</td>\n",
       "      <td>HNSC</td>\n",
       "      <td>MSS/MSI-L</td>\n",
       "      <td>D/F12</td>\n",
       "      <td>Adherent</td>\n",
       "    </tr>\n",
       "    <tr>\n",
       "      <th>3</th>\n",
       "      <td>BHY</td>\n",
       "      <td>753535</td>\n",
       "      <td>Y</td>\n",
       "      <td>Y</td>\n",
       "      <td>Y</td>\n",
       "      <td>Y</td>\n",
       "      <td>Y</td>\n",
       "      <td>aero_dig_tract</td>\n",
       "      <td>head and neck</td>\n",
       "      <td>HNSC</td>\n",
       "      <td>MSS/MSI-L</td>\n",
       "      <td>D/F12</td>\n",
       "      <td>Adherent</td>\n",
       "    </tr>\n",
       "    <tr>\n",
       "      <th>4</th>\n",
       "      <td>BICR10</td>\n",
       "      <td>1290724</td>\n",
       "      <td>Y</td>\n",
       "      <td>Y</td>\n",
       "      <td>Y</td>\n",
       "      <td>Y</td>\n",
       "      <td>Y</td>\n",
       "      <td>aero_dig_tract</td>\n",
       "      <td>head and neck</td>\n",
       "      <td>HNSC</td>\n",
       "      <td>MSS/MSI-L</td>\n",
       "      <td>D/F12</td>\n",
       "      <td>Adherent</td>\n",
       "    </tr>\n",
       "  </tbody>\n",
       "</table>\n",
       "</div>"
      ],
      "text/plain": [
       "  CELL_LINE_ID CELL_LINE_ID:COSMIC WHOLE_EXOME_SEQUENCING  \\\n",
       "0         A253              906794                      Y   \n",
       "1     BB30-HNC              753531                      Y   \n",
       "2     BB49-HNC              753532                      Y   \n",
       "3          BHY              753535                      Y   \n",
       "4       BICR10             1290724                      Y   \n",
       "\n",
       "  COPY_NUMBER_ALTERATIONS GENE_EXPRESSION METHYLATION DRUGRESPONSE  \\\n",
       "0                       Y               Y           Y            Y   \n",
       "1                       Y               Y           Y            Y   \n",
       "2                       Y               Y           Y            Y   \n",
       "3                       Y               Y           Y            Y   \n",
       "4                       Y               Y           Y            Y   \n",
       "\n",
       "  GDSC_TISSUE_DESCRIPTOR_1 GDSC_TISSUE_DESCRIPTOR_2 CANCER_TYPE  \\\n",
       "0           aero_dig_tract            head and neck         NaN   \n",
       "1           aero_dig_tract            head and neck        HNSC   \n",
       "2           aero_dig_tract            head and neck        HNSC   \n",
       "3           aero_dig_tract            head and neck        HNSC   \n",
       "4           aero_dig_tract            head and neck        HNSC   \n",
       "\n",
       "  MICROSATELLITE_INSTABILITY_STATUS SCREEN_MEDIUM GROWTH_PROPERTIES  \n",
       "0                         MSS/MSI-L         D/F12          Adherent  \n",
       "1                         MSS/MSI-L         D/F12          Adherent  \n",
       "2                         MSS/MSI-L         D/F12          Adherent  \n",
       "3                         MSS/MSI-L         D/F12          Adherent  \n",
       "4                         MSS/MSI-L         D/F12          Adherent  "
      ]
     },
     "execution_count": 7,
     "metadata": {},
     "output_type": "execute_result"
    }
   ],
   "source": [
    "d_cl_det.head()"
   ]
  },
  {
   "cell_type": "markdown",
   "metadata": {},
   "source": [
    "## Prepare Tissue Metadata"
   ]
  },
  {
   "cell_type": "code",
   "execution_count": 8,
   "metadata": {
    "collapsed": false
   },
   "outputs": [
    {
     "name": "stdout",
     "output_type": "stream",
     "text": [
      "<class 'pandas.core.frame.DataFrame'>\n",
      "RangeIndex: 1029 entries, 0 to 1028\n",
      "Data columns (total 4 columns):\n",
      "Line         1029 non-null object\n",
      "COSMIC_ID    1029 non-null int64\n",
      "Site         1029 non-null object\n",
      "Histology    1029 non-null object\n",
      "dtypes: int64(1), object(3)\n",
      "memory usage: 32.2+ KB\n"
     ]
    }
   ],
   "source": [
    "d_cl_tis = d['COSMIC tissue classification']\n",
    "d_cl_tis = d_cl_tis.rename(columns=lambda c: c.replace('\\n', ''))\n",
    "d_cl_tis.info()"
   ]
  },
  {
   "cell_type": "code",
   "execution_count": 9,
   "metadata": {
    "collapsed": false
   },
   "outputs": [
    {
     "name": "stdout",
     "output_type": "stream",
     "text": [
      "<class 'pandas.core.frame.DataFrame'>\n",
      "RangeIndex: 1029 entries, 0 to 1028\n",
      "Data columns (total 4 columns):\n",
      "CELL_LINE_ID           1029 non-null object\n",
      "CELL_LINE_ID:COSMIC    1029 non-null object\n",
      "PRIMARY_SITE           1029 non-null object\n",
      "HISTOLOGY              1029 non-null object\n",
      "dtypes: object(4)\n",
      "memory usage: 32.2+ KB\n"
     ]
    }
   ],
   "source": [
    "# Rename fields to conform to other datasets\n",
    "d_cl_tis = d_cl_tis.rename(columns={\n",
    "    'Line': 'CELL_LINE_ID', \n",
    "    'COSMIC_ID': 'CELL_LINE_ID:COSMIC',\n",
    "    'Site': 'PRIMARY_SITE', \n",
    "    'Histology': 'HISTOLOGY'\n",
    "})\n",
    "\n",
    "# Convert identifiers to strings\n",
    "d_cl_tis = convert_ids_to_string(d_cl_tis)\n",
    "\n",
    "# Ensure that identifiers never conflict\n",
    "assert d_cl_tis.groupby('CELL_LINE_ID')['CELL_LINE_ID:COSMIC'].nunique().max() == 1\n",
    "assert d_cl_tis.groupby('CELL_LINE_ID:COSMIC')['CELL_LINE_ID'].nunique().max() == 1\n",
    "\n",
    "# Ensure no cell lines are repeated\n",
    "assert d_cl_tis['CELL_LINE_ID'].value_counts().max() == 1\n",
    "\n",
    "d_cl_tis.info()"
   ]
  },
  {
   "cell_type": "markdown",
   "metadata": {},
   "source": [
    "## Merge Metadata"
   ]
  },
  {
   "cell_type": "code",
   "execution_count": 10,
   "metadata": {
    "collapsed": false
   },
   "outputs": [
    {
     "name": "stdout",
     "output_type": "stream",
     "text": [
      "<class 'pandas.core.frame.DataFrame'>\n",
      "Int64Index: 1034 entries, 0 to 1033\n",
      "Data columns (total 16 columns):\n",
      "CELL_LINE_ID                         1034 non-null object\n",
      "CELL_LINE_ID:COSMIC                  1034 non-null object\n",
      "WHOLE_EXOME_SEQUENCING               1001 non-null object\n",
      "COPY_NUMBER_ALTERATIONS              1001 non-null object\n",
      "GENE_EXPRESSION                      1001 non-null object\n",
      "METHYLATION                          1001 non-null object\n",
      "DRUGRESPONSE                         1001 non-null object\n",
      "GDSC_TISSUE_DESCRIPTOR_1             1001 non-null object\n",
      "GDSC_TISSUE_DESCRIPTOR_2             1001 non-null object\n",
      "CANCER_TYPE                          826 non-null object\n",
      "MICROSATELLITE_INSTABILITY_STATUS    986 non-null object\n",
      "SCREEN_MEDIUM                        1001 non-null object\n",
      "GROWTH_PROPERTIES                    999 non-null object\n",
      "PRIMARY_SITE                         1029 non-null object\n",
      "HISTOLOGY                            1029 non-null object\n",
      "PROPERTIES                           1034 non-null object\n",
      "dtypes: object(16)\n",
      "memory usage: 137.3+ KB\n"
     ]
    }
   ],
   "source": [
    "d_cl = pd.merge(\n",
    "    d_cl_det.assign(ID1=np.arange(len(d_cl_det))), \n",
    "    d_cl_tis.assign(ID2=np.arange(len(d_cl_tis))), \n",
    "    on=['CELL_LINE_ID', 'CELL_LINE_ID:COSMIC'], how='outer'\n",
    ")\n",
    "\n",
    "# Comment this out to make it more clear which records are joining \n",
    "# between the two datasets\n",
    "d_cl = d_cl.drop(['ID1', 'ID2'], axis=1)\n",
    "\n",
    "# Add generic properties map with more source-specific metadata\n",
    "c_detail = ['CANCER_TYPE', 'HISTOLOGY', 'GDSC_TISSUE_DESCRIPTOR_1', 'GDSC_TISSUE_DESCRIPTOR_2']\n",
    "d_cl['PROPERTIES'] = d_cl[c_detail].apply(lambda r: r.to_dict(), axis=1)\n",
    "\n",
    "d_cl.info()"
   ]
  },
  {
   "cell_type": "code",
   "execution_count": 12,
   "metadata": {
    "collapsed": false
   },
   "outputs": [
    {
     "data": {
      "text/plain": [
       "lung_NSCLC_adenocarcinoma    67\n",
       "lung_small_cell_carcinoma    66\n",
       "melanoma                     55\n",
       "glioma                       53\n",
       "breast                       52\n",
       "Name: GDSC_TISSUE_DESCRIPTOR_2, dtype: int64"
      ]
     },
     "execution_count": 12,
     "metadata": {},
     "output_type": "execute_result"
    }
   ],
   "source": [
    "d_cl['GDSC_TISSUE_DESCRIPTOR_2'].value_counts().head()"
   ]
  },
  {
   "cell_type": "code",
   "execution_count": 13,
   "metadata": {
    "collapsed": false
   },
   "outputs": [
    {
     "data": {
      "text/plain": [
       "carcinoma                  595\n",
       "lymphoid_neoplasm          131\n",
       "malignant_melanoma          57\n",
       "glioma                      54\n",
       "haematopoietic_neoplasm     44\n",
       "Name: HISTOLOGY, dtype: int64"
      ]
     },
     "execution_count": 13,
     "metadata": {},
     "output_type": "execute_result"
    }
   ],
   "source": [
    "d_cl['HISTOLOGY'].value_counts().head()"
   ]
  },
  {
   "cell_type": "code",
   "execution_count": 14,
   "metadata": {
    "collapsed": false
   },
   "outputs": [
    {
     "data": {
      "text/plain": [
       "SCLC                  66\n",
       "LUAD                  64\n",
       "SKCM                  55\n",
       "BRCA                  51\n",
       "COAD/READ             51\n",
       "HNSC                  42\n",
       "GBM                   36\n",
       "DLBC                  35\n",
       "ESCA                  35\n",
       "OV                    34\n",
       "KIRC                  32\n",
       "NB                    32\n",
       "PAAD                  30\n",
       "LAML                  28\n",
       "ALL                   26\n",
       "STAD                  25\n",
       "MESO                  21\n",
       "BLCA                  19\n",
       "MM                    18\n",
       "LGG                   17\n",
       "LIHC                  17\n",
       "THCA                  16\n",
       "LUSC                  15\n",
       "CESC                  14\n",
       "UNABLE TO CLASSIFY    14\n",
       "LCML                  10\n",
       "UCEC                   9\n",
       "PRAD                   6\n",
       "MB                     4\n",
       "CLL                    3\n",
       "ACC                    1\n",
       "Name: CANCER_TYPE, dtype: int64"
      ]
     },
     "execution_count": 14,
     "metadata": {},
     "output_type": "execute_result"
    }
   ],
   "source": [
    "d_cl['CANCER_TYPE'].value_counts()"
   ]
  },
  {
   "cell_type": "code",
   "execution_count": 15,
   "metadata": {
    "collapsed": false
   },
   "outputs": [
    {
     "data": {
      "text/plain": [
       "lung                                  179\n",
       "haematopoietic_and_lymphoid_tissue    175\n",
       "skin                                   62\n",
       "central_nervous_system                 58\n",
       "large_intestine                        56\n",
       "breast                                 52\n",
       "ovary                                  45\n",
       "bone                                   44\n",
       "upper_aerodigestive_tract              43\n",
       "oesophagus                             36\n",
       "autonomic_ganglia                      34\n",
       "kidney                                 33\n",
       "pancreas                               32\n",
       "stomach                                29\n",
       "soft_tissue                            23\n",
       "pleura                                 21\n",
       "urinary_tract                          20\n",
       "liver                                  17\n",
       "thyroid                                16\n",
       "cervix                                 14\n",
       "endometrium                            11\n",
       "prostate                                8\n",
       "biliary_tract                           5\n",
       "NS                                      4\n",
       "testis                                  3\n",
       "vulva                                   3\n",
       "placenta                                2\n",
       "salivary_gland                          2\n",
       "small_intestine                         1\n",
       "adrenal_gland                           1\n",
       "Name: PRIMARY_SITE, dtype: int64"
      ]
     },
     "execution_count": 15,
     "metadata": {},
     "output_type": "execute_result"
    }
   ],
   "source": [
    "d_cl['PRIMARY_SITE'].value_counts()"
   ]
  },
  {
   "cell_type": "markdown",
   "metadata": {},
   "source": [
    "## Resolve Duplicate Cell Line IDs"
   ]
  },
  {
   "cell_type": "code",
   "execution_count": 16,
   "metadata": {
    "collapsed": false
   },
   "outputs": [
    {
     "data": {
      "text/html": [
       "<div>\n",
       "<table border=\"1\" class=\"dataframe\">\n",
       "  <thead>\n",
       "    <tr style=\"text-align: right;\">\n",
       "      <th></th>\n",
       "      <th>CELL_LINE_ID</th>\n",
       "      <th>CELL_LINE_ID:COSMIC</th>\n",
       "      <th>WHOLE_EXOME_SEQUENCING</th>\n",
       "      <th>COPY_NUMBER_ALTERATIONS</th>\n",
       "      <th>GENE_EXPRESSION</th>\n",
       "      <th>METHYLATION</th>\n",
       "      <th>DRUGRESPONSE</th>\n",
       "      <th>GDSC_TISSUE_DESCRIPTOR_1</th>\n",
       "      <th>GDSC_TISSUE_DESCRIPTOR_2</th>\n",
       "      <th>CANCER_TYPE</th>\n",
       "      <th>MICROSATELLITE_INSTABILITY_STATUS</th>\n",
       "      <th>SCREEN_MEDIUM</th>\n",
       "      <th>GROWTH_PROPERTIES</th>\n",
       "      <th>PRIMARY_SITE</th>\n",
       "      <th>HISTOLOGY</th>\n",
       "      <th>PROPERTIES</th>\n",
       "    </tr>\n",
       "  </thead>\n",
       "  <tbody>\n",
       "    <tr>\n",
       "      <th>372</th>\n",
       "      <td>Hep 3B2_1-7</td>\n",
       "      <td>1240147</td>\n",
       "      <td>Y</td>\n",
       "      <td>Y</td>\n",
       "      <td>Y</td>\n",
       "      <td>Y</td>\n",
       "      <td>Y</td>\n",
       "      <td>digestive_system</td>\n",
       "      <td>liver</td>\n",
       "      <td>LIHC</td>\n",
       "      <td>MSS/MSI-L</td>\n",
       "      <td>D/F12</td>\n",
       "      <td>Adherent</td>\n",
       "      <td>NaN</td>\n",
       "      <td>NaN</td>\n",
       "      <td>{'HISTOLOGY': nan, 'GDSC_TISSUE_DESCRIPTOR_1':...</td>\n",
       "    </tr>\n",
       "    <tr>\n",
       "      <th>1021</th>\n",
       "      <td>Hep_3B2_1-7</td>\n",
       "      <td>1240147</td>\n",
       "      <td>NaN</td>\n",
       "      <td>NaN</td>\n",
       "      <td>NaN</td>\n",
       "      <td>NaN</td>\n",
       "      <td>NaN</td>\n",
       "      <td>NaN</td>\n",
       "      <td>NaN</td>\n",
       "      <td>NaN</td>\n",
       "      <td>NaN</td>\n",
       "      <td>NaN</td>\n",
       "      <td>NaN</td>\n",
       "      <td>NS</td>\n",
       "      <td>NS</td>\n",
       "      <td>{'HISTOLOGY': 'NS', 'GDSC_TISSUE_DESCRIPTOR_1'...</td>\n",
       "    </tr>\n",
       "    <tr>\n",
       "      <th>948</th>\n",
       "      <td>PC-3 [JPC-3]</td>\n",
       "      <td>1240202</td>\n",
       "      <td>Y</td>\n",
       "      <td>Y</td>\n",
       "      <td>Y</td>\n",
       "      <td>N</td>\n",
       "      <td>Y</td>\n",
       "      <td>lung_NSCLC</td>\n",
       "      <td>lung_NSCLC_adenocarcinoma</td>\n",
       "      <td>LUAD</td>\n",
       "      <td>MSS/MSI-L</td>\n",
       "      <td>D/F12</td>\n",
       "      <td>Adherent</td>\n",
       "      <td>NaN</td>\n",
       "      <td>NaN</td>\n",
       "      <td>{'HISTOLOGY': nan, 'GDSC_TISSUE_DESCRIPTOR_1':...</td>\n",
       "    </tr>\n",
       "    <tr>\n",
       "      <th>1012</th>\n",
       "      <td>PC-3_[JPC-3]</td>\n",
       "      <td>1240202</td>\n",
       "      <td>NaN</td>\n",
       "      <td>NaN</td>\n",
       "      <td>NaN</td>\n",
       "      <td>NaN</td>\n",
       "      <td>NaN</td>\n",
       "      <td>NaN</td>\n",
       "      <td>NaN</td>\n",
       "      <td>NaN</td>\n",
       "      <td>NaN</td>\n",
       "      <td>NaN</td>\n",
       "      <td>NaN</td>\n",
       "      <td>lung</td>\n",
       "      <td>carcinoma</td>\n",
       "      <td>{'HISTOLOGY': 'carcinoma', 'GDSC_TISSUE_DESCRI...</td>\n",
       "    </tr>\n",
       "    <tr>\n",
       "      <th>261</th>\n",
       "      <td>G-292 Clone A141B1</td>\n",
       "      <td>1290807</td>\n",
       "      <td>Y</td>\n",
       "      <td>Y</td>\n",
       "      <td>Y</td>\n",
       "      <td>Y</td>\n",
       "      <td>Y</td>\n",
       "      <td>bone</td>\n",
       "      <td>osteosarcoma</td>\n",
       "      <td>NaN</td>\n",
       "      <td>MSS/MSI-L</td>\n",
       "      <td>R</td>\n",
       "      <td>Adherent</td>\n",
       "      <td>NaN</td>\n",
       "      <td>NaN</td>\n",
       "      <td>{'HISTOLOGY': nan, 'GDSC_TISSUE_DESCRIPTOR_1':...</td>\n",
       "    </tr>\n",
       "    <tr>\n",
       "      <th>1010</th>\n",
       "      <td>G-292_Clone_A141B1</td>\n",
       "      <td>1290807</td>\n",
       "      <td>NaN</td>\n",
       "      <td>NaN</td>\n",
       "      <td>NaN</td>\n",
       "      <td>NaN</td>\n",
       "      <td>NaN</td>\n",
       "      <td>NaN</td>\n",
       "      <td>NaN</td>\n",
       "      <td>NaN</td>\n",
       "      <td>NaN</td>\n",
       "      <td>NaN</td>\n",
       "      <td>NaN</td>\n",
       "      <td>bone</td>\n",
       "      <td>osteosarcoma</td>\n",
       "      <td>{'HISTOLOGY': 'osteosarcoma', 'GDSC_TISSUE_DES...</td>\n",
       "    </tr>\n",
       "    <tr>\n",
       "      <th>911</th>\n",
       "      <td>UWB1.289</td>\n",
       "      <td>1480374</td>\n",
       "      <td>Y</td>\n",
       "      <td>Y</td>\n",
       "      <td>Y</td>\n",
       "      <td>Y</td>\n",
       "      <td>Y</td>\n",
       "      <td>urogenital_system</td>\n",
       "      <td>ovary</td>\n",
       "      <td>OV</td>\n",
       "      <td>MSS/MSI-L</td>\n",
       "      <td>D/F12</td>\n",
       "      <td>Adherent</td>\n",
       "      <td>NaN</td>\n",
       "      <td>NaN</td>\n",
       "      <td>{'HISTOLOGY': nan, 'GDSC_TISSUE_DESCRIPTOR_1':...</td>\n",
       "    </tr>\n",
       "    <tr>\n",
       "      <th>1032</th>\n",
       "      <td>UWB1_289</td>\n",
       "      <td>1480374</td>\n",
       "      <td>NaN</td>\n",
       "      <td>NaN</td>\n",
       "      <td>NaN</td>\n",
       "      <td>NaN</td>\n",
       "      <td>NaN</td>\n",
       "      <td>NaN</td>\n",
       "      <td>NaN</td>\n",
       "      <td>NaN</td>\n",
       "      <td>NaN</td>\n",
       "      <td>NaN</td>\n",
       "      <td>NaN</td>\n",
       "      <td>ovary</td>\n",
       "      <td>carcinoma</td>\n",
       "      <td>{'HISTOLOGY': 'carcinoma', 'GDSC_TISSUE_DESCRI...</td>\n",
       "    </tr>\n",
       "    <tr>\n",
       "      <th>921</th>\n",
       "      <td>NTERA-2 cl.D1</td>\n",
       "      <td>908454</td>\n",
       "      <td>Y</td>\n",
       "      <td>Y</td>\n",
       "      <td>Y</td>\n",
       "      <td>Y</td>\n",
       "      <td>Y</td>\n",
       "      <td>urogenital_system</td>\n",
       "      <td>testis</td>\n",
       "      <td>NaN</td>\n",
       "      <td>MSS/MSI-L</td>\n",
       "      <td>D/F12</td>\n",
       "      <td>Adherent</td>\n",
       "      <td>NaN</td>\n",
       "      <td>NaN</td>\n",
       "      <td>{'HISTOLOGY': nan, 'GDSC_TISSUE_DESCRIPTOR_1':...</td>\n",
       "    </tr>\n",
       "    <tr>\n",
       "      <th>1022</th>\n",
       "      <td>NTERA-2_cl_D1</td>\n",
       "      <td>908454</td>\n",
       "      <td>NaN</td>\n",
       "      <td>NaN</td>\n",
       "      <td>NaN</td>\n",
       "      <td>NaN</td>\n",
       "      <td>NaN</td>\n",
       "      <td>NaN</td>\n",
       "      <td>NaN</td>\n",
       "      <td>NaN</td>\n",
       "      <td>NaN</td>\n",
       "      <td>NaN</td>\n",
       "      <td>NaN</td>\n",
       "      <td>testis</td>\n",
       "      <td>germ_cell_tumour</td>\n",
       "      <td>{'HISTOLOGY': 'germ_cell_tumour', 'GDSC_TISSUE...</td>\n",
       "    </tr>\n",
       "  </tbody>\n",
       "</table>\n",
       "</div>"
      ],
      "text/plain": [
       "            CELL_LINE_ID CELL_LINE_ID:COSMIC WHOLE_EXOME_SEQUENCING  \\\n",
       "372          Hep 3B2_1-7             1240147                      Y   \n",
       "1021         Hep_3B2_1-7             1240147                    NaN   \n",
       "948         PC-3 [JPC-3]             1240202                      Y   \n",
       "1012        PC-3_[JPC-3]             1240202                    NaN   \n",
       "261   G-292 Clone A141B1             1290807                      Y   \n",
       "1010  G-292_Clone_A141B1             1290807                    NaN   \n",
       "911             UWB1.289             1480374                      Y   \n",
       "1032            UWB1_289             1480374                    NaN   \n",
       "921        NTERA-2 cl.D1              908454                      Y   \n",
       "1022       NTERA-2_cl_D1              908454                    NaN   \n",
       "\n",
       "     COPY_NUMBER_ALTERATIONS GENE_EXPRESSION METHYLATION DRUGRESPONSE  \\\n",
       "372                        Y               Y           Y            Y   \n",
       "1021                     NaN             NaN         NaN          NaN   \n",
       "948                        Y               Y           N            Y   \n",
       "1012                     NaN             NaN         NaN          NaN   \n",
       "261                        Y               Y           Y            Y   \n",
       "1010                     NaN             NaN         NaN          NaN   \n",
       "911                        Y               Y           Y            Y   \n",
       "1032                     NaN             NaN         NaN          NaN   \n",
       "921                        Y               Y           Y            Y   \n",
       "1022                     NaN             NaN         NaN          NaN   \n",
       "\n",
       "     GDSC_TISSUE_DESCRIPTOR_1   GDSC_TISSUE_DESCRIPTOR_2 CANCER_TYPE  \\\n",
       "372          digestive_system                      liver        LIHC   \n",
       "1021                      NaN                        NaN         NaN   \n",
       "948                lung_NSCLC  lung_NSCLC_adenocarcinoma        LUAD   \n",
       "1012                      NaN                        NaN         NaN   \n",
       "261                      bone               osteosarcoma         NaN   \n",
       "1010                      NaN                        NaN         NaN   \n",
       "911         urogenital_system                      ovary          OV   \n",
       "1032                      NaN                        NaN         NaN   \n",
       "921         urogenital_system                     testis         NaN   \n",
       "1022                      NaN                        NaN         NaN   \n",
       "\n",
       "     MICROSATELLITE_INSTABILITY_STATUS SCREEN_MEDIUM GROWTH_PROPERTIES  \\\n",
       "372                          MSS/MSI-L         D/F12          Adherent   \n",
       "1021                               NaN           NaN               NaN   \n",
       "948                          MSS/MSI-L         D/F12          Adherent   \n",
       "1012                               NaN           NaN               NaN   \n",
       "261                          MSS/MSI-L             R          Adherent   \n",
       "1010                               NaN           NaN               NaN   \n",
       "911                          MSS/MSI-L         D/F12          Adherent   \n",
       "1032                               NaN           NaN               NaN   \n",
       "921                          MSS/MSI-L         D/F12          Adherent   \n",
       "1022                               NaN           NaN               NaN   \n",
       "\n",
       "     PRIMARY_SITE         HISTOLOGY  \\\n",
       "372           NaN               NaN   \n",
       "1021           NS                NS   \n",
       "948           NaN               NaN   \n",
       "1012         lung         carcinoma   \n",
       "261           NaN               NaN   \n",
       "1010         bone      osteosarcoma   \n",
       "911           NaN               NaN   \n",
       "1032        ovary         carcinoma   \n",
       "921           NaN               NaN   \n",
       "1022       testis  germ_cell_tumour   \n",
       "\n",
       "                                             PROPERTIES  \n",
       "372   {'HISTOLOGY': nan, 'GDSC_TISSUE_DESCRIPTOR_1':...  \n",
       "1021  {'HISTOLOGY': 'NS', 'GDSC_TISSUE_DESCRIPTOR_1'...  \n",
       "948   {'HISTOLOGY': nan, 'GDSC_TISSUE_DESCRIPTOR_1':...  \n",
       "1012  {'HISTOLOGY': 'carcinoma', 'GDSC_TISSUE_DESCRI...  \n",
       "261   {'HISTOLOGY': nan, 'GDSC_TISSUE_DESCRIPTOR_1':...  \n",
       "1010  {'HISTOLOGY': 'osteosarcoma', 'GDSC_TISSUE_DES...  \n",
       "911   {'HISTOLOGY': nan, 'GDSC_TISSUE_DESCRIPTOR_1':...  \n",
       "1032  {'HISTOLOGY': 'carcinoma', 'GDSC_TISSUE_DESCRI...  \n",
       "921   {'HISTOLOGY': nan, 'GDSC_TISSUE_DESCRIPTOR_1':...  \n",
       "1022  {'HISTOLOGY': 'germ_cell_tumour', 'GDSC_TISSUE...  "
      ]
     },
     "execution_count": 16,
     "metadata": {},
     "output_type": "execute_result"
    }
   ],
   "source": [
    "cts = d_cl['CELL_LINE_ID:COSMIC'].value_counts()\n",
    "d_cl[d_cl['CELL_LINE_ID:COSMIC'].isin(cts[cts>1].index.values)].sort_values('CELL_LINE_ID:COSMIC')"
   ]
  },
  {
   "cell_type": "code",
   "execution_count": 17,
   "metadata": {
    "collapsed": false
   },
   "outputs": [
    {
     "name": "stdout",
     "output_type": "stream",
     "text": [
      "[Remove bad cell line duplicates] Records before = 1034, Records after = 1029, Records removed = 5 (%0.48)\n"
     ]
    }
   ],
   "source": [
    "rm_cl = ['Hep_3B2_1-7', 'PC-3_[JPC-3]', 'G-292_Clone_A141B1', 'UWB1_289', 'NTERA-2_cl_D1']\n",
    "n_before = len(d_cl)\n",
    "d_cl = subset(d_cl, lambda df: df[~df['CELL_LINE_ID'].isin(rm_cl)], subset_op='Remove bad cell line duplicates')\n",
    "assert d_cl['CELL_LINE_ID:COSMIC'].value_counts().max() == 1\n",
    "assert d_cl['CELL_LINE_ID'].value_counts().max() == 1\n",
    "assert len(d_cl) == n_before - len(rm_cl)"
   ]
  },
  {
   "cell_type": "code",
   "execution_count": 18,
   "metadata": {
    "collapsed": false
   },
   "outputs": [
    {
     "data": {
      "text/html": [
       "<div>\n",
       "<table border=\"1\" class=\"dataframe\">\n",
       "  <thead>\n",
       "    <tr style=\"text-align: right;\">\n",
       "      <th></th>\n",
       "      <th>CELL_LINE_ID</th>\n",
       "      <th>CELL_LINE_ID:COSMIC</th>\n",
       "      <th>WHOLE_EXOME_SEQUENCING</th>\n",
       "      <th>COPY_NUMBER_ALTERATIONS</th>\n",
       "      <th>GENE_EXPRESSION</th>\n",
       "      <th>METHYLATION</th>\n",
       "      <th>DRUGRESPONSE</th>\n",
       "      <th>GDSC_TISSUE_DESCRIPTOR_1</th>\n",
       "      <th>GDSC_TISSUE_DESCRIPTOR_2</th>\n",
       "      <th>CANCER_TYPE</th>\n",
       "      <th>MICROSATELLITE_INSTABILITY_STATUS</th>\n",
       "      <th>SCREEN_MEDIUM</th>\n",
       "      <th>GROWTH_PROPERTIES</th>\n",
       "      <th>PRIMARY_SITE</th>\n",
       "      <th>HISTOLOGY</th>\n",
       "      <th>PROPERTIES</th>\n",
       "    </tr>\n",
       "  </thead>\n",
       "  <tbody>\n",
       "    <tr>\n",
       "      <th>76</th>\n",
       "      <td>T-T</td>\n",
       "      <td>1299064</td>\n",
       "      <td>Y</td>\n",
       "      <td>Y</td>\n",
       "      <td>Y</td>\n",
       "      <td>Y</td>\n",
       "      <td>Y</td>\n",
       "      <td>aero_dig_tract</td>\n",
       "      <td>oesophagus</td>\n",
       "      <td>ESCA</td>\n",
       "      <td>MSS/MSI-L</td>\n",
       "      <td>D/F12</td>\n",
       "      <td>Adherent</td>\n",
       "      <td>oesophagus</td>\n",
       "      <td>carcinoma</td>\n",
       "      <td>{'HISTOLOGY': 'carcinoma', 'GDSC_TISSUE_DESCRI...</td>\n",
       "    </tr>\n",
       "    <tr>\n",
       "      <th>828</th>\n",
       "      <td>TT</td>\n",
       "      <td>930299</td>\n",
       "      <td>Y</td>\n",
       "      <td>Y</td>\n",
       "      <td>Y</td>\n",
       "      <td>Y</td>\n",
       "      <td>Y</td>\n",
       "      <td>thyroid</td>\n",
       "      <td>thyroid</td>\n",
       "      <td>THCA</td>\n",
       "      <td>MSS/MSI-L</td>\n",
       "      <td>D/F12</td>\n",
       "      <td>Adherent</td>\n",
       "      <td>thyroid</td>\n",
       "      <td>carcinoma</td>\n",
       "      <td>{'HISTOLOGY': 'carcinoma', 'GDSC_TISSUE_DESCRI...</td>\n",
       "    </tr>\n",
       "  </tbody>\n",
       "</table>\n",
       "</div>"
      ],
      "text/plain": [
       "    CELL_LINE_ID CELL_LINE_ID:COSMIC WHOLE_EXOME_SEQUENCING  \\\n",
       "76           T-T             1299064                      Y   \n",
       "828           TT              930299                      Y   \n",
       "\n",
       "    COPY_NUMBER_ALTERATIONS GENE_EXPRESSION METHYLATION DRUGRESPONSE  \\\n",
       "76                        Y               Y           Y            Y   \n",
       "828                       Y               Y           Y            Y   \n",
       "\n",
       "    GDSC_TISSUE_DESCRIPTOR_1 GDSC_TISSUE_DESCRIPTOR_2 CANCER_TYPE  \\\n",
       "76            aero_dig_tract               oesophagus        ESCA   \n",
       "828                  thyroid                  thyroid        THCA   \n",
       "\n",
       "    MICROSATELLITE_INSTABILITY_STATUS SCREEN_MEDIUM GROWTH_PROPERTIES  \\\n",
       "76                          MSS/MSI-L         D/F12          Adherent   \n",
       "828                         MSS/MSI-L         D/F12          Adherent   \n",
       "\n",
       "    PRIMARY_SITE  HISTOLOGY                                         PROPERTIES  \n",
       "76    oesophagus  carcinoma  {'HISTOLOGY': 'carcinoma', 'GDSC_TISSUE_DESCRI...  \n",
       "828      thyroid  carcinoma  {'HISTOLOGY': 'carcinoma', 'GDSC_TISSUE_DESCRI...  "
      ]
     },
     "execution_count": 18,
     "metadata": {},
     "output_type": "execute_result"
    }
   ],
   "source": [
    "# The \"TT\" cell lines\n",
    "d_cl[d_cl['CELL_LINE_ID:COSMIC'].isin(['1299064', '930299'])]"
   ]
  },
  {
   "cell_type": "code",
   "execution_count": 19,
   "metadata": {
    "collapsed": false
   },
   "outputs": [
    {
     "data": {
      "text/html": [
       "<div>\n",
       "<table border=\"1\" class=\"dataframe\">\n",
       "  <thead>\n",
       "    <tr style=\"text-align: right;\">\n",
       "      <th></th>\n",
       "      <th>CELL_LINE_ID</th>\n",
       "      <th>CELL_LINE_ID:COSMIC</th>\n",
       "      <th>WHOLE_EXOME_SEQUENCING</th>\n",
       "      <th>COPY_NUMBER_ALTERATIONS</th>\n",
       "      <th>GENE_EXPRESSION</th>\n",
       "      <th>METHYLATION</th>\n",
       "      <th>DRUGRESPONSE</th>\n",
       "      <th>GDSC_TISSUE_DESCRIPTOR_1</th>\n",
       "      <th>GDSC_TISSUE_DESCRIPTOR_2</th>\n",
       "      <th>CANCER_TYPE</th>\n",
       "      <th>MICROSATELLITE_INSTABILITY_STATUS</th>\n",
       "      <th>SCREEN_MEDIUM</th>\n",
       "      <th>GROWTH_PROPERTIES</th>\n",
       "      <th>PRIMARY_SITE</th>\n",
       "      <th>HISTOLOGY</th>\n",
       "      <th>PROPERTIES</th>\n",
       "    </tr>\n",
       "  </thead>\n",
       "  <tbody>\n",
       "    <tr>\n",
       "      <th>180</th>\n",
       "      <td>KM-H2</td>\n",
       "      <td>909976</td>\n",
       "      <td>Y</td>\n",
       "      <td>Y</td>\n",
       "      <td>Y</td>\n",
       "      <td>Y</td>\n",
       "      <td>Y</td>\n",
       "      <td>lymphoma</td>\n",
       "      <td>Hodgkin_lymphoma</td>\n",
       "      <td>NaN</td>\n",
       "      <td>MSS/MSI-L</td>\n",
       "      <td>R</td>\n",
       "      <td>Suspension</td>\n",
       "      <td>haematopoietic_and_lymphoid_tissue</td>\n",
       "      <td>lymphoid_neoplasm</td>\n",
       "      <td>{'HISTOLOGY': 'lymphoid_neoplasm', 'GDSC_TISSU...</td>\n",
       "    </tr>\n",
       "    <tr>\n",
       "      <th>965</th>\n",
       "      <td>KMH-2</td>\n",
       "      <td>1298167</td>\n",
       "      <td>Y</td>\n",
       "      <td>Y</td>\n",
       "      <td>N</td>\n",
       "      <td>Y</td>\n",
       "      <td>Y</td>\n",
       "      <td>thyroid</td>\n",
       "      <td>thyroid</td>\n",
       "      <td>THCA</td>\n",
       "      <td>MSS/MSI-L</td>\n",
       "      <td>R</td>\n",
       "      <td>Adherent</td>\n",
       "      <td>thyroid</td>\n",
       "      <td>carcinoma</td>\n",
       "      <td>{'HISTOLOGY': 'carcinoma', 'GDSC_TISSUE_DESCRI...</td>\n",
       "    </tr>\n",
       "  </tbody>\n",
       "</table>\n",
       "</div>"
      ],
      "text/plain": [
       "    CELL_LINE_ID CELL_LINE_ID:COSMIC WHOLE_EXOME_SEQUENCING  \\\n",
       "180        KM-H2              909976                      Y   \n",
       "965        KMH-2             1298167                      Y   \n",
       "\n",
       "    COPY_NUMBER_ALTERATIONS GENE_EXPRESSION METHYLATION DRUGRESPONSE  \\\n",
       "180                       Y               Y           Y            Y   \n",
       "965                       Y               N           Y            Y   \n",
       "\n",
       "    GDSC_TISSUE_DESCRIPTOR_1 GDSC_TISSUE_DESCRIPTOR_2 CANCER_TYPE  \\\n",
       "180                 lymphoma         Hodgkin_lymphoma         NaN   \n",
       "965                  thyroid                  thyroid        THCA   \n",
       "\n",
       "    MICROSATELLITE_INSTABILITY_STATUS SCREEN_MEDIUM GROWTH_PROPERTIES  \\\n",
       "180                         MSS/MSI-L             R        Suspension   \n",
       "965                         MSS/MSI-L             R          Adherent   \n",
       "\n",
       "                           PRIMARY_SITE          HISTOLOGY  \\\n",
       "180  haematopoietic_and_lymphoid_tissue  lymphoid_neoplasm   \n",
       "965                             thyroid          carcinoma   \n",
       "\n",
       "                                            PROPERTIES  \n",
       "180  {'HISTOLOGY': 'lymphoid_neoplasm', 'GDSC_TISSU...  \n",
       "965  {'HISTOLOGY': 'carcinoma', 'GDSC_TISSUE_DESCRI...  "
      ]
     },
     "execution_count": 19,
     "metadata": {},
     "output_type": "execute_result"
    }
   ],
   "source": [
    "# The \"KMH\" cell lines\n",
    "d_cl[d_cl['CELL_LINE_ID:COSMIC'].isin(['909976', '1298167'])]"
   ]
  },
  {
   "cell_type": "code",
   "execution_count": 20,
   "metadata": {
    "collapsed": false
   },
   "outputs": [
    {
     "data": {
      "text/html": [
       "<div>\n",
       "<table border=\"1\" class=\"dataframe\">\n",
       "  <thead>\n",
       "    <tr style=\"text-align: right;\">\n",
       "      <th></th>\n",
       "      <th>CELL_LINE_ID</th>\n",
       "      <th>CELL_LINE_ID:COSMIC</th>\n",
       "      <th>WHOLE_EXOME_SEQUENCING</th>\n",
       "      <th>COPY_NUMBER_ALTERATIONS</th>\n",
       "      <th>GENE_EXPRESSION</th>\n",
       "      <th>METHYLATION</th>\n",
       "      <th>DRUGRESPONSE</th>\n",
       "      <th>GDSC_TISSUE_DESCRIPTOR_1</th>\n",
       "      <th>GDSC_TISSUE_DESCRIPTOR_2</th>\n",
       "      <th>CANCER_TYPE</th>\n",
       "      <th>MICROSATELLITE_INSTABILITY_STATUS</th>\n",
       "      <th>SCREEN_MEDIUM</th>\n",
       "      <th>GROWTH_PROPERTIES</th>\n",
       "      <th>PRIMARY_SITE</th>\n",
       "      <th>HISTOLOGY</th>\n",
       "      <th>PROPERTIES</th>\n",
       "    </tr>\n",
       "  </thead>\n",
       "  <tbody>\n",
       "    <tr>\n",
       "      <th>416</th>\n",
       "      <td>786-0</td>\n",
       "      <td>905947</td>\n",
       "      <td>Y</td>\n",
       "      <td>Y</td>\n",
       "      <td>Y</td>\n",
       "      <td>Y</td>\n",
       "      <td>Y</td>\n",
       "      <td>kidney</td>\n",
       "      <td>kidney</td>\n",
       "      <td>KIRC</td>\n",
       "      <td>MSS/MSI-L</td>\n",
       "      <td>R</td>\n",
       "      <td>Adherent</td>\n",
       "      <td>kidney</td>\n",
       "      <td>carcinoma</td>\n",
       "      <td>{'HISTOLOGY': 'carcinoma', 'GDSC_TISSUE_DESCRI...</td>\n",
       "    </tr>\n",
       "  </tbody>\n",
       "</table>\n",
       "</div>"
      ],
      "text/plain": [
       "    CELL_LINE_ID CELL_LINE_ID:COSMIC WHOLE_EXOME_SEQUENCING  \\\n",
       "416        786-0              905947                      Y   \n",
       "\n",
       "    COPY_NUMBER_ALTERATIONS GENE_EXPRESSION METHYLATION DRUGRESPONSE  \\\n",
       "416                       Y               Y           Y            Y   \n",
       "\n",
       "    GDSC_TISSUE_DESCRIPTOR_1 GDSC_TISSUE_DESCRIPTOR_2 CANCER_TYPE  \\\n",
       "416                   kidney                   kidney        KIRC   \n",
       "\n",
       "    MICROSATELLITE_INSTABILITY_STATUS SCREEN_MEDIUM GROWTH_PROPERTIES  \\\n",
       "416                         MSS/MSI-L             R          Adherent   \n",
       "\n",
       "    PRIMARY_SITE  HISTOLOGY                                         PROPERTIES  \n",
       "416       kidney  carcinoma  {'HISTOLOGY': 'carcinoma', 'GDSC_TISSUE_DESCRI...  "
      ]
     },
     "execution_count": 20,
     "metadata": {},
     "output_type": "execute_result"
    }
   ],
   "source": [
    "# The \"786-0\" cell line (which is given as 786-O from the CCLE)\n",
    "d_cl[d_cl['CELL_LINE_ID:COSMIC'].isin(['905947'])]"
   ]
  },
  {
   "cell_type": "code",
   "execution_count": 21,
   "metadata": {
    "collapsed": false
   },
   "outputs": [
    {
     "data": {
      "text/html": [
       "<div>\n",
       "<table border=\"1\" class=\"dataframe\">\n",
       "  <thead>\n",
       "    <tr style=\"text-align: right;\">\n",
       "      <th></th>\n",
       "      <th>CELL_LINE_ID</th>\n",
       "      <th>CELL_LINE_ID:COSMIC</th>\n",
       "      <th>WHOLE_EXOME_SEQUENCING</th>\n",
       "      <th>COPY_NUMBER_ALTERATIONS</th>\n",
       "      <th>GENE_EXPRESSION</th>\n",
       "      <th>METHYLATION</th>\n",
       "      <th>DRUGRESPONSE</th>\n",
       "      <th>GDSC_TISSUE_DESCRIPTOR_1</th>\n",
       "      <th>GDSC_TISSUE_DESCRIPTOR_2</th>\n",
       "      <th>CANCER_TYPE</th>\n",
       "      <th>MICROSATELLITE_INSTABILITY_STATUS</th>\n",
       "      <th>SCREEN_MEDIUM</th>\n",
       "      <th>GROWTH_PROPERTIES</th>\n",
       "      <th>PRIMARY_SITE</th>\n",
       "      <th>HISTOLOGY</th>\n",
       "      <th>PROPERTIES</th>\n",
       "    </tr>\n",
       "  </thead>\n",
       "  <tbody>\n",
       "    <tr>\n",
       "      <th>220</th>\n",
       "      <td>IM-9</td>\n",
       "      <td>753563</td>\n",
       "      <td>Y</td>\n",
       "      <td>Y</td>\n",
       "      <td>Y</td>\n",
       "      <td>Y</td>\n",
       "      <td>Y</td>\n",
       "      <td>myeloma</td>\n",
       "      <td>myeloma</td>\n",
       "      <td>MM</td>\n",
       "      <td>MSS/MSI-L</td>\n",
       "      <td>R</td>\n",
       "      <td>Suspension</td>\n",
       "      <td>haematopoietic_and_lymphoid_tissue</td>\n",
       "      <td>lymphoid_neoplasm</td>\n",
       "      <td>{'HISTOLOGY': 'lymphoid_neoplasm', 'GDSC_TISSU...</td>\n",
       "    </tr>\n",
       "  </tbody>\n",
       "</table>\n",
       "</div>"
      ],
      "text/plain": [
       "    CELL_LINE_ID CELL_LINE_ID:COSMIC WHOLE_EXOME_SEQUENCING  \\\n",
       "220         IM-9              753563                      Y   \n",
       "\n",
       "    COPY_NUMBER_ALTERATIONS GENE_EXPRESSION METHYLATION DRUGRESPONSE  \\\n",
       "220                       Y               Y           Y            Y   \n",
       "\n",
       "    GDSC_TISSUE_DESCRIPTOR_1 GDSC_TISSUE_DESCRIPTOR_2 CANCER_TYPE  \\\n",
       "220                  myeloma                  myeloma          MM   \n",
       "\n",
       "    MICROSATELLITE_INSTABILITY_STATUS SCREEN_MEDIUM GROWTH_PROPERTIES  \\\n",
       "220                         MSS/MSI-L             R        Suspension   \n",
       "\n",
       "                           PRIMARY_SITE          HISTOLOGY  \\\n",
       "220  haematopoietic_and_lymphoid_tissue  lymphoid_neoplasm   \n",
       "\n",
       "                                            PROPERTIES  \n",
       "220  {'HISTOLOGY': 'lymphoid_neoplasm', 'GDSC_TISSU...  "
      ]
     },
     "execution_count": 21,
     "metadata": {},
     "output_type": "execute_result"
    }
   ],
   "source": [
    "d_cl[d_cl['CELL_LINE_ID:COSMIC'].isin(['753563'])]"
   ]
  },
  {
   "cell_type": "markdown",
   "metadata": {},
   "source": [
    "## Export"
   ]
  },
  {
   "cell_type": "code",
   "execution_count": 24,
   "metadata": {
    "collapsed": false
   },
   "outputs": [
    {
     "name": "stdout",
     "output_type": "stream",
     "text": [
      "<class 'pandas.core.frame.DataFrame'>\n",
      "Int64Index: 1029 entries, 0 to 1033\n",
      "Data columns (total 4 columns):\n",
      "CELL_LINE_ID           1029 non-null object\n",
      "CELL_LINE_ID:COSMIC    1029 non-null object\n",
      "PRIMARY_SITE           1029 non-null object\n",
      "PROPERTIES             1029 non-null object\n",
      "dtypes: object(4)\n",
      "memory usage: 40.2+ KB\n"
     ]
    }
   ],
   "source": [
    "d_exp = d_cl[['CELL_LINE_ID', 'CELL_LINE_ID:COSMIC', 'PRIMARY_SITE', 'PROPERTIES']].copy()\n",
    "d_exp = entity.prepare_cellline_meta(d_exp)\n",
    "d_exp.info()"
   ]
  },
  {
   "cell_type": "code",
   "execution_count": 26,
   "metadata": {
    "collapsed": false
   },
   "outputs": [
    {
     "data": {
      "text/plain": [
       "'/Users/eczech/data/research/mgds/import/gdsc_v2_cellline-meta.pkl'"
      ]
     },
     "execution_count": 26,
     "metadata": {},
     "output_type": "execute_result"
    }
   ],
   "source": [
    "db.save(d_exp, src.GDSC_v2, db.IMPORT, 'cellline-meta')"
   ]
  }
 ],
 "metadata": {
  "kernelspec": {
   "display_name": "Python 3",
   "language": "python",
   "name": "python3"
  },
  "language_info": {
   "codemirror_mode": {
    "name": "ipython",
    "version": 3
   },
   "file_extension": ".py",
   "mimetype": "text/x-python",
   "name": "python",
   "nbconvert_exporter": "python",
   "pygments_lexer": "ipython3",
   "version": "3.5.2"
  }
 },
 "nbformat": 4,
 "nbformat_minor": 0
}
