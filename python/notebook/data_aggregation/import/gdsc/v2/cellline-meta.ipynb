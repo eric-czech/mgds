{
 "cells": [
  {
   "cell_type": "markdown",
   "metadata": {},
   "source": [
    "# GDSC Meta Data Importation\n",
    "**Local Version**: 2\n",
    "**Source Version**: 6.0\n",
    "\n",
    "This notebook will import Cell Line and Cancer Type metadata data through the [GDSC](http://www.cancerrxgene.org/downloads) portal.  Files for this are hosted on the [Sanger FTP Server](ftp://ftp.sanger.ac.uk/pub/project/cancerrxgene/releases/) (release-6.0 in this case), and the only file of interest here is [Cell_Lines_Details.xlsx](ftp://ftp.sanger.ac.uk/pub/project/cancerrxgene/releases/release-6.0/Cell_Lines_Details.xlsx).  This file contains a mapping of COSMIC cell line ids to common cell line ids as well as notes which data is available for each.  It also contains the cancer site and histology of each cell line."
   ]
  },
  {
   "cell_type": "code",
   "execution_count": 1,
   "metadata": {
    "collapsed": true
   },
   "outputs": [],
   "source": [
    "%run -m ipy_startup\n",
    "%run -m ipy_logging\n",
    "from mgds.data_aggregation import database as db\n",
    "from mgds.data_aggregation import source as src\n",
    "from mgds.data_aggregation import io_utils as io\n",
    "from py_utils.collection_utils import subset\n",
    "import re\n",
    "pd.set_option('display.max_info_rows', 50000000)"
   ]
  },
  {
   "cell_type": "code",
   "execution_count": 2,
   "metadata": {
    "collapsed": false
   },
   "outputs": [
    {
     "name": "stderr",
     "output_type": "stream",
     "text": [
      "2016-11-21 15:14:48,528:DEBUG:mgds.data_aggregation.io_utils: Returning previously downloaded path for \"/Users/eczech/data/research/mgds/raw/gdsc_v2_cell-line-details.xlsx\"\n"
     ]
    },
    {
     "data": {
      "text/plain": [
       "'/Users/eczech/data/research/mgds/raw/gdsc_v2_cell-line-details.xlsx'"
      ]
     },
     "execution_count": 2,
     "metadata": {},
     "output_type": "execute_result"
    }
   ],
   "source": [
    "# Download Cell Line Details spreadsheet\n",
    "url = 'ftp://ftp.sanger.ac.uk/pub/project/cancerrxgene/releases/release-6.0/Cell_Lines_Details.xlsx'\n",
    "filepath = db.raw_file(src.GDSC_v2, 'cell-line-details.xlsx')\n",
    "filepath = io.download(url, filepath, check_exists=True)\n",
    "filepath"
   ]
  },
  {
   "cell_type": "code",
   "execution_count": 3,
   "metadata": {
    "collapsed": false
   },
   "outputs": [
    {
     "data": {
      "text/plain": [
       "dict_keys(['Cell line details', 'Decode', 'COSMIC tissue classification'])"
      ]
     },
     "execution_count": 3,
     "metadata": {},
     "output_type": "execute_result"
    }
   ],
   "source": [
    "d = pd.read_excel(filepath, sheetname=None)\n",
    "d.keys()"
   ]
  },
  {
   "cell_type": "markdown",
   "metadata": {},
   "source": [
    "## Prepare Cell Line Details"
   ]
  },
  {
   "cell_type": "code",
   "execution_count": 4,
   "metadata": {
    "collapsed": false
   },
   "outputs": [
    {
     "name": "stdout",
     "output_type": "stream",
     "text": [
      "<class 'pandas.core.frame.DataFrame'>\n",
      "RangeIndex: 1002 entries, 0 to 1001\n",
      "Data columns (total 13 columns):\n",
      "Sample Name                                1002 non-null object\n",
      "COSMIC identifier                          1001 non-null float64\n",
      "Whole Exome Sequencing (WES)               1002 non-null object\n",
      "Copy Number Alterations (CNA)              1002 non-null object\n",
      "Gene Expression                            1002 non-null object\n",
      "Methylation                                1002 non-null object\n",
      "DrugResponse                               1002 non-null object\n",
      "GDSCTissue descriptor 1                    1001 non-null object\n",
      "GDSCTissuedescriptor 2                     1001 non-null object\n",
      "Cancer Type(matching TCGA label)           826 non-null object\n",
      "Microsatellite instability Status (MSI)    986 non-null object\n",
      "Screen Medium                              1001 non-null object\n",
      "Growth Properties                          999 non-null object\n",
      "dtypes: float64(1), object(12)\n",
      "memory usage: 101.8+ KB\n"
     ]
    }
   ],
   "source": [
    "d_cl_det = d['Cell line details']\n",
    "d_cl_det = d_cl_det.rename(columns=lambda c: c.replace('\\n', ''))\n",
    "d_cl_det.info()"
   ]
  },
  {
   "cell_type": "code",
   "execution_count": 5,
   "metadata": {
    "collapsed": true
   },
   "outputs": [],
   "source": [
    "def convert_ids_to_string(d):\n",
    "    # Convert COSMIC and common cell line ID to string (carefully)\n",
    "    \n",
    "    # For COSMIC IDs, make sure we have no floats not equal to integer representation (ie only \".0\")\n",
    "    assert np.all(d['CELL_LINE_ID:COSMIC'] == d['CELL_LINE_ID:COSMIC'].astype(np.int64))\n",
    "    d['CELL_LINE_ID:COSMIC'] = d['CELL_LINE_ID:COSMIC'].astype(np.int64).astype(str)\n",
    "\n",
    "    # For common cell line IDs, make sure there are no floats and then convert each to string\n",
    "    assert np.all(d['CELL_LINE_ID'].apply(type).isin([str, int])), \\\n",
    "        'Found cell line ID not given as string or int'\n",
    "    d['CELL_LINE_ID'] = d['CELL_LINE_ID'].astype(str)\n",
    "    return d"
   ]
  },
  {
   "cell_type": "code",
   "execution_count": 6,
   "metadata": {
    "collapsed": false
   },
   "outputs": [
    {
     "name": "stdout",
     "output_type": "stream",
     "text": [
      "[Remove records with null COSMIC cell line ID] Records before = 1002, Records after = 1001, Records removed = 1 (%0.10)\n",
      "[Remove records with null common cell line ID] Records before = 1001, Records after = 1001, Records removed = 0 (%0.00)\n",
      "<class 'pandas.core.frame.DataFrame'>\n",
      "Int64Index: 1001 entries, 0 to 1000\n",
      "Data columns (total 13 columns):\n",
      "CELL_LINE_ID                         1001 non-null object\n",
      "CELL_LINE_ID:COSMIC                  1001 non-null object\n",
      "WHOLE_EXOME_SEQUENCING               1001 non-null object\n",
      "COPY_NUMBER_ALTERATIONS              1001 non-null object\n",
      "GENE_EXPRESSION                      1001 non-null object\n",
      "METHYLATION                          1001 non-null object\n",
      "DRUGRESPONSE                         1001 non-null object\n",
      "GDSC_TISSUE_DESCRIPTOR_1             1001 non-null object\n",
      "GDSC_TISSUE_DESCRIPTOR_2             1001 non-null object\n",
      "CANCER_TYPE                          826 non-null object\n",
      "MICROSATELLITE_INSTABILITY_STATUS    986 non-null object\n",
      "SCREEN_MEDIUM                        1001 non-null object\n",
      "GROWTH_PROPERTIES                    999 non-null object\n",
      "dtypes: object(13)\n",
      "memory usage: 109.5+ KB\n"
     ]
    }
   ],
   "source": [
    "# Rename and cleanup field names, and ensure cell line ids are strings\n",
    "def clean(x):\n",
    "    x = re.compile('\\(.*\\)').sub('', x).strip()\n",
    "    x = re.compile('\\s+').sub('_', x)\n",
    "    return x.upper()\n",
    "\n",
    "d_cl_det = d_cl_det.rename(columns=clean)\n",
    "\n",
    "d_cl_det = d_cl_det.rename(columns={\n",
    "    'SAMPLE_NAME': 'CELL_LINE_ID',\n",
    "    'COSMIC_IDENTIFIER': 'CELL_LINE_ID:COSMIC',\n",
    "    'GDSCTISSUE_DESCRIPTOR_1': 'GDSC_TISSUE_DESCRIPTOR_1',\n",
    "    'GDSCTISSUEDESCRIPTOR_2': 'GDSC_TISSUE_DESCRIPTOR_2'\n",
    "})\n",
    "\n",
    "# Ignore records with a null cell line ID of any kind, since these will not be useful when joined on other data\n",
    "d_cl_det = subset(\n",
    "    d_cl_det, lambda df: df[df['CELL_LINE_ID:COSMIC'].notnull()], \n",
    "    subset_op='Remove records with null COSMIC cell line ID'\n",
    ")\n",
    "d_cl_det = subset(\n",
    "    d_cl_det, lambda df: df[df['CELL_LINE_ID'].notnull()], \n",
    "    subset_op='Remove records with null common cell line ID'\n",
    ")\n",
    "\n",
    "d_cl_det = convert_ids_to_string(d_cl_det)\n",
    "\n",
    "# Ensure that identifiers never conflict\n",
    "assert d_cl_det.groupby('CELL_LINE_ID')['CELL_LINE_ID:COSMIC'].nunique().max() == 1\n",
    "assert d_cl_det.groupby('CELL_LINE_ID:COSMIC')['CELL_LINE_ID'].nunique().max() == 1\n",
    "\n",
    "# Ensure no cell lines are repeated\n",
    "assert d_cl_det['CELL_LINE_ID'].value_counts().max() == 1\n",
    "\n",
    "d_cl_det.info()"
   ]
  },
  {
   "cell_type": "code",
   "execution_count": 7,
   "metadata": {
    "collapsed": false
   },
   "outputs": [
    {
     "data": {
      "text/html": [
       "<div>\n",
       "<table border=\"1\" class=\"dataframe\">\n",
       "  <thead>\n",
       "    <tr style=\"text-align: right;\">\n",
       "      <th></th>\n",
       "      <th>CELL_LINE_ID</th>\n",
       "      <th>CELL_LINE_ID:COSMIC</th>\n",
       "      <th>WHOLE_EXOME_SEQUENCING</th>\n",
       "      <th>COPY_NUMBER_ALTERATIONS</th>\n",
       "      <th>GENE_EXPRESSION</th>\n",
       "      <th>METHYLATION</th>\n",
       "      <th>DRUGRESPONSE</th>\n",
       "      <th>GDSC_TISSUE_DESCRIPTOR_1</th>\n",
       "      <th>GDSC_TISSUE_DESCRIPTOR_2</th>\n",
       "      <th>CANCER_TYPE</th>\n",
       "      <th>MICROSATELLITE_INSTABILITY_STATUS</th>\n",
       "      <th>SCREEN_MEDIUM</th>\n",
       "      <th>GROWTH_PROPERTIES</th>\n",
       "    </tr>\n",
       "  </thead>\n",
       "  <tbody>\n",
       "    <tr>\n",
       "      <th>0</th>\n",
       "      <td>A253</td>\n",
       "      <td>906794</td>\n",
       "      <td>Y</td>\n",
       "      <td>Y</td>\n",
       "      <td>Y</td>\n",
       "      <td>Y</td>\n",
       "      <td>Y</td>\n",
       "      <td>aero_dig_tract</td>\n",
       "      <td>head and neck</td>\n",
       "      <td>NaN</td>\n",
       "      <td>MSS/MSI-L</td>\n",
       "      <td>D/F12</td>\n",
       "      <td>Adherent</td>\n",
       "    </tr>\n",
       "    <tr>\n",
       "      <th>1</th>\n",
       "      <td>BB30-HNC</td>\n",
       "      <td>753531</td>\n",
       "      <td>Y</td>\n",
       "      <td>Y</td>\n",
       "      <td>Y</td>\n",
       "      <td>Y</td>\n",
       "      <td>Y</td>\n",
       "      <td>aero_dig_tract</td>\n",
       "      <td>head and neck</td>\n",
       "      <td>HNSC</td>\n",
       "      <td>MSS/MSI-L</td>\n",
       "      <td>D/F12</td>\n",
       "      <td>Adherent</td>\n",
       "    </tr>\n",
       "    <tr>\n",
       "      <th>2</th>\n",
       "      <td>BB49-HNC</td>\n",
       "      <td>753532</td>\n",
       "      <td>Y</td>\n",
       "      <td>Y</td>\n",
       "      <td>Y</td>\n",
       "      <td>Y</td>\n",
       "      <td>Y</td>\n",
       "      <td>aero_dig_tract</td>\n",
       "      <td>head and neck</td>\n",
       "      <td>HNSC</td>\n",
       "      <td>MSS/MSI-L</td>\n",
       "      <td>D/F12</td>\n",
       "      <td>Adherent</td>\n",
       "    </tr>\n",
       "    <tr>\n",
       "      <th>3</th>\n",
       "      <td>BHY</td>\n",
       "      <td>753535</td>\n",
       "      <td>Y</td>\n",
       "      <td>Y</td>\n",
       "      <td>Y</td>\n",
       "      <td>Y</td>\n",
       "      <td>Y</td>\n",
       "      <td>aero_dig_tract</td>\n",
       "      <td>head and neck</td>\n",
       "      <td>HNSC</td>\n",
       "      <td>MSS/MSI-L</td>\n",
       "      <td>D/F12</td>\n",
       "      <td>Adherent</td>\n",
       "    </tr>\n",
       "    <tr>\n",
       "      <th>4</th>\n",
       "      <td>BICR10</td>\n",
       "      <td>1290724</td>\n",
       "      <td>Y</td>\n",
       "      <td>Y</td>\n",
       "      <td>Y</td>\n",
       "      <td>Y</td>\n",
       "      <td>Y</td>\n",
       "      <td>aero_dig_tract</td>\n",
       "      <td>head and neck</td>\n",
       "      <td>HNSC</td>\n",
       "      <td>MSS/MSI-L</td>\n",
       "      <td>D/F12</td>\n",
       "      <td>Adherent</td>\n",
       "    </tr>\n",
       "  </tbody>\n",
       "</table>\n",
       "</div>"
      ],
      "text/plain": [
       "  CELL_LINE_ID CELL_LINE_ID:COSMIC WHOLE_EXOME_SEQUENCING  \\\n",
       "0         A253              906794                      Y   \n",
       "1     BB30-HNC              753531                      Y   \n",
       "2     BB49-HNC              753532                      Y   \n",
       "3          BHY              753535                      Y   \n",
       "4       BICR10             1290724                      Y   \n",
       "\n",
       "  COPY_NUMBER_ALTERATIONS GENE_EXPRESSION METHYLATION DRUGRESPONSE  \\\n",
       "0                       Y               Y           Y            Y   \n",
       "1                       Y               Y           Y            Y   \n",
       "2                       Y               Y           Y            Y   \n",
       "3                       Y               Y           Y            Y   \n",
       "4                       Y               Y           Y            Y   \n",
       "\n",
       "  GDSC_TISSUE_DESCRIPTOR_1 GDSC_TISSUE_DESCRIPTOR_2 CANCER_TYPE  \\\n",
       "0           aero_dig_tract            head and neck         NaN   \n",
       "1           aero_dig_tract            head and neck        HNSC   \n",
       "2           aero_dig_tract            head and neck        HNSC   \n",
       "3           aero_dig_tract            head and neck        HNSC   \n",
       "4           aero_dig_tract            head and neck        HNSC   \n",
       "\n",
       "  MICROSATELLITE_INSTABILITY_STATUS SCREEN_MEDIUM GROWTH_PROPERTIES  \n",
       "0                         MSS/MSI-L         D/F12          Adherent  \n",
       "1                         MSS/MSI-L         D/F12          Adherent  \n",
       "2                         MSS/MSI-L         D/F12          Adherent  \n",
       "3                         MSS/MSI-L         D/F12          Adherent  \n",
       "4                         MSS/MSI-L         D/F12          Adherent  "
      ]
     },
     "execution_count": 7,
     "metadata": {},
     "output_type": "execute_result"
    }
   ],
   "source": [
    "d_cl_det.head()"
   ]
  },
  {
   "cell_type": "markdown",
   "metadata": {},
   "source": [
    "## Prepare Tissue Metadata"
   ]
  },
  {
   "cell_type": "code",
   "execution_count": 8,
   "metadata": {
    "collapsed": false
   },
   "outputs": [
    {
     "name": "stdout",
     "output_type": "stream",
     "text": [
      "<class 'pandas.core.frame.DataFrame'>\n",
      "RangeIndex: 1029 entries, 0 to 1028\n",
      "Data columns (total 4 columns):\n",
      "Line         1029 non-null object\n",
      "COSMIC_ID    1029 non-null int64\n",
      "Site         1029 non-null object\n",
      "Histology    1029 non-null object\n",
      "dtypes: int64(1), object(3)\n",
      "memory usage: 32.2+ KB\n"
     ]
    }
   ],
   "source": [
    "d_cl_tis = d['COSMIC tissue classification']\n",
    "d_cl_tis = d_cl_tis.rename(columns=lambda c: c.replace('\\n', ''))\n",
    "d_cl_tis.info()"
   ]
  },
  {
   "cell_type": "code",
   "execution_count": 9,
   "metadata": {
    "collapsed": false
   },
   "outputs": [
    {
     "name": "stdout",
     "output_type": "stream",
     "text": [
      "<class 'pandas.core.frame.DataFrame'>\n",
      "RangeIndex: 1029 entries, 0 to 1028\n",
      "Data columns (total 4 columns):\n",
      "CELL_LINE_ID           1029 non-null object\n",
      "CELL_LINE_ID:COSMIC    1029 non-null object\n",
      "SITE                   1029 non-null object\n",
      "HISTOLOGY              1029 non-null object\n",
      "dtypes: object(4)\n",
      "memory usage: 32.2+ KB\n"
     ]
    }
   ],
   "source": [
    "# Rename fields to conform to other datasets\n",
    "d_cl_tis = d_cl_tis.rename(columns={\n",
    "    'Line': 'CELL_LINE_ID', \n",
    "    'COSMIC_ID': 'CELL_LINE_ID:COSMIC',\n",
    "    'Site': 'SITE', \n",
    "    'Histology': 'HISTOLOGY'\n",
    "})\n",
    "\n",
    "# Convert identifiers to strings\n",
    "d_cl_tis = convert_ids_to_string(d_cl_tis)\n",
    "\n",
    "# Ensure that identifiers never conflict\n",
    "assert d_cl_tis.groupby('CELL_LINE_ID')['CELL_LINE_ID:COSMIC'].nunique().max() == 1\n",
    "assert d_cl_tis.groupby('CELL_LINE_ID:COSMIC')['CELL_LINE_ID'].nunique().max() == 1\n",
    "\n",
    "# Ensure no cell lines are repeated\n",
    "assert d_cl_tis['CELL_LINE_ID'].value_counts().max() == 1\n",
    "\n",
    "d_cl_tis.info()"
   ]
  },
  {
   "cell_type": "markdown",
   "metadata": {},
   "source": [
    "## Merge Metadata"
   ]
  },
  {
   "cell_type": "code",
   "execution_count": 10,
   "metadata": {
    "collapsed": false
   },
   "outputs": [
    {
     "name": "stdout",
     "output_type": "stream",
     "text": [
      "<class 'pandas.core.frame.DataFrame'>\n",
      "Int64Index: 1034 entries, 0 to 1033\n",
      "Data columns (total 15 columns):\n",
      "CELL_LINE_ID                         1034 non-null object\n",
      "CELL_LINE_ID:COSMIC                  1034 non-null object\n",
      "WHOLE_EXOME_SEQUENCING               1001 non-null object\n",
      "COPY_NUMBER_ALTERATIONS              1001 non-null object\n",
      "GENE_EXPRESSION                      1001 non-null object\n",
      "METHYLATION                          1001 non-null object\n",
      "DRUGRESPONSE                         1001 non-null object\n",
      "GDSC_TISSUE_DESCRIPTOR_1             1001 non-null object\n",
      "GDSC_TISSUE_DESCRIPTOR_2             1001 non-null object\n",
      "CANCER_TYPE                          826 non-null object\n",
      "MICROSATELLITE_INSTABILITY_STATUS    986 non-null object\n",
      "SCREEN_MEDIUM                        1001 non-null object\n",
      "GROWTH_PROPERTIES                    999 non-null object\n",
      "SITE                                 1029 non-null object\n",
      "HISTOLOGY                            1029 non-null object\n",
      "dtypes: object(15)\n",
      "memory usage: 129.2+ KB\n"
     ]
    }
   ],
   "source": [
    "d_cl = pd.merge(\n",
    "    d_cl_det.assign(ID1=np.arange(len(d_cl_det))), \n",
    "    d_cl_tis.assign(ID2=np.arange(len(d_cl_tis))), \n",
    "    on=['CELL_LINE_ID', 'CELL_LINE_ID:COSMIC'], how='outer'\n",
    ")\n",
    "\n",
    "# Comment this out to make it more clear which records are joining \n",
    "# between the two datasets\n",
    "d_cl = d_cl.drop(['ID1', 'ID2'], axis=1)\n",
    "\n",
    "d_cl.info()"
   ]
  },
  {
   "cell_type": "code",
   "execution_count": null,
   "metadata": {
    "collapsed": true
   },
   "outputs": [],
   "source": [
    "d_cl[d_cl['CELL_LINE_ID'].str.contains('')]"
   ]
  },
  {
   "cell_type": "code",
   "execution_count": 22,
   "metadata": {
    "collapsed": false
   },
   "outputs": [
    {
     "data": {
      "text/plain": [
       "'/Users/eczech/data/research/mgds/import/gdsc_v2_cellline-meta.pkl'"
      ]
     },
     "execution_count": 22,
     "metadata": {},
     "output_type": "execute_result"
    }
   ],
   "source": [
    "assert np.all(d_cl['CELL_LINE_ID'].apply(type) == str)\n",
    "assert np.all(d_cl['CELL_LINE_ID:COSMIC'].apply(type) == str)\n",
    "db.save(d_cl, src.GDSC_v2, db.IMPORT, 'cellline-meta')"
   ]
  }
 ],
 "metadata": {
  "kernelspec": {
   "display_name": "Python 3",
   "language": "python",
   "name": "python3"
  },
  "language_info": {
   "codemirror_mode": {
    "name": "ipython",
    "version": 3
   },
   "file_extension": ".py",
   "mimetype": "text/x-python",
   "name": "python",
   "nbconvert_exporter": "python",
   "pygments_lexer": "ipython3",
   "version": "3.5.2"
  }
 },
 "nbformat": 4,
 "nbformat_minor": 0
}
