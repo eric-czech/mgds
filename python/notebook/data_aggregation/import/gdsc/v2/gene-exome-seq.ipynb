{
 "cells": [
  {
   "cell_type": "markdown",
   "metadata": {},
   "source": [
    "# GDSC Raw Exome Sequencing Data Importation\n",
    "**Local Version**: 2\n",
    "**Source Version**: 6.0\n",
    "\n",
    "This notebook will import raw GDSC exome sequencing data through the [GDSC](http://www.cancerrxgene.org/downloads) portal which hosts files on the [Sanger FTP Server](ftp://ftp.sanger.ac.uk/pub/project/cancerrxgene/releases/) (release-6.0 in this case)\n",
    "\n",
    "Note that the GDSC exposes 3 sequencing datasets, labeled as the following:\n",
    "\n",
    "1. Raw - \"WES data for Cell lines\"\n",
    "2. Preprocessed - \"Cell-line sequence variants\"\n",
    "3. Preprocessed - \"Sequencing BEMs for Cell lines\"\n",
    "\n",
    "In this case option 2 will be used, but the others are worth future consideration."
   ]
  },
  {
   "cell_type": "code",
   "execution_count": 1,
   "metadata": {
    "collapsed": false
   },
   "outputs": [],
   "source": [
    "%run -m ipy_startup\n",
    "%run -m ipy_logging\n",
    "from mgds.data_aggregation import database as db\n",
    "from mgds.data_aggregation import source as src\n",
    "from mgds.data_aggregation import io_utils as io\n",
    "pd.set_option('display.max_info_rows', 50000000)"
   ]
  },
  {
   "cell_type": "code",
   "execution_count": 2,
   "metadata": {
    "collapsed": false
   },
   "outputs": [
    {
     "name": "stderr",
     "output_type": "stream",
     "text": [
      "2016-11-21 13:47:46,687:DEBUG:mgds.data_aggregation.io_utils: Returning previously downloaded path for \"/Users/eczech/data/research/mgds/raw/gdsc_v2_exome-seq.xlsx\"\n"
     ]
    },
    {
     "data": {
      "text/plain": [
       "'/Users/eczech/data/research/mgds/raw/gdsc_v2_exome-seq.xlsx'"
      ]
     },
     "execution_count": 2,
     "metadata": {},
     "output_type": "execute_result"
    }
   ],
   "source": [
    "url = 'ftp://ftp.sanger.ac.uk/pub/project/cancerrxgene/releases/release-6.0/WES_variants.xlsx'\n",
    "#url = 'http://www.cancerrxgene.org/gdsc1000/GDSC1000_WebResources/Data/BEMs/CellLines/CellLines_CG_BEMs.zip'\n",
    "filepath = db.raw_file(src.GDSC_v2, 'exome-seq.xlsx')\n",
    "filepath = io.download(url, filepath, check_exists=True)\n",
    "filepath"
   ]
  },
  {
   "cell_type": "code",
   "execution_count": 3,
   "metadata": {
    "collapsed": false
   },
   "outputs": [
    {
     "name": "stdout",
     "output_type": "stream",
     "text": [
      "<class 'pandas.core.frame.DataFrame'>\n",
      "RangeIndex: 486243 entries, 0 to 486242\n",
      "Data columns (total 13 columns):\n",
      "SAMPLE               486243 non-null object\n",
      "COSMIC_ID            486243 non-null int64\n",
      "Cancer Type          409611 non-null object\n",
      "Gene                 486243 non-null object\n",
      "Transcript           486243 non-null object\n",
      "cDNA                 486243 non-null object\n",
      "AA                   486243 non-null object\n",
      "Classification       486243 non-null object\n",
      "Gene_list            24214 non-null object\n",
      "Recurrence Filter    29214 non-null object\n",
      "Subs                 52568 non-null float64\n",
      "Truncating           65745 non-null float64\n",
      "inframe              441 non-null float64\n",
      "dtypes: float64(3), int64(1), object(9)\n",
      "memory usage: 48.2+ MB\n"
     ]
    }
   ],
   "source": [
    "# This initial read is slow -- avoid where possible\n",
    "d = pd.read_excel(filepath, sheetname='WES_variants', )\n",
    "d.info()"
   ]
  },
  {
   "cell_type": "code",
   "execution_count": 9,
   "metadata": {
    "collapsed": false
   },
   "outputs": [
    {
     "data": {
      "text/html": [
       "<div>\n",
       "<table border=\"1\" class=\"dataframe\">\n",
       "  <thead>\n",
       "    <tr style=\"text-align: right;\">\n",
       "      <th></th>\n",
       "      <th>SAMPLE</th>\n",
       "      <th>COSMIC_ID</th>\n",
       "      <th>Cancer Type</th>\n",
       "      <th>Gene</th>\n",
       "      <th>Transcript</th>\n",
       "      <th>cDNA</th>\n",
       "      <th>AA</th>\n",
       "      <th>Classification</th>\n",
       "      <th>Gene_list</th>\n",
       "      <th>Recurrence Filter</th>\n",
       "      <th>Subs</th>\n",
       "      <th>Truncating</th>\n",
       "      <th>inframe</th>\n",
       "    </tr>\n",
       "  </thead>\n",
       "  <tbody>\n",
       "    <tr>\n",
       "      <th>0</th>\n",
       "      <td>KARPAS-45</td>\n",
       "      <td>907272</td>\n",
       "      <td>ALL</td>\n",
       "      <td>A1BG</td>\n",
       "      <td>ENST00000263100</td>\n",
       "      <td>c.842A&gt;G</td>\n",
       "      <td>p.Y281C</td>\n",
       "      <td>missense</td>\n",
       "      <td>NaN</td>\n",
       "      <td>NaN</td>\n",
       "      <td>NaN</td>\n",
       "      <td>NaN</td>\n",
       "      <td>NaN</td>\n",
       "    </tr>\n",
       "    <tr>\n",
       "      <th>1</th>\n",
       "      <td>Jurkat</td>\n",
       "      <td>998184</td>\n",
       "      <td>ALL</td>\n",
       "      <td>A1BG</td>\n",
       "      <td>ENST00000263100</td>\n",
       "      <td>c.589G&gt;A</td>\n",
       "      <td>p.A197T</td>\n",
       "      <td>missense</td>\n",
       "      <td>NaN</td>\n",
       "      <td>NaN</td>\n",
       "      <td>NaN</td>\n",
       "      <td>NaN</td>\n",
       "      <td>NaN</td>\n",
       "    </tr>\n",
       "    <tr>\n",
       "      <th>2</th>\n",
       "      <td>KARPAS-45</td>\n",
       "      <td>907272</td>\n",
       "      <td>ALL</td>\n",
       "      <td>A1BG</td>\n",
       "      <td>ENST00000263100</td>\n",
       "      <td>c.571G&gt;A</td>\n",
       "      <td>p.A191T</td>\n",
       "      <td>missense</td>\n",
       "      <td>NaN</td>\n",
       "      <td>NaN</td>\n",
       "      <td>2.0</td>\n",
       "      <td>NaN</td>\n",
       "      <td>NaN</td>\n",
       "    </tr>\n",
       "    <tr>\n",
       "      <th>3</th>\n",
       "      <td>HT-115</td>\n",
       "      <td>907289</td>\n",
       "      <td>COAD/READ</td>\n",
       "      <td>A1BG</td>\n",
       "      <td>ENST00000263100</td>\n",
       "      <td>c.1456G&gt;A</td>\n",
       "      <td>p.D486N</td>\n",
       "      <td>missense</td>\n",
       "      <td>NaN</td>\n",
       "      <td>NaN</td>\n",
       "      <td>NaN</td>\n",
       "      <td>NaN</td>\n",
       "      <td>NaN</td>\n",
       "    </tr>\n",
       "    <tr>\n",
       "      <th>4</th>\n",
       "      <td>KM12</td>\n",
       "      <td>905989</td>\n",
       "      <td>COAD/READ</td>\n",
       "      <td>A1BG</td>\n",
       "      <td>ENST00000263100</td>\n",
       "      <td>c.770C&gt;A</td>\n",
       "      <td>p.T257N</td>\n",
       "      <td>missense</td>\n",
       "      <td>NaN</td>\n",
       "      <td>NaN</td>\n",
       "      <td>NaN</td>\n",
       "      <td>NaN</td>\n",
       "      <td>NaN</td>\n",
       "    </tr>\n",
       "  </tbody>\n",
       "</table>\n",
       "</div>"
      ],
      "text/plain": [
       "      SAMPLE  COSMIC_ID Cancer Type  Gene       Transcript       cDNA  \\\n",
       "0  KARPAS-45     907272         ALL  A1BG  ENST00000263100   c.842A>G   \n",
       "1     Jurkat     998184         ALL  A1BG  ENST00000263100   c.589G>A   \n",
       "2  KARPAS-45     907272         ALL  A1BG  ENST00000263100   c.571G>A   \n",
       "3     HT-115     907289   COAD/READ  A1BG  ENST00000263100  c.1456G>A   \n",
       "4       KM12     905989   COAD/READ  A1BG  ENST00000263100   c.770C>A   \n",
       "\n",
       "        AA Classification Gene_list Recurrence Filter  Subs  Truncating  \\\n",
       "0  p.Y281C       missense       NaN               NaN   NaN         NaN   \n",
       "1  p.A197T       missense       NaN               NaN   NaN         NaN   \n",
       "2  p.A191T       missense       NaN               NaN   2.0         NaN   \n",
       "3  p.D486N       missense       NaN               NaN   NaN         NaN   \n",
       "4  p.T257N       missense       NaN               NaN   NaN         NaN   \n",
       "\n",
       "   inframe  \n",
       "0      NaN  \n",
       "1      NaN  \n",
       "2      NaN  \n",
       "3      NaN  \n",
       "4      NaN  "
      ]
     },
     "execution_count": 9,
     "metadata": {},
     "output_type": "execute_result"
    }
   ],
   "source": [
    "d.head()"
   ]
  },
  {
   "cell_type": "code",
   "execution_count": 10,
   "metadata": {
    "collapsed": false
   },
   "outputs": [
    {
     "data": {
      "text/html": [
       "<div>\n",
       "<table border=\"1\" class=\"dataframe\">\n",
       "  <thead>\n",
       "    <tr style=\"text-align: right;\">\n",
       "      <th></th>\n",
       "      <th>SAMPLE</th>\n",
       "      <th>COSMIC_ID</th>\n",
       "      <th>Cancer Type</th>\n",
       "      <th>Gene</th>\n",
       "      <th>Transcript</th>\n",
       "      <th>cDNA</th>\n",
       "      <th>AA</th>\n",
       "      <th>Classification</th>\n",
       "      <th>Gene_list</th>\n",
       "      <th>Recurrence Filter</th>\n",
       "      <th>Subs</th>\n",
       "      <th>Truncating</th>\n",
       "      <th>inframe</th>\n",
       "    </tr>\n",
       "  </thead>\n",
       "  <tbody>\n",
       "    <tr>\n",
       "      <th>465668</th>\n",
       "      <td>5637</td>\n",
       "      <td>687452</td>\n",
       "      <td>BLCA</td>\n",
       "      <td>ZCCHC14</td>\n",
       "      <td>ENST00000268616</td>\n",
       "      <td>c.2034_2035insCA</td>\n",
       "      <td>p.A679fs*11</td>\n",
       "      <td>frameshift</td>\n",
       "      <td>NaN</td>\n",
       "      <td>NaN</td>\n",
       "      <td>NaN</td>\n",
       "      <td>10.0</td>\n",
       "      <td>NaN</td>\n",
       "    </tr>\n",
       "    <tr>\n",
       "      <th>465669</th>\n",
       "      <td>5637</td>\n",
       "      <td>687452</td>\n",
       "      <td>BLCA</td>\n",
       "      <td>ZCCHC14</td>\n",
       "      <td>ENST00000268616</td>\n",
       "      <td>c.2029_2030insAC</td>\n",
       "      <td>p.A679fs*11</td>\n",
       "      <td>frameshift</td>\n",
       "      <td>NaN</td>\n",
       "      <td>NaN</td>\n",
       "      <td>NaN</td>\n",
       "      <td>10.0</td>\n",
       "      <td>NaN</td>\n",
       "    </tr>\n",
       "  </tbody>\n",
       "</table>\n",
       "</div>"
      ],
      "text/plain": [
       "       SAMPLE  COSMIC_ID Cancer Type     Gene       Transcript  \\\n",
       "465668   5637     687452        BLCA  ZCCHC14  ENST00000268616   \n",
       "465669   5637     687452        BLCA  ZCCHC14  ENST00000268616   \n",
       "\n",
       "                    cDNA           AA Classification Gene_list  \\\n",
       "465668  c.2034_2035insCA  p.A679fs*11     frameshift       NaN   \n",
       "465669  c.2029_2030insAC  p.A679fs*11     frameshift       NaN   \n",
       "\n",
       "       Recurrence Filter  Subs  Truncating  inframe  \n",
       "465668               NaN   NaN        10.0      NaN  \n",
       "465669               NaN   NaN        10.0      NaN  "
      ]
     },
     "execution_count": 10,
     "metadata": {},
     "output_type": "execute_result"
    }
   ],
   "source": [
    "# Example record almost entirely duplicated except for \"cDNA\"\n",
    "d[(d.SAMPLE == 5637) & (d['Gene'] == 'ZCCHC14')]"
   ]
  },
  {
   "cell_type": "code",
   "execution_count": 12,
   "metadata": {
    "collapsed": false
   },
   "outputs": [
    {
     "data": {
      "text/html": [
       "<div>\n",
       "<table border=\"1\" class=\"dataframe\">\n",
       "  <thead>\n",
       "    <tr style=\"text-align: right;\">\n",
       "      <th></th>\n",
       "      <th>CELL_LINE_ID</th>\n",
       "      <th>CELL_LINE_ID:COSMIC</th>\n",
       "      <th>CANCER_TYPE</th>\n",
       "      <th>GENE_ID</th>\n",
       "      <th>TRANSCRIPT</th>\n",
       "      <th>CDNA</th>\n",
       "      <th>AA</th>\n",
       "      <th>CLASSIFICATION</th>\n",
       "      <th>GENE_LIST</th>\n",
       "      <th>RECURRENCE_FILTER</th>\n",
       "      <th>SUBS</th>\n",
       "      <th>TRUNCATING</th>\n",
       "      <th>INFRAME</th>\n",
       "    </tr>\n",
       "  </thead>\n",
       "  <tbody>\n",
       "    <tr>\n",
       "      <th>0</th>\n",
       "      <td>KARPAS-45</td>\n",
       "      <td>907272</td>\n",
       "      <td>ALL</td>\n",
       "      <td>A1BG</td>\n",
       "      <td>ENST00000263100</td>\n",
       "      <td>c.842A&gt;G</td>\n",
       "      <td>p.Y281C</td>\n",
       "      <td>missense</td>\n",
       "      <td>NaN</td>\n",
       "      <td>NaN</td>\n",
       "      <td>NaN</td>\n",
       "      <td>NaN</td>\n",
       "      <td>NaN</td>\n",
       "    </tr>\n",
       "    <tr>\n",
       "      <th>1</th>\n",
       "      <td>Jurkat</td>\n",
       "      <td>998184</td>\n",
       "      <td>ALL</td>\n",
       "      <td>A1BG</td>\n",
       "      <td>ENST00000263100</td>\n",
       "      <td>c.589G&gt;A</td>\n",
       "      <td>p.A197T</td>\n",
       "      <td>missense</td>\n",
       "      <td>NaN</td>\n",
       "      <td>NaN</td>\n",
       "      <td>NaN</td>\n",
       "      <td>NaN</td>\n",
       "      <td>NaN</td>\n",
       "    </tr>\n",
       "    <tr>\n",
       "      <th>2</th>\n",
       "      <td>KARPAS-45</td>\n",
       "      <td>907272</td>\n",
       "      <td>ALL</td>\n",
       "      <td>A1BG</td>\n",
       "      <td>ENST00000263100</td>\n",
       "      <td>c.571G&gt;A</td>\n",
       "      <td>p.A191T</td>\n",
       "      <td>missense</td>\n",
       "      <td>NaN</td>\n",
       "      <td>NaN</td>\n",
       "      <td>2.0</td>\n",
       "      <td>NaN</td>\n",
       "      <td>NaN</td>\n",
       "    </tr>\n",
       "    <tr>\n",
       "      <th>3</th>\n",
       "      <td>HT-115</td>\n",
       "      <td>907289</td>\n",
       "      <td>COAD/READ</td>\n",
       "      <td>A1BG</td>\n",
       "      <td>ENST00000263100</td>\n",
       "      <td>c.1456G&gt;A</td>\n",
       "      <td>p.D486N</td>\n",
       "      <td>missense</td>\n",
       "      <td>NaN</td>\n",
       "      <td>NaN</td>\n",
       "      <td>NaN</td>\n",
       "      <td>NaN</td>\n",
       "      <td>NaN</td>\n",
       "    </tr>\n",
       "    <tr>\n",
       "      <th>4</th>\n",
       "      <td>KM12</td>\n",
       "      <td>905989</td>\n",
       "      <td>COAD/READ</td>\n",
       "      <td>A1BG</td>\n",
       "      <td>ENST00000263100</td>\n",
       "      <td>c.770C&gt;A</td>\n",
       "      <td>p.T257N</td>\n",
       "      <td>missense</td>\n",
       "      <td>NaN</td>\n",
       "      <td>NaN</td>\n",
       "      <td>NaN</td>\n",
       "      <td>NaN</td>\n",
       "      <td>NaN</td>\n",
       "    </tr>\n",
       "  </tbody>\n",
       "</table>\n",
       "</div>"
      ],
      "text/plain": [
       "  CELL_LINE_ID  CELL_LINE_ID:COSMIC CANCER_TYPE GENE_ID       TRANSCRIPT  \\\n",
       "0    KARPAS-45               907272         ALL    A1BG  ENST00000263100   \n",
       "1       Jurkat               998184         ALL    A1BG  ENST00000263100   \n",
       "2    KARPAS-45               907272         ALL    A1BG  ENST00000263100   \n",
       "3       HT-115               907289   COAD/READ    A1BG  ENST00000263100   \n",
       "4         KM12               905989   COAD/READ    A1BG  ENST00000263100   \n",
       "\n",
       "        CDNA       AA CLASSIFICATION GENE_LIST RECURRENCE_FILTER  SUBS  \\\n",
       "0   c.842A>G  p.Y281C       missense       NaN               NaN   NaN   \n",
       "1   c.589G>A  p.A197T       missense       NaN               NaN   NaN   \n",
       "2   c.571G>A  p.A191T       missense       NaN               NaN   2.0   \n",
       "3  c.1456G>A  p.D486N       missense       NaN               NaN   NaN   \n",
       "4   c.770C>A  p.T257N       missense       NaN               NaN   NaN   \n",
       "\n",
       "   TRUNCATING  INFRAME  \n",
       "0         NaN      NaN  \n",
       "1         NaN      NaN  \n",
       "2         NaN      NaN  \n",
       "3         NaN      NaN  \n",
       "4         NaN      NaN  "
      ]
     },
     "execution_count": 12,
     "metadata": {},
     "output_type": "execute_result"
    }
   ],
   "source": [
    "# Notes:\n",
    "# - The 'AA' = 'Amno acid positon and alteration' field has values matching those in the CCLE mutation dataset\n",
    "d_exp = d.rename(columns=lambda c: c.upper().replace(' ', '_'))\n",
    "d_exp = d_exp.rename(columns={\n",
    "    'SAMPLE': 'CELL_LINE_ID', \n",
    "    'COSMIC_ID': 'CELL_LINE_ID:COSMIC', \n",
    "    'GENE': 'GENE_ID'\n",
    "})\n",
    "\n",
    "# For common cell line IDs, make sure there are no floats and then convert each to string\n",
    "assert np.all(d_exp['CELL_LINE_ID'].apply(type).isin([str, int])), \\\n",
    "    'Found cell line ID not given as string or int'\n",
    "d_exp['CELL_LINE_ID'] = d_exp['CELL_LINE_ID'].astype(str)\n",
    "\n",
    "# Make sure all COSMIC cell line IDs are integers\n",
    "assert np.all(d_exp['CELL_LINE_ID:COSMIC'].apply(type) == int)\n",
    "\n",
    "# Ensure that all gene names are strings\n",
    "assert np.all(d_exp['GENE_ID'].apply(type) == str)\n",
    "\n",
    "# Ensure that cell line identifiers do not conflict\n",
    "assert np.all(d_exp.groupby('CELL_LINE_ID')['CELL_LINE_ID:COSMIC'].nunique() == 1)\n",
    "assert np.all(d_exp.groupby('CELL_LINE_ID:COSMIC')['CELL_LINE_ID'].nunique() == 1)\n",
    "\n",
    "# Record uniqueness only exists across the following:\n",
    "# 'CELL_LINE_ID', 'CELL_LINE_ID:COSMIC', 'GENE_ID', 'CDNA', 'AA', 'TRANSCRIPT'\n",
    "# Anything less specific than this will include multiple records (except for 'AA' which can\n",
    "# be removed but it seems worth keeping as part of any unique key)\n",
    "d_exp.head()"
   ]
  },
  {
   "cell_type": "code",
   "execution_count": 13,
   "metadata": {
    "collapsed": false
   },
   "outputs": [
    {
     "name": "stdout",
     "output_type": "stream",
     "text": [
      "<class 'pandas.core.frame.DataFrame'>\n",
      "RangeIndex: 486243 entries, 0 to 486242\n",
      "Data columns (total 13 columns):\n",
      "CELL_LINE_ID           486243 non-null object\n",
      "CELL_LINE_ID:COSMIC    486243 non-null int64\n",
      "CANCER_TYPE            409611 non-null object\n",
      "GENE_ID                486243 non-null object\n",
      "TRANSCRIPT             486243 non-null object\n",
      "CDNA                   486243 non-null object\n",
      "AA                     486243 non-null object\n",
      "CLASSIFICATION         486243 non-null object\n",
      "GENE_LIST              24214 non-null object\n",
      "RECURRENCE_FILTER      29214 non-null object\n",
      "SUBS                   52568 non-null float64\n",
      "TRUNCATING             65745 non-null float64\n",
      "INFRAME                441 non-null float64\n",
      "dtypes: float64(3), int64(1), object(9)\n",
      "memory usage: 48.2+ MB\n"
     ]
    }
   ],
   "source": [
    "d_exp.info()"
   ]
  },
  {
   "cell_type": "code",
   "execution_count": 14,
   "metadata": {
    "collapsed": true
   },
   "outputs": [],
   "source": [
    "# Verify that none of the following fields contain NA values, all other fields\n",
    "# are mostly extraneous metadata \n",
    "non_na_cols = [\n",
    "    'CELL_LINE_ID',\n",
    "    'CELL_LINE_ID:COSMIC',\n",
    "    'GENE_ID',\n",
    "    'TRANSCRIPT',\n",
    "    'CDNA',\n",
    "    'AA',\n",
    "    'CLASSIFICATION'\n",
    "]\n",
    "for c in non_na_cols:\n",
    "    assert np.all(d_exp[c].notnull()), 'Found null values for field \"{}\"'.format(c)"
   ]
  },
  {
   "cell_type": "code",
   "execution_count": 15,
   "metadata": {
    "collapsed": false
   },
   "outputs": [
    {
     "data": {
      "text/plain": [
       "1001"
      ]
     },
     "execution_count": 15,
     "metadata": {},
     "output_type": "execute_result"
    }
   ],
   "source": [
    "d_exp['CELL_LINE_ID:COSMIC'].nunique()"
   ]
  },
  {
   "cell_type": "code",
   "execution_count": 16,
   "metadata": {
    "collapsed": false
   },
   "outputs": [
    {
     "data": {
      "text/plain": [
       "'/Users/eczech/data/research/mgds/import/gdsc_v2_gene-exome-seq.pkl'"
      ]
     },
     "execution_count": 16,
     "metadata": {},
     "output_type": "execute_result"
    }
   ],
   "source": [
    "db.save(d_exp, src.GDSC_v2, db.IMPORT, 'gene-exome-seq')"
   ]
  }
 ],
 "metadata": {
  "kernelspec": {
   "display_name": "Python 3",
   "language": "python",
   "name": "python3"
  },
  "language_info": {
   "codemirror_mode": {
    "name": "ipython",
    "version": 3
   },
   "file_extension": ".py",
   "mimetype": "text/x-python",
   "name": "python",
   "nbconvert_exporter": "python",
   "pygments_lexer": "ipython3",
   "version": "3.5.2"
  }
 },
 "nbformat": 4,
 "nbformat_minor": 0
}
