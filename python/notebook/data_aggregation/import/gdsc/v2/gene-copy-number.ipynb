{
 "cells": [
  {
   "cell_type": "markdown",
   "metadata": {},
   "source": [
    "# GDSC Raw Copy Number Data Importation\n",
    "**Local Version**: 2\n",
    "**Source Version**: 6.0\n",
    "\n",
    "This notebook will import raw GDSC copy number data through the [GDSC](http://www.cancerrxgene.org/downloads) portal which hosts files on the [Sanger FTP Server](ftp://ftp.sanger.ac.uk/pub/project/cancerrxgene/releases/) (release-6.0 in this case)\n",
    "\n",
    "Note that the GDSC exposes 4 copy number datasets, labeled as the following:\n",
    "\n",
    "1. Raw - \"Copy number data for Cell lines\"\n",
    "2. Preprocessed - \"Gene level copy number data\"\n",
    "3. Preprocessed - \"RACS in cell lines\"\n",
    "4. Preprocessed - \"RACSs CNV BEMs for cell lines\"\n",
    "\n",
    "In this case option 2 will be used, but the others are worth future consideration."
   ]
  },
  {
   "cell_type": "code",
   "execution_count": 1,
   "metadata": {
    "collapsed": false
   },
   "outputs": [],
   "source": [
    "%run -m ipy_startup\n",
    "%run -m ipy_logging\n",
    "from mgds.data_aggregation import database as db\n",
    "from mgds.data_aggregation import source as src\n",
    "from mgds.data_aggregation import io_utils as io\n",
    "pd.set_option('display.max_info_rows', 50000000)"
   ]
  },
  {
   "cell_type": "code",
   "execution_count": 2,
   "metadata": {
    "collapsed": false
   },
   "outputs": [
    {
     "name": "stderr",
     "output_type": "stream",
     "text": [
      "2016-11-22 06:32:32,481:DEBUG:mgds.data_aggregation.io_utils: Returning previously downloaded path for \"/Users/eczech/data/research/mgds/raw/gdsc_v2_copy-number.xlsx\"\n"
     ]
    },
    {
     "data": {
      "text/plain": [
       "'/Users/eczech/data/research/mgds/raw/gdsc_v2_copy-number.xlsx'"
      ]
     },
     "execution_count": 2,
     "metadata": {},
     "output_type": "execute_result"
    }
   ],
   "source": [
    "url = 'ftp://ftp.sanger.ac.uk/pub/project/cancerrxgene/releases/release-6.0/Gene_level_CN.xlsx'\n",
    "filepath = db.raw_file(src.GDSC_v2, 'gene-copy-number.xlsx')\n",
    "filepath = io.download(url, filepath, check_exists=True)\n",
    "filepath"
   ]
  },
  {
   "cell_type": "code",
   "execution_count": 3,
   "metadata": {
    "collapsed": false
   },
   "outputs": [
    {
     "name": "stdout",
     "output_type": "stream",
     "text": [
      "<class 'pandas.core.frame.DataFrame'>\n",
      "RangeIndex: 46222 entries, 0 to 46221\n",
      "Columns: 1000 entries, gene to no-11\n",
      "dtypes: float64(2), object(998)\n",
      "memory usage: 352.6+ MB\n"
     ]
    }
   ],
   "source": [
    "d = pd.read_excel(filepath, sheetname='Gene_level_CN', converters={'gene': str})\n",
    "d.info()"
   ]
  },
  {
   "cell_type": "code",
   "execution_count": 4,
   "metadata": {
    "collapsed": false
   },
   "outputs": [
    {
     "data": {
      "text/html": [
       "<div>\n",
       "<table border=\"1\" class=\"dataframe\">\n",
       "  <thead>\n",
       "    <tr style=\"text-align: right;\">\n",
       "      <th></th>\n",
       "      <th>gene</th>\n",
       "      <th>chr</th>\n",
       "      <th>start</th>\n",
       "      <th>stop</th>\n",
       "      <th>201T</th>\n",
       "      <th>22RV1</th>\n",
       "      <th>23132-87</th>\n",
       "      <th>42-MG-BA</th>\n",
       "      <th>451Lu</th>\n",
       "      <th>5637</th>\n",
       "      <th>...</th>\n",
       "      <th>WSU-NHL</th>\n",
       "      <th>YAPC</th>\n",
       "      <th>YH-13</th>\n",
       "      <th>YKG-1</th>\n",
       "      <th>YMB-1-E</th>\n",
       "      <th>YT</th>\n",
       "      <th>ZR-75-30</th>\n",
       "      <th>huH-1</th>\n",
       "      <th>no-10</th>\n",
       "      <th>no-11</th>\n",
       "    </tr>\n",
       "  </thead>\n",
       "  <tbody>\n",
       "    <tr>\n",
       "      <th>0</th>\n",
       "      <td>NaN</td>\n",
       "      <td>NaN</td>\n",
       "      <td>NaN</td>\n",
       "      <td>NaN</td>\n",
       "      <td>1287381</td>\n",
       "      <td>924100</td>\n",
       "      <td>910924</td>\n",
       "      <td>687561</td>\n",
       "      <td>1287706</td>\n",
       "      <td>687452</td>\n",
       "      <td>...</td>\n",
       "      <td>909785</td>\n",
       "      <td>909904</td>\n",
       "      <td>909905</td>\n",
       "      <td>687592</td>\n",
       "      <td>1303911</td>\n",
       "      <td>946358</td>\n",
       "      <td>909907</td>\n",
       "      <td>1298146</td>\n",
       "      <td>908452</td>\n",
       "      <td>908450</td>\n",
       "    </tr>\n",
       "    <tr>\n",
       "      <th>1</th>\n",
       "      <td>DDX11L1</td>\n",
       "      <td>1</td>\n",
       "      <td>11869.0</td>\n",
       "      <td>14412.0</td>\n",
       "      <td>-1,-1,-,-</td>\n",
       "      <td>-1,-1,-,-</td>\n",
       "      <td>-1,-1,-,-</td>\n",
       "      <td>-1,-1,-,-</td>\n",
       "      <td>-1,-1,-,-</td>\n",
       "      <td>-1,-1,-,-</td>\n",
       "      <td>...</td>\n",
       "      <td>-1,-1,-,-</td>\n",
       "      <td>-1,-1,-,-</td>\n",
       "      <td>-1,-1,-,-</td>\n",
       "      <td>-1,-1,-,-</td>\n",
       "      <td>-1,-1,-,-</td>\n",
       "      <td>-1,-1,-,-</td>\n",
       "      <td>-1,-1,-,-</td>\n",
       "      <td>-1,-1,-,-</td>\n",
       "      <td>-1,-1,-,-</td>\n",
       "      <td>-1,-1,-,-</td>\n",
       "    </tr>\n",
       "    <tr>\n",
       "      <th>2</th>\n",
       "      <td>WASH7P</td>\n",
       "      <td>1</td>\n",
       "      <td>14363.0</td>\n",
       "      <td>29806.0</td>\n",
       "      <td>-1,-1,-,-</td>\n",
       "      <td>-1,-1,-,-</td>\n",
       "      <td>-1,-1,-,-</td>\n",
       "      <td>-1,-1,-,-</td>\n",
       "      <td>-1,-1,-,-</td>\n",
       "      <td>-1,-1,-,-</td>\n",
       "      <td>...</td>\n",
       "      <td>-1,-1,-,-</td>\n",
       "      <td>-1,-1,-,-</td>\n",
       "      <td>-1,-1,-,-</td>\n",
       "      <td>-1,-1,-,-</td>\n",
       "      <td>-1,-1,-,-</td>\n",
       "      <td>-1,-1,-,-</td>\n",
       "      <td>-1,-1,-,-</td>\n",
       "      <td>-1,-1,-,-</td>\n",
       "      <td>-1,-1,-,-</td>\n",
       "      <td>-1,-1,-,-</td>\n",
       "    </tr>\n",
       "    <tr>\n",
       "      <th>3</th>\n",
       "      <td>FAM138A</td>\n",
       "      <td>1</td>\n",
       "      <td>34554.0</td>\n",
       "      <td>36081.0</td>\n",
       "      <td>-1,-1,-,-</td>\n",
       "      <td>-1,-1,-,-</td>\n",
       "      <td>-1,-1,-,-</td>\n",
       "      <td>-1,-1,-,-</td>\n",
       "      <td>-1,-1,-,-</td>\n",
       "      <td>-1,-1,-,-</td>\n",
       "      <td>...</td>\n",
       "      <td>-1,-1,-,-</td>\n",
       "      <td>-1,-1,-,-</td>\n",
       "      <td>-1,-1,-,-</td>\n",
       "      <td>-1,-1,-,-</td>\n",
       "      <td>-1,-1,-,-</td>\n",
       "      <td>-1,-1,-,-</td>\n",
       "      <td>-1,-1,-,-</td>\n",
       "      <td>-1,-1,-,-</td>\n",
       "      <td>-1,-1,-,-</td>\n",
       "      <td>-1,-1,-,-</td>\n",
       "    </tr>\n",
       "    <tr>\n",
       "      <th>4</th>\n",
       "      <td>OR4G11P</td>\n",
       "      <td>1</td>\n",
       "      <td>62948.0</td>\n",
       "      <td>63887.0</td>\n",
       "      <td>5,5,L,-</td>\n",
       "      <td>2,2,H,-</td>\n",
       "      <td>2,2,H,-</td>\n",
       "      <td>5,5,H,-</td>\n",
       "      <td>4,4,H,-</td>\n",
       "      <td>3,3,H,-</td>\n",
       "      <td>...</td>\n",
       "      <td>2,2,L,-</td>\n",
       "      <td>4,4,H,-</td>\n",
       "      <td>2,2,H,-</td>\n",
       "      <td>3,3,H,-</td>\n",
       "      <td>2,2,H,-</td>\n",
       "      <td>5,5,L,-</td>\n",
       "      <td>2,2,L,-</td>\n",
       "      <td>2,2,L,-</td>\n",
       "      <td>3,3,H,-</td>\n",
       "      <td>3,3,L,-</td>\n",
       "    </tr>\n",
       "  </tbody>\n",
       "</table>\n",
       "<p>5 rows × 1000 columns</p>\n",
       "</div>"
      ],
      "text/plain": [
       "      gene  chr    start     stop       201T      22RV1   23132-87   42-MG-BA  \\\n",
       "0      NaN  NaN      NaN      NaN    1287381     924100     910924     687561   \n",
       "1  DDX11L1    1  11869.0  14412.0  -1,-1,-,-  -1,-1,-,-  -1,-1,-,-  -1,-1,-,-   \n",
       "2   WASH7P    1  14363.0  29806.0  -1,-1,-,-  -1,-1,-,-  -1,-1,-,-  -1,-1,-,-   \n",
       "3  FAM138A    1  34554.0  36081.0  -1,-1,-,-  -1,-1,-,-  -1,-1,-,-  -1,-1,-,-   \n",
       "4  OR4G11P    1  62948.0  63887.0    5,5,L,-    2,2,H,-    2,2,H,-    5,5,H,-   \n",
       "\n",
       "       451Lu       5637    ...        WSU-NHL       YAPC      YH-13  \\\n",
       "0    1287706     687452    ...         909785     909904     909905   \n",
       "1  -1,-1,-,-  -1,-1,-,-    ...      -1,-1,-,-  -1,-1,-,-  -1,-1,-,-   \n",
       "2  -1,-1,-,-  -1,-1,-,-    ...      -1,-1,-,-  -1,-1,-,-  -1,-1,-,-   \n",
       "3  -1,-1,-,-  -1,-1,-,-    ...      -1,-1,-,-  -1,-1,-,-  -1,-1,-,-   \n",
       "4    4,4,H,-    3,3,H,-    ...        2,2,L,-    4,4,H,-    2,2,H,-   \n",
       "\n",
       "       YKG-1    YMB-1-E         YT   ZR-75-30      huH-1      no-10      no-11  \n",
       "0     687592    1303911     946358     909907    1298146     908452     908450  \n",
       "1  -1,-1,-,-  -1,-1,-,-  -1,-1,-,-  -1,-1,-,-  -1,-1,-,-  -1,-1,-,-  -1,-1,-,-  \n",
       "2  -1,-1,-,-  -1,-1,-,-  -1,-1,-,-  -1,-1,-,-  -1,-1,-,-  -1,-1,-,-  -1,-1,-,-  \n",
       "3  -1,-1,-,-  -1,-1,-,-  -1,-1,-,-  -1,-1,-,-  -1,-1,-,-  -1,-1,-,-  -1,-1,-,-  \n",
       "4    3,3,H,-    2,2,H,-    5,5,L,-    2,2,L,-    2,2,L,-    3,3,H,-    3,3,L,-  \n",
       "\n",
       "[5 rows x 1000 columns]"
      ]
     },
     "execution_count": 4,
     "metadata": {},
     "output_type": "execute_result"
    }
   ],
   "source": [
    "d.head()"
   ]
  },
  {
   "cell_type": "code",
   "execution_count": 5,
   "metadata": {
    "collapsed": false
   },
   "outputs": [
    {
     "data": {
      "text/plain": [
       "201T        1287381\n",
       "22RV1        924100\n",
       "23132-87     910924\n",
       "42-MG-BA     687561\n",
       "451Lu       1287706\n",
       "Name: 0, dtype: object"
      ]
     },
     "execution_count": 5,
     "metadata": {},
     "output_type": "execute_result"
    }
   ],
   "source": [
    "cosmic_ids = d.iloc[0, 4:]\n",
    "cosmic_ids.head()"
   ]
  },
  {
   "cell_type": "code",
   "execution_count": 6,
   "metadata": {
    "collapsed": false
   },
   "outputs": [
    {
     "data": {
      "text/plain": [
       "<class 'str'>    998\n",
       "<class 'int'>      2\n",
       "dtype: int64"
      ]
     },
     "execution_count": 6,
     "metadata": {},
     "output_type": "execute_result"
    }
   ],
   "source": [
    "pd.Series([type(x) for x in d.columns]).value_counts()"
   ]
  },
  {
   "cell_type": "code",
   "execution_count": 7,
   "metadata": {
    "collapsed": false
   },
   "outputs": [
    {
     "data": {
      "text/html": [
       "<div>\n",
       "<table border=\"1\" class=\"dataframe\">\n",
       "  <thead>\n",
       "    <tr style=\"text-align: right;\">\n",
       "      <th></th>\n",
       "      <th>gene</th>\n",
       "      <th>chr</th>\n",
       "      <th>start</th>\n",
       "      <th>stop</th>\n",
       "      <th>201T</th>\n",
       "      <th>22RV1</th>\n",
       "      <th>23132-87</th>\n",
       "      <th>42-MG-BA</th>\n",
       "      <th>451Lu</th>\n",
       "      <th>5637</th>\n",
       "      <th>...</th>\n",
       "      <th>WSU-NHL</th>\n",
       "      <th>YAPC</th>\n",
       "      <th>YH-13</th>\n",
       "      <th>YKG-1</th>\n",
       "      <th>YMB-1-E</th>\n",
       "      <th>YT</th>\n",
       "      <th>ZR-75-30</th>\n",
       "      <th>huH-1</th>\n",
       "      <th>no-10</th>\n",
       "      <th>no-11</th>\n",
       "    </tr>\n",
       "  </thead>\n",
       "  <tbody>\n",
       "    <tr>\n",
       "      <th>1</th>\n",
       "      <td>DDX11L1</td>\n",
       "      <td>1</td>\n",
       "      <td>11869.0</td>\n",
       "      <td>14412.0</td>\n",
       "      <td>-1,-1,-,-</td>\n",
       "      <td>-1,-1,-,-</td>\n",
       "      <td>-1,-1,-,-</td>\n",
       "      <td>-1,-1,-,-</td>\n",
       "      <td>-1,-1,-,-</td>\n",
       "      <td>-1,-1,-,-</td>\n",
       "      <td>...</td>\n",
       "      <td>-1,-1,-,-</td>\n",
       "      <td>-1,-1,-,-</td>\n",
       "      <td>-1,-1,-,-</td>\n",
       "      <td>-1,-1,-,-</td>\n",
       "      <td>-1,-1,-,-</td>\n",
       "      <td>-1,-1,-,-</td>\n",
       "      <td>-1,-1,-,-</td>\n",
       "      <td>-1,-1,-,-</td>\n",
       "      <td>-1,-1,-,-</td>\n",
       "      <td>-1,-1,-,-</td>\n",
       "    </tr>\n",
       "    <tr>\n",
       "      <th>2</th>\n",
       "      <td>WASH7P</td>\n",
       "      <td>1</td>\n",
       "      <td>14363.0</td>\n",
       "      <td>29806.0</td>\n",
       "      <td>-1,-1,-,-</td>\n",
       "      <td>-1,-1,-,-</td>\n",
       "      <td>-1,-1,-,-</td>\n",
       "      <td>-1,-1,-,-</td>\n",
       "      <td>-1,-1,-,-</td>\n",
       "      <td>-1,-1,-,-</td>\n",
       "      <td>...</td>\n",
       "      <td>-1,-1,-,-</td>\n",
       "      <td>-1,-1,-,-</td>\n",
       "      <td>-1,-1,-,-</td>\n",
       "      <td>-1,-1,-,-</td>\n",
       "      <td>-1,-1,-,-</td>\n",
       "      <td>-1,-1,-,-</td>\n",
       "      <td>-1,-1,-,-</td>\n",
       "      <td>-1,-1,-,-</td>\n",
       "      <td>-1,-1,-,-</td>\n",
       "      <td>-1,-1,-,-</td>\n",
       "    </tr>\n",
       "    <tr>\n",
       "      <th>3</th>\n",
       "      <td>FAM138A</td>\n",
       "      <td>1</td>\n",
       "      <td>34554.0</td>\n",
       "      <td>36081.0</td>\n",
       "      <td>-1,-1,-,-</td>\n",
       "      <td>-1,-1,-,-</td>\n",
       "      <td>-1,-1,-,-</td>\n",
       "      <td>-1,-1,-,-</td>\n",
       "      <td>-1,-1,-,-</td>\n",
       "      <td>-1,-1,-,-</td>\n",
       "      <td>...</td>\n",
       "      <td>-1,-1,-,-</td>\n",
       "      <td>-1,-1,-,-</td>\n",
       "      <td>-1,-1,-,-</td>\n",
       "      <td>-1,-1,-,-</td>\n",
       "      <td>-1,-1,-,-</td>\n",
       "      <td>-1,-1,-,-</td>\n",
       "      <td>-1,-1,-,-</td>\n",
       "      <td>-1,-1,-,-</td>\n",
       "      <td>-1,-1,-,-</td>\n",
       "      <td>-1,-1,-,-</td>\n",
       "    </tr>\n",
       "    <tr>\n",
       "      <th>4</th>\n",
       "      <td>OR4G11P</td>\n",
       "      <td>1</td>\n",
       "      <td>62948.0</td>\n",
       "      <td>63887.0</td>\n",
       "      <td>5,5,L,-</td>\n",
       "      <td>2,2,H,-</td>\n",
       "      <td>2,2,H,-</td>\n",
       "      <td>5,5,H,-</td>\n",
       "      <td>4,4,H,-</td>\n",
       "      <td>3,3,H,-</td>\n",
       "      <td>...</td>\n",
       "      <td>2,2,L,-</td>\n",
       "      <td>4,4,H,-</td>\n",
       "      <td>2,2,H,-</td>\n",
       "      <td>3,3,H,-</td>\n",
       "      <td>2,2,H,-</td>\n",
       "      <td>5,5,L,-</td>\n",
       "      <td>2,2,L,-</td>\n",
       "      <td>2,2,L,-</td>\n",
       "      <td>3,3,H,-</td>\n",
       "      <td>3,3,L,-</td>\n",
       "    </tr>\n",
       "    <tr>\n",
       "      <th>5</th>\n",
       "      <td>OR4F5</td>\n",
       "      <td>1</td>\n",
       "      <td>65882.0</td>\n",
       "      <td>70008.0</td>\n",
       "      <td>5,5,L,-</td>\n",
       "      <td>2,2,H,-</td>\n",
       "      <td>2,2,H,-</td>\n",
       "      <td>5,5,H,-</td>\n",
       "      <td>4,4,H,-</td>\n",
       "      <td>3,3,H,-</td>\n",
       "      <td>...</td>\n",
       "      <td>2,2,L,-</td>\n",
       "      <td>4,4,H,-</td>\n",
       "      <td>2,2,H,-</td>\n",
       "      <td>3,3,H,-</td>\n",
       "      <td>2,2,H,-</td>\n",
       "      <td>5,5,L,-</td>\n",
       "      <td>2,2,L,-</td>\n",
       "      <td>2,2,L,-</td>\n",
       "      <td>3,3,H,-</td>\n",
       "      <td>3,3,L,-</td>\n",
       "    </tr>\n",
       "  </tbody>\n",
       "</table>\n",
       "<p>5 rows × 1000 columns</p>\n",
       "</div>"
      ],
      "text/plain": [
       "      gene chr    start     stop       201T      22RV1   23132-87   42-MG-BA  \\\n",
       "1  DDX11L1   1  11869.0  14412.0  -1,-1,-,-  -1,-1,-,-  -1,-1,-,-  -1,-1,-,-   \n",
       "2   WASH7P   1  14363.0  29806.0  -1,-1,-,-  -1,-1,-,-  -1,-1,-,-  -1,-1,-,-   \n",
       "3  FAM138A   1  34554.0  36081.0  -1,-1,-,-  -1,-1,-,-  -1,-1,-,-  -1,-1,-,-   \n",
       "4  OR4G11P   1  62948.0  63887.0    5,5,L,-    2,2,H,-    2,2,H,-    5,5,H,-   \n",
       "5    OR4F5   1  65882.0  70008.0    5,5,L,-    2,2,H,-    2,2,H,-    5,5,H,-   \n",
       "\n",
       "       451Lu       5637    ...        WSU-NHL       YAPC      YH-13  \\\n",
       "1  -1,-1,-,-  -1,-1,-,-    ...      -1,-1,-,-  -1,-1,-,-  -1,-1,-,-   \n",
       "2  -1,-1,-,-  -1,-1,-,-    ...      -1,-1,-,-  -1,-1,-,-  -1,-1,-,-   \n",
       "3  -1,-1,-,-  -1,-1,-,-    ...      -1,-1,-,-  -1,-1,-,-  -1,-1,-,-   \n",
       "4    4,4,H,-    3,3,H,-    ...        2,2,L,-    4,4,H,-    2,2,H,-   \n",
       "5    4,4,H,-    3,3,H,-    ...        2,2,L,-    4,4,H,-    2,2,H,-   \n",
       "\n",
       "       YKG-1    YMB-1-E         YT   ZR-75-30      huH-1      no-10      no-11  \n",
       "1  -1,-1,-,-  -1,-1,-,-  -1,-1,-,-  -1,-1,-,-  -1,-1,-,-  -1,-1,-,-  -1,-1,-,-  \n",
       "2  -1,-1,-,-  -1,-1,-,-  -1,-1,-,-  -1,-1,-,-  -1,-1,-,-  -1,-1,-,-  -1,-1,-,-  \n",
       "3  -1,-1,-,-  -1,-1,-,-  -1,-1,-,-  -1,-1,-,-  -1,-1,-,-  -1,-1,-,-  -1,-1,-,-  \n",
       "4    3,3,H,-    2,2,H,-    5,5,L,-    2,2,L,-    2,2,L,-    3,3,H,-    3,3,L,-  \n",
       "5    3,3,H,-    2,2,H,-    5,5,L,-    2,2,L,-    2,2,L,-    3,3,H,-    3,3,L,-  \n",
       "\n",
       "[5 rows x 1000 columns]"
      ]
     },
     "execution_count": 7,
     "metadata": {},
     "output_type": "execute_result"
    }
   ],
   "source": [
    "d.iloc[1:,:].head()"
   ]
  },
  {
   "cell_type": "code",
   "execution_count": 10,
   "metadata": {
    "collapsed": false
   },
   "outputs": [
    {
     "data": {
      "text/html": [
       "<div>\n",
       "<table border=\"1\" class=\"dataframe\">\n",
       "  <thead>\n",
       "    <tr style=\"text-align: right;\">\n",
       "      <th></th>\n",
       "      <th>gene</th>\n",
       "      <th>chr</th>\n",
       "      <th>start</th>\n",
       "      <th>stop</th>\n",
       "      <th>CELL_LINE_ID</th>\n",
       "      <th>VALUE</th>\n",
       "    </tr>\n",
       "  </thead>\n",
       "  <tbody>\n",
       "    <tr>\n",
       "      <th>0</th>\n",
       "      <td>DDX11L1</td>\n",
       "      <td>1</td>\n",
       "      <td>11869.0</td>\n",
       "      <td>14412.0</td>\n",
       "      <td>201T</td>\n",
       "      <td>-1,-1,-,-</td>\n",
       "    </tr>\n",
       "    <tr>\n",
       "      <th>1</th>\n",
       "      <td>WASH7P</td>\n",
       "      <td>1</td>\n",
       "      <td>14363.0</td>\n",
       "      <td>29806.0</td>\n",
       "      <td>201T</td>\n",
       "      <td>-1,-1,-,-</td>\n",
       "    </tr>\n",
       "    <tr>\n",
       "      <th>2</th>\n",
       "      <td>FAM138A</td>\n",
       "      <td>1</td>\n",
       "      <td>34554.0</td>\n",
       "      <td>36081.0</td>\n",
       "      <td>201T</td>\n",
       "      <td>-1,-1,-,-</td>\n",
       "    </tr>\n",
       "    <tr>\n",
       "      <th>3</th>\n",
       "      <td>OR4G11P</td>\n",
       "      <td>1</td>\n",
       "      <td>62948.0</td>\n",
       "      <td>63887.0</td>\n",
       "      <td>201T</td>\n",
       "      <td>5,5,L,-</td>\n",
       "    </tr>\n",
       "    <tr>\n",
       "      <th>4</th>\n",
       "      <td>OR4F5</td>\n",
       "      <td>1</td>\n",
       "      <td>65882.0</td>\n",
       "      <td>70008.0</td>\n",
       "      <td>201T</td>\n",
       "      <td>5,5,L,-</td>\n",
       "    </tr>\n",
       "  </tbody>\n",
       "</table>\n",
       "</div>"
      ],
      "text/plain": [
       "      gene chr    start     stop CELL_LINE_ID      VALUE\n",
       "0  DDX11L1   1  11869.0  14412.0         201T  -1,-1,-,-\n",
       "1   WASH7P   1  14363.0  29806.0         201T  -1,-1,-,-\n",
       "2  FAM138A   1  34554.0  36081.0         201T  -1,-1,-,-\n",
       "3  OR4G11P   1  62948.0  63887.0         201T    5,5,L,-\n",
       "4    OR4F5   1  65882.0  70008.0         201T    5,5,L,-"
      ]
     },
     "execution_count": 10,
     "metadata": {},
     "output_type": "execute_result"
    }
   ],
   "source": [
    "d_tr = pd.melt(d.iloc[1:,:], id_vars=['gene', 'chr', 'start', 'stop'], var_name='CELL_LINE_ID', value_name='VALUE')\n",
    "d_tr.head()"
   ]
  },
  {
   "cell_type": "code",
   "execution_count": 11,
   "metadata": {
    "collapsed": false
   },
   "outputs": [
    {
     "data": {
      "text/html": [
       "<div>\n",
       "<table border=\"1\" class=\"dataframe\">\n",
       "  <thead>\n",
       "    <tr style=\"text-align: right;\">\n",
       "      <th></th>\n",
       "      <th>GENE_ID:HGNC</th>\n",
       "      <th>CHR</th>\n",
       "      <th>START</th>\n",
       "      <th>STOP</th>\n",
       "      <th>CELL_LINE_ID</th>\n",
       "      <th>VALUE</th>\n",
       "      <th>CELL_LINE_ID:COSMIC</th>\n",
       "    </tr>\n",
       "  </thead>\n",
       "  <tbody>\n",
       "    <tr>\n",
       "      <th>0</th>\n",
       "      <td>DDX11L1</td>\n",
       "      <td>1</td>\n",
       "      <td>11869.0</td>\n",
       "      <td>14412.0</td>\n",
       "      <td>201T</td>\n",
       "      <td>-1,-1,-,-</td>\n",
       "      <td>1287381</td>\n",
       "    </tr>\n",
       "    <tr>\n",
       "      <th>1</th>\n",
       "      <td>WASH7P</td>\n",
       "      <td>1</td>\n",
       "      <td>14363.0</td>\n",
       "      <td>29806.0</td>\n",
       "      <td>201T</td>\n",
       "      <td>-1,-1,-,-</td>\n",
       "      <td>1287381</td>\n",
       "    </tr>\n",
       "    <tr>\n",
       "      <th>2</th>\n",
       "      <td>FAM138A</td>\n",
       "      <td>1</td>\n",
       "      <td>34554.0</td>\n",
       "      <td>36081.0</td>\n",
       "      <td>201T</td>\n",
       "      <td>-1,-1,-,-</td>\n",
       "      <td>1287381</td>\n",
       "    </tr>\n",
       "    <tr>\n",
       "      <th>3</th>\n",
       "      <td>OR4G11P</td>\n",
       "      <td>1</td>\n",
       "      <td>62948.0</td>\n",
       "      <td>63887.0</td>\n",
       "      <td>201T</td>\n",
       "      <td>5,5,L,-</td>\n",
       "      <td>1287381</td>\n",
       "    </tr>\n",
       "    <tr>\n",
       "      <th>4</th>\n",
       "      <td>OR4F5</td>\n",
       "      <td>1</td>\n",
       "      <td>65882.0</td>\n",
       "      <td>70008.0</td>\n",
       "      <td>201T</td>\n",
       "      <td>5,5,L,-</td>\n",
       "      <td>1287381</td>\n",
       "    </tr>\n",
       "  </tbody>\n",
       "</table>\n",
       "</div>"
      ],
      "text/plain": [
       "  GENE_ID:HGNC CHR    START     STOP CELL_LINE_ID      VALUE  \\\n",
       "0      DDX11L1   1  11869.0  14412.0         201T  -1,-1,-,-   \n",
       "1       WASH7P   1  14363.0  29806.0         201T  -1,-1,-,-   \n",
       "2      FAM138A   1  34554.0  36081.0         201T  -1,-1,-,-   \n",
       "3      OR4G11P   1  62948.0  63887.0         201T    5,5,L,-   \n",
       "4        OR4F5   1  65882.0  70008.0         201T    5,5,L,-   \n",
       "\n",
       "  CELL_LINE_ID:COSMIC  \n",
       "0             1287381  \n",
       "1             1287381  \n",
       "2             1287381  \n",
       "3             1287381  \n",
       "4             1287381  "
      ]
     },
     "execution_count": 11,
     "metadata": {},
     "output_type": "execute_result"
    }
   ],
   "source": [
    "# Add COSMIC integer IDs as a separate field\n",
    "d_tr['CELL_LINE_ID:COSMIC'] = d_tr['CELL_LINE_ID'].map(cosmic_ids)\n",
    "assert np.all(d_tr['CELL_LINE_ID:COSMIC'].notnull())\n",
    "d_tr = d_tr.rename(columns=lambda c: c.upper()).rename(columns={'GENE': 'GENE_ID:HGNC'})\n",
    "\n",
    "# For COSMIC IDs, make sure all values are integers first\n",
    "assert np.all(d_tr['CELL_LINE_ID:COSMIC'].apply(type) == int)\n",
    "d_tr['CELL_LINE_ID:COSMIC'] = d_tr['CELL_LINE_ID:COSMIC'].astype(str)\n",
    "\n",
    "# For common cell line IDs, make sure there are no floats and then convert each to string\n",
    "assert np.all(d_tr['CELL_LINE_ID'].apply(type).isin([str, int])), \\\n",
    "    'Found cell line ID not given as string or int'\n",
    "d_tr['CELL_LINE_ID'] = d_tr['CELL_LINE_ID'].astype(str)\n",
    "\n",
    "# Ensure that no cell line IDs ever conflict with one another\n",
    "assert d_tr.groupby('CELL_LINE_ID')['CELL_LINE_ID:COSMIC'].nunique().max() == 1\n",
    "assert d_tr.groupby('CELL_LINE_ID:COSMIC')['CELL_LINE_ID'].nunique().max() == 1\n",
    "\n",
    "# Ensure that each cell line + gene combination has no more than 1 record\n",
    "assert d_tr.groupby(['CELL_LINE_ID', 'GENE_ID:HGNC']).size().max() == 1, \\\n",
    "    'Found at least one duplicated cell line + gene combinaton'\n",
    "\n",
    "d_tr.head()"
   ]
  },
  {
   "cell_type": "code",
   "execution_count": 12,
   "metadata": {
    "collapsed": false
   },
   "outputs": [
    {
     "name": "stdout",
     "output_type": "stream",
     "text": [
      "<class 'pandas.core.frame.DataFrame'>\n",
      "RangeIndex: 46036116 entries, 0 to 46036115\n",
      "Data columns (total 7 columns):\n",
      "GENE_ID:HGNC           46036116 non-null object\n",
      "CHR                    46036116 non-null object\n",
      "START                  46036116 non-null float64\n",
      "STOP                   46036116 non-null float64\n",
      "CELL_LINE_ID           46036116 non-null object\n",
      "VALUE                  46036116 non-null object\n",
      "CELL_LINE_ID:COSMIC    46036116 non-null object\n",
      "dtypes: float64(2), object(5)\n",
      "memory usage: 2.4+ GB\n"
     ]
    }
   ],
   "source": [
    "d_tr.info()"
   ]
  },
  {
   "cell_type": "code",
   "execution_count": 13,
   "metadata": {
    "collapsed": false
   },
   "outputs": [
    {
     "data": {
      "text/plain": [
       "<class 'str'>    46036116\n",
       "Name: GENE_ID:HGNC, dtype: int64"
      ]
     },
     "execution_count": 13,
     "metadata": {},
     "output_type": "execute_result"
    }
   ],
   "source": [
    "d_tr['GENE_ID:HGNC'].apply(type).value_counts()"
   ]
  },
  {
   "cell_type": "code",
   "execution_count": 14,
   "metadata": {
    "collapsed": false
   },
   "outputs": [
    {
     "data": {
      "text/plain": [
       "2,2,H,-    13527476\n",
       "3,3,H,-    10046271\n",
       "4,4,H,-     7211121\n",
       "2,2,L,-     6579659\n",
       "3,3,L,-     2454722\n",
       "Name: VALUE, dtype: int64"
      ]
     },
     "execution_count": 14,
     "metadata": {},
     "output_type": "execute_result"
    }
   ],
   "source": [
    "d_tr['VALUE'].value_counts().head()"
   ]
  },
  {
   "cell_type": "code",
   "execution_count": 15,
   "metadata": {
    "collapsed": false
   },
   "outputs": [
    {
     "data": {
      "text/plain": [
       "996"
      ]
     },
     "execution_count": 15,
     "metadata": {},
     "output_type": "execute_result"
    }
   ],
   "source": [
    "d_tr['CELL_LINE_ID'].nunique()"
   ]
  },
  {
   "cell_type": "code",
   "execution_count": 16,
   "metadata": {
    "collapsed": false
   },
   "outputs": [
    {
     "data": {
      "text/plain": [
       "'/Users/eczech/data/research/mgds/import/gdsc_v2_gene-copy-number.pkl'"
      ]
     },
     "execution_count": 16,
     "metadata": {},
     "output_type": "execute_result"
    }
   ],
   "source": [
    "assert np.all(pd.notnull(d_tr))\n",
    "db.save(d_tr, src.GDSC_v2, db.IMPORT, 'gene-copy-number')"
   ]
  }
 ],
 "metadata": {
  "kernelspec": {
   "display_name": "Python 3",
   "language": "python",
   "name": "python3"
  },
  "language_info": {
   "codemirror_mode": {
    "name": "ipython",
    "version": 3
   },
   "file_extension": ".py",
   "mimetype": "text/x-python",
   "name": "python",
   "nbconvert_exporter": "python",
   "pygments_lexer": "ipython3",
   "version": "3.5.2"
  }
 },
 "nbformat": 4,
 "nbformat_minor": 0
}
