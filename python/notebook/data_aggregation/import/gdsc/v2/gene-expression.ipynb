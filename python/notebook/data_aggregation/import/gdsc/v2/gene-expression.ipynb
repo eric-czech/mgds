{
 "cells": [
  {
   "cell_type": "markdown",
   "metadata": {},
   "source": [
    "# GDSC Raw Gene Expression Data Importation\n",
    "**Local Version**: 2\n",
    "**Source Version**: 6.0\n",
    "\n",
    "This notebook will import raw GDSC expression data through the [GDSC](http://www.cancerrxgene.org/downloads) portal.  Normally, files for this are hosted on the [Sanger FTP Server](ftp://ftp.sanger.ac.uk/pub/project/cancerrxgene/releases/) (release-6.0 in this case), but that is not true for this particular dataset.  Data for this comes from the cancerrxgene.org domain and in order to get cell line ids for this, it has to be joined to a file on the FTP server (see below)\n",
    "\n",
    "Note that the GDSC exposes 2 expression datasets, labeled as the following:\n",
    "\n",
    "1. Raw - \"Expression array data for Cell lines\"\n",
    "2. Preprocessed - \"RMA normalised expression data for Cell lines\"\n",
    "\n",
    "In this case option 2 will be used and the raw data for this is located [here](http://www.cancerrxgene.org/gdsc1000/GDSC1000_WebResources/Data/preprocessed/Cell_line_RMA_proc_basalExp.txt.zip).  This file contains no cell line ids though so it has to be joined to [Cell_Lines_Details.xlsx](ftp://ftp.sanger.ac.uk/pub/project/cancerrxgene/releases/release-6.0/Cell_Lines_Details.xlsx) on the FTP server."
   ]
  },
  {
   "cell_type": "code",
   "execution_count": 2,
   "metadata": {
    "collapsed": true
   },
   "outputs": [],
   "source": [
    "%run -m ipy_startup\n",
    "%run -m ipy_logging\n",
    "%run -m ipy_seaborn\n",
    "from mgds.data_aggregation import database as db\n",
    "from mgds.data_aggregation import source as src\n",
    "from mgds.data_aggregation import io_utils\n",
    "import io\n",
    "from py_utils import zip_utils\n",
    "from py_utils.collection_utils import subset\n",
    "pd.set_option('display.max_info_rows', 50000000)"
   ]
  },
  {
   "cell_type": "markdown",
   "metadata": {},
   "source": [
    "## Load Raw Expression CSV"
   ]
  },
  {
   "cell_type": "code",
   "execution_count": 3,
   "metadata": {
    "collapsed": false
   },
   "outputs": [
    {
     "name": "stderr",
     "output_type": "stream",
     "text": [
      "2016-11-21 13:44:17,618:DEBUG:mgds.data_aggregation.io_utils: Returning previously downloaded path for \"/Users/eczech/data/research/mgds/raw/gdsc_v2_gene-expression.zip\"\n"
     ]
    },
    {
     "data": {
      "text/plain": [
       "'/Users/eczech/data/research/mgds/raw/gdsc_v2_gene-expression.zip'"
      ]
     },
     "execution_count": 3,
     "metadata": {},
     "output_type": "execute_result"
    }
   ],
   "source": [
    "# Download Cell Line Details spreadsheet\n",
    "url = 'http://www.cancerrxgene.org/gdsc1000/GDSC1000_WebResources/Data/preprocessed/Cell_line_RMA_proc_basalExp.txt.zip'\n",
    "filepath = db.raw_file(src.GDSC_v2, 'gene-expression.zip')\n",
    "filepath = io_utils.download(url, filepath, check_exists=True)\n",
    "filepath"
   ]
  },
  {
   "cell_type": "code",
   "execution_count": 12,
   "metadata": {
    "collapsed": false
   },
   "outputs": [
    {
     "data": {
      "text/html": [
       "<div>\n",
       "<table border=\"1\" class=\"dataframe\">\n",
       "  <thead>\n",
       "    <tr style=\"text-align: right;\">\n",
       "      <th></th>\n",
       "      <th>GENE_SYMBOLS</th>\n",
       "      <th>GENE_title</th>\n",
       "      <th>DATA.906826</th>\n",
       "      <th>DATA.687983</th>\n",
       "      <th>DATA.910927</th>\n",
       "      <th>DATA.1240138</th>\n",
       "      <th>DATA.1240139</th>\n",
       "      <th>DATA.906792</th>\n",
       "      <th>DATA.910688</th>\n",
       "      <th>DATA.1240135</th>\n",
       "      <th>...</th>\n",
       "      <th>DATA.753584</th>\n",
       "      <th>DATA.907044</th>\n",
       "      <th>DATA.998184</th>\n",
       "      <th>DATA.908145</th>\n",
       "      <th>DATA.1659787</th>\n",
       "      <th>DATA.1298157</th>\n",
       "      <th>DATA.1480372</th>\n",
       "      <th>DATA.1298533</th>\n",
       "      <th>DATA.930299</th>\n",
       "      <th>DATA.905954.1</th>\n",
       "    </tr>\n",
       "  </thead>\n",
       "  <tbody>\n",
       "    <tr>\n",
       "      <th>0</th>\n",
       "      <td>TSPAN6</td>\n",
       "      <td>tetraspanin 6 [Source:HGNC Symbol;Acc:11858]</td>\n",
       "      <td>7.632023</td>\n",
       "      <td>7.548671</td>\n",
       "      <td>8.712338</td>\n",
       "      <td>7.797142</td>\n",
       "      <td>7.729268</td>\n",
       "      <td>7.074533</td>\n",
       "      <td>3.285198</td>\n",
       "      <td>6.961606</td>\n",
       "      <td>...</td>\n",
       "      <td>7.105637</td>\n",
       "      <td>3.236503</td>\n",
       "      <td>3.038892</td>\n",
       "      <td>8.373223</td>\n",
       "      <td>6.932178</td>\n",
       "      <td>8.441628</td>\n",
       "      <td>8.422922</td>\n",
       "      <td>8.089255</td>\n",
       "      <td>3.112333</td>\n",
       "      <td>7.153127</td>\n",
       "    </tr>\n",
       "    <tr>\n",
       "      <th>1</th>\n",
       "      <td>TNMD</td>\n",
       "      <td>tenomodulin [Source:HGNC Symbol;Acc:17757]</td>\n",
       "      <td>2.964585</td>\n",
       "      <td>2.777716</td>\n",
       "      <td>2.643508</td>\n",
       "      <td>2.817923</td>\n",
       "      <td>2.957739</td>\n",
       "      <td>2.889677</td>\n",
       "      <td>2.828203</td>\n",
       "      <td>2.874751</td>\n",
       "      <td>...</td>\n",
       "      <td>2.798847</td>\n",
       "      <td>2.745137</td>\n",
       "      <td>2.976406</td>\n",
       "      <td>2.852552</td>\n",
       "      <td>2.622630</td>\n",
       "      <td>2.639276</td>\n",
       "      <td>2.879890</td>\n",
       "      <td>2.521169</td>\n",
       "      <td>2.870468</td>\n",
       "      <td>2.834285</td>\n",
       "    </tr>\n",
       "    <tr>\n",
       "      <th>2</th>\n",
       "      <td>DPM1</td>\n",
       "      <td>dolichyl-phosphate mannosyltransferase polypep...</td>\n",
       "      <td>10.379553</td>\n",
       "      <td>11.807341</td>\n",
       "      <td>9.880733</td>\n",
       "      <td>9.883471</td>\n",
       "      <td>10.418840</td>\n",
       "      <td>9.773987</td>\n",
       "      <td>10.264385</td>\n",
       "      <td>10.205931</td>\n",
       "      <td>...</td>\n",
       "      <td>10.486486</td>\n",
       "      <td>10.442951</td>\n",
       "      <td>10.311962</td>\n",
       "      <td>10.454830</td>\n",
       "      <td>10.418475</td>\n",
       "      <td>11.463742</td>\n",
       "      <td>10.557777</td>\n",
       "      <td>10.792750</td>\n",
       "      <td>9.873902</td>\n",
       "      <td>10.788218</td>\n",
       "    </tr>\n",
       "    <tr>\n",
       "      <th>3</th>\n",
       "      <td>SCYL3</td>\n",
       "      <td>SCY1-like 3 (S. cerevisiae) [Source:HGNC Symbo...</td>\n",
       "      <td>3.614794</td>\n",
       "      <td>4.066887</td>\n",
       "      <td>3.956230</td>\n",
       "      <td>4.063701</td>\n",
       "      <td>4.341500</td>\n",
       "      <td>4.270903</td>\n",
       "      <td>5.968168</td>\n",
       "      <td>3.715033</td>\n",
       "      <td>...</td>\n",
       "      <td>3.696835</td>\n",
       "      <td>4.624013</td>\n",
       "      <td>4.348524</td>\n",
       "      <td>3.858121</td>\n",
       "      <td>3.947561</td>\n",
       "      <td>4.425849</td>\n",
       "      <td>3.550390</td>\n",
       "      <td>4.443337</td>\n",
       "      <td>4.266828</td>\n",
       "      <td>4.100493</td>\n",
       "    </tr>\n",
       "    <tr>\n",
       "      <th>4</th>\n",
       "      <td>C1orf112</td>\n",
       "      <td>chromosome 1 open reading frame 112 [Source:HG...</td>\n",
       "      <td>3.380681</td>\n",
       "      <td>3.732485</td>\n",
       "      <td>3.236620</td>\n",
       "      <td>3.558414</td>\n",
       "      <td>3.840373</td>\n",
       "      <td>3.815055</td>\n",
       "      <td>3.011867</td>\n",
       "      <td>3.268449</td>\n",
       "      <td>...</td>\n",
       "      <td>3.726833</td>\n",
       "      <td>3.947744</td>\n",
       "      <td>3.806584</td>\n",
       "      <td>3.196988</td>\n",
       "      <td>3.814831</td>\n",
       "      <td>4.384732</td>\n",
       "      <td>4.247189</td>\n",
       "      <td>3.071359</td>\n",
       "      <td>3.230197</td>\n",
       "      <td>3.435795</td>\n",
       "    </tr>\n",
       "  </tbody>\n",
       "</table>\n",
       "<p>5 rows × 1020 columns</p>\n",
       "</div>"
      ],
      "text/plain": [
       "  GENE_SYMBOLS                                         GENE_title  \\\n",
       "0       TSPAN6       tetraspanin 6 [Source:HGNC Symbol;Acc:11858]   \n",
       "1         TNMD         tenomodulin [Source:HGNC Symbol;Acc:17757]   \n",
       "2         DPM1  dolichyl-phosphate mannosyltransferase polypep...   \n",
       "3        SCYL3  SCY1-like 3 (S. cerevisiae) [Source:HGNC Symbo...   \n",
       "4     C1orf112  chromosome 1 open reading frame 112 [Source:HG...   \n",
       "\n",
       "   DATA.906826  DATA.687983  DATA.910927  DATA.1240138  DATA.1240139  \\\n",
       "0     7.632023     7.548671     8.712338      7.797142      7.729268   \n",
       "1     2.964585     2.777716     2.643508      2.817923      2.957739   \n",
       "2    10.379553    11.807341     9.880733      9.883471     10.418840   \n",
       "3     3.614794     4.066887     3.956230      4.063701      4.341500   \n",
       "4     3.380681     3.732485     3.236620      3.558414      3.840373   \n",
       "\n",
       "   DATA.906792  DATA.910688  DATA.1240135      ...        DATA.753584  \\\n",
       "0     7.074533     3.285198      6.961606      ...           7.105637   \n",
       "1     2.889677     2.828203      2.874751      ...           2.798847   \n",
       "2     9.773987    10.264385     10.205931      ...          10.486486   \n",
       "3     4.270903     5.968168      3.715033      ...           3.696835   \n",
       "4     3.815055     3.011867      3.268449      ...           3.726833   \n",
       "\n",
       "   DATA.907044  DATA.998184  DATA.908145  DATA.1659787  DATA.1298157  \\\n",
       "0     3.236503     3.038892     8.373223      6.932178      8.441628   \n",
       "1     2.745137     2.976406     2.852552      2.622630      2.639276   \n",
       "2    10.442951    10.311962    10.454830     10.418475     11.463742   \n",
       "3     4.624013     4.348524     3.858121      3.947561      4.425849   \n",
       "4     3.947744     3.806584     3.196988      3.814831      4.384732   \n",
       "\n",
       "   DATA.1480372  DATA.1298533  DATA.930299  DATA.905954.1  \n",
       "0      8.422922      8.089255     3.112333       7.153127  \n",
       "1      2.879890      2.521169     2.870468       2.834285  \n",
       "2     10.557777     10.792750     9.873902      10.788218  \n",
       "3      3.550390      4.443337     4.266828       4.100493  \n",
       "4      4.247189      3.071359     3.230197       3.435795  \n",
       "\n",
       "[5 rows x 1020 columns]"
      ]
     },
     "execution_count": 12,
     "metadata": {},
     "output_type": "execute_result"
    }
   ],
   "source": [
    "filenames = zip_utils.get_zip_archive_files(filepath)        \n",
    "assert len(filenames) == 1, 'Files in zip archive do not match expected.  Files found: {}'.format(file_names)\n",
    "assert filenames[0] == 'Cell_line_RMA_proc_basalExp.txt', \\\n",
    "    'Files in zip archive do not match expected.  Files found: {}'.format(file_names)\n",
    "\n",
    "# Fetch raw bytes for csv file\n",
    "d = zip_utils.get_zip_archive_file_data(filepath, filenames[0])\n",
    "\n",
    "# Convert bytes to UTF8 string and parse as DataFrame\n",
    "d = pd.read_csv(io.StringIO(d.decode('utf-8')), sep='\\t')\n",
    "d.head()"
   ]
  },
  {
   "cell_type": "code",
   "execution_count": 13,
   "metadata": {
    "collapsed": false
   },
   "outputs": [
    {
     "name": "stdout",
     "output_type": "stream",
     "text": [
      "<class 'pandas.core.frame.DataFrame'>\n",
      "RangeIndex: 17737 entries, 0 to 17736\n",
      "Columns: 1020 entries, GENE_SYMBOLS to DATA.905954.1\n",
      "dtypes: float64(1018), object(2)\n",
      "memory usage: 138.0+ MB\n"
     ]
    }
   ],
   "source": [
    "d.info()"
   ]
  },
  {
   "cell_type": "code",
   "execution_count": 5,
   "metadata": {
    "collapsed": true
   },
   "outputs": [],
   "source": [
    "# Show example rows with null Gene IDs\n",
    "# pd.set_option('display.max_colwidth', 1000)\n",
    "# d[d['GENE_SYMBOLS'].isnull()].iloc[:, :10]"
   ]
  },
  {
   "cell_type": "code",
   "execution_count": 6,
   "metadata": {
    "collapsed": false
   },
   "outputs": [
    {
     "name": "stdout",
     "output_type": "stream",
     "text": [
      "False    17419\n",
      "True       318\n",
      "Name: Null Gene ID Counts, dtype: int64\n",
      "[Remove rows with null gene ID] Records before = 17737, Records after = 17419, Records removed = 318 (%1.79)\n"
     ]
    }
   ],
   "source": [
    "# At TOW, the only fields with any null values were the two-non data columns.\n",
    "# However, this is problematic since these identifiers are crucial and since they\n",
    "# are not present the best thing to do seems to be to just remove any rows with\n",
    "# no gene id\n",
    "\n",
    "# First though, make sure there are no null values in other fields\n",
    "c_null = d.columns[d.isnull().sum(axis=0) > 0].tolist()\n",
    "assert c_null == ['GENE_SYMBOLS', 'GENE_title']\n",
    "\n",
    "# And ensure that there are only two non-\"DATA\" columns\n",
    "c_data = d.filter(regex='DATA.').columns.tolist()\n",
    "assert len(d[[c for c in d if c not in c_data]].columns.tolist()) == 2\n",
    "\n",
    "# Drop gene title now -- don't need this anymore\n",
    "assert 'GENE_title' in d\n",
    "d = d.drop('GENE_title', axis=1)\n",
    "\n",
    "# Print the distribution of null gene ids\n",
    "print(d['GENE_SYMBOLS'].isnull().value_counts().rename('Null Gene ID Counts'))\n",
    "\n",
    "# Remove rows for absent GENE ids\n",
    "d = subset(d, lambda df: df[df['GENE_SYMBOLS'].notnull()], subset_op='Remove rows with null gene ID')\n",
    "\n",
    "# Rename gene id field\n",
    "d = d.rename(columns={'GENE_SYMBOLS': 'GENE_ID:HGNC'})\n",
    "\n",
    "# Make sure everything is now non-null\n",
    "assert np.all(d.notnull())"
   ]
  },
  {
   "cell_type": "code",
   "execution_count": 7,
   "metadata": {
    "collapsed": false
   },
   "outputs": [
    {
     "data": {
      "text/plain": [
       "array([ 1503362.1,  1330983.1,   909976.1,   905954.1])"
      ]
     },
     "execution_count": 7,
     "metadata": {},
     "output_type": "execute_result"
    }
   ],
   "source": [
    "# Convert cell line ID strings to proper COSMIC IDs\n",
    "\n",
    "# First extract all column names corresponding to cell lines\n",
    "c_cl = d.filter(regex='DATA.').columns.tolist()\n",
    "\n",
    "# Convert these ids to numeric after stripping out string parts\n",
    "n_cl = pd.to_numeric([c.replace('DATA.', '') for c in c_cl])\n",
    "\n",
    "# Idenfity ids that end with a decimal of some kind (ie that end with \".1\" instead of no decimal)\n",
    "mask_dupe = n_cl != n_cl.astype(np.int64)\n",
    "\n",
    "n_cl[mask_dupe]"
   ]
  },
  {
   "cell_type": "code",
   "execution_count": 8,
   "metadata": {
    "collapsed": false
   },
   "outputs": [
    {
     "name": "stderr",
     "output_type": "stream",
     "text": [
      "2016-11-21 11:40:14,774:INFO:root: Dropping the following cell line columns as they seem to have second runs for the same experiment (indicated by columns with the same ID + \".1\"): ['DATA.1503362', 'DATA.1330983', 'DATA.909976', 'DATA.905954']\n"
     ]
    },
    {
     "data": {
      "text/html": [
       "<div>\n",
       "<table border=\"1\" class=\"dataframe\">\n",
       "  <thead>\n",
       "    <tr style=\"text-align: right;\">\n",
       "      <th></th>\n",
       "      <th>GENE_ID:HGNC</th>\n",
       "      <th>906826</th>\n",
       "      <th>687983</th>\n",
       "      <th>910927</th>\n",
       "      <th>1240138</th>\n",
       "      <th>1240139</th>\n",
       "      <th>906792</th>\n",
       "      <th>910688</th>\n",
       "      <th>1240135</th>\n",
       "      <th>1290812</th>\n",
       "      <th>...</th>\n",
       "      <th>753584</th>\n",
       "      <th>907044</th>\n",
       "      <th>998184</th>\n",
       "      <th>908145</th>\n",
       "      <th>1659787</th>\n",
       "      <th>1298157</th>\n",
       "      <th>1480372</th>\n",
       "      <th>1298533</th>\n",
       "      <th>930299</th>\n",
       "      <th>905954</th>\n",
       "    </tr>\n",
       "  </thead>\n",
       "  <tbody>\n",
       "    <tr>\n",
       "      <th>0</th>\n",
       "      <td>TSPAN6</td>\n",
       "      <td>7.632023</td>\n",
       "      <td>7.548671</td>\n",
       "      <td>8.712338</td>\n",
       "      <td>7.797142</td>\n",
       "      <td>7.729268</td>\n",
       "      <td>7.074533</td>\n",
       "      <td>3.285198</td>\n",
       "      <td>6.961606</td>\n",
       "      <td>5.943046</td>\n",
       "      <td>...</td>\n",
       "      <td>7.105637</td>\n",
       "      <td>3.236503</td>\n",
       "      <td>3.038892</td>\n",
       "      <td>8.373223</td>\n",
       "      <td>6.932178</td>\n",
       "      <td>8.441628</td>\n",
       "      <td>8.422922</td>\n",
       "      <td>8.089255</td>\n",
       "      <td>3.112333</td>\n",
       "      <td>7.153127</td>\n",
       "    </tr>\n",
       "    <tr>\n",
       "      <th>1</th>\n",
       "      <td>TNMD</td>\n",
       "      <td>2.964585</td>\n",
       "      <td>2.777716</td>\n",
       "      <td>2.643508</td>\n",
       "      <td>2.817923</td>\n",
       "      <td>2.957739</td>\n",
       "      <td>2.889677</td>\n",
       "      <td>2.828203</td>\n",
       "      <td>2.874751</td>\n",
       "      <td>2.686874</td>\n",
       "      <td>...</td>\n",
       "      <td>2.798847</td>\n",
       "      <td>2.745137</td>\n",
       "      <td>2.976406</td>\n",
       "      <td>2.852552</td>\n",
       "      <td>2.622630</td>\n",
       "      <td>2.639276</td>\n",
       "      <td>2.879890</td>\n",
       "      <td>2.521169</td>\n",
       "      <td>2.870468</td>\n",
       "      <td>2.834285</td>\n",
       "    </tr>\n",
       "    <tr>\n",
       "      <th>2</th>\n",
       "      <td>DPM1</td>\n",
       "      <td>10.379553</td>\n",
       "      <td>11.807341</td>\n",
       "      <td>9.880733</td>\n",
       "      <td>9.883471</td>\n",
       "      <td>10.418840</td>\n",
       "      <td>9.773987</td>\n",
       "      <td>10.264385</td>\n",
       "      <td>10.205931</td>\n",
       "      <td>10.299757</td>\n",
       "      <td>...</td>\n",
       "      <td>10.486486</td>\n",
       "      <td>10.442951</td>\n",
       "      <td>10.311962</td>\n",
       "      <td>10.454830</td>\n",
       "      <td>10.418475</td>\n",
       "      <td>11.463742</td>\n",
       "      <td>10.557777</td>\n",
       "      <td>10.792750</td>\n",
       "      <td>9.873902</td>\n",
       "      <td>10.788218</td>\n",
       "    </tr>\n",
       "    <tr>\n",
       "      <th>3</th>\n",
       "      <td>SCYL3</td>\n",
       "      <td>3.614794</td>\n",
       "      <td>4.066887</td>\n",
       "      <td>3.956230</td>\n",
       "      <td>4.063701</td>\n",
       "      <td>4.341500</td>\n",
       "      <td>4.270903</td>\n",
       "      <td>5.968168</td>\n",
       "      <td>3.715033</td>\n",
       "      <td>3.848112</td>\n",
       "      <td>...</td>\n",
       "      <td>3.696835</td>\n",
       "      <td>4.624013</td>\n",
       "      <td>4.348524</td>\n",
       "      <td>3.858121</td>\n",
       "      <td>3.947561</td>\n",
       "      <td>4.425849</td>\n",
       "      <td>3.550390</td>\n",
       "      <td>4.443337</td>\n",
       "      <td>4.266828</td>\n",
       "      <td>4.100493</td>\n",
       "    </tr>\n",
       "    <tr>\n",
       "      <th>4</th>\n",
       "      <td>C1orf112</td>\n",
       "      <td>3.380681</td>\n",
       "      <td>3.732485</td>\n",
       "      <td>3.236620</td>\n",
       "      <td>3.558414</td>\n",
       "      <td>3.840373</td>\n",
       "      <td>3.815055</td>\n",
       "      <td>3.011867</td>\n",
       "      <td>3.268449</td>\n",
       "      <td>3.352835</td>\n",
       "      <td>...</td>\n",
       "      <td>3.726833</td>\n",
       "      <td>3.947744</td>\n",
       "      <td>3.806584</td>\n",
       "      <td>3.196988</td>\n",
       "      <td>3.814831</td>\n",
       "      <td>4.384732</td>\n",
       "      <td>4.247189</td>\n",
       "      <td>3.071359</td>\n",
       "      <td>3.230197</td>\n",
       "      <td>3.435795</td>\n",
       "    </tr>\n",
       "  </tbody>\n",
       "</table>\n",
       "<p>5 rows × 1015 columns</p>\n",
       "</div>"
      ],
      "text/plain": [
       "  GENE_ID:HGNC     906826     687983    910927   1240138    1240139    906792  \\\n",
       "0       TSPAN6   7.632023   7.548671  8.712338  7.797142   7.729268  7.074533   \n",
       "1         TNMD   2.964585   2.777716  2.643508  2.817923   2.957739  2.889677   \n",
       "2         DPM1  10.379553  11.807341  9.880733  9.883471  10.418840  9.773987   \n",
       "3        SCYL3   3.614794   4.066887  3.956230  4.063701   4.341500  4.270903   \n",
       "4     C1orf112   3.380681   3.732485  3.236620  3.558414   3.840373  3.815055   \n",
       "\n",
       "      910688    1240135    1290812    ...         753584     907044  \\\n",
       "0   3.285198   6.961606   5.943046    ...       7.105637   3.236503   \n",
       "1   2.828203   2.874751   2.686874    ...       2.798847   2.745137   \n",
       "2  10.264385  10.205931  10.299757    ...      10.486486  10.442951   \n",
       "3   5.968168   3.715033   3.848112    ...       3.696835   4.624013   \n",
       "4   3.011867   3.268449   3.352835    ...       3.726833   3.947744   \n",
       "\n",
       "      998184     908145    1659787    1298157    1480372    1298533    930299  \\\n",
       "0   3.038892   8.373223   6.932178   8.441628   8.422922   8.089255  3.112333   \n",
       "1   2.976406   2.852552   2.622630   2.639276   2.879890   2.521169  2.870468   \n",
       "2  10.311962  10.454830  10.418475  11.463742  10.557777  10.792750  9.873902   \n",
       "3   4.348524   3.858121   3.947561   4.425849   3.550390   4.443337  4.266828   \n",
       "4   3.806584   3.196988   3.814831   4.384732   4.247189   3.071359  3.230197   \n",
       "\n",
       "      905954  \n",
       "0   7.153127  \n",
       "1   2.834285  \n",
       "2  10.788218  \n",
       "3   4.100493  \n",
       "4   3.435795  \n",
       "\n",
       "[5 rows x 1015 columns]"
      ]
     },
     "execution_count": 8,
     "metadata": {},
     "output_type": "execute_result"
    }
   ],
   "source": [
    "# Where the above ids end with a decimal, assume these decimals indicate a second experiment was\n",
    "# run for the same cell line with an ID equal to the integer part, and that these values are\n",
    "# preferable over the \".0\" instance (which should be ignored)\n",
    "c_rm = ['DATA.{}'.format(int(v)) for v in n_cl[mask_dupe]]\n",
    "\n",
    "logger.info(\n",
    "    'Dropping the following cell line columns as they seem to have second runs '\\\n",
    "    'for the same experiment (indicated by columns with the same ID + \".1\"): {}'\\\n",
    "    .format(c_rm)\n",
    ")\n",
    "\n",
    "n_col = d.shape[1]\n",
    "d = d.drop(c_rm, axis=1)\n",
    "assert n_col == d.shape[1] + len(c_rm)\n",
    "\n",
    "# Clean up cell line ids to have names consisting of nothing (hopefully)\n",
    "# but integer values as strings.  If any exceptions to this rule do not \n",
    "# end in \".1\", then they will not be converted here but will cause a later\n",
    "# error when converting these strings to integers (which is the desired behavior)\n",
    "d = d.rename(columns=lambda c: c.replace('DATA.', '').replace('.1', ''))\n",
    "\n",
    "d.head()"
   ]
  },
  {
   "cell_type": "markdown",
   "metadata": {},
   "source": [
    "## Melt to Long Format"
   ]
  },
  {
   "cell_type": "code",
   "execution_count": 9,
   "metadata": {
    "collapsed": false
   },
   "outputs": [
    {
     "data": {
      "text/html": [
       "<div>\n",
       "<table border=\"1\" class=\"dataframe\">\n",
       "  <thead>\n",
       "    <tr style=\"text-align: right;\">\n",
       "      <th></th>\n",
       "      <th>GENE_ID:HGNC</th>\n",
       "      <th>CELL_LINE_ID:COSMIC</th>\n",
       "      <th>VALUE</th>\n",
       "    </tr>\n",
       "  </thead>\n",
       "  <tbody>\n",
       "    <tr>\n",
       "      <th>0</th>\n",
       "      <td>TSPAN6</td>\n",
       "      <td>906826</td>\n",
       "      <td>7.632023</td>\n",
       "    </tr>\n",
       "    <tr>\n",
       "      <th>1</th>\n",
       "      <td>TNMD</td>\n",
       "      <td>906826</td>\n",
       "      <td>2.964585</td>\n",
       "    </tr>\n",
       "    <tr>\n",
       "      <th>2</th>\n",
       "      <td>DPM1</td>\n",
       "      <td>906826</td>\n",
       "      <td>10.379553</td>\n",
       "    </tr>\n",
       "    <tr>\n",
       "      <th>3</th>\n",
       "      <td>SCYL3</td>\n",
       "      <td>906826</td>\n",
       "      <td>3.614794</td>\n",
       "    </tr>\n",
       "    <tr>\n",
       "      <th>4</th>\n",
       "      <td>C1orf112</td>\n",
       "      <td>906826</td>\n",
       "      <td>3.380681</td>\n",
       "    </tr>\n",
       "  </tbody>\n",
       "</table>\n",
       "</div>"
      ],
      "text/plain": [
       "  GENE_ID:HGNC CELL_LINE_ID:COSMIC      VALUE\n",
       "0       TSPAN6              906826   7.632023\n",
       "1         TNMD              906826   2.964585\n",
       "2         DPM1              906826  10.379553\n",
       "3        SCYL3              906826   3.614794\n",
       "4     C1orf112              906826   3.380681"
      ]
     },
     "execution_count": 9,
     "metadata": {},
     "output_type": "execute_result"
    }
   ],
   "source": [
    "# Melt to long format with gene ids preserved\n",
    "d = pd.melt(d, id_vars='GENE_ID:HGNC', var_name='CELL_LINE_ID:COSMIC', value_name='VALUE')\n",
    "\n",
    "# Convert COSMIC cell line IDs to integers and then to strings (this ensures that they can\n",
    "# all be converted to integer first -- an error will be thrown otherwise)\n",
    "d['CELL_LINE_ID:COSMIC'] = d['CELL_LINE_ID:COSMIC'].astype(np.int64).astype(str)\n",
    "\n",
    "# Ensure that after melting and converting ids that there are no instances of multiple\n",
    "# records for any one cell line + gene\n",
    "assert not np.any(d[['CELL_LINE_ID:COSMIC', 'GENE_ID:HGNC']].duplicated()), \\\n",
    "    'Found at least one cell line + gene combination with multiple records'\n",
    "\n",
    "d.head()"
   ]
  },
  {
   "cell_type": "code",
   "execution_count": 11,
   "metadata": {
    "collapsed": false
   },
   "outputs": [
    {
     "name": "stdout",
     "output_type": "stream",
     "text": [
      "<class 'pandas.core.frame.DataFrame'>\n",
      "RangeIndex: 17662866 entries, 0 to 17662865\n",
      "Data columns (total 3 columns):\n",
      "GENE_ID:HGNC           17662866 non-null object\n",
      "CELL_LINE_ID:COSMIC    17662866 non-null object\n",
      "VALUE                  17662866 non-null float64\n",
      "dtypes: float64(1), object(2)\n",
      "memory usage: 404.3+ MB\n"
     ]
    }
   ],
   "source": [
    "d.info()"
   ]
  },
  {
   "cell_type": "markdown",
   "metadata": {},
   "source": [
    "## Merge to Common Cell Line ID"
   ]
  },
  {
   "cell_type": "code",
   "execution_count": 12,
   "metadata": {
    "collapsed": false
   },
   "outputs": [
    {
     "name": "stdout",
     "output_type": "stream",
     "text": [
      "<class 'pandas.core.frame.DataFrame'>\n",
      "Int64Index: 1034 entries, 0 to 1033\n",
      "Data columns (total 2 columns):\n",
      "CELL_LINE_ID           1034 non-null object\n",
      "CELL_LINE_ID:COSMIC    1034 non-null object\n",
      "dtypes: object(2)\n",
      "memory usage: 24.2+ KB\n"
     ]
    }
   ],
   "source": [
    "d_meta = db.load(src.GDSC_v2, db.IMPORT, 'cellline-meta')[['CELL_LINE_ID', 'CELL_LINE_ID:COSMIC']]\n",
    "d_meta.info()"
   ]
  },
  {
   "cell_type": "code",
   "execution_count": 13,
   "metadata": {
    "collapsed": false
   },
   "outputs": [
    {
     "name": "stdout",
     "output_type": "stream",
     "text": [
      "<class 'pandas.core.frame.DataFrame'>\n",
      "Int64Index: 17749961 entries, 0 to 17749960\n",
      "Data columns (total 4 columns):\n",
      "GENE_ID:HGNC           17749961 non-null object\n",
      "CELL_LINE_ID:COSMIC    17749961 non-null object\n",
      "VALUE                  17749961 non-null float64\n",
      "CELL_LINE_ID           17088039 non-null object\n",
      "dtypes: float64(1), object(3)\n",
      "memory usage: 677.1+ MB\n"
     ]
    }
   ],
   "source": [
    "d_exp = pd.merge(d, d_meta, on='CELL_LINE_ID:COSMIC', how='left')\n",
    "d_exp.info()"
   ]
  },
  {
   "cell_type": "markdown",
   "metadata": {},
   "source": [
    "## Export"
   ]
  },
  {
   "cell_type": "code",
   "execution_count": 15,
   "metadata": {
    "collapsed": false
   },
   "outputs": [
    {
     "data": {
      "text/plain": [
       "'/Users/eczech/data/research/mgds/import/gdsc_v2_gene-expression.pkl'"
      ]
     },
     "execution_count": 15,
     "metadata": {},
     "output_type": "execute_result"
    }
   ],
   "source": [
    "# Ensure there are no values, except for in the common cell line ID -- it's not\n",
    "# yet clear what this means since no other CGDS datasets have null common IDs like \n",
    "# this, but perhaps these measurements will still be useful in some way\n",
    "assert np.all(pd.notnull(d_exp[['GENE_ID:HGNC', 'CELL_LINE_ID:COSMIC', 'VALUE']]))\n",
    "\n",
    "# Also ensure that all identifiers are only strings, no ints or floats\n",
    "for c in ['CELL_LINE_ID:COSMIC', 'CELL_LINE_ID', 'GENE_ID:HGNC']:\n",
    "    assert np.all(d_exp[c].dropna().apply(type) == str), 'Found non-string id for field \"{}\"'.format(c)\n",
    "\n",
    "db.save(d_exp, src.GDSC_v2, db.IMPORT, 'gene-expression')"
   ]
  }
 ],
 "metadata": {
  "kernelspec": {
   "display_name": "Python 3",
   "language": "python",
   "name": "python3"
  },
  "language_info": {
   "codemirror_mode": {
    "name": "ipython",
    "version": 3
   },
   "file_extension": ".py",
   "mimetype": "text/x-python",
   "name": "python",
   "nbconvert_exporter": "python",
   "pygments_lexer": "ipython3",
   "version": "3.5.2"
  }
 },
 "nbformat": 4,
 "nbformat_minor": 0
}
