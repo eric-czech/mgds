{
 "cells": [
  {
   "cell_type": "markdown",
   "metadata": {},
   "source": [
    "# NCI60 Copy Number Data Importation\n",
    "**Local Version**: 2\n",
    "**Source Version**: NA\n",
    "\n",
    "This notebook will import raw NCI60 copy number data using the [CGDS](http://www.cbioportal.org/cgds_r.jsp) (aka \"Cancer Genomic Data Server\") portal."
   ]
  },
  {
   "cell_type": "code",
   "execution_count": 1,
   "metadata": {
    "collapsed": true
   },
   "outputs": [],
   "source": [
    "%run -m ipy_startup\n",
    "%run -m ipy_logging\n",
    "from mgds.data_aggregation import database as db\n",
    "from mgds.data_aggregation import source as src\n",
    "from mgds.data_aggregation import api\n",
    "from mgds.data_aggregation.import_lib import cgds\n",
    "from mgds.data_aggregation.import_lib import nci60\n",
    "pd.set_option('display.max_info_rows', 25000000)"
   ]
  },
  {
   "cell_type": "code",
   "execution_count": 11,
   "metadata": {
    "collapsed": false
   },
   "outputs": [
    {
     "name": "stderr",
     "output_type": "stream",
     "text": [
      "2016-11-18 11:32:27,001:DEBUG:mgds.data_aggregation.io_utils: Restoring serialized object from \"/Users/eczech/data/research/mgds/raw/nci60_v2_gene-copy-number.pkl\"\n"
     ]
    }
   ],
   "source": [
    "case_list_id = nci60.CASE_LIST_ID\n",
    "genetic_profile_id = nci60.PROF_COPY_NUMBER\n",
    "batch_size = 50\n",
    "\n",
    "op = lambda: cgds.get_genetic_profile_data(\n",
    "    case_list_id, genetic_profile_id,\n",
    "    api.get_hugo_gene_ids(), gene_id_batch_size=batch_size\n",
    ")\n",
    "d = db.cache_raw_operation(op, src.NCI60_v2, 'gene-copy-number', overwrite=False)"
   ]
  },
  {
   "cell_type": "code",
   "execution_count": 12,
   "metadata": {
    "collapsed": false
   },
   "outputs": [
    {
     "data": {
      "text/html": [
       "<div>\n",
       "<table border=\"1\" class=\"dataframe\">\n",
       "  <thead>\n",
       "    <tr style=\"text-align: right;\">\n",
       "      <th></th>\n",
       "      <th>GENE_ID</th>\n",
       "      <th>COMMON</th>\n",
       "      <th>BT_549</th>\n",
       "      <th>HS578T</th>\n",
       "      <th>MCF7</th>\n",
       "      <th>MDA_MB_231</th>\n",
       "      <th>T47D</th>\n",
       "      <th>SF_268</th>\n",
       "      <th>SF_295</th>\n",
       "      <th>SF_539</th>\n",
       "      <th>...</th>\n",
       "      <th>DU_145</th>\n",
       "      <th>PC_3</th>\n",
       "      <th>786_0</th>\n",
       "      <th>A498</th>\n",
       "      <th>ACHN</th>\n",
       "      <th>CAKI_1</th>\n",
       "      <th>RXF_393</th>\n",
       "      <th>SN12C</th>\n",
       "      <th>TK_10</th>\n",
       "      <th>UO_31</th>\n",
       "    </tr>\n",
       "  </thead>\n",
       "  <tbody>\n",
       "    <tr>\n",
       "      <th>0</th>\n",
       "      <td>1</td>\n",
       "      <td>A1BG</td>\n",
       "      <td>0.1366</td>\n",
       "      <td>0.1495</td>\n",
       "      <td>0.0657</td>\n",
       "      <td>0.1245</td>\n",
       "      <td>-0.2171</td>\n",
       "      <td>NaN</td>\n",
       "      <td>NaN</td>\n",
       "      <td>NaN</td>\n",
       "      <td>...</td>\n",
       "      <td>-0.1764</td>\n",
       "      <td>0.3076</td>\n",
       "      <td>NaN</td>\n",
       "      <td>0.1966</td>\n",
       "      <td>-0.0623</td>\n",
       "      <td>-0.1392</td>\n",
       "      <td>0.2353</td>\n",
       "      <td>-0.0574</td>\n",
       "      <td>-0.0112</td>\n",
       "      <td>-0.0056</td>\n",
       "    </tr>\n",
       "    <tr>\n",
       "      <th>1</th>\n",
       "      <td>503538</td>\n",
       "      <td>A1BG-AS1</td>\n",
       "      <td>NaN</td>\n",
       "      <td>NaN</td>\n",
       "      <td>NaN</td>\n",
       "      <td>NaN</td>\n",
       "      <td>NaN</td>\n",
       "      <td>NaN</td>\n",
       "      <td>NaN</td>\n",
       "      <td>NaN</td>\n",
       "      <td>...</td>\n",
       "      <td>NaN</td>\n",
       "      <td>NaN</td>\n",
       "      <td>NaN</td>\n",
       "      <td>NaN</td>\n",
       "      <td>NaN</td>\n",
       "      <td>NaN</td>\n",
       "      <td>NaN</td>\n",
       "      <td>NaN</td>\n",
       "      <td>NaN</td>\n",
       "      <td>NaN</td>\n",
       "    </tr>\n",
       "    <tr>\n",
       "      <th>2</th>\n",
       "      <td>29974</td>\n",
       "      <td>A1CF</td>\n",
       "      <td>-0.0180</td>\n",
       "      <td>-0.1882</td>\n",
       "      <td>0.0137</td>\n",
       "      <td>0.0720</td>\n",
       "      <td>0.3061</td>\n",
       "      <td>NaN</td>\n",
       "      <td>NaN</td>\n",
       "      <td>NaN</td>\n",
       "      <td>...</td>\n",
       "      <td>0.1029</td>\n",
       "      <td>0.3781</td>\n",
       "      <td>NaN</td>\n",
       "      <td>0.1642</td>\n",
       "      <td>0.2257</td>\n",
       "      <td>0.0535</td>\n",
       "      <td>-0.0328</td>\n",
       "      <td>0.0197</td>\n",
       "      <td>0.0487</td>\n",
       "      <td>-0.0377</td>\n",
       "    </tr>\n",
       "    <tr>\n",
       "      <th>3</th>\n",
       "      <td>2</td>\n",
       "      <td>A2M</td>\n",
       "      <td>-0.0935</td>\n",
       "      <td>-0.1803</td>\n",
       "      <td>0.0024</td>\n",
       "      <td>-0.1653</td>\n",
       "      <td>-0.6096</td>\n",
       "      <td>NaN</td>\n",
       "      <td>NaN</td>\n",
       "      <td>NaN</td>\n",
       "      <td>...</td>\n",
       "      <td>-0.2178</td>\n",
       "      <td>-0.2593</td>\n",
       "      <td>NaN</td>\n",
       "      <td>-0.1126</td>\n",
       "      <td>0.3140</td>\n",
       "      <td>0.0463</td>\n",
       "      <td>0.0202</td>\n",
       "      <td>-0.2604</td>\n",
       "      <td>0.0738</td>\n",
       "      <td>0.1439</td>\n",
       "    </tr>\n",
       "    <tr>\n",
       "      <th>4</th>\n",
       "      <td>144571</td>\n",
       "      <td>A2M-AS1</td>\n",
       "      <td>NaN</td>\n",
       "      <td>NaN</td>\n",
       "      <td>NaN</td>\n",
       "      <td>NaN</td>\n",
       "      <td>NaN</td>\n",
       "      <td>NaN</td>\n",
       "      <td>NaN</td>\n",
       "      <td>NaN</td>\n",
       "      <td>...</td>\n",
       "      <td>NaN</td>\n",
       "      <td>NaN</td>\n",
       "      <td>NaN</td>\n",
       "      <td>NaN</td>\n",
       "      <td>NaN</td>\n",
       "      <td>NaN</td>\n",
       "      <td>NaN</td>\n",
       "      <td>NaN</td>\n",
       "      <td>NaN</td>\n",
       "      <td>NaN</td>\n",
       "    </tr>\n",
       "  </tbody>\n",
       "</table>\n",
       "<p>5 rows × 62 columns</p>\n",
       "</div>"
      ],
      "text/plain": [
       "   GENE_ID    COMMON  BT_549  HS578T    MCF7  MDA_MB_231    T47D  SF_268  \\\n",
       "0        1      A1BG  0.1366  0.1495  0.0657      0.1245 -0.2171     NaN   \n",
       "1   503538  A1BG-AS1     NaN     NaN     NaN         NaN     NaN     NaN   \n",
       "2    29974      A1CF -0.0180 -0.1882  0.0137      0.0720  0.3061     NaN   \n",
       "3        2       A2M -0.0935 -0.1803  0.0024     -0.1653 -0.6096     NaN   \n",
       "4   144571   A2M-AS1     NaN     NaN     NaN         NaN     NaN     NaN   \n",
       "\n",
       "   SF_295  SF_539   ...    DU_145    PC_3  786_0    A498    ACHN  CAKI_1  \\\n",
       "0     NaN     NaN   ...   -0.1764  0.3076    NaN  0.1966 -0.0623 -0.1392   \n",
       "1     NaN     NaN   ...       NaN     NaN    NaN     NaN     NaN     NaN   \n",
       "2     NaN     NaN   ...    0.1029  0.3781    NaN  0.1642  0.2257  0.0535   \n",
       "3     NaN     NaN   ...   -0.2178 -0.2593    NaN -0.1126  0.3140  0.0463   \n",
       "4     NaN     NaN   ...       NaN     NaN    NaN     NaN     NaN     NaN   \n",
       "\n",
       "   RXF_393   SN12C   TK_10   UO_31  \n",
       "0   0.2353 -0.0574 -0.0112 -0.0056  \n",
       "1      NaN     NaN     NaN     NaN  \n",
       "2  -0.0328  0.0197  0.0487 -0.0377  \n",
       "3   0.0202 -0.2604  0.0738  0.1439  \n",
       "4      NaN     NaN     NaN     NaN  \n",
       "\n",
       "[5 rows x 62 columns]"
      ]
     },
     "execution_count": 12,
     "metadata": {},
     "output_type": "execute_result"
    }
   ],
   "source": [
    "d.head()"
   ]
  },
  {
   "cell_type": "code",
   "execution_count": 16,
   "metadata": {
    "collapsed": false
   },
   "outputs": [
    {
     "name": "stdout",
     "output_type": "stream",
     "text": [
      "[Remove null values for column \"VALUE\"] Records before = 2341920, Records after = 1240518, Records removed = 1101402 (%47.03)\n",
      "<class 'pandas.core.frame.DataFrame'>\n",
      "Int64Index: 1240518 entries, 0 to 2341919\n",
      "Data columns (total 4 columns):\n",
      "GENE_ID:CGDS    1240518 non-null int64\n",
      "GENE_ID:HGNC    1240518 non-null object\n",
      "CELL_LINE_ID    1240518 non-null object\n",
      "VALUE           1240518 non-null float64\n",
      "dtypes: float64(1), int64(1), object(2)\n",
      "memory usage: 47.3+ MB\n"
     ]
    }
   ],
   "source": [
    "d = cgds.melt_raw_data(d)\n",
    "d.info()"
   ]
  },
  {
   "cell_type": "code",
   "execution_count": 38,
   "metadata": {
    "collapsed": false
   },
   "outputs": [
    {
     "data": {
      "text/plain": [
       "1    1236543\n",
       "2       1749\n",
       "3        159\n",
       "Name: Number of Replicates, dtype: int64"
      ]
     },
     "execution_count": 38,
     "metadata": {},
     "output_type": "execute_result"
    }
   ],
   "source": [
    "d_agg, d_dist = cgds.aggregate(d)\n",
    "d_dist"
   ]
  },
  {
   "cell_type": "code",
   "execution_count": 39,
   "metadata": {
    "collapsed": false
   },
   "outputs": [
    {
     "name": "stdout",
     "output_type": "stream",
     "text": [
      "<class 'pandas.core.frame.DataFrame'>\n",
      "RangeIndex: 1238451 entries, 0 to 1238450\n",
      "Data columns (total 5 columns):\n",
      "CELL_LINE_ID    1238451 non-null object\n",
      "GENE_ID:HGNC    1238451 non-null object\n",
      "GENE_ID:CGDS    1238451 non-null int64\n",
      "VALUE_STD       1238451 non-null float64\n",
      "VALUE_MEAN      1238451 non-null float64\n",
      "dtypes: float64(2), int64(1), object(2)\n",
      "memory usage: 47.2+ MB\n"
     ]
    }
   ],
   "source": [
    "d_agg.info()"
   ]
  },
  {
   "cell_type": "code",
   "execution_count": 37,
   "metadata": {
    "collapsed": false
   },
   "outputs": [
    {
     "data": {
      "text/plain": [
       "'/Users/eczech/data/research/mgds/import/nci60_v2_gene-copy-number.pkl'"
      ]
     },
     "execution_count": 37,
     "metadata": {},
     "output_type": "execute_result"
    }
   ],
   "source": [
    "assert np.all(pd.notnull(d_agg))\n",
    "db.save(d_agg, src.NCI60_v2, db.IMPORT, 'gene-copy-number')"
   ]
  }
 ],
 "metadata": {
  "kernelspec": {
   "display_name": "Python 3",
   "language": "python",
   "name": "python3"
  },
  "language_info": {
   "codemirror_mode": {
    "name": "ipython",
    "version": 3
   },
   "file_extension": ".py",
   "mimetype": "text/x-python",
   "name": "python",
   "nbconvert_exporter": "python",
   "pygments_lexer": "ipython3",
   "version": "3.5.2"
  }
 },
 "nbformat": 4,
 "nbformat_minor": 0
}
