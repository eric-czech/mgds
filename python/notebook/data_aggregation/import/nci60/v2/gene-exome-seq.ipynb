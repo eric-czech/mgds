{
 "cells": [
  {
   "cell_type": "markdown",
   "metadata": {},
   "source": [
    "# NCI60 Exome Sequencing Data Importation\n",
    "**Local Version**: 2\n",
    "**Source Version**: NA\n",
    "\n",
    "This notebook will import raw NCI60 exome sequencing data using the [CGDS](http://www.cbioportal.org/cgds_r.jsp) (aka \"Cancer Genomic Data Server\") portal."
   ]
  },
  {
   "cell_type": "code",
   "execution_count": 5,
   "metadata": {
    "collapsed": true
   },
   "outputs": [],
   "source": [
    "%run -m ipy_startup\n",
    "%run -m ipy_logging\n",
    "from mgds.data_aggregation import database as db\n",
    "from mgds.data_aggregation import source as src\n",
    "from mgds.data_aggregation import api\n",
    "from mgds.data_aggregation.import_lib import cgds\n",
    "from mgds.data_aggregation.import_lib import nci60\n",
    "pd.set_option('display.max_info_rows', 25000000)"
   ]
  },
  {
   "cell_type": "code",
   "execution_count": 8,
   "metadata": {
    "collapsed": false
   },
   "outputs": [
    {
     "name": "stderr",
     "output_type": "stream",
     "text": [
      "2016-11-19 20:04:18,238:INFO:mgds.data_aggregation.import_lib.cgds: Processing batch 1 of 789\n",
      "2016-11-19 20:05:35,853:INFO:mgds.data_aggregation.import_lib.cgds: Processing batch 79 of 789\n",
      "2016-11-19 20:06:47,541:INFO:mgds.data_aggregation.import_lib.cgds: Processing batch 157 of 789\n",
      "2016-11-19 20:08:07,588:INFO:mgds.data_aggregation.import_lib.cgds: Processing batch 235 of 789\n",
      "2016-11-19 20:09:22,516:INFO:mgds.data_aggregation.import_lib.cgds: Processing batch 313 of 789\n",
      "2016-11-19 20:10:31,484:INFO:mgds.data_aggregation.import_lib.cgds: Processing batch 391 of 789\n",
      "2016-11-19 20:11:45,746:INFO:mgds.data_aggregation.import_lib.cgds: Processing batch 469 of 789\n",
      "2016-11-19 20:12:44,772:INFO:mgds.data_aggregation.import_lib.cgds: Processing batch 547 of 789\n",
      "2016-11-19 20:14:08,691:WARNING:mgds.data_aggregation.import_lib.cgds: An http error occurred.  Will try again in 30 seconds ...\n",
      "2016-11-19 20:15:25,405:INFO:mgds.data_aggregation.import_lib.cgds: Processing batch 625 of 789\n",
      "2016-11-19 20:16:47,429:INFO:mgds.data_aggregation.import_lib.cgds: Processing batch 703 of 789\n",
      "2016-11-19 20:18:13,467:INFO:mgds.data_aggregation.import_lib.cgds: Processing batch 781 of 789\n",
      "2016-11-19 20:18:24,622:DEBUG:mgds.data_aggregation.io_utils: Writing serialized object to \"/Users/eczech/data/research/mgds/raw/nci60_v2_gene-exome-seq.pkl\"\n",
      "2016-11-19 20:18:24,712:DEBUG:mgds.data_aggregation.io_utils: Restoring serialized object from \"/Users/eczech/data/research/mgds/raw/nci60_v2_gene-exome-seq.pkl\"\n"
     ]
    }
   ],
   "source": [
    "case_list_id = nci60.CASE_LIST_ID\n",
    "genetic_profile_id = nci60.PROF_MUTATION\n",
    "batch_size = 50\n",
    "\n",
    "op = lambda: cgds.get_mutation_data(\n",
    "    case_list_id, genetic_profile_id,\n",
    "    api.get_hugo_gene_ids(), gene_id_batch_size=batch_size\n",
    ")\n",
    "d = db.cache_raw_operation(op, src.NCI60_v2, 'gene-exome-seq', overwrite=False)"
   ]
  },
  {
   "cell_type": "code",
   "execution_count": 9,
   "metadata": {
    "collapsed": false
   },
   "outputs": [
    {
     "data": {
      "text/html": [
       "<div>\n",
       "<table border=\"1\" class=\"dataframe\">\n",
       "  <thead>\n",
       "    <tr style=\"text-align: right;\">\n",
       "      <th></th>\n",
       "      <th>entrez_gene_id</th>\n",
       "      <th>gene_symbol</th>\n",
       "      <th>case_id</th>\n",
       "      <th>sequencing_center</th>\n",
       "      <th>mutation_status</th>\n",
       "      <th>mutation_type</th>\n",
       "      <th>validation_status</th>\n",
       "      <th>amino_acid_change</th>\n",
       "      <th>functional_impact_score</th>\n",
       "      <th>xvar_link</th>\n",
       "      <th>...</th>\n",
       "      <th>chr</th>\n",
       "      <th>start_position</th>\n",
       "      <th>end_position</th>\n",
       "      <th>reference_allele</th>\n",
       "      <th>variant_allele</th>\n",
       "      <th>reference_read_count_tumor</th>\n",
       "      <th>variant_read_count_tumor</th>\n",
       "      <th>reference_read_count_normal</th>\n",
       "      <th>variant_read_count_normal</th>\n",
       "      <th>genetic_profile_id</th>\n",
       "    </tr>\n",
       "  </thead>\n",
       "  <tbody>\n",
       "    <tr>\n",
       "      <th>0</th>\n",
       "      <td>1.0</td>\n",
       "      <td>A1BG</td>\n",
       "      <td>HCT_15</td>\n",
       "      <td>discover.nci.nih.gov</td>\n",
       "      <td>NaN</td>\n",
       "      <td>Splice_Region</td>\n",
       "      <td>NaN</td>\n",
       "      <td>MUTATED</td>\n",
       "      <td>NaN</td>\n",
       "      <td>NaN</td>\n",
       "      <td>...</td>\n",
       "      <td>19.0</td>\n",
       "      <td>58858398.0</td>\n",
       "      <td>58858398.0</td>\n",
       "      <td>A</td>\n",
       "      <td>G</td>\n",
       "      <td>NaN</td>\n",
       "      <td>NaN</td>\n",
       "      <td>NaN</td>\n",
       "      <td>NaN</td>\n",
       "      <td>cellline_nci60_mutations</td>\n",
       "    </tr>\n",
       "    <tr>\n",
       "      <th>1</th>\n",
       "      <td>1.0</td>\n",
       "      <td>A1BG</td>\n",
       "      <td>HCC_2998</td>\n",
       "      <td>discover.nci.nih.gov</td>\n",
       "      <td>NaN</td>\n",
       "      <td>Missense_Mutation</td>\n",
       "      <td>NaN</td>\n",
       "      <td>T46M</td>\n",
       "      <td>M</td>\n",
       "      <td>getma.org/?cm=var&amp;var=hg19,19,58864497,G,A&amp;fts...</td>\n",
       "      <td>...</td>\n",
       "      <td>19.0</td>\n",
       "      <td>58864497.0</td>\n",
       "      <td>58864497.0</td>\n",
       "      <td>G</td>\n",
       "      <td>A</td>\n",
       "      <td>NaN</td>\n",
       "      <td>NaN</td>\n",
       "      <td>NaN</td>\n",
       "      <td>NaN</td>\n",
       "      <td>cellline_nci60_mutations</td>\n",
       "    </tr>\n",
       "    <tr>\n",
       "      <th>2</th>\n",
       "      <td>1.0</td>\n",
       "      <td>A1BG</td>\n",
       "      <td>KM12</td>\n",
       "      <td>discover.nci.nih.gov</td>\n",
       "      <td>NaN</td>\n",
       "      <td>Missense_Mutation</td>\n",
       "      <td>NaN</td>\n",
       "      <td>T257N</td>\n",
       "      <td>M</td>\n",
       "      <td>getma.org/?cm=var&amp;var=hg19,19,58862897,G,T&amp;fts...</td>\n",
       "      <td>...</td>\n",
       "      <td>19.0</td>\n",
       "      <td>58862897.0</td>\n",
       "      <td>58862897.0</td>\n",
       "      <td>G</td>\n",
       "      <td>T</td>\n",
       "      <td>NaN</td>\n",
       "      <td>NaN</td>\n",
       "      <td>NaN</td>\n",
       "      <td>NaN</td>\n",
       "      <td>cellline_nci60_mutations</td>\n",
       "    </tr>\n",
       "    <tr>\n",
       "      <th>3</th>\n",
       "      <td>29974.0</td>\n",
       "      <td>A1CF</td>\n",
       "      <td>MOLT_4</td>\n",
       "      <td>discover.nci.nih.gov</td>\n",
       "      <td>NaN</td>\n",
       "      <td>Missense_Mutation</td>\n",
       "      <td>NaN</td>\n",
       "      <td>G320V</td>\n",
       "      <td>L</td>\n",
       "      <td>getma.org/?cm=var&amp;var=hg19,10,52575948,C,A&amp;fts...</td>\n",
       "      <td>...</td>\n",
       "      <td>10.0</td>\n",
       "      <td>52575948.0</td>\n",
       "      <td>52575948.0</td>\n",
       "      <td>C</td>\n",
       "      <td>A</td>\n",
       "      <td>NaN</td>\n",
       "      <td>NaN</td>\n",
       "      <td>NaN</td>\n",
       "      <td>NaN</td>\n",
       "      <td>cellline_nci60_mutations</td>\n",
       "    </tr>\n",
       "    <tr>\n",
       "      <th>4</th>\n",
       "      <td>29974.0</td>\n",
       "      <td>A1CF</td>\n",
       "      <td>DU_145</td>\n",
       "      <td>discover.nci.nih.gov</td>\n",
       "      <td>NaN</td>\n",
       "      <td>Missense_Mutation</td>\n",
       "      <td>NaN</td>\n",
       "      <td>N275D</td>\n",
       "      <td>N</td>\n",
       "      <td>getma.org/?cm=var&amp;var=hg19,10,52580356,T,C&amp;fts...</td>\n",
       "      <td>...</td>\n",
       "      <td>10.0</td>\n",
       "      <td>52580356.0</td>\n",
       "      <td>52580356.0</td>\n",
       "      <td>T</td>\n",
       "      <td>C</td>\n",
       "      <td>NaN</td>\n",
       "      <td>NaN</td>\n",
       "      <td>NaN</td>\n",
       "      <td>NaN</td>\n",
       "      <td>cellline_nci60_mutations</td>\n",
       "    </tr>\n",
       "  </tbody>\n",
       "</table>\n",
       "<p>5 rows × 22 columns</p>\n",
       "</div>"
      ],
      "text/plain": [
       "   entrez_gene_id gene_symbol   case_id     sequencing_center mutation_status  \\\n",
       "0             1.0        A1BG    HCT_15  discover.nci.nih.gov             NaN   \n",
       "1             1.0        A1BG  HCC_2998  discover.nci.nih.gov             NaN   \n",
       "2             1.0        A1BG      KM12  discover.nci.nih.gov             NaN   \n",
       "3         29974.0        A1CF    MOLT_4  discover.nci.nih.gov             NaN   \n",
       "4         29974.0        A1CF    DU_145  discover.nci.nih.gov             NaN   \n",
       "\n",
       "       mutation_type validation_status amino_acid_change  \\\n",
       "0      Splice_Region               NaN           MUTATED   \n",
       "1  Missense_Mutation               NaN              T46M   \n",
       "2  Missense_Mutation               NaN             T257N   \n",
       "3  Missense_Mutation               NaN             G320V   \n",
       "4  Missense_Mutation               NaN             N275D   \n",
       "\n",
       "  functional_impact_score                                          xvar_link  \\\n",
       "0                     NaN                                                NaN   \n",
       "1                       M  getma.org/?cm=var&var=hg19,19,58864497,G,A&fts...   \n",
       "2                       M  getma.org/?cm=var&var=hg19,19,58862897,G,T&fts...   \n",
       "3                       L  getma.org/?cm=var&var=hg19,10,52575948,C,A&fts...   \n",
       "4                       N  getma.org/?cm=var&var=hg19,10,52580356,T,C&fts...   \n",
       "\n",
       "             ...              chr start_position  end_position  \\\n",
       "0            ...             19.0     58858398.0    58858398.0   \n",
       "1            ...             19.0     58864497.0    58864497.0   \n",
       "2            ...             19.0     58862897.0    58862897.0   \n",
       "3            ...             10.0     52575948.0    52575948.0   \n",
       "4            ...             10.0     52580356.0    52580356.0   \n",
       "\n",
       "   reference_allele  variant_allele reference_read_count_tumor  \\\n",
       "0                 A               G                        NaN   \n",
       "1                 G               A                        NaN   \n",
       "2                 G               T                        NaN   \n",
       "3                 C               A                        NaN   \n",
       "4                 T               C                        NaN   \n",
       "\n",
       "  variant_read_count_tumor reference_read_count_normal  \\\n",
       "0                      NaN                         NaN   \n",
       "1                      NaN                         NaN   \n",
       "2                      NaN                         NaN   \n",
       "3                      NaN                         NaN   \n",
       "4                      NaN                         NaN   \n",
       "\n",
       "  variant_read_count_normal        genetic_profile_id  \n",
       "0                       NaN  cellline_nci60_mutations  \n",
       "1                       NaN  cellline_nci60_mutations  \n",
       "2                       NaN  cellline_nci60_mutations  \n",
       "3                       NaN  cellline_nci60_mutations  \n",
       "4                       NaN  cellline_nci60_mutations  \n",
       "\n",
       "[5 rows x 22 columns]"
      ]
     },
     "execution_count": 9,
     "metadata": {},
     "output_type": "execute_result"
    }
   ],
   "source": [
    "d.head()"
   ]
  },
  {
   "cell_type": "code",
   "execution_count": 10,
   "metadata": {
    "collapsed": false
   },
   "outputs": [
    {
     "name": "stdout",
     "output_type": "stream",
     "text": [
      "<class 'pandas.core.frame.DataFrame'>\n",
      "Int64Index: 34073 entries, 0 to 14\n",
      "Data columns (total 22 columns):\n",
      "entrez_gene_id                 34073 non-null float64\n",
      "gene_symbol                    34073 non-null object\n",
      "case_id                        34073 non-null object\n",
      "sequencing_center              34052 non-null object\n",
      "mutation_status                0 non-null object\n",
      "mutation_type                  34073 non-null object\n",
      "validation_status              0 non-null object\n",
      "amino_acid_change              34073 non-null object\n",
      "functional_impact_score        24795 non-null object\n",
      "xvar_link                      26561 non-null object\n",
      "xvar_link_pdb                  9710 non-null object\n",
      "xvar_link_msa                  24830 non-null object\n",
      "chr                            34073 non-null float64\n",
      "start_position                 34073 non-null float64\n",
      "end_position                   34073 non-null float64\n",
      "reference_allele               34073 non-null object\n",
      "variant_allele                 34073 non-null object\n",
      "reference_read_count_tumor     0 non-null object\n",
      "variant_read_count_tumor       0 non-null object\n",
      "reference_read_count_normal    0 non-null object\n",
      "variant_read_count_normal      0 non-null object\n",
      "genetic_profile_id             34073 non-null object\n",
      "dtypes: float64(4), object(18)\n",
      "memory usage: 6.0+ MB\n"
     ]
    }
   ],
   "source": [
    "d.info()"
   ]
  },
  {
   "cell_type": "code",
   "execution_count": 17,
   "metadata": {
    "collapsed": false
   },
   "outputs": [
    {
     "name": "stdout",
     "output_type": "stream",
     "text": [
      "[Remove duplicate records] Records before = 34073, Records after = 33995, Records removed = 78 (%0.23)\n",
      "<class 'pandas.core.frame.DataFrame'>\n",
      "Int64Index: 33995 entries, 0 to 14\n",
      "Data columns (total 13 columns):\n",
      "GENE_ID:ENTREZ             33995 non-null int64\n",
      "GENE_ID:HGNC               33995 non-null object\n",
      "CELL_LINE_ID               33995 non-null object\n",
      "SEQUENCING_CENTER          33995 non-null object\n",
      "MUTATION_TYPE              33995 non-null object\n",
      "AMINO_ACID_CHANGE          33995 non-null object\n",
      "FUNCTIONAL_IMPACT_SCORE    33995 non-null object\n",
      "CHR                        33995 non-null float64\n",
      "START_POSITION             33995 non-null float64\n",
      "END_POSITION               33995 non-null float64\n",
      "REFERENCE_ALLELE           33995 non-null object\n",
      "VARIANT_ALLELE             33995 non-null object\n",
      "GENETIC_PROFILE_ID         33995 non-null object\n",
      "dtypes: float64(3), int64(1), object(9)\n",
      "memory usage: 3.6+ MB\n"
     ]
    }
   ],
   "source": [
    "c_rm = cgds.DEFAULT_IGNORABLE_MUTATION_COLS + [\n",
    "    'reference_read_count_normal', \n",
    "    'variant_read_count_normal',\n",
    "    'reference_read_count_tumor',\n",
    "    'variant_read_count_tumor'\n",
    "]\n",
    "d_exp = cgds.prep_mutation_data(d, c_rm)\n",
    "d_exp['SEQUENCING_CENTER'] = d_exp['SEQUENCING_CENTER'].fillna('Unknown')\n",
    "d_exp['FUNCTIONAL_IMPACT_SCORE'] = d_exp['FUNCTIONAL_IMPACT_SCORE'].fillna('Unknown')\n",
    "d_exp.info()"
   ]
  },
  {
   "cell_type": "code",
   "execution_count": 19,
   "metadata": {
    "collapsed": false
   },
   "outputs": [
    {
     "data": {
      "text/plain": [
       "1    33766\n",
       "2      113\n",
       "3        1\n",
       "dtype: int64"
      ]
     },
     "execution_count": 19,
     "metadata": {},
     "output_type": "execute_result"
    }
   ],
   "source": [
    "# Note that records may not necessarily be unique to cell line, gene, and amino acid change\n",
    "c_unique = ['CELL_LINE_ID', 'GENE_ID:HGNC', 'AMINO_ACID_CHANGE']\n",
    "cts = d_exp.groupby(c_unique).size()\n",
    "cts.value_counts()"
   ]
  },
  {
   "cell_type": "code",
   "execution_count": 20,
   "metadata": {
    "collapsed": false
   },
   "outputs": [
    {
     "data": {
      "text/plain": [
       "'/Users/eczech/data/research/mgds/import/nci60_v2_gene-exome-seq.pkl'"
      ]
     },
     "execution_count": 20,
     "metadata": {},
     "output_type": "execute_result"
    }
   ],
   "source": [
    "assert np.all(pd.notnull(d_exp))\n",
    "db.save(d_exp, src.NCI60_v2, db.IMPORT, 'gene-exome-seq')"
   ]
  }
 ],
 "metadata": {
  "kernelspec": {
   "display_name": "Python 3",
   "language": "python",
   "name": "python3"
  },
  "language_info": {
   "codemirror_mode": {
    "name": "ipython",
    "version": 3
   },
   "file_extension": ".py",
   "mimetype": "text/x-python",
   "name": "python",
   "nbconvert_exporter": "python",
   "pygments_lexer": "ipython3",
   "version": "3.5.2"
  }
 },
 "nbformat": 4,
 "nbformat_minor": 0
}
