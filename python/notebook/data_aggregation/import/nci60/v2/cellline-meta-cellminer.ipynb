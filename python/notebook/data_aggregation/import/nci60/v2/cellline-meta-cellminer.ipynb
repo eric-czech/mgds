{
 "cells": [
  {
   "cell_type": "markdown",
   "metadata": {},
   "source": [
    "# NCI60 Cell Line Metadata Importation\n",
    "**Local Version**: 2\n",
    "**Source Version**: NA\n",
    "\n",
    "This notebook will import raw NCI60 cellline metadata data using the CellMiner downloads page hosted at: https://discover.nci.nih.gov/cellminer/metadata.do"
   ]
  },
  {
   "cell_type": "code",
   "execution_count": 1,
   "metadata": {
    "collapsed": true
   },
   "outputs": [],
   "source": [
    "%run -m ipy_startup\n",
    "%run -m ipy_logging\n",
    "%matplotlib inline\n",
    "from mgds.data_aggregation import io_utils\n",
    "from mgds.data_aggregation import database as db\n",
    "from mgds.data_aggregation import source as src\n",
    "from mgds.data_aggregation import entity\n",
    "from mgds.data_aggregation.import_lib import cgds\n",
    "from mgds.data_aggregation.import_lib import nci60\n",
    "from py_utils import assertion_utils"
   ]
  },
  {
   "cell_type": "code",
   "execution_count": 2,
   "metadata": {
    "collapsed": false
   },
   "outputs": [
    {
     "name": "stderr",
     "output_type": "stream",
     "text": [
      "2016-12-01 15:06:36,775:DEBUG:mgds.data_aggregation.io_utils: Returning previously downloaded path for \"/Users/eczech/data/research/mgds/raw/nci60_v2_cellline-meta.txt\"\n"
     ]
    },
    {
     "data": {
      "text/plain": [
       "'/Users/eczech/data/research/mgds/raw/nci60_v2_cellline-meta.txt'"
      ]
     },
     "execution_count": 2,
     "metadata": {},
     "output_type": "execute_result"
    }
   ],
   "source": [
    "url = 'https://discover.nci.nih.gov/cellminer/samples/CELLMINER_CELL_LINE_METADATA.txt'\n",
    "filepath = db.raw_file(src.NCI60_v2, 'cellline-meta.txt')\n",
    "filepath = io_utils.download(url, filepath, check_exists=True)\n",
    "filepath"
   ]
  },
  {
   "cell_type": "code",
   "execution_count": 3,
   "metadata": {
    "collapsed": false
   },
   "outputs": [
    {
     "name": "stdout",
     "output_type": "stream",
     "text": [
      "<class 'pandas.core.frame.DataFrame'>\n",
      "RangeIndex: 60 entries, 0 to 59\n",
      "Data columns (total 15 columns):\n",
      "Cell Line Name           60 non-null object\n",
      "tissue of origin (a)     60 non-null object\n",
      "age (a)                  45 non-null float64\n",
      "sex (a)                  54 non-null object\n",
      "prior treatment (a,b)    39 non-null object\n",
      "Epithelial               60 non-null object\n",
      "histology (a,c)          60 non-null object\n",
      "source                   20 non-null object\n",
      "ploidy (d)               59 non-null object\n",
      "p53 (e)                  60 non-null object\n",
      "mdr (f)                  59 non-null float64\n",
      "doubling time (g)        60 non-null float64\n",
      "Institute                60 non-null object\n",
      "Contributor              60 non-null object\n",
      "Reference                60 non-null object\n",
      "dtypes: float64(3), object(12)\n",
      "memory usage: 7.1+ KB\n"
     ]
    },
    {
     "name": "stderr",
     "output_type": "stream",
     "text": [
      "b'Skipping line 69: expected 15 fields, saw 29\\n'\n"
     ]
    }
   ],
   "source": [
    "d = pd.read_csv(filepath, sep='\\t', skiprows=list(range(7)), error_bad_lines=False)\n",
    "d = d.iloc[:60, :]\n",
    "d.info()"
   ]
  },
  {
   "cell_type": "code",
   "execution_count": 25,
   "metadata": {
    "collapsed": false
   },
   "outputs": [
    {
     "data": {
      "text/html": [
       "<div>\n",
       "<table border=\"1\" class=\"dataframe\">\n",
       "  <thead>\n",
       "    <tr style=\"text-align: right;\">\n",
       "      <th></th>\n",
       "      <th>CELL_LINE_ID</th>\n",
       "      <th>PRIMARY_SITE</th>\n",
       "      <th>AGE</th>\n",
       "      <th>GENDER</th>\n",
       "      <th>PROPERTIES</th>\n",
       "    </tr>\n",
       "  </thead>\n",
       "  <tbody>\n",
       "    <tr>\n",
       "      <th>0</th>\n",
       "      <td>MCF7</td>\n",
       "      <td>Breast</td>\n",
       "      <td>69.0</td>\n",
       "      <td>F</td>\n",
       "      <td>{'INSTITUTE': 'Michigan Cancer Foundtion', 'PR...</td>\n",
       "    </tr>\n",
       "    <tr>\n",
       "      <th>1</th>\n",
       "      <td>MDA_MB_231</td>\n",
       "      <td>Breast</td>\n",
       "      <td>51.0</td>\n",
       "      <td>F</td>\n",
       "      <td>{'INSTITUTE': 'MD Anderson Hospital and Tumor ...</td>\n",
       "    </tr>\n",
       "    <tr>\n",
       "      <th>2</th>\n",
       "      <td>HS578T</td>\n",
       "      <td>Breast</td>\n",
       "      <td>74.0</td>\n",
       "      <td>F</td>\n",
       "      <td>{'INSTITUTE': 'Naval Bioscience Laboratory', '...</td>\n",
       "    </tr>\n",
       "    <tr>\n",
       "      <th>3</th>\n",
       "      <td>BT_549</td>\n",
       "      <td>Breast</td>\n",
       "      <td>72.0</td>\n",
       "      <td>F</td>\n",
       "      <td>{'INSTITUTE': '?', 'PRIOR_TREATMENT': nan, 'HI...</td>\n",
       "    </tr>\n",
       "    <tr>\n",
       "      <th>4</th>\n",
       "      <td>T47D</td>\n",
       "      <td>Breast</td>\n",
       "      <td>54.0</td>\n",
       "      <td>F</td>\n",
       "      <td>{'INSTITUTE': '?', 'PRIOR_TREATMENT': nan, 'HI...</td>\n",
       "    </tr>\n",
       "  </tbody>\n",
       "</table>\n",
       "</div>"
      ],
      "text/plain": [
       "  CELL_LINE_ID PRIMARY_SITE   AGE GENDER  \\\n",
       "0         MCF7       Breast  69.0      F   \n",
       "1   MDA_MB_231       Breast  51.0      F   \n",
       "2       HS578T       Breast  74.0      F   \n",
       "3       BT_549       Breast  72.0      F   \n",
       "4         T47D       Breast  54.0      F   \n",
       "\n",
       "                                          PROPERTIES  \n",
       "0  {'INSTITUTE': 'Michigan Cancer Foundtion', 'PR...  \n",
       "1  {'INSTITUTE': 'MD Anderson Hospital and Tumor ...  \n",
       "2  {'INSTITUTE': 'Naval Bioscience Laboratory', '...  \n",
       "3  {'INSTITUTE': '?', 'PRIOR_TREATMENT': nan, 'HI...  \n",
       "4  {'INSTITUTE': '?', 'PRIOR_TREATMENT': nan, 'HI...  "
      ]
     },
     "execution_count": 25,
     "metadata": {},
     "output_type": "execute_result"
    }
   ],
   "source": [
    "d_cl = d.copy()\n",
    "\n",
    "d_cl.columns = d_cl.columns.to_series()\\\n",
    "    .str.replace('\\(.*\\)', '')\\\n",
    "    .str.strip()\\\n",
    "    .str.replace(' ', '_')\\\n",
    "    .str.upper()\n",
    "c_m = {\n",
    "    'CELL_LINE_NAME': 'CELL_LINE_ID',\n",
    "    'SEX': 'GENDER',\n",
    "    'TISSUE_OF_ORIGIN': 'PRIMARY_SITE'\n",
    "}\n",
    "d_cl = d_cl.rename(columns=c_m)\n",
    "\n",
    "# Strip off leading tissue type abbreviation on cell line ids (eg: BR:MCF7)\n",
    "assert np.all(d_cl['CELL_LINE_ID'].apply(lambda x: len(x.split(':')) == 2))\n",
    "d_cl['CELL_LINE_ID'] = d_cl['CELL_LINE_ID'].apply(lambda x: x.split(':')[1])\n",
    "\n",
    "# Also strip out paren enclosures in cell line ids -- this caused 4 known issues\n",
    "# where a cell line id here like \"LOXIMVI (h)\" does not match \"LOXIMVI\" in omics data sets\n",
    "d_cl['CELL_LINE_ID'] = d_cl['CELL_LINE_ID'].str.replace('\\(.*\\)', '').str.strip()\n",
    "\n",
    "# Add generic properties map with more source-specific metadata\n",
    "c_detail = ['HISTOLOGY', 'INSTITUTE', 'PRIOR_TREATMENT']\n",
    "d_cl['PROPERTIES'] = d_cl[c_detail].apply(lambda r: r.to_dict(), axis=1)\n",
    "\n",
    "# Subset to only most relevant fields\n",
    "d_cl = d_cl[['CELL_LINE_ID', 'PRIMARY_SITE', 'AGE', 'GENDER', 'PROPERTIES']]\n",
    "\n",
    "d_cl.head()"
   ]
  },
  {
   "cell_type": "code",
   "execution_count": 26,
   "metadata": {
    "collapsed": false
   },
   "outputs": [
    {
     "data": {
      "text/plain": [
       "array(['MCF7', 'MDA_MB_231', 'HS578T', 'BT_549', 'T47D', 'SF_268',\n",
       "       'SF_295', 'SF_539', 'SNB_19', 'SNB_75', 'U251', 'COLO205',\n",
       "       'HCC_2998', 'HCT_116', 'HCT_15', 'HT29', 'KM12', 'SW_620',\n",
       "       'CCRF_CEM', 'HL_60', 'K_562', 'MOLT_4', 'RPMI_8226', 'SR',\n",
       "       'LOXIMVI', 'MALME_3M', 'M14', 'SK_MEL_2', 'SK_MEL_28', 'SK_MEL_5',\n",
       "       'UACC_257', 'UACC_62', 'MDA_MB_435', 'MDA_N', 'A549', 'EKVX',\n",
       "       'HOP_62', 'HOP_92', 'NCI_H226', 'NCI_H23', 'NCI_H322M', 'NCI_H460',\n",
       "       'NCI_H522', 'IGROV1', 'OVCAR_3', 'OVCAR_4', 'OVCAR_5', 'OVCAR_8',\n",
       "       'SK_OV_3', 'NCI_ADR_RES', 'PC_3', 'DU_145', '786_0', 'A498', 'ACHN',\n",
       "       'CAKI_1', 'RXF_393', 'SN12C', 'TK_10', 'UO_31'], dtype=object)"
      ]
     },
     "execution_count": 26,
     "metadata": {},
     "output_type": "execute_result"
    }
   ],
   "source": [
    "d_cl['CELL_LINE_ID'].values"
   ]
  },
  {
   "cell_type": "code",
   "execution_count": 27,
   "metadata": {
    "collapsed": false
   },
   "outputs": [
    {
     "name": "stdout",
     "output_type": "stream",
     "text": [
      "<class 'pandas.core.frame.DataFrame'>\n",
      "RangeIndex: 60 entries, 0 to 59\n",
      "Data columns (total 5 columns):\n",
      "CELL_LINE_ID    60 non-null object\n",
      "PRIMARY_SITE    60 non-null object\n",
      "AGE             45 non-null float64\n",
      "GENDER          54 non-null object\n",
      "PROPERTIES      60 non-null object\n",
      "dtypes: float64(1), object(4)\n",
      "memory usage: 2.4+ KB\n"
     ]
    }
   ],
   "source": [
    "d_cl.info()"
   ]
  },
  {
   "cell_type": "code",
   "execution_count": 28,
   "metadata": {
    "collapsed": false
   },
   "outputs": [
    {
     "data": {
      "text/plain": [
       "M    28\n",
       "F    26\n",
       "Name: GENDER, dtype: int64"
      ]
     },
     "execution_count": 28,
     "metadata": {},
     "output_type": "execute_result"
    }
   ],
   "source": [
    "d_cl['GENDER'].value_counts()"
   ]
  },
  {
   "cell_type": "code",
   "execution_count": 29,
   "metadata": {
    "collapsed": false
   },
   "outputs": [
    {
     "data": {
      "text/plain": [
       "Melanoma                  10\n",
       "Non-Small Cell Lung        9\n",
       "Renal                      8\n",
       "Ovarian                    7\n",
       "Colon                      7\n",
       "Leukemia                   6\n",
       "Central nervous system     6\n",
       "Breast                     5\n",
       "Prostate                   2\n",
       "Name: PRIMARY_SITE, dtype: int64"
      ]
     },
     "execution_count": 29,
     "metadata": {},
     "output_type": "execute_result"
    }
   ],
   "source": [
    "d_cl['PRIMARY_SITE'].value_counts()"
   ]
  },
  {
   "cell_type": "code",
   "execution_count": 30,
   "metadata": {
    "collapsed": false
   },
   "outputs": [
    {
     "data": {
      "text/plain": [
       "Adenocarcinoma-md                                                                    4\n",
       "Malignant melanotic melanoma                                                         4\n",
       "Adenocarcinoma                                                                       3\n",
       "Melanotic melanoma                                                                   3\n",
       "Glioblastoma, ud                                                                     3\n",
       "Adenocarcinoma-vpd                                                                   2\n",
       "Carcinoma-ud                                                                         2\n",
       "Ductal carcinoma- mammary gland; breast; duct; metastatic site: pleural effusion;    2\n",
       "Clear cell carcinoma                                                                 1\n",
       "Malignant amelanotic melanoma                                                        1\n",
       "Name: PROPERTIES, dtype: int64"
      ]
     },
     "execution_count": 30,
     "metadata": {},
     "output_type": "execute_result"
    }
   ],
   "source": [
    "d_cl['PROPERTIES'].apply(lambda x: x['HISTOLOGY']).value_counts().head(10)"
   ]
  },
  {
   "cell_type": "code",
   "execution_count": 31,
   "metadata": {
    "collapsed": false
   },
   "outputs": [
    {
     "data": {
      "text/plain": [
       "None                    24\n",
       "Rad                      3\n",
       "CyPh/CsPt/Adr            2\n",
       "Rad/VB/CCNU/Mto/Pred     1\n",
       "Thiotepa                 1\n",
       "Rad/BCNU/5FU/HU/6MP      1\n",
       "Rad/HU/5FU/Mtx/Ctx       1\n",
       "None (non smoker)        1\n",
       "Ctx/Adr/CsPt/CyPh        1\n",
       "VB/6MP/Pred              1\n",
       "Name: PROPERTIES, dtype: int64"
      ]
     },
     "execution_count": 31,
     "metadata": {},
     "output_type": "execute_result"
    }
   ],
   "source": [
    "d_cl['PROPERTIES'].apply(lambda x: x['PRIOR_TREATMENT']).value_counts().head(10)"
   ]
  },
  {
   "cell_type": "markdown",
   "metadata": {},
   "source": [
    "## Export"
   ]
  },
  {
   "cell_type": "code",
   "execution_count": 32,
   "metadata": {
    "collapsed": false
   },
   "outputs": [
    {
     "name": "stdout",
     "output_type": "stream",
     "text": [
      "<class 'pandas.core.frame.DataFrame'>\n",
      "RangeIndex: 60 entries, 0 to 59\n",
      "Data columns (total 5 columns):\n",
      "CELL_LINE_ID    60 non-null object\n",
      "PRIMARY_SITE    60 non-null object\n",
      "AGE             45 non-null float64\n",
      "GENDER          60 non-null object\n",
      "PROPERTIES      60 non-null object\n",
      "dtypes: float64(1), object(4)\n",
      "memory usage: 2.4+ KB\n"
     ]
    }
   ],
   "source": [
    "d_exp = entity.prepare_cellline_meta(d_cl)\n",
    "d_exp.info()"
   ]
  },
  {
   "cell_type": "code",
   "execution_count": 33,
   "metadata": {
    "collapsed": false
   },
   "outputs": [
    {
     "data": {
      "text/plain": [
       "False    60\n",
       "Name: CELL_LINE_ID, dtype: int64"
      ]
     },
     "execution_count": 33,
     "metadata": {},
     "output_type": "execute_result"
    }
   ],
   "source": [
    "d_exp['CELL_LINE_ID'].str.contains('(', regex=False).value_counts()"
   ]
  },
  {
   "cell_type": "code",
   "execution_count": 36,
   "metadata": {
    "collapsed": false
   },
   "outputs": [
    {
     "data": {
      "text/plain": [
       "'/Users/eczech/data/research/mgds/import/nci60_v2_cellline-meta.pkl'"
      ]
     },
     "execution_count": 36,
     "metadata": {},
     "output_type": "execute_result"
    }
   ],
   "source": [
    "db.save(d_exp, src.NCI60_v2, db.IMPORT, 'cellline-meta')"
   ]
  }
 ],
 "metadata": {
  "kernelspec": {
   "display_name": "Python 3",
   "language": "python",
   "name": "python3"
  },
  "language_info": {
   "codemirror_mode": {
    "name": "ipython",
    "version": 3
   },
   "file_extension": ".py",
   "mimetype": "text/x-python",
   "name": "python",
   "nbconvert_exporter": "python",
   "pygments_lexer": "ipython3",
   "version": "3.5.2"
  }
 },
 "nbformat": 4,
 "nbformat_minor": 0
}
