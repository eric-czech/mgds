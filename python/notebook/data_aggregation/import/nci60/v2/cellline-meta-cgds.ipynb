{
 "cells": [
  {
   "cell_type": "markdown",
   "metadata": {},
   "source": [
    "**Deprecated** - Use cellline-meta-cellminer instead; this source contains no reliable primary site information\n",
    "\n",
    "# NCI60 Raw Clinical Data Importation\n",
    "**Local Version**: 2\n",
    "**Source Version**: NA\n",
    "\n",
    "This notebook will import raw NCI60 clinical data using the [CGDS](http://www.cbioportal.org/cgds_r.jsp) (aka \"Cancer Genomic Data Server\") portal."
   ]
  },
  {
   "cell_type": "code",
   "execution_count": 1,
   "metadata": {
    "collapsed": true
   },
   "outputs": [],
   "source": [
    "%run -m ipy_startup\n",
    "%run -m ipy_logging\n",
    "%matplotlib inline\n",
    "from mgds.data_aggregation import database as db\n",
    "from mgds.data_aggregation import source as src\n",
    "from mgds.data_aggregation.import_lib import cgds\n",
    "from mgds.data_aggregation.import_lib import nci60"
   ]
  },
  {
   "cell_type": "code",
   "execution_count": 2,
   "metadata": {
    "collapsed": false
   },
   "outputs": [
    {
     "name": "stderr",
     "output_type": "stream",
     "text": [
      "2016-12-01 09:54:30,160:DEBUG:mgds.data_aggregation.io_utils: Restoring serialized object from \"/Users/eczech/data/research/mgds/raw/nci60_v2_cellline-meta.pkl\"\n"
     ]
    },
    {
     "name": "stdout",
     "output_type": "stream",
     "text": [
      "<class 'pandas.core.frame.DataFrame'>\n",
      "RangeIndex: 60 entries, 0 to 59\n",
      "Data columns (total 7 columns):\n",
      "AGE                     45 non-null float64\n",
      "CANCER_TYPE             60 non-null object\n",
      "CANCER_TYPE_DETAILED    60 non-null object\n",
      "CELL_LINE_ID            60 non-null object\n",
      "GENDER                  54 non-null object\n",
      "HISTOLOGICAL_SUBTYPE    60 non-null object\n",
      "SAMPLE_TYPE             20 non-null object\n",
      "dtypes: float64(1), object(6)\n",
      "memory usage: 3.4+ KB\n"
     ]
    }
   ],
   "source": [
    "case_list_id = nci60.CASE_LIST_ID\n",
    "op = lambda: cgds.get_clinical_data(case_list_id)\n",
    "d = db.cache_raw_operation(op, src.NCI60_v2, 'cellline-meta')\n",
    "d = cgds.prep_clinical_data(d)\n",
    "d.info()"
   ]
  },
  {
   "cell_type": "code",
   "execution_count": 3,
   "metadata": {
    "collapsed": false
   },
   "outputs": [
    {
     "data": {
      "text/plain": [
       "Cancer of Unknown Primary    37\n",
       "Melanoma                     10\n",
       "Leukemia                      6\n",
       "Breast Sarcoma                5\n",
       "Prostate Cancer               2\n",
       "Name: CANCER_TYPE, dtype: int64"
      ]
     },
     "execution_count": 3,
     "metadata": {},
     "output_type": "execute_result"
    }
   ],
   "source": [
    "d['CANCER_TYPE'].value_counts()"
   ]
  },
  {
   "cell_type": "code",
   "execution_count": 4,
   "metadata": {
    "collapsed": false
   },
   "outputs": [
    {
     "data": {
      "text/plain": [
       "Mixed Cancer Types    37\n",
       "Melanoma              10\n",
       "Leukemia               6\n",
       "Breast                 5\n",
       "Prostate               2\n",
       "Name: CANCER_TYPE_DETAILED, dtype: int64"
      ]
     },
     "execution_count": 4,
     "metadata": {},
     "output_type": "execute_result"
    }
   ],
   "source": [
    "d['CANCER_TYPE_DETAILED'].value_counts()"
   ]
  },
  {
   "cell_type": "code",
   "execution_count": 6,
   "metadata": {
    "collapsed": false
   },
   "outputs": [
    {
     "data": {
      "text/plain": [
       "Pleural effusion    6\n",
       "Metastasis          6\n",
       "Ascites             3\n",
       "Primary             2\n",
       "PB                  2\n",
       "PBL                 1\n",
       "Name: SAMPLE_TYPE, dtype: int64"
      ]
     },
     "execution_count": 6,
     "metadata": {},
     "output_type": "execute_result"
    }
   ],
   "source": [
    "d['SAMPLE_TYPE'].value_counts()"
   ]
  },
  {
   "cell_type": "code",
   "execution_count": 8,
   "metadata": {
    "collapsed": false
   },
   "outputs": [
    {
     "data": {
      "text/plain": [
       "Malignant melanotic melanoma                                                                                                                     4\n",
       "Adenocarcinoma-md                                                                                                                                4\n",
       "Melanotic melanoma                                                                                                                               3\n",
       "Glioblastoma, ud                                                                                                                                 3\n",
       "Adenocarcinoma                                                                                                                                   3\n",
       "Adenocarcinoma-vpd                                                                                                                               2\n",
       "Carcinoma-ud                                                                                                                                     2\n",
       "Ductal carcinoma- mammary gland; breast; duct; metastatic site: pleural effusion;                                                                2\n",
       "Adenocarcinoma-mammary gland; breast; epithelial; metastatic site: pleural effusion;                                                             1\n",
       "prostate; metastatic site: brain; carcinoma (patient with metastatic carcinoma of the prostate and a 3 year history of lymphocytic leukemia.)    1\n",
       "Name: HISTOLOGICAL_SUBTYPE, dtype: int64"
      ]
     },
     "execution_count": 8,
     "metadata": {},
     "output_type": "execute_result"
    }
   ],
   "source": [
    "d['HISTOLOGICAL_SUBTYPE'].value_counts().head(10)"
   ]
  },
  {
   "cell_type": "code",
   "execution_count": 4,
   "metadata": {
    "collapsed": false
   },
   "outputs": [
    {
     "data": {
      "text/plain": [
       "'/Users/eczech/data/research/mgds/import/nci60_v2_cellline-meta.pkl'"
      ]
     },
     "execution_count": 4,
     "metadata": {},
     "output_type": "execute_result"
    }
   ],
   "source": [
    "## Source deprecated, do not overwrite this import file ##\n",
    "#assert np.all(pd.notnull(d[['CELL_LINE_ID']]))\n",
    "#db.save(d, src.NCI60_v2, db.IMPORT, 'cellline-meta')"
   ]
  }
 ],
 "metadata": {
  "kernelspec": {
   "display_name": "Python 3",
   "language": "python",
   "name": "python3"
  },
  "language_info": {
   "codemirror_mode": {
    "name": "ipython",
    "version": 3
   },
   "file_extension": ".py",
   "mimetype": "text/x-python",
   "name": "python",
   "nbconvert_exporter": "python",
   "pygments_lexer": "ipython3",
   "version": "3.5.2"
  }
 },
 "nbformat": 4,
 "nbformat_minor": 0
}
