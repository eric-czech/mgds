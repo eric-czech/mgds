{
 "cells": [
  {
   "cell_type": "markdown",
   "metadata": {},
   "source": [
    "# NCI60 Drug Sensitivity Data Importation\n",
    "**Local Version**: 2\n",
    "**Source Version**: NA\n",
    "\n",
    "This notebook will import NCI60 drug sensitivity data using the [CellMiner Portal](https://discover.nci.nih.gov/cellminer/loadDownload.do).\n",
    "\n",
    "\n",
    "Notes:\n",
    "\n",
    "- NCI 60 drug sensitivity data expressed as GI 50 -- See here for more details: https://discover.nci.nih.gov/cellminer/drug_zscore.html\n",
    "- More details on IC50 vs GI50 [source](https://www.bioconductor.org/packages/release/bioc/vignettes/rcellminer/inst/doc/rcellminerUsage.html):  \"GI50 values are similar to IC50 values, which are the concentrations that cause 50% growth inhibition, but have been renamed to emphasize the correction for the cell count at time zero\"\n",
    "- Clicking \"Compound Activity\" in the \"Download Raw Data Set\" section of the CellMiner Portal gives the following link to all https://discover.nci.nih.gov/cellminerdata/rawdata/DTP_NCI60_RAW.zip\n",
    "- The above zip archive ships with a README that contains the following:\n",
    "\n",
    "        PMID:\t22802077\n",
    "        Manufacturer:\t\"Developmental Therapeutics Program, NCI/NIH\"\n",
    "        Platform:\tSulforhodamine assay\n",
    "        Platform Description:\t\"Negative log10 (GI50) values of sulforhodamine B assay for ~ 50K compounds, including more than 20,000 that passed quality control, 158 Food and Drug Administration approved and 79 clinical trial drugs. Higher values equate to higher sensitivity of cell lines.\n",
    "        Molecular Target:\tDrug\n",
    "        Principal Collaborators:\t\"LMP, CCR, NCI (K Kohn)\"\n",
    "            \"DPT, NCI (J Morris)\"\n",
    "            \"Genomics and Bioinf Gp, LMP, CCR, NCI\"\n"
   ]
  },
  {
   "cell_type": "code",
   "execution_count": 34,
   "metadata": {
    "collapsed": false
   },
   "outputs": [],
   "source": [
    "%run -m ipy_startup\n",
    "%run -m ipy_seaborn\n",
    "%matplotlib inline\n",
    "import io\n",
    "from mgds.data_aggregation import database as db\n",
    "from mgds.data_aggregation import source as src\n",
    "from mgds.data_aggregation import io_utils\n",
    "from py_utils import zip_utils\n",
    "pd.set_option('display.max_info_rows', 50000000)"
   ]
  },
  {
   "cell_type": "code",
   "execution_count": 7,
   "metadata": {
    "collapsed": false
   },
   "outputs": [
    {
     "data": {
      "text/plain": [
       "'/Users/eczech/data/research/mgds/raw/nci60_v2_drug-sensitivity.zip'"
      ]
     },
     "execution_count": 7,
     "metadata": {},
     "output_type": "execute_result"
    }
   ],
   "source": [
    "url = 'https://discover.nci.nih.gov/cellminerdata/rawdata/DTP_NCI60_RAW.zip'\n",
    "filepath = db.raw_file(src.NCI60_v2, 'drug-sensitivity.zip')\n",
    "filepath = io_utils.download(url, filepath, check_exists=True)\n",
    "filepath"
   ]
  },
  {
   "cell_type": "code",
   "execution_count": 10,
   "metadata": {
    "collapsed": false
   },
   "outputs": [
    {
     "data": {
      "text/plain": [
       "['DTP_NCI60_RAW.xlsx',\n",
       " 'documents/_README_Compound_Activity__DTP_NCI_60.txt',\n",
       " 'DTP_NCI60_RAW_footnote.html',\n",
       " 'DTP_NCI60_RAW.html']"
      ]
     },
     "execution_count": 10,
     "metadata": {},
     "output_type": "execute_result"
    }
   ],
   "source": [
    "files = zip_utils.get_zip_archive_files(filepath)\n",
    "files"
   ]
  },
  {
   "cell_type": "code",
   "execution_count": null,
   "metadata": {
    "collapsed": false
   },
   "outputs": [],
   "source": [
    "data = zip_utils.get_zip_archive_file_data(filepath, 'DTP_NCI60_RAW.xlsx')\n",
    "d = pd.read_excel(io.BytesIO(data), sheetname='all', skiprows=[0,1,2,3,4,5,6,7], na_values=['-'])\n",
    "d.head()"
   ]
  },
  {
   "cell_type": "code",
   "execution_count": 21,
   "metadata": {
    "collapsed": false
   },
   "outputs": [
    {
     "name": "stdout",
     "output_type": "stream",
     "text": [
      "<class 'pandas.core.frame.DataFrame'>\n",
      "RangeIndex: 74506 entries, 0 to 74505\n",
      "Data columns (total 69 columns):\n",
      "NSC #                          74506 non-null int64\n",
      "Drug name                      74506 non-null object\n",
      "FDA status                     74506 non-null object\n",
      "Mechanism of action            74506 non-null object\n",
      "PubChem SID                    74506 non-null object\n",
      "Total probes                   74506 non-null int64\n",
      "Total after quality control    74506 non-null int64\n",
      "Failure reason                 74506 non-null object\n",
      "Experiment name                74506 non-null object\n",
      "BR:MCF7                        74506 non-null object\n",
      "BR:MDA_MB_231                  74506 non-null object\n",
      "BR:HS578T                      74506 non-null object\n",
      "BR:BT_549                      74506 non-null object\n",
      "BR:T47D                        74506 non-null object\n",
      "CNS:SF_268                     74506 non-null object\n",
      "CNS:SF_295                     74506 non-null object\n",
      "CNS:SF_539                     74506 non-null object\n",
      "CNS:SNB_19                     74506 non-null object\n",
      "CNS:SNB_75                     74506 non-null object\n",
      "CNS:U251                       74506 non-null object\n",
      "CO:COLO205                     74506 non-null object\n",
      "CO:HCC_2998                    74506 non-null object\n",
      "CO:HCT_116                     74506 non-null object\n",
      "CO:HCT_15                      74506 non-null object\n",
      "CO:HT29                        74506 non-null object\n",
      "CO:KM12                        74506 non-null object\n",
      "CO:SW_620                      74506 non-null object\n",
      "LE:CCRF_CEM                    74506 non-null object\n",
      "LE:HL_60                       74506 non-null object\n",
      "LE:K_562                       74506 non-null object\n",
      "LE:MOLT_4                      74506 non-null object\n",
      "LE:RPMI_8226                   74506 non-null object\n",
      "LE:SR                          74506 non-null object\n",
      "ME:LOXIMVI                     74506 non-null object\n",
      "ME:MALME_3M                    74506 non-null object\n",
      "ME:M14                         74506 non-null object\n",
      "ME:SK_MEL_2                    74506 non-null object\n",
      "ME:SK_MEL_28                   74506 non-null object\n",
      "ME:SK_MEL_5                    74506 non-null object\n",
      "ME:UACC_257                    74506 non-null object\n",
      "ME:UACC_62                     74506 non-null object\n",
      "ME:MDA_MB_435                  74506 non-null object\n",
      "ME:MDA_N                       74506 non-null object\n",
      "LC:A549                        74506 non-null object\n",
      "LC:EKVX                        74506 non-null object\n",
      "LC:HOP_62                      74506 non-null object\n",
      "LC:HOP_92                      74506 non-null object\n",
      "LC:NCI_H226                    74506 non-null object\n",
      "LC:NCI_H23                     74506 non-null object\n",
      "LC:NCI_H322M                   74506 non-null object\n",
      "LC:NCI_H460                    74506 non-null object\n",
      "LC:NCI_H522                    74506 non-null object\n",
      "OV:IGROV1                      74506 non-null object\n",
      "OV:OVCAR_3                     74506 non-null object\n",
      "OV:OVCAR_4                     74506 non-null object\n",
      "OV:OVCAR_5                     74506 non-null object\n",
      "OV:OVCAR_8                     74506 non-null object\n",
      "OV:SK_OV_3                     74506 non-null object\n",
      "OV:NCI_ADR_RES                 74506 non-null object\n",
      "PR:PC_3                        74506 non-null object\n",
      "PR:DU_145                      74506 non-null object\n",
      "RE:786_0                       74506 non-null object\n",
      "RE:A498                        74506 non-null object\n",
      "RE:ACHN                        74506 non-null object\n",
      "RE:CAKI_1                      74506 non-null object\n",
      "RE:RXF_393                     74506 non-null object\n",
      "RE:SN12C                       74506 non-null object\n",
      "RE:TK_10                       74506 non-null object\n",
      "RE:UO_31                       74506 non-null object\n",
      "dtypes: int64(3), object(66)\n",
      "memory usage: 39.2+ MB\n"
     ]
    }
   ],
   "source": [
    "d.info()"
   ]
  },
  {
   "cell_type": "markdown",
   "metadata": {},
   "source": [
    "## Melt to Long Format"
   ]
  },
  {
   "cell_type": "code",
   "execution_count": 27,
   "metadata": {
    "collapsed": false
   },
   "outputs": [
    {
     "data": {
      "text/html": [
       "<div>\n",
       "<table border=\"1\" class=\"dataframe\">\n",
       "  <thead>\n",
       "    <tr style=\"text-align: right;\">\n",
       "      <th></th>\n",
       "      <th>DRUG_ID:NSC</th>\n",
       "      <th>DRUG_NAME</th>\n",
       "      <th>FDA_STATUS</th>\n",
       "      <th>ACTION</th>\n",
       "      <th>DRUG_ID:PUBCHEM</th>\n",
       "      <th>NUM_PROBES</th>\n",
       "      <th>NUM_PROBES_AFTER_QC</th>\n",
       "      <th>FAILURE_REASON</th>\n",
       "      <th>EXPERIMENT_ID</th>\n",
       "      <th>CELL_LINE_ID</th>\n",
       "      <th>VALUE</th>\n",
       "    </tr>\n",
       "  </thead>\n",
       "  <tbody>\n",
       "    <tr>\n",
       "      <th>0</th>\n",
       "      <td>1</td>\n",
       "      <td>tolylquinone</td>\n",
       "      <td>-</td>\n",
       "      <td>-</td>\n",
       "      <td>66954</td>\n",
       "      <td>3</td>\n",
       "      <td>2</td>\n",
       "      <td>-</td>\n",
       "      <td>0807NS58</td>\n",
       "      <td>BR:MCF7</td>\n",
       "      <td>4.83</td>\n",
       "    </tr>\n",
       "    <tr>\n",
       "      <th>1</th>\n",
       "      <td>1</td>\n",
       "      <td>tolylquinone</td>\n",
       "      <td>-</td>\n",
       "      <td>-</td>\n",
       "      <td>66954</td>\n",
       "      <td>3</td>\n",
       "      <td>2</td>\n",
       "      <td>-</td>\n",
       "      <td>0809RS22</td>\n",
       "      <td>BR:MCF7</td>\n",
       "      <td>4.76</td>\n",
       "    </tr>\n",
       "    <tr>\n",
       "      <th>2</th>\n",
       "      <td>1</td>\n",
       "      <td>tolylquinone</td>\n",
       "      <td>-</td>\n",
       "      <td>-</td>\n",
       "      <td>66954</td>\n",
       "      <td>3</td>\n",
       "      <td>2</td>\n",
       "      <td>-</td>\n",
       "      <td>0810RS52</td>\n",
       "      <td>BR:MCF7</td>\n",
       "      <td>4.86</td>\n",
       "    </tr>\n",
       "    <tr>\n",
       "      <th>3</th>\n",
       "      <td>17</td>\n",
       "      <td>4-amino-3-pentadecylphenol</td>\n",
       "      <td>-</td>\n",
       "      <td>-</td>\n",
       "      <td>66970</td>\n",
       "      <td>3</td>\n",
       "      <td>3</td>\n",
       "      <td>-</td>\n",
       "      <td>0904NS01</td>\n",
       "      <td>BR:MCF7</td>\n",
       "      <td>5.18</td>\n",
       "    </tr>\n",
       "    <tr>\n",
       "      <th>4</th>\n",
       "      <td>17</td>\n",
       "      <td>4-amino-3-pentadecylphenol</td>\n",
       "      <td>-</td>\n",
       "      <td>-</td>\n",
       "      <td>66970</td>\n",
       "      <td>3</td>\n",
       "      <td>3</td>\n",
       "      <td>-</td>\n",
       "      <td>0907RS71</td>\n",
       "      <td>BR:MCF7</td>\n",
       "      <td>4.73</td>\n",
       "    </tr>\n",
       "  </tbody>\n",
       "</table>\n",
       "</div>"
      ],
      "text/plain": [
       "   DRUG_ID:NSC                   DRUG_NAME FDA_STATUS ACTION DRUG_ID:PUBCHEM  \\\n",
       "0            1                tolylquinone          -      -           66954   \n",
       "1            1                tolylquinone          -      -           66954   \n",
       "2            1                tolylquinone          -      -           66954   \n",
       "3           17  4-amino-3-pentadecylphenol          -      -           66970   \n",
       "4           17  4-amino-3-pentadecylphenol          -      -           66970   \n",
       "\n",
       "   NUM_PROBES  NUM_PROBES_AFTER_QC FAILURE_REASON EXPERIMENT_ID CELL_LINE_ID  \\\n",
       "0           3                    2              -      0807NS58      BR:MCF7   \n",
       "1           3                    2              -      0809RS22      BR:MCF7   \n",
       "2           3                    2              -      0810RS52      BR:MCF7   \n",
       "3           3                    3              -      0904NS01      BR:MCF7   \n",
       "4           3                    3              -      0907RS71      BR:MCF7   \n",
       "\n",
       "  VALUE  \n",
       "0  4.83  \n",
       "1  4.76  \n",
       "2  4.86  \n",
       "3  5.18  \n",
       "4  4.73  "
      ]
     },
     "execution_count": 27,
     "metadata": {},
     "output_type": "execute_result"
    }
   ],
   "source": [
    "d_tr = pd.melt(d, id_vars=list(d.columns[:9]), var_name='CELL_LINE_ID', value_name='VALUE')\n",
    "c_m = {\n",
    "    'Drug name': 'DRUG_NAME',\n",
    "    'NSC #': 'DRUG_ID:NSC',\n",
    "    'FDA status': 'FDA_STATUS',\n",
    "    'PubChem SID': 'DRUG_ID:PUBCHEM',\n",
    "    'Total probes': 'NUM_PROBES',\n",
    "    'Total after quality control': 'NUM_PROBES_AFTER_QC',\n",
    "    'Failure reason': 'FAILURE_REASON',\n",
    "    'Experiment name': 'EXPERIMENT_ID',\n",
    "    'Mechanism of action': 'ACTION'\n",
    "}\n",
    "d_tr = d_tr.rename(columns=c_m)\n",
    "d_tr.head()"
   ]
  },
  {
   "cell_type": "code",
   "execution_count": 35,
   "metadata": {
    "collapsed": false
   },
   "outputs": [
    {
     "name": "stdout",
     "output_type": "stream",
     "text": [
      "<class 'pandas.core.frame.DataFrame'>\n",
      "RangeIndex: 4470360 entries, 0 to 4470359\n",
      "Data columns (total 11 columns):\n",
      "DRUG_ID:NSC            4470360 non-null int64\n",
      "DRUG_NAME              4470360 non-null object\n",
      "FDA_STATUS             4470360 non-null object\n",
      "ACTION                 4470360 non-null object\n",
      "DRUG_ID:PUBCHEM        4470360 non-null object\n",
      "NUM_PROBES             4470360 non-null int64\n",
      "NUM_PROBES_AFTER_QC    4470360 non-null int64\n",
      "FAILURE_REASON         4470360 non-null object\n",
      "EXPERIMENT_ID          4470360 non-null object\n",
      "CELL_LINE_ID           4470360 non-null object\n",
      "VALUE                  4470360 non-null object\n",
      "dtypes: int64(3), object(8)\n",
      "memory usage: 375.2+ MB\n"
     ]
    }
   ],
   "source": [
    "d_tr.info()"
   ]
  },
  {
   "cell_type": "code",
   "execution_count": 32,
   "metadata": {
    "collapsed": false
   },
   "outputs": [
    {
     "data": {
      "text/plain": [
       "0      1979160\n",
       "1       956460\n",
       "2       755940\n",
       "253     247320\n",
       "3       141060\n",
       "4        65880\n",
       "5        36540\n",
       "6        34980\n",
       "121      23520\n",
       "7        16080\n",
       "97       15960\n",
       "75       15480\n",
       "8        14400\n",
       "11       11340\n",
       "10        9960\n",
       "12        8880\n",
       "114       8160\n",
       "92        7920\n",
       "123       7800\n",
       "113       7800\n",
       "102       7800\n",
       "78        7740\n",
       "9         7740\n",
       "47        7680\n",
       "117       7680\n",
       "96        7560\n",
       "80        5820\n",
       "32        5760\n",
       "15        5040\n",
       "18        4980\n",
       "16        4740\n",
       "25        3780\n",
       "39        3720\n",
       "19        3300\n",
       "14        3240\n",
       "48        3240\n",
       "42        3060\n",
       "29        3000\n",
       "43        3000\n",
       "46        3000\n",
       "13        2700\n",
       "17        1140\n",
       "Name: NUM_PROBES_AFTER_QC, dtype: int64"
      ]
     },
     "execution_count": 32,
     "metadata": {},
     "output_type": "execute_result"
    }
   ],
   "source": [
    "d_tr['NUM_PROBES_AFTER_QC'].value_counts()"
   ]
  },
  {
   "cell_type": "code",
   "execution_count": null,
   "metadata": {
    "collapsed": true
   },
   "outputs": [],
   "source": []
  }
 ],
 "metadata": {
  "kernelspec": {
   "display_name": "Python 3",
   "language": "python",
   "name": "python3"
  },
  "language_info": {
   "codemirror_mode": {
    "name": "ipython",
    "version": 3
   },
   "file_extension": ".py",
   "mimetype": "text/x-python",
   "name": "python",
   "nbconvert_exporter": "python",
   "pygments_lexer": "ipython3",
   "version": "3.5.2"
  }
 },
 "nbformat": 4,
 "nbformat_minor": 0
}
