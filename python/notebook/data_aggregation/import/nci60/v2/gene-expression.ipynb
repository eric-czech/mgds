{
 "cells": [
  {
   "cell_type": "markdown",
   "metadata": {},
   "source": [
    "# NCI60 Gene Expression Data Importation\n",
    "**Local Version**: 2\n",
    "**Source Version**: NA\n",
    "\n",
    "This notebook will import raw NCI60 gene expression data using the [CGDS](http://www.cbioportal.org/cgds_r.jsp) (aka \"Cancer Genomic Data Server\") portal."
   ]
  },
  {
   "cell_type": "code",
   "execution_count": 1,
   "metadata": {
    "collapsed": true
   },
   "outputs": [],
   "source": [
    "%run -m ipy_startup\n",
    "%run -m ipy_logging\n",
    "from mgds.data_aggregation import database as db\n",
    "from mgds.data_aggregation import source as src\n",
    "from mgds.data_aggregation import api\n",
    "from mgds.data_aggregation.import_lib import cgds\n",
    "from mgds.data_aggregation.import_lib import nci60\n",
    "pd.set_option('display.max_info_rows', 25000000)"
   ]
  },
  {
   "cell_type": "code",
   "execution_count": 2,
   "metadata": {
    "collapsed": false
   },
   "outputs": [
    {
     "name": "stderr",
     "output_type": "stream",
     "text": [
      "2016-11-28 14:15:44,535:DEBUG:mgds.data_aggregation.io_utils: Restoring serialized object from \"/Users/eczech/data/research/mgds/raw/nci60_v2_gene-expression.pkl\"\n"
     ]
    }
   ],
   "source": [
    "case_list_id = nci60.CASE_LIST_ID\n",
    "genetic_profile_id = nci60.PROF_GENE_EXPRESSION\n",
    "batch_size = 50\n",
    "\n",
    "op = lambda: cgds.get_genetic_profile_data(\n",
    "    case_list_id, genetic_profile_id,\n",
    "    api.get_hugo_gene_ids(), gene_id_batch_size=batch_size\n",
    ")\n",
    "d = db.cache_raw_operation(op, src.NCI60_v2, 'gene-expression', overwrite=False)"
   ]
  },
  {
   "cell_type": "code",
   "execution_count": 3,
   "metadata": {
    "collapsed": false
   },
   "outputs": [
    {
     "data": {
      "text/html": [
       "<div>\n",
       "<table border=\"1\" class=\"dataframe\">\n",
       "  <thead>\n",
       "    <tr style=\"text-align: right;\">\n",
       "      <th></th>\n",
       "      <th>GENE_ID</th>\n",
       "      <th>COMMON</th>\n",
       "      <th>BT_549</th>\n",
       "      <th>HS578T</th>\n",
       "      <th>MCF7</th>\n",
       "      <th>MDA_MB_231</th>\n",
       "      <th>T47D</th>\n",
       "      <th>SF_268</th>\n",
       "      <th>SF_295</th>\n",
       "      <th>SF_539</th>\n",
       "      <th>...</th>\n",
       "      <th>DU_145</th>\n",
       "      <th>PC_3</th>\n",
       "      <th>786_0</th>\n",
       "      <th>A498</th>\n",
       "      <th>ACHN</th>\n",
       "      <th>CAKI_1</th>\n",
       "      <th>RXF_393</th>\n",
       "      <th>SN12C</th>\n",
       "      <th>TK_10</th>\n",
       "      <th>UO_31</th>\n",
       "    </tr>\n",
       "  </thead>\n",
       "  <tbody>\n",
       "    <tr>\n",
       "      <th>0</th>\n",
       "      <td>1</td>\n",
       "      <td>A1BG</td>\n",
       "      <td>NaN</td>\n",
       "      <td>NaN</td>\n",
       "      <td>NaN</td>\n",
       "      <td>NaN</td>\n",
       "      <td>NaN</td>\n",
       "      <td>NaN</td>\n",
       "      <td>NaN</td>\n",
       "      <td>NaN</td>\n",
       "      <td>...</td>\n",
       "      <td>NaN</td>\n",
       "      <td>NaN</td>\n",
       "      <td>NaN</td>\n",
       "      <td>NaN</td>\n",
       "      <td>NaN</td>\n",
       "      <td>NaN</td>\n",
       "      <td>NaN</td>\n",
       "      <td>NaN</td>\n",
       "      <td>NaN</td>\n",
       "      <td>NaN</td>\n",
       "    </tr>\n",
       "    <tr>\n",
       "      <th>1</th>\n",
       "      <td>503538</td>\n",
       "      <td>A1BG-AS1</td>\n",
       "      <td>1.70</td>\n",
       "      <td>0.87</td>\n",
       "      <td>1.36</td>\n",
       "      <td>-0.15</td>\n",
       "      <td>1.38</td>\n",
       "      <td>NaN</td>\n",
       "      <td>NaN</td>\n",
       "      <td>NaN</td>\n",
       "      <td>...</td>\n",
       "      <td>0.30</td>\n",
       "      <td>-1.19</td>\n",
       "      <td>-1.10</td>\n",
       "      <td>-0.81</td>\n",
       "      <td>-0.64</td>\n",
       "      <td>0.18</td>\n",
       "      <td>-0.02</td>\n",
       "      <td>-0.35</td>\n",
       "      <td>-1.05</td>\n",
       "      <td>-0.51</td>\n",
       "    </tr>\n",
       "    <tr>\n",
       "      <th>2</th>\n",
       "      <td>29974</td>\n",
       "      <td>A1CF</td>\n",
       "      <td>-0.10</td>\n",
       "      <td>0.15</td>\n",
       "      <td>-0.14</td>\n",
       "      <td>-0.18</td>\n",
       "      <td>-0.16</td>\n",
       "      <td>NaN</td>\n",
       "      <td>NaN</td>\n",
       "      <td>NaN</td>\n",
       "      <td>...</td>\n",
       "      <td>-0.37</td>\n",
       "      <td>-0.32</td>\n",
       "      <td>-0.12</td>\n",
       "      <td>-0.05</td>\n",
       "      <td>-0.07</td>\n",
       "      <td>-0.10</td>\n",
       "      <td>-0.19</td>\n",
       "      <td>-0.23</td>\n",
       "      <td>-0.07</td>\n",
       "      <td>-0.27</td>\n",
       "    </tr>\n",
       "    <tr>\n",
       "      <th>3</th>\n",
       "      <td>2</td>\n",
       "      <td>A2M</td>\n",
       "      <td>-0.39</td>\n",
       "      <td>-0.24</td>\n",
       "      <td>-0.38</td>\n",
       "      <td>-0.40</td>\n",
       "      <td>-0.38</td>\n",
       "      <td>NaN</td>\n",
       "      <td>NaN</td>\n",
       "      <td>NaN</td>\n",
       "      <td>...</td>\n",
       "      <td>-0.36</td>\n",
       "      <td>-0.51</td>\n",
       "      <td>-0.45</td>\n",
       "      <td>-0.35</td>\n",
       "      <td>-0.36</td>\n",
       "      <td>-0.39</td>\n",
       "      <td>-0.40</td>\n",
       "      <td>-0.43</td>\n",
       "      <td>-0.37</td>\n",
       "      <td>-0.40</td>\n",
       "    </tr>\n",
       "    <tr>\n",
       "      <th>4</th>\n",
       "      <td>144571</td>\n",
       "      <td>A2M-AS1</td>\n",
       "      <td>NaN</td>\n",
       "      <td>NaN</td>\n",
       "      <td>NaN</td>\n",
       "      <td>NaN</td>\n",
       "      <td>NaN</td>\n",
       "      <td>NaN</td>\n",
       "      <td>NaN</td>\n",
       "      <td>NaN</td>\n",
       "      <td>...</td>\n",
       "      <td>NaN</td>\n",
       "      <td>NaN</td>\n",
       "      <td>NaN</td>\n",
       "      <td>NaN</td>\n",
       "      <td>NaN</td>\n",
       "      <td>NaN</td>\n",
       "      <td>NaN</td>\n",
       "      <td>NaN</td>\n",
       "      <td>NaN</td>\n",
       "      <td>NaN</td>\n",
       "    </tr>\n",
       "  </tbody>\n",
       "</table>\n",
       "<p>5 rows × 62 columns</p>\n",
       "</div>"
      ],
      "text/plain": [
       "   GENE_ID    COMMON  BT_549  HS578T  MCF7  MDA_MB_231  T47D  SF_268  SF_295  \\\n",
       "0        1      A1BG     NaN     NaN   NaN         NaN   NaN     NaN     NaN   \n",
       "1   503538  A1BG-AS1    1.70    0.87  1.36       -0.15  1.38     NaN     NaN   \n",
       "2    29974      A1CF   -0.10    0.15 -0.14       -0.18 -0.16     NaN     NaN   \n",
       "3        2       A2M   -0.39   -0.24 -0.38       -0.40 -0.38     NaN     NaN   \n",
       "4   144571   A2M-AS1     NaN     NaN   NaN         NaN   NaN     NaN     NaN   \n",
       "\n",
       "   SF_539  ...    DU_145  PC_3  786_0  A498  ACHN  CAKI_1  RXF_393  SN12C  \\\n",
       "0     NaN  ...       NaN   NaN    NaN   NaN   NaN     NaN      NaN    NaN   \n",
       "1     NaN  ...      0.30 -1.19  -1.10 -0.81 -0.64    0.18    -0.02  -0.35   \n",
       "2     NaN  ...     -0.37 -0.32  -0.12 -0.05 -0.07   -0.10    -0.19  -0.23   \n",
       "3     NaN  ...     -0.36 -0.51  -0.45 -0.35 -0.36   -0.39    -0.40  -0.43   \n",
       "4     NaN  ...       NaN   NaN    NaN   NaN   NaN     NaN      NaN    NaN   \n",
       "\n",
       "   TK_10  UO_31  \n",
       "0    NaN    NaN  \n",
       "1  -1.05  -0.51  \n",
       "2  -0.07  -0.27  \n",
       "3  -0.37  -0.40  \n",
       "4    NaN    NaN  \n",
       "\n",
       "[5 rows x 62 columns]"
      ]
     },
     "execution_count": 3,
     "metadata": {},
     "output_type": "execute_result"
    }
   ],
   "source": [
    "d.head()"
   ]
  },
  {
   "cell_type": "code",
   "execution_count": 4,
   "metadata": {
    "collapsed": false
   },
   "outputs": [
    {
     "name": "stdout",
     "output_type": "stream",
     "text": [
      "[Remove null values for column \"VALUE\"] Records before = 2341920, Records after = 1209798, Records removed = 1132122 (%48.34)\n",
      "<class 'pandas.core.frame.DataFrame'>\n",
      "Int64Index: 1209798 entries, 1 to 2341919\n",
      "Data columns (total 4 columns):\n",
      "GENE_ID:CGDS    1209798 non-null int64\n",
      "GENE_ID:HGNC    1209798 non-null object\n",
      "CELL_LINE_ID    1209798 non-null object\n",
      "VALUE           1209798 non-null float64\n",
      "dtypes: float64(1), int64(1), object(2)\n",
      "memory usage: 46.2+ MB\n"
     ]
    }
   ],
   "source": [
    "d = cgds.melt_raw_data(d)\n",
    "d.info()"
   ]
  },
  {
   "cell_type": "code",
   "execution_count": 5,
   "metadata": {
    "collapsed": false
   },
   "outputs": [
    {
     "data": {
      "text/plain": [
       "1    1206236\n",
       "2       1457\n",
       "3        216\n",
       "Name: Number of Replicates, dtype: int64"
      ]
     },
     "execution_count": 5,
     "metadata": {},
     "output_type": "execute_result"
    }
   ],
   "source": [
    "d_agg, d_dist = cgds.aggregate(d)\n",
    "d_dist"
   ]
  },
  {
   "cell_type": "code",
   "execution_count": 6,
   "metadata": {
    "collapsed": false
   },
   "outputs": [
    {
     "name": "stdout",
     "output_type": "stream",
     "text": [
      "<class 'pandas.core.frame.DataFrame'>\n",
      "RangeIndex: 1207909 entries, 0 to 1207908\n",
      "Data columns (total 6 columns):\n",
      "CELL_LINE_ID    1207909 non-null object\n",
      "GENE_ID:HGNC    1207909 non-null object\n",
      "GENE_ID:CGDS    1207909 non-null int64\n",
      "VALUE_MEAN      1207909 non-null float64\n",
      "VALUE_STD       1207909 non-null float64\n",
      "VALUE_CT        1207909 non-null int64\n",
      "dtypes: float64(2), int64(2), object(2)\n",
      "memory usage: 55.3+ MB\n"
     ]
    }
   ],
   "source": [
    "d_agg.info()"
   ]
  },
  {
   "cell_type": "code",
   "execution_count": 8,
   "metadata": {
    "collapsed": false
   },
   "outputs": [
    {
     "data": {
      "text/plain": [
       "'/Users/eczech/data/research/mgds/import/nci60_v2_gene-expression.pkl'"
      ]
     },
     "execution_count": 8,
     "metadata": {},
     "output_type": "execute_result"
    }
   ],
   "source": [
    "assert np.all(pd.notnull(d_agg))\n",
    "db.save(d_agg, src.NCI60_v2, db.IMPORT, 'gene-expression')"
   ]
  }
 ],
 "metadata": {
  "kernelspec": {
   "display_name": "Python 3",
   "language": "python",
   "name": "python3"
  },
  "language_info": {
   "codemirror_mode": {
    "name": "ipython",
    "version": 3
   },
   "file_extension": ".py",
   "mimetype": "text/x-python",
   "name": "python",
   "nbconvert_exporter": "python",
   "pygments_lexer": "ipython3",
   "version": "3.5.2"
  }
 },
 "nbformat": 4,
 "nbformat_minor": 0
}
