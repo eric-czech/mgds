{
 "cells": [
  {
   "cell_type": "markdown",
   "metadata": {},
   "source": [
    "# NCI60 Gene Expression Data Importation\n",
    "**Local Version**: 1\n",
    "**Source Version**: NA\n",
    "\n",
    "This notebook will import raw NCI60 gene expresion data using the [Cell Miner R](http://bioconductor.statistik.tu-dortmund.de/packages/3.4/data/experiment/manuals/rcellminerData/man/rcellminerData.pdf) package."
   ]
  },
  {
   "cell_type": "code",
   "execution_count": 1,
   "metadata": {
    "collapsed": false
   },
   "outputs": [],
   "source": [
    "%run -m ipy_startup\n",
    "%run -m ipy_seaborn\n",
    "%load_ext rpy2.ipython\n",
    "%matplotlib inline\n",
    "import warnings\n",
    "warnings.filterwarnings(\"ignore\")\n",
    "from mgds.data_aggregation import database as db\n",
    "from mgds.data_aggregation import source as src\n",
    "from mgds.data_aggregation import na_utils\n",
    "from py_utils import collection_utils as cu\n",
    "from py_utils.collection_utils import subset"
   ]
  },
  {
   "cell_type": "code",
   "execution_count": 2,
   "metadata": {
    "collapsed": false
   },
   "outputs": [],
   "source": [
    "%%R \n",
    "# Load CellMiner package containing necessary data\n",
    "library('rcellminerData')"
   ]
  },
  {
   "cell_type": "code",
   "execution_count": 3,
   "metadata": {
    "collapsed": false
   },
   "outputs": [],
   "source": [
    "%%R -o d\n",
    "# Load NCI60 expression data\n",
    "# Note that a similar alternative to molData@eSetList$exp is molData@eSetList$xai, indicated in the documentation as \n",
    "# \"Expression (Avg. log2 Intensity).\".  Given that the values for this alternative are always positive, the \n",
    "# assumption is being made here that that the \"xai\" value is a log2 concentration without comparison to a control \n",
    "# tissue sample which makes it less useful and less compatible with a typical expression value where the log2 value \n",
    "# is the ratio of the expression for the tumor sample over the control tissue sample.\n",
    "d <- as.data.frame(molData@eSetList$exp)"
   ]
  },
  {
   "cell_type": "code",
   "execution_count": 4,
   "metadata": {
    "collapsed": false
   },
   "outputs": [
    {
     "name": "stdout",
     "output_type": "stream",
     "text": [
      "<class 'pandas.core.frame.DataFrame'>\n",
      "RangeIndex: 60 entries, 0 to 59\n",
      "Columns: 25723 entries, CELL_LINE_ID to ZZZ3\n",
      "dtypes: float64(25722), object(1)\n",
      "memory usage: 11.8+ MB\n"
     ]
    }
   ],
   "source": [
    "d.index.name = 'CELL_LINE_ID'\n",
    "d = d.reset_index()\n",
    "d.info()"
   ]
  },
  {
   "cell_type": "code",
   "execution_count": 5,
   "metadata": {
    "collapsed": false
   },
   "outputs": [
    {
     "data": {
      "text/html": [
       "<div>\n",
       "<table border=\"1\" class=\"dataframe\">\n",
       "  <thead>\n",
       "    <tr style=\"text-align: right;\">\n",
       "      <th></th>\n",
       "      <th>CELL_LINE_ID</th>\n",
       "      <th>X5.HT3C2</th>\n",
       "      <th>A1BG.AS1</th>\n",
       "      <th>A1CF</th>\n",
       "      <th>A2M</th>\n",
       "      <th>A2M.AS1</th>\n",
       "      <th>A2ML1</th>\n",
       "      <th>A2MP1</th>\n",
       "      <th>A4GALT</th>\n",
       "      <th>A4GNT</th>\n",
       "      <th>...</th>\n",
       "      <th>ZWINT</th>\n",
       "      <th>ZXDA</th>\n",
       "      <th>ZXDB</th>\n",
       "      <th>ZXDC</th>\n",
       "      <th>ZYG11A</th>\n",
       "      <th>ZYG11AP1</th>\n",
       "      <th>ZYG11B</th>\n",
       "      <th>ZYX</th>\n",
       "      <th>ZZEF1</th>\n",
       "      <th>ZZZ3</th>\n",
       "    </tr>\n",
       "  </thead>\n",
       "  <tbody>\n",
       "    <tr>\n",
       "      <th>0</th>\n",
       "      <td>BR:MCF7</td>\n",
       "      <td>-0.27</td>\n",
       "      <td>1.36</td>\n",
       "      <td>-0.14</td>\n",
       "      <td>-0.38</td>\n",
       "      <td>-0.35</td>\n",
       "      <td>-0.11</td>\n",
       "      <td>0.31</td>\n",
       "      <td>1.99</td>\n",
       "      <td>0.28</td>\n",
       "      <td>...</td>\n",
       "      <td>0.58</td>\n",
       "      <td>1.23</td>\n",
       "      <td>0.60</td>\n",
       "      <td>0.36</td>\n",
       "      <td>0.78</td>\n",
       "      <td>0.06</td>\n",
       "      <td>-1.01</td>\n",
       "      <td>-1.81</td>\n",
       "      <td>0.39</td>\n",
       "      <td>-0.39</td>\n",
       "    </tr>\n",
       "    <tr>\n",
       "      <th>1</th>\n",
       "      <td>BR:MDA_MB_231</td>\n",
       "      <td>0.99</td>\n",
       "      <td>-0.15</td>\n",
       "      <td>-0.18</td>\n",
       "      <td>-0.40</td>\n",
       "      <td>-0.29</td>\n",
       "      <td>-0.13</td>\n",
       "      <td>0.65</td>\n",
       "      <td>0.41</td>\n",
       "      <td>0.08</td>\n",
       "      <td>...</td>\n",
       "      <td>1.25</td>\n",
       "      <td>0.17</td>\n",
       "      <td>0.70</td>\n",
       "      <td>-0.67</td>\n",
       "      <td>0.18</td>\n",
       "      <td>0.13</td>\n",
       "      <td>-0.48</td>\n",
       "      <td>0.03</td>\n",
       "      <td>-0.33</td>\n",
       "      <td>2.31</td>\n",
       "    </tr>\n",
       "    <tr>\n",
       "      <th>2</th>\n",
       "      <td>BR:HS578T</td>\n",
       "      <td>0.70</td>\n",
       "      <td>0.87</td>\n",
       "      <td>0.15</td>\n",
       "      <td>-0.24</td>\n",
       "      <td>-0.16</td>\n",
       "      <td>-0.13</td>\n",
       "      <td>1.20</td>\n",
       "      <td>-0.75</td>\n",
       "      <td>1.08</td>\n",
       "      <td>...</td>\n",
       "      <td>-1.73</td>\n",
       "      <td>-0.56</td>\n",
       "      <td>-0.77</td>\n",
       "      <td>-0.45</td>\n",
       "      <td>-0.80</td>\n",
       "      <td>-0.29</td>\n",
       "      <td>0.89</td>\n",
       "      <td>1.24</td>\n",
       "      <td>0.41</td>\n",
       "      <td>0.75</td>\n",
       "    </tr>\n",
       "    <tr>\n",
       "      <th>3</th>\n",
       "      <td>BR:BT_549</td>\n",
       "      <td>-0.42</td>\n",
       "      <td>1.70</td>\n",
       "      <td>-0.10</td>\n",
       "      <td>-0.39</td>\n",
       "      <td>-0.44</td>\n",
       "      <td>-0.12</td>\n",
       "      <td>0.03</td>\n",
       "      <td>0.19</td>\n",
       "      <td>0.74</td>\n",
       "      <td>...</td>\n",
       "      <td>-0.23</td>\n",
       "      <td>-0.07</td>\n",
       "      <td>-0.25</td>\n",
       "      <td>-0.59</td>\n",
       "      <td>1.03</td>\n",
       "      <td>-0.17</td>\n",
       "      <td>-0.45</td>\n",
       "      <td>0.32</td>\n",
       "      <td>0.83</td>\n",
       "      <td>0.56</td>\n",
       "    </tr>\n",
       "    <tr>\n",
       "      <th>4</th>\n",
       "      <td>BR:T47D</td>\n",
       "      <td>0.45</td>\n",
       "      <td>1.38</td>\n",
       "      <td>-0.16</td>\n",
       "      <td>-0.38</td>\n",
       "      <td>-0.51</td>\n",
       "      <td>-0.21</td>\n",
       "      <td>-0.66</td>\n",
       "      <td>-0.21</td>\n",
       "      <td>-0.47</td>\n",
       "      <td>...</td>\n",
       "      <td>0.83</td>\n",
       "      <td>1.01</td>\n",
       "      <td>0.75</td>\n",
       "      <td>0.68</td>\n",
       "      <td>0.89</td>\n",
       "      <td>-0.03</td>\n",
       "      <td>-0.39</td>\n",
       "      <td>-1.53</td>\n",
       "      <td>0.38</td>\n",
       "      <td>-1.13</td>\n",
       "    </tr>\n",
       "  </tbody>\n",
       "</table>\n",
       "<p>5 rows × 25723 columns</p>\n",
       "</div>"
      ],
      "text/plain": [
       "    CELL_LINE_ID  X5.HT3C2  A1BG.AS1  A1CF   A2M  A2M.AS1  A2ML1  A2MP1  \\\n",
       "0        BR:MCF7     -0.27      1.36 -0.14 -0.38    -0.35  -0.11   0.31   \n",
       "1  BR:MDA_MB_231      0.99     -0.15 -0.18 -0.40    -0.29  -0.13   0.65   \n",
       "2      BR:HS578T      0.70      0.87  0.15 -0.24    -0.16  -0.13   1.20   \n",
       "3      BR:BT_549     -0.42      1.70 -0.10 -0.39    -0.44  -0.12   0.03   \n",
       "4        BR:T47D      0.45      1.38 -0.16 -0.38    -0.51  -0.21  -0.66   \n",
       "\n",
       "   A4GALT  A4GNT  ...   ZWINT  ZXDA  ZXDB  ZXDC  ZYG11A  ZYG11AP1  ZYG11B  \\\n",
       "0    1.99   0.28  ...    0.58  1.23  0.60  0.36    0.78      0.06   -1.01   \n",
       "1    0.41   0.08  ...    1.25  0.17  0.70 -0.67    0.18      0.13   -0.48   \n",
       "2   -0.75   1.08  ...   -1.73 -0.56 -0.77 -0.45   -0.80     -0.29    0.89   \n",
       "3    0.19   0.74  ...   -0.23 -0.07 -0.25 -0.59    1.03     -0.17   -0.45   \n",
       "4   -0.21  -0.47  ...    0.83  1.01  0.75  0.68    0.89     -0.03   -0.39   \n",
       "\n",
       "    ZYX  ZZEF1  ZZZ3  \n",
       "0 -1.81   0.39 -0.39  \n",
       "1  0.03  -0.33  2.31  \n",
       "2  1.24   0.41  0.75  \n",
       "3  0.32   0.83  0.56  \n",
       "4 -1.53   0.38 -1.13  \n",
       "\n",
       "[5 rows x 25723 columns]"
      ]
     },
     "execution_count": 5,
     "metadata": {},
     "output_type": "execute_result"
    }
   ],
   "source": [
    "d.head()"
   ]
  },
  {
   "cell_type": "code",
   "execution_count": 6,
   "metadata": {
    "collapsed": false
   },
   "outputs": [
    {
     "data": {
      "text/plain": [
       "{'n': 1543380,\n",
       " 'n_non_null': 1533160,\n",
       " 'n_null': 10220,\n",
       " 'pct_null': 0.66218300094597571}"
      ]
     },
     "execution_count": 6,
     "metadata": {},
     "output_type": "execute_result"
    }
   ],
   "source": [
    "na_utils.get_null_stats(d)"
   ]
  },
  {
   "cell_type": "code",
   "execution_count": 7,
   "metadata": {
    "collapsed": false
   },
   "outputs": [
    {
     "data": {
      "image/png": "[encoded data removed]",
      "text/plain": [
       "<matplotlib.figure.Figure at 0x13047df28>"
      ]
     },
     "metadata": {},
     "output_type": "display_data"
    }
   ],
   "source": [
    "na_utils.plot_dim_null_frequencies(d)"
   ]
  },
  {
   "cell_type": "code",
   "execution_count": 8,
   "metadata": {
    "collapsed": false
   },
   "outputs": [
    {
     "name": "stdout",
     "output_type": "stream",
     "text": [
      "[Remove null values for column \"VALUE\"] Records before = 1543320, Records after = 1533100, Records removed = 10220 (%0.66)\n"
     ]
    },
    {
     "data": {
      "text/html": [
       "<div>\n",
       "<table border=\"1\" class=\"dataframe\">\n",
       "  <thead>\n",
       "    <tr style=\"text-align: right;\">\n",
       "      <th></th>\n",
       "      <th>CELL_LINE_ID</th>\n",
       "      <th>GENE_ID</th>\n",
       "      <th>VALUE</th>\n",
       "    </tr>\n",
       "  </thead>\n",
       "  <tbody>\n",
       "    <tr>\n",
       "      <th>0</th>\n",
       "      <td>BR:MCF7</td>\n",
       "      <td>X5.HT3C2</td>\n",
       "      <td>-0.27</td>\n",
       "    </tr>\n",
       "    <tr>\n",
       "      <th>1</th>\n",
       "      <td>BR:MDA_MB_231</td>\n",
       "      <td>X5.HT3C2</td>\n",
       "      <td>0.99</td>\n",
       "    </tr>\n",
       "    <tr>\n",
       "      <th>2</th>\n",
       "      <td>BR:HS578T</td>\n",
       "      <td>X5.HT3C2</td>\n",
       "      <td>0.70</td>\n",
       "    </tr>\n",
       "    <tr>\n",
       "      <th>3</th>\n",
       "      <td>BR:BT_549</td>\n",
       "      <td>X5.HT3C2</td>\n",
       "      <td>-0.42</td>\n",
       "    </tr>\n",
       "    <tr>\n",
       "      <th>4</th>\n",
       "      <td>BR:T47D</td>\n",
       "      <td>X5.HT3C2</td>\n",
       "      <td>0.45</td>\n",
       "    </tr>\n",
       "  </tbody>\n",
       "</table>\n",
       "</div>"
      ],
      "text/plain": [
       "    CELL_LINE_ID   GENE_ID  VALUE\n",
       "0        BR:MCF7  X5.HT3C2  -0.27\n",
       "1  BR:MDA_MB_231  X5.HT3C2   0.99\n",
       "2      BR:HS578T  X5.HT3C2   0.70\n",
       "3      BR:BT_549  X5.HT3C2  -0.42\n",
       "4        BR:T47D  X5.HT3C2   0.45"
      ]
     },
     "execution_count": 8,
     "metadata": {},
     "output_type": "execute_result"
    }
   ],
   "source": [
    "d = pd.melt(d, id_vars='CELL_LINE_ID', var_name='GENE_ID', value_name='VALUE')\n",
    "assert d.groupby(['CELL_LINE_ID', 'GENE_ID']).size().max() == 1\n",
    "d = subset(d, lambda df: df[df['VALUE'].notnull()], subset_op='Remove null values for column \"VALUE\"')\n",
    "d.head()"
   ]
  },
  {
   "cell_type": "code",
   "execution_count": 9,
   "metadata": {
    "collapsed": false
   },
   "outputs": [
    {
     "name": "stdout",
     "output_type": "stream",
     "text": [
      "<class 'pandas.core.frame.DataFrame'>\n",
      "Int64Index: 1533100 entries, 0 to 1543319\n",
      "Data columns (total 3 columns):\n",
      "CELL_LINE_ID    1533100 non-null object\n",
      "GENE_ID         1533100 non-null object\n",
      "VALUE           1533100 non-null float64\n",
      "dtypes: float64(1), object(2)\n",
      "memory usage: 46.8+ MB\n"
     ]
    }
   ],
   "source": [
    "d.info()"
   ]
  },
  {
   "cell_type": "code",
   "execution_count": 22,
   "metadata": {
    "collapsed": false
   },
   "outputs": [],
   "source": [
    "#d_exp[d_exp['CELL_LINE_ID'].str.contains('HS578T')]"
   ]
  },
  {
   "cell_type": "code",
   "execution_count": 10,
   "metadata": {
    "collapsed": false
   },
   "outputs": [
    {
     "data": {
      "text/plain": [
       "60"
      ]
     },
     "execution_count": 10,
     "metadata": {},
     "output_type": "execute_result"
    }
   ],
   "source": [
    "assert d['CELL_LINE_ID'].nunique() == 60, 'Did not find data for exactly 60 cell lines'\n",
    "d['CELL_LINE_ID'].nunique()"
   ]
  },
  {
   "cell_type": "code",
   "execution_count": 11,
   "metadata": {
    "collapsed": false
   },
   "outputs": [
    {
     "data": {
      "text/plain": [
       "'/Users/eczech/data/research/mgds/raw/nci60_v1_gene-expression.pkl'"
      ]
     },
     "execution_count": 11,
     "metadata": {},
     "output_type": "execute_result"
    }
   ],
   "source": [
    "assert np.all(pd.notnull(d)), 'Export data contains null values'\n",
    "db.save(d, src.NCI60_v1, db.RAW, 'gene-expression')"
   ]
  }
 ],
 "metadata": {
  "kernelspec": {
   "display_name": "Python 3",
   "language": "python",
   "name": "python3"
  },
  "language_info": {
   "codemirror_mode": {
    "name": "ipython",
    "version": 3
   },
   "file_extension": ".py",
   "mimetype": "text/x-python",
   "name": "python",
   "nbconvert_exporter": "python",
   "pygments_lexer": "ipython3",
   "version": "3.5.2"
  }
 },
 "nbformat": 4,
 "nbformat_minor": 0
}
