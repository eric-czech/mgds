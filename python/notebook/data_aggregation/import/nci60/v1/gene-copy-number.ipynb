{
 "cells": [
  {
   "cell_type": "markdown",
   "metadata": {},
   "source": [
    "# NCI60 Copy Number Data Importation\n",
    "**Local Version**: 1\n",
    "**Source Version**: NA\n",
    "\n",
    "This notebook will import raw NCI60 copy number data using the [Cell Miner R](http://bioconductor.statistik.tu-dortmund.de/packages/3.4/data/experiment/manuals/rcellminerData/man/rcellminerData.pdf) package."
   ]
  },
  {
   "cell_type": "code",
   "execution_count": 1,
   "metadata": {
    "collapsed": false
   },
   "outputs": [],
   "source": [
    "%run -m ipy_startup\n",
    "%run -m ipy_seaborn\n",
    "%load_ext rpy2.ipython\n",
    "%matplotlib inline\n",
    "import warnings\n",
    "warnings.filterwarnings(\"ignore\")\n",
    "from mgds.data_aggregation import database as db\n",
    "from mgds.data_aggregation import source as src\n",
    "from mgds.data_aggregation import na_utils\n",
    "from py_utils import collection_utils as cu\n",
    "from py_utils.collection_utils import subset"
   ]
  },
  {
   "cell_type": "code",
   "execution_count": 2,
   "metadata": {
    "collapsed": false
   },
   "outputs": [],
   "source": [
    "%%R \n",
    "# Load CellMiner package containing necessary data\n",
    "library('rcellminerData')"
   ]
  },
  {
   "cell_type": "code",
   "execution_count": 3,
   "metadata": {
    "collapsed": false
   },
   "outputs": [],
   "source": [
    "%%R -o d\n",
    "# Load NCI60 expression data\n",
    "# Note that a similar alternative to molData@eSetList$exp is molData@eSetList$xai, indicated in the documentation as \n",
    "# \"Expression (Avg. log2 Intensity).\".  Given that the values for this alternative are always positive, the \n",
    "# assumption is being made here that that the \"xai\" value is a log2 concentration without comparison to a control \n",
    "# tissue sample which makes it less useful and less compatible with a typical expression value where the log2 value \n",
    "# is the ratio of the expression for the tumor sample over the control tissue sample.\n",
    "d <- as.data.frame(molData@eSetList$cop)"
   ]
  },
  {
   "cell_type": "code",
   "execution_count": 4,
   "metadata": {
    "collapsed": false
   },
   "outputs": [
    {
     "name": "stdout",
     "output_type": "stream",
     "text": [
      "<class 'pandas.core.frame.DataFrame'>\n",
      "RangeIndex: 60 entries, 0 to 59\n",
      "Columns: 23414 entries, CELL_LINE_ID to ZZZ3\n",
      "dtypes: float64(23413), object(1)\n",
      "memory usage: 10.7+ MB\n"
     ]
    }
   ],
   "source": [
    "d.index.name = 'CELL_LINE_ID'\n",
    "d = d.reset_index()\n",
    "d.info()"
   ]
  },
  {
   "cell_type": "code",
   "execution_count": 5,
   "metadata": {
    "collapsed": false
   },
   "outputs": [
    {
     "data": {
      "text/html": [
       "<div>\n",
       "<table border=\"1\" class=\"dataframe\">\n",
       "  <thead>\n",
       "    <tr style=\"text-align: right;\">\n",
       "      <th></th>\n",
       "      <th>CELL_LINE_ID</th>\n",
       "      <th>A1BG</th>\n",
       "      <th>A1BG.AS1</th>\n",
       "      <th>A1CF</th>\n",
       "      <th>A2M</th>\n",
       "      <th>A2M.AS1</th>\n",
       "      <th>A2ML1</th>\n",
       "      <th>A2MP1</th>\n",
       "      <th>A3GALT2</th>\n",
       "      <th>A4GALT</th>\n",
       "      <th>...</th>\n",
       "      <th>ZWILCH</th>\n",
       "      <th>ZWINT</th>\n",
       "      <th>ZXDA</th>\n",
       "      <th>ZXDB</th>\n",
       "      <th>ZXDC</th>\n",
       "      <th>ZYG11A</th>\n",
       "      <th>ZYG11B</th>\n",
       "      <th>ZYX</th>\n",
       "      <th>ZZEF1</th>\n",
       "      <th>ZZZ3</th>\n",
       "    </tr>\n",
       "  </thead>\n",
       "  <tbody>\n",
       "    <tr>\n",
       "      <th>0</th>\n",
       "      <td>BR:MCF7</td>\n",
       "      <td>0.106893</td>\n",
       "      <td>0.106893</td>\n",
       "      <td>0.012714</td>\n",
       "      <td>-0.005491</td>\n",
       "      <td>-0.005491</td>\n",
       "      <td>-0.005491</td>\n",
       "      <td>-0.005491</td>\n",
       "      <td>-0.273495</td>\n",
       "      <td>-0.127657</td>\n",
       "      <td>...</td>\n",
       "      <td>0.274454</td>\n",
       "      <td>-0.067839</td>\n",
       "      <td>-0.413593</td>\n",
       "      <td>-0.413593</td>\n",
       "      <td>0.148135</td>\n",
       "      <td>-0.407221</td>\n",
       "      <td>-0.407221</td>\n",
       "      <td>0.084881</td>\n",
       "      <td>0.093322</td>\n",
       "      <td>-0.484228</td>\n",
       "    </tr>\n",
       "    <tr>\n",
       "      <th>1</th>\n",
       "      <td>BR:MDA_MB_231</td>\n",
       "      <td>0.066333</td>\n",
       "      <td>0.066333</td>\n",
       "      <td>0.069241</td>\n",
       "      <td>-0.268109</td>\n",
       "      <td>-0.268109</td>\n",
       "      <td>-0.268109</td>\n",
       "      <td>-0.268109</td>\n",
       "      <td>-0.206787</td>\n",
       "      <td>-0.212926</td>\n",
       "      <td>...</td>\n",
       "      <td>-0.204051</td>\n",
       "      <td>0.069241</td>\n",
       "      <td>-0.179924</td>\n",
       "      <td>-0.179924</td>\n",
       "      <td>-0.238972</td>\n",
       "      <td>-0.217412</td>\n",
       "      <td>-0.217412</td>\n",
       "      <td>0.071552</td>\n",
       "      <td>0.091436</td>\n",
       "      <td>0.500913</td>\n",
       "    </tr>\n",
       "    <tr>\n",
       "      <th>2</th>\n",
       "      <td>BR:HS578T</td>\n",
       "      <td>0.152615</td>\n",
       "      <td>0.152615</td>\n",
       "      <td>-0.203771</td>\n",
       "      <td>-0.176512</td>\n",
       "      <td>-0.176512</td>\n",
       "      <td>-0.176512</td>\n",
       "      <td>-0.176512</td>\n",
       "      <td>0.192132</td>\n",
       "      <td>0.416512</td>\n",
       "      <td>...</td>\n",
       "      <td>-0.145493</td>\n",
       "      <td>-0.255333</td>\n",
       "      <td>-0.634831</td>\n",
       "      <td>-0.634831</td>\n",
       "      <td>0.359257</td>\n",
       "      <td>0.131022</td>\n",
       "      <td>0.131022</td>\n",
       "      <td>0.144014</td>\n",
       "      <td>0.236257</td>\n",
       "      <td>0.096535</td>\n",
       "    </tr>\n",
       "    <tr>\n",
       "      <th>3</th>\n",
       "      <td>BR:BT_549</td>\n",
       "      <td>0.231484</td>\n",
       "      <td>0.231484</td>\n",
       "      <td>0.040896</td>\n",
       "      <td>-0.069155</td>\n",
       "      <td>-0.069155</td>\n",
       "      <td>-0.069155</td>\n",
       "      <td>-0.069155</td>\n",
       "      <td>0.249094</td>\n",
       "      <td>-0.021923</td>\n",
       "      <td>...</td>\n",
       "      <td>-0.348117</td>\n",
       "      <td>0.018481</td>\n",
       "      <td>-0.308832</td>\n",
       "      <td>-0.308832</td>\n",
       "      <td>-0.030500</td>\n",
       "      <td>0.205319</td>\n",
       "      <td>0.205319</td>\n",
       "      <td>-0.063268</td>\n",
       "      <td>0.244132</td>\n",
       "      <td>0.199594</td>\n",
       "    </tr>\n",
       "    <tr>\n",
       "      <th>4</th>\n",
       "      <td>BR:T47D</td>\n",
       "      <td>-0.213149</td>\n",
       "      <td>-0.213149</td>\n",
       "      <td>0.316086</td>\n",
       "      <td>-0.792709</td>\n",
       "      <td>-0.792709</td>\n",
       "      <td>-0.792709</td>\n",
       "      <td>-0.792709</td>\n",
       "      <td>-0.234215</td>\n",
       "      <td>-0.205247</td>\n",
       "      <td>...</td>\n",
       "      <td>0.089733</td>\n",
       "      <td>0.257851</td>\n",
       "      <td>-0.140103</td>\n",
       "      <td>-0.140103</td>\n",
       "      <td>0.111579</td>\n",
       "      <td>-0.239398</td>\n",
       "      <td>-0.239398</td>\n",
       "      <td>-0.328012</td>\n",
       "      <td>-0.224428</td>\n",
       "      <td>-0.298998</td>\n",
       "    </tr>\n",
       "  </tbody>\n",
       "</table>\n",
       "<p>5 rows × 23414 columns</p>\n",
       "</div>"
      ],
      "text/plain": [
       "    CELL_LINE_ID      A1BG  A1BG.AS1      A1CF       A2M   A2M.AS1     A2ML1  \\\n",
       "0        BR:MCF7  0.106893  0.106893  0.012714 -0.005491 -0.005491 -0.005491   \n",
       "1  BR:MDA_MB_231  0.066333  0.066333  0.069241 -0.268109 -0.268109 -0.268109   \n",
       "2      BR:HS578T  0.152615  0.152615 -0.203771 -0.176512 -0.176512 -0.176512   \n",
       "3      BR:BT_549  0.231484  0.231484  0.040896 -0.069155 -0.069155 -0.069155   \n",
       "4        BR:T47D -0.213149 -0.213149  0.316086 -0.792709 -0.792709 -0.792709   \n",
       "\n",
       "      A2MP1   A3GALT2    A4GALT    ...       ZWILCH     ZWINT      ZXDA  \\\n",
       "0 -0.005491 -0.273495 -0.127657    ...     0.274454 -0.067839 -0.413593   \n",
       "1 -0.268109 -0.206787 -0.212926    ...    -0.204051  0.069241 -0.179924   \n",
       "2 -0.176512  0.192132  0.416512    ...    -0.145493 -0.255333 -0.634831   \n",
       "3 -0.069155  0.249094 -0.021923    ...    -0.348117  0.018481 -0.308832   \n",
       "4 -0.792709 -0.234215 -0.205247    ...     0.089733  0.257851 -0.140103   \n",
       "\n",
       "       ZXDB      ZXDC    ZYG11A    ZYG11B       ZYX     ZZEF1      ZZZ3  \n",
       "0 -0.413593  0.148135 -0.407221 -0.407221  0.084881  0.093322 -0.484228  \n",
       "1 -0.179924 -0.238972 -0.217412 -0.217412  0.071552  0.091436  0.500913  \n",
       "2 -0.634831  0.359257  0.131022  0.131022  0.144014  0.236257  0.096535  \n",
       "3 -0.308832 -0.030500  0.205319  0.205319 -0.063268  0.244132  0.199594  \n",
       "4 -0.140103  0.111579 -0.239398 -0.239398 -0.328012 -0.224428 -0.298998  \n",
       "\n",
       "[5 rows x 23414 columns]"
      ]
     },
     "execution_count": 5,
     "metadata": {},
     "output_type": "execute_result"
    }
   ],
   "source": [
    "d.head()"
   ]
  },
  {
   "cell_type": "code",
   "execution_count": 6,
   "metadata": {
    "collapsed": false
   },
   "outputs": [
    {
     "data": {
      "text/plain": [
       "{'n': 1404840,\n",
       " 'n_non_null': 1402159,\n",
       " 'n_null': 2681,\n",
       " 'pct_null': 0.19084023803422454}"
      ]
     },
     "execution_count": 6,
     "metadata": {},
     "output_type": "execute_result"
    }
   ],
   "source": [
    "na_utils.get_null_stats(d)"
   ]
  },
  {
   "cell_type": "code",
   "execution_count": 8,
   "metadata": {
    "collapsed": false
   },
   "outputs": [
    {
     "data": {
      "image/png": "[encoded data removed]",
      "text/plain": [
       "<matplotlib.figure.Figure at 0x11b3f3cc0>"
      ]
     },
     "metadata": {},
     "output_type": "display_data"
    }
   ],
   "source": [
    "na_utils.plot_dim_null_frequencies(d)"
   ]
  },
  {
   "cell_type": "code",
   "execution_count": 9,
   "metadata": {
    "collapsed": false
   },
   "outputs": [
    {
     "name": "stdout",
     "output_type": "stream",
     "text": [
      "[Remove null values for column \"VALUE\"] Records before = 1404780, Records after = 1402099, Records removed = 2681 (%0.19)\n"
     ]
    },
    {
     "data": {
      "text/html": [
       "<div>\n",
       "<table border=\"1\" class=\"dataframe\">\n",
       "  <thead>\n",
       "    <tr style=\"text-align: right;\">\n",
       "      <th></th>\n",
       "      <th>CELL_LINE_ID</th>\n",
       "      <th>GENE_ID</th>\n",
       "      <th>VALUE</th>\n",
       "    </tr>\n",
       "  </thead>\n",
       "  <tbody>\n",
       "    <tr>\n",
       "      <th>0</th>\n",
       "      <td>BR:MCF7</td>\n",
       "      <td>A1BG</td>\n",
       "      <td>0.106893</td>\n",
       "    </tr>\n",
       "    <tr>\n",
       "      <th>1</th>\n",
       "      <td>BR:MDA_MB_231</td>\n",
       "      <td>A1BG</td>\n",
       "      <td>0.066333</td>\n",
       "    </tr>\n",
       "    <tr>\n",
       "      <th>2</th>\n",
       "      <td>BR:HS578T</td>\n",
       "      <td>A1BG</td>\n",
       "      <td>0.152615</td>\n",
       "    </tr>\n",
       "    <tr>\n",
       "      <th>3</th>\n",
       "      <td>BR:BT_549</td>\n",
       "      <td>A1BG</td>\n",
       "      <td>0.231484</td>\n",
       "    </tr>\n",
       "    <tr>\n",
       "      <th>4</th>\n",
       "      <td>BR:T47D</td>\n",
       "      <td>A1BG</td>\n",
       "      <td>-0.213149</td>\n",
       "    </tr>\n",
       "  </tbody>\n",
       "</table>\n",
       "</div>"
      ],
      "text/plain": [
       "    CELL_LINE_ID GENE_ID     VALUE\n",
       "0        BR:MCF7    A1BG  0.106893\n",
       "1  BR:MDA_MB_231    A1BG  0.066333\n",
       "2      BR:HS578T    A1BG  0.152615\n",
       "3      BR:BT_549    A1BG  0.231484\n",
       "4        BR:T47D    A1BG -0.213149"
      ]
     },
     "execution_count": 9,
     "metadata": {},
     "output_type": "execute_result"
    }
   ],
   "source": [
    "d = pd.melt(d, id_vars='CELL_LINE_ID', var_name='GENE_ID', value_name='VALUE')\n",
    "assert d.groupby(['CELL_LINE_ID', 'GENE_ID']).size().max() == 1\n",
    "d = subset(d, lambda df: df[df['VALUE'].notnull()], subset_op='Remove null values for column \"VALUE\"')\n",
    "d.head()"
   ]
  },
  {
   "cell_type": "code",
   "execution_count": 10,
   "metadata": {
    "collapsed": false
   },
   "outputs": [
    {
     "name": "stdout",
     "output_type": "stream",
     "text": [
      "<class 'pandas.core.frame.DataFrame'>\n",
      "Int64Index: 1402099 entries, 0 to 1404779\n",
      "Data columns (total 3 columns):\n",
      "CELL_LINE_ID    1402099 non-null object\n",
      "GENE_ID         1402099 non-null object\n",
      "VALUE           1402099 non-null float64\n",
      "dtypes: float64(1), object(2)\n",
      "memory usage: 42.8+ MB\n"
     ]
    }
   ],
   "source": [
    "d.info()"
   ]
  },
  {
   "cell_type": "code",
   "execution_count": 11,
   "metadata": {
    "collapsed": false
   },
   "outputs": [
    {
     "data": {
      "text/plain": [
       "60"
      ]
     },
     "execution_count": 11,
     "metadata": {},
     "output_type": "execute_result"
    }
   ],
   "source": [
    "assert d['CELL_LINE_ID'].nunique() == 60, 'Did not find data for exactly 60 cell lines'\n",
    "d['CELL_LINE_ID'].nunique()"
   ]
  },
  {
   "cell_type": "code",
   "execution_count": 12,
   "metadata": {
    "collapsed": false
   },
   "outputs": [
    {
     "data": {
      "text/plain": [
       "'/Users/eczech/data/research/mgds/raw/nci60_v1_gene-copy-number.pkl'"
      ]
     },
     "execution_count": 12,
     "metadata": {},
     "output_type": "execute_result"
    }
   ],
   "source": [
    "assert np.all(pd.notnull(d))\n",
    "db.save(d, src.NCI60_v1, db.RAW, 'gene-copy-number')"
   ]
  }
 ],
 "metadata": {
  "kernelspec": {
   "display_name": "Python 3",
   "language": "python",
   "name": "python3"
  },
  "language_info": {
   "codemirror_mode": {
    "name": "ipython",
    "version": 3
   },
   "file_extension": ".py",
   "mimetype": "text/x-python",
   "name": "python",
   "nbconvert_exporter": "python",
   "pygments_lexer": "ipython3",
   "version": "3.5.2"
  }
 },
 "nbformat": 4,
 "nbformat_minor": 0
}
