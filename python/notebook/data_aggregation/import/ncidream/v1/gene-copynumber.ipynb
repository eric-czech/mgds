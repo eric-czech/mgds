{
 "cells": [
  {
   "cell_type": "markdown",
   "metadata": {},
   "source": [
    "# NCI Dream Gene Copy Number Data Import\n",
    "\n",
    "Gene copy number data import for NCI DREAM drug sensitivity challenge.\n",
    "\n",
    "Source data README: /Users/eczech/.synapseCache/452/756452/DREAM7_DrugSensitivity1_SNP6_README.txt"
   ]
  },
  {
   "cell_type": "code",
   "execution_count": 1,
   "metadata": {
    "collapsed": true
   },
   "outputs": [],
   "source": [
    "%run -m ipy_startup\n",
    "%matplotlib inline\n",
    "from mgds.data_aggregation import database as db\n",
    "from mgds.data_aggregation import source as src\n",
    "from mgds.data_aggregation.import_lib import nci_dream\n",
    "from py_utils.collection_utils import subset"
   ]
  },
  {
   "cell_type": "code",
   "execution_count": 6,
   "metadata": {
    "collapsed": false
   },
   "outputs": [
    {
     "data": {
      "text/html": [
       "<div>\n",
       "<table border=\"1\" class=\"dataframe\">\n",
       "  <thead>\n",
       "    <tr style=\"text-align: right;\">\n",
       "      <th></th>\n",
       "      <th>EntrezID</th>\n",
       "      <th>HGNC_ID</th>\n",
       "      <th>184B5</th>\n",
       "      <th>21MT1</th>\n",
       "      <th>21NT</th>\n",
       "      <th>600MPE</th>\n",
       "      <th>AU565</th>\n",
       "      <th>BT20</th>\n",
       "      <th>BT474</th>\n",
       "      <th>BT483</th>\n",
       "      <th>...</th>\n",
       "      <th>SUM149PT</th>\n",
       "      <th>SUM159PT</th>\n",
       "      <th>SUM185PE</th>\n",
       "      <th>SUM225CWN</th>\n",
       "      <th>SUM229PE</th>\n",
       "      <th>SUM52PE</th>\n",
       "      <th>T47D</th>\n",
       "      <th>UACC812</th>\n",
       "      <th>ZR751</th>\n",
       "      <th>ZR75B</th>\n",
       "    </tr>\n",
       "  </thead>\n",
       "  <tbody>\n",
       "    <tr>\n",
       "      <th>0</th>\n",
       "      <td>403263</td>\n",
       "      <td>OR4G11P</td>\n",
       "      <td>-0.046</td>\n",
       "      <td>0.27</td>\n",
       "      <td>0.112</td>\n",
       "      <td>0.332</td>\n",
       "      <td>-0.136</td>\n",
       "      <td>-0.692</td>\n",
       "      <td>-0.023</td>\n",
       "      <td>-0.108</td>\n",
       "      <td>...</td>\n",
       "      <td>-0.243</td>\n",
       "      <td>0.018</td>\n",
       "      <td>-0.151</td>\n",
       "      <td>0.057</td>\n",
       "      <td>-0.056</td>\n",
       "      <td>0.2</td>\n",
       "      <td>0.099</td>\n",
       "      <td>-0.278</td>\n",
       "      <td>-0.527</td>\n",
       "      <td>-0.446</td>\n",
       "    </tr>\n",
       "    <tr>\n",
       "      <th>1</th>\n",
       "      <td>79501</td>\n",
       "      <td>OR4F5</td>\n",
       "      <td>-0.046</td>\n",
       "      <td>0.27</td>\n",
       "      <td>0.112</td>\n",
       "      <td>0.332</td>\n",
       "      <td>-0.136</td>\n",
       "      <td>-0.692</td>\n",
       "      <td>-0.023</td>\n",
       "      <td>-0.108</td>\n",
       "      <td>...</td>\n",
       "      <td>-0.243</td>\n",
       "      <td>0.018</td>\n",
       "      <td>-0.151</td>\n",
       "      <td>0.057</td>\n",
       "      <td>-0.056</td>\n",
       "      <td>0.2</td>\n",
       "      <td>0.099</td>\n",
       "      <td>-0.278</td>\n",
       "      <td>-0.527</td>\n",
       "      <td>-0.446</td>\n",
       "    </tr>\n",
       "    <tr>\n",
       "      <th>2</th>\n",
       "      <td>645543</td>\n",
       "      <td>LOC645543</td>\n",
       "      <td>-0.046</td>\n",
       "      <td>0.27</td>\n",
       "      <td>0.112</td>\n",
       "      <td>0.332</td>\n",
       "      <td>-0.136</td>\n",
       "      <td>-0.692</td>\n",
       "      <td>-0.023</td>\n",
       "      <td>-0.108</td>\n",
       "      <td>...</td>\n",
       "      <td>-0.243</td>\n",
       "      <td>0.018</td>\n",
       "      <td>-0.151</td>\n",
       "      <td>0.057</td>\n",
       "      <td>-0.056</td>\n",
       "      <td>0.2</td>\n",
       "      <td>0.099</td>\n",
       "      <td>-0.278</td>\n",
       "      <td>-0.527</td>\n",
       "      <td>-0.446</td>\n",
       "    </tr>\n",
       "    <tr>\n",
       "      <th>3</th>\n",
       "      <td>653340</td>\n",
       "      <td>LOC653340</td>\n",
       "      <td>-0.046</td>\n",
       "      <td>0.27</td>\n",
       "      <td>0.112</td>\n",
       "      <td>0.332</td>\n",
       "      <td>-0.136</td>\n",
       "      <td>-0.692</td>\n",
       "      <td>-0.023</td>\n",
       "      <td>-0.108</td>\n",
       "      <td>...</td>\n",
       "      <td>-0.243</td>\n",
       "      <td>0.018</td>\n",
       "      <td>-0.151</td>\n",
       "      <td>0.057</td>\n",
       "      <td>-0.056</td>\n",
       "      <td>0.2</td>\n",
       "      <td>0.099</td>\n",
       "      <td>-0.278</td>\n",
       "      <td>-0.527</td>\n",
       "      <td>-0.446</td>\n",
       "    </tr>\n",
       "    <tr>\n",
       "      <th>4</th>\n",
       "      <td>643670</td>\n",
       "      <td>LOC643670</td>\n",
       "      <td>-0.046</td>\n",
       "      <td>0.27</td>\n",
       "      <td>0.112</td>\n",
       "      <td>0.005</td>\n",
       "      <td>-0.136</td>\n",
       "      <td>-0.692</td>\n",
       "      <td>-0.023</td>\n",
       "      <td>-0.108</td>\n",
       "      <td>...</td>\n",
       "      <td>-0.243</td>\n",
       "      <td>0.018</td>\n",
       "      <td>-0.151</td>\n",
       "      <td>0.057</td>\n",
       "      <td>-0.056</td>\n",
       "      <td>0.2</td>\n",
       "      <td>0.099</td>\n",
       "      <td>-0.278</td>\n",
       "      <td>-0.527</td>\n",
       "      <td>-0.446</td>\n",
       "    </tr>\n",
       "  </tbody>\n",
       "</table>\n",
       "<p>5 rows × 49 columns</p>\n",
       "</div>"
      ],
      "text/plain": [
       "   EntrezID    HGNC_ID  184B5  21MT1   21NT  600MPE  AU565   BT20  BT474  \\\n",
       "0    403263    OR4G11P -0.046   0.27  0.112   0.332 -0.136 -0.692 -0.023   \n",
       "1     79501      OR4F5 -0.046   0.27  0.112   0.332 -0.136 -0.692 -0.023   \n",
       "2    645543  LOC645543 -0.046   0.27  0.112   0.332 -0.136 -0.692 -0.023   \n",
       "3    653340  LOC653340 -0.046   0.27  0.112   0.332 -0.136 -0.692 -0.023   \n",
       "4    643670  LOC643670 -0.046   0.27  0.112   0.005 -0.136 -0.692 -0.023   \n",
       "\n",
       "   BT483  ...    SUM149PT  SUM159PT  SUM185PE  SUM225CWN  SUM229PE  SUM52PE  \\\n",
       "0 -0.108  ...      -0.243     0.018    -0.151      0.057    -0.056      0.2   \n",
       "1 -0.108  ...      -0.243     0.018    -0.151      0.057    -0.056      0.2   \n",
       "2 -0.108  ...      -0.243     0.018    -0.151      0.057    -0.056      0.2   \n",
       "3 -0.108  ...      -0.243     0.018    -0.151      0.057    -0.056      0.2   \n",
       "4 -0.108  ...      -0.243     0.018    -0.151      0.057    -0.056      0.2   \n",
       "\n",
       "    T47D  UACC812  ZR751  ZR75B  \n",
       "0  0.099   -0.278 -0.527 -0.446  \n",
       "1  0.099   -0.278 -0.527 -0.446  \n",
       "2  0.099   -0.278 -0.527 -0.446  \n",
       "3  0.099   -0.278 -0.527 -0.446  \n",
       "4  0.099   -0.278 -0.527 -0.446  \n",
       "\n",
       "[5 rows x 49 columns]"
      ]
     },
     "execution_count": 6,
     "metadata": {},
     "output_type": "execute_result"
    }
   ],
   "source": [
    "file_path = nci_dream.get_file('SNP6_gene_level.txt')\n",
    "d = pd.read_csv(file_path, sep='\\t')\n",
    "d.head()"
   ]
  },
  {
   "cell_type": "code",
   "execution_count": 7,
   "metadata": {
    "collapsed": false
   },
   "outputs": [
    {
     "name": "stdout",
     "output_type": "stream",
     "text": [
      "[Remove null values for column \"VALUE\"] Records before = 1279998, Records after = 1278562, Records removed = 1436 (%0.11)\n"
     ]
    },
    {
     "data": {
      "text/html": [
       "<div>\n",
       "<table border=\"1\" class=\"dataframe\">\n",
       "  <thead>\n",
       "    <tr style=\"text-align: right;\">\n",
       "      <th></th>\n",
       "      <th>GENE_ID:HGNC</th>\n",
       "      <th>GENE_ID:ENTREZ</th>\n",
       "      <th>CELL_LINE_ID</th>\n",
       "      <th>VALUE</th>\n",
       "    </tr>\n",
       "  </thead>\n",
       "  <tbody>\n",
       "    <tr>\n",
       "      <th>0</th>\n",
       "      <td>OR4G11P</td>\n",
       "      <td>403263</td>\n",
       "      <td>184B5</td>\n",
       "      <td>-0.046</td>\n",
       "    </tr>\n",
       "    <tr>\n",
       "      <th>1</th>\n",
       "      <td>OR4F5</td>\n",
       "      <td>79501</td>\n",
       "      <td>184B5</td>\n",
       "      <td>-0.046</td>\n",
       "    </tr>\n",
       "    <tr>\n",
       "      <th>2</th>\n",
       "      <td>LOC645543</td>\n",
       "      <td>645543</td>\n",
       "      <td>184B5</td>\n",
       "      <td>-0.046</td>\n",
       "    </tr>\n",
       "    <tr>\n",
       "      <th>3</th>\n",
       "      <td>LOC653340</td>\n",
       "      <td>653340</td>\n",
       "      <td>184B5</td>\n",
       "      <td>-0.046</td>\n",
       "    </tr>\n",
       "    <tr>\n",
       "      <th>4</th>\n",
       "      <td>LOC643670</td>\n",
       "      <td>643670</td>\n",
       "      <td>184B5</td>\n",
       "      <td>-0.046</td>\n",
       "    </tr>\n",
       "  </tbody>\n",
       "</table>\n",
       "</div>"
      ],
      "text/plain": [
       "  GENE_ID:HGNC  GENE_ID:ENTREZ CELL_LINE_ID  VALUE\n",
       "0      OR4G11P          403263        184B5 -0.046\n",
       "1        OR4F5           79501        184B5 -0.046\n",
       "2    LOC645543          645543        184B5 -0.046\n",
       "3    LOC653340          653340        184B5 -0.046\n",
       "4    LOC643670          643670        184B5 -0.046"
      ]
     },
     "execution_count": 7,
     "metadata": {},
     "output_type": "execute_result"
    }
   ],
   "source": [
    "d = d.rename(columns={'HGNC_ID': 'GENE_ID:HGNC', 'EntrezID': 'GENE_ID:ENTREZ'})\n",
    "id_vars = ['GENE_ID:HGNC', 'GENE_ID:ENTREZ']\n",
    "d = pd.melt(d, id_vars=id_vars, value_name='VALUE', var_name='CELL_LINE_ID')\n",
    "assert d.groupby(id_vars + ['CELL_LINE_ID']).size().max() == 1\n",
    "d = subset(d, lambda df: df[df['VALUE'].notnull()], subset_op='Remove null values for column \"VALUE\"')\n",
    "d.head()"
   ]
  },
  {
   "cell_type": "code",
   "execution_count": 8,
   "metadata": {
    "collapsed": false
   },
   "outputs": [
    {
     "data": {
      "text/plain": [
       "<matplotlib.axes._subplots.AxesSubplot at 0x105718748>"
      ]
     },
     "execution_count": 8,
     "metadata": {},
     "output_type": "execute_result"
    },
    {
     "data": {
      "image/png": "[encoded data removed]",
      "text/plain": [
       "<matplotlib.figure.Figure at 0x1056e7cf8>"
      ]
     },
     "metadata": {},
     "output_type": "display_data"
    }
   ],
   "source": [
    "d['VALUE'].hist(bins=50)"
   ]
  },
  {
   "cell_type": "code",
   "execution_count": 9,
   "metadata": {
    "collapsed": false
   },
   "outputs": [
    {
     "name": "stdout",
     "output_type": "stream",
     "text": [
      "<class 'pandas.core.frame.DataFrame'>\n",
      "Int64Index: 1278562 entries, 0 to 1279997\n",
      "Data columns (total 4 columns):\n",
      "GENE_ID:HGNC      1278562 non-null object\n",
      "GENE_ID:ENTREZ    1278562 non-null int64\n",
      "CELL_LINE_ID      1278562 non-null object\n",
      "VALUE             1278562 non-null float64\n",
      "dtypes: float64(1), int64(1), object(2)\n",
      "memory usage: 48.8+ MB\n"
     ]
    }
   ],
   "source": [
    "d.info()"
   ]
  },
  {
   "cell_type": "code",
   "execution_count": 10,
   "metadata": {
    "collapsed": false
   },
   "outputs": [
    {
     "data": {
      "text/plain": [
       "'/Users/eczech/data/research/musc_genomics_db/raw/ncidream_v1_gene-copy-number.pkl'"
      ]
     },
     "execution_count": 10,
     "metadata": {},
     "output_type": "execute_result"
    }
   ],
   "source": [
    "assert np.all(pd.notnull(d))\n",
    "db.save(d, src.NCIDREAM_v1, db.RAW, 'gene-copy-number')"
   ]
  }
 ],
 "metadata": {
  "kernelspec": {
   "display_name": "Python 3",
   "language": "python",
   "name": "python3"
  },
  "language_info": {
   "codemirror_mode": {
    "name": "ipython",
    "version": 3
   },
   "file_extension": ".py",
   "mimetype": "text/x-python",
   "name": "python",
   "nbconvert_exporter": "python",
   "pygments_lexer": "ipython3",
   "version": "3.5.2"
  }
 },
 "nbformat": 4,
 "nbformat_minor": 0
}
