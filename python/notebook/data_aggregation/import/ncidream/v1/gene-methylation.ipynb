{
 "cells": [
  {
   "cell_type": "markdown",
   "metadata": {},
   "source": [
    "# NCI Dream Methylation Data Import\n",
    "\n",
    "DNA Methylation data import for NCI DREAM drug sensitivity challenge.\n",
    "\n",
    "Source data README: /Users/eczech/.synapseCache/428/756428/DREAM7_DrugSensitivity1_Methylation_README.txt\n",
    "\n",
    "Note that the values themselves here are \"beta\" values and that these are sometimes ignored or unreliable based on the \"CGct1\" or \"Cct1\" values (see the README for more details)."
   ]
  },
  {
   "cell_type": "code",
   "execution_count": 1,
   "metadata": {
    "collapsed": true
   },
   "outputs": [],
   "source": [
    "%run -m ipy_startup\n",
    "from mgds.data_aggregation import database as db\n",
    "from mgds.data_aggregation import source as src\n",
    "from mgds.data_aggregation.import_lib import nci_dream"
   ]
  },
  {
   "cell_type": "code",
   "execution_count": 6,
   "metadata": {
    "collapsed": false
   },
   "outputs": [
    {
     "data": {
      "text/html": [
       "<div>\n",
       "<table border=\"1\" class=\"dataframe\">\n",
       "  <thead>\n",
       "    <tr style=\"text-align: right;\">\n",
       "      <th></th>\n",
       "      <th>Illumina_ID</th>\n",
       "      <th>HGNC_ID</th>\n",
       "      <th>CGct1</th>\n",
       "      <th>Cct1</th>\n",
       "      <th>600MPE</th>\n",
       "      <th>AU565</th>\n",
       "      <th>BT20</th>\n",
       "      <th>BT474</th>\n",
       "      <th>BT483</th>\n",
       "      <th>BT549</th>\n",
       "      <th>...</th>\n",
       "      <th>SUM52PE</th>\n",
       "      <th>SUM149PT</th>\n",
       "      <th>SUM159PT</th>\n",
       "      <th>SUM185PE</th>\n",
       "      <th>SUM225CWN</th>\n",
       "      <th>SUM1315MO2</th>\n",
       "      <th>T47D</th>\n",
       "      <th>UACC812</th>\n",
       "      <th>ZR751</th>\n",
       "      <th>ZR7530</th>\n",
       "    </tr>\n",
       "  </thead>\n",
       "  <tbody>\n",
       "    <tr>\n",
       "      <th>0</th>\n",
       "      <td>cg00000292</td>\n",
       "      <td>ATP2A1</td>\n",
       "      <td>2</td>\n",
       "      <td>10</td>\n",
       "      <td>0.881395</td>\n",
       "      <td>0.625653</td>\n",
       "      <td>0.922304</td>\n",
       "      <td>0.908254</td>\n",
       "      <td>0.932414</td>\n",
       "      <td>0.891903</td>\n",
       "      <td>...</td>\n",
       "      <td>0.910745</td>\n",
       "      <td>0.939521</td>\n",
       "      <td>0.889001</td>\n",
       "      <td>0.926362</td>\n",
       "      <td>0.813929</td>\n",
       "      <td>0.613688</td>\n",
       "      <td>0.862319</td>\n",
       "      <td>0.859278</td>\n",
       "      <td>0.888635</td>\n",
       "      <td>0.893735</td>\n",
       "    </tr>\n",
       "    <tr>\n",
       "      <th>1</th>\n",
       "      <td>cg00002426</td>\n",
       "      <td>SLMAP</td>\n",
       "      <td>3</td>\n",
       "      <td>10</td>\n",
       "      <td>0.067202</td>\n",
       "      <td>0.056657</td>\n",
       "      <td>0.057735</td>\n",
       "      <td>0.224676</td>\n",
       "      <td>0.365351</td>\n",
       "      <td>0.038872</td>\n",
       "      <td>...</td>\n",
       "      <td>0.061264</td>\n",
       "      <td>0.052474</td>\n",
       "      <td>0.045397</td>\n",
       "      <td>0.642288</td>\n",
       "      <td>0.046751</td>\n",
       "      <td>0.909573</td>\n",
       "      <td>0.777622</td>\n",
       "      <td>0.899977</td>\n",
       "      <td>0.098025</td>\n",
       "      <td>0.094077</td>\n",
       "    </tr>\n",
       "    <tr>\n",
       "      <th>2</th>\n",
       "      <td>cg00003994</td>\n",
       "      <td>MEOX2</td>\n",
       "      <td>1</td>\n",
       "      <td>13</td>\n",
       "      <td>0.863474</td>\n",
       "      <td>0.038321</td>\n",
       "      <td>0.541085</td>\n",
       "      <td>0.587678</td>\n",
       "      <td>0.038327</td>\n",
       "      <td>0.846660</td>\n",
       "      <td>...</td>\n",
       "      <td>0.181697</td>\n",
       "      <td>0.066858</td>\n",
       "      <td>0.066631</td>\n",
       "      <td>0.191392</td>\n",
       "      <td>0.051345</td>\n",
       "      <td>0.071066</td>\n",
       "      <td>0.158072</td>\n",
       "      <td>0.368934</td>\n",
       "      <td>0.757326</td>\n",
       "      <td>0.822995</td>\n",
       "    </tr>\n",
       "    <tr>\n",
       "      <th>3</th>\n",
       "      <td>cg00005847</td>\n",
       "      <td>HOXD3</td>\n",
       "      <td>1</td>\n",
       "      <td>12</td>\n",
       "      <td>0.842265</td>\n",
       "      <td>0.102223</td>\n",
       "      <td>0.893619</td>\n",
       "      <td>0.856988</td>\n",
       "      <td>0.876870</td>\n",
       "      <td>0.811981</td>\n",
       "      <td>...</td>\n",
       "      <td>0.838893</td>\n",
       "      <td>0.569239</td>\n",
       "      <td>0.478482</td>\n",
       "      <td>0.835688</td>\n",
       "      <td>0.428073</td>\n",
       "      <td>0.679917</td>\n",
       "      <td>0.579990</td>\n",
       "      <td>0.852463</td>\n",
       "      <td>0.836502</td>\n",
       "      <td>0.837975</td>\n",
       "    </tr>\n",
       "    <tr>\n",
       "      <th>4</th>\n",
       "      <td>cg00006414</td>\n",
       "      <td>ZNF398</td>\n",
       "      <td>4</td>\n",
       "      <td>9</td>\n",
       "      <td>0.084663</td>\n",
       "      <td>0.091306</td>\n",
       "      <td>0.065515</td>\n",
       "      <td>0.089713</td>\n",
       "      <td>0.128638</td>\n",
       "      <td>0.070089</td>\n",
       "      <td>...</td>\n",
       "      <td>0.055451</td>\n",
       "      <td>0.072800</td>\n",
       "      <td>0.074124</td>\n",
       "      <td>0.138269</td>\n",
       "      <td>0.087123</td>\n",
       "      <td>0.048023</td>\n",
       "      <td>0.188648</td>\n",
       "      <td>0.085332</td>\n",
       "      <td>0.074521</td>\n",
       "      <td>0.122249</td>\n",
       "    </tr>\n",
       "  </tbody>\n",
       "</table>\n",
       "<p>5 rows × 45 columns</p>\n",
       "</div>"
      ],
      "text/plain": [
       "  Illumina_ID HGNC_ID  CGct1  Cct1    600MPE     AU565      BT20     BT474  \\\n",
       "0  cg00000292  ATP2A1      2    10  0.881395  0.625653  0.922304  0.908254   \n",
       "1  cg00002426   SLMAP      3    10  0.067202  0.056657  0.057735  0.224676   \n",
       "2  cg00003994   MEOX2      1    13  0.863474  0.038321  0.541085  0.587678   \n",
       "3  cg00005847   HOXD3      1    12  0.842265  0.102223  0.893619  0.856988   \n",
       "4  cg00006414  ZNF398      4     9  0.084663  0.091306  0.065515  0.089713   \n",
       "\n",
       "      BT483     BT549    ...      SUM52PE  SUM149PT  SUM159PT  SUM185PE  \\\n",
       "0  0.932414  0.891903    ...     0.910745  0.939521  0.889001  0.926362   \n",
       "1  0.365351  0.038872    ...     0.061264  0.052474  0.045397  0.642288   \n",
       "2  0.038327  0.846660    ...     0.181697  0.066858  0.066631  0.191392   \n",
       "3  0.876870  0.811981    ...     0.838893  0.569239  0.478482  0.835688   \n",
       "4  0.128638  0.070089    ...     0.055451  0.072800  0.074124  0.138269   \n",
       "\n",
       "   SUM225CWN  SUM1315MO2      T47D   UACC812     ZR751    ZR7530  \n",
       "0   0.813929    0.613688  0.862319  0.859278  0.888635  0.893735  \n",
       "1   0.046751    0.909573  0.777622  0.899977  0.098025  0.094077  \n",
       "2   0.051345    0.071066  0.158072  0.368934  0.757326  0.822995  \n",
       "3   0.428073    0.679917  0.579990  0.852463  0.836502  0.837975  \n",
       "4   0.087123    0.048023  0.188648  0.085332  0.074521  0.122249  \n",
       "\n",
       "[5 rows x 45 columns]"
      ]
     },
     "execution_count": 6,
     "metadata": {},
     "output_type": "execute_result"
    }
   ],
   "source": [
    "file_path = nci_dream.get_file('Methylation.txt')\n",
    "d = pd.read_csv(file_path, sep='\\t')\n",
    "d.head()"
   ]
  },
  {
   "cell_type": "code",
   "execution_count": 7,
   "metadata": {
    "collapsed": false
   },
   "outputs": [
    {
     "data": {
      "text/html": [
       "<div>\n",
       "<table border=\"1\" class=\"dataframe\">\n",
       "  <thead>\n",
       "    <tr style=\"text-align: right;\">\n",
       "      <th></th>\n",
       "      <th>GENE_ID:HGNC</th>\n",
       "      <th>GENE_ID:ILLUMINA</th>\n",
       "      <th>CGCT1</th>\n",
       "      <th>CCT1</th>\n",
       "      <th>CELL_LINE_ID</th>\n",
       "      <th>VALUE</th>\n",
       "    </tr>\n",
       "  </thead>\n",
       "  <tbody>\n",
       "    <tr>\n",
       "      <th>0</th>\n",
       "      <td>ATP2A1</td>\n",
       "      <td>cg00000292</td>\n",
       "      <td>2</td>\n",
       "      <td>10</td>\n",
       "      <td>600MPE</td>\n",
       "      <td>0.881395</td>\n",
       "    </tr>\n",
       "    <tr>\n",
       "      <th>1</th>\n",
       "      <td>SLMAP</td>\n",
       "      <td>cg00002426</td>\n",
       "      <td>3</td>\n",
       "      <td>10</td>\n",
       "      <td>600MPE</td>\n",
       "      <td>0.067202</td>\n",
       "    </tr>\n",
       "    <tr>\n",
       "      <th>2</th>\n",
       "      <td>MEOX2</td>\n",
       "      <td>cg00003994</td>\n",
       "      <td>1</td>\n",
       "      <td>13</td>\n",
       "      <td>600MPE</td>\n",
       "      <td>0.863474</td>\n",
       "    </tr>\n",
       "    <tr>\n",
       "      <th>3</th>\n",
       "      <td>HOXD3</td>\n",
       "      <td>cg00005847</td>\n",
       "      <td>1</td>\n",
       "      <td>12</td>\n",
       "      <td>600MPE</td>\n",
       "      <td>0.842265</td>\n",
       "    </tr>\n",
       "    <tr>\n",
       "      <th>4</th>\n",
       "      <td>ZNF398</td>\n",
       "      <td>cg00006414</td>\n",
       "      <td>4</td>\n",
       "      <td>9</td>\n",
       "      <td>600MPE</td>\n",
       "      <td>0.084663</td>\n",
       "    </tr>\n",
       "  </tbody>\n",
       "</table>\n",
       "</div>"
      ],
      "text/plain": [
       "  GENE_ID:HGNC GENE_ID:ILLUMINA  CGCT1  CCT1 CELL_LINE_ID     VALUE\n",
       "0       ATP2A1       cg00000292      2    10       600MPE  0.881395\n",
       "1        SLMAP       cg00002426      3    10       600MPE  0.067202\n",
       "2        MEOX2       cg00003994      1    13       600MPE  0.863474\n",
       "3        HOXD3       cg00005847      1    12       600MPE  0.842265\n",
       "4       ZNF398       cg00006414      4     9       600MPE  0.084663"
      ]
     },
     "execution_count": 7,
     "metadata": {},
     "output_type": "execute_result"
    }
   ],
   "source": [
    "d = d.rename(columns={\n",
    "    'HGNC_ID': 'GENE_ID:HGNC', \n",
    "    'Illumina_ID': 'GENE_ID:ILLUMINA',\n",
    "    'CGct1': 'CGCT1',\n",
    "    'Cct1': 'CCT1',\n",
    "})\n",
    "id_vars = ['GENE_ID:HGNC', 'GENE_ID:ILLUMINA', 'CGCT1', 'CCT1']\n",
    "d = pd.melt(d, id_vars=id_vars, value_name='VALUE', var_name='CELL_LINE_ID')\n",
    "assert d.groupby(id_vars + ['CELL_LINE_ID']).size().max() == 1\n",
    "d.head()"
   ]
  },
  {
   "cell_type": "code",
   "execution_count": 8,
   "metadata": {
    "collapsed": false
   },
   "outputs": [
    {
     "name": "stdout",
     "output_type": "stream",
     "text": [
      "<class 'pandas.core.frame.DataFrame'>\n",
      "RangeIndex: 1129591 entries, 0 to 1129590\n",
      "Data columns (total 6 columns):\n",
      "GENE_ID:HGNC        1129591 non-null object\n",
      "GENE_ID:ILLUMINA    1129591 non-null object\n",
      "CGCT1               1129591 non-null int64\n",
      "CCT1                1129591 non-null int64\n",
      "CELL_LINE_ID        1129591 non-null object\n",
      "VALUE               1129591 non-null float64\n",
      "dtypes: float64(1), int64(2), object(3)\n",
      "memory usage: 51.7+ MB\n"
     ]
    }
   ],
   "source": [
    "d.info()"
   ]
  },
  {
   "cell_type": "code",
   "execution_count": 9,
   "metadata": {
    "collapsed": false
   },
   "outputs": [
    {
     "data": {
      "text/plain": [
       "'/Users/eczech/data/research/musc_genomics_db/raw/ncidream_v1_gene-methylation.pkl'"
      ]
     },
     "execution_count": 9,
     "metadata": {},
     "output_type": "execute_result"
    }
   ],
   "source": [
    "assert np.all(pd.notnull(d))\n",
    "db.save(d, src.NCIDREAM_v1, db.RAW, 'gene-methylation')"
   ]
  }
 ],
 "metadata": {
  "kernelspec": {
   "display_name": "Python 3",
   "language": "python",
   "name": "python3"
  },
  "language_info": {
   "codemirror_mode": {
    "name": "ipython",
    "version": 3
   },
   "file_extension": ".py",
   "mimetype": "text/x-python",
   "name": "python",
   "nbconvert_exporter": "python",
   "pygments_lexer": "ipython3",
   "version": "3.5.2"
  }
 },
 "nbformat": 4,
 "nbformat_minor": 0
}
