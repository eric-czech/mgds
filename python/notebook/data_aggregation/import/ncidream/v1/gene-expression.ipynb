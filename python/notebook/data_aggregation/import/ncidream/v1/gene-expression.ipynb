{
 "cells": [
  {
   "cell_type": "markdown",
   "metadata": {},
   "source": [
    "# NCI Dream Gene Expression Data Import\n",
    "\n",
    "Gene expression data import for NCI DREAM drug sensitivity challenge.\n",
    "\n",
    "Source data README: /Users/eczech/.synapseCache/428/756428/DREAM7_DrugSensitivity1_GeneExpression_README.txt"
   ]
  },
  {
   "cell_type": "code",
   "execution_count": 1,
   "metadata": {
    "collapsed": true
   },
   "outputs": [],
   "source": [
    "%run -m ipy_startup\n",
    "from mgds.data_aggregation import database as db\n",
    "from mgds.data_aggregation import source as src\n",
    "from mgds.data_aggregation import excel_utils\n",
    "from mgds.data_aggregation.import_lib import nci_dream\n",
    "from py_utils.collection_utils import subset\n",
    "from py_utils import assertion_utils"
   ]
  },
  {
   "cell_type": "code",
   "execution_count": 7,
   "metadata": {
    "collapsed": false
   },
   "outputs": [
    {
     "data": {
      "text/html": [
       "<div>\n",
       "<table border=\"1\" class=\"dataframe\">\n",
       "  <thead>\n",
       "    <tr style=\"text-align: right;\">\n",
       "      <th></th>\n",
       "      <th>HGNC_ID</th>\n",
       "      <th>184B5</th>\n",
       "      <th>600MPE</th>\n",
       "      <th>AU565</th>\n",
       "      <th>BT20</th>\n",
       "      <th>BT474</th>\n",
       "      <th>BT483</th>\n",
       "      <th>CAMA1</th>\n",
       "      <th>HCC38</th>\n",
       "      <th>HCC70</th>\n",
       "      <th>...</th>\n",
       "      <th>SUM185PE</th>\n",
       "      <th>SUM225CWN</th>\n",
       "      <th>SUM1315MO2</th>\n",
       "      <th>T47D</th>\n",
       "      <th>UACC812</th>\n",
       "      <th>ZR751</th>\n",
       "      <th>ZR7530</th>\n",
       "      <th>ZR75B</th>\n",
       "      <th>BT549</th>\n",
       "      <th>MCF10A</th>\n",
       "    </tr>\n",
       "  </thead>\n",
       "  <tbody>\n",
       "    <tr>\n",
       "      <th>0</th>\n",
       "      <td>C9orf152</td>\n",
       "      <td>3.613030</td>\n",
       "      <td>8.463736</td>\n",
       "      <td>7.935823</td>\n",
       "      <td>3.098928</td>\n",
       "      <td>9.010836</td>\n",
       "      <td>6.238427</td>\n",
       "      <td>7.531960</td>\n",
       "      <td>2.941374</td>\n",
       "      <td>5.048602</td>\n",
       "      <td>...</td>\n",
       "      <td>8.611076</td>\n",
       "      <td>7.479183</td>\n",
       "      <td>2.743167</td>\n",
       "      <td>7.885278</td>\n",
       "      <td>6.478226</td>\n",
       "      <td>9.306710</td>\n",
       "      <td>7.672073</td>\n",
       "      <td>9.016769</td>\n",
       "      <td>3.312954</td>\n",
       "      <td>3.257463</td>\n",
       "    </tr>\n",
       "    <tr>\n",
       "      <th>1</th>\n",
       "      <td>ELMO2</td>\n",
       "      <td>7.205940</td>\n",
       "      <td>7.959597</td>\n",
       "      <td>8.073369</td>\n",
       "      <td>8.164778</td>\n",
       "      <td>8.120015</td>\n",
       "      <td>8.950747</td>\n",
       "      <td>7.747369</td>\n",
       "      <td>8.551765</td>\n",
       "      <td>7.708224</td>\n",
       "      <td>...</td>\n",
       "      <td>9.391230</td>\n",
       "      <td>8.086427</td>\n",
       "      <td>7.653533</td>\n",
       "      <td>8.027774</td>\n",
       "      <td>8.112902</td>\n",
       "      <td>8.274168</td>\n",
       "      <td>8.654507</td>\n",
       "      <td>7.907656</td>\n",
       "      <td>8.463506</td>\n",
       "      <td>7.348165</td>\n",
       "    </tr>\n",
       "    <tr>\n",
       "      <th>2</th>\n",
       "      <td>RPS11</td>\n",
       "      <td>10.476276</td>\n",
       "      <td>9.939852</td>\n",
       "      <td>9.817430</td>\n",
       "      <td>10.038500</td>\n",
       "      <td>9.533423</td>\n",
       "      <td>9.471906</td>\n",
       "      <td>9.889735</td>\n",
       "      <td>9.852145</td>\n",
       "      <td>9.496845</td>\n",
       "      <td>...</td>\n",
       "      <td>9.025056</td>\n",
       "      <td>9.624821</td>\n",
       "      <td>9.447288</td>\n",
       "      <td>8.779309</td>\n",
       "      <td>9.069048</td>\n",
       "      <td>9.333409</td>\n",
       "      <td>9.360958</td>\n",
       "      <td>10.064785</td>\n",
       "      <td>9.693886</td>\n",
       "      <td>9.858231</td>\n",
       "    </tr>\n",
       "    <tr>\n",
       "      <th>3</th>\n",
       "      <td>CREB3L1</td>\n",
       "      <td>5.565989</td>\n",
       "      <td>9.835957</td>\n",
       "      <td>5.696639</td>\n",
       "      <td>4.972852</td>\n",
       "      <td>8.155372</td>\n",
       "      <td>6.437281</td>\n",
       "      <td>6.572890</td>\n",
       "      <td>7.007242</td>\n",
       "      <td>5.386509</td>\n",
       "      <td>...</td>\n",
       "      <td>9.897796</td>\n",
       "      <td>8.059426</td>\n",
       "      <td>7.569412</td>\n",
       "      <td>5.437983</td>\n",
       "      <td>8.168436</td>\n",
       "      <td>7.360383</td>\n",
       "      <td>8.892531</td>\n",
       "      <td>7.051816</td>\n",
       "      <td>7.973954</td>\n",
       "      <td>5.256000</td>\n",
       "    </tr>\n",
       "    <tr>\n",
       "      <th>4</th>\n",
       "      <td>PNMA1</td>\n",
       "      <td>7.664038</td>\n",
       "      <td>7.645439</td>\n",
       "      <td>7.761882</td>\n",
       "      <td>7.766212</td>\n",
       "      <td>8.393242</td>\n",
       "      <td>8.081416</td>\n",
       "      <td>7.643172</td>\n",
       "      <td>7.922658</td>\n",
       "      <td>7.409595</td>\n",
       "      <td>...</td>\n",
       "      <td>7.985742</td>\n",
       "      <td>7.395009</td>\n",
       "      <td>8.757817</td>\n",
       "      <td>8.315187</td>\n",
       "      <td>8.430294</td>\n",
       "      <td>7.001755</td>\n",
       "      <td>7.582231</td>\n",
       "      <td>7.348228</td>\n",
       "      <td>8.558804</td>\n",
       "      <td>7.668157</td>\n",
       "    </tr>\n",
       "  </tbody>\n",
       "</table>\n",
       "<p>5 rows × 47 columns</p>\n",
       "</div>"
      ],
      "text/plain": [
       "    HGNC_ID      184B5    600MPE     AU565       BT20     BT474     BT483  \\\n",
       "0  C9orf152   3.613030  8.463736  7.935823   3.098928  9.010836  6.238427   \n",
       "1     ELMO2   7.205940  7.959597  8.073369   8.164778  8.120015  8.950747   \n",
       "2     RPS11  10.476276  9.939852  9.817430  10.038500  9.533423  9.471906   \n",
       "3   CREB3L1   5.565989  9.835957  5.696639   4.972852  8.155372  6.437281   \n",
       "4     PNMA1   7.664038  7.645439  7.761882   7.766212  8.393242  8.081416   \n",
       "\n",
       "      CAMA1     HCC38     HCC70    ...     SUM185PE  SUM225CWN  SUM1315MO2  \\\n",
       "0  7.531960  2.941374  5.048602    ...     8.611076   7.479183    2.743167   \n",
       "1  7.747369  8.551765  7.708224    ...     9.391230   8.086427    7.653533   \n",
       "2  9.889735  9.852145  9.496845    ...     9.025056   9.624821    9.447288   \n",
       "3  6.572890  7.007242  5.386509    ...     9.897796   8.059426    7.569412   \n",
       "4  7.643172  7.922658  7.409595    ...     7.985742   7.395009    8.757817   \n",
       "\n",
       "       T47D   UACC812     ZR751    ZR7530      ZR75B     BT549    MCF10A  \n",
       "0  7.885278  6.478226  9.306710  7.672073   9.016769  3.312954  3.257463  \n",
       "1  8.027774  8.112902  8.274168  8.654507   7.907656  8.463506  7.348165  \n",
       "2  8.779309  9.069048  9.333409  9.360958  10.064785  9.693886  9.858231  \n",
       "3  5.437983  8.168436  7.360383  8.892531   7.051816  7.973954  5.256000  \n",
       "4  8.315187  8.430294  7.001755  7.582231   7.348228  8.558804  7.668157  \n",
       "\n",
       "[5 rows x 47 columns]"
      ]
     },
     "execution_count": 7,
     "metadata": {},
     "output_type": "execute_result"
    }
   ],
   "source": [
    "file_path = nci_dream.get_file('GeneExpression.txt')\n",
    "d = pd.read_csv(file_path, sep='\\t')\n",
    "\n",
    "# At TOW, this data had no \"Excel Dates\" as gene ids so make sure that remains true\n",
    "assert not np.any(excel_utils.is_excel_date(d['HGNC_ID']))\n",
    "\n",
    "# Run manual conversions for known special cases in NCI Dream Gene Symbols\n",
    "d['HGNC_ID'] = nci_dream.convert_hgnc_id(d['HGNC_ID'])\n",
    "\n",
    "d.head()"
   ]
  },
  {
   "cell_type": "markdown",
   "metadata": {},
   "source": [
    "## Melt to Long Format"
   ]
  },
  {
   "cell_type": "code",
   "execution_count": 8,
   "metadata": {
    "collapsed": false
   },
   "outputs": [
    {
     "name": "stdout",
     "output_type": "stream",
     "text": [
      "[Remove null values for column \"VALUE\"] Records before = 857072, Records after = 857072, Records removed = 0 (%0.00)\n"
     ]
    },
    {
     "data": {
      "text/html": [
       "<div>\n",
       "<table border=\"1\" class=\"dataframe\">\n",
       "  <thead>\n",
       "    <tr style=\"text-align: right;\">\n",
       "      <th></th>\n",
       "      <th>GENE_ID:HGNC</th>\n",
       "      <th>CELL_LINE_ID</th>\n",
       "      <th>VALUE</th>\n",
       "    </tr>\n",
       "  </thead>\n",
       "  <tbody>\n",
       "    <tr>\n",
       "      <th>0</th>\n",
       "      <td>C9orf152</td>\n",
       "      <td>184B5</td>\n",
       "      <td>3.613030</td>\n",
       "    </tr>\n",
       "    <tr>\n",
       "      <th>1</th>\n",
       "      <td>ELMO2</td>\n",
       "      <td>184B5</td>\n",
       "      <td>7.205940</td>\n",
       "    </tr>\n",
       "    <tr>\n",
       "      <th>2</th>\n",
       "      <td>RPS11</td>\n",
       "      <td>184B5</td>\n",
       "      <td>10.476276</td>\n",
       "    </tr>\n",
       "    <tr>\n",
       "      <th>3</th>\n",
       "      <td>CREB3L1</td>\n",
       "      <td>184B5</td>\n",
       "      <td>5.565989</td>\n",
       "    </tr>\n",
       "    <tr>\n",
       "      <th>4</th>\n",
       "      <td>PNMA1</td>\n",
       "      <td>184B5</td>\n",
       "      <td>7.664038</td>\n",
       "    </tr>\n",
       "  </tbody>\n",
       "</table>\n",
       "</div>"
      ],
      "text/plain": [
       "  GENE_ID:HGNC CELL_LINE_ID      VALUE\n",
       "0     C9orf152        184B5   3.613030\n",
       "1        ELMO2        184B5   7.205940\n",
       "2        RPS11        184B5  10.476276\n",
       "3      CREB3L1        184B5   5.565989\n",
       "4        PNMA1        184B5   7.664038"
      ]
     },
     "execution_count": 8,
     "metadata": {},
     "output_type": "execute_result"
    }
   ],
   "source": [
    "d = d.rename(columns={'HGNC_ID': 'GENE_ID:HGNC'})\n",
    "id_vars = ['GENE_ID:HGNC']\n",
    "d = pd.melt(d, id_vars=id_vars, value_name='VALUE', var_name='CELL_LINE_ID')\n",
    "\n",
    "# Ensure no gene + cell line combos are repeated\n",
    "assert d.groupby(id_vars + ['CELL_LINE_ID']).size().max() == 1\n",
    "\n",
    "# Remove records with null values\n",
    "d = subset(d, lambda df: df[df['VALUE'].notnull()], subset_op='Remove null values for column \"VALUE\"')\n",
    "\n",
    "# Ensure all objects are strings\n",
    "assertion_utils.assert_object_types(d)\n",
    "\n",
    "d.head()"
   ]
  },
  {
   "cell_type": "code",
   "execution_count": 9,
   "metadata": {
    "collapsed": false
   },
   "outputs": [
    {
     "name": "stdout",
     "output_type": "stream",
     "text": [
      "<class 'pandas.core.frame.DataFrame'>\n",
      "Int64Index: 857072 entries, 0 to 857071\n",
      "Data columns (total 3 columns):\n",
      "GENE_ID:HGNC    857072 non-null object\n",
      "CELL_LINE_ID    857072 non-null object\n",
      "VALUE           857072 non-null float64\n",
      "dtypes: float64(1), object(2)\n",
      "memory usage: 26.2+ MB\n"
     ]
    }
   ],
   "source": [
    "d.info()"
   ]
  },
  {
   "cell_type": "markdown",
   "metadata": {},
   "source": [
    "## Export"
   ]
  },
  {
   "cell_type": "code",
   "execution_count": 10,
   "metadata": {
    "collapsed": false
   },
   "outputs": [
    {
     "data": {
      "text/plain": [
       "'/Users/eczech/data/research/mgds/import/ncidream_v1_gene-expression.pkl'"
      ]
     },
     "execution_count": 10,
     "metadata": {},
     "output_type": "execute_result"
    }
   ],
   "source": [
    "assert np.all(pd.notnull(d))\n",
    "db.save(d, src.NCIDREAM_v1, db.IMPORT, 'gene-expression')"
   ]
  }
 ],
 "metadata": {
  "kernelspec": {
   "display_name": "Python 3",
   "language": "python",
   "name": "python3"
  },
  "language_info": {
   "codemirror_mode": {
    "name": "ipython",
    "version": 3
   },
   "file_extension": ".py",
   "mimetype": "text/x-python",
   "name": "python",
   "nbconvert_exporter": "python",
   "pygments_lexer": "ipython3",
   "version": "3.5.2"
  }
 },
 "nbformat": 4,
 "nbformat_minor": 0
}
