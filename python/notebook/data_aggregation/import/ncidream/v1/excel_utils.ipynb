{
 "cells": [
  {
   "cell_type": "code",
   "execution_count": 3,
   "metadata": {
    "collapsed": true
   },
   "outputs": [],
   "source": [
    "%run -m ipy_startup\n",
    "import io"
   ]
  },
  {
   "cell_type": "code",
   "execution_count": 11,
   "metadata": {
    "collapsed": false
   },
   "outputs": [
    {
     "data": {
      "text/html": [
       "<div>\n",
       "<table border=\"1\" class=\"dataframe\">\n",
       "  <thead>\n",
       "    <tr style=\"text-align: right;\">\n",
       "      <th></th>\n",
       "      <th>GENE</th>\n",
       "      <th>DATE</th>\n",
       "    </tr>\n",
       "  </thead>\n",
       "  <tbody>\n",
       "    <tr>\n",
       "      <th>0</th>\n",
       "      <td>SEPT1</td>\n",
       "      <td>1-Sep</td>\n",
       "    </tr>\n",
       "    <tr>\n",
       "      <th>1</th>\n",
       "      <td>SEPT2</td>\n",
       "      <td>2-Sep</td>\n",
       "    </tr>\n",
       "    <tr>\n",
       "      <th>2</th>\n",
       "      <td>SEPT3</td>\n",
       "      <td>3-Sep</td>\n",
       "    </tr>\n",
       "    <tr>\n",
       "      <th>3</th>\n",
       "      <td>SEPT4</td>\n",
       "      <td>4-Sep</td>\n",
       "    </tr>\n",
       "    <tr>\n",
       "      <th>4</th>\n",
       "      <td>SEPT5</td>\n",
       "      <td>5-Sep</td>\n",
       "    </tr>\n",
       "  </tbody>\n",
       "</table>\n",
       "</div>"
      ],
      "text/plain": [
       "    GENE   DATE\n",
       "0  SEPT1  1-Sep\n",
       "1  SEPT2  2-Sep\n",
       "2  SEPT3  3-Sep\n",
       "3  SEPT4  4-Sep\n",
       "4  SEPT5  5-Sep"
      ]
     },
     "execution_count": 11,
     "metadata": {},
     "output_type": "execute_result"
    }
   ],
   "source": [
    "# Date mapping for gene names from: https://www.biostars.org/p/183018/\n",
    "dates = \"\"\"SEPT1,1-Sep\n",
    "SEPT2,2-Sep\n",
    "SEPT3,3-Sep\n",
    "SEPT4,4-Sep\n",
    "SEPT5,5-Sep\n",
    "SEPT6,6-Sep\n",
    "SEPT7,7-Sep\n",
    "SEPT8,8-Sep\n",
    "SEPT9,9-Sep\n",
    "SEPT10,10-Sep\n",
    "SEPT11,11-Sep\n",
    "SEPT12,12-Sep\n",
    "SEPT13,13-Sep\n",
    "SEPT14,14-Sep\n",
    "POU2F2,2-Oct\n",
    "SLC22A2,2-Oct\n",
    "POU5F1,3-Oct\n",
    "POU5F1,4-Oct\n",
    "POU3F1,6-Oct\n",
    "SLC22A16,6-Oct\n",
    "POU3F2,7-Oct\n",
    "POU3F4,9-Oct\n",
    "POU2F3,11-Oct\n",
    "DEC1,1-Dec\n",
    "MARCH1,1-Mar\n",
    "MARCH2,2-Mar\n",
    "MARCH3,3-Mar\n",
    "MARCH4,4-Mar\n",
    "MARCH5,5-Mar\n",
    "MARCH6,6-Mar\n",
    "MARCH7,7-Mar\n",
    "MARCH8,8-Mar\n",
    "MARCH9,9-Mar\n",
    "MARCH10,10-Mar\n",
    "MARCH11,11-Mar\n",
    "FEB1,1-Feb\n",
    "FEB2,2-Feb\n",
    "FEB5,5-Feb\n",
    "FEB6,6-Feb\n",
    "FEB7,7-Feb\n",
    "FEB9,9-Feb\n",
    "FEB10,10-Feb\n",
    "FAM215A,2-Apr\n",
    "ATRAID,3-Apr\n",
    "MAGEH1,1-Apr\n",
    "PRKCD,1-May\n",
    "CTGF,2-Nov\n",
    "C11orf40,1-Nov\"\"\"\n",
    "d = pd.read_csv(io.StringIO(dates), names=['GENE', 'DATE'])\n",
    "d.head()"
   ]
  },
  {
   "cell_type": "code",
   "execution_count": 12,
   "metadata": {
    "collapsed": false
   },
   "outputs": [
    {
     "name": "stdout",
     "output_type": "stream",
     "text": [
      "<class 'pandas.core.frame.DataFrame'>\n",
      "RangeIndex: 48 entries, 0 to 47\n",
      "Data columns (total 2 columns):\n",
      "GENE    48 non-null object\n",
      "DATE    48 non-null object\n",
      "dtypes: object(2)\n",
      "memory usage: 848.0+ bytes\n"
     ]
    }
   ],
   "source": [
    "d.info()"
   ]
  },
  {
   "cell_type": "code",
   "execution_count": 20,
   "metadata": {
    "collapsed": false
   },
   "outputs": [
    {
     "name": "stdout",
     "output_type": "stream",
     "text": [
      "{\n",
      "    \"1-SEP\": \"SEPT1\",\n",
      "    \"2-SEP\": \"SEPT2\",\n",
      "    \"3-SEP\": \"SEPT3\",\n",
      "    \"4-SEP\": \"SEPT4\",\n",
      "    \"5-SEP\": \"SEPT5\",\n",
      "    \"6-SEP\": \"SEPT6\",\n",
      "    \"7-SEP\": \"SEPT7\",\n",
      "    \"8-SEP\": \"SEPT8\",\n",
      "    \"9-SEP\": \"SEPT9\",\n",
      "    \"10-SEP\": \"SEPT10\",\n",
      "    \"11-SEP\": \"SEPT11\",\n",
      "    \"12-SEP\": \"SEPT12\",\n",
      "    \"13-SEP\": \"SEPT13\",\n",
      "    \"14-SEP\": \"SEPT14\",\n",
      "    \"2-OCT\": \"POU2F2\",\n",
      "    \"2-OCT\": \"SLC22A2\",\n",
      "    \"3-OCT\": \"POU5F1\",\n",
      "    \"4-OCT\": \"POU5F1\",\n",
      "    \"6-OCT\": \"POU3F1\",\n",
      "    \"6-OCT\": \"SLC22A16\",\n",
      "    \"7-OCT\": \"POU3F2\",\n",
      "    \"9-OCT\": \"POU3F4\",\n",
      "    \"11-OCT\": \"POU2F3\",\n",
      "    \"1-DEC\": \"DEC1\",\n",
      "    \"1-MAR\": \"MARCH1\",\n",
      "    \"2-MAR\": \"MARCH2\",\n",
      "    \"3-MAR\": \"MARCH3\",\n",
      "    \"4-MAR\": \"MARCH4\",\n",
      "    \"5-MAR\": \"MARCH5\",\n",
      "    \"6-MAR\": \"MARCH6\",\n",
      "    \"7-MAR\": \"MARCH7\",\n",
      "    \"8-MAR\": \"MARCH8\",\n",
      "    \"9-MAR\": \"MARCH9\",\n",
      "    \"10-MAR\": \"MARCH10\",\n",
      "    \"11-MAR\": \"MARCH11\",\n",
      "    \"1-FEB\": \"FEB1\",\n",
      "    \"2-FEB\": \"FEB2\",\n",
      "    \"5-FEB\": \"FEB5\",\n",
      "    \"6-FEB\": \"FEB6\",\n",
      "    \"7-FEB\": \"FEB7\",\n",
      "    \"9-FEB\": \"FEB9\",\n",
      "    \"10-FEB\": \"FEB10\",\n",
      "    \"2-APR\": \"FAM215A\",\n",
      "    \"3-APR\": \"ATRAID\",\n",
      "    \"1-APR\": \"MAGEH1\",\n",
      "    \"1-MAY\": \"PRKCD\",\n",
      "    \"2-NOV\": \"CTGF\",\n",
      "    \"1-NOV\": \"C11orf40\"\n",
      "}\n"
     ]
    }
   ],
   "source": [
    "m = ',\\n'.join(d.apply(lambda r: '    \"{}\": \"{}\"'.format(r['DATE'].upper(), r['GENE']), axis=1))\n",
    "print('{\\n' + m + '\\n}')"
   ]
  },
  {
   "cell_type": "code",
   "execution_count": null,
   "metadata": {
    "collapsed": true
   },
   "outputs": [],
   "source": []
  }
 ],
 "metadata": {
  "kernelspec": {
   "display_name": "Python 3",
   "language": "python",
   "name": "python3"
  },
  "language_info": {
   "codemirror_mode": {
    "name": "ipython",
    "version": 3
   },
   "file_extension": ".py",
   "mimetype": "text/x-python",
   "name": "python",
   "nbconvert_exporter": "python",
   "pygments_lexer": "ipython3",
   "version": "3.5.2"
  }
 },
 "nbformat": 4,
 "nbformat_minor": 0
}
