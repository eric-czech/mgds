{
 "cells": [
  {
   "cell_type": "markdown",
   "metadata": {},
   "source": [
    "# NCI Dream Cell Line Metadata Import\n",
    "\n",
    "There appears to be no source of deeper metadata on the NCI Dream Cell Lines so for now metadata will just consist of the the cell line ids and their known primary site/type, Breast Cancer.  This could be created from any combination of training/test genomics data with records for all 53 cell lines, but for simplicity the [supplementary materials](https://www.synapse.org/#!Synapse:syn2785786) spreadsheet will be used instead which contains several tables with all 53 cell line ids in one place."
   ]
  },
  {
   "cell_type": "code",
   "execution_count": 15,
   "metadata": {
    "collapsed": true
   },
   "outputs": [],
   "source": [
    "%run -m ipy_startup\n",
    "%matplotlib inline\n",
    "from mgds.data_aggregation import database as db\n",
    "from mgds.data_aggregation import source as src\n",
    "from mgds.data_aggregation import data_type\n",
    "from mgds.data_aggregation import entity\n",
    "from mgds.data_aggregation.import_lib import nci_dream\n",
    "from mgds.data_aggregation import excel_utils\n",
    "from py_utils import assertion_utils"
   ]
  },
  {
   "cell_type": "code",
   "execution_count": 11,
   "metadata": {
    "collapsed": false
   },
   "outputs": [
    {
     "name": "stdout",
     "output_type": "stream",
     "text": [
      "<class 'pandas.core.frame.DataFrame'>\n",
      "RangeIndex: 53 entries, 0 to 52\n",
      "Data columns (total 3 columns):\n",
      "CELL_LINE_ID    53 non-null object\n",
      "PRIMARY_SITE    53 non-null object\n",
      "PROPERTIES      53 non-null object\n",
      "dtypes: object(3)\n",
      "memory usage: 1.3+ KB\n"
     ]
    }
   ],
   "source": [
    "d = pd.read_excel(\n",
    "    nci_dream.get_file('NCI-DREAM_SC1_Supplementary_Tables.xlsx'), \n",
    "    sheetname='Supp Table 10', skiprows=[0,1,2,3]\n",
    ")\n",
    "d = d[['Cell line']].rename(columns={'Cell line': 'CELL_LINE_ID'})\n",
    "d['PRIMARY_SITE'] = 'BREAST'\n",
    "d['PROPERTIES'] = np.repeat({}, len(d))\n",
    "d = entity.prepare_cellline_meta(d)\n",
    "d.info()"
   ]
  },
  {
   "cell_type": "code",
   "execution_count": 12,
   "metadata": {
    "collapsed": false
   },
   "outputs": [
    {
     "data": {
      "text/plain": [
       "array(['HCC1954', 'AU565', 'HCC1937', 'CAMA1', 'T47DKBLUC', 'UACC812',\n",
       "       'HCC1569', 'MCF12A', 'HCC1187', 'HCC38', 'SUM229PE', 'ZR751',\n",
       "       'BT483', 'T47D', 'ZR7530', 'BT549', 'MDAMB231', 'MDAMB453',\n",
       "       'MCF10F', 'MDAMB157', 'HCC1428', 'MDAMB134VI', 'BT20', 'HCC1419',\n",
       "       'MDAMB361', 'HCC202', 'MDAMB415', 'MCF7', 'MDAMB175VII', 'HCC1395',\n",
       "       'HCC1143', 'HCC70', 'BT474', 'HCC1806', 'HS578T', '184A1', '184B5',\n",
       "       '21MT1', '21NT', '600MPE', 'HCC2185', 'HCC3153', 'LY2', 'MCF10A',\n",
       "       'MX1', 'SKBR3', 'SUM1315MO2', 'SUM149PT', 'SUM159PT', 'SUM185PE',\n",
       "       'SUM225CWN', 'SUM52PE', 'ZR75B'], dtype=object)"
      ]
     },
     "execution_count": 12,
     "metadata": {},
     "output_type": "execute_result"
    }
   ],
   "source": [
    "d['CELL_LINE_ID'].unique()"
   ]
  },
  {
   "cell_type": "code",
   "execution_count": 16,
   "metadata": {
    "collapsed": false
   },
   "outputs": [
    {
     "data": {
      "text/plain": [
       "'/Users/eczech/data/research/mgds/import/ncidream_v1_cellline-meta.pkl'"
      ]
     },
     "execution_count": 16,
     "metadata": {},
     "output_type": "execute_result"
    }
   ],
   "source": [
    "db.save(d, src.NCIDREAM_v1, db.IMPORT, data_type.CELLLINE_META)"
   ]
  }
 ],
 "metadata": {
  "kernelspec": {
   "display_name": "Python 3",
   "language": "python",
   "name": "python3"
  },
  "language_info": {
   "codemirror_mode": {
    "name": "ipython",
    "version": 3
   },
   "file_extension": ".py",
   "mimetype": "text/x-python",
   "name": "python",
   "nbconvert_exporter": "python",
   "pygments_lexer": "ipython3",
   "version": "3.5.2"
  }
 },
 "nbformat": 4,
 "nbformat_minor": 0
}
