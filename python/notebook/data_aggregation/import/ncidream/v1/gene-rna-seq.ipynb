{
 "cells": [
  {
   "cell_type": "markdown",
   "metadata": {},
   "source": [
    "# NCI Dream RNA-Seq Data Import\n",
    "\n",
    "RNA-Seq data import for NCI DREAM drug sensitivity challenge.\n",
    "\n",
    "Source data README: /Users/eczech/.synapseCache/428/756428/DREAM7_DrugSensitivity1_RNAseq_README.txt\n",
    "\n",
    "Note that there are two forms of this data available, the \"RNAseq_quantification.txt\" which contains estimated gene expression levels from sequencing, as well as the \"RNAseq_expressed_calls.txt\" file which contains a binarized version of something similar (see the full README for more details)"
   ]
  },
  {
   "cell_type": "code",
   "execution_count": 1,
   "metadata": {
    "collapsed": true
   },
   "outputs": [],
   "source": [
    "%run -m ipy_startup\n",
    "from mgds.data_aggregation import database as db\n",
    "from mgds.data_aggregation import source as src\n",
    "from mgds.data_aggregation import excel_utils\n",
    "from mgds.data_aggregation.import_lib import nci_dream\n",
    "from py_utils.collection_utils import subset\n",
    "from py_utils import assertion_utils"
   ]
  },
  {
   "cell_type": "code",
   "execution_count": 2,
   "metadata": {
    "collapsed": false
   },
   "outputs": [
    {
     "data": {
      "text/html": [
       "<div>\n",
       "<table border=\"1\" class=\"dataframe\">\n",
       "  <thead>\n",
       "    <tr style=\"text-align: right;\">\n",
       "      <th></th>\n",
       "      <th>HGNC_ID</th>\n",
       "      <th>Ensembl_ID</th>\n",
       "      <th>184A1</th>\n",
       "      <th>184B5</th>\n",
       "      <th>21MT1</th>\n",
       "      <th>21NT</th>\n",
       "      <th>600MPE</th>\n",
       "      <th>AU565</th>\n",
       "      <th>BT474</th>\n",
       "      <th>BT483</th>\n",
       "      <th>...</th>\n",
       "      <th>SUM149PT</th>\n",
       "      <th>SUM159PT</th>\n",
       "      <th>SUM225CWN</th>\n",
       "      <th>SUM229PE</th>\n",
       "      <th>SUM52PE</th>\n",
       "      <th>T47D</th>\n",
       "      <th>UACC812</th>\n",
       "      <th>ZR751</th>\n",
       "      <th>ZR7530</th>\n",
       "      <th>ZR75B</th>\n",
       "    </tr>\n",
       "  </thead>\n",
       "  <tbody>\n",
       "    <tr>\n",
       "      <th>0</th>\n",
       "      <td>TSPAN6</td>\n",
       "      <td>ENSG00000000003</td>\n",
       "      <td>95.212548</td>\n",
       "      <td>95.698676</td>\n",
       "      <td>19.994674</td>\n",
       "      <td>44.057746</td>\n",
       "      <td>178.158832</td>\n",
       "      <td>13.460144</td>\n",
       "      <td>37.879666</td>\n",
       "      <td>69.092581</td>\n",
       "      <td>...</td>\n",
       "      <td>34.322919</td>\n",
       "      <td>84.116269</td>\n",
       "      <td>30.797927</td>\n",
       "      <td>39.425097</td>\n",
       "      <td>129.418091</td>\n",
       "      <td>82.748694</td>\n",
       "      <td>26.579280</td>\n",
       "      <td>31.812999</td>\n",
       "      <td>121.459918</td>\n",
       "      <td>2.293898</td>\n",
       "    </tr>\n",
       "    <tr>\n",
       "      <th>1</th>\n",
       "      <td>NFYA</td>\n",
       "      <td>ENSG00000001167</td>\n",
       "      <td>89.512619</td>\n",
       "      <td>94.154375</td>\n",
       "      <td>245.433541</td>\n",
       "      <td>286.092419</td>\n",
       "      <td>125.193255</td>\n",
       "      <td>68.907655</td>\n",
       "      <td>167.815672</td>\n",
       "      <td>152.752421</td>\n",
       "      <td>...</td>\n",
       "      <td>77.391314</td>\n",
       "      <td>148.816160</td>\n",
       "      <td>101.402401</td>\n",
       "      <td>111.108369</td>\n",
       "      <td>102.457186</td>\n",
       "      <td>61.650437</td>\n",
       "      <td>138.140311</td>\n",
       "      <td>68.458022</td>\n",
       "      <td>73.910964</td>\n",
       "      <td>61.625519</td>\n",
       "    </tr>\n",
       "    <tr>\n",
       "      <th>2</th>\n",
       "      <td>ABCB4</td>\n",
       "      <td>ENSG00000005471</td>\n",
       "      <td>0.000000</td>\n",
       "      <td>0.172734</td>\n",
       "      <td>0.231762</td>\n",
       "      <td>0.000000</td>\n",
       "      <td>0.757785</td>\n",
       "      <td>2.976117</td>\n",
       "      <td>1.210384</td>\n",
       "      <td>1.670807</td>\n",
       "      <td>...</td>\n",
       "      <td>0.000000</td>\n",
       "      <td>3.098289</td>\n",
       "      <td>1.006138</td>\n",
       "      <td>0.000000</td>\n",
       "      <td>0.784523</td>\n",
       "      <td>1.261100</td>\n",
       "      <td>0.440649</td>\n",
       "      <td>0.548865</td>\n",
       "      <td>0.611036</td>\n",
       "      <td>0.556531</td>\n",
       "    </tr>\n",
       "    <tr>\n",
       "      <th>3</th>\n",
       "      <td>EML1</td>\n",
       "      <td>ENSG00000066629</td>\n",
       "      <td>24.701397</td>\n",
       "      <td>7.633869</td>\n",
       "      <td>5.842132</td>\n",
       "      <td>5.149179</td>\n",
       "      <td>29.604076</td>\n",
       "      <td>15.084108</td>\n",
       "      <td>30.669290</td>\n",
       "      <td>135.100074</td>\n",
       "      <td>...</td>\n",
       "      <td>0.000000</td>\n",
       "      <td>27.478616</td>\n",
       "      <td>22.957617</td>\n",
       "      <td>0.604542</td>\n",
       "      <td>90.533172</td>\n",
       "      <td>74.463574</td>\n",
       "      <td>79.187879</td>\n",
       "      <td>25.493800</td>\n",
       "      <td>25.917323</td>\n",
       "      <td>32.528112</td>\n",
       "    </tr>\n",
       "    <tr>\n",
       "      <th>4</th>\n",
       "      <td>ABCA9</td>\n",
       "      <td>ENSG00000154258</td>\n",
       "      <td>0.000000</td>\n",
       "      <td>2.683498</td>\n",
       "      <td>0.000000</td>\n",
       "      <td>0.000000</td>\n",
       "      <td>0.652424</td>\n",
       "      <td>0.000000</td>\n",
       "      <td>0.065451</td>\n",
       "      <td>0.000000</td>\n",
       "      <td>...</td>\n",
       "      <td>0.000000</td>\n",
       "      <td>0.031426</td>\n",
       "      <td>0.000000</td>\n",
       "      <td>0.096449</td>\n",
       "      <td>0.199749</td>\n",
       "      <td>0.000000</td>\n",
       "      <td>0.040907</td>\n",
       "      <td>0.000000</td>\n",
       "      <td>0.033571</td>\n",
       "      <td>0.177808</td>\n",
       "    </tr>\n",
       "  </tbody>\n",
       "</table>\n",
       "<p>5 rows × 46 columns</p>\n",
       "</div>"
      ],
      "text/plain": [
       "  HGNC_ID       Ensembl_ID      184A1      184B5       21MT1        21NT  \\\n",
       "0  TSPAN6  ENSG00000000003  95.212548  95.698676   19.994674   44.057746   \n",
       "1    NFYA  ENSG00000001167  89.512619  94.154375  245.433541  286.092419   \n",
       "2   ABCB4  ENSG00000005471   0.000000   0.172734    0.231762    0.000000   \n",
       "3    EML1  ENSG00000066629  24.701397   7.633869    5.842132    5.149179   \n",
       "4   ABCA9  ENSG00000154258   0.000000   2.683498    0.000000    0.000000   \n",
       "\n",
       "       600MPE      AU565       BT474       BT483    ...       SUM149PT  \\\n",
       "0  178.158832  13.460144   37.879666   69.092581    ...      34.322919   \n",
       "1  125.193255  68.907655  167.815672  152.752421    ...      77.391314   \n",
       "2    0.757785   2.976117    1.210384    1.670807    ...       0.000000   \n",
       "3   29.604076  15.084108   30.669290  135.100074    ...       0.000000   \n",
       "4    0.652424   0.000000    0.065451    0.000000    ...       0.000000   \n",
       "\n",
       "     SUM159PT   SUM225CWN    SUM229PE     SUM52PE       T47D     UACC812  \\\n",
       "0   84.116269   30.797927   39.425097  129.418091  82.748694   26.579280   \n",
       "1  148.816160  101.402401  111.108369  102.457186  61.650437  138.140311   \n",
       "2    3.098289    1.006138    0.000000    0.784523   1.261100    0.440649   \n",
       "3   27.478616   22.957617    0.604542   90.533172  74.463574   79.187879   \n",
       "4    0.031426    0.000000    0.096449    0.199749   0.000000    0.040907   \n",
       "\n",
       "       ZR751      ZR7530      ZR75B  \n",
       "0  31.812999  121.459918   2.293898  \n",
       "1  68.458022   73.910964  61.625519  \n",
       "2   0.548865    0.611036   0.556531  \n",
       "3  25.493800   25.917323  32.528112  \n",
       "4   0.000000    0.033571   0.177808  \n",
       "\n",
       "[5 rows x 46 columns]"
      ]
     },
     "execution_count": 2,
     "metadata": {},
     "output_type": "execute_result"
    }
   ],
   "source": [
    "file_path = nci_dream.get_file('RNAseq_quantification.txt')\n",
    "d = pd.read_csv(file_path, sep='\\t')\n",
    "\n",
    "# At TOW, this data had no \"Excel Dates\" as gene ids so make sure that remains true\n",
    "assert not np.any(excel_utils.is_excel_date(d['HGNC_ID']))\n",
    "\n",
    "# Run manual conversions for known special cases in NCI Dream Gene Symbols\n",
    "d['HGNC_ID'] = nci_dream.convert_hgnc_id(d['HGNC_ID'])\n",
    "\n",
    "d.head()"
   ]
  },
  {
   "cell_type": "code",
   "execution_count": 3,
   "metadata": {
    "collapsed": false
   },
   "outputs": [
    {
     "name": "stdout",
     "output_type": "stream",
     "text": [
      "[Remove null values for column \"VALUE\"] Records before = 1625932, Records after = 1625932, Records removed = 0 (%0.00)\n"
     ]
    },
    {
     "data": {
      "text/html": [
       "<div>\n",
       "<table border=\"1\" class=\"dataframe\">\n",
       "  <thead>\n",
       "    <tr style=\"text-align: right;\">\n",
       "      <th></th>\n",
       "      <th>GENE_ID:HGNC</th>\n",
       "      <th>GENE_ID:ENSEMBL</th>\n",
       "      <th>CELL_LINE_ID</th>\n",
       "      <th>VALUE</th>\n",
       "    </tr>\n",
       "  </thead>\n",
       "  <tbody>\n",
       "    <tr>\n",
       "      <th>0</th>\n",
       "      <td>TSPAN6</td>\n",
       "      <td>ENSG00000000003</td>\n",
       "      <td>184A1</td>\n",
       "      <td>95.212548</td>\n",
       "    </tr>\n",
       "    <tr>\n",
       "      <th>1</th>\n",
       "      <td>NFYA</td>\n",
       "      <td>ENSG00000001167</td>\n",
       "      <td>184A1</td>\n",
       "      <td>89.512619</td>\n",
       "    </tr>\n",
       "    <tr>\n",
       "      <th>2</th>\n",
       "      <td>ABCB4</td>\n",
       "      <td>ENSG00000005471</td>\n",
       "      <td>184A1</td>\n",
       "      <td>0.000000</td>\n",
       "    </tr>\n",
       "    <tr>\n",
       "      <th>3</th>\n",
       "      <td>EML1</td>\n",
       "      <td>ENSG00000066629</td>\n",
       "      <td>184A1</td>\n",
       "      <td>24.701397</td>\n",
       "    </tr>\n",
       "    <tr>\n",
       "      <th>4</th>\n",
       "      <td>ABCA9</td>\n",
       "      <td>ENSG00000154258</td>\n",
       "      <td>184A1</td>\n",
       "      <td>0.000000</td>\n",
       "    </tr>\n",
       "  </tbody>\n",
       "</table>\n",
       "</div>"
      ],
      "text/plain": [
       "  GENE_ID:HGNC  GENE_ID:ENSEMBL CELL_LINE_ID      VALUE\n",
       "0       TSPAN6  ENSG00000000003        184A1  95.212548\n",
       "1         NFYA  ENSG00000001167        184A1  89.512619\n",
       "2        ABCB4  ENSG00000005471        184A1   0.000000\n",
       "3         EML1  ENSG00000066629        184A1  24.701397\n",
       "4        ABCA9  ENSG00000154258        184A1   0.000000"
      ]
     },
     "execution_count": 3,
     "metadata": {},
     "output_type": "execute_result"
    }
   ],
   "source": [
    "d = d.rename(columns={'HGNC_ID': 'GENE_ID:HGNC', 'Ensembl_ID': 'GENE_ID:ENSEMBL'})\n",
    "id_vars = ['GENE_ID:HGNC', 'GENE_ID:ENSEMBL']\n",
    "\n",
    "# assert d.groupby('GENE_ID:HGNC')['GENE_ID:ENSEMBL'].nunique().max() == 1\n",
    "# assert d.groupby('GENE_ID:ENSEMBL')['GENE_ID:HGNC'].nunique().max() == 1\n",
    "\n",
    "d = pd.melt(d, id_vars=id_vars, value_name='VALUE', var_name='CELL_LINE_ID')\n",
    "\n",
    "# Ensure no gene + cell line combos are repeated\n",
    "assert d.groupby(id_vars + ['CELL_LINE_ID']).size().max() == 1\n",
    "\n",
    "# Remove records with null values\n",
    "d = subset(d, lambda df: df[df['VALUE'].notnull()], subset_op='Remove null values for column \"VALUE\"')\n",
    "\n",
    "# Ensure all objects are strings\n",
    "assertion_utils.assert_object_types(d)\n",
    "\n",
    "d.head()"
   ]
  },
  {
   "cell_type": "code",
   "execution_count": 4,
   "metadata": {
    "collapsed": false
   },
   "outputs": [
    {
     "name": "stdout",
     "output_type": "stream",
     "text": [
      "<class 'pandas.core.frame.DataFrame'>\n",
      "Int64Index: 1625932 entries, 0 to 1625931\n",
      "Data columns (total 4 columns):\n",
      "GENE_ID:HGNC       1625932 non-null object\n",
      "GENE_ID:ENSEMBL    1625932 non-null object\n",
      "CELL_LINE_ID       1625932 non-null object\n",
      "VALUE              1625932 non-null float64\n",
      "dtypes: float64(1), object(3)\n",
      "memory usage: 62.0+ MB\n"
     ]
    }
   ],
   "source": [
    "d.info()"
   ]
  },
  {
   "cell_type": "markdown",
   "metadata": {},
   "source": [
    "## Aggregate Measurement Replicates"
   ]
  },
  {
   "cell_type": "code",
   "execution_count": 5,
   "metadata": {
    "collapsed": false
   },
   "outputs": [
    {
     "data": {
      "text/html": [
       "<div>\n",
       "<table border=\"1\" class=\"dataframe\">\n",
       "  <thead>\n",
       "    <tr style=\"text-align: right;\">\n",
       "      <th></th>\n",
       "      <th>CELL_LINE_ID</th>\n",
       "      <th>GENE_ID:HGNC</th>\n",
       "      <th>VALUE_CT</th>\n",
       "      <th>VALUE_MEAN</th>\n",
       "      <th>VALUE_STD</th>\n",
       "    </tr>\n",
       "  </thead>\n",
       "  <tbody>\n",
       "    <tr>\n",
       "      <th>0</th>\n",
       "      <td>184A1</td>\n",
       "      <td>5S_rRNA</td>\n",
       "      <td>414</td>\n",
       "      <td>0.127688</td>\n",
       "      <td>1.071953</td>\n",
       "    </tr>\n",
       "    <tr>\n",
       "      <th>1</th>\n",
       "      <td>184A1</td>\n",
       "      <td>5_8S_rRNA</td>\n",
       "      <td>5</td>\n",
       "      <td>113.279618</td>\n",
       "      <td>253.300926</td>\n",
       "    </tr>\n",
       "    <tr>\n",
       "      <th>2</th>\n",
       "      <td>184A1</td>\n",
       "      <td>7SK</td>\n",
       "      <td>233</td>\n",
       "      <td>1.236219</td>\n",
       "      <td>15.977855</td>\n",
       "    </tr>\n",
       "    <tr>\n",
       "      <th>3</th>\n",
       "      <td>184A1</td>\n",
       "      <td>A1BG</td>\n",
       "      <td>1</td>\n",
       "      <td>0.304122</td>\n",
       "      <td>0.000000</td>\n",
       "    </tr>\n",
       "    <tr>\n",
       "      <th>4</th>\n",
       "      <td>184A1</td>\n",
       "      <td>A1CF</td>\n",
       "      <td>1</td>\n",
       "      <td>0.000000</td>\n",
       "      <td>0.000000</td>\n",
       "    </tr>\n",
       "  </tbody>\n",
       "</table>\n",
       "</div>"
      ],
      "text/plain": [
       "  CELL_LINE_ID GENE_ID:HGNC  VALUE_CT  VALUE_MEAN   VALUE_STD\n",
       "0        184A1      5S_rRNA       414    0.127688    1.071953\n",
       "1        184A1    5_8S_rRNA         5  113.279618  253.300926\n",
       "2        184A1          7SK       233    1.236219   15.977855\n",
       "3        184A1         A1BG         1    0.304122    0.000000\n",
       "4        184A1         A1CF         1    0.000000    0.000000"
      ]
     },
     "execution_count": 5,
     "metadata": {},
     "output_type": "execute_result"
    }
   ],
   "source": [
    "d_agg = d.groupby(['CELL_LINE_ID', 'GENE_ID:HGNC'])['VALUE']\\\n",
    "    .agg({'VALUE_MEAN': np.mean, 'VALUE_STD': np.std, 'VALUE_CT': 'count'}).reset_index()\n",
    "d_agg['VALUE_STD'] = d_agg['VALUE_STD'].fillna(0)\n",
    "d_agg.head()"
   ]
  },
  {
   "cell_type": "code",
   "execution_count": 6,
   "metadata": {
    "collapsed": false
   },
   "outputs": [
    {
     "name": "stdout",
     "output_type": "stream",
     "text": [
      "<class 'pandas.core.frame.DataFrame'>\n",
      "RangeIndex: 1326776 entries, 0 to 1326775\n",
      "Data columns (total 5 columns):\n",
      "CELL_LINE_ID    1326776 non-null object\n",
      "GENE_ID:HGNC    1326776 non-null object\n",
      "VALUE_CT        1326776 non-null int64\n",
      "VALUE_MEAN      1326776 non-null float64\n",
      "VALUE_STD       1326776 non-null float64\n",
      "dtypes: float64(2), int64(1), object(2)\n",
      "memory usage: 50.6+ MB\n"
     ]
    }
   ],
   "source": [
    "d_agg.info()"
   ]
  },
  {
   "cell_type": "code",
   "execution_count": 7,
   "metadata": {
    "collapsed": false
   },
   "outputs": [
    {
     "data": {
      "image/png": "[encoded data removed]",
      "text/plain": [
       "<matplotlib.figure.Figure at 0x10fcae470>"
      ]
     },
     "metadata": {},
     "output_type": "display_data"
    }
   ],
   "source": [
    "%matplotlib inline\n",
    "ax = d_agg['VALUE_MEAN'].apply(np.log1p).hist(bins=100)\n",
    "ax.set_yscale('symlog')"
   ]
  },
  {
   "cell_type": "markdown",
   "metadata": {},
   "source": [
    "## Export"
   ]
  },
  {
   "cell_type": "code",
   "execution_count": 8,
   "metadata": {
    "collapsed": false
   },
   "outputs": [
    {
     "data": {
      "text/plain": [
       "'/Users/eczech/data/research/mgds/import/ncidream_v1_gene-rna-seq.pkl'"
      ]
     },
     "execution_count": 8,
     "metadata": {},
     "output_type": "execute_result"
    }
   ],
   "source": [
    "assertion_utils.assert_object_types(d_agg)\n",
    "assert np.all(pd.notnull(d_agg))\n",
    "db.save(d_agg, src.NCIDREAM_v1, db.IMPORT, 'gene-rna-seq')"
   ]
  }
 ],
 "metadata": {
  "kernelspec": {
   "display_name": "Python 3",
   "language": "python",
   "name": "python3"
  },
  "language_info": {
   "codemirror_mode": {
    "name": "ipython",
    "version": 3
   },
   "file_extension": ".py",
   "mimetype": "text/x-python",
   "name": "python",
   "nbconvert_exporter": "python",
   "pygments_lexer": "ipython3",
   "version": "3.5.2"
  }
 },
 "nbformat": 4,
 "nbformat_minor": 0
}
