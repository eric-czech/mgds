{
 "cells": [
  {
   "cell_type": "markdown",
   "metadata": {},
   "source": [
    "<center><h1>Source Documentation</h1></center>\n",
    "\n",
    "See this [paper](http://www.sciencedirect.com/science/article/pii/S1672022915000066) for an overview of genomic and drug resources (including all of the following).  This paper outlines the following sources\n",
    "\n",
    "- [Cancer Genomics Hub (CGHub)](https://cghub.ucsc.edu/)\n",
    "    - Hosts data for TCGA, NCI, and CCLE\n",
    "    - Hosted by UC Santa Cruz, but is now served out of a nih domain at: https://gdc.cancer.gov/\n",
    "        - The data portal for this information can be found here: https://gdc-portal.nci.nih.gov/\n",
    "- [The European Genome-phenome Archive (EGA)]()\n",
    "    - \"Somatic variant data are openly accessible at the ICGC Data Portal\": https://dcc.icgc.org/repositories\n",
    "    - Appears to only contain whole genome sequencing data, clinical data, and RNA-seq data\n",
    "    - Data seems to be hosted per-patient (ie it is not aggregated yet)\n",
    "- TODO: finish this list in the paper (it also includes COSMIC and cBioPortal/CGDS)\n",
    "\n",
    "\n",
    "# Memorial Sloan Kettering \n",
    "\n",
    "### [CGDS](http://www.cbioportal.org/about_us.jsp)\n",
    "\n",
    "- Has data for:\n",
    "    - NCI 60\n",
    "    - TCGA\n",
    "    - Broad Institute\n",
    "    - CCLE\n",
    "- The cBioPortal for Cancer Genomics was originally developed at Memorial Sloan Kettering Cancer Center (MSK). The public cBioPortal site is hosted by the Center for Molecular Oncology at MSK. The cBioPortal software is now available under an open source license via GitHub. The software is now developed and maintained by a multi-institutional team, consisting of MSK, the Dana Farber Cancer Institute, Princess Margaret Cancer Centre in Toronto, Children's Hospital of Philadelphia, The Hyve in the Netherlands, and Bilkent University in Ankara, Turkey.\n",
    "- Funding is at least partially provided by \"NCI, as a **TCGA** Genome Data Analysis Center (GDAC) \"\n",
    "\n",
    "\n",
    "# Sanger Institute\n",
    "\n",
    "### [COSMIC](http://cancer.sanger.ac.uk/cosmic) (aka GDSC - Genomics of Drug Sensitivity in Cancer)\n",
    "\n",
    "- Collaboration between Mass General (Harvard) and Sanger Institute\n",
    "    - Also Cancer Genome Project and Center for Molecular Therapeutics\n",
    "- COSMIC is just a front end for exploring the GDSC data and the Downloads page for COSMIC/GDSC data links here: http://www.cancerrxgene.org/downloads\n",
    "- All of the above files for the newest release are mostly excel files served from: ftp://ftp.sanger.ac.uk/pub/project/cancerrxgene/releases/release-6.0/\n",
    "- There are also previous releases available at ftp://ftp.sanger.ac.uk/pub/project/cancerrxgene/releases/\n",
    "    - The \"release-5.0\" sensitivity data was the original \"COSMIC\" data used w/ Stephen\n",
    "\n",
    "\n",
    "\n",
    "# Broad Institute (MIT) Affiliate Projects\n",
    "\n",
    "### [CTRP](http://portals.broadinstitute.org/ctrp/)\n",
    "\n",
    "- Broad Institute (MIT)\n",
    "- Sponsored in part by CTD^2 (Cancer Target Discovery and Development Network)\n",
    "\n",
    "    \n",
    "### CCLE \n",
    "\n",
    "- Broad Institute (MIT)\n",
    "\n",
    "### CTD\n",
    "\n",
    "- Broad Institute (MIT)\n",
    "- Can be synonymous with CCLE in some contexts\n",
    "\n",
    "\n",
    "### [DTP](https://dtp.cancer.gov/)\n",
    "\n",
    "- Developmental Therapeutics Program\n",
    "- Part of NCI (National Cancer Institute), which is part of NIH\n",
    "- Contains NCI60 data, but may also contain useful sensitivity data [here](https://dtp.cancer.gov/databases_tools/bulk_data.htm)\n",
    "- According to this [paper](https://www.ncbi.nlm.nih.gov/pmc/articles/PMC3406063/): \"The NCI-60 is a panel of 60 human cancer cell lines used by the Developmental Therapeutics Program (DTP)\"\n",
    "\n",
    "\n",
    "# Other\n",
    "\n",
    "## HPA\n",
    "    - http://amp.pharm.mssm.edu/Harmonizome/dataset/HPA+Cell+Line+Gene+Expression+Profiles\n",
    "    \n",
    "## Broad Firehose\n",
    "    - http://firebrowse.org/api-docs/"
   ]
  },
  {
   "cell_type": "code",
   "execution_count": 5,
   "metadata": {
    "collapsed": true
   },
   "outputs": [],
   "source": [
    "%run -m ipy_startup\n",
    "%matplotlib inline"
   ]
  },
  {
   "cell_type": "code",
   "execution_count": 10,
   "metadata": {
    "collapsed": false
   },
   "outputs": [
    {
     "data": {
      "text/plain": [
       "<matplotlib.axes._subplots.AxesSubplot at 0x1192eb4a8>"
      ]
     },
     "execution_count": 10,
     "metadata": {},
     "output_type": "execute_result"
    },
    {
     "data": {
      "image/png": "[encoded data removed]",
      "text/plain": [
       "<matplotlib.figure.Figure at 0x1192b1e48>"
      ]
     },
     "metadata": {},
     "output_type": "display_data"
    }
   ],
   "source": [
    "\n",
    "from scipy import stats\n",
    "dist = stats.t(df=3, loc=3, scale=10)\n",
    "pd.Series(dist.rvs(size=1000)).plot(kind='kde')"
   ]
  },
  {
   "cell_type": "code",
   "execution_count": null,
   "metadata": {
    "collapsed": true
   },
   "outputs": [],
   "source": []
  }
 ],
 "metadata": {
  "kernelspec": {
   "display_name": "Python 3",
   "language": "python",
   "name": "python3"
  },
  "language_info": {
   "codemirror_mode": {
    "name": "ipython",
    "version": 3
   },
   "file_extension": ".py",
   "mimetype": "text/x-python",
   "name": "python",
   "nbconvert_exporter": "python",
   "pygments_lexer": "ipython3",
   "version": "3.5.2"
  }
 },
 "nbformat": 4,
 "nbformat_minor": 0
}
