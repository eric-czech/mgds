{
 "cells": [
  {
   "cell_type": "code",
   "execution_count": 66,
   "metadata": {
    "collapsed": false
   },
   "outputs": [],
   "source": [
    "%run -m ipy_startup\n",
    "import nbformat\n",
    "from nbconvert.preprocessors import ExecutePreprocessor\n",
    "from mgds.data_aggregation import config"
   ]
  },
  {
   "cell_type": "code",
   "execution_count": 63,
   "metadata": {
    "collapsed": false
   },
   "outputs": [],
   "source": [
    "def get_notebooks(regex):\n",
    "    notebook_dir = config.IMPORT_NOTEBOOK_DIR\n",
    "    \n",
    "    # Find all ipynb files under notebook directory\n",
    "    sources = !find $notebook_dir | grep \"ipynb$\" | grep -v ipynb_checkpoints\n",
    "    notebooks = pd.Series(list(sources))\n",
    "    \n",
    "    # Filter to only notebook paths matching the given regex\n",
    "    return list(notebooks[notebooks.str.contains(regex)])"
   ]
  },
  {
   "cell_type": "code",
   "execution_count": 69,
   "metadata": {
    "collapsed": false
   },
   "outputs": [
    {
     "data": {
      "text/plain": [
       "['/Users/eczech/repos/mgds/python/notebook/data_aggregation/import/hugo/v1/gene_meta.ipynb']"
      ]
     },
     "execution_count": 69,
     "metadata": {},
     "output_type": "execute_result"
    }
   ],
   "source": [
    "#get_notebooks('gdsc/v1')\n",
    "nb_files = get_notebooks('hugo')\n",
    "nb_files"
   ]
  },
  {
   "cell_type": "code",
   "execution_count": 72,
   "metadata": {
    "collapsed": false
   },
   "outputs": [
    {
     "data": {
      "text/plain": [
       "'gene_meta.ipynb'"
      ]
     },
     "execution_count": 72,
     "metadata": {},
     "output_type": "execute_result"
    }
   ],
   "source": [
    "os.path.basename('/Users/eczech/repos/mgds/python/notebook/data_aggregation/import/hugo/v1/gene_meta.ipynb')"
   ]
  },
  {
   "cell_type": "code",
   "execution_count": 75,
   "metadata": {
    "collapsed": false
   },
   "outputs": [
    {
     "name": "stdout",
     "output_type": "stream",
     "text": [
      "Executing notebook \"/Users/eczech/repos/mgds/python/notebook/data_aggregation/import/hugo/v1/gene_meta.ipynb\"\n",
      "Writing results to notebook \"/Users/eczech/repos/mgds/python/notebook/data_aggregation/import/hugo/v1/exec/gene_meta.ipynb\"\n"
     ]
    }
   ],
   "source": [
    "def execute_notebook(nb_file, exec_processor):\n",
    "    print('Executing notebook \"{}\"'.format(nb_file))\n",
    "    \n",
    "    exec_path = os.path.join(os.path.dirname(nb_file), 'exec')\n",
    "    if not os.path.exists(exec_path):\n",
    "        os.mkdir(exec_path)\n",
    "\n",
    "    nb_file_out = os.path.join(exec_path, os.path.basename(nb_file))\n",
    "    \n",
    "    with open(nb_file) as f:\n",
    "        nb = nbformat.read(f, as_version=4)\n",
    "\n",
    "    try:\n",
    "        out = ep.preprocess(nb, {'metadata': {'path': exec_path}})\n",
    "    except CellExecutionError:\n",
    "        msg = 'Error executing the notebook \"%s\".\\n\\n' % notebook_filename\n",
    "        msg += 'See notebook \"%s\" for the traceback.' % notebook_filename_out\n",
    "        print(msg)\n",
    "        raise\n",
    "    finally:\n",
    "        print('Writing results to notebook \"{}\"'.format(nb_file_out))\n",
    "        with open(nb_file_out, mode='wt') as f:\n",
    "            nbformat.write(nb, f)\n",
    "            \n",
    "def execute_notebooks(nb_files):\n",
    "    ep = ExecutePreprocessor(timeout=600, kernel_name='python3')\n",
    "    for nb_file in nb_files:\n",
    "        execute_notebook(nb_file, ep)\n",
    "        \n",
    "execute_notebooks(nb_files)"
   ]
  },
  {
   "cell_type": "code",
   "execution_count": null,
   "metadata": {
    "collapsed": true
   },
   "outputs": [],
   "source": []
  }
 ],
 "metadata": {
  "kernelspec": {
   "display_name": "Python 3",
   "language": "python",
   "name": "python3"
  },
  "language_info": {
   "codemirror_mode": {
    "name": "ipython",
    "version": 3
   },
   "file_extension": ".py",
   "mimetype": "text/x-python",
   "name": "python",
   "nbconvert_exporter": "python",
   "pygments_lexer": "ipython3",
   "version": "3.5.2"
  }
 },
 "nbformat": 4,
 "nbformat_minor": 0
}
