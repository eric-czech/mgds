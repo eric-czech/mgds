{
 "cells": [
  {
   "cell_type": "markdown",
   "metadata": {},
   "source": [
    "# Across-Source Drug Name Mapping\n",
    "**Local Version**: 1\n",
    "**Source Version**: NA\n",
    "\n",
    "Maps drug ids/names across sources to create a global lookup table."
   ]
  },
  {
   "cell_type": "code",
   "execution_count": 30,
   "metadata": {
    "collapsed": true
   },
   "outputs": [],
   "source": [
    "%run -m ipy_startup\n",
    "%run -m ipy_logging\n",
    "from mgds.data_aggregation import database as db\n",
    "from mgds.data_aggregation import source as src\n",
    "from mgds.data_aggregation import io_utils as io\n",
    "from mgds.data_aggregation import entity\n",
    "from mgds.data_aggregation import data_type as dtyp\n",
    "from py_utils import set_utils, assertion_utils\n",
    "pd.set_option('display.max_info_rows', 50000000)\n",
    "pd.set_option('display.max_colwidth', 10000)"
   ]
  },
  {
   "cell_type": "markdown",
   "metadata": {},
   "source": [
    "## Load All Drug Sensitivity Data"
   ]
  },
  {
   "cell_type": "code",
   "execution_count": 31,
   "metadata": {
    "collapsed": false
   },
   "outputs": [
    {
     "name": "stderr",
     "output_type": "stream",
     "text": [
      "2016-12-08 13:15:44,953:DEBUG:mgds.data_aggregation.entity: Processing source \"gdsc_v2\", data type \"drug-sensitivity\"\n",
      "2016-12-08 13:15:45,094:DEBUG:mgds.data_aggregation.entity: Processing source \"nci60_v2\", data type \"drug-sensitivity\"\n",
      "2016-12-08 13:15:45,514:DEBUG:mgds.data_aggregation.entity: Processing source \"ctd_v2\", data type \"drug-sensitivity\"\n",
      "2016-12-08 13:15:45,675:DEBUG:mgds.data_aggregation.entity: Processing source \"ncidream_v1\", data type \"drug-sensitivity\"\n"
     ]
    }
   ],
   "source": [
    "sources = [src.GDSC_v2, src.NCI60_v2, src.CTD_v2, src.NCIDREAM_v1]\n",
    "data_types = ['drug-sensitivity']\n",
    "m_id = entity.get_raw_entities(sources, data_types, 'DRUG_|SMILE')"
   ]
  },
  {
   "cell_type": "code",
   "execution_count": 32,
   "metadata": {
    "collapsed": false
   },
   "outputs": [
    {
     "name": "stdout",
     "output_type": "stream",
     "text": [
      "gdsc_v2 Index(['DRUG_ID:COSMIC', 'DRUG_NAME', 'DATA_TYPE', 'SOURCE'], dtype='object')\n",
      "ctd_v2 Index(['DRUG_ID:CTD', 'SMILES', 'DRUG_NAME', 'DRUG_ID:BROAD', 'DATA_TYPE',\n",
      "       'SOURCE'],\n",
      "      dtype='object')\n",
      "nci60_v2 Index(['DRUG_NAME', 'DRUG_ID:NSC', 'SMILES', 'DRUG_ID:PUBCHEM', 'DATA_TYPE',\n",
      "       'SOURCE'],\n",
      "      dtype='object')\n",
      "ncidream_v1 Index(['DRUG_NAME', 'DATA_TYPE', 'SOURCE'], dtype='object', name='DATA_TYPE')\n"
     ]
    }
   ],
   "source": [
    "for k, m in m_id.items():\n",
    "    print(k, m['drug-sensitivity'].columns)"
   ]
  },
  {
   "cell_type": "code",
   "execution_count": 33,
   "metadata": {
    "collapsed": false
   },
   "outputs": [
    {
     "data": {
      "text/plain": [
       "array([], dtype=object)"
      ]
     },
     "execution_count": 33,
     "metadata": {},
     "output_type": "execute_result"
    }
   ],
   "source": [
    "d_nci60 = m_id[src.NCI60_v2]['drug-sensitivity']\n",
    "d_nci60_dupes = d_nci60[d_nci60['DRUG_NAME'].duplicated()]['DRUG_NAME'].unique()\n",
    "d_nci60_dupes"
   ]
  },
  {
   "cell_type": "code",
   "execution_count": 34,
   "metadata": {
    "collapsed": false
   },
   "outputs": [
    {
     "data": {
      "text/html": [
       "<div>\n",
       "<table border=\"1\" class=\"dataframe\">\n",
       "  <thead>\n",
       "    <tr style=\"text-align: right;\">\n",
       "      <th></th>\n",
       "      <th>DRUG_NAME</th>\n",
       "      <th>DRUG_ID:NSC</th>\n",
       "      <th>SMILES</th>\n",
       "      <th>DRUG_ID:PUBCHEM</th>\n",
       "      <th>DATA_TYPE</th>\n",
       "      <th>SOURCE</th>\n",
       "    </tr>\n",
       "  </thead>\n",
       "  <tbody>\n",
       "    <tr>\n",
       "      <th>18650</th>\n",
       "      <td>\"ether-20\"</td>\n",
       "      <td>676532</td>\n",
       "      <td>OC(=O)C1234B567B89%10B%11%12%13B8%14%15B%11%16%17B%12%18%19B59%13B16%18C2%16%19(COCC%20%21%22%23B%24%25%26B%27%28%29B%30%31%32B%27%33%34B%20%24%28B%21%33%35B%30%34%36B%31%37%38B%25%29%32B%22%26%37C%23%35%36%38C(=O)O)B3%14%17B47%10%15</td>\n",
       "      <td>NaN</td>\n",
       "      <td>drug-sensitivity</td>\n",
       "      <td>nci60_v2</td>\n",
       "    </tr>\n",
       "    <tr>\n",
       "      <th>156488</th>\n",
       "      <td>(+)-.alpha.-viniferin</td>\n",
       "      <td>655524</td>\n",
       "      <td>Oc1ccc(cc1)C2Oc3cc(O)cc4C5C(Oc6cc(O)cc(C7C(Oc8cc(O)cc(C2c34)c78)c9ccc(O)cc9)c56)c%10ccc(O)cc%10</td>\n",
       "      <td>506835.0</td>\n",
       "      <td>drug-sensitivity</td>\n",
       "      <td>nci60_v2</td>\n",
       "    </tr>\n",
       "    <tr>\n",
       "      <th>18080</th>\n",
       "      <td>(+)-6-bromo-3-bromomethyl-2,3,7-trichloro-7-methyl-1-octene</td>\n",
       "      <td>673502</td>\n",
       "      <td>CC(C)(Cl)C(Br)CCC(Cl)(CBr)C(=C)Cl</td>\n",
       "      <td>NaN</td>\n",
       "      <td>drug-sensitivity</td>\n",
       "      <td>nci60_v2</td>\n",
       "    </tr>\n",
       "    <tr>\n",
       "      <th>27435</th>\n",
       "      <td>(+)-leucascandrolide a</td>\n",
       "      <td>727718</td>\n",
       "      <td>CO[C@H]1CC2CC(CC(CC(=O)O[C@H](C[C@@H]3CCC(C)C(C1)O3)\\C=C\\CC(C)C)O2)OC(=O)\\C=C/CCc4coc(\\C=C/CNC(=O)OC)n4</td>\n",
       "      <td>48427463.0</td>\n",
       "      <td>drug-sensitivity</td>\n",
       "      <td>nci60_v2</td>\n",
       "    </tr>\n",
       "    <tr>\n",
       "      <th>28875</th>\n",
       "      <td>(+)-membrenone b</td>\n",
       "      <td>740825</td>\n",
       "      <td>CCC(=O)O[C@@H]([C@H](C)[C@H]1OC(=C(C)C(=O)[C@@H]1C)CC)[C@@H](C)C(=O)CC</td>\n",
       "      <td>91146000.0</td>\n",
       "      <td>drug-sensitivity</td>\n",
       "      <td>nci60_v2</td>\n",
       "    </tr>\n",
       "  </tbody>\n",
       "</table>\n",
       "</div>"
      ],
      "text/plain": [
       "                                                          DRUG_NAME  \\\n",
       "18650                                                    \"ether-20\"   \n",
       "156488                                        (+)-.alpha.-viniferin   \n",
       "18080   (+)-6-bromo-3-bromomethyl-2,3,7-trichloro-7-methyl-1-octene   \n",
       "27435                                        (+)-leucascandrolide a   \n",
       "28875                                              (+)-membrenone b   \n",
       "\n",
       "        DRUG_ID:NSC  \\\n",
       "18650        676532   \n",
       "156488       655524   \n",
       "18080        673502   \n",
       "27435        727718   \n",
       "28875        740825   \n",
       "\n",
       "                                                                                                                                                                                                                                           SMILES  \\\n",
       "18650   OC(=O)C1234B567B89%10B%11%12%13B8%14%15B%11%16%17B%12%18%19B59%13B16%18C2%16%19(COCC%20%21%22%23B%24%25%26B%27%28%29B%30%31%32B%27%33%34B%20%24%28B%21%33%35B%30%34%36B%31%37%38B%25%29%32B%22%26%37C%23%35%36%38C(=O)O)B3%14%17B47%10%15   \n",
       "156488                                                                                                                                            Oc1ccc(cc1)C2Oc3cc(O)cc4C5C(Oc6cc(O)cc(C7C(Oc8cc(O)cc(C2c34)c78)c9ccc(O)cc9)c56)c%10ccc(O)cc%10   \n",
       "18080                                                                                                                                                                                                           CC(C)(Cl)C(Br)CCC(Cl)(CBr)C(=C)Cl   \n",
       "27435                                                                                                                                     CO[C@H]1CC2CC(CC(CC(=O)O[C@H](C[C@@H]3CCC(C)C(C1)O3)\\C=C\\CC(C)C)O2)OC(=O)\\C=C/CCc4coc(\\C=C/CNC(=O)OC)n4   \n",
       "28875                                                                                                                                                                      CCC(=O)O[C@@H]([C@H](C)[C@H]1OC(=C(C)C(=O)[C@@H]1C)CC)[C@@H](C)C(=O)CC   \n",
       "\n",
       "        DRUG_ID:PUBCHEM         DATA_TYPE    SOURCE  \n",
       "18650               NaN  drug-sensitivity  nci60_v2  \n",
       "156488         506835.0  drug-sensitivity  nci60_v2  \n",
       "18080               NaN  drug-sensitivity  nci60_v2  \n",
       "27435        48427463.0  drug-sensitivity  nci60_v2  \n",
       "28875        91146000.0  drug-sensitivity  nci60_v2  "
      ]
     },
     "execution_count": 34,
     "metadata": {},
     "output_type": "execute_result"
    }
   ],
   "source": [
    "dt = m_id[src.NCI60_v2]['drug-sensitivity']\n",
    "dt.head()\n",
    "\n",
    "#d2 = m_id[src.GDSC_v2]['drug-sensitivity']"
   ]
  },
  {
   "cell_type": "code",
   "execution_count": 35,
   "metadata": {
    "collapsed": false
   },
   "outputs": [
    {
     "data": {
      "text/html": [
       "<div>\n",
       "<table border=\"1\" class=\"dataframe\">\n",
       "  <thead>\n",
       "    <tr style=\"text-align: right;\">\n",
       "      <th></th>\n",
       "      <th>DRUG_NAME</th>\n",
       "      <th>DRUG_ID:NSC</th>\n",
       "      <th>SMILES</th>\n",
       "      <th>DRUG_ID:PUBCHEM</th>\n",
       "      <th>DATA_TYPE</th>\n",
       "      <th>SOURCE</th>\n",
       "    </tr>\n",
       "  </thead>\n",
       "  <tbody>\n",
       "    <tr>\n",
       "      <th>18087</th>\n",
       "      <td>7-Ethyl-10-hydroxycamptothecin</td>\n",
       "      <td>673596</td>\n",
       "      <td>CCc1c2CN3C(=O)C4=C(C=C3c2nc5ccc(O)cc15)[C@@](O)(CC)C(=O)OC4</td>\n",
       "      <td>515301.0</td>\n",
       "      <td>drug-sensitivity</td>\n",
       "      <td>nci60_v2</td>\n",
       "    </tr>\n",
       "    <tr>\n",
       "      <th>5197</th>\n",
       "      <td>Camptothecin</td>\n",
       "      <td>100880</td>\n",
       "      <td>[Na+].CC[C@](O)(C(=O)O)C1=C(CO)C(=O)N2Cc3cc4ccccc4nc3C2=C1</td>\n",
       "      <td>301160.0</td>\n",
       "      <td>drug-sensitivity</td>\n",
       "      <td>nci60_v2</td>\n",
       "    </tr>\n",
       "  </tbody>\n",
       "</table>\n",
       "</div>"
      ],
      "text/plain": [
       "                            DRUG_NAME  DRUG_ID:NSC  \\\n",
       "18087  7-Ethyl-10-hydroxycamptothecin       673596   \n",
       "5197                     Camptothecin       100880   \n",
       "\n",
       "                                                            SMILES  \\\n",
       "18087  CCc1c2CN3C(=O)C4=C(C=C3c2nc5ccc(O)cc15)[C@@](O)(CC)C(=O)OC4   \n",
       "5197    [Na+].CC[C@](O)(C(=O)O)C1=C(CO)C(=O)N2Cc3cc4ccccc4nc3C2=C1   \n",
       "\n",
       "       DRUG_ID:PUBCHEM         DATA_TYPE    SOURCE  \n",
       "18087         515301.0  drug-sensitivity  nci60_v2  \n",
       "5197          301160.0  drug-sensitivity  nci60_v2  "
      ]
     },
     "execution_count": 35,
     "metadata": {},
     "output_type": "execute_result"
    }
   ],
   "source": [
    "dt[dt['DRUG_NAME'].isin(['7-Ethyl-10-hydroxycamptothecin', 'Camptothecin'])]"
   ]
  },
  {
   "cell_type": "code",
   "execution_count": 36,
   "metadata": {
    "collapsed": false
   },
   "outputs": [],
   "source": [
    "#set_utils.analyze_sets(d1['DRUG_ID:PUBCHEM'].dropna().astype(np.int64).unique(), d2['DRUG_ID:COSMIC'].unique())"
   ]
  },
  {
   "cell_type": "markdown",
   "metadata": {},
   "source": [
    "## Load Drug Name Mappings"
   ]
  },
  {
   "cell_type": "code",
   "execution_count": 37,
   "metadata": {
    "collapsed": false
   },
   "outputs": [
    {
     "data": {
      "text/html": [
       "<div>\n",
       "<table border=\"1\" class=\"dataframe\">\n",
       "  <thead>\n",
       "    <tr style=\"text-align: right;\">\n",
       "      <th></th>\n",
       "      <th>SYNONYM</th>\n",
       "      <th>DRUG_NAME</th>\n",
       "    </tr>\n",
       "  </thead>\n",
       "  <tbody>\n",
       "    <tr>\n",
       "      <th>0</th>\n",
       "      <td>11DEOXOJERVINE</td>\n",
       "      <td>CYCLOPAMINE</td>\n",
       "    </tr>\n",
       "    <tr>\n",
       "      <th>1</th>\n",
       "      <td>25BENZO13DIOXOL5YL2TERTBUTYL3HIMIDAZOL4YL6METHYLPYRIDINEHYDROCHLORIDEHYDRATE</td>\n",
       "      <td>SB505124</td>\n",
       "    </tr>\n",
       "    <tr>\n",
       "      <th>2</th>\n",
       "      <td>3PHENYLN222TRICHLORO18QUINOLINYLAMINOTHIOXOMETHYLAMINOETHYL2PROPENAMIDE</td>\n",
       "      <td>SALUBRINAL</td>\n",
       "    </tr>\n",
       "    <tr>\n",
       "      <th>3</th>\n",
       "      <td>4BUTANOYLOXYMETHYLPHENYL2E4E6E8E37DIMETHYL9266TRIMETHYLCYCLOHEX1ENYLNONA2468TETRAENOATE</td>\n",
       "      <td>VNLG124</td>\n",
       "    </tr>\n",
       "    <tr>\n",
       "      <th>4</th>\n",
       "      <td>5FU</td>\n",
       "      <td>5FLUOROURACIL</td>\n",
       "    </tr>\n",
       "  </tbody>\n",
       "</table>\n",
       "</div>"
      ],
      "text/plain": [
       "                                                                                   SYNONYM  \\\n",
       "0                                                                           11DEOXOJERVINE   \n",
       "1             25BENZO13DIOXOL5YL2TERTBUTYL3HIMIDAZOL4YL6METHYLPYRIDINEHYDROCHLORIDEHYDRATE   \n",
       "2                  3PHENYLN222TRICHLORO18QUINOLINYLAMINOTHIOXOMETHYLAMINOETHYL2PROPENAMIDE   \n",
       "3  4BUTANOYLOXYMETHYLPHENYL2E4E6E8E37DIMETHYL9266TRIMETHYLCYCLOHEX1ENYLNONA2468TETRAENOATE   \n",
       "4                                                                                      5FU   \n",
       "\n",
       "       DRUG_NAME  \n",
       "0    CYCLOPAMINE  \n",
       "1       SB505124  \n",
       "2     SALUBRINAL  \n",
       "3        VNLG124  \n",
       "4  5FLUOROURACIL  "
      ]
     },
     "execution_count": 37,
     "metadata": {},
     "output_type": "execute_result"
    }
   ],
   "source": [
    "def clean_drug_name(x):\n",
    "    return entity.remove_non_alphanum(x).upper().strip()\n",
    "\n",
    "d_synonym = db.load(src.GDSC_v2, db.IMPORT, 'drug-synonyms')\n",
    "d_synonym['SYNONYM'] = d_synonym['SYNONYM'].apply(clean_drug_name)\n",
    "d_synonym['DRUG_NAME'] = d_synonym['DRUG_NAME'].apply(clean_drug_name)\n",
    "d_synonym.head()"
   ]
  },
  {
   "cell_type": "code",
   "execution_count": 38,
   "metadata": {
    "collapsed": true
   },
   "outputs": [],
   "source": [
    "import re\n",
    "regex = re.compile('[\\W_]+')\n",
    "\n",
    "m_synonym = d_synonym.set_index('SYNONYM')['DRUG_NAME'].to_dict()\n",
    "\n",
    "def default_id(v_clean):\n",
    "    # If clean drug name has a known synonym, return the drug name\n",
    "    # for this known mapping immediately\n",
    "    if v_clean in m_synonym:\n",
    "        return m_synonym[v_clean]\n",
    "    \n",
    "    # Otherwise, return the cleaned drug name as the ID\n",
    "    return v_clean\n",
    "\n",
    "def to_mgds_id(r):\n",
    "    source = r['SOURCE']\n",
    "    v = r['DRUG_NAME']\n",
    "    \n",
    "    fn = None\n",
    "    if pd.isnull(v):\n",
    "        return None\n",
    "    \n",
    "    v_clean = clean_drug_name(v)\n",
    "    \n",
    "    # NCI-60 Special Cases\n",
    "    if source == src.NCI60_v2:\n",
    "        if v == '(+)-6-bromo-3-bromomethyl-2,3,7-trichloro-7-methyl-1-octene':\n",
    "            return '6BROMO3BROMOMETHYL237TRICHLORO7METHYL1OCTENEPLUS'\n",
    "        if v == '(-)-6-bromo-3-bromomethyl-2,3,7-trichloro-7-methyl-1-octene':\n",
    "            return '6BROMO3BROMOMETHYL237TRICHLORO7METHYL1OCTENEMINUS'\n",
    "        if v == '(-)-avarol':\n",
    "            return 'AVAROLMINUS'\n",
    "        if v == 'avarol':\n",
    "            return 'AVAROL'\n",
    "        if v == 'crassin acetate':\n",
    "            return 'CRASSINACETATE1'\n",
    "        if v == 'crassin, acetate':\n",
    "            return 'CRASSINACETATE2'\n",
    "        if v == 'd.b.t.c.':\n",
    "            return 'DBTC1'\n",
    "        if v == 'dbtc':\n",
    "            return 'DBTC2'\n",
    "        if v == 'imidazole-5-one deri':\n",
    "            return 'IMIDAZOLE5ONEDERI1'\n",
    "        if v == 'imidazole-5-one deri.':\n",
    "            return 'IMIDAZOLE5ONEDERI2'\n",
    "        if v == '(+)-leucascandrolide a':\n",
    "            return 'LEUCASCANDROLIDEAPLUS'\n",
    "        if v == '(-)-leucascandrolide a':\n",
    "            return 'LEUCASCANDROLIDEAMINUS'\n",
    "        if v == '(z) 4-acetoxy-(3,4\\',5)-trimethoxystilbene':\n",
    "            return 'Z4ACETOXY345TRIMETHOXYSTILBENE1'\n",
    "        if v == '(z) 4-acetoxy-3\\',4\\',5\\'-trimethoxystilbene':\n",
    "            return 'Z4ACETOXY345TRIMETHOXYSTILBENE2'\n",
    "        \n",
    "        \n",
    "        return default_id(v_clean)\n",
    "    \n",
    "    # GDSC/COSMIC Special Cases\n",
    "    if source == src.GDSC_v2:\n",
    "        return default_id(v_clean)\n",
    "    \n",
    "    # CCLE Special Cases\n",
    "    if source == src.CTD_v2:\n",
    "        return default_id(v_clean)\n",
    "    \n",
    "    if source == src.NCIDREAM_v1:\n",
    "        return default_id(v_clean)\n",
    "\n",
    "    raise ValueError('Cell line normalization for source \"{}\" has not been implemented yet'.format(source))\n",
    "\n",
    "def aggregate(m_id):\n",
    "    r = []\n",
    "    for source in m_id.keys():\n",
    "        for data_type, d in m_id[source].items():\n",
    "            c_cl = d.filter(regex='DRUG_').columns.tolist()\n",
    "            #d_id = d.copy().assign(**{'DRUG_NAME:MGDS': to_mgds_ids(source, d['DRUG_NAME'])})\n",
    "            d_id = d.copy()\n",
    "            d_id['DRUG_NAME:MGDS'] = d_id.apply(to_mgds_id, axis=1)\n",
    "            for c in c_cl:\n",
    "                taxonomy = c.split(':')[1] if ':' in c else 'COMMON'\n",
    "                d_pt = d_id.assign(TAXONOMY=taxonomy)[['DRUG_NAME:MGDS', 'DATA_TYPE', 'SOURCE', 'TAXONOMY', c]]\n",
    "                d_pt = d_pt.rename(columns={c: 'DRUG_NAME'})\n",
    "                r.append(d_pt)\n",
    "    r = pd.concat(r).reset_index(drop=True)\n",
    "    assert np.all(r['DATA_TYPE'] == dtyp.DRUG_SENSITIVITY)\n",
    "    return r.drop('DATA_TYPE', axis=1)"
   ]
  },
  {
   "cell_type": "code",
   "execution_count": 39,
   "metadata": {
    "collapsed": false
   },
   "outputs": [],
   "source": [
    "d_id = aggregate(m_id)"
   ]
  },
  {
   "cell_type": "code",
   "execution_count": 40,
   "metadata": {
    "collapsed": false
   },
   "outputs": [
    {
     "data": {
      "text/html": [
       "<div>\n",
       "<table border=\"1\" class=\"dataframe\">\n",
       "  <thead>\n",
       "    <tr style=\"text-align: right;\">\n",
       "      <th>DATA_TYPE</th>\n",
       "      <th>DRUG_NAME:MGDS</th>\n",
       "      <th>SOURCE</th>\n",
       "      <th>TAXONOMY</th>\n",
       "      <th>DRUG_NAME</th>\n",
       "    </tr>\n",
       "  </thead>\n",
       "  <tbody>\n",
       "    <tr>\n",
       "      <th>0</th>\n",
       "      <td>17AAG</td>\n",
       "      <td>gdsc_v2</td>\n",
       "      <td>COSMIC</td>\n",
       "      <td>1026</td>\n",
       "    </tr>\n",
       "    <tr>\n",
       "      <th>1</th>\n",
       "      <td>VX702</td>\n",
       "      <td>gdsc_v2</td>\n",
       "      <td>COSMIC</td>\n",
       "      <td>1028</td>\n",
       "    </tr>\n",
       "    <tr>\n",
       "      <th>2</th>\n",
       "      <td>AMG706</td>\n",
       "      <td>gdsc_v2</td>\n",
       "      <td>COSMIC</td>\n",
       "      <td>1029</td>\n",
       "    </tr>\n",
       "    <tr>\n",
       "      <th>3</th>\n",
       "      <td>KU55933</td>\n",
       "      <td>gdsc_v2</td>\n",
       "      <td>COSMIC</td>\n",
       "      <td>1030</td>\n",
       "    </tr>\n",
       "    <tr>\n",
       "      <th>4</th>\n",
       "      <td>ELESCLOMOL</td>\n",
       "      <td>gdsc_v2</td>\n",
       "      <td>COSMIC</td>\n",
       "      <td>1031</td>\n",
       "    </tr>\n",
       "  </tbody>\n",
       "</table>\n",
       "</div>"
      ],
      "text/plain": [
       "DATA_TYPE DRUG_NAME:MGDS   SOURCE TAXONOMY DRUG_NAME\n",
       "0                  17AAG  gdsc_v2   COSMIC      1026\n",
       "1                  VX702  gdsc_v2   COSMIC      1028\n",
       "2                 AMG706  gdsc_v2   COSMIC      1029\n",
       "3                KU55933  gdsc_v2   COSMIC      1030\n",
       "4             ELESCLOMOL  gdsc_v2   COSMIC      1031"
      ]
     },
     "execution_count": 40,
     "metadata": {},
     "output_type": "execute_result"
    }
   ],
   "source": [
    "d_id.head()"
   ]
  },
  {
   "cell_type": "code",
   "execution_count": 41,
   "metadata": {
    "collapsed": false
   },
   "outputs": [
    {
     "name": "stdout",
     "output_type": "stream",
     "text": [
      "1    14795\n",
      "dtype: int64\n"
     ]
    },
    {
     "data": {
      "text/plain": [
       "Series([], dtype: int64)"
      ]
     },
     "execution_count": 41,
     "metadata": {},
     "output_type": "execute_result"
    }
   ],
   "source": [
    "# This should return no results when there are no duplicates\n",
    "cts = d_id.groupby(['SOURCE', 'TAXONOMY', 'DRUG_NAME:MGDS']).size()\n",
    "print(cts.value_counts())\n",
    "cts[cts > 1]"
   ]
  },
  {
   "cell_type": "code",
   "execution_count": 42,
   "metadata": {
    "collapsed": false
   },
   "outputs": [
    {
     "data": {
      "text/html": [
       "<div>\n",
       "<table border=\"1\" class=\"dataframe\">\n",
       "  <thead>\n",
       "    <tr style=\"text-align: right;\">\n",
       "      <th>DATA_TYPE</th>\n",
       "      <th>DRUG_NAME:MGDS</th>\n",
       "      <th>SOURCE</th>\n",
       "      <th>TAXONOMY</th>\n",
       "      <th>DRUG_NAME</th>\n",
       "    </tr>\n",
       "  </thead>\n",
       "  <tbody>\n",
       "    <tr>\n",
       "      <th>189</th>\n",
       "      <td>CAMPTOTHECIN</td>\n",
       "      <td>gdsc_v2</td>\n",
       "      <td>COSMIC</td>\n",
       "      <td>1003</td>\n",
       "    </tr>\n",
       "    <tr>\n",
       "      <th>440</th>\n",
       "      <td>CAMPTOTHECIN</td>\n",
       "      <td>gdsc_v2</td>\n",
       "      <td>COMMON</td>\n",
       "      <td>Camptothecin</td>\n",
       "    </tr>\n",
       "    <tr>\n",
       "      <th>3433</th>\n",
       "      <td>CAMPTOTHECIN</td>\n",
       "      <td>nci60_v2</td>\n",
       "      <td>COMMON</td>\n",
       "      <td>Camptothecin</td>\n",
       "    </tr>\n",
       "    <tr>\n",
       "      <th>7643</th>\n",
       "      <td>CAMPTOTHECIN</td>\n",
       "      <td>nci60_v2</td>\n",
       "      <td>NSC</td>\n",
       "      <td>100880</td>\n",
       "    </tr>\n",
       "    <tr>\n",
       "      <th>11853</th>\n",
       "      <td>CAMPTOTHECIN</td>\n",
       "      <td>nci60_v2</td>\n",
       "      <td>PUBCHEM</td>\n",
       "      <td>301160</td>\n",
       "    </tr>\n",
       "  </tbody>\n",
       "</table>\n",
       "</div>"
      ],
      "text/plain": [
       "DATA_TYPE DRUG_NAME:MGDS    SOURCE TAXONOMY     DRUG_NAME\n",
       "189         CAMPTOTHECIN   gdsc_v2   COSMIC          1003\n",
       "440         CAMPTOTHECIN   gdsc_v2   COMMON  Camptothecin\n",
       "3433        CAMPTOTHECIN  nci60_v2   COMMON  Camptothecin\n",
       "7643        CAMPTOTHECIN  nci60_v2      NSC        100880\n",
       "11853       CAMPTOTHECIN  nci60_v2  PUBCHEM        301160"
      ]
     },
     "execution_count": 42,
     "metadata": {},
     "output_type": "execute_result"
    }
   ],
   "source": [
    "d_id[d_id['DRUG_NAME:MGDS'] == 'CAMPTOTHECIN']"
   ]
  },
  {
   "cell_type": "code",
   "execution_count": 43,
   "metadata": {
    "collapsed": false
   },
   "outputs": [],
   "source": [
    "#d_id[(d_id['SOURCE'] == src.NCI60_v2) & (d_id['DRUG_NAME:MGDS'] == 'Z4ACETOXY345TRIMETHOXYSTILBENE')]"
   ]
  },
  {
   "cell_type": "code",
   "execution_count": 44,
   "metadata": {
    "collapsed": false
   },
   "outputs": [
    {
     "data": {
      "text/html": [
       "<div>\n",
       "<table border=\"1\" class=\"dataframe\">\n",
       "  <thead>\n",
       "    <tr>\n",
       "      <th>TAXONOMY</th>\n",
       "      <th>BROAD</th>\n",
       "      <th colspan=\"4\" halign=\"left\">COMMON</th>\n",
       "      <th>COSMIC</th>\n",
       "      <th>CTD</th>\n",
       "      <th>NSC</th>\n",
       "      <th>PUBCHEM</th>\n",
       "    </tr>\n",
       "    <tr>\n",
       "      <th>SOURCE</th>\n",
       "      <th>ctd_v2</th>\n",
       "      <th>ctd_v2</th>\n",
       "      <th>gdsc_v2</th>\n",
       "      <th>nci60_v2</th>\n",
       "      <th>ncidream_v1</th>\n",
       "      <th>gdsc_v2</th>\n",
       "      <th>ctd_v2</th>\n",
       "      <th>nci60_v2</th>\n",
       "      <th>nci60_v2</th>\n",
       "    </tr>\n",
       "    <tr>\n",
       "      <th>DRUG_NAME:MGDS</th>\n",
       "      <th></th>\n",
       "      <th></th>\n",
       "      <th></th>\n",
       "      <th></th>\n",
       "      <th></th>\n",
       "      <th></th>\n",
       "      <th></th>\n",
       "      <th></th>\n",
       "      <th></th>\n",
       "    </tr>\n",
       "  </thead>\n",
       "  <tbody>\n",
       "    <tr>\n",
       "      <th>010200</th>\n",
       "      <td>None</td>\n",
       "      <td>None</td>\n",
       "      <td>None</td>\n",
       "      <td>010200</td>\n",
       "      <td>None</td>\n",
       "      <td>None</td>\n",
       "      <td>None</td>\n",
       "      <td>529108</td>\n",
       "      <td>482905</td>\n",
       "    </tr>\n",
       "    <tr>\n",
       "      <th>1011METHYLENEDIOXY20RSCAMPTOTHECIN</th>\n",
       "      <td>None</td>\n",
       "      <td>None</td>\n",
       "      <td>None</td>\n",
       "      <td>10,11-methylenedioxy-20(rs)-camptothecin</td>\n",
       "      <td>None</td>\n",
       "      <td>None</td>\n",
       "      <td>None</td>\n",
       "      <td>606174</td>\n",
       "      <td>580568</td>\n",
       "    </tr>\n",
       "    <tr>\n",
       "      <th>1011METHYLENEDIOXYCAMPTOTHECIN</th>\n",
       "      <td>None</td>\n",
       "      <td>None</td>\n",
       "      <td>None</td>\n",
       "      <td>10,11-methylenedioxycamptothecin</td>\n",
       "      <td>None</td>\n",
       "      <td>None</td>\n",
       "      <td>None</td>\n",
       "      <td>634724</td>\n",
       "      <td>497235</td>\n",
       "    </tr>\n",
       "    <tr>\n",
       "      <th>1024DICHLOROPHENYL3METHYLFLAVIN</th>\n",
       "      <td>None</td>\n",
       "      <td>None</td>\n",
       "      <td>None</td>\n",
       "      <td>10-(2',4'-dichlorophenyl)-3-methylflavin</td>\n",
       "      <td>None</td>\n",
       "      <td>None</td>\n",
       "      <td>None</td>\n",
       "      <td>625537</td>\n",
       "      <td>492471</td>\n",
       "    </tr>\n",
       "    <tr>\n",
       "      <th>106UBIQUINOLYLDECYLTRIPHENYLPHOSPHONIUM</th>\n",
       "      <td>None</td>\n",
       "      <td>None</td>\n",
       "      <td>None</td>\n",
       "      <td>10-(6'-ubiquinolyl)decyltriphenylphosphonium</td>\n",
       "      <td>None</td>\n",
       "      <td>None</td>\n",
       "      <td>None</td>\n",
       "      <td>745025</td>\n",
       "      <td>9.11476e+07</td>\n",
       "    </tr>\n",
       "  </tbody>\n",
       "</table>\n",
       "</div>"
      ],
      "text/plain": [
       "TAXONOMY                                 BROAD COMMON          \\\n",
       "SOURCE                                  ctd_v2 ctd_v2 gdsc_v2   \n",
       "DRUG_NAME:MGDS                                                  \n",
       "010200                                    None   None    None   \n",
       "1011METHYLENEDIOXY20RSCAMPTOTHECIN        None   None    None   \n",
       "1011METHYLENEDIOXYCAMPTOTHECIN            None   None    None   \n",
       "1024DICHLOROPHENYL3METHYLFLAVIN           None   None    None   \n",
       "106UBIQUINOLYLDECYLTRIPHENYLPHOSPHONIUM   None   None    None   \n",
       "\n",
       "TAXONOMY                                                                               \\\n",
       "SOURCE                                                                       nci60_v2   \n",
       "DRUG_NAME:MGDS                                                                          \n",
       "010200                                                                         010200   \n",
       "1011METHYLENEDIOXY20RSCAMPTOTHECIN           10,11-methylenedioxy-20(rs)-camptothecin   \n",
       "1011METHYLENEDIOXYCAMPTOTHECIN                       10,11-methylenedioxycamptothecin   \n",
       "1024DICHLOROPHENYL3METHYLFLAVIN              10-(2',4'-dichlorophenyl)-3-methylflavin   \n",
       "106UBIQUINOLYLDECYLTRIPHENYLPHOSPHONIUM  10-(6'-ubiquinolyl)decyltriphenylphosphonium   \n",
       "\n",
       "TAXONOMY                                             COSMIC    CTD      NSC  \\\n",
       "SOURCE                                  ncidream_v1 gdsc_v2 ctd_v2 nci60_v2   \n",
       "DRUG_NAME:MGDS                                                                \n",
       "010200                                         None    None   None   529108   \n",
       "1011METHYLENEDIOXY20RSCAMPTOTHECIN             None    None   None   606174   \n",
       "1011METHYLENEDIOXYCAMPTOTHECIN                 None    None   None   634724   \n",
       "1024DICHLOROPHENYL3METHYLFLAVIN                None    None   None   625537   \n",
       "106UBIQUINOLYLDECYLTRIPHENYLPHOSPHONIUM        None    None   None   745025   \n",
       "\n",
       "TAXONOMY                                     PUBCHEM  \n",
       "SOURCE                                      nci60_v2  \n",
       "DRUG_NAME:MGDS                                        \n",
       "010200                                        482905  \n",
       "1011METHYLENEDIOXY20RSCAMPTOTHECIN            580568  \n",
       "1011METHYLENEDIOXYCAMPTOTHECIN                497235  \n",
       "1024DICHLOROPHENYL3METHYLFLAVIN               492471  \n",
       "106UBIQUINOLYLDECYLTRIPHENYLPHOSPHONIUM  9.11476e+07  "
      ]
     },
     "execution_count": 44,
     "metadata": {},
     "output_type": "execute_result"
    }
   ],
   "source": [
    "def singlestr(x):\n",
    "    assert len(x) == 1\n",
    "    return x.iloc[0]\n",
    "d_id_m = d_id.pivot_table(index='DRUG_NAME:MGDS', columns=['TAXONOMY', 'SOURCE'], values='DRUG_NAME', aggfunc=singlestr)\n",
    "d_id_m.head()"
   ]
  },
  {
   "cell_type": "code",
   "execution_count": 45,
   "metadata": {
    "collapsed": false
   },
   "outputs": [
    {
     "name": "stdout",
     "output_type": "stream",
     "text": [
      "<class 'pandas.core.frame.DataFrame'>\n",
      "Index: 4850 entries, 010200 to ZYGOSPORINA\n",
      "Data columns (total 9 columns):\n",
      "(BROAD, ctd_v2)          545 non-null object\n",
      "(COMMON, ctd_v2)         545 non-null object\n",
      "(COMMON, gdsc_v2)        251 non-null object\n",
      "(COMMON, nci60_v2)       4210 non-null object\n",
      "(COMMON, ncidream_v1)    28 non-null object\n",
      "(COSMIC, gdsc_v2)        251 non-null object\n",
      "(CTD, ctd_v2)            545 non-null object\n",
      "(NSC, nci60_v2)          4210 non-null object\n",
      "(PUBCHEM, nci60_v2)      3708 non-null object\n",
      "dtypes: object(9)\n",
      "memory usage: 378.9+ KB\n"
     ]
    }
   ],
   "source": [
    "d_id_m.info()"
   ]
  },
  {
   "cell_type": "code",
   "execution_count": 46,
   "metadata": {
    "collapsed": true
   },
   "outputs": [],
   "source": [
    "dt = d_id_m['COMMON']"
   ]
  },
  {
   "cell_type": "code",
   "execution_count": 47,
   "metadata": {
    "collapsed": false
   },
   "outputs": [
    {
     "data": {
      "text/html": [
       "<div>\n",
       "<table border=\"1\" class=\"dataframe\">\n",
       "  <thead>\n",
       "    <tr style=\"text-align: right;\">\n",
       "      <th>SOURCE</th>\n",
       "      <th>ctd_v2</th>\n",
       "      <th>gdsc_v2</th>\n",
       "      <th>nci60_v2</th>\n",
       "      <th>ncidream_v1</th>\n",
       "    </tr>\n",
       "    <tr>\n",
       "      <th>DRUG_NAME:MGDS</th>\n",
       "      <th></th>\n",
       "      <th></th>\n",
       "      <th></th>\n",
       "      <th></th>\n",
       "    </tr>\n",
       "  </thead>\n",
       "  <tbody>\n",
       "    <tr>\n",
       "      <th>AG014699</th>\n",
       "      <td>None</td>\n",
       "      <td>AG-014699</td>\n",
       "      <td>None</td>\n",
       "      <td>None</td>\n",
       "    </tr>\n",
       "    <tr>\n",
       "      <th>NAVITOCLAX</th>\n",
       "      <td>navitoclax</td>\n",
       "      <td>Navitoclax</td>\n",
       "      <td>None</td>\n",
       "      <td>None</td>\n",
       "    </tr>\n",
       "    <tr>\n",
       "      <th>PD0332991</th>\n",
       "      <td>None</td>\n",
       "      <td>PD-0332991</td>\n",
       "      <td>None</td>\n",
       "      <td>None</td>\n",
       "    </tr>\n",
       "    <tr>\n",
       "      <th>PLX4720</th>\n",
       "      <td>PLX-4720</td>\n",
       "      <td>PLX4720</td>\n",
       "      <td>None</td>\n",
       "      <td>None</td>\n",
       "    </tr>\n",
       "    <tr>\n",
       "      <th>SB590885</th>\n",
       "      <td>None</td>\n",
       "      <td>SB590885</td>\n",
       "      <td>None</td>\n",
       "      <td>None</td>\n",
       "    </tr>\n",
       "  </tbody>\n",
       "</table>\n",
       "</div>"
      ],
      "text/plain": [
       "SOURCE              ctd_v2     gdsc_v2 nci60_v2 ncidream_v1\n",
       "DRUG_NAME:MGDS                                             \n",
       "AG014699              None   AG-014699     None        None\n",
       "NAVITOCLAX      navitoclax  Navitoclax     None        None\n",
       "PD0332991             None  PD-0332991     None        None\n",
       "PLX4720           PLX-4720     PLX4720     None        None\n",
       "SB590885              None    SB590885     None        None"
      ]
     },
     "execution_count": 47,
     "metadata": {},
     "output_type": "execute_result"
    }
   ],
   "source": [
    "tgt_drug = ['Navitoclax', 'Nutlin', 'AG-014699', 'PD-0332991', 'PLX4720', 'SB590885']\n",
    "tgt_drug = [v.upper() for v in tgt_drug]\n",
    "dt[dt.applymap(lambda v: False if pd.isnull(v) else v.upper() in tgt_drug).any(axis=1)]"
   ]
  },
  {
   "cell_type": "code",
   "execution_count": 48,
   "metadata": {
    "collapsed": false
   },
   "outputs": [
    {
     "name": "stdout",
     "output_type": "stream",
     "text": [
      "<class 'pandas.core.frame.DataFrame'>\n",
      "Index: 145 entries, 17AAG to ZSTK474\n",
      "Data columns (total 4 columns):\n",
      "ctd_v2         128 non-null object\n",
      "gdsc_v2        103 non-null object\n",
      "nci60_v2       90 non-null object\n",
      "ncidream_v1    8 non-null object\n",
      "dtypes: object(4)\n",
      "memory usage: 5.7+ KB\n"
     ]
    }
   ],
   "source": [
    "dt[dt.notnull().sum(axis=1) > 1].info()"
   ]
  },
  {
   "cell_type": "markdown",
   "metadata": {},
   "source": [
    "## Export"
   ]
  },
  {
   "cell_type": "code",
   "execution_count": 49,
   "metadata": {
    "collapsed": false
   },
   "outputs": [
    {
     "data": {
      "text/html": [
       "<div>\n",
       "<table border=\"1\" class=\"dataframe\">\n",
       "  <thead>\n",
       "    <tr>\n",
       "      <th>TAXONOMY</th>\n",
       "      <th>BROAD</th>\n",
       "      <th colspan=\"4\" halign=\"left\">COMMON</th>\n",
       "      <th>COSMIC</th>\n",
       "      <th>CTD</th>\n",
       "      <th>NSC</th>\n",
       "      <th>PUBCHEM</th>\n",
       "    </tr>\n",
       "    <tr>\n",
       "      <th>SOURCE</th>\n",
       "      <th>ctd_v2</th>\n",
       "      <th>ctd_v2</th>\n",
       "      <th>gdsc_v2</th>\n",
       "      <th>nci60_v2</th>\n",
       "      <th>ncidream_v1</th>\n",
       "      <th>gdsc_v2</th>\n",
       "      <th>ctd_v2</th>\n",
       "      <th>nci60_v2</th>\n",
       "      <th>nci60_v2</th>\n",
       "    </tr>\n",
       "    <tr>\n",
       "      <th>DRUG_NAME:MGDS</th>\n",
       "      <th></th>\n",
       "      <th></th>\n",
       "      <th></th>\n",
       "      <th></th>\n",
       "      <th></th>\n",
       "      <th></th>\n",
       "      <th></th>\n",
       "      <th></th>\n",
       "      <th></th>\n",
       "    </tr>\n",
       "  </thead>\n",
       "  <tbody>\n",
       "    <tr>\n",
       "      <th>010200</th>\n",
       "      <td>None</td>\n",
       "      <td>None</td>\n",
       "      <td>None</td>\n",
       "      <td>010200</td>\n",
       "      <td>None</td>\n",
       "      <td>None</td>\n",
       "      <td>None</td>\n",
       "      <td>529108</td>\n",
       "      <td>482905</td>\n",
       "    </tr>\n",
       "    <tr>\n",
       "      <th>1011METHYLENEDIOXY20RSCAMPTOTHECIN</th>\n",
       "      <td>None</td>\n",
       "      <td>None</td>\n",
       "      <td>None</td>\n",
       "      <td>10,11-methylenedioxy-20(rs)-camptothecin</td>\n",
       "      <td>None</td>\n",
       "      <td>None</td>\n",
       "      <td>None</td>\n",
       "      <td>606174</td>\n",
       "      <td>580568</td>\n",
       "    </tr>\n",
       "    <tr>\n",
       "      <th>1011METHYLENEDIOXYCAMPTOTHECIN</th>\n",
       "      <td>None</td>\n",
       "      <td>None</td>\n",
       "      <td>None</td>\n",
       "      <td>10,11-methylenedioxycamptothecin</td>\n",
       "      <td>None</td>\n",
       "      <td>None</td>\n",
       "      <td>None</td>\n",
       "      <td>634724</td>\n",
       "      <td>497235</td>\n",
       "    </tr>\n",
       "    <tr>\n",
       "      <th>1024DICHLOROPHENYL3METHYLFLAVIN</th>\n",
       "      <td>None</td>\n",
       "      <td>None</td>\n",
       "      <td>None</td>\n",
       "      <td>10-(2',4'-dichlorophenyl)-3-methylflavin</td>\n",
       "      <td>None</td>\n",
       "      <td>None</td>\n",
       "      <td>None</td>\n",
       "      <td>625537</td>\n",
       "      <td>492471</td>\n",
       "    </tr>\n",
       "    <tr>\n",
       "      <th>106UBIQUINOLYLDECYLTRIPHENYLPHOSPHONIUM</th>\n",
       "      <td>None</td>\n",
       "      <td>None</td>\n",
       "      <td>None</td>\n",
       "      <td>10-(6'-ubiquinolyl)decyltriphenylphosphonium</td>\n",
       "      <td>None</td>\n",
       "      <td>None</td>\n",
       "      <td>None</td>\n",
       "      <td>745025</td>\n",
       "      <td>9.11476e+07</td>\n",
       "    </tr>\n",
       "  </tbody>\n",
       "</table>\n",
       "</div>"
      ],
      "text/plain": [
       "TAXONOMY                                 BROAD COMMON          \\\n",
       "SOURCE                                  ctd_v2 ctd_v2 gdsc_v2   \n",
       "DRUG_NAME:MGDS                                                  \n",
       "010200                                    None   None    None   \n",
       "1011METHYLENEDIOXY20RSCAMPTOTHECIN        None   None    None   \n",
       "1011METHYLENEDIOXYCAMPTOTHECIN            None   None    None   \n",
       "1024DICHLOROPHENYL3METHYLFLAVIN           None   None    None   \n",
       "106UBIQUINOLYLDECYLTRIPHENYLPHOSPHONIUM   None   None    None   \n",
       "\n",
       "TAXONOMY                                                                               \\\n",
       "SOURCE                                                                       nci60_v2   \n",
       "DRUG_NAME:MGDS                                                                          \n",
       "010200                                                                         010200   \n",
       "1011METHYLENEDIOXY20RSCAMPTOTHECIN           10,11-methylenedioxy-20(rs)-camptothecin   \n",
       "1011METHYLENEDIOXYCAMPTOTHECIN                       10,11-methylenedioxycamptothecin   \n",
       "1024DICHLOROPHENYL3METHYLFLAVIN              10-(2',4'-dichlorophenyl)-3-methylflavin   \n",
       "106UBIQUINOLYLDECYLTRIPHENYLPHOSPHONIUM  10-(6'-ubiquinolyl)decyltriphenylphosphonium   \n",
       "\n",
       "TAXONOMY                                             COSMIC    CTD      NSC  \\\n",
       "SOURCE                                  ncidream_v1 gdsc_v2 ctd_v2 nci60_v2   \n",
       "DRUG_NAME:MGDS                                                                \n",
       "010200                                         None    None   None   529108   \n",
       "1011METHYLENEDIOXY20RSCAMPTOTHECIN             None    None   None   606174   \n",
       "1011METHYLENEDIOXYCAMPTOTHECIN                 None    None   None   634724   \n",
       "1024DICHLOROPHENYL3METHYLFLAVIN                None    None   None   625537   \n",
       "106UBIQUINOLYLDECYLTRIPHENYLPHOSPHONIUM        None    None   None   745025   \n",
       "\n",
       "TAXONOMY                                     PUBCHEM  \n",
       "SOURCE                                      nci60_v2  \n",
       "DRUG_NAME:MGDS                                        \n",
       "010200                                        482905  \n",
       "1011METHYLENEDIOXY20RSCAMPTOTHECIN            580568  \n",
       "1011METHYLENEDIOXYCAMPTOTHECIN                497235  \n",
       "1024DICHLOROPHENYL3METHYLFLAVIN               492471  \n",
       "106UBIQUINOLYLDECYLTRIPHENYLPHOSPHONIUM  9.11476e+07  "
      ]
     },
     "execution_count": 49,
     "metadata": {},
     "output_type": "execute_result"
    }
   ],
   "source": [
    "d_id_m.head()"
   ]
  },
  {
   "cell_type": "code",
   "execution_count": 50,
   "metadata": {
    "collapsed": false
   },
   "outputs": [
    {
     "data": {
      "text/plain": [
       "'/Users/eczech/data/research/mgds/entity/mgds_v1_drug-ids.pkl'"
      ]
     },
     "execution_count": 50,
     "metadata": {},
     "output_type": "execute_result"
    }
   ],
   "source": [
    "db.save(d_id_m, src.MGDS_v1, db.ENTITY, 'drug-ids')"
   ]
  }
 ],
 "metadata": {
  "kernelspec": {
   "display_name": "Python 3",
   "language": "python",
   "name": "python3"
  },
  "language_info": {
   "codemirror_mode": {
    "name": "ipython",
    "version": 3
   },
   "file_extension": ".py",
   "mimetype": "text/x-python",
   "name": "python",
   "nbconvert_exporter": "python",
   "pygments_lexer": "ipython3",
   "version": "3.5.2"
  }
 },
 "nbformat": 4,
 "nbformat_minor": 0
}
