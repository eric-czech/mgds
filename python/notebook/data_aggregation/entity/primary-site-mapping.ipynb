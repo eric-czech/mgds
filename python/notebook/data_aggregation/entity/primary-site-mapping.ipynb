{
 "cells": [
  {
   "cell_type": "code",
   "execution_count": 41,
   "metadata": {
    "collapsed": true
   },
   "outputs": [],
   "source": [
    "%run -m ipy_startup\n",
    "%run -m ipy_logging\n",
    "from mgds.data_aggregation import database as db\n",
    "from mgds.data_aggregation import source as src\n",
    "from mgds.data_aggregation import data_type as dtyp\n",
    "from mgds.data_aggregation import io_utils\n",
    "from mgds.data_aggregation import api as mgds_api\n",
    "from mgds.data_aggregation import entity\n",
    "from py_utils import set_utils, assertion_utils\n",
    "pd.set_option('display.max_info_rows', 50000000)"
   ]
  },
  {
   "cell_type": "markdown",
   "metadata": {},
   "source": [
    "# Primary Site Mapping"
   ]
  },
  {
   "cell_type": "code",
   "execution_count": 50,
   "metadata": {
    "collapsed": false
   },
   "outputs": [
    {
     "data": {
      "text/html": [
       "<div>\n",
       "<table border=\"1\" class=\"dataframe\">\n",
       "  <thead>\n",
       "    <tr style=\"text-align: right;\">\n",
       "      <th></th>\n",
       "      <th>AGE</th>\n",
       "      <th>CELL_LINE_ID</th>\n",
       "      <th>CELL_LINE_ID:COSMIC</th>\n",
       "      <th>CELL_LINE_ID:MGDS</th>\n",
       "      <th>GENDER</th>\n",
       "      <th>PRIMARY_SITE</th>\n",
       "      <th>PROPERTIES</th>\n",
       "      <th>SOURCE</th>\n",
       "    </tr>\n",
       "  </thead>\n",
       "  <tbody>\n",
       "    <tr>\n",
       "      <th>0</th>\n",
       "      <td>NaN</td>\n",
       "      <td>A253</td>\n",
       "      <td>906794</td>\n",
       "      <td>A253</td>\n",
       "      <td>NaN</td>\n",
       "      <td>SALIVARY_GLAND</td>\n",
       "      <td>{'CANCER_TYPE': nan, 'HISTOLOGY': 'carcinoma',...</td>\n",
       "      <td>gdsc_v2</td>\n",
       "    </tr>\n",
       "    <tr>\n",
       "      <th>1</th>\n",
       "      <td>NaN</td>\n",
       "      <td>BB30-HNC</td>\n",
       "      <td>753531</td>\n",
       "      <td>BB30HNC</td>\n",
       "      <td>NaN</td>\n",
       "      <td>UPPER_AERODIGESTIVE_TRACT</td>\n",
       "      <td>{'CANCER_TYPE': 'HNSC', 'HISTOLOGY': 'carcinom...</td>\n",
       "      <td>gdsc_v2</td>\n",
       "    </tr>\n",
       "    <tr>\n",
       "      <th>2</th>\n",
       "      <td>NaN</td>\n",
       "      <td>BB49-HNC</td>\n",
       "      <td>753532</td>\n",
       "      <td>BB49HNC</td>\n",
       "      <td>NaN</td>\n",
       "      <td>UPPER_AERODIGESTIVE_TRACT</td>\n",
       "      <td>{'CANCER_TYPE': 'HNSC', 'HISTOLOGY': 'carcinom...</td>\n",
       "      <td>gdsc_v2</td>\n",
       "    </tr>\n",
       "    <tr>\n",
       "      <th>3</th>\n",
       "      <td>NaN</td>\n",
       "      <td>BHY</td>\n",
       "      <td>753535</td>\n",
       "      <td>BHY</td>\n",
       "      <td>NaN</td>\n",
       "      <td>UPPER_AERODIGESTIVE_TRACT</td>\n",
       "      <td>{'CANCER_TYPE': 'HNSC', 'HISTOLOGY': 'carcinom...</td>\n",
       "      <td>gdsc_v2</td>\n",
       "    </tr>\n",
       "    <tr>\n",
       "      <th>4</th>\n",
       "      <td>NaN</td>\n",
       "      <td>BICR10</td>\n",
       "      <td>1290724</td>\n",
       "      <td>BICR10</td>\n",
       "      <td>NaN</td>\n",
       "      <td>UPPER_AERODIGESTIVE_TRACT</td>\n",
       "      <td>{'CANCER_TYPE': 'HNSC', 'HISTOLOGY': 'carcinom...</td>\n",
       "      <td>gdsc_v2</td>\n",
       "    </tr>\n",
       "  </tbody>\n",
       "</table>\n",
       "</div>"
      ],
      "text/plain": [
       "   AGE CELL_LINE_ID CELL_LINE_ID:COSMIC CELL_LINE_ID:MGDS GENDER  \\\n",
       "0  NaN         A253              906794              A253    NaN   \n",
       "1  NaN     BB30-HNC              753531           BB30HNC    NaN   \n",
       "2  NaN     BB49-HNC              753532           BB49HNC    NaN   \n",
       "3  NaN          BHY              753535               BHY    NaN   \n",
       "4  NaN       BICR10             1290724            BICR10    NaN   \n",
       "\n",
       "                PRIMARY_SITE  \\\n",
       "0             SALIVARY_GLAND   \n",
       "1  UPPER_AERODIGESTIVE_TRACT   \n",
       "2  UPPER_AERODIGESTIVE_TRACT   \n",
       "3  UPPER_AERODIGESTIVE_TRACT   \n",
       "4  UPPER_AERODIGESTIVE_TRACT   \n",
       "\n",
       "                                          PROPERTIES   SOURCE  \n",
       "0  {'CANCER_TYPE': nan, 'HISTOLOGY': 'carcinoma',...  gdsc_v2  \n",
       "1  {'CANCER_TYPE': 'HNSC', 'HISTOLOGY': 'carcinom...  gdsc_v2  \n",
       "2  {'CANCER_TYPE': 'HNSC', 'HISTOLOGY': 'carcinom...  gdsc_v2  \n",
       "3  {'CANCER_TYPE': 'HNSC', 'HISTOLOGY': 'carcinom...  gdsc_v2  \n",
       "4  {'CANCER_TYPE': 'HNSC', 'HISTOLOGY': 'carcinom...  gdsc_v2  "
      ]
     },
     "execution_count": 50,
     "metadata": {},
     "output_type": "execute_result"
    }
   ],
   "source": [
    "sources = [src.GDSC_v2, src.CCLE_v1, src.NCI60_v2, src.NCIDREAM_v1, src.CTD_v2]\n",
    "\n",
    "d_meta = mgds_api.get_cellline_metadata(sources)\n",
    "d_meta.head()"
   ]
  },
  {
   "cell_type": "code",
   "execution_count": 51,
   "metadata": {
    "collapsed": false
   },
   "outputs": [
    {
     "data": {
      "text/html": [
       "<div>\n",
       "<table border=\"1\" class=\"dataframe\">\n",
       "  <thead>\n",
       "    <tr style=\"text-align: right;\">\n",
       "      <th></th>\n",
       "      <th>CELL_LINE_ID:MGDS</th>\n",
       "      <th>PRIMARY_SITE</th>\n",
       "      <th>SOURCE</th>\n",
       "      <th>PRIMARY_SITE:MGDS</th>\n",
       "    </tr>\n",
       "  </thead>\n",
       "  <tbody>\n",
       "    <tr>\n",
       "      <th>0</th>\n",
       "      <td>A253</td>\n",
       "      <td>SALIVARY_GLAND</td>\n",
       "      <td>gdsc_v2</td>\n",
       "      <td>SALIVARY_GLAND</td>\n",
       "    </tr>\n",
       "    <tr>\n",
       "      <th>1</th>\n",
       "      <td>BB30HNC</td>\n",
       "      <td>UPPER_AERODIGESTIVE_TRACT</td>\n",
       "      <td>gdsc_v2</td>\n",
       "      <td>UPPER_AERODIGESTIVE_TRACT</td>\n",
       "    </tr>\n",
       "    <tr>\n",
       "      <th>2</th>\n",
       "      <td>BB49HNC</td>\n",
       "      <td>UPPER_AERODIGESTIVE_TRACT</td>\n",
       "      <td>gdsc_v2</td>\n",
       "      <td>UPPER_AERODIGESTIVE_TRACT</td>\n",
       "    </tr>\n",
       "    <tr>\n",
       "      <th>3</th>\n",
       "      <td>BHY</td>\n",
       "      <td>UPPER_AERODIGESTIVE_TRACT</td>\n",
       "      <td>gdsc_v2</td>\n",
       "      <td>UPPER_AERODIGESTIVE_TRACT</td>\n",
       "    </tr>\n",
       "    <tr>\n",
       "      <th>4</th>\n",
       "      <td>BICR10</td>\n",
       "      <td>UPPER_AERODIGESTIVE_TRACT</td>\n",
       "      <td>gdsc_v2</td>\n",
       "      <td>UPPER_AERODIGESTIVE_TRACT</td>\n",
       "    </tr>\n",
       "  </tbody>\n",
       "</table>\n",
       "</div>"
      ],
      "text/plain": [
       "  CELL_LINE_ID:MGDS               PRIMARY_SITE   SOURCE  \\\n",
       "0              A253             SALIVARY_GLAND  gdsc_v2   \n",
       "1           BB30HNC  UPPER_AERODIGESTIVE_TRACT  gdsc_v2   \n",
       "2           BB49HNC  UPPER_AERODIGESTIVE_TRACT  gdsc_v2   \n",
       "3               BHY  UPPER_AERODIGESTIVE_TRACT  gdsc_v2   \n",
       "4            BICR10  UPPER_AERODIGESTIVE_TRACT  gdsc_v2   \n",
       "\n",
       "           PRIMARY_SITE:MGDS  \n",
       "0             SALIVARY_GLAND  \n",
       "1  UPPER_AERODIGESTIVE_TRACT  \n",
       "2  UPPER_AERODIGESTIVE_TRACT  \n",
       "3  UPPER_AERODIGESTIVE_TRACT  \n",
       "4  UPPER_AERODIGESTIVE_TRACT  "
      ]
     },
     "execution_count": 51,
     "metadata": {},
     "output_type": "execute_result"
    }
   ],
   "source": [
    "def clean(x):\n",
    "    return x.upper().strip()\n",
    "\n",
    "def to_mgds_site(source, cell_line_id, site):\n",
    "    \n",
    "    # NCI60 Synonym Normalization\n",
    "    if source == src.NCI60_v2:\n",
    "        if site == 'RENAL':\n",
    "            return 'KIDNEY'\n",
    "        if site == 'NON-SMALL CELL LUNG':\n",
    "            return 'LUNG'\n",
    "        if site == 'LEUKEMIA':\n",
    "            return 'HAEMATOPOIETIC_AND_LYMPHOID_TISSUE'\n",
    "        if site == 'COLON':\n",
    "            return 'LARGE_INTESTINE'\n",
    "        if site == 'MELANOMA':\n",
    "            return 'SKIN'\n",
    "        if site == 'OVARIAN':\n",
    "            return 'OVARY'\n",
    "        if site == 'CENTRAL NERVOUS SYSTEM':\n",
    "            return 'CENTRAL_NERVOUS_SYSTEM'\n",
    "        return clean(site)\n",
    "        \n",
    "    # CCLE Normalization\n",
    "    if source == src.CCLE_v1:\n",
    "        # This is the only case that seems flat out incorrect\n",
    "        if cell_line_id == 'COLO741' and site == 'SKIN':\n",
    "            return 'LARGE_INTESTINE' \n",
    "        \n",
    "        # Minor disambiguation\n",
    "        if cell_line_id == 'RKN' and site == 'SOFT_TISSUE':\n",
    "            return 'OVARY'\n",
    "        return clean(site)\n",
    "    \n",
    "    # GDSC Omissions (but resolvable based on other sources)\n",
    "    if source == src.GDSC_v2:\n",
    "        if cell_line_id == 'G292CLONEA141B1':\n",
    "            return 'BONE'\n",
    "        if cell_line_id == 'HEP3B217':\n",
    "            return 'LIVER'\n",
    "        if cell_line_id == 'SUDHL8':\n",
    "            return 'HAEMATOPOIETIC_AND_LYMPHOID_TISSUE'\n",
    "        return clean(site)\n",
    "    \n",
    "    # NCI-Dream Cell Lines are all breast cancers\n",
    "    if source == src.NCIDREAM_v1:\n",
    "        assert site == 'BREAST'\n",
    "        return site\n",
    "        \n",
    "    raise ValueError('Primary site resolution not yet supported for source \"{}\"'.format(source))\n",
    "\n",
    "d_ps = d_meta[['CELL_LINE_ID:MGDS', 'PRIMARY_SITE', 'SOURCE']].copy()\n",
    "d_ps['PRIMARY_SITE:MGDS'] = d_ps\\\n",
    "    .apply(lambda r: to_mgds_site(r['SOURCE'], r['CELL_LINE_ID:MGDS'], r['PRIMARY_SITE']), axis=1)\n",
    "d_ps.head()"
   ]
  },
  {
   "cell_type": "code",
   "execution_count": 52,
   "metadata": {
    "collapsed": false
   },
   "outputs": [
    {
     "name": "stdout",
     "output_type": "stream",
     "text": [
      "<class 'pandas.core.frame.DataFrame'>\n",
      "Int64Index: 2161 entries, 0 to 52\n",
      "Data columns (total 4 columns):\n",
      "CELL_LINE_ID:MGDS    2161 non-null object\n",
      "PRIMARY_SITE         2161 non-null object\n",
      "SOURCE               2161 non-null object\n",
      "PRIMARY_SITE:MGDS    2161 non-null object\n",
      "dtypes: object(4)\n",
      "memory usage: 84.4+ KB\n"
     ]
    }
   ],
   "source": [
    "d_ps.info()"
   ]
  },
  {
   "cell_type": "code",
   "execution_count": 53,
   "metadata": {
    "collapsed": false
   },
   "outputs": [
    {
     "name": "stdout",
     "output_type": "stream",
     "text": [
      "1    1421\n",
      "Name: PRIMARY_SITE:MGDS, dtype: int64\n"
     ]
    },
    {
     "data": {
      "text/plain": [
       "Series([], Name: PRIMARY_SITE:MGDS, dtype: int64)"
      ]
     },
     "execution_count": 53,
     "metadata": {},
     "output_type": "execute_result"
    }
   ],
   "source": [
    "# This should return no results when there are no conflicting primary sites\n",
    "cts = d_ps.groupby(['CELL_LINE_ID:MGDS'])['PRIMARY_SITE:MGDS'].nunique()\n",
    "print(cts.value_counts())\n",
    "cts[cts > 1]"
   ]
  },
  {
   "cell_type": "code",
   "execution_count": 54,
   "metadata": {
    "collapsed": false
   },
   "outputs": [
    {
     "data": {
      "text/html": [
       "<div>\n",
       "<table border=\"1\" class=\"dataframe\">\n",
       "  <thead>\n",
       "    <tr style=\"text-align: right;\">\n",
       "      <th></th>\n",
       "      <th>CELL_LINE_ID:MGDS</th>\n",
       "      <th>PRIMARY_SITE</th>\n",
       "      <th>SOURCE</th>\n",
       "      <th>PRIMARY_SITE:MGDS</th>\n",
       "    </tr>\n",
       "  </thead>\n",
       "  <tbody>\n",
       "  </tbody>\n",
       "</table>\n",
       "</div>"
      ],
      "text/plain": [
       "Empty DataFrame\n",
       "Columns: [CELL_LINE_ID:MGDS, PRIMARY_SITE, SOURCE, PRIMARY_SITE:MGDS]\n",
       "Index: []"
      ]
     },
     "execution_count": 54,
     "metadata": {},
     "output_type": "execute_result"
    }
   ],
   "source": [
    "d_ps[d_ps['CELL_LINE_ID:MGDS'].isin(cts[cts > 1].index.values)].sort_values('CELL_LINE_ID:MGDS')"
   ]
  },
  {
   "cell_type": "code",
   "execution_count": 55,
   "metadata": {
    "collapsed": false
   },
   "outputs": [
    {
     "data": {
      "text/html": [
       "<div>\n",
       "<table border=\"1\" class=\"dataframe\">\n",
       "  <thead>\n",
       "    <tr style=\"text-align: right;\">\n",
       "      <th></th>\n",
       "      <th>SOURCE</th>\n",
       "      <th>ccle_v1</th>\n",
       "      <th>gdsc_v2</th>\n",
       "      <th>nci60_v2</th>\n",
       "      <th>ncidream_v1</th>\n",
       "    </tr>\n",
       "    <tr>\n",
       "      <th>CELL_LINE_ID:MGDS</th>\n",
       "      <th>PRIMARY_SITE:MGDS</th>\n",
       "      <th></th>\n",
       "      <th></th>\n",
       "      <th></th>\n",
       "      <th></th>\n",
       "    </tr>\n",
       "  </thead>\n",
       "  <tbody>\n",
       "    <tr>\n",
       "      <th>1321N1</th>\n",
       "      <th>CENTRAL_NERVOUS_SYSTEM</th>\n",
       "      <td>CENTRAL_NERVOUS_SYSTEM</td>\n",
       "      <td>None</td>\n",
       "      <td>None</td>\n",
       "      <td>None</td>\n",
       "    </tr>\n",
       "    <tr>\n",
       "      <th>143B</th>\n",
       "      <th>BONE</th>\n",
       "      <td>BONE</td>\n",
       "      <td>None</td>\n",
       "      <td>None</td>\n",
       "      <td>None</td>\n",
       "    </tr>\n",
       "    <tr>\n",
       "      <th>184A1</th>\n",
       "      <th>BREAST</th>\n",
       "      <td>None</td>\n",
       "      <td>None</td>\n",
       "      <td>None</td>\n",
       "      <td>BREAST</td>\n",
       "    </tr>\n",
       "    <tr>\n",
       "      <th>184B5</th>\n",
       "      <th>BREAST</th>\n",
       "      <td>None</td>\n",
       "      <td>None</td>\n",
       "      <td>None</td>\n",
       "      <td>BREAST</td>\n",
       "    </tr>\n",
       "    <tr>\n",
       "      <th>201T</th>\n",
       "      <th>LUNG</th>\n",
       "      <td>None</td>\n",
       "      <td>LUNG</td>\n",
       "      <td>None</td>\n",
       "      <td>None</td>\n",
       "    </tr>\n",
       "  </tbody>\n",
       "</table>\n",
       "</div>"
      ],
      "text/plain": [
       "SOURCE                                                   ccle_v1 gdsc_v2  \\\n",
       "CELL_LINE_ID:MGDS PRIMARY_SITE:MGDS                                        \n",
       "1321N1            CENTRAL_NERVOUS_SYSTEM  CENTRAL_NERVOUS_SYSTEM    None   \n",
       "143B              BONE                                      BONE    None   \n",
       "184A1             BREAST                                    None    None   \n",
       "184B5             BREAST                                    None    None   \n",
       "201T              LUNG                                      None    LUNG   \n",
       "\n",
       "SOURCE                                   nci60_v2 ncidream_v1  \n",
       "CELL_LINE_ID:MGDS PRIMARY_SITE:MGDS                            \n",
       "1321N1            CENTRAL_NERVOUS_SYSTEM     None        None  \n",
       "143B              BONE                       None        None  \n",
       "184A1             BREAST                     None      BREAST  \n",
       "184B5             BREAST                     None      BREAST  \n",
       "201T              LUNG                       None        None  "
      ]
     },
     "execution_count": 55,
     "metadata": {},
     "output_type": "execute_result"
    }
   ],
   "source": [
    "def singlestr(x):\n",
    "    assert len(x) == 1\n",
    "    return x.iloc[0]\n",
    "d_ps_m = d_ps.pivot_table(\n",
    "    index=['CELL_LINE_ID:MGDS', 'PRIMARY_SITE:MGDS'], columns=['SOURCE'], \n",
    "    values='PRIMARY_SITE', aggfunc=singlestr\n",
    ")\n",
    "d_ps_m.head()"
   ]
  },
  {
   "cell_type": "markdown",
   "metadata": {},
   "source": [
    "## Export"
   ]
  },
  {
   "cell_type": "code",
   "execution_count": 56,
   "metadata": {
    "collapsed": false
   },
   "outputs": [
    {
     "data": {
      "text/plain": [
       "'/Users/eczech/data/research/mgds/entity/mgds_v1_primary-site-by-src.pkl'"
      ]
     },
     "execution_count": 56,
     "metadata": {},
     "output_type": "execute_result"
    }
   ],
   "source": [
    "db.save(d_ps_m, src.MGDS_v1, db.ENTITY, 'primary-site-by-src')"
   ]
  }
 ],
 "metadata": {
  "kernelspec": {
   "display_name": "Python 3",
   "language": "python",
   "name": "python3"
  },
  "language_info": {
   "codemirror_mode": {
    "name": "ipython",
    "version": 3
   },
   "file_extension": ".py",
   "mimetype": "text/x-python",
   "name": "python",
   "nbconvert_exporter": "python",
   "pygments_lexer": "ipython3",
   "version": "3.5.2"
  }
 },
 "nbformat": 4,
 "nbformat_minor": 0
}
