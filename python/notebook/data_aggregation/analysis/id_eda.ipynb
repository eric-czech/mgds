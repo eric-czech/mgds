{
 "cells": [
  {
   "cell_type": "code",
   "execution_count": 14,
   "metadata": {
    "collapsed": true
   },
   "outputs": [],
   "source": [
    "%run -m ipy_startup\n",
    "%run -m ipy_logging\n",
    "from mgds.data_aggregation import database as db\n",
    "from mgds.data_aggregation import source as src\n",
    "from mgds.data_aggregation import io_utils as io\n",
    "from mgds.data_aggregation import entity\n",
    "from py_utils import set_utils \n",
    "pd.set_option('display.max_info_rows', 50000000)"
   ]
  },
  {
   "cell_type": "markdown",
   "metadata": {},
   "source": [
    "# Entity Mapping Process\n",
    "\n",
    "- Create mapping by entity type (cell line, gene, cancer type, etc.) with schema like:\n",
    "    - ID, MGDS_ID, SOURCE, VALUE (where rows are unique to MGDS_ID as well as ID)\n",
    "    - Each of these should be in table named like **cell_line**, **gene**, **cancer_type**, etc.\n",
    "- A function should allow for mappings to be \"appended\" to the existing mappings for a particular entity type by providing a map keyed by MGDS_ID with values also be maps from **source** to value\n",
    "    - This function should then be able to merge these additions to the existing ones with options to either overwrite existing mappings if they conflict, or throw an error\n",
    "    \n",
    "    \n",
    "## See mgds.data_aggregation.entity.append_entity_mapping\n",
    "\n",
    "TODO: Update and test this function"
   ]
  },
  {
   "cell_type": "code",
   "execution_count": 17,
   "metadata": {
    "collapsed": true
   },
   "outputs": [],
   "source": [
    "def get_table_summary(sources, data_types, col_regex):\n",
    "    r = {}\n",
    "    for source in sources:\n",
    "        for data_type in data_types:\n",
    "            if source not in r:\n",
    "                r[source] = {}\n",
    "            logger.debug('Processing source \"{}\", data type \"{}\"'.format(source, data_type))\n",
    "            if not db.exists(source, db.IMPORT, data_type):\n",
    "                logger.info('Data for source \"{}\" and data type \"{}\" does not exist'.format(source, data_type))\n",
    "                continue\n",
    "            r[source][data_type] = db.load(source, db.IMPORT, data_type)\\\n",
    "                .filter(regex=col_regex)\\\n",
    "                .drop_duplicates()\\\n",
    "                .assign(SOURCE=source, DATA_TYPE=data_type)\n",
    "    return r\n",
    "\n",
    "\n",
    "def get_all_ids(sources, data_types):\n",
    "    return get_table_summary(sources, data_types, 'CELL_LINE_ID|GENE_ID')\n",
    "\n",
    "\n",
    "def get_cell_line_ids(sources, data_types):\n",
    "    return get_table_summary(sources, data_types, 'CELL_LINE_ID')"
   ]
  },
  {
   "cell_type": "code",
   "execution_count": 18,
   "metadata": {
    "collapsed": true
   },
   "outputs": [],
   "source": [
    "sources = [src.GDSC_v2, src.CCLE_v1, src.NCI60_v2]\n",
    "data_types = ['gene-exome-seq', 'gene-expression', 'gene-copy-number']"
   ]
  },
  {
   "cell_type": "code",
   "execution_count": 19,
   "metadata": {
    "collapsed": false
   },
   "outputs": [
    {
     "name": "stderr",
     "output_type": "stream",
     "text": [
      "2016-11-21 09:52:11,712:DEBUG:root: Processing source \"gdsc_v2\", data type \"gene-exome-seq\"\n",
      "2016-11-21 09:52:12,172:DEBUG:root: Processing source \"gdsc_v2\", data type \"gene-expression\"\n",
      "2016-11-21 09:52:23,968:DEBUG:root: Processing source \"gdsc_v2\", data type \"gene-copy-number\"\n",
      "2016-11-21 09:52:51,826:DEBUG:root: Processing source \"ccle_v1\", data type \"gene-exome-seq\"\n",
      "2016-11-21 09:52:51,905:DEBUG:root: Processing source \"ccle_v1\", data type \"gene-expression\"\n",
      "2016-11-21 09:52:54,891:DEBUG:root: Processing source \"ccle_v1\", data type \"gene-copy-number\"\n",
      "2016-11-21 09:52:58,696:DEBUG:root: Processing source \"nci60_v2\", data type \"gene-exome-seq\"\n",
      "2016-11-21 09:52:58,765:DEBUG:root: Processing source \"nci60_v2\", data type \"gene-expression\"\n",
      "2016-11-21 09:52:59,065:DEBUG:root: Processing source \"nci60_v2\", data type \"gene-copy-number\"\n"
     ]
    }
   ],
   "source": [
    "m_id = get_cell_line_ids(sources, data_types)"
   ]
  },
  {
   "cell_type": "code",
   "execution_count": 20,
   "metadata": {
    "collapsed": false
   },
   "outputs": [
    {
     "data": {
      "text/plain": [
       "dict_keys(['gdsc_v2', 'nci60_v2', 'ccle_v1'])"
      ]
     },
     "execution_count": 20,
     "metadata": {},
     "output_type": "execute_result"
    }
   ],
   "source": [
    "m_id.keys()"
   ]
  },
  {
   "cell_type": "code",
   "execution_count": 21,
   "metadata": {
    "collapsed": true
   },
   "outputs": [],
   "source": [
    "d1 = m_id['gdsc_v2']['gene-expression']\n",
    "d2 = m_id['ccle_v1']['gene-expression']\n",
    "d3 = m_id['nci60_v2']['gene-expression']"
   ]
  },
  {
   "cell_type": "code",
   "execution_count": 22,
   "metadata": {
    "collapsed": false
   },
   "outputs": [
    {
     "name": "stdout",
     "output_type": "stream",
     "text": [
      "<class 'pandas.core.frame.DataFrame'>\n",
      "Int64Index: 1019 entries, 0 to 17732542\n",
      "Data columns (total 4 columns):\n",
      "CELL_LINE_ID:COSMIC    1019 non-null object\n",
      "CELL_LINE_ID           981 non-null object\n",
      "DATA_TYPE              1019 non-null object\n",
      "SOURCE                 1019 non-null object\n",
      "dtypes: object(4)\n",
      "memory usage: 39.8+ KB\n"
     ]
    }
   ],
   "source": [
    "d1.info()"
   ]
  },
  {
   "cell_type": "code",
   "execution_count": 23,
   "metadata": {
    "collapsed": false
   },
   "outputs": [
    {
     "name": "stdout",
     "output_type": "stream",
     "text": [
      "<class 'pandas.core.frame.DataFrame'>\n",
      "Int64Index: 967 entries, 0 to 39110064\n",
      "Data columns (total 3 columns):\n",
      "CELL_LINE_ID    967 non-null object\n",
      "DATA_TYPE       967 non-null object\n",
      "SOURCE          967 non-null object\n",
      "dtypes: object(3)\n",
      "memory usage: 30.2+ KB\n"
     ]
    }
   ],
   "source": [
    "d2.info()"
   ]
  },
  {
   "cell_type": "code",
   "execution_count": 24,
   "metadata": {
    "collapsed": false
   },
   "outputs": [
    {
     "name": "stdout",
     "output_type": "stream",
     "text": [
      "<class 'pandas.core.frame.DataFrame'>\n",
      "Int64Index: 54 entries, 0 to 1185539\n",
      "Data columns (total 3 columns):\n",
      "CELL_LINE_ID    54 non-null object\n",
      "DATA_TYPE       54 non-null object\n",
      "SOURCE          54 non-null object\n",
      "dtypes: object(3)\n",
      "memory usage: 1.7+ KB\n"
     ]
    }
   ],
   "source": [
    "d3.info()"
   ]
  },
  {
   "cell_type": "code",
   "execution_count": 36,
   "metadata": {
    "collapsed": true
   },
   "outputs": [],
   "source": [
    "def pivot(m_id):\n",
    "    r = []\n",
    "    for src, m in m_id.items():\n",
    "        for typ, v in m_id[src].items():\n",
    "            c = v.filter(regex='CELL_LINE_ID').columns.tolist()\n",
    "            v = v.set_index('CELL_LINE_ID', drop=False)[c].add_prefix(src+':'+typ+':')\n",
    "            r.append(v)\n",
    "    return pd.concat(r, axis=1, join='outer')"
   ]
  },
  {
   "cell_type": "code",
   "execution_count": 37,
   "metadata": {
    "collapsed": false
   },
   "outputs": [
    {
     "name": "stdout",
     "output_type": "stream",
     "text": [
      "<class 'pandas.core.frame.DataFrame'>\n",
      "Index: 2121 entries, 201T to nan\n",
      "Data columns (total 12 columns):\n",
      "gdsc_v2:gene-exome-seq:CELL_LINE_ID             1001 non-null object\n",
      "gdsc_v2:gene-exome-seq:CELL_LINE_ID:COSMIC      1001 non-null float64\n",
      "gdsc_v2:gene-copy-number:CELL_LINE_ID           996 non-null object\n",
      "gdsc_v2:gene-copy-number:CELL_LINE_ID:COSMIC    996 non-null object\n",
      "gdsc_v2:gene-expression:CELL_LINE_ID:COSMIC     1019 non-null object\n",
      "gdsc_v2:gene-expression:CELL_LINE_ID            981 non-null object\n",
      "nci60_v2:gene-exome-seq:CELL_LINE_ID            60 non-null object\n",
      "nci60_v2:gene-copy-number:CELL_LINE_ID          53 non-null object\n",
      "nci60_v2:gene-expression:CELL_LINE_ID           54 non-null object\n",
      "ccle_v1:gene-exome-seq:CELL_LINE_ID             904 non-null object\n",
      "ccle_v1:gene-copy-number:CELL_LINE_ID           995 non-null object\n",
      "ccle_v1:gene-expression:CELL_LINE_ID            967 non-null object\n",
      "dtypes: float64(1), object(11)\n",
      "memory usage: 215.4+ KB\n"
     ]
    }
   ],
   "source": [
    "dm = pivot(m_id)\n",
    "dm.info()"
   ]
  },
  {
   "cell_type": "code",
   "execution_count": 38,
   "metadata": {
    "collapsed": false
   },
   "outputs": [
    {
     "data": {
      "text/html": [
       "<div>\n",
       "<table border=\"1\" class=\"dataframe\">\n",
       "  <thead>\n",
       "    <tr style=\"text-align: right;\">\n",
       "      <th></th>\n",
       "      <th>gdsc_v2:gene-exome-seq:CELL_LINE_ID</th>\n",
       "      <th>gdsc_v2:gene-exome-seq:CELL_LINE_ID:COSMIC</th>\n",
       "      <th>gdsc_v2:gene-copy-number:CELL_LINE_ID</th>\n",
       "      <th>gdsc_v2:gene-copy-number:CELL_LINE_ID:COSMIC</th>\n",
       "      <th>gdsc_v2:gene-expression:CELL_LINE_ID:COSMIC</th>\n",
       "      <th>gdsc_v2:gene-expression:CELL_LINE_ID</th>\n",
       "      <th>nci60_v2:gene-exome-seq:CELL_LINE_ID</th>\n",
       "      <th>nci60_v2:gene-copy-number:CELL_LINE_ID</th>\n",
       "      <th>nci60_v2:gene-expression:CELL_LINE_ID</th>\n",
       "      <th>ccle_v1:gene-exome-seq:CELL_LINE_ID</th>\n",
       "      <th>ccle_v1:gene-copy-number:CELL_LINE_ID</th>\n",
       "      <th>ccle_v1:gene-expression:CELL_LINE_ID</th>\n",
       "    </tr>\n",
       "  </thead>\n",
       "  <tbody>\n",
       "    <tr>\n",
       "      <th>201T</th>\n",
       "      <td>201T</td>\n",
       "      <td>1287381.0</td>\n",
       "      <td>201T</td>\n",
       "      <td>1287381</td>\n",
       "      <td>1287381</td>\n",
       "      <td>201T</td>\n",
       "      <td>NaN</td>\n",
       "      <td>NaN</td>\n",
       "      <td>NaN</td>\n",
       "      <td>NaN</td>\n",
       "      <td>NaN</td>\n",
       "      <td>NaN</td>\n",
       "    </tr>\n",
       "    <tr>\n",
       "      <th>22RV1</th>\n",
       "      <td>22RV1</td>\n",
       "      <td>924100.0</td>\n",
       "      <td>22RV1</td>\n",
       "      <td>924100</td>\n",
       "      <td>924100</td>\n",
       "      <td>22RV1</td>\n",
       "      <td>NaN</td>\n",
       "      <td>NaN</td>\n",
       "      <td>NaN</td>\n",
       "      <td>NaN</td>\n",
       "      <td>NaN</td>\n",
       "      <td>NaN</td>\n",
       "    </tr>\n",
       "    <tr>\n",
       "      <th>22RV1_PROSTATE</th>\n",
       "      <td>NaN</td>\n",
       "      <td>NaN</td>\n",
       "      <td>NaN</td>\n",
       "      <td>NaN</td>\n",
       "      <td>NaN</td>\n",
       "      <td>NaN</td>\n",
       "      <td>NaN</td>\n",
       "      <td>NaN</td>\n",
       "      <td>NaN</td>\n",
       "      <td>22RV1_PROSTATE</td>\n",
       "      <td>22RV1_PROSTATE</td>\n",
       "      <td>22RV1_PROSTATE</td>\n",
       "    </tr>\n",
       "    <tr>\n",
       "      <th>23132-87</th>\n",
       "      <td>23132-87</td>\n",
       "      <td>910924.0</td>\n",
       "      <td>23132-87</td>\n",
       "      <td>910924</td>\n",
       "      <td>910924</td>\n",
       "      <td>23132-87</td>\n",
       "      <td>NaN</td>\n",
       "      <td>NaN</td>\n",
       "      <td>NaN</td>\n",
       "      <td>NaN</td>\n",
       "      <td>NaN</td>\n",
       "      <td>NaN</td>\n",
       "    </tr>\n",
       "    <tr>\n",
       "      <th>42-MG-BA</th>\n",
       "      <td>42-MG-BA</td>\n",
       "      <td>687561.0</td>\n",
       "      <td>42-MG-BA</td>\n",
       "      <td>687561</td>\n",
       "      <td>687561</td>\n",
       "      <td>42-MG-BA</td>\n",
       "      <td>NaN</td>\n",
       "      <td>NaN</td>\n",
       "      <td>NaN</td>\n",
       "      <td>NaN</td>\n",
       "      <td>NaN</td>\n",
       "      <td>NaN</td>\n",
       "    </tr>\n",
       "  </tbody>\n",
       "</table>\n",
       "</div>"
      ],
      "text/plain": [
       "               gdsc_v2:gene-exome-seq:CELL_LINE_ID  \\\n",
       "201T                                          201T   \n",
       "22RV1                                        22RV1   \n",
       "22RV1_PROSTATE                                 NaN   \n",
       "23132-87                                  23132-87   \n",
       "42-MG-BA                                  42-MG-BA   \n",
       "\n",
       "                gdsc_v2:gene-exome-seq:CELL_LINE_ID:COSMIC  \\\n",
       "201T                                             1287381.0   \n",
       "22RV1                                             924100.0   \n",
       "22RV1_PROSTATE                                         NaN   \n",
       "23132-87                                          910924.0   \n",
       "42-MG-BA                                          687561.0   \n",
       "\n",
       "               gdsc_v2:gene-copy-number:CELL_LINE_ID  \\\n",
       "201T                                            201T   \n",
       "22RV1                                          22RV1   \n",
       "22RV1_PROSTATE                                   NaN   \n",
       "23132-87                                    23132-87   \n",
       "42-MG-BA                                    42-MG-BA   \n",
       "\n",
       "               gdsc_v2:gene-copy-number:CELL_LINE_ID:COSMIC  \\\n",
       "201T                                                1287381   \n",
       "22RV1                                                924100   \n",
       "22RV1_PROSTATE                                          NaN   \n",
       "23132-87                                             910924   \n",
       "42-MG-BA                                             687561   \n",
       "\n",
       "               gdsc_v2:gene-expression:CELL_LINE_ID:COSMIC  \\\n",
       "201T                                               1287381   \n",
       "22RV1                                               924100   \n",
       "22RV1_PROSTATE                                         NaN   \n",
       "23132-87                                            910924   \n",
       "42-MG-BA                                            687561   \n",
       "\n",
       "               gdsc_v2:gene-expression:CELL_LINE_ID  \\\n",
       "201T                                           201T   \n",
       "22RV1                                         22RV1   \n",
       "22RV1_PROSTATE                                  NaN   \n",
       "23132-87                                   23132-87   \n",
       "42-MG-BA                                   42-MG-BA   \n",
       "\n",
       "               nci60_v2:gene-exome-seq:CELL_LINE_ID  \\\n",
       "201T                                            NaN   \n",
       "22RV1                                           NaN   \n",
       "22RV1_PROSTATE                                  NaN   \n",
       "23132-87                                        NaN   \n",
       "42-MG-BA                                        NaN   \n",
       "\n",
       "               nci60_v2:gene-copy-number:CELL_LINE_ID  \\\n",
       "201T                                              NaN   \n",
       "22RV1                                             NaN   \n",
       "22RV1_PROSTATE                                    NaN   \n",
       "23132-87                                          NaN   \n",
       "42-MG-BA                                          NaN   \n",
       "\n",
       "               nci60_v2:gene-expression:CELL_LINE_ID  \\\n",
       "201T                                             NaN   \n",
       "22RV1                                            NaN   \n",
       "22RV1_PROSTATE                                   NaN   \n",
       "23132-87                                         NaN   \n",
       "42-MG-BA                                         NaN   \n",
       "\n",
       "               ccle_v1:gene-exome-seq:CELL_LINE_ID  \\\n",
       "201T                                           NaN   \n",
       "22RV1                                          NaN   \n",
       "22RV1_PROSTATE                      22RV1_PROSTATE   \n",
       "23132-87                                       NaN   \n",
       "42-MG-BA                                       NaN   \n",
       "\n",
       "               ccle_v1:gene-copy-number:CELL_LINE_ID  \\\n",
       "201T                                             NaN   \n",
       "22RV1                                            NaN   \n",
       "22RV1_PROSTATE                        22RV1_PROSTATE   \n",
       "23132-87                                         NaN   \n",
       "42-MG-BA                                         NaN   \n",
       "\n",
       "               ccle_v1:gene-expression:CELL_LINE_ID  \n",
       "201T                                            NaN  \n",
       "22RV1                                           NaN  \n",
       "22RV1_PROSTATE                       22RV1_PROSTATE  \n",
       "23132-87                                        NaN  \n",
       "42-MG-BA                                        NaN  "
      ]
     },
     "execution_count": 38,
     "metadata": {},
     "output_type": "execute_result"
    }
   ],
   "source": [
    "dm.head()"
   ]
  },
  {
   "cell_type": "code",
   "execution_count": 15,
   "metadata": {
    "collapsed": false
   },
   "outputs": [
    {
     "data": {
      "text/plain": [
       "<module 'mgds.data_aggregation.entity' from '/Users/eczech/repos/mgds/python/src/mgds/data_aggregation/entity.py'>"
      ]
     },
     "execution_count": 15,
     "metadata": {},
     "output_type": "execute_result"
    }
   ],
   "source": [
    "import imp\n",
    "imp.reload(entity)"
   ]
  },
  {
   "cell_type": "code",
   "execution_count": 16,
   "metadata": {
    "collapsed": false
   },
   "outputs": [
    {
     "data": {
      "text/html": [
       "<div>\n",
       "<table border=\"1\" class=\"dataframe\">\n",
       "  <thead>\n",
       "    <tr style=\"text-align: right;\">\n",
       "      <th></th>\n",
       "      <th>MGDS_ID</th>\n",
       "      <th>MGDS_NAME</th>\n",
       "      <th>SOURCE</th>\n",
       "      <th>VALUE</th>\n",
       "    </tr>\n",
       "  </thead>\n",
       "  <tbody>\n",
       "  </tbody>\n",
       "</table>\n",
       "</div>"
      ],
      "text/plain": [
       "Empty DataFrame\n",
       "Columns: [MGDS_ID, MGDS_NAME, SOURCE, VALUE]\n",
       "Index: []"
      ]
     },
     "execution_count": 16,
     "metadata": {},
     "output_type": "execute_result"
    }
   ],
   "source": [
    "d_m = entity.emtpy_mapping_frame()\n",
    "d_m"
   ]
  },
  {
   "cell_type": "code",
   "execution_count": null,
   "metadata": {
    "collapsed": true
   },
   "outputs": [],
   "source": [
    "d_m.append()"
   ]
  },
  {
   "cell_type": "code",
   "execution_count": null,
   "metadata": {
    "collapsed": true
   },
   "outputs": [],
   "source": [
    "d_mu = entity.append_entity_mapping(entity.CELL_LINE, d_m)"
   ]
  },
  {
   "cell_type": "code",
   "execution_count": 10,
   "metadata": {
    "collapsed": false
   },
   "outputs": [
    {
     "data": {
      "text/plain": [
       "0    CAL-120\n",
       "1    CAL-120\n",
       "2    CAL-120\n",
       "3    CAL-120\n",
       "4    CAL-120\n",
       "Name: CELL_LINE_ID, dtype: object"
      ]
     },
     "execution_count": 10,
     "metadata": {},
     "output_type": "execute_result"
    }
   ],
   "source": [
    "d1['CELL_LINE_ID'].head()"
   ]
  },
  {
   "cell_type": "code",
   "execution_count": 11,
   "metadata": {
    "collapsed": false
   },
   "outputs": [
    {
     "data": {
      "text/plain": [
       "0    1321N1_CENTRAL_NERVOUS_SYSTEM\n",
       "2    1321N1_CENTRAL_NERVOUS_SYSTEM\n",
       "3    1321N1_CENTRAL_NERVOUS_SYSTEM\n",
       "4    1321N1_CENTRAL_NERVOUS_SYSTEM\n",
       "5    1321N1_CENTRAL_NERVOUS_SYSTEM\n",
       "Name: CELL_LINE_ID, dtype: object"
      ]
     },
     "execution_count": 11,
     "metadata": {},
     "output_type": "execute_result"
    }
   ],
   "source": [
    "d2['CELL_LINE_ID'].head()"
   ]
  },
  {
   "cell_type": "code",
   "execution_count": 17,
   "metadata": {
    "collapsed": false
   },
   "outputs": [
    {
     "data": {
      "text/plain": [
       "array(['1321N1_CENTRAL_NERVOUS_SYSTEM', '143B_BONE', '22RV1_PROSTATE',\n",
       "       '2313287_STOMACH', '42MGBA_CENTRAL_NERVOUS_SYSTEM',\n",
       "       '5637_URINARY_TRACT', '59M_OVARY', '639V_URINARY_TRACT',\n",
       "       '647V_URINARY_TRACT', '697_HAEMATOPOIETIC_AND_LYMPHOID_TISSUE',\n",
       "       '769P_KIDNEY', '786O_KIDNEY', '8305C_THYROID', '8505C_THYROID',\n",
       "       '8MGBA_CENTRAL_NERVOUS_SYSTEM', 'A101D_SKIN',\n",
       "       'A172_CENTRAL_NERVOUS_SYSTEM', 'A204_SOFT_TISSUE', 'A2058_SKIN',\n",
       "       'A253_SALIVARY_GLAND', 'A2780_OVARY', 'A375_SKIN',\n",
       "       'A3KAW_HAEMATOPOIETIC_AND_LYMPHOID_TISSUE', 'A498_KIDNEY',\n",
       "       'A4FUK_HAEMATOPOIETIC_AND_LYMPHOID_TISSUE', 'A549_LUNG',\n",
       "       'A673_BONE', 'A704_KIDNEY', 'ABC1_LUNG', 'ACCMESO1_PLEURA',\n",
       "       'ACHN_KIDNEY', 'AGS_STOMACH', 'ALEXANDERCELLS_LIVER',\n",
       "       'AM38_CENTRAL_NERVOUS_SYSTEM',\n",
       "       'AML193_HAEMATOPOIETIC_AND_LYMPHOID_TISSUE',\n",
       "       'AMO1_HAEMATOPOIETIC_AND_LYMPHOID_TISSUE', 'AN3CA_ENDOMETRIUM',\n",
       "       'ASPC1_PANCREAS', 'AU565_BREAST', 'AZ521_STOMACH',\n",
       "       'BC3C_URINARY_TRACT', 'BCP1_HAEMATOPOIETIC_AND_LYMPHOID_TISSUE',\n",
       "       'BCPAP_THYROID', 'BDCM_HAEMATOPOIETIC_AND_LYMPHOID_TISSUE',\n",
       "       'BECKER_CENTRAL_NERVOUS_SYSTEM', 'BEN_LUNG',\n",
       "       'BFTC905_URINARY_TRACT', 'BFTC909_KIDNEY', 'BHT101_THYROID',\n",
       "       'BHY_UPPER_AERODIGESTIVE_TRACT', 'BICR16_UPPER_AERODIGESTIVE_TRACT',\n",
       "       'BICR18_UPPER_AERODIGESTIVE_TRACT',\n",
       "       'BICR22_UPPER_AERODIGESTIVE_TRACT',\n",
       "       'BICR31_UPPER_AERODIGESTIVE_TRACT',\n",
       "       'BICR56_UPPER_AERODIGESTIVE_TRACT',\n",
       "       'BICR6_UPPER_AERODIGESTIVE_TRACT',\n",
       "       'BL41_HAEMATOPOIETIC_AND_LYMPHOID_TISSUE',\n",
       "       'BL70_HAEMATOPOIETIC_AND_LYMPHOID_TISSUE', 'BT20_BREAST',\n",
       "       'BT474_BREAST', 'BT483_BREAST', 'BT549_BREAST',\n",
       "       'BV173_HAEMATOPOIETIC_AND_LYMPHOID_TISSUE', 'BXPC3_PANCREAS',\n",
       "       'C2BBE1_LARGE_INTESTINE', 'C32_SKIN', 'C3A_LIVER',\n",
       "       'CA46_HAEMATOPOIETIC_AND_LYMPHOID_TISSUE', 'CADOES1_BONE',\n",
       "       'CAKI1_KIDNEY', 'CAKI2_KIDNEY', 'CAL120_BREAST', 'CAL12T_LUNG',\n",
       "       'CAL148_BREAST', 'CAL27_UPPER_AERODIGESTIVE_TRACT',\n",
       "       'CAL29_URINARY_TRACT', 'CAL33_UPPER_AERODIGESTIVE_TRACT',\n",
       "       'CAL51_BREAST', 'CAL54_KIDNEY', 'CAL62_THYROID', 'CAL78_BONE',\n",
       "       'CAL851_BREAST', 'CALU1_LUNG', 'CALU3_LUNG', 'CALU6_LUNG',\n",
       "       'CAMA1_BREAST', 'CAOV3_OVARY', 'CAOV4_OVARY', 'CAPAN1_PANCREAS',\n",
       "       'CAPAN2_PANCREAS', 'CAS1_CENTRAL_NERVOUS_SYSTEM',\n",
       "       'CCFSTTG1_CENTRAL_NERVOUS_SYSTEM', 'CCK81_LARGE_INTESTINE',\n",
       "       'CFPAC1_PANCREAS', 'CGTHW1_THYROID', 'CHAGOK1_LUNG', 'CHL1_SKIN',\n",
       "       'CHP126_AUTONOMIC_GANGLIA', 'CHP212_AUTONOMIC_GANGLIA',\n",
       "       'CI1_HAEMATOPOIETIC_AND_LYMPHOID_TISSUE', 'CJM_SKIN',\n",
       "       'CL11_LARGE_INTESTINE', 'CL14_LARGE_INTESTINE',\n",
       "       'CL34_LARGE_INTESTINE', 'CL40_LARGE_INTESTINE',\n",
       "       'CMK115_HAEMATOPOIETIC_AND_LYMPHOID_TISSUE',\n",
       "       'CMK86_HAEMATOPOIETIC_AND_LYMPHOID_TISSUE',\n",
       "       'CMK_HAEMATOPOIETIC_AND_LYMPHOID_TISSUE',\n",
       "       'CMLT1_HAEMATOPOIETIC_AND_LYMPHOID_TISSUE',\n",
       "       'COLO205_LARGE_INTESTINE', 'COLO320_LARGE_INTESTINE',\n",
       "       'COLO668_LUNG', 'COLO678_LARGE_INTESTINE', 'COLO679_SKIN',\n",
       "       'COLO680N_OESOPHAGUS', 'COLO684_ENDOMETRIUM', 'COLO699_LUNG',\n",
       "       'COLO704_OVARY', 'COLO741_SKIN', 'COLO783_SKIN', 'COLO792_SKIN',\n",
       "       'COLO800_SKIN', 'COLO818_SKIN', 'COLO829_SKIN', 'COLO849_SKIN',\n",
       "       'CORL105_LUNG', 'CORL23_LUNG', 'CORL24_LUNG', 'CORL279_LUNG',\n",
       "       'CORL311_LUNG', 'CORL47_LUNG', 'CORL88_LUNG', 'CORL95_LUNG',\n",
       "       'COV318_OVARY', 'COV362_OVARY', 'COV434_OVARY', 'COV504_OVARY',\n",
       "       'COV644_OVARY', 'CPCN_LUNG', 'CW2_LARGE_INTESTINE',\n",
       "       'D283MED_CENTRAL_NERVOUS_SYSTEM', 'D341MED_CENTRAL_NERVOUS_SYSTEM',\n",
       "       'DANG_PANCREAS', 'DAOY_CENTRAL_NERVOUS_SYSTEM',\n",
       "       'DAUDI_HAEMATOPOIETIC_AND_LYMPHOID_TISSUE',\n",
       "       'DBTRG05MG_CENTRAL_NERVOUS_SYSTEM',\n",
       "       'DB_HAEMATOPOIETIC_AND_LYMPHOID_TISSUE',\n",
       "       'DEL_HAEMATOPOIETIC_AND_LYMPHOID_TISSUE',\n",
       "       'DETROIT562_UPPER_AERODIGESTIVE_TRACT',\n",
       "       'DKMG_CENTRAL_NERVOUS_SYSTEM', 'DLD1_LARGE_INTESTINE',\n",
       "       'DMS114_LUNG', 'DMS153_LUNG', 'DMS273_LUNG', 'DMS454_LUNG',\n",
       "       'DMS53_LUNG', 'DMS79_LUNG',\n",
       "       'DND41_HAEMATOPOIETIC_AND_LYMPHOID_TISSUE',\n",
       "       'DOHH2_HAEMATOPOIETIC_AND_LYMPHOID_TISSUE', 'DU145_PROSTATE',\n",
       "       'DU4475_BREAST', 'DV90_LUNG',\n",
       "       'EB1_HAEMATOPOIETIC_AND_LYMPHOID_TISSUE',\n",
       "       'EB2_HAEMATOPOIETIC_AND_LYMPHOID_TISSUE', 'EBC1_LUNG',\n",
       "       'ECC10_STOMACH', 'ECC12_STOMACH', 'ECGI10_OESOPHAGUS',\n",
       "       'EFE184_ENDOMETRIUM', 'EFM192A_BREAST', 'EFM19_BREAST',\n",
       "       'EFO21_OVARY', 'EFO27_OVARY',\n",
       "       'EHEB_HAEMATOPOIETIC_AND_LYMPHOID_TISSUE',\n",
       "       'EJM_HAEMATOPOIETIC_AND_LYMPHOID_TISSUE',\n",
       "       'EM2_HAEMATOPOIETIC_AND_LYMPHOID_TISSUE', 'EN_ENDOMETRIUM',\n",
       "       'EOL1_HAEMATOPOIETIC_AND_LYMPHOID_TISSUE', 'EPLC272H_LUNG',\n",
       "       'ES2_OVARY', 'ESS1_ENDOMETRIUM',\n",
       "       'F36P_HAEMATOPOIETIC_AND_LYMPHOID_TISSUE',\n",
       "       'FADU_UPPER_AERODIGESTIVE_TRACT', 'FTC133_THYROID', 'FU97_STOMACH',\n",
       "       'FUOV1_OVARY', 'G292CLONEA141B1_BONE', 'G361_SKIN',\n",
       "       'G401_SOFT_TISSUE', 'G402_SOFT_TISSUE',\n",
       "       'GA10_HAEMATOPOIETIC_AND_LYMPHOID_TISSUE',\n",
       "       'GAMG_CENTRAL_NERVOUS_SYSTEM', 'GB1_CENTRAL_NERVOUS_SYSTEM',\n",
       "       'GCIY_STOMACH', 'GCT_SOFT_TISSUE',\n",
       "       'GDM1_HAEMATOPOIETIC_AND_LYMPHOID_TISSUE',\n",
       "       'GI1_CENTRAL_NERVOUS_SYSTEM', 'GMS10_CENTRAL_NERVOUS_SYSTEM',\n",
       "       'GOS3_CENTRAL_NERVOUS_SYSTEM', 'GP2D_LARGE_INTESTINE',\n",
       "       'GRANTA519_HAEMATOPOIETIC_AND_LYMPHOID_TISSUE', 'GSS_STOMACH',\n",
       "       'GSU_STOMACH', 'H4_CENTRAL_NERVOUS_SYSTEM', 'HARA_LUNG',\n",
       "       'HCC1143_BREAST', 'HCC1171_LUNG', 'HCC1187_BREAST', 'HCC1195_LUNG',\n",
       "       'HCC1395_BREAST', 'HCC1419_BREAST', 'HCC1428_BREAST',\n",
       "       'HCC1500_BREAST', 'HCC1569_BREAST', 'HCC1599_BREAST', 'HCC15_LUNG',\n",
       "       'HCC1806_BREAST', 'HCC1937_BREAST', 'HCC1954_BREAST',\n",
       "       'HCC202_BREAST', 'HCC2157_BREAST', 'HCC2218_BREAST', 'HCC2279_LUNG',\n",
       "       'HCC2935_LUNG', 'HCC33_LUNG', 'HCC366_LUNG', 'HCC38_BREAST',\n",
       "       'HCC4006_LUNG', 'HCC44_LUNG', 'HCC56_LARGE_INTESTINE',\n",
       "       'HCC70_BREAST', 'HCC78_LUNG', 'HCC827_LUNG', 'HCC95_LUNG',\n",
       "       'HCT116_LARGE_INTESTINE', 'HCT15_LARGE_INTESTINE',\n",
       "       'HDLM2_HAEMATOPOIETIC_AND_LYMPHOID_TISSUE',\n",
       "       'HDMYZ_HAEMATOPOIETIC_AND_LYMPHOID_TISSUE', 'HDQP1_BREAST',\n",
       "       'HEC108_ENDOMETRIUM', 'HEC151_ENDOMETRIUM', 'HEC1A_ENDOMETRIUM',\n",
       "       'HEC1B_ENDOMETRIUM', 'HEC251_ENDOMETRIUM', 'HEC265_ENDOMETRIUM',\n",
       "       'HEC50B_ENDOMETRIUM', 'HEC59_ENDOMETRIUM', 'HEC6_ENDOMETRIUM',\n",
       "       'HEL9217_HAEMATOPOIETIC_AND_LYMPHOID_TISSUE',\n",
       "       'HEL_HAEMATOPOIETIC_AND_LYMPHOID_TISSUE', 'HEP3B217_LIVER',\n",
       "       'HEPG2_LIVER', 'HEYA8_OVARY', 'HGC27_STOMACH',\n",
       "       'HH_HAEMATOPOIETIC_AND_LYMPHOID_TISSUE',\n",
       "       'HL60_HAEMATOPOIETIC_AND_LYMPHOID_TISSUE', 'HLE_LIVER', 'HLFA_LUNG',\n",
       "       'HLF_LIVER', 'HMCB_SKIN', 'HOS_BONE', 'HPAC_PANCREAS',\n",
       "       'HPAFII_PANCREAS', 'HPBALL_HAEMATOPOIETIC_AND_LYMPHOID_TISSUE',\n",
       "       'HS172T_URINARY_TRACT', 'HS229T_LUNG', 'HS274T_BREAST',\n",
       "       'HS281T_BREAST', 'HS294T_SKIN', 'HS343T_BREAST', 'HS578T_BREAST',\n",
       "       'HS600T_SKIN', 'HS604T_HAEMATOPOIETIC_AND_LYMPHOID_TISSUE',\n",
       "       'HS606T_BREAST', 'HS611T_HAEMATOPOIETIC_AND_LYMPHOID_TISSUE',\n",
       "       'HS616T_HAEMATOPOIETIC_AND_LYMPHOID_TISSUE', 'HS618T_LUNG',\n",
       "       'HS675T_LARGE_INTESTINE', 'HS683_CENTRAL_NERVOUS_SYSTEM',\n",
       "       'HS688AT_SKIN', 'HS695T_SKIN', 'HS698T_LARGE_INTESTINE',\n",
       "       'HS706T_BONE', 'HS729_SOFT_TISSUE', 'HS737T_BONE', 'HS739T_BREAST',\n",
       "       'HS742T_BREAST', 'HS746T_STOMACH',\n",
       "       'HS751T_HAEMATOPOIETIC_AND_LYMPHOID_TISSUE', 'HS766T_PANCREAS',\n",
       "       'HS819T_BONE', 'HS821T_BONE', 'HS822T_BONE', 'HS839T_SKIN',\n",
       "       'HS840T_UPPER_AERODIGESTIVE_TRACT', 'HS852T_SKIN', 'HS863T_BONE',\n",
       "       'HS870T_BONE', 'HS888T_BONE', 'HS895T_SKIN', 'HS934T_SKIN',\n",
       "       'HS936T_SKIN', 'HS939T_SKIN', 'HS940T_SKIN', 'HS944T_SKIN',\n",
       "       'HSC2_UPPER_AERODIGESTIVE_TRACT', 'HSC3_UPPER_AERODIGESTIVE_TRACT',\n",
       "       'HSC4_UPPER_AERODIGESTIVE_TRACT', 'HT1080_SOFT_TISSUE',\n",
       "       'HT115_LARGE_INTESTINE', 'HT1197_URINARY_TRACT',\n",
       "       'HT1376_URINARY_TRACT', 'HT144_SKIN', 'HT29_LARGE_INTESTINE',\n",
       "       'HT55_LARGE_INTESTINE', 'HTK_HAEMATOPOIETIC_AND_LYMPHOID_TISSUE',\n",
       "       'HT_HAEMATOPOIETIC_AND_LYMPHOID_TISSUE', 'HUCCT1_BILIARY_TRACT',\n",
       "       'HUG1N_STOMACH', 'HUH1_LIVER', 'HUH28_BILIARY_TRACT', 'HUH6_LIVER',\n",
       "       'HUH7_LIVER', 'HUNS1_HAEMATOPOIETIC_AND_LYMPHOID_TISSUE',\n",
       "       'HUPT3_PANCREAS', 'HUPT4_PANCREAS',\n",
       "       'HUT102_HAEMATOPOIETIC_AND_LYMPHOID_TISSUE',\n",
       "       'HUT78_HAEMATOPOIETIC_AND_LYMPHOID_TISSUE',\n",
       "       'HUTU80_SMALL_INTESTINE', 'IALM_LUNG', 'IGR1_SKIN', 'IGR37_SKIN',\n",
       "       'IGR39_SKIN', 'IGROV1_OVARY', 'IM95_STOMACH',\n",
       "       'IMR32_AUTONOMIC_GANGLIA', 'IPC298_SKIN',\n",
       "       'ISHIKAWAHERAKLIO02ER_ENDOMETRIUM', 'ISTMES1_PLEURA',\n",
       "       'ISTMES2_PLEURA', 'J82_URINARY_TRACT',\n",
       "       'JEKO1_HAEMATOPOIETIC_AND_LYMPHOID_TISSUE', 'JHH1_LIVER',\n",
       "       'JHH2_LIVER', 'JHH4_LIVER', 'JHH5_LIVER', 'JHH6_LIVER',\n",
       "       'JHH7_LIVER', 'JHOC5_OVARY', 'JHOM1_OVARY', 'JHOM2B_OVARY',\n",
       "       'JHOS2_OVARY', 'JHOS4_OVARY', 'JHUEM1_ENDOMETRIUM',\n",
       "       'JHUEM2_ENDOMETRIUM', 'JHUEM3_ENDOMETRIUM', 'JIMT1_BREAST',\n",
       "       'JK1_HAEMATOPOIETIC_AND_LYMPHOID_TISSUE', 'JL1_PLEURA',\n",
       "       'JM1_HAEMATOPOIETIC_AND_LYMPHOID_TISSUE', 'JMSU1_URINARY_TRACT',\n",
       "       'JURKAT_HAEMATOPOIETIC_AND_LYMPHOID_TISSUE',\n",
       "       'JURLMK1_HAEMATOPOIETIC_AND_LYMPHOID_TISSUE',\n",
       "       'JVM2_HAEMATOPOIETIC_AND_LYMPHOID_TISSUE',\n",
       "       'JVM3_HAEMATOPOIETIC_AND_LYMPHOID_TISSUE', 'K029AX_SKIN',\n",
       "       'K562_HAEMATOPOIETIC_AND_LYMPHOID_TISSUE',\n",
       "       'KALS1_CENTRAL_NERVOUS_SYSTEM',\n",
       "       'KARPAS299_HAEMATOPOIETIC_AND_LYMPHOID_TISSUE',\n",
       "       'KARPAS620_HAEMATOPOIETIC_AND_LYMPHOID_TISSUE',\n",
       "       'KASUMI1_HAEMATOPOIETIC_AND_LYMPHOID_TISSUE',\n",
       "       'KASUMI2_HAEMATOPOIETIC_AND_LYMPHOID_TISSUE',\n",
       "       'KASUMI6_HAEMATOPOIETIC_AND_LYMPHOID_TISSUE', 'KATOIII_STOMACH',\n",
       "       'KCIMOH1_PANCREAS', 'KCL22_HAEMATOPOIETIC_AND_LYMPHOID_TISSUE',\n",
       "       'KE37_HAEMATOPOIETIC_AND_LYMPHOID_TISSUE', 'KE39_STOMACH',\n",
       "       'KE97_HAEMATOPOIETIC_AND_LYMPHOID_TISSUE',\n",
       "       'KELLY_AUTONOMIC_GANGLIA', 'KG1C_CENTRAL_NERVOUS_SYSTEM',\n",
       "       'KG1_HAEMATOPOIETIC_AND_LYMPHOID_TISSUE',\n",
       "       'KHM1B_HAEMATOPOIETIC_AND_LYMPHOID_TISSUE',\n",
       "       'KIJK_HAEMATOPOIETIC_AND_LYMPHOID_TISSUE', 'KLE_ENDOMETRIUM',\n",
       "       'KLM1_PANCREAS', 'KM12_LARGE_INTESTINE', 'KMBC2_URINARY_TRACT',\n",
       "       'KMH2_HAEMATOPOIETIC_AND_LYMPHOID_TISSUE',\n",
       "       'KMM1_HAEMATOPOIETIC_AND_LYMPHOID_TISSUE', 'KMRC1_KIDNEY',\n",
       "       'KMRC20_KIDNEY', 'KMRC2_KIDNEY', 'KMRC3_KIDNEY',\n",
       "       'KMS11_HAEMATOPOIETIC_AND_LYMPHOID_TISSUE',\n",
       "       'KMS12BM_HAEMATOPOIETIC_AND_LYMPHOID_TISSUE',\n",
       "       'KMS18_HAEMATOPOIETIC_AND_LYMPHOID_TISSUE',\n",
       "       'KMS20_HAEMATOPOIETIC_AND_LYMPHOID_TISSUE',\n",
       "       'KMS21BM_HAEMATOPOIETIC_AND_LYMPHOID_TISSUE',\n",
       "       'KMS26_HAEMATOPOIETIC_AND_LYMPHOID_TISSUE',\n",
       "       'KMS27_HAEMATOPOIETIC_AND_LYMPHOID_TISSUE',\n",
       "       'KMS28BM_HAEMATOPOIETIC_AND_LYMPHOID_TISSUE',\n",
       "       'KMS34_HAEMATOPOIETIC_AND_LYMPHOID_TISSUE',\n",
       "       'KNS42_CENTRAL_NERVOUS_SYSTEM', 'KNS60_CENTRAL_NERVOUS_SYSTEM',\n",
       "       'KNS62_LUNG', 'KNS81_CENTRAL_NERVOUS_SYSTEM',\n",
       "       'KO52_HAEMATOPOIETIC_AND_LYMPHOID_TISSUE',\n",
       "       'KOPN8_HAEMATOPOIETIC_AND_LYMPHOID_TISSUE', 'KP2_PANCREAS',\n",
       "       'KP3_PANCREAS', 'KP4_PANCREAS', 'KPL1_BREAST',\n",
       "       'KPNRTBM1_AUTONOMIC_GANGLIA', 'KPNSI9S_AUTONOMIC_GANGLIA',\n",
       "       'KPNYN_AUTONOMIC_GANGLIA', 'KS1_CENTRAL_NERVOUS_SYSTEM',\n",
       "       'KU1919_URINARY_TRACT', 'KU812_HAEMATOPOIETIC_AND_LYMPHOID_TISSUE',\n",
       "       'KURAMOCHI_OVARY', 'KYM1_SOFT_TISSUE',\n",
       "       'KYO1_HAEMATOPOIETIC_AND_LYMPHOID_TISSUE', 'KYSE140_OESOPHAGUS',\n",
       "       'KYSE150_OESOPHAGUS', 'KYSE180_OESOPHAGUS', 'KYSE270_OESOPHAGUS',\n",
       "       'KYSE30_OESOPHAGUS', 'KYSE410_OESOPHAGUS', 'KYSE450_OESOPHAGUS',\n",
       "       'KYSE510_OESOPHAGUS', 'KYSE520_OESOPHAGUS', 'KYSE70_OESOPHAGUS',\n",
       "       'L1236_HAEMATOPOIETIC_AND_LYMPHOID_TISSUE', 'L33_PANCREAS',\n",
       "       'L363_HAEMATOPOIETIC_AND_LYMPHOID_TISSUE',\n",
       "       'L428_HAEMATOPOIETIC_AND_LYMPHOID_TISSUE',\n",
       "       'L540_HAEMATOPOIETIC_AND_LYMPHOID_TISSUE',\n",
       "       'LAMA84_HAEMATOPOIETIC_AND_LYMPHOID_TISSUE', 'LC1SQSF_LUNG',\n",
       "       'LCLC103H_LUNG', 'LCLC97TM1_LUNG', 'LI7_LIVER', 'LK2_LUNG',\n",
       "       'LMSU_STOMACH', 'LN18_CENTRAL_NERVOUS_SYSTEM',\n",
       "       'LN229_CENTRAL_NERVOUS_SYSTEM', 'LNCAPCLONEFGC_PROSTATE',\n",
       "       'LOUCY_HAEMATOPOIETIC_AND_LYMPHOID_TISSUE', 'LOUNH91_LUNG',\n",
       "       'LOVO_LARGE_INTESTINE', 'LOXIMVI_SKIN',\n",
       "       'LP1_HAEMATOPOIETIC_AND_LYMPHOID_TISSUE', 'LS1034_LARGE_INTESTINE',\n",
       "       'LS123_LARGE_INTESTINE', 'LS180_LARGE_INTESTINE',\n",
       "       'LS411N_LARGE_INTESTINE', 'LS513_LARGE_INTESTINE', 'LU65_LUNG',\n",
       "       'LU99_LUNG', 'LUDLU1_LUNG', 'LXF289_LUNG',\n",
       "       'M059K_CENTRAL_NERVOUS_SYSTEM',\n",
       "       'M07E_HAEMATOPOIETIC_AND_LYMPHOID_TISSUE', 'MALME3M_SKIN',\n",
       "       'MC116_HAEMATOPOIETIC_AND_LYMPHOID_TISSUE', 'MCAS_OVARY',\n",
       "       'MCF7_BREAST', 'MDAMB134VI_BREAST', 'MDAMB157_BREAST',\n",
       "       'MDAMB175VII_BREAST', 'MDAMB231_BREAST', 'MDAMB361_BREAST',\n",
       "       'MDAMB415_BREAST', 'MDAMB435S_SKIN', 'MDAMB436_BREAST',\n",
       "       'MDAMB453_BREAST', 'MDAMB468_BREAST', 'MDAPCA2B_PROSTATE',\n",
       "       'MDST8_LARGE_INTESTINE', 'ME1_HAEMATOPOIETIC_AND_LYMPHOID_TISSUE',\n",
       "       'MEC1_HAEMATOPOIETIC_AND_LYMPHOID_TISSUE',\n",
       "       'MEC2_HAEMATOPOIETIC_AND_LYMPHOID_TISSUE',\n",
       "       'MEG01_HAEMATOPOIETIC_AND_LYMPHOID_TISSUE', 'MELHO_SKIN',\n",
       "       'MELJUSO_SKIN', 'MEWO_SKIN', 'MFE280_ENDOMETRIUM',\n",
       "       'MFE296_ENDOMETRIUM', 'MFE319_ENDOMETRIUM', 'MG63_BONE',\n",
       "       'MHHCALL2_HAEMATOPOIETIC_AND_LYMPHOID_TISSUE',\n",
       "       'MHHCALL3_HAEMATOPOIETIC_AND_LYMPHOID_TISSUE',\n",
       "       'MHHCALL4_HAEMATOPOIETIC_AND_LYMPHOID_TISSUE', 'MHHES1_BONE',\n",
       "       'MHHNB11_AUTONOMIC_GANGLIA', 'MIAPACA2_PANCREAS',\n",
       "       'MINO_HAEMATOPOIETIC_AND_LYMPHOID_TISSUE',\n",
       "       'MJ_HAEMATOPOIETIC_AND_LYMPHOID_TISSUE', 'MKN1_STOMACH',\n",
       "       'MKN45_STOMACH', 'MKN74_STOMACH', 'MKN7_STOMACH', 'ML1_THYROID',\n",
       "       'MM1S_HAEMATOPOIETIC_AND_LYMPHOID_TISSUE',\n",
       "       'MOLM13_HAEMATOPOIETIC_AND_LYMPHOID_TISSUE',\n",
       "       'MOLM16_HAEMATOPOIETIC_AND_LYMPHOID_TISSUE',\n",
       "       'MOLM6_HAEMATOPOIETIC_AND_LYMPHOID_TISSUE',\n",
       "       'MOLP2_HAEMATOPOIETIC_AND_LYMPHOID_TISSUE',\n",
       "       'MOLP8_HAEMATOPOIETIC_AND_LYMPHOID_TISSUE',\n",
       "       'MOLT13_HAEMATOPOIETIC_AND_LYMPHOID_TISSUE',\n",
       "       'MOLT16_HAEMATOPOIETIC_AND_LYMPHOID_TISSUE',\n",
       "       'MOLT4_HAEMATOPOIETIC_AND_LYMPHOID_TISSUE',\n",
       "       'MONOMAC1_HAEMATOPOIETIC_AND_LYMPHOID_TISSUE',\n",
       "       'MONOMAC6_HAEMATOPOIETIC_AND_LYMPHOID_TISSUE', 'MORCPR_LUNG',\n",
       "       'MOTN1_HAEMATOPOIETIC_AND_LYMPHOID_TISSUE', 'MPP89_PLEURA',\n",
       "       'MSTO211H_PLEURA', 'MUTZ5_HAEMATOPOIETIC_AND_LYMPHOID_TISSUE',\n",
       "       'MV411_HAEMATOPOIETIC_AND_LYMPHOID_TISSUE',\n",
       "       'NALM19_HAEMATOPOIETIC_AND_LYMPHOID_TISSUE',\n",
       "       'NALM1_HAEMATOPOIETIC_AND_LYMPHOID_TISSUE',\n",
       "       'NALM6_HAEMATOPOIETIC_AND_LYMPHOID_TISSUE',\n",
       "       'NAMALWA_HAEMATOPOIETIC_AND_LYMPHOID_TISSUE',\n",
       "       'NB1_AUTONOMIC_GANGLIA', 'NB4_HAEMATOPOIETIC_AND_LYMPHOID_TISSUE',\n",
       "       'NCCSTCK140_STOMACH', 'NCIH1048_LUNG', 'NCIH1092_LUNG',\n",
       "       'NCIH1105_LUNG', 'NCIH1155_LUNG', 'NCIH1184_LUNG', 'NCIH1299_LUNG',\n",
       "       'NCIH1339_LUNG', 'NCIH1341_LUNG', 'NCIH1355_LUNG', 'NCIH1373_LUNG',\n",
       "       'NCIH1385_LUNG', 'NCIH1395_LUNG', 'NCIH1435_LUNG', 'NCIH1436_LUNG',\n",
       "       'NCIH1437_LUNG', 'NCIH146_LUNG', 'NCIH1563_LUNG', 'NCIH1568_LUNG',\n",
       "       'NCIH1573_LUNG', 'NCIH1581_LUNG', 'NCIH1618_LUNG', 'NCIH1623_LUNG',\n",
       "       'NCIH1648_LUNG', 'NCIH1650_LUNG', 'NCIH1651_LUNG', 'NCIH1666_LUNG',\n",
       "       'NCIH1693_LUNG', 'NCIH1694_LUNG', 'NCIH1703_LUNG', 'NCIH1734_LUNG',\n",
       "       'NCIH1755_LUNG', 'NCIH1781_LUNG', 'NCIH1792_LUNG', 'NCIH1793_LUNG',\n",
       "       'NCIH1836_LUNG', 'NCIH1838_LUNG', 'NCIH1869_LUNG', 'NCIH1876_LUNG',\n",
       "       'NCIH1915_LUNG', 'NCIH1930_LUNG', 'NCIH1944_LUNG', 'NCIH1963_LUNG',\n",
       "       'NCIH196_LUNG', 'NCIH1975_LUNG', 'NCIH2009_LUNG', 'NCIH2023_LUNG',\n",
       "       'NCIH2029_LUNG', 'NCIH2030_LUNG', 'NCIH2052_PLEURA',\n",
       "       'NCIH2066_LUNG', 'NCIH2081_LUNG', 'NCIH2085_LUNG', 'NCIH2087_LUNG',\n",
       "       'NCIH209_LUNG', 'NCIH2106_LUNG', 'NCIH2110_LUNG', 'NCIH211_LUNG',\n",
       "       'NCIH2122_LUNG', 'NCIH2126_LUNG', 'NCIH2141_LUNG', 'NCIH2170_LUNG',\n",
       "       'NCIH2171_LUNG', 'NCIH2172_LUNG', 'NCIH2196_LUNG', 'NCIH2227_LUNG',\n",
       "       'NCIH2228_LUNG', 'NCIH226_LUNG', 'NCIH2286_LUNG', 'NCIH2291_LUNG',\n",
       "       'NCIH2342_LUNG', 'NCIH2347_LUNG', 'NCIH23_LUNG', 'NCIH2405_LUNG',\n",
       "       'NCIH2444_LUNG', 'NCIH2452_PLEURA', 'NCIH28_PLEURA', 'NCIH292_LUNG',\n",
       "       'NCIH322_LUNG', 'NCIH358_LUNG', 'NCIH441_LUNG', 'NCIH446_LUNG',\n",
       "       'NCIH460_LUNG', 'NCIH508_LARGE_INTESTINE', 'NCIH510_LUNG',\n",
       "       'NCIH520_LUNG', 'NCIH522_LUNG', 'NCIH524_LUNG', 'NCIH526_LUNG',\n",
       "       'NCIH596_LUNG', 'NCIH647_LUNG', 'NCIH650_LUNG', 'NCIH660_PROSTATE',\n",
       "       'NCIH661_LUNG', 'NCIH69_LUNG', 'NCIH716_LARGE_INTESTINE',\n",
       "       'NCIH727_LUNG', 'NCIH747_LARGE_INTESTINE', 'NCIH810_LUNG',\n",
       "       'NCIH82_LUNG', 'NCIH838_LUNG', 'NCIH841_LUNG', 'NCIH854_LUNG',\n",
       "       'NCIH889_LUNG', 'NCIH929_HAEMATOPOIETIC_AND_LYMPHOID_TISSUE',\n",
       "       'NCIN87_STOMACH', 'NCO2_HAEMATOPOIETIC_AND_LYMPHOID_TISSUE',\n",
       "       'NH6_AUTONOMIC_GANGLIA', 'NIHOVCAR3_OVARY',\n",
       "       'NMCG1_CENTRAL_NERVOUS_SYSTEM',\n",
       "       'NOMO1_HAEMATOPOIETIC_AND_LYMPHOID_TISSUE',\n",
       "       'NUDHL1_HAEMATOPOIETIC_AND_LYMPHOID_TISSUE',\n",
       "       'NUDUL1_HAEMATOPOIETIC_AND_LYMPHOID_TISSUE', 'NUGC2_STOMACH',\n",
       "       'NUGC3_STOMACH', 'NUGC4_STOMACH', 'OAW28_OVARY', 'OAW42_OVARY',\n",
       "       'OC314_OVARY', 'OC316_OVARY',\n",
       "       'OCIAML2_HAEMATOPOIETIC_AND_LYMPHOID_TISSUE',\n",
       "       'OCIAML3_HAEMATOPOIETIC_AND_LYMPHOID_TISSUE',\n",
       "       'OCIAML5_HAEMATOPOIETIC_AND_LYMPHOID_TISSUE',\n",
       "       'OCILY19_HAEMATOPOIETIC_AND_LYMPHOID_TISSUE',\n",
       "       'OCILY3_HAEMATOPOIETIC_AND_LYMPHOID_TISSUE',\n",
       "       'OCIM1_HAEMATOPOIETIC_AND_LYMPHOID_TISSUE', 'OCUM1_STOMACH',\n",
       "       'OE19_OESOPHAGUS', 'OE33_OESOPHAGUS',\n",
       "       'ONS76_CENTRAL_NERVOUS_SYSTEM',\n",
       "       'OPM2_HAEMATOPOIETIC_AND_LYMPHOID_TISSUE', 'OUMS23_LARGE_INTESTINE',\n",
       "       'OUMS27_BONE', 'OV56_OVARY', 'OV7_OVARY', 'OV90_OVARY',\n",
       "       'OVCAR4_OVARY', 'OVCAR8_OVARY', 'OVISE_OVARY', 'OVK18_OVARY',\n",
       "       'OVKATE_OVARY', 'OVMANA_OVARY', 'OVSAHO_OVARY', 'OVTOKO_OVARY',\n",
       "       'P12ICHIKAWA_HAEMATOPOIETIC_AND_LYMPHOID_TISSUE',\n",
       "       'P31FUJ_HAEMATOPOIETIC_AND_LYMPHOID_TISSUE',\n",
       "       'P3HR1_HAEMATOPOIETIC_AND_LYMPHOID_TISSUE', 'PANC0203_PANCREAS',\n",
       "       'PANC0213_PANCREAS', 'PANC0327_PANCREAS', 'PANC0403_PANCREAS',\n",
       "       'PANC0504_PANCREAS', 'PANC0813_PANCREAS', 'PANC1005_PANCREAS',\n",
       "       'PANC1_PANCREAS', 'PATU8902_PANCREAS', 'PATU8988S_PANCREAS',\n",
       "       'PATU8988T_PANCREAS', 'PC14_LUNG', 'PC3_PROSTATE',\n",
       "       'PCM6_HAEMATOPOIETIC_AND_LYMPHOID_TISSUE',\n",
       "       'PECAPJ15_UPPER_AERODIGESTIVE_TRACT',\n",
       "       'PECAPJ34CLONEC12_UPPER_AERODIGESTIVE_TRACT',\n",
       "       'PECAPJ41CLONED2_UPPER_AERODIGESTIVE_TRACT',\n",
       "       'PECAPJ49_UPPER_AERODIGESTIVE_TRACT',\n",
       "       'PEER_HAEMATOPOIETIC_AND_LYMPHOID_TISSUE',\n",
       "       'PF382_HAEMATOPOIETIC_AND_LYMPHOID_TISSUE',\n",
       "       'PFEIFFER_HAEMATOPOIETIC_AND_LYMPHOID_TISSUE', 'PK1_PANCREAS',\n",
       "       'PK45H_PANCREAS', 'PK59_PANCREAS',\n",
       "       'PL21_HAEMATOPOIETIC_AND_LYMPHOID_TISSUE', 'PL45_PANCREAS',\n",
       "       'PLCPRF5_LIVER', 'PSN1_PANCREAS', 'QGP1_PANCREAS',\n",
       "       'RAJI_HAEMATOPOIETIC_AND_LYMPHOID_TISSUE', 'RCC10RGB_KIDNEY',\n",
       "       'RCHACV_HAEMATOPOIETIC_AND_LYMPHOID_TISSUE', 'RCM1_LARGE_INTESTINE',\n",
       "       'RDES_BONE', 'RD_SOFT_TISSUE',\n",
       "       'REC1_HAEMATOPOIETIC_AND_LYMPHOID_TISSUE',\n",
       "       'REH_HAEMATOPOIETIC_AND_LYMPHOID_TISSUE', 'RERFGC1B_STOMACH',\n",
       "       'RERFLCAD1_LUNG', 'RERFLCAD2_LUNG', 'RERFLCAI_LUNG',\n",
       "       'RERFLCKJ_LUNG', 'RERFLCMS_LUNG', 'RERFLCSQ1_LUNG',\n",
       "       'RH30_SOFT_TISSUE', 'RH41_SOFT_TISSUE',\n",
       "       'RI1_HAEMATOPOIETIC_AND_LYMPHOID_TISSUE', 'RKN_SOFT_TISSUE',\n",
       "       'RKO_LARGE_INTESTINE', 'RL952_ENDOMETRIUM',\n",
       "       'RL_HAEMATOPOIETIC_AND_LYMPHOID_TISSUE', 'RMGI_OVARY',\n",
       "       'RMUGS_OVARY', 'RPMI7951_SKIN',\n",
       "       'RPMI8226_HAEMATOPOIETIC_AND_LYMPHOID_TISSUE',\n",
       "       'RPMI8402_HAEMATOPOIETIC_AND_LYMPHOID_TISSUE',\n",
       "       'RS411_HAEMATOPOIETIC_AND_LYMPHOID_TISSUE', 'RT11284_URINARY_TRACT',\n",
       "       'RT112_URINARY_TRACT', 'RT4_URINARY_TRACT', 'RVH421_SKIN',\n",
       "       'S117_SOFT_TISSUE', 'SBC5_LUNG', 'SCABER_URINARY_TRACT',\n",
       "       'SCC15_UPPER_AERODIGESTIVE_TRACT',\n",
       "       'SCC25_UPPER_AERODIGESTIVE_TRACT', 'SCC4_UPPER_AERODIGESTIVE_TRACT',\n",
       "       'SCC9_UPPER_AERODIGESTIVE_TRACT', 'SCLC21H_LUNG',\n",
       "       'SEM_HAEMATOPOIETIC_AND_LYMPHOID_TISSUE',\n",
       "       'SET2_HAEMATOPOIETIC_AND_LYMPHOID_TISSUE',\n",
       "       'SF126_CENTRAL_NERVOUS_SYSTEM', 'SF295_CENTRAL_NERVOUS_SYSTEM',\n",
       "       'SH10TC_STOMACH', 'SH4_SKIN', 'SHP77_LUNG',\n",
       "       'SHSY5Y_AUTONOMIC_GANGLIA',\n",
       "       'SIGM5_HAEMATOPOIETIC_AND_LYMPHOID_TISSUE',\n",
       "       'SIMA_AUTONOMIC_GANGLIA', 'SJRH30_SOFT_TISSUE', 'SJSA1_BONE',\n",
       "       'SKBR3_BREAST', 'SKCO1_LARGE_INTESTINE', 'SKES1_BONE',\n",
       "       'SKHEP1_LIVER', 'SKLMS1_SOFT_TISSUE', 'SKLU1_LUNG',\n",
       "       'SKM1_HAEMATOPOIETIC_AND_LYMPHOID_TISSUE', 'SKMEL1_SKIN',\n",
       "       'SKMEL24_SKIN', 'SKMEL28_SKIN', 'SKMEL2_SKIN', 'SKMEL30_SKIN',\n",
       "       'SKMEL31_SKIN', 'SKMEL3_SKIN', 'SKMEL5_SKIN', 'SKMES1_LUNG',\n",
       "       'SKMM2_HAEMATOPOIETIC_AND_LYMPHOID_TISSUE',\n",
       "       'SKNAS_AUTONOMIC_GANGLIA', 'SKNBE2_AUTONOMIC_GANGLIA',\n",
       "       'SKNDZ_AUTONOMIC_GANGLIA', 'SKNFI_AUTONOMIC_GANGLIA', 'SKNMC_BONE',\n",
       "       'SKNSH_AUTONOMIC_GANGLIA', 'SKOV3_OVARY', 'SKUT1_SOFT_TISSUE',\n",
       "       'SNB19_CENTRAL_NERVOUS_SYSTEM', 'SNGM_ENDOMETRIUM',\n",
       "       'SNU1040_LARGE_INTESTINE', 'SNU1076_UPPER_AERODIGESTIVE_TRACT',\n",
       "       'SNU1077_ENDOMETRIUM', 'SNU1079_BILIARY_TRACT',\n",
       "       'SNU1105_CENTRAL_NERVOUS_SYSTEM', 'SNU1196_BILIARY_TRACT',\n",
       "       'SNU119_OVARY', 'SNU1214_UPPER_AERODIGESTIVE_TRACT',\n",
       "       'SNU1272_KIDNEY', 'SNU16_STOMACH', 'SNU175_LARGE_INTESTINE',\n",
       "       'SNU182_LIVER', 'SNU1_STOMACH', 'SNU201_CENTRAL_NERVOUS_SYSTEM',\n",
       "       'SNU213_PANCREAS', 'SNU216_STOMACH', 'SNU245_BILIARY_TRACT',\n",
       "       'SNU283_LARGE_INTESTINE', 'SNU308_BILIARY_TRACT', 'SNU324_PANCREAS',\n",
       "       'SNU349_KIDNEY', 'SNU387_LIVER', 'SNU398_LIVER',\n",
       "       'SNU407_LARGE_INTESTINE', 'SNU410_PANCREAS', 'SNU423_LIVER',\n",
       "       'SNU449_LIVER', 'SNU466_CENTRAL_NERVOUS_SYSTEM',\n",
       "       'SNU46_UPPER_AERODIGESTIVE_TRACT', 'SNU475_LIVER',\n",
       "       'SNU478_BILIARY_TRACT', 'SNU489_CENTRAL_NERVOUS_SYSTEM',\n",
       "       'SNU503_LARGE_INTESTINE', 'SNU520_STOMACH', 'SNU5_STOMACH',\n",
       "       'SNU601_STOMACH', 'SNU61_LARGE_INTESTINE', 'SNU620_STOMACH',\n",
       "       'SNU626_CENTRAL_NERVOUS_SYSTEM', 'SNU668_STOMACH',\n",
       "       'SNU685_ENDOMETRIUM', 'SNU719_STOMACH',\n",
       "       'SNU738_CENTRAL_NERVOUS_SYSTEM', 'SNU761_LIVER',\n",
       "       'SNU81_LARGE_INTESTINE', 'SNU840_OVARY', 'SNU878_LIVER',\n",
       "       'SNU886_LIVER', 'SNU899_UPPER_AERODIGESTIVE_TRACT',\n",
       "       'SNUC1_LARGE_INTESTINE', 'SNUC2A_LARGE_INTESTINE',\n",
       "       'SNUC4_LARGE_INTESTINE', 'SNUC5_LARGE_INTESTINE', 'SQ1_LUNG',\n",
       "       'SR786_HAEMATOPOIETIC_AND_LYMPHOID_TISSUE',\n",
       "       'ST486_HAEMATOPOIETIC_AND_LYMPHOID_TISSUE', 'SU8686_PANCREAS',\n",
       "       'SUDHL10_HAEMATOPOIETIC_AND_LYMPHOID_TISSUE',\n",
       "       'SUDHL1_HAEMATOPOIETIC_AND_LYMPHOID_TISSUE',\n",
       "       'SUDHL4_HAEMATOPOIETIC_AND_LYMPHOID_TISSUE',\n",
       "       'SUDHL5_HAEMATOPOIETIC_AND_LYMPHOID_TISSUE',\n",
       "       'SUDHL6_HAEMATOPOIETIC_AND_LYMPHOID_TISSUE',\n",
       "       'SUDHL8_HAEMATOPOIETIC_AND_LYMPHOID_TISSUE', 'SUIT2_PANCREAS',\n",
       "       'SUPB15_HAEMATOPOIETIC_AND_LYMPHOID_TISSUE',\n",
       "       'SUPHD1_HAEMATOPOIETIC_AND_LYMPHOID_TISSUE',\n",
       "       'SUPM2_HAEMATOPOIETIC_AND_LYMPHOID_TISSUE',\n",
       "       'SUPT11_HAEMATOPOIETIC_AND_LYMPHOID_TISSUE',\n",
       "       'SUPT1_HAEMATOPOIETIC_AND_LYMPHOID_TISSUE',\n",
       "       'SW1088_CENTRAL_NERVOUS_SYSTEM', 'SW1116_LARGE_INTESTINE',\n",
       "       'SW1271_LUNG', 'SW1353_BONE', 'SW1417_LARGE_INTESTINE',\n",
       "       'SW1463_LARGE_INTESTINE', 'SW1573_LUNG', 'SW1710_URINARY_TRACT',\n",
       "       'SW1783_CENTRAL_NERVOUS_SYSTEM', 'SW1990_PANCREAS',\n",
       "       'SW403_LARGE_INTESTINE', 'SW480_LARGE_INTESTINE',\n",
       "       'SW48_LARGE_INTESTINE', 'SW579_THYROID', 'SW620_LARGE_INTESTINE',\n",
       "       'SW780_URINARY_TRACT', 'SW837_LARGE_INTESTINE', 'SW900_LUNG',\n",
       "       'SW948_LARGE_INTESTINE', 'T173_BONE', 'T24_URINARY_TRACT',\n",
       "       'T3M4_PANCREAS', 'T47D_BREAST', 'T84_LARGE_INTESTINE',\n",
       "       'T98G_CENTRAL_NERVOUS_SYSTEM',\n",
       "       'TALL1_HAEMATOPOIETIC_AND_LYMPHOID_TISSUE', 'TC71_BONE',\n",
       "       'TCCPAN2_PANCREAS', 'TCCSUP_URINARY_TRACT', 'TE10_OESOPHAGUS',\n",
       "       'TE11_OESOPHAGUS', 'TE14_OESOPHAGUS', 'TE15_OESOPHAGUS',\n",
       "       'TE1_OESOPHAGUS', 'TE441T_SOFT_TISSUE', 'TE4_OESOPHAGUS',\n",
       "       'TE5_OESOPHAGUS', 'TE617T_SOFT_TISSUE', 'TE6_OESOPHAGUS',\n",
       "       'TE8_OESOPHAGUS', 'TE9_OESOPHAGUS', 'TEN_ENDOMETRIUM',\n",
       "       'TF1_HAEMATOPOIETIC_AND_LYMPHOID_TISSUE', 'TGBC11TKB_STOMACH',\n",
       "       'THP1_HAEMATOPOIETIC_AND_LYMPHOID_TISSUE',\n",
       "       'TM31_CENTRAL_NERVOUS_SYSTEM',\n",
       "       'TO175T_HAEMATOPOIETIC_AND_LYMPHOID_TISSUE',\n",
       "       'TOLEDO_HAEMATOPOIETIC_AND_LYMPHOID_TISSUE', 'TOV112D_OVARY',\n",
       "       'TOV21G_OVARY', 'TT2609C02_THYROID', 'TT_OESOPHAGUS', 'TT_THYROID',\n",
       "       'TUHR10TKB_KIDNEY', 'TUHR14TKB_KIDNEY', 'TUHR4TKB_KIDNEY',\n",
       "       'TYKNU_OVARY', 'U118MG_CENTRAL_NERVOUS_SYSTEM',\n",
       "       'U138MG_CENTRAL_NERVOUS_SYSTEM', 'U251MG_CENTRAL_NERVOUS_SYSTEM',\n",
       "       'U266B1_HAEMATOPOIETIC_AND_LYMPHOID_TISSUE', 'U2OS_BONE',\n",
       "       'U87MG_CENTRAL_NERVOUS_SYSTEM',\n",
       "       'U937_HAEMATOPOIETIC_AND_LYMPHOID_TISSUE', 'UACC257_SKIN',\n",
       "       'UACC62_SKIN', 'UACC812_BREAST', 'UACC893_BREAST',\n",
       "       'UMUC1_URINARY_TRACT', 'UMUC3_URINARY_TRACT',\n",
       "       'UT7_HAEMATOPOIETIC_AND_LYMPHOID_TISSUE', 'VCAP_PROSTATE',\n",
       "       'VMCUB1_URINARY_TRACT', 'VMRCRCW_KIDNEY', 'VMRCRCZ_KIDNEY',\n",
       "       'WM115_SKIN', 'WM1799_SKIN', 'WM2664_SKIN', 'WM793_SKIN',\n",
       "       'WM88_SKIN', 'WM983B_SKIN',\n",
       "       'WSUDLCL2_HAEMATOPOIETIC_AND_LYMPHOID_TISSUE', 'YAPC_PANCREAS',\n",
       "       'YD10B_UPPER_AERODIGESTIVE_TRACT', 'YD15_SALIVARY_GLAND',\n",
       "       'YD38_UPPER_AERODIGESTIVE_TRACT', 'YD8_UPPER_AERODIGESTIVE_TRACT',\n",
       "       'YH13_CENTRAL_NERVOUS_SYSTEM', 'YKG1_CENTRAL_NERVOUS_SYSTEM',\n",
       "       'YMB1_BREAST', 'ZR751_BREAST', 'ZR7530_BREAST',\n",
       "       'ALLSIL_HAEMATOPOIETIC_AND_LYMPHOID_TISSUE',\n",
       "       'COLO775_HAEMATOPOIETIC_AND_LYMPHOID_TISSUE', 'CORL51_LUNG',\n",
       "       'DM3_PLEURA', 'EVSAT_BREAST', 'FTC238_THYROID', 'HMC18_BREAST',\n",
       "       'HS571T_OVARY', 'LC1F_LUNG', 'MOGGCCM_CENTRAL_NERVOUS_SYSTEM',\n",
       "       'MOGGUVW_CENTRAL_NERVOUS_SYSTEM', 'NCIH3255_LUNG',\n",
       "       'OCILY10_HAEMATOPOIETIC_AND_LYMPHOID_TISSUE', 'ONCODG1_OVARY',\n",
       "       'OSRC2_KIDNEY', 'SNU1197_LARGE_INTESTINE', 'SNU8_OVARY',\n",
       "       'TE125T_SOFT_TISSUE', 'TE159T_SOFT_TISSUE', 'VMRCLCD_LUNG',\n",
       "       'VMRCLCP_LUNG', 'GRM_SKIN', 'HLC1_LUNG',\n",
       "       'KARPAS422_HAEMATOPOIETIC_AND_LYMPHOID_TISSUE', 'MESSA_SOFT_TISSUE'], dtype=object)"
      ]
     },
     "execution_count": 17,
     "metadata": {},
     "output_type": "execute_result"
    }
   ],
   "source": [
    "d2['CELL_LINE_ID'].unique()"
   ]
  },
  {
   "cell_type": "code",
   "execution_count": 15,
   "metadata": {
    "collapsed": false
   },
   "outputs": [
    {
     "data": {
      "text/plain": [
       "array(['786_0', 'A498', 'A549', 'ACHN', 'BT_549', 'CAKI_1', 'CCRF_CEM',\n",
       "       'COLO205', 'DU_145', 'EKVX', 'HCC_2998', 'HCT_116', 'HCT_15',\n",
       "       'HL_60', 'HOP_62', 'HOP_92', 'HS578T', 'HT29', 'IGROV1', 'KM12',\n",
       "       'K_562', 'LOXIMVI', 'M14', 'MALME_3M', 'MCF7', 'MDA_MB_231',\n",
       "       'MDA_MB_435', 'MDA_N', 'MOLT_4', 'NCI_ADR_RES', 'NCI_H226',\n",
       "       'NCI_H23', 'NCI_H322M', 'NCI_H460', 'NCI_H522', 'OVCAR_3',\n",
       "       'OVCAR_4', 'OVCAR_5', 'OVCAR_8', 'PC_3', 'RPMI_8226', 'RXF_393',\n",
       "       'SK_MEL_2', 'SK_MEL_28', 'SK_MEL_5', 'SK_OV_3', 'SN12C', 'SR',\n",
       "       'SW_620', 'T47D', 'TK_10', 'UACC_257', 'UACC_62', 'UO_31'], dtype=object)"
      ]
     },
     "execution_count": 15,
     "metadata": {},
     "output_type": "execute_result"
    }
   ],
   "source": [
    "d3['CELL_LINE_ID'].unique()"
   ]
  },
  {
   "cell_type": "code",
   "execution_count": 19,
   "metadata": {
    "collapsed": false
   },
   "outputs": [
    {
     "data": {
      "text/html": [
       "<div>\n",
       "<table border=\"1\" class=\"dataframe\">\n",
       "  <thead>\n",
       "    <tr style=\"text-align: right;\">\n",
       "      <th></th>\n",
       "      <th>MGDS_ID</th>\n",
       "    </tr>\n",
       "  </thead>\n",
       "  <tbody>\n",
       "  </tbody>\n",
       "</table>\n",
       "</div>"
      ],
      "text/plain": [
       "Empty DataFrame\n",
       "Columns: [MGDS_ID]\n",
       "Index: []"
      ]
     },
     "execution_count": 19,
     "metadata": {},
     "output_type": "execute_result"
    }
   ],
   "source": [
    "d_cl_map = pd.DataFrame({'MGDS_ID': []})\n",
    "d_cl_map"
   ]
  },
  {
   "cell_type": "code",
   "execution_count": null,
   "metadata": {
    "collapsed": true
   },
   "outputs": [],
   "source": [
    "d_add = pd.DataFrame({\n",
    "    'ID': [1, 2], \n",
    "    'MGDS_ID': ['NCIH460', 'NCIH522', 'NCIH460', 'NCIH522'], \n",
    "    'SOURCE': ['nci60_v2', 'nci60_v2'], \n",
    "    'VALUE': ['NCI_H460', 'NCI_H522']\n",
    "})"
   ]
  },
  {
   "cell_type": "code",
   "execution_count": 20,
   "metadata": {
    "collapsed": false
   },
   "outputs": [
    {
     "data": {
      "text/plain": [
       "{'Stats': {'All': '1949 (100%)',\n",
       "  'InBoth': '0 (0.00%)',\n",
       "  'InOnlyOne': '1949 (100.00%)',\n",
       "  'InOnlySet1': '982 (50.38%)',\n",
       "  'InOnlySet2': '967 (49.62%)'}}"
      ]
     },
     "execution_count": 20,
     "metadata": {},
     "output_type": "execute_result"
    }
   ],
   "source": [
    "set_utils.analyze_sets(d1['CELL_LINE_ID'].unique(), d2['CELL_LINE_ID'].unique())"
   ]
  },
  {
   "cell_type": "code",
   "execution_count": 7,
   "metadata": {
    "collapsed": false
   },
   "outputs": [
    {
     "data": {
      "text/plain": [
       "DATA_TYPE         SOURCE  \n",
       "gene-copy-number  ccle_v1     20279095\n",
       "                  gdsc_v2     46036116\n",
       "                  nci60_v2     1238451\n",
       "gene-exome-seq    ccle_v1        53541\n",
       "                  gdsc_v2       437544\n",
       "gene-expression   ccle_v1     15512614\n",
       "                  gdsc_v2     17749961\n",
       "                  nci60_v2     1207909\n",
       "dtype: int64"
      ]
     },
     "execution_count": 7,
     "metadata": {},
     "output_type": "execute_result"
    }
   ],
   "source": [
    "d_id.groupby(['DATA_TYPE', 'SOURCE']).size()"
   ]
  },
  {
   "cell_type": "code",
   "execution_count": null,
   "metadata": {
    "collapsed": true
   },
   "outputs": [],
   "source": []
  }
 ],
 "metadata": {
  "kernelspec": {
   "display_name": "Python 3",
   "language": "python",
   "name": "python3"
  },
  "language_info": {
   "codemirror_mode": {
    "name": "ipython",
    "version": 3
   },
   "file_extension": ".py",
   "mimetype": "text/x-python",
   "name": "python",
   "nbconvert_exporter": "python",
   "pygments_lexer": "ipython3",
   "version": "3.5.2"
  }
 },
 "nbformat": 4,
 "nbformat_minor": 0
}
